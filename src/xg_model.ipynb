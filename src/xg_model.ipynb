{
 "cells": [
  {
   "cell_type": "code",
   "execution_count": 5,
   "metadata": {},
   "outputs": [],
   "source": [
    "from statsbomb_data_extraction import Game, fetch_matches_for_season, fetch_all_seasons_for_league\n",
    "from draw_pitch import draw_pitch\n",
    "\n",
    "import pandas as pd\n",
    "import numpy as np\n",
    "import matplotlib.pyplot as plt\n",
    "import altair as alt\n",
    "\n",
    "from sklearn.model_selection import StratifiedShuffleSplit\n",
    "from sklearn.preprocessing import OneHotEncoder\n",
    "from sklearn.pipeline import Pipeline\n",
    "from sklearn.preprocessing import StandardScaler\n",
    "from sklearn.pipeline import FeatureUnion\n",
    "from sklearn.base import BaseEstimator, TransformerMixin\n",
    "\n",
    "from sklearn import tree\n",
    "from sklearn.tree import DecisionTreeClassifier\n",
    "from sklearn.ensemble import RandomForestClassifier\n",
    "from sklearn.model_selection import cross_val_score\n",
    "from sklearn.metrics import precision_score\n",
    "from sklearn.linear_model import LogisticRegression"
   ]
  },
  {
   "cell_type": "markdown",
   "metadata": {},
   "source": [
    "# xG Model"
   ]
  },
  {
   "cell_type": "markdown",
   "metadata": {},
   "source": [
    "The concept of \"Expected Goals\" (xG for short), is a widely used metric among soccer analysts and fans alike. In fact, the idea of xG has infiltrated the mainstream in recent years, to the point where now, even most casual fans have probably heard of the term. The xG metric essentially describes how many goals we'd expect a team to score based on the chances it creates. Each shot a team takes can be assigned an xG value, ranging from 0 to 1, which represents the probability of that shot resulting in a goal. \n",
    "\n",
    "The xG metric helps provide objectivity in the analysis of a soccer match, since actual score lines can often be misleading given that luck plays such a large role in the game. If we can see that a team dominated a game by creating many more chances and generating a much larger xG than the other team, this tells us they were probably better on that day, regardless of what the final scoreline may say. Additionally, analyzing xG can help inform play styles, in terms of determining what type of shots are better to take to maximize the probability of scoring a goal.  \n",
    "\n",
    "This notebook consists in a comprehensive overview of an xG model created using Statsbomb public data. More specifically, the model is creating using data from Barcelona's La Liga matches from 2004 to 2016."
   ]
  },
  {
   "cell_type": "markdown",
   "metadata": {},
   "source": [
    "## Notebook Overview\n",
    "\n",
    "<font size = 4>\n",
    "\n",
    "1. Fetching data \n",
    "    - 1.1 Getting data from Statsbomb\n",
    "    - 1.2 Extracting shots data and attributes\n",
    "    \n",
    "    \n",
    "2. Data exploration\n",
    "    - 2.1 Creating new variables\n",
    "    - 2.2 Separate test and training set\n",
    "    - 2.3 Visualizing relationships\n",
    "\n",
    "    \n",
    "3. Data preprocessing for ML models\n",
    "    - 2.1 Categorical variables\n",
    "    - 2.2 Numerical variables\n",
    "    - 2.3 Combined pipeline\n",
    "    \n",
    "    \n",
    "4. Models\n",
    "    - 4.1 Decision Tree\n",
    "    - 4.2 Random Forest"
   ]
  },
  {
   "cell_type": "markdown",
   "metadata": {},
   "source": [
    "## 1. Fetching data"
   ]
  },
  {
   "cell_type": "markdown",
   "metadata": {},
   "source": [
    "### 1.1 Getting data from Statsbomb. "
   ]
  },
  {
   "cell_type": "markdown",
   "metadata": {},
   "source": [
    "To start off, I wrote some functions in the `statsbomb_data_extraction.py` file to get data from statsbomb in the form of json files for each game in a desired season / league. In the cell below, I call `fetch_matches_for_league` with argument **11**, as this corresponds to the La Liga comp in Statsbomb public data. (See [here](https://github.com/statsbomb/open-data/blob/master/data/competitions.json))."
   ]
  },
  {
   "cell_type": "code",
   "execution_count": 6,
   "metadata": {},
   "outputs": [
    {
     "name": "stdout",
     "output_type": "stream",
     "text": [
      "Getting season 2018/2019...\n",
      "Getting season 2017/2018...\n",
      "Getting season 2016/2017...\n",
      "Getting season 2015/2016...\n",
      "Getting season 2014/2015...\n",
      "Getting season 2013/2014...\n",
      "Getting season 2012/2013...\n",
      "Getting season 2011/2012...\n",
      "Getting season 2010/2011...\n",
      "Getting season 2009/2010...\n",
      "Getting season 2008/2009...\n",
      "Getting season 2007/2008...\n",
      "Getting season 2006/2007...\n",
      "Getting season 2005/2006...\n",
      "Getting season 2004/2005...\n",
      "Done\n"
     ]
    }
   ],
   "source": [
    "la_liga = fetch_all_seasons_for_league(11)"
   ]
  },
  {
   "cell_type": "markdown",
   "metadata": {},
   "source": [
    "So we have a data structure, called `la_liga`, which has league season names as the keys of the outer dictionary. The values are dictionaries, which map game ids (as specified by statsbomb) to `Game` objects (see `statsbomb_data_extraction.py` file for Game object definition)."
   ]
  },
  {
   "cell_type": "markdown",
   "metadata": {},
   "source": [
    "### 1.2 Getting shots data "
   ]
  },
  {
   "cell_type": "markdown",
   "metadata": {},
   "source": [
    "Now I will write some functions to parse through the json of each game, and extract all the shots, as well as features related to the shots. In particular, these features are: \n",
    "\n",
    "- **play pattern**: pattern of play which led to the shot\n",
    "- **x start location**: x-location of the shot \n",
    "- **y start location**: y-location of the shot \n",
    "- **duration**: duration of the shot\n",
    "- **outcome**: result of the shot\n",
    "- **technique**: technique with which the shot was hit\n",
    "- **first time**: whether the shot was hit for time or not\n",
    "- **x gk position**: x-location of the gk when shot was taken\n",
    "- **y gk position**: y-location of the gk when shot was taken\n",
    "- **type of shot**: whether shot was from open play or set piece (and type of set piece specified)\n",
    "- **num opponents within 5 yards**: number of opponents which were within 5 yards of shot location\n",
    "- **num opponents between shot and goal**: number of opponents which were between the shot location, and the lines connecting shot location and the two posts\n",
    "\n",
    "All the variables listed above can be extracted by parsing through the json directly, except for the last one. Therefore, below, I will write a function to get this variable."
   ]
  },
  {
   "cell_type": "code",
   "execution_count": 7,
   "metadata": {},
   "outputs": [],
   "source": [
    "def check_player_btwn_shot_and_goal(x_shot, y_shot, x_player, y_player):\n",
    "    \"\"\"\n",
    "    Function which checks whether a player in a stats bomb freeze frame is between the shot location, and the two lines\n",
    "    connecting the shot location to the posts. See here for coordinate specifications: \n",
    "    https://github.com/statsbomb/open-data/blob/master/doc/StatsBomb%20Open%20Data%20Specification%20v1.1.pdf\n",
    "    \n",
    "    Arguments:\n",
    "    x_shot    x-location of shot\n",
    "    y_shot    y-location of shot\n",
    "    x_player  x-location of player\n",
    "    y_player  y-location of player    \n",
    "    \"\"\"\n",
    "    x_diff = x_player - x_shot\n",
    "    y_diff = y_player - y_shot\n",
    "    \n",
    "    if 120 - x_shot == 0:\n",
    "        return False\n",
    "    \n",
    "    slope_1 = (36 - y_shot) / (120 - x_shot)\n",
    "    slope_2 = (44 - y_shot) / (120 - x_shot) \n",
    "                    \n",
    "    return (x_diff >= 0) and ((y_shot + slope_1 * x_diff) < y_player < (y_shot + slope_2 * x_diff))\n",
    "\n",
    "\n",
    "def plot_shot_freeze_frame(game_json, shot_id):\n",
    "    player_pos_list_x = []\n",
    "    player_pos_list_y = []\n",
    "    x_shot = 0\n",
    "    y_shot = 0\n",
    "    \n",
    "    for events in game_json:\n",
    "        if events['id'] == shot_id:\n",
    "            x_shot = events['location'][0]\n",
    "            y_shot = events['location'][1]\n",
    "        \n",
    "            for players in events['shot']['freeze_frame']:\n",
    "                if (players['teammate'] == False):\n",
    "                    player_pos_list_x.append(players['location'][0])\n",
    "                    player_pos_list_y.append(players['location'][1])\n",
    "            \n",
    "    ax.scatter(player_pos_list_x, player_pos_list_y)\n",
    "    ax.scatter(x_shot, y_shot, s=100)\n",
    "    ax.plot([x_shot, 120], [y_shot,36], color = 'red', linestyle = '--')\n",
    "    ax.plot([x_shot, 120], [y_shot,44], color = 'red', linestyle = '--')"
   ]
  },
  {
   "cell_type": "markdown",
   "metadata": {},
   "source": [
    "Lets call the `plot_shot_freeze_frame` function to visualize the _num opponents between shot and goal_ feature. The shot below would have a value of 2 for this feature."
   ]
  },
  {
   "cell_type": "code",
   "execution_count": 8,
   "metadata": {},
   "outputs": [
    {
     "data": {
      "image/png": "[encoded data removed]",
      "text/plain": [
       "<Figure size 864x576 with 1 Axes>"
      ]
     },
     "metadata": {
      "needs_background": "light"
     },
     "output_type": "display_data"
    }
   ],
   "source": [
    "fig, ax = plt.subplots(1, 1, figsize=(12,8))\n",
    "draw_pitch(axis=ax, rotate=True)\n",
    "plot_shot_freeze_frame(la_liga[\"2018/2019\"]['16215'].json_file, \"6c30cac4-6f3b-4cd0-9913-26137b058416\")"
   ]
  },
  {
   "cell_type": "markdown",
   "metadata": {},
   "source": [
    "Now I will write a function which takes a json file for a given game, and returns a data frame containing all shots taken along with the variables related to that shot. Then I will write two wrapper function: `get_shots_for_season` which calls `get_shots_for_game` on all game files for that season, and `get_shots_for_league`, which does a similar thing, but for each game across every season we have for that league."
   ]
  },
  {
   "cell_type": "code",
   "execution_count": 112,
   "metadata": {},
   "outputs": [],
   "source": [
    "def get_shots_for_game(game_json):\n",
    "    \"\"\"\n",
    "    Function which parses through a game JSON and return a data frame containing all shots taken in that game with several features \n",
    "    related to that shot\n",
    "    \n",
    "    Arguments\n",
    "    game_json - event level json for a game\n",
    "    \"\"\"\n",
    "    \n",
    "    #features for each shot, which will be the columns of our data frame\n",
    "    \n",
    "    shot_id_list = []\n",
    "    x_start_location_list = []\n",
    "    y_start_location_list = []\n",
    "    play_pattern_list = []\n",
    "    duration_list = []\n",
    "    outcome_list = []\n",
    "    technique_list = []\n",
    "    type_shot_list = []\n",
    "    first_time_list = []\n",
    "    x_gk_pos_list = []\n",
    "    y_gk_pos_list = []\n",
    "    num_opponents_5_yards_list = []\n",
    "    num_opponents_between_goal_list = []\n",
    "    statsbomb_xg = [] #just to compare to my model\n",
    "    \n",
    "    #-------------------------#\n",
    "\n",
    "    for events in game_json:\n",
    "    \n",
    "        if events['type']['name'] == 'Shot':\n",
    "        \n",
    "            #get data for first 8 features\n",
    "            shot_id = events['id']\n",
    "            x_start_location = events['location'][0]\n",
    "            y_start_location = events['location'][1]\n",
    "            play_pattern = events['play_pattern']['name']\n",
    "            duration = events['duration']\n",
    "            outcome = events['shot']['outcome']['name'] \n",
    "            technique = events['shot']['technique']['name']\n",
    "            type_shot = events['shot']['type']['name']\n",
    "            xg = events['shot']['statsbomb_xg']\n",
    "        \n",
    "            #check if json shot has a first_time attribute, if not set first_time to False\n",
    "            if 'first_time' in events['shot']:\n",
    "                first_time = events['shot']['first_time']\n",
    "            else:\n",
    "                first_time = False\n",
    "            \n",
    "            #check if shot has a freeze_frame dictionary\n",
    "            if \"freeze_frame\" in events[\"shot\"]:\n",
    "                \n",
    "                num_opponents_5_yards = 0\n",
    "                num_opponents_between_goal = 0\n",
    "                \n",
    "                for player in events[\"shot\"][\"freeze_frame\"]:\n",
    "                    x_player = player['location'][0]\n",
    "                    y_player = player['location'][1]\n",
    "                    \n",
    "                    #count how many opponents were within 5 yards of player when shot was taken\n",
    "                    if ((x_start_location - x_player)**2 + (y_start_location - y_player)**2) <= 25 and (player['teammate'] == False):\n",
    "                        if (player['position']['name'] != 'Goalkeeper'):\n",
    "                            num_opponents_5_yards += 1\n",
    "                    \n",
    "                    #count how many opponents were between shot and goal\n",
    "                    if (player['teammate'] == False) and (player['position']['name'] != 'Goalkeeper'):\n",
    "                        if check_player_btwn_shot_and_goal(x_start_location, y_start_location, x_player, y_player):\n",
    "                            num_opponents_between_goal += 1\n",
    "                    \n",
    "                    #get position of opponent's goalkeeper \n",
    "                    if ((player['position']['name'] == 'Goalkeeper') and (player['teammate'] == False)):\n",
    "                        x_gk_pos = player['location'][0]\n",
    "                        y_gk_pos = player['location'][1]\n",
    "            \n",
    "            #if there is no freeze frame, assume goalkeeper is at center of goal, and 0 opponenets around shot location\n",
    "            else:\n",
    "                num_opponents_between_goal = 0\n",
    "                num_opponents_5_yards = 0\n",
    "                x_gk_pos = 120\n",
    "                y_gk_pos = 40            \n",
    "            \n",
    "            #append data on shot to relevant list (column)\n",
    "            shot_id_list.append(shot_id)\n",
    "            play_pattern_list.append(play_pattern)\n",
    "            x_start_location_list.append(x_start_location)\n",
    "            y_start_location_list.append(y_start_location)\n",
    "            duration_list.append(duration)\n",
    "            outcome_list.append(outcome)\n",
    "            technique_list.append(technique)\n",
    "            first_time_list.append(first_time)\n",
    "            x_gk_pos_list.append(x_gk_pos)\n",
    "            y_gk_pos_list.append(y_gk_pos)\n",
    "            type_shot_list.append(type_shot)\n",
    "            num_opponents_5_yards_list.append(num_opponents_5_yards)\n",
    "            num_opponents_between_goal_list.append(num_opponents_between_goal)\n",
    "            statsbomb_xg.append(xg)\n",
    "        \n",
    "    #create data frame with column features\n",
    "    shot_df = pd.DataFrame({\n",
    "                       \"shot id\" : shot_id_list,\n",
    "                       \"play pattern\" : play_pattern_list, \n",
    "                       \"x start location\" : x_start_location_list, \n",
    "                       \"y start location\" : y_start_location_list,\n",
    "                       \"duration\" : duration_list, \n",
    "                       \"outcome\" : outcome_list, \n",
    "                       \"technique\" : technique_list, \n",
    "                       \"first time\" : first_time_list,\n",
    "                       \"x gk position\" : x_gk_pos_list,\n",
    "                       \"y gk position\" : y_gk_pos_list,\n",
    "                       \"type of shot\" : type_shot_list,\n",
    "                       \"num opponents within 5 yards\" : num_opponents_5_yards_list,\n",
    "                       \"num opponents between shot and goal\" : num_opponents_between_goal_list,\n",
    "                       \"statsbomb xg\" : statsbomb_xg\n",
    "                       })\n",
    "    \n",
    "    return shot_df.set_index(\"shot id\")"
   ]
  },
  {
   "cell_type": "markdown",
   "metadata": {},
   "source": [
    "**Wrapper functions:**"
   ]
  },
  {
   "cell_type": "code",
   "execution_count": 113,
   "metadata": {},
   "outputs": [],
   "source": [
    "def get_shots_for_season(season_dict):\n",
    "    \"\"\"\n",
    "    Takes a dictionary whichs maps game ids to Game objects, and calls get_shots_for_game() on each one.\n",
    "    \n",
    "    Arguments:\n",
    "    season_dict - dictionary which maps game ids (string, as specified by statsbomb) to Game objects (defined above)\n",
    "    \"\"\"\n",
    "    total_shot_df = pd.DataFrame()\n",
    "    \n",
    "    for keys, values in season_dict.items():\n",
    "        shot_df = get_shots_for_game(values.json_file)\n",
    "        total_shot_df = total_shot_df.append(shot_df)\n",
    "        \n",
    "    return total_shot_df\n",
    "\n",
    "\n",
    "def get_shots_for_league(league_dict):\n",
    "    \"\"\"\n",
    "    Takes a dictionary which maps season names to season dictionaries for a league, and calls get_shots_for_game() on each game.\n",
    "    \n",
    "    Arguments:\n",
    "    league_dict - dictionary which maps season names to another dictionary. This inner dictionary maps \n",
    "    game ids (as specified by statsbomb) to Game objects (defined above)\n",
    "    \"\"\"\n",
    "    total_shot_df = pd.DataFrame()\n",
    "    \n",
    "    for keys, values in league_dict.items():\n",
    "        shot_df = get_shots_for_season(values)\n",
    "        total_shot_df = total_shot_df.append(shot_df)\n",
    "        print(\"Getting shots for \" + keys)\n",
    "    \n",
    "    print(\"Done.\")\n",
    "    \n",
    "    return total_shot_df"
   ]
  },
  {
   "cell_type": "code",
   "execution_count": 145,
   "metadata": {},
   "outputs": [
    {
     "name": "stdout",
     "output_type": "stream",
     "text": [
      "Getting shots for 2018/2019\n",
      "Getting shots for 2017/2018\n",
      "Getting shots for 2016/2017\n",
      "Getting shots for 2015/2016\n",
      "Getting shots for 2014/2015\n",
      "Getting shots for 2013/2014\n",
      "Getting shots for 2012/2013\n",
      "Getting shots for 2011/2012\n",
      "Getting shots for 2010/2011\n",
      "Getting shots for 2009/2010\n",
      "Getting shots for 2008/2009\n",
      "Getting shots for 2007/2008\n",
      "Getting shots for 2006/2007\n",
      "Getting shots for 2005/2006\n",
      "Getting shots for 2004/2005\n",
      "Done.\n"
     ]
    }
   ],
   "source": [
    "all_la_liga_shots = get_shots_for_league(la_liga)"
   ]
  },
  {
   "cell_type": "markdown",
   "metadata": {},
   "source": [
    "So we have our data frame with all shots taken in Barca games from 2004/05 to 2015/16."
   ]
  },
  {
   "cell_type": "code",
   "execution_count": 146,
   "metadata": {},
   "outputs": [
    {
     "data": {
      "text/html": [
       "<div>\n",
       "<style scoped>\n",
       "    .dataframe tbody tr th:only-of-type {\n",
       "        vertical-align: middle;\n",
       "    }\n",
       "\n",
       "    .dataframe tbody tr th {\n",
       "        vertical-align: top;\n",
       "    }\n",
       "\n",
       "    .dataframe thead th {\n",
       "        text-align: right;\n",
       "    }\n",
       "</style>\n",
       "<table border=\"1\" class=\"dataframe\">\n",
       "  <thead>\n",
       "    <tr style=\"text-align: right;\">\n",
       "      <th></th>\n",
       "      <th>play pattern</th>\n",
       "      <th>x start location</th>\n",
       "      <th>y start location</th>\n",
       "      <th>duration</th>\n",
       "      <th>outcome</th>\n",
       "      <th>technique</th>\n",
       "      <th>first time</th>\n",
       "      <th>x gk position</th>\n",
       "      <th>y gk position</th>\n",
       "      <th>type of shot</th>\n",
       "      <th>num opponents within 5 yards</th>\n",
       "      <th>num opponents between shot and goal</th>\n",
       "      <th>statsbomb xg</th>\n",
       "    </tr>\n",
       "    <tr>\n",
       "      <th>shot id</th>\n",
       "      <th></th>\n",
       "      <th></th>\n",
       "      <th></th>\n",
       "      <th></th>\n",
       "      <th></th>\n",
       "      <th></th>\n",
       "      <th></th>\n",
       "      <th></th>\n",
       "      <th></th>\n",
       "      <th></th>\n",
       "      <th></th>\n",
       "      <th></th>\n",
       "      <th></th>\n",
       "    </tr>\n",
       "  </thead>\n",
       "  <tbody>\n",
       "    <tr>\n",
       "      <th>6c30cac4-6f3b-4cd0-9913-26137b058416</th>\n",
       "      <td>From Throw In</td>\n",
       "      <td>101.0</td>\n",
       "      <td>22.0</td>\n",
       "      <td>1.179654</td>\n",
       "      <td>Saved</td>\n",
       "      <td>Normal</td>\n",
       "      <td>False</td>\n",
       "      <td>118.6</td>\n",
       "      <td>37.9</td>\n",
       "      <td>Open Play</td>\n",
       "      <td>2</td>\n",
       "      <td>2</td>\n",
       "      <td>0.020549</td>\n",
       "    </tr>\n",
       "    <tr>\n",
       "      <th>67cfa552-952c-4f72-a33a-0dd6af217a66</th>\n",
       "      <td>From Throw In</td>\n",
       "      <td>113.7</td>\n",
       "      <td>39.9</td>\n",
       "      <td>1.226969</td>\n",
       "      <td>Saved Off Target</td>\n",
       "      <td>Volley</td>\n",
       "      <td>True</td>\n",
       "      <td>117.2</td>\n",
       "      <td>39.1</td>\n",
       "      <td>Open Play</td>\n",
       "      <td>1</td>\n",
       "      <td>0</td>\n",
       "      <td>0.363959</td>\n",
       "    </tr>\n",
       "    <tr>\n",
       "      <th>8c95e369-ec54-4a84-9d3e-51abb6f38e6e</th>\n",
       "      <td>From Free Kick</td>\n",
       "      <td>95.6</td>\n",
       "      <td>44.4</td>\n",
       "      <td>1.046942</td>\n",
       "      <td>Goal</td>\n",
       "      <td>Normal</td>\n",
       "      <td>False</td>\n",
       "      <td>119.5</td>\n",
       "      <td>39.0</td>\n",
       "      <td>Free Kick</td>\n",
       "      <td>0</td>\n",
       "      <td>5</td>\n",
       "      <td>0.127337</td>\n",
       "    </tr>\n",
       "    <tr>\n",
       "      <th>2ae506b9-0601-460b-b91d-802296120161</th>\n",
       "      <td>From Free Kick</td>\n",
       "      <td>94.0</td>\n",
       "      <td>46.1</td>\n",
       "      <td>1.375915</td>\n",
       "      <td>Saved</td>\n",
       "      <td>Normal</td>\n",
       "      <td>False</td>\n",
       "      <td>119.1</td>\n",
       "      <td>39.5</td>\n",
       "      <td>Free Kick</td>\n",
       "      <td>0</td>\n",
       "      <td>4</td>\n",
       "      <td>0.090603</td>\n",
       "    </tr>\n",
       "    <tr>\n",
       "      <th>10dc9818-a8d2-47f9-b219-9bc87d7b22e6</th>\n",
       "      <td>From Free Kick</td>\n",
       "      <td>104.1</td>\n",
       "      <td>22.2</td>\n",
       "      <td>0.116586</td>\n",
       "      <td>Blocked</td>\n",
       "      <td>Normal</td>\n",
       "      <td>False</td>\n",
       "      <td>118.4</td>\n",
       "      <td>37.4</td>\n",
       "      <td>Open Play</td>\n",
       "      <td>3</td>\n",
       "      <td>1</td>\n",
       "      <td>0.022751</td>\n",
       "    </tr>\n",
       "    <tr>\n",
       "      <th>...</th>\n",
       "      <td>...</td>\n",
       "      <td>...</td>\n",
       "      <td>...</td>\n",
       "      <td>...</td>\n",
       "      <td>...</td>\n",
       "      <td>...</td>\n",
       "      <td>...</td>\n",
       "      <td>...</td>\n",
       "      <td>...</td>\n",
       "      <td>...</td>\n",
       "      <td>...</td>\n",
       "      <td>...</td>\n",
       "      <td>...</td>\n",
       "    </tr>\n",
       "    <tr>\n",
       "      <th>da65c5c6-ce8f-46d3-b0b4-17fb1c9e31c3</th>\n",
       "      <td>From Free Kick</td>\n",
       "      <td>93.8</td>\n",
       "      <td>40.1</td>\n",
       "      <td>1.278336</td>\n",
       "      <td>Off T</td>\n",
       "      <td>Normal</td>\n",
       "      <td>True</td>\n",
       "      <td>115.2</td>\n",
       "      <td>42.1</td>\n",
       "      <td>Open Play</td>\n",
       "      <td>0</td>\n",
       "      <td>1</td>\n",
       "      <td>0.042606</td>\n",
       "    </tr>\n",
       "    <tr>\n",
       "      <th>805dd74f-323c-412d-9b77-9c54c1a60f66</th>\n",
       "      <td>Regular Play</td>\n",
       "      <td>110.1</td>\n",
       "      <td>40.2</td>\n",
       "      <td>0.671461</td>\n",
       "      <td>Saved</td>\n",
       "      <td>Normal</td>\n",
       "      <td>False</td>\n",
       "      <td>119.4</td>\n",
       "      <td>39.9</td>\n",
       "      <td>Open Play</td>\n",
       "      <td>2</td>\n",
       "      <td>0</td>\n",
       "      <td>0.117359</td>\n",
       "    </tr>\n",
       "    <tr>\n",
       "      <th>4eadd318-25f7-420d-8aa9-53685cece638</th>\n",
       "      <td>From Corner</td>\n",
       "      <td>93.7</td>\n",
       "      <td>48.5</td>\n",
       "      <td>0.946505</td>\n",
       "      <td>Saved</td>\n",
       "      <td>Volley</td>\n",
       "      <td>True</td>\n",
       "      <td>119.3</td>\n",
       "      <td>39.9</td>\n",
       "      <td>Open Play</td>\n",
       "      <td>1</td>\n",
       "      <td>3</td>\n",
       "      <td>0.013930</td>\n",
       "    </tr>\n",
       "    <tr>\n",
       "      <th>723139d5-21a9-49f7-aca6-60cffdc6f6bc</th>\n",
       "      <td>Regular Play</td>\n",
       "      <td>109.9</td>\n",
       "      <td>47.4</td>\n",
       "      <td>0.468700</td>\n",
       "      <td>Blocked</td>\n",
       "      <td>Normal</td>\n",
       "      <td>True</td>\n",
       "      <td>118.7</td>\n",
       "      <td>43.2</td>\n",
       "      <td>Open Play</td>\n",
       "      <td>3</td>\n",
       "      <td>1</td>\n",
       "      <td>0.100666</td>\n",
       "    </tr>\n",
       "    <tr>\n",
       "      <th>6031f8cc-26a6-449c-b455-2d7c301ca005</th>\n",
       "      <td>Regular Play</td>\n",
       "      <td>99.2</td>\n",
       "      <td>34.9</td>\n",
       "      <td>0.984200</td>\n",
       "      <td>Off T</td>\n",
       "      <td>Normal</td>\n",
       "      <td>False</td>\n",
       "      <td>118.8</td>\n",
       "      <td>41.7</td>\n",
       "      <td>Open Play</td>\n",
       "      <td>2</td>\n",
       "      <td>1</td>\n",
       "      <td>0.053242</td>\n",
       "    </tr>\n",
       "  </tbody>\n",
       "</table>\n",
       "<p>11251 rows × 13 columns</p>\n",
       "</div>"
      ],
      "text/plain": [
       "                                        play pattern  x start location  \\\n",
       "shot id                                                                  \n",
       "6c30cac4-6f3b-4cd0-9913-26137b058416   From Throw In             101.0   \n",
       "67cfa552-952c-4f72-a33a-0dd6af217a66   From Throw In             113.7   \n",
       "8c95e369-ec54-4a84-9d3e-51abb6f38e6e  From Free Kick              95.6   \n",
       "2ae506b9-0601-460b-b91d-802296120161  From Free Kick              94.0   \n",
       "10dc9818-a8d2-47f9-b219-9bc87d7b22e6  From Free Kick             104.1   \n",
       "...                                              ...               ...   \n",
       "da65c5c6-ce8f-46d3-b0b4-17fb1c9e31c3  From Free Kick              93.8   \n",
       "805dd74f-323c-412d-9b77-9c54c1a60f66    Regular Play             110.1   \n",
       "4eadd318-25f7-420d-8aa9-53685cece638     From Corner              93.7   \n",
       "723139d5-21a9-49f7-aca6-60cffdc6f6bc    Regular Play             109.9   \n",
       "6031f8cc-26a6-449c-b455-2d7c301ca005    Regular Play              99.2   \n",
       "\n",
       "                                      y start location  duration  \\\n",
       "shot id                                                            \n",
       "6c30cac4-6f3b-4cd0-9913-26137b058416              22.0  1.179654   \n",
       "67cfa552-952c-4f72-a33a-0dd6af217a66              39.9  1.226969   \n",
       "8c95e369-ec54-4a84-9d3e-51abb6f38e6e              44.4  1.046942   \n",
       "2ae506b9-0601-460b-b91d-802296120161              46.1  1.375915   \n",
       "10dc9818-a8d2-47f9-b219-9bc87d7b22e6              22.2  0.116586   \n",
       "...                                                ...       ...   \n",
       "da65c5c6-ce8f-46d3-b0b4-17fb1c9e31c3              40.1  1.278336   \n",
       "805dd74f-323c-412d-9b77-9c54c1a60f66              40.2  0.671461   \n",
       "4eadd318-25f7-420d-8aa9-53685cece638              48.5  0.946505   \n",
       "723139d5-21a9-49f7-aca6-60cffdc6f6bc              47.4  0.468700   \n",
       "6031f8cc-26a6-449c-b455-2d7c301ca005              34.9  0.984200   \n",
       "\n",
       "                                               outcome technique  first time  \\\n",
       "shot id                                                                        \n",
       "6c30cac4-6f3b-4cd0-9913-26137b058416             Saved    Normal       False   \n",
       "67cfa552-952c-4f72-a33a-0dd6af217a66  Saved Off Target    Volley        True   \n",
       "8c95e369-ec54-4a84-9d3e-51abb6f38e6e              Goal    Normal       False   \n",
       "2ae506b9-0601-460b-b91d-802296120161             Saved    Normal       False   \n",
       "10dc9818-a8d2-47f9-b219-9bc87d7b22e6           Blocked    Normal       False   \n",
       "...                                                ...       ...         ...   \n",
       "da65c5c6-ce8f-46d3-b0b4-17fb1c9e31c3             Off T    Normal        True   \n",
       "805dd74f-323c-412d-9b77-9c54c1a60f66             Saved    Normal       False   \n",
       "4eadd318-25f7-420d-8aa9-53685cece638             Saved    Volley        True   \n",
       "723139d5-21a9-49f7-aca6-60cffdc6f6bc           Blocked    Normal        True   \n",
       "6031f8cc-26a6-449c-b455-2d7c301ca005             Off T    Normal       False   \n",
       "\n",
       "                                      x gk position  y gk position  \\\n",
       "shot id                                                              \n",
       "6c30cac4-6f3b-4cd0-9913-26137b058416          118.6           37.9   \n",
       "67cfa552-952c-4f72-a33a-0dd6af217a66          117.2           39.1   \n",
       "8c95e369-ec54-4a84-9d3e-51abb6f38e6e          119.5           39.0   \n",
       "2ae506b9-0601-460b-b91d-802296120161          119.1           39.5   \n",
       "10dc9818-a8d2-47f9-b219-9bc87d7b22e6          118.4           37.4   \n",
       "...                                             ...            ...   \n",
       "da65c5c6-ce8f-46d3-b0b4-17fb1c9e31c3          115.2           42.1   \n",
       "805dd74f-323c-412d-9b77-9c54c1a60f66          119.4           39.9   \n",
       "4eadd318-25f7-420d-8aa9-53685cece638          119.3           39.9   \n",
       "723139d5-21a9-49f7-aca6-60cffdc6f6bc          118.7           43.2   \n",
       "6031f8cc-26a6-449c-b455-2d7c301ca005          118.8           41.7   \n",
       "\n",
       "                                     type of shot  \\\n",
       "shot id                                             \n",
       "6c30cac4-6f3b-4cd0-9913-26137b058416    Open Play   \n",
       "67cfa552-952c-4f72-a33a-0dd6af217a66    Open Play   \n",
       "8c95e369-ec54-4a84-9d3e-51abb6f38e6e    Free Kick   \n",
       "2ae506b9-0601-460b-b91d-802296120161    Free Kick   \n",
       "10dc9818-a8d2-47f9-b219-9bc87d7b22e6    Open Play   \n",
       "...                                           ...   \n",
       "da65c5c6-ce8f-46d3-b0b4-17fb1c9e31c3    Open Play   \n",
       "805dd74f-323c-412d-9b77-9c54c1a60f66    Open Play   \n",
       "4eadd318-25f7-420d-8aa9-53685cece638    Open Play   \n",
       "723139d5-21a9-49f7-aca6-60cffdc6f6bc    Open Play   \n",
       "6031f8cc-26a6-449c-b455-2d7c301ca005    Open Play   \n",
       "\n",
       "                                      num opponents within 5 yards  \\\n",
       "shot id                                                              \n",
       "6c30cac4-6f3b-4cd0-9913-26137b058416                             2   \n",
       "67cfa552-952c-4f72-a33a-0dd6af217a66                             1   \n",
       "8c95e369-ec54-4a84-9d3e-51abb6f38e6e                             0   \n",
       "2ae506b9-0601-460b-b91d-802296120161                             0   \n",
       "10dc9818-a8d2-47f9-b219-9bc87d7b22e6                             3   \n",
       "...                                                            ...   \n",
       "da65c5c6-ce8f-46d3-b0b4-17fb1c9e31c3                             0   \n",
       "805dd74f-323c-412d-9b77-9c54c1a60f66                             2   \n",
       "4eadd318-25f7-420d-8aa9-53685cece638                             1   \n",
       "723139d5-21a9-49f7-aca6-60cffdc6f6bc                             3   \n",
       "6031f8cc-26a6-449c-b455-2d7c301ca005                             2   \n",
       "\n",
       "                                      num opponents between shot and goal  \\\n",
       "shot id                                                                     \n",
       "6c30cac4-6f3b-4cd0-9913-26137b058416                                    2   \n",
       "67cfa552-952c-4f72-a33a-0dd6af217a66                                    0   \n",
       "8c95e369-ec54-4a84-9d3e-51abb6f38e6e                                    5   \n",
       "2ae506b9-0601-460b-b91d-802296120161                                    4   \n",
       "10dc9818-a8d2-47f9-b219-9bc87d7b22e6                                    1   \n",
       "...                                                                   ...   \n",
       "da65c5c6-ce8f-46d3-b0b4-17fb1c9e31c3                                    1   \n",
       "805dd74f-323c-412d-9b77-9c54c1a60f66                                    0   \n",
       "4eadd318-25f7-420d-8aa9-53685cece638                                    3   \n",
       "723139d5-21a9-49f7-aca6-60cffdc6f6bc                                    1   \n",
       "6031f8cc-26a6-449c-b455-2d7c301ca005                                    1   \n",
       "\n",
       "                                      statsbomb xg  \n",
       "shot id                                             \n",
       "6c30cac4-6f3b-4cd0-9913-26137b058416      0.020549  \n",
       "67cfa552-952c-4f72-a33a-0dd6af217a66      0.363959  \n",
       "8c95e369-ec54-4a84-9d3e-51abb6f38e6e      0.127337  \n",
       "2ae506b9-0601-460b-b91d-802296120161      0.090603  \n",
       "10dc9818-a8d2-47f9-b219-9bc87d7b22e6      0.022751  \n",
       "...                                            ...  \n",
       "da65c5c6-ce8f-46d3-b0b4-17fb1c9e31c3      0.042606  \n",
       "805dd74f-323c-412d-9b77-9c54c1a60f66      0.117359  \n",
       "4eadd318-25f7-420d-8aa9-53685cece638      0.013930  \n",
       "723139d5-21a9-49f7-aca6-60cffdc6f6bc      0.100666  \n",
       "6031f8cc-26a6-449c-b455-2d7c301ca005      0.053242  \n",
       "\n",
       "[11251 rows x 13 columns]"
      ]
     },
     "execution_count": 146,
     "metadata": {},
     "output_type": "execute_result"
    }
   ],
   "source": [
    "all_la_liga_shots"
   ]
  },
  {
   "cell_type": "code",
   "execution_count": null,
   "metadata": {},
   "outputs": [],
   "source": []
  },
  {
   "cell_type": "markdown",
   "metadata": {},
   "source": [
    "## 2. Data Exploration"
   ]
  },
  {
   "cell_type": "markdown",
   "metadata": {},
   "source": [
    "Before starting to train our models, we'll want to do some data exploration to get an initial idea of what variables affect the probability of a shot resulting in a goal. Even though, as we'll see, many of the models will select the features for us, this is still a useful exercise as it will give us a more intuitive idea of what the models will be doing. \n",
    "\n",
    "Additionally, if we find patterns in the visualizations below that make sense based on what we know about soccer, it will be a sort of \"sanity-check\" that we have accurately extracted the shot data."
   ]
  },
  {
   "cell_type": "markdown",
   "metadata": {},
   "source": [
    "### 2.1 Create new variables\n",
    "\n",
    "We will first create the following new variables:\n",
    "\n",
    "- Distance of shot location from goal\n",
    "- Convert outcome to a binary variable (Goal = 1, Other = 0). I'm doing this since for now, I don't care if the shot was saved, went wide, etc. I only care if it went in or not."
   ]
  },
  {
   "cell_type": "code",
   "execution_count": 147,
   "metadata": {},
   "outputs": [
    {
     "name": "stderr",
     "output_type": "stream",
     "text": [
      "/Users/robertblumberg/anaconda3/lib/python3.7/site-packages/pandas/core/indexing.py:205: SettingWithCopyWarning: \n",
      "A value is trying to be set on a copy of a slice from a DataFrame\n",
      "\n",
      "See the caveats in the documentation: http://pandas.pydata.org/pandas-docs/stable/user_guide/indexing.html#returning-a-view-versus-a-copy\n",
      "  self._setitem_with_indexer(indexer, value)\n"
     ]
    }
   ],
   "source": [
    "all_la_liga_shots[\"Distance from goal\"] = np.sqrt((all_la_liga_shots[\"x start location\"] - 120)**2 +    \\\n",
    "                                                  (all_la_liga_shots[\"y start location\"] - 40)**2)\n",
    "\n",
    "goal_label_mask = all_la_liga_shots[\"outcome\"].str.contains(\"Goal\")\n",
    "all_la_liga_shots[\"outcome\"].loc[goal_label_mask] = 1\n",
    "all_la_liga_shots[\"outcome\"].loc[~goal_label_mask] = 0"
   ]
  },
  {
   "cell_type": "code",
   "execution_count": 148,
   "metadata": {},
   "outputs": [
    {
     "data": {
      "text/html": [
       "<div>\n",
       "<style scoped>\n",
       "    .dataframe tbody tr th:only-of-type {\n",
       "        vertical-align: middle;\n",
       "    }\n",
       "\n",
       "    .dataframe tbody tr th {\n",
       "        vertical-align: top;\n",
       "    }\n",
       "\n",
       "    .dataframe thead th {\n",
       "        text-align: right;\n",
       "    }\n",
       "</style>\n",
       "<table border=\"1\" class=\"dataframe\">\n",
       "  <thead>\n",
       "    <tr style=\"text-align: right;\">\n",
       "      <th></th>\n",
       "      <th>play pattern</th>\n",
       "      <th>x start location</th>\n",
       "      <th>y start location</th>\n",
       "      <th>duration</th>\n",
       "      <th>outcome</th>\n",
       "      <th>technique</th>\n",
       "      <th>first time</th>\n",
       "      <th>x gk position</th>\n",
       "      <th>y gk position</th>\n",
       "      <th>type of shot</th>\n",
       "      <th>num opponents within 5 yards</th>\n",
       "      <th>num opponents between shot and goal</th>\n",
       "      <th>statsbomb xg</th>\n",
       "      <th>Distance from goal</th>\n",
       "    </tr>\n",
       "    <tr>\n",
       "      <th>shot id</th>\n",
       "      <th></th>\n",
       "      <th></th>\n",
       "      <th></th>\n",
       "      <th></th>\n",
       "      <th></th>\n",
       "      <th></th>\n",
       "      <th></th>\n",
       "      <th></th>\n",
       "      <th></th>\n",
       "      <th></th>\n",
       "      <th></th>\n",
       "      <th></th>\n",
       "      <th></th>\n",
       "      <th></th>\n",
       "    </tr>\n",
       "  </thead>\n",
       "  <tbody>\n",
       "    <tr>\n",
       "      <th>6c30cac4-6f3b-4cd0-9913-26137b058416</th>\n",
       "      <td>From Throw In</td>\n",
       "      <td>101.0</td>\n",
       "      <td>22.0</td>\n",
       "      <td>1.179654</td>\n",
       "      <td>0</td>\n",
       "      <td>Normal</td>\n",
       "      <td>False</td>\n",
       "      <td>118.6</td>\n",
       "      <td>37.9</td>\n",
       "      <td>Open Play</td>\n",
       "      <td>2</td>\n",
       "      <td>2</td>\n",
       "      <td>0.020549</td>\n",
       "      <td>26.172505</td>\n",
       "    </tr>\n",
       "    <tr>\n",
       "      <th>67cfa552-952c-4f72-a33a-0dd6af217a66</th>\n",
       "      <td>From Throw In</td>\n",
       "      <td>113.7</td>\n",
       "      <td>39.9</td>\n",
       "      <td>1.226969</td>\n",
       "      <td>0</td>\n",
       "      <td>Volley</td>\n",
       "      <td>True</td>\n",
       "      <td>117.2</td>\n",
       "      <td>39.1</td>\n",
       "      <td>Open Play</td>\n",
       "      <td>1</td>\n",
       "      <td>0</td>\n",
       "      <td>0.363959</td>\n",
       "      <td>6.300794</td>\n",
       "    </tr>\n",
       "    <tr>\n",
       "      <th>8c95e369-ec54-4a84-9d3e-51abb6f38e6e</th>\n",
       "      <td>From Free Kick</td>\n",
       "      <td>95.6</td>\n",
       "      <td>44.4</td>\n",
       "      <td>1.046942</td>\n",
       "      <td>1</td>\n",
       "      <td>Normal</td>\n",
       "      <td>False</td>\n",
       "      <td>119.5</td>\n",
       "      <td>39.0</td>\n",
       "      <td>Free Kick</td>\n",
       "      <td>0</td>\n",
       "      <td>5</td>\n",
       "      <td>0.127337</td>\n",
       "      <td>24.793548</td>\n",
       "    </tr>\n",
       "    <tr>\n",
       "      <th>2ae506b9-0601-460b-b91d-802296120161</th>\n",
       "      <td>From Free Kick</td>\n",
       "      <td>94.0</td>\n",
       "      <td>46.1</td>\n",
       "      <td>1.375915</td>\n",
       "      <td>0</td>\n",
       "      <td>Normal</td>\n",
       "      <td>False</td>\n",
       "      <td>119.1</td>\n",
       "      <td>39.5</td>\n",
       "      <td>Free Kick</td>\n",
       "      <td>0</td>\n",
       "      <td>4</td>\n",
       "      <td>0.090603</td>\n",
       "      <td>26.705992</td>\n",
       "    </tr>\n",
       "    <tr>\n",
       "      <th>10dc9818-a8d2-47f9-b219-9bc87d7b22e6</th>\n",
       "      <td>From Free Kick</td>\n",
       "      <td>104.1</td>\n",
       "      <td>22.2</td>\n",
       "      <td>0.116586</td>\n",
       "      <td>0</td>\n",
       "      <td>Normal</td>\n",
       "      <td>False</td>\n",
       "      <td>118.4</td>\n",
       "      <td>37.4</td>\n",
       "      <td>Open Play</td>\n",
       "      <td>3</td>\n",
       "      <td>1</td>\n",
       "      <td>0.022751</td>\n",
       "      <td>23.867342</td>\n",
       "    </tr>\n",
       "    <tr>\n",
       "      <th>...</th>\n",
       "      <td>...</td>\n",
       "      <td>...</td>\n",
       "      <td>...</td>\n",
       "      <td>...</td>\n",
       "      <td>...</td>\n",
       "      <td>...</td>\n",
       "      <td>...</td>\n",
       "      <td>...</td>\n",
       "      <td>...</td>\n",
       "      <td>...</td>\n",
       "      <td>...</td>\n",
       "      <td>...</td>\n",
       "      <td>...</td>\n",
       "      <td>...</td>\n",
       "    </tr>\n",
       "    <tr>\n",
       "      <th>da65c5c6-ce8f-46d3-b0b4-17fb1c9e31c3</th>\n",
       "      <td>From Free Kick</td>\n",
       "      <td>93.8</td>\n",
       "      <td>40.1</td>\n",
       "      <td>1.278336</td>\n",
       "      <td>0</td>\n",
       "      <td>Normal</td>\n",
       "      <td>True</td>\n",
       "      <td>115.2</td>\n",
       "      <td>42.1</td>\n",
       "      <td>Open Play</td>\n",
       "      <td>0</td>\n",
       "      <td>1</td>\n",
       "      <td>0.042606</td>\n",
       "      <td>26.200191</td>\n",
       "    </tr>\n",
       "    <tr>\n",
       "      <th>805dd74f-323c-412d-9b77-9c54c1a60f66</th>\n",
       "      <td>Regular Play</td>\n",
       "      <td>110.1</td>\n",
       "      <td>40.2</td>\n",
       "      <td>0.671461</td>\n",
       "      <td>0</td>\n",
       "      <td>Normal</td>\n",
       "      <td>False</td>\n",
       "      <td>119.4</td>\n",
       "      <td>39.9</td>\n",
       "      <td>Open Play</td>\n",
       "      <td>2</td>\n",
       "      <td>0</td>\n",
       "      <td>0.117359</td>\n",
       "      <td>9.902020</td>\n",
       "    </tr>\n",
       "    <tr>\n",
       "      <th>4eadd318-25f7-420d-8aa9-53685cece638</th>\n",
       "      <td>From Corner</td>\n",
       "      <td>93.7</td>\n",
       "      <td>48.5</td>\n",
       "      <td>0.946505</td>\n",
       "      <td>0</td>\n",
       "      <td>Volley</td>\n",
       "      <td>True</td>\n",
       "      <td>119.3</td>\n",
       "      <td>39.9</td>\n",
       "      <td>Open Play</td>\n",
       "      <td>1</td>\n",
       "      <td>3</td>\n",
       "      <td>0.013930</td>\n",
       "      <td>27.639465</td>\n",
       "    </tr>\n",
       "    <tr>\n",
       "      <th>723139d5-21a9-49f7-aca6-60cffdc6f6bc</th>\n",
       "      <td>Regular Play</td>\n",
       "      <td>109.9</td>\n",
       "      <td>47.4</td>\n",
       "      <td>0.468700</td>\n",
       "      <td>0</td>\n",
       "      <td>Normal</td>\n",
       "      <td>True</td>\n",
       "      <td>118.7</td>\n",
       "      <td>43.2</td>\n",
       "      <td>Open Play</td>\n",
       "      <td>3</td>\n",
       "      <td>1</td>\n",
       "      <td>0.100666</td>\n",
       "      <td>12.520783</td>\n",
       "    </tr>\n",
       "    <tr>\n",
       "      <th>6031f8cc-26a6-449c-b455-2d7c301ca005</th>\n",
       "      <td>Regular Play</td>\n",
       "      <td>99.2</td>\n",
       "      <td>34.9</td>\n",
       "      <td>0.984200</td>\n",
       "      <td>0</td>\n",
       "      <td>Normal</td>\n",
       "      <td>False</td>\n",
       "      <td>118.8</td>\n",
       "      <td>41.7</td>\n",
       "      <td>Open Play</td>\n",
       "      <td>2</td>\n",
       "      <td>1</td>\n",
       "      <td>0.053242</td>\n",
       "      <td>21.416115</td>\n",
       "    </tr>\n",
       "  </tbody>\n",
       "</table>\n",
       "<p>11251 rows × 14 columns</p>\n",
       "</div>"
      ],
      "text/plain": [
       "                                        play pattern  x start location  \\\n",
       "shot id                                                                  \n",
       "6c30cac4-6f3b-4cd0-9913-26137b058416   From Throw In             101.0   \n",
       "67cfa552-952c-4f72-a33a-0dd6af217a66   From Throw In             113.7   \n",
       "8c95e369-ec54-4a84-9d3e-51abb6f38e6e  From Free Kick              95.6   \n",
       "2ae506b9-0601-460b-b91d-802296120161  From Free Kick              94.0   \n",
       "10dc9818-a8d2-47f9-b219-9bc87d7b22e6  From Free Kick             104.1   \n",
       "...                                              ...               ...   \n",
       "da65c5c6-ce8f-46d3-b0b4-17fb1c9e31c3  From Free Kick              93.8   \n",
       "805dd74f-323c-412d-9b77-9c54c1a60f66    Regular Play             110.1   \n",
       "4eadd318-25f7-420d-8aa9-53685cece638     From Corner              93.7   \n",
       "723139d5-21a9-49f7-aca6-60cffdc6f6bc    Regular Play             109.9   \n",
       "6031f8cc-26a6-449c-b455-2d7c301ca005    Regular Play              99.2   \n",
       "\n",
       "                                      y start location  duration  outcome  \\\n",
       "shot id                                                                     \n",
       "6c30cac4-6f3b-4cd0-9913-26137b058416              22.0  1.179654        0   \n",
       "67cfa552-952c-4f72-a33a-0dd6af217a66              39.9  1.226969        0   \n",
       "8c95e369-ec54-4a84-9d3e-51abb6f38e6e              44.4  1.046942        1   \n",
       "2ae506b9-0601-460b-b91d-802296120161              46.1  1.375915        0   \n",
       "10dc9818-a8d2-47f9-b219-9bc87d7b22e6              22.2  0.116586        0   \n",
       "...                                                ...       ...      ...   \n",
       "da65c5c6-ce8f-46d3-b0b4-17fb1c9e31c3              40.1  1.278336        0   \n",
       "805dd74f-323c-412d-9b77-9c54c1a60f66              40.2  0.671461        0   \n",
       "4eadd318-25f7-420d-8aa9-53685cece638              48.5  0.946505        0   \n",
       "723139d5-21a9-49f7-aca6-60cffdc6f6bc              47.4  0.468700        0   \n",
       "6031f8cc-26a6-449c-b455-2d7c301ca005              34.9  0.984200        0   \n",
       "\n",
       "                                     technique  first time  x gk position  \\\n",
       "shot id                                                                     \n",
       "6c30cac4-6f3b-4cd0-9913-26137b058416    Normal       False          118.6   \n",
       "67cfa552-952c-4f72-a33a-0dd6af217a66    Volley        True          117.2   \n",
       "8c95e369-ec54-4a84-9d3e-51abb6f38e6e    Normal       False          119.5   \n",
       "2ae506b9-0601-460b-b91d-802296120161    Normal       False          119.1   \n",
       "10dc9818-a8d2-47f9-b219-9bc87d7b22e6    Normal       False          118.4   \n",
       "...                                        ...         ...            ...   \n",
       "da65c5c6-ce8f-46d3-b0b4-17fb1c9e31c3    Normal        True          115.2   \n",
       "805dd74f-323c-412d-9b77-9c54c1a60f66    Normal       False          119.4   \n",
       "4eadd318-25f7-420d-8aa9-53685cece638    Volley        True          119.3   \n",
       "723139d5-21a9-49f7-aca6-60cffdc6f6bc    Normal        True          118.7   \n",
       "6031f8cc-26a6-449c-b455-2d7c301ca005    Normal       False          118.8   \n",
       "\n",
       "                                      y gk position type of shot  \\\n",
       "shot id                                                            \n",
       "6c30cac4-6f3b-4cd0-9913-26137b058416           37.9    Open Play   \n",
       "67cfa552-952c-4f72-a33a-0dd6af217a66           39.1    Open Play   \n",
       "8c95e369-ec54-4a84-9d3e-51abb6f38e6e           39.0    Free Kick   \n",
       "2ae506b9-0601-460b-b91d-802296120161           39.5    Free Kick   \n",
       "10dc9818-a8d2-47f9-b219-9bc87d7b22e6           37.4    Open Play   \n",
       "...                                             ...          ...   \n",
       "da65c5c6-ce8f-46d3-b0b4-17fb1c9e31c3           42.1    Open Play   \n",
       "805dd74f-323c-412d-9b77-9c54c1a60f66           39.9    Open Play   \n",
       "4eadd318-25f7-420d-8aa9-53685cece638           39.9    Open Play   \n",
       "723139d5-21a9-49f7-aca6-60cffdc6f6bc           43.2    Open Play   \n",
       "6031f8cc-26a6-449c-b455-2d7c301ca005           41.7    Open Play   \n",
       "\n",
       "                                      num opponents within 5 yards  \\\n",
       "shot id                                                              \n",
       "6c30cac4-6f3b-4cd0-9913-26137b058416                             2   \n",
       "67cfa552-952c-4f72-a33a-0dd6af217a66                             1   \n",
       "8c95e369-ec54-4a84-9d3e-51abb6f38e6e                             0   \n",
       "2ae506b9-0601-460b-b91d-802296120161                             0   \n",
       "10dc9818-a8d2-47f9-b219-9bc87d7b22e6                             3   \n",
       "...                                                            ...   \n",
       "da65c5c6-ce8f-46d3-b0b4-17fb1c9e31c3                             0   \n",
       "805dd74f-323c-412d-9b77-9c54c1a60f66                             2   \n",
       "4eadd318-25f7-420d-8aa9-53685cece638                             1   \n",
       "723139d5-21a9-49f7-aca6-60cffdc6f6bc                             3   \n",
       "6031f8cc-26a6-449c-b455-2d7c301ca005                             2   \n",
       "\n",
       "                                      num opponents between shot and goal  \\\n",
       "shot id                                                                     \n",
       "6c30cac4-6f3b-4cd0-9913-26137b058416                                    2   \n",
       "67cfa552-952c-4f72-a33a-0dd6af217a66                                    0   \n",
       "8c95e369-ec54-4a84-9d3e-51abb6f38e6e                                    5   \n",
       "2ae506b9-0601-460b-b91d-802296120161                                    4   \n",
       "10dc9818-a8d2-47f9-b219-9bc87d7b22e6                                    1   \n",
       "...                                                                   ...   \n",
       "da65c5c6-ce8f-46d3-b0b4-17fb1c9e31c3                                    1   \n",
       "805dd74f-323c-412d-9b77-9c54c1a60f66                                    0   \n",
       "4eadd318-25f7-420d-8aa9-53685cece638                                    3   \n",
       "723139d5-21a9-49f7-aca6-60cffdc6f6bc                                    1   \n",
       "6031f8cc-26a6-449c-b455-2d7c301ca005                                    1   \n",
       "\n",
       "                                      statsbomb xg  Distance from goal  \n",
       "shot id                                                                 \n",
       "6c30cac4-6f3b-4cd0-9913-26137b058416      0.020549           26.172505  \n",
       "67cfa552-952c-4f72-a33a-0dd6af217a66      0.363959            6.300794  \n",
       "8c95e369-ec54-4a84-9d3e-51abb6f38e6e      0.127337           24.793548  \n",
       "2ae506b9-0601-460b-b91d-802296120161      0.090603           26.705992  \n",
       "10dc9818-a8d2-47f9-b219-9bc87d7b22e6      0.022751           23.867342  \n",
       "...                                            ...                 ...  \n",
       "da65c5c6-ce8f-46d3-b0b4-17fb1c9e31c3      0.042606           26.200191  \n",
       "805dd74f-323c-412d-9b77-9c54c1a60f66      0.117359            9.902020  \n",
       "4eadd318-25f7-420d-8aa9-53685cece638      0.013930           27.639465  \n",
       "723139d5-21a9-49f7-aca6-60cffdc6f6bc      0.100666           12.520783  \n",
       "6031f8cc-26a6-449c-b455-2d7c301ca005      0.053242           21.416115  \n",
       "\n",
       "[11251 rows x 14 columns]"
      ]
     },
     "execution_count": 148,
     "metadata": {},
     "output_type": "execute_result"
    }
   ],
   "source": [
    "all_la_liga_shots"
   ]
  },
  {
   "cell_type": "markdown",
   "metadata": {},
   "source": [
    "### 2.2 Create a stratified training and test set"
   ]
  },
  {
   "cell_type": "markdown",
   "metadata": {},
   "source": [
    "Since I don't want the test set to influence my model in any way (including the data exploration - which could eventually inform how I choose my model), I'll split the data now into test and training sets and stash the test set away until my model is finished."
   ]
  },
  {
   "cell_type": "code",
   "execution_count": 149,
   "metadata": {},
   "outputs": [],
   "source": [
    "data_split = StratifiedShuffleSplit(n_splits=1, test_size=0.2, random_state=42)\n",
    "data_split_generator = data_split.split(all_la_liga_shots, all_la_liga_shots[\"outcome\"])\n",
    "\n",
    "for training_indices, test_indices in data_split_generator:\n",
    "    shot_training_set = all_la_liga_shots.iloc[training_indices]\n",
    "    shot_test_set = all_la_liga_shots.iloc[test_indices]"
   ]
  },
  {
   "cell_type": "code",
   "execution_count": 150,
   "metadata": {},
   "outputs": [
    {
     "data": {
      "text/html": [
       "<div>\n",
       "<style scoped>\n",
       "    .dataframe tbody tr th:only-of-type {\n",
       "        vertical-align: middle;\n",
       "    }\n",
       "\n",
       "    .dataframe tbody tr th {\n",
       "        vertical-align: top;\n",
       "    }\n",
       "\n",
       "    .dataframe thead th {\n",
       "        text-align: right;\n",
       "    }\n",
       "</style>\n",
       "<table border=\"1\" class=\"dataframe\">\n",
       "  <thead>\n",
       "    <tr style=\"text-align: right;\">\n",
       "      <th></th>\n",
       "      <th>play pattern</th>\n",
       "      <th>x start location</th>\n",
       "      <th>y start location</th>\n",
       "      <th>duration</th>\n",
       "      <th>outcome</th>\n",
       "      <th>technique</th>\n",
       "      <th>first time</th>\n",
       "      <th>x gk position</th>\n",
       "      <th>y gk position</th>\n",
       "      <th>type of shot</th>\n",
       "      <th>num opponents within 5 yards</th>\n",
       "      <th>num opponents between shot and goal</th>\n",
       "      <th>statsbomb xg</th>\n",
       "      <th>Distance from goal</th>\n",
       "    </tr>\n",
       "    <tr>\n",
       "      <th>shot id</th>\n",
       "      <th></th>\n",
       "      <th></th>\n",
       "      <th></th>\n",
       "      <th></th>\n",
       "      <th></th>\n",
       "      <th></th>\n",
       "      <th></th>\n",
       "      <th></th>\n",
       "      <th></th>\n",
       "      <th></th>\n",
       "      <th></th>\n",
       "      <th></th>\n",
       "      <th></th>\n",
       "      <th></th>\n",
       "    </tr>\n",
       "  </thead>\n",
       "  <tbody>\n",
       "    <tr>\n",
       "      <th>e7041246-4bc4-44db-81d7-9d6321b8c145</th>\n",
       "      <td>From Corner</td>\n",
       "      <td>94.1</td>\n",
       "      <td>54.1</td>\n",
       "      <td>0.695000</td>\n",
       "      <td>0</td>\n",
       "      <td>Half Volley</td>\n",
       "      <td>True</td>\n",
       "      <td>118.7</td>\n",
       "      <td>41.5</td>\n",
       "      <td>Open Play</td>\n",
       "      <td>1</td>\n",
       "      <td>2</td>\n",
       "      <td>0.015635</td>\n",
       "      <td>29.489320</td>\n",
       "    </tr>\n",
       "    <tr>\n",
       "      <th>067cc66b-608c-4f79-a0eb-9cd79a90b3fc</th>\n",
       "      <td>From Free Kick</td>\n",
       "      <td>106.1</td>\n",
       "      <td>22.5</td>\n",
       "      <td>0.115824</td>\n",
       "      <td>0</td>\n",
       "      <td>Normal</td>\n",
       "      <td>False</td>\n",
       "      <td>118.0</td>\n",
       "      <td>36.4</td>\n",
       "      <td>Open Play</td>\n",
       "      <td>2</td>\n",
       "      <td>0</td>\n",
       "      <td>0.023676</td>\n",
       "      <td>22.348602</td>\n",
       "    </tr>\n",
       "    <tr>\n",
       "      <th>fed3f331-8c61-4600-8492-204f28fb51c6</th>\n",
       "      <td>From Counter</td>\n",
       "      <td>107.8</td>\n",
       "      <td>52.8</td>\n",
       "      <td>0.662629</td>\n",
       "      <td>1</td>\n",
       "      <td>Normal</td>\n",
       "      <td>False</td>\n",
       "      <td>115.8</td>\n",
       "      <td>43.8</td>\n",
       "      <td>Open Play</td>\n",
       "      <td>1</td>\n",
       "      <td>0</td>\n",
       "      <td>0.136143</td>\n",
       "      <td>17.682760</td>\n",
       "    </tr>\n",
       "    <tr>\n",
       "      <th>9c08d27a-a350-491a-bc88-e68c7fb05cf5</th>\n",
       "      <td>From Free Kick</td>\n",
       "      <td>90.6</td>\n",
       "      <td>44.8</td>\n",
       "      <td>1.252141</td>\n",
       "      <td>0</td>\n",
       "      <td>Normal</td>\n",
       "      <td>False</td>\n",
       "      <td>118.8</td>\n",
       "      <td>39.6</td>\n",
       "      <td>Open Play</td>\n",
       "      <td>0</td>\n",
       "      <td>0</td>\n",
       "      <td>0.023728</td>\n",
       "      <td>29.789260</td>\n",
       "    </tr>\n",
       "    <tr>\n",
       "      <th>71033ad7-4b50-412a-8656-644f7ca9f2c9</th>\n",
       "      <td>From Free Kick</td>\n",
       "      <td>100.8</td>\n",
       "      <td>50.3</td>\n",
       "      <td>0.136700</td>\n",
       "      <td>0</td>\n",
       "      <td>Normal</td>\n",
       "      <td>False</td>\n",
       "      <td>119.1</td>\n",
       "      <td>40.0</td>\n",
       "      <td>Open Play</td>\n",
       "      <td>2</td>\n",
       "      <td>1</td>\n",
       "      <td>0.036323</td>\n",
       "      <td>21.788300</td>\n",
       "    </tr>\n",
       "    <tr>\n",
       "      <th>...</th>\n",
       "      <td>...</td>\n",
       "      <td>...</td>\n",
       "      <td>...</td>\n",
       "      <td>...</td>\n",
       "      <td>...</td>\n",
       "      <td>...</td>\n",
       "      <td>...</td>\n",
       "      <td>...</td>\n",
       "      <td>...</td>\n",
       "      <td>...</td>\n",
       "      <td>...</td>\n",
       "      <td>...</td>\n",
       "      <td>...</td>\n",
       "      <td>...</td>\n",
       "    </tr>\n",
       "    <tr>\n",
       "      <th>6301127c-733e-4c42-bf6c-6d80d1f167c9</th>\n",
       "      <td>From Corner</td>\n",
       "      <td>98.9</td>\n",
       "      <td>24.3</td>\n",
       "      <td>0.191500</td>\n",
       "      <td>0</td>\n",
       "      <td>Normal</td>\n",
       "      <td>False</td>\n",
       "      <td>118.8</td>\n",
       "      <td>38.7</td>\n",
       "      <td>Open Play</td>\n",
       "      <td>1</td>\n",
       "      <td>2</td>\n",
       "      <td>0.018403</td>\n",
       "      <td>26.300190</td>\n",
       "    </tr>\n",
       "    <tr>\n",
       "      <th>960244c0-89e9-4c13-9fa7-7bce075083ca</th>\n",
       "      <td>Regular Play</td>\n",
       "      <td>104.7</td>\n",
       "      <td>29.1</td>\n",
       "      <td>0.801000</td>\n",
       "      <td>1</td>\n",
       "      <td>Normal</td>\n",
       "      <td>False</td>\n",
       "      <td>113.1</td>\n",
       "      <td>34.1</td>\n",
       "      <td>Open Play</td>\n",
       "      <td>2</td>\n",
       "      <td>0</td>\n",
       "      <td>0.231368</td>\n",
       "      <td>18.785633</td>\n",
       "    </tr>\n",
       "    <tr>\n",
       "      <th>62307c4c-dc7f-4a0a-a725-bab3a553f542</th>\n",
       "      <td>From Corner</td>\n",
       "      <td>112.2</td>\n",
       "      <td>33.0</td>\n",
       "      <td>0.496636</td>\n",
       "      <td>0</td>\n",
       "      <td>Normal</td>\n",
       "      <td>False</td>\n",
       "      <td>118.7</td>\n",
       "      <td>39.2</td>\n",
       "      <td>Open Play</td>\n",
       "      <td>2</td>\n",
       "      <td>1</td>\n",
       "      <td>0.040782</td>\n",
       "      <td>10.480458</td>\n",
       "    </tr>\n",
       "    <tr>\n",
       "      <th>6dbdcce7-bf7b-4245-9157-4205e8256379</th>\n",
       "      <td>Regular Play</td>\n",
       "      <td>108.0</td>\n",
       "      <td>40.0</td>\n",
       "      <td>0.606400</td>\n",
       "      <td>0</td>\n",
       "      <td>Normal</td>\n",
       "      <td>False</td>\n",
       "      <td>118.2</td>\n",
       "      <td>39.6</td>\n",
       "      <td>Open Play</td>\n",
       "      <td>2</td>\n",
       "      <td>0</td>\n",
       "      <td>0.105930</td>\n",
       "      <td>12.000000</td>\n",
       "    </tr>\n",
       "    <tr>\n",
       "      <th>f0e92868-5651-4049-a0b8-e484be370d2d</th>\n",
       "      <td>From Free Kick</td>\n",
       "      <td>101.2</td>\n",
       "      <td>31.0</td>\n",
       "      <td>0.035525</td>\n",
       "      <td>0</td>\n",
       "      <td>Normal</td>\n",
       "      <td>False</td>\n",
       "      <td>117.8</td>\n",
       "      <td>38.3</td>\n",
       "      <td>Open Play</td>\n",
       "      <td>2</td>\n",
       "      <td>0</td>\n",
       "      <td>0.044377</td>\n",
       "      <td>20.843224</td>\n",
       "    </tr>\n",
       "  </tbody>\n",
       "</table>\n",
       "<p>9000 rows × 14 columns</p>\n",
       "</div>"
      ],
      "text/plain": [
       "                                        play pattern  x start location  \\\n",
       "shot id                                                                  \n",
       "e7041246-4bc4-44db-81d7-9d6321b8c145     From Corner              94.1   \n",
       "067cc66b-608c-4f79-a0eb-9cd79a90b3fc  From Free Kick             106.1   \n",
       "fed3f331-8c61-4600-8492-204f28fb51c6    From Counter             107.8   \n",
       "9c08d27a-a350-491a-bc88-e68c7fb05cf5  From Free Kick              90.6   \n",
       "71033ad7-4b50-412a-8656-644f7ca9f2c9  From Free Kick             100.8   \n",
       "...                                              ...               ...   \n",
       "6301127c-733e-4c42-bf6c-6d80d1f167c9     From Corner              98.9   \n",
       "960244c0-89e9-4c13-9fa7-7bce075083ca    Regular Play             104.7   \n",
       "62307c4c-dc7f-4a0a-a725-bab3a553f542     From Corner             112.2   \n",
       "6dbdcce7-bf7b-4245-9157-4205e8256379    Regular Play             108.0   \n",
       "f0e92868-5651-4049-a0b8-e484be370d2d  From Free Kick             101.2   \n",
       "\n",
       "                                      y start location  duration  outcome  \\\n",
       "shot id                                                                     \n",
       "e7041246-4bc4-44db-81d7-9d6321b8c145              54.1  0.695000        0   \n",
       "067cc66b-608c-4f79-a0eb-9cd79a90b3fc              22.5  0.115824        0   \n",
       "fed3f331-8c61-4600-8492-204f28fb51c6              52.8  0.662629        1   \n",
       "9c08d27a-a350-491a-bc88-e68c7fb05cf5              44.8  1.252141        0   \n",
       "71033ad7-4b50-412a-8656-644f7ca9f2c9              50.3  0.136700        0   \n",
       "...                                                ...       ...      ...   \n",
       "6301127c-733e-4c42-bf6c-6d80d1f167c9              24.3  0.191500        0   \n",
       "960244c0-89e9-4c13-9fa7-7bce075083ca              29.1  0.801000        1   \n",
       "62307c4c-dc7f-4a0a-a725-bab3a553f542              33.0  0.496636        0   \n",
       "6dbdcce7-bf7b-4245-9157-4205e8256379              40.0  0.606400        0   \n",
       "f0e92868-5651-4049-a0b8-e484be370d2d              31.0  0.035525        0   \n",
       "\n",
       "                                        technique  first time  x gk position  \\\n",
       "shot id                                                                        \n",
       "e7041246-4bc4-44db-81d7-9d6321b8c145  Half Volley        True          118.7   \n",
       "067cc66b-608c-4f79-a0eb-9cd79a90b3fc       Normal       False          118.0   \n",
       "fed3f331-8c61-4600-8492-204f28fb51c6       Normal       False          115.8   \n",
       "9c08d27a-a350-491a-bc88-e68c7fb05cf5       Normal       False          118.8   \n",
       "71033ad7-4b50-412a-8656-644f7ca9f2c9       Normal       False          119.1   \n",
       "...                                           ...         ...            ...   \n",
       "6301127c-733e-4c42-bf6c-6d80d1f167c9       Normal       False          118.8   \n",
       "960244c0-89e9-4c13-9fa7-7bce075083ca       Normal       False          113.1   \n",
       "62307c4c-dc7f-4a0a-a725-bab3a553f542       Normal       False          118.7   \n",
       "6dbdcce7-bf7b-4245-9157-4205e8256379       Normal       False          118.2   \n",
       "f0e92868-5651-4049-a0b8-e484be370d2d       Normal       False          117.8   \n",
       "\n",
       "                                      y gk position type of shot  \\\n",
       "shot id                                                            \n",
       "e7041246-4bc4-44db-81d7-9d6321b8c145           41.5    Open Play   \n",
       "067cc66b-608c-4f79-a0eb-9cd79a90b3fc           36.4    Open Play   \n",
       "fed3f331-8c61-4600-8492-204f28fb51c6           43.8    Open Play   \n",
       "9c08d27a-a350-491a-bc88-e68c7fb05cf5           39.6    Open Play   \n",
       "71033ad7-4b50-412a-8656-644f7ca9f2c9           40.0    Open Play   \n",
       "...                                             ...          ...   \n",
       "6301127c-733e-4c42-bf6c-6d80d1f167c9           38.7    Open Play   \n",
       "960244c0-89e9-4c13-9fa7-7bce075083ca           34.1    Open Play   \n",
       "62307c4c-dc7f-4a0a-a725-bab3a553f542           39.2    Open Play   \n",
       "6dbdcce7-bf7b-4245-9157-4205e8256379           39.6    Open Play   \n",
       "f0e92868-5651-4049-a0b8-e484be370d2d           38.3    Open Play   \n",
       "\n",
       "                                      num opponents within 5 yards  \\\n",
       "shot id                                                              \n",
       "e7041246-4bc4-44db-81d7-9d6321b8c145                             1   \n",
       "067cc66b-608c-4f79-a0eb-9cd79a90b3fc                             2   \n",
       "fed3f331-8c61-4600-8492-204f28fb51c6                             1   \n",
       "9c08d27a-a350-491a-bc88-e68c7fb05cf5                             0   \n",
       "71033ad7-4b50-412a-8656-644f7ca9f2c9                             2   \n",
       "...                                                            ...   \n",
       "6301127c-733e-4c42-bf6c-6d80d1f167c9                             1   \n",
       "960244c0-89e9-4c13-9fa7-7bce075083ca                             2   \n",
       "62307c4c-dc7f-4a0a-a725-bab3a553f542                             2   \n",
       "6dbdcce7-bf7b-4245-9157-4205e8256379                             2   \n",
       "f0e92868-5651-4049-a0b8-e484be370d2d                             2   \n",
       "\n",
       "                                      num opponents between shot and goal  \\\n",
       "shot id                                                                     \n",
       "e7041246-4bc4-44db-81d7-9d6321b8c145                                    2   \n",
       "067cc66b-608c-4f79-a0eb-9cd79a90b3fc                                    0   \n",
       "fed3f331-8c61-4600-8492-204f28fb51c6                                    0   \n",
       "9c08d27a-a350-491a-bc88-e68c7fb05cf5                                    0   \n",
       "71033ad7-4b50-412a-8656-644f7ca9f2c9                                    1   \n",
       "...                                                                   ...   \n",
       "6301127c-733e-4c42-bf6c-6d80d1f167c9                                    2   \n",
       "960244c0-89e9-4c13-9fa7-7bce075083ca                                    0   \n",
       "62307c4c-dc7f-4a0a-a725-bab3a553f542                                    1   \n",
       "6dbdcce7-bf7b-4245-9157-4205e8256379                                    0   \n",
       "f0e92868-5651-4049-a0b8-e484be370d2d                                    0   \n",
       "\n",
       "                                      statsbomb xg  Distance from goal  \n",
       "shot id                                                                 \n",
       "e7041246-4bc4-44db-81d7-9d6321b8c145      0.015635           29.489320  \n",
       "067cc66b-608c-4f79-a0eb-9cd79a90b3fc      0.023676           22.348602  \n",
       "fed3f331-8c61-4600-8492-204f28fb51c6      0.136143           17.682760  \n",
       "9c08d27a-a350-491a-bc88-e68c7fb05cf5      0.023728           29.789260  \n",
       "71033ad7-4b50-412a-8656-644f7ca9f2c9      0.036323           21.788300  \n",
       "...                                            ...                 ...  \n",
       "6301127c-733e-4c42-bf6c-6d80d1f167c9      0.018403           26.300190  \n",
       "960244c0-89e9-4c13-9fa7-7bce075083ca      0.231368           18.785633  \n",
       "62307c4c-dc7f-4a0a-a725-bab3a553f542      0.040782           10.480458  \n",
       "6dbdcce7-bf7b-4245-9157-4205e8256379      0.105930           12.000000  \n",
       "f0e92868-5651-4049-a0b8-e484be370d2d      0.044377           20.843224  \n",
       "\n",
       "[9000 rows x 14 columns]"
      ]
     },
     "execution_count": 150,
     "metadata": {},
     "output_type": "execute_result"
    }
   ],
   "source": [
    "shot_training_set"
   ]
  },
  {
   "cell_type": "markdown",
   "metadata": {},
   "source": [
    "### 2.3 Visualizing relationships\n",
    "\n",
    "Below, I write a function, `plot_percent_goal_vs_attr` to plot the percentage of goals scored by desired **categorical** variable."
   ]
  },
  {
   "cell_type": "code",
   "execution_count": 151,
   "metadata": {},
   "outputs": [],
   "source": [
    "def plot_percent_goal_vs_attr(attribute, type_chart = \"line\"):\n",
    "    \"\"\"\n",
    "    Function which plots the percentage of goals scored by desired categorical attribute in our shot training set.\n",
    "    \n",
    "    Arguments\n",
    "    attribute - (string) name of categorical attribute in shot training set data frame\n",
    "    \"\"\"\n",
    "    shot_training_set_copy = shot_training_set.copy() \n",
    "    \n",
    "    attr_x = attribute\n",
    "    attr_y = \"outcome\"\n",
    "    attr_agg = \"shot id\"\n",
    "    attrs = [attr_x, attr_y, attr_agg]\n",
    "\n",
    "    outcomes_by_attribute = shot_training_set_copy.reset_index()[attrs]   \\\n",
    "                            .groupby([attr_x, attr_y])               \\\n",
    "                            .count()                                 \\\n",
    "                            .unstack()                               \\\n",
    "                            .fillna(0)\n",
    "    \n",
    "    outcomes_by_attribute = outcomes_by_attribute[attr_agg].reset_index()\n",
    "    outcomes_by_attribute[\"Percent Goal\"] = outcomes_by_attribute[1] * 100  / outcomes_by_attribute.sum(axis = 1)\n",
    "    outcomes_by_attribute = outcomes_by_attribute.rename(columns={0: 'No Goal', 1: 'Goal'})\n",
    "    \n",
    "    if type_chart == \"line\":\n",
    "        chart = alt.Chart(outcomes_by_attribute).mark_line()\n",
    "    elif type_chart == \"bar\":\n",
    "        chart = alt.Chart(outcomes_by_attribute).mark_bar()\n",
    "    \n",
    "    chart = chart.encode(\n",
    "        alt.X('{}:N'.format(attr_x), axis = alt.Axis(title = attr_x, labelAngle = 0)),\n",
    "        alt.Y('Percent Goal:Q', axis = alt.Axis(title = 'Percent Goal'))\n",
    "    ).properties(width = 850, height = 300, \n",
    "             title = \"Percent Goal vs {}\".format(attr_x)\n",
    "    ).configure_axis(labelFontSize = 13, titleFontSize = 15\n",
    "    ).configure_title(fontSize = 16)\n",
    "    \n",
    "    return chart"
   ]
  },
  {
   "cell_type": "markdown",
   "metadata": {},
   "source": [
    "#### 2.3.1 Percent goals by num opponents between shot and goal"
   ]
  },
  {
   "cell_type": "markdown",
   "metadata": {},
   "source": [
    "Now we can use our function to plot the desired variables:"
   ]
  },
  {
   "cell_type": "code",
   "execution_count": 152,
   "metadata": {},
   "outputs": [
    {
     "data": {
      "application/vnd.vegalite.v3+json": {
       "$schema": "https://vega.github.io/schema/vega-lite/v3.4.0.json",
       "config": {
        "axis": {
         "labelFontSize": 13,
         "titleFontSize": 15
        },
        "mark": {
         "tooltip": null
        },
        "title": {
         "fontSize": 16
        },
        "view": {
         "height": 300,
         "width": 400
        }
       },
       "data": {
        "name": "data-362c95c85a2de60a83c41b6c42d1c005"
       },
       "datasets": {
        "data-362c95c85a2de60a83c41b6c42d1c005": [
         {
          "Goal": 930,
          "No Goal": 3930,
          "Percent Goal": 19.135802469135804,
          "num opponents between shot and goal": 0
         },
         {
          "Goal": 214,
          "No Goal": 2529,
          "Percent Goal": 7.798833819241983,
          "num opponents between shot and goal": 1
         },
         {
          "Goal": 51,
          "No Goal": 753,
          "Percent Goal": 6.327543424317618,
          "num opponents between shot and goal": 2
         },
         {
          "Goal": 20,
          "No Goal": 322,
          "Percent Goal": 5.797101449275362,
          "num opponents between shot and goal": 3
         },
         {
          "Goal": 11,
          "No Goal": 156,
          "Percent Goal": 6.432748538011696,
          "num opponents between shot and goal": 4
         },
         {
          "Goal": 6,
          "No Goal": 60,
          "Percent Goal": 8.450704225352112,
          "num opponents between shot and goal": 5
         },
         {
          "Goal": 3,
          "No Goal": 12,
          "Percent Goal": 14.285714285714286,
          "num opponents between shot and goal": 6
         },
         {
          "Goal": 0,
          "No Goal": 2,
          "Percent Goal": 0,
          "num opponents between shot and goal": 7
         },
         {
          "Goal": 0,
          "No Goal": 1,
          "Percent Goal": 0,
          "num opponents between shot and goal": 8
         }
        ]
       },
       "encoding": {
        "x": {
         "axis": {
          "labelAngle": 0,
          "title": "num opponents between shot and goal"
         },
         "field": "num opponents between shot and goal",
         "type": "nominal"
        },
        "y": {
         "axis": {
          "title": "Percent Goal"
         },
         "field": "Percent Goal",
         "type": "quantitative"
        }
       },
       "height": 300,
       "mark": "bar",
       "title": "Percent Goal vs num opponents between shot and goal",
       "width": 850
      },
      "image/png": "[encoded data removed]",
      "text/plain": [
       "<VegaLite 3 object>\n",
       "\n",
       "If you see this message, it means the renderer has not been properly enabled\n",
       "for the frontend that you are using. For more information, see\n",
       "https://altair-viz.github.io/user_guide/troubleshooting.html\n"
      ]
     },
     "execution_count": 152,
     "metadata": {},
     "output_type": "execute_result"
    }
   ],
   "source": [
    "plot_percent_goal_vs_attr(\"num opponents between shot and goal\", \"bar\")"
   ]
  },
  {
   "cell_type": "markdown",
   "metadata": {},
   "source": [
    "**Comments:**\n",
    "\n",
    "As expected, in general, the rate of goals scored decreases as more opponents are between the shot location and the goal. Interestingly, there is a bizarre peak at 6 opponents between shot and goal."
   ]
  },
  {
   "cell_type": "markdown",
   "metadata": {},
   "source": [
    "#### 2.3.2 Percent goals by num opponents within 5 yards"
   ]
  },
  {
   "cell_type": "code",
   "execution_count": 153,
   "metadata": {},
   "outputs": [
    {
     "data": {
      "application/vnd.vegalite.v3+json": {
       "$schema": "https://vega.github.io/schema/vega-lite/v3.4.0.json",
       "config": {
        "axis": {
         "labelFontSize": 13,
         "titleFontSize": 15
        },
        "mark": {
         "tooltip": null
        },
        "title": {
         "fontSize": 16
        },
        "view": {
         "height": 300,
         "width": 400
        }
       },
       "data": {
        "name": "data-bfb99bb7719c68bfe4340a385f28f7e6"
       },
       "datasets": {
        "data-bfb99bb7719c68bfe4340a385f28f7e6": [
         {
          "Goal": 268,
          "No Goal": 1542,
          "Percent Goal": 14.806629834254144,
          "num opponents within 5 yards": 0
         },
         {
          "Goal": 448,
          "No Goal": 2651,
          "Percent Goal": 14.451612903225806,
          "num opponents within 5 yards": 1
         },
         {
          "Goal": 321,
          "No Goal": 2150,
          "Percent Goal": 12.980186008896078,
          "num opponents within 5 yards": 2
         },
         {
          "Goal": 140,
          "No Goal": 947,
          "Percent Goal": 12.844036697247706,
          "num opponents within 5 yards": 3
         },
         {
          "Goal": 39,
          "No Goal": 350,
          "Percent Goal": 9.923664122137405,
          "num opponents within 5 yards": 4
         },
         {
          "Goal": 16,
          "No Goal": 99,
          "Percent Goal": 13.333333333333334,
          "num opponents within 5 yards": 5
         },
         {
          "Goal": 3,
          "No Goal": 22,
          "Percent Goal": 9.67741935483871,
          "num opponents within 5 yards": 6
         },
         {
          "Goal": 0,
          "No Goal": 4,
          "Percent Goal": 0,
          "num opponents within 5 yards": 7
         }
        ]
       },
       "encoding": {
        "x": {
         "axis": {
          "labelAngle": 0,
          "title": "num opponents within 5 yards"
         },
         "field": "num opponents within 5 yards",
         "type": "nominal"
        },
        "y": {
         "axis": {
          "title": "Percent Goal"
         },
         "field": "Percent Goal",
         "type": "quantitative"
        }
       },
       "height": 300,
       "mark": "bar",
       "title": "Percent Goal vs num opponents within 5 yards",
       "width": 850
      },
      "image/png": "[encoded data removed]",
      "text/plain": [
       "<VegaLite 3 object>\n",
       "\n",
       "If you see this message, it means the renderer has not been properly enabled\n",
       "for the frontend that you are using. For more information, see\n",
       "https://altair-viz.github.io/user_guide/troubleshooting.html\n"
      ]
     },
     "execution_count": 153,
     "metadata": {},
     "output_type": "execute_result"
    }
   ],
   "source": [
    "plot_percent_goal_vs_attr(\"num opponents within 5 yards\", \"bar\")"
   ]
  },
  {
   "cell_type": "markdown",
   "metadata": {},
   "source": [
    "**Comments:**\n",
    "\n",
    "We see a similar trend for rate of goals scored vs number of opponents within 5 yards of shot location."
   ]
  },
  {
   "cell_type": "markdown",
   "metadata": {},
   "source": [
    "#### 2.3.3 Percent goals by player pattern"
   ]
  },
  {
   "cell_type": "code",
   "execution_count": 154,
   "metadata": {},
   "outputs": [
    {
     "data": {
      "application/vnd.vegalite.v3+json": {
       "$schema": "https://vega.github.io/schema/vega-lite/v3.4.0.json",
       "config": {
        "axis": {
         "labelFontSize": 13,
         "titleFontSize": 15
        },
        "mark": {
         "tooltip": null
        },
        "title": {
         "fontSize": 16
        },
        "view": {
         "height": 300,
         "width": 400
        }
       },
       "data": {
        "name": "data-18bd5b012c9c22f50c0e1fb215897ca6"
       },
       "datasets": {
        "data-18bd5b012c9c22f50c0e1fb215897ca6": [
         {
          "Goal": 107,
          "No Goal": 1133,
          "Percent Goal": 8.629032258064516,
          "play pattern": "From Corner"
         },
         {
          "Goal": 78,
          "No Goal": 310,
          "Percent Goal": 20.103092783505154,
          "play pattern": "From Counter"
         },
         {
          "Goal": 237,
          "No Goal": 1915,
          "Percent Goal": 11.013011152416357,
          "play pattern": "From Free Kick"
         },
         {
          "Goal": 44,
          "No Goal": 246,
          "Percent Goal": 15.172413793103448,
          "play pattern": "From Goal Kick"
         },
         {
          "Goal": 8,
          "No Goal": 101,
          "Percent Goal": 7.339449541284404,
          "play pattern": "From Keeper"
         },
         {
          "Goal": 12,
          "No Goal": 105,
          "Percent Goal": 10.256410256410257,
          "play pattern": "From Kick Off"
         },
         {
          "Goal": 170,
          "No Goal": 1199,
          "Percent Goal": 12.41782322863404,
          "play pattern": "From Throw In"
         },
         {
          "Goal": 99,
          "No Goal": 32,
          "Percent Goal": 75.57251908396947,
          "play pattern": "Other"
         },
         {
          "Goal": 480,
          "No Goal": 2724,
          "Percent Goal": 14.9812734082397,
          "play pattern": "Regular Play"
         }
        ]
       },
       "encoding": {
        "x": {
         "axis": {
          "labelAngle": 0,
          "title": "play pattern"
         },
         "field": "play pattern",
         "type": "nominal"
        },
        "y": {
         "axis": {
          "title": "Percent Goal"
         },
         "field": "Percent Goal",
         "type": "quantitative"
        }
       },
       "height": 300,
       "mark": "bar",
       "title": "Percent Goal vs play pattern",
       "width": 850
      },
      "image/png": "[encoded data removed]",
      "text/plain": [
       "<VegaLite 3 object>\n",
       "\n",
       "If you see this message, it means the renderer has not been properly enabled\n",
       "for the frontend that you are using. For more information, see\n",
       "https://altair-viz.github.io/user_guide/troubleshooting.html\n"
      ]
     },
     "execution_count": 154,
     "metadata": {},
     "output_type": "execute_result"
    }
   ],
   "source": [
    "plot_percent_goal_vs_attr(\"play pattern\", \"bar\")"
   ]
  },
  {
   "cell_type": "markdown",
   "metadata": {},
   "source": [
    "**Comments:**\n",
    "\n",
    "For goal scoring rate by _play pattern_, we see that \"other\" has a very large percent goals scored value. This tells us that \"other\" refers to penalties. Aside from \"other\", we can see that shots from counter attacks have a larger chance to produce a goal than any other play pattern, probably because counter attacks mean that the opposition is much less organized, resulting in more space. To be sure, we can check this below:"
   ]
  },
  {
   "cell_type": "code",
   "execution_count": 155,
   "metadata": {},
   "outputs": [
    {
     "data": {
      "application/vnd.vegalite.v3+json": {
       "$schema": "https://vega.github.io/schema/vega-lite/v3.4.0.json",
       "config": {
        "axis": {
         "labelFontSize": 13,
         "titleFontSize": 15
        },
        "mark": {
         "tooltip": null
        },
        "title": {
         "fontSize": 16
        },
        "view": {
         "height": 300,
         "width": 400
        }
       },
       "data": {
        "name": "data-68895833f9bdad9074b1723a0b4461e7"
       },
       "datasets": {
        "data-68895833f9bdad9074b1723a0b4461e7": [
         {
          "Distance from goal": 15.670836055659514,
          "duration": 0.8092101733870962,
          "first time": 0.3225806451612903,
          "num opponents between shot and goal": 0.9556451612903226,
          "num opponents within 5 yards": 2.120967741935484,
          "outcome": 0.08629032258064516,
          "play pattern": "From Corner",
          "statsbomb xg": 0.09670389136435496,
          "x gk position": 118.5408064516128,
          "x start location": 106.75169354838715,
          "y gk position": 39.938387096774214,
          "y start location": 39.55612903225798
         },
         {
          "Distance from goal": 17.306599991729712,
          "duration": 0.6793233092783508,
          "first time": 0.25,
          "num opponents between shot and goal": 0.2422680412371134,
          "num opponents within 5 yards": 1.4974226804123711,
          "outcome": 0.20103092783505155,
          "play pattern": "From Counter",
          "statsbomb xg": 0.19455708811597933,
          "x gk position": 115.64587628865978,
          "x start location": 106.27268041237109,
          "y gk position": 39.513144329896924,
          "y start location": 38.65644329896907
         },
         {
          "Distance from goal": 22.006841434101904,
          "duration": 0.8306514460966552,
          "first time": 0.2328066914498141,
          "num opponents between shot and goal": 1.3006505576208178,
          "num opponents within 5 yards": 1.2026022304832713,
          "outcome": 0.11013011152416356,
          "play pattern": "From Free Kick",
          "statsbomb xg": 0.09562705712941444,
          "x gk position": 118.08740706319686,
          "x start location": 100.87718401486997,
          "y gk position": 40.001068773234245,
          "y start location": 39.2852695167286
         },
         {
          "Distance from goal": 19.100817851815183,
          "duration": 0.735783024137931,
          "first time": 0.31724137931034485,
          "num opponents between shot and goal": 0.4586206896551724,
          "num opponents within 5 yards": 1.5724137931034483,
          "outcome": 0.15172413793103448,
          "play pattern": "From Goal Kick",
          "statsbomb xg": 0.12781129346034487,
          "x gk position": 117.4803448275863,
          "x start location": 104.29896551724134,
          "y gk position": 39.95310344827584,
          "y start location": 40.20344827586209
         },
         {
          "Distance from goal": 19.998194562120624,
          "duration": 0.7568806513761467,
          "first time": 0.30275229357798167,
          "num opponents between shot and goal": 0.48623853211009177,
          "num opponents within 5 yards": 1.5229357798165137,
          "outcome": 0.07339449541284404,
          "play pattern": "From Keeper",
          "statsbomb xg": 0.1376434548440366,
          "x gk position": 116.75045871559632,
          "x start location": 102.48623853211008,
          "y gk position": 39.732110091743124,
          "y start location": 38.68348623853211
         },
         {
          "Distance from goal": 20.448421685648086,
          "duration": 0.8260737435897438,
          "first time": 0.29914529914529914,
          "num opponents between shot and goal": 0.4700854700854701,
          "num opponents within 5 yards": 1.5042735042735043,
          "outcome": 0.10256410256410256,
          "play pattern": "From Kick Off",
          "statsbomb xg": 0.0893793478418803,
          "x gk position": 117.73504273504277,
          "x start location": 102.83760683760687,
          "y gk position": 40.083760683760694,
          "y start location": 39.722222222222214
         },
         {
          "Distance from goal": 19.566209736728286,
          "duration": 0.774703845142441,
          "first time": 0.34696859021183346,
          "num opponents between shot and goal": 0.4784514243973703,
          "num opponents within 5 yards": 1.5675675675675675,
          "outcome": 0.1241782322863404,
          "play pattern": "From Throw In",
          "statsbomb xg": 0.1143172267951058,
          "x gk position": 117.6943754565378,
          "x start location": 103.67976625273919,
          "y gk position": 39.95551497443389,
          "y start location": 39.49824689554419
         },
         {
          "Distance from goal": 12.664404030606923,
          "duration": 0.5962395648854961,
          "first time": 0.05343511450381679,
          "num opponents between shot and goal": 0.04580152671755725,
          "num opponents within 5 yards": 0.16030534351145037,
          "outcome": 0.7557251908396947,
          "play pattern": "Other",
          "statsbomb xg": 0.71475776816794,
          "x gk position": 119.73664122137404,
          "x start location": 107.49770992366417,
          "y gk position": 40.01297709923665,
          "y start location": 40.06946564885497
         },
         {
          "Distance from goal": 19.18063255281885,
          "duration": 0.7781636039325857,
          "first time": 0.3233458177278402,
          "num opponents between shot and goal": 0.47034956304619224,
          "num opponents within 5 yards": 1.5127965043695382,
          "outcome": 0.149812734082397,
          "play pattern": "Regular Play",
          "statsbomb xg": 0.133302024718945,
          "x gk position": 117.32815230961319,
          "x start location": 103.97272159800225,
          "y gk position": 39.79160424469419,
          "y start location": 38.94019975031219
         }
        ]
       },
       "encoding": {
        "x": {
         "axis": {
          "labelAngle": 0,
          "title": "player pattern"
         },
         "field": "play pattern",
         "type": "nominal"
        },
        "y": {
         "axis": {
          "title": "mean num opponents within 5 yards"
         },
         "field": "num opponents within 5 yards",
         "type": "quantitative"
        }
       },
       "height": 300,
       "mark": "bar",
       "title": "mean num opponents whithin 5 yards by play pattern",
       "width": 850
      },
      "image/png": "[encoded data removed]",
      "text/plain": [
       "<VegaLite 3 object>\n",
       "\n",
       "If you see this message, it means the renderer has not been properly enabled\n",
       "for the frontend that you are using. For more information, see\n",
       "https://altair-viz.github.io/user_guide/troubleshooting.html\n"
      ]
     },
     "execution_count": 155,
     "metadata": {},
     "output_type": "execute_result"
    }
   ],
   "source": [
    "alt.Chart(shot_training_set.groupby(\"play pattern\").mean().reset_index()).mark_bar().encode(\n",
    "        alt.X('play pattern:N', axis = alt.Axis(title = \"player pattern\", labelAngle = 0)),\n",
    "        alt.Y('num opponents within 5 yards:Q', axis = alt.Axis(title = 'mean num opponents within 5 yards'))\n",
    ").properties(width = 850, height = 300, \n",
    "             title = \"mean num opponents whithin 5 yards by play pattern\"\n",
    ").configure_axis(labelFontSize = 13, titleFontSize = 15\n",
    ").configure_title(fontSize = 16)"
   ]
  },
  {
   "cell_type": "markdown",
   "metadata": {},
   "source": [
    "Ok, so actually, shots resulting from counters, on average, don't have less players within 5 yards of the shot location than other play patterns. What about number of opponents between the shot location and the goal?"
   ]
  },
  {
   "cell_type": "code",
   "execution_count": 156,
   "metadata": {},
   "outputs": [
    {
     "data": {
      "application/vnd.vegalite.v3+json": {
       "$schema": "https://vega.github.io/schema/vega-lite/v3.4.0.json",
       "config": {
        "axis": {
         "labelFontSize": 13,
         "titleFontSize": 15
        },
        "mark": {
         "tooltip": null
        },
        "title": {
         "fontSize": 16
        },
        "view": {
         "height": 300,
         "width": 400
        }
       },
       "data": {
        "name": "data-68895833f9bdad9074b1723a0b4461e7"
       },
       "datasets": {
        "data-68895833f9bdad9074b1723a0b4461e7": [
         {
          "Distance from goal": 15.670836055659514,
          "duration": 0.8092101733870962,
          "first time": 0.3225806451612903,
          "num opponents between shot and goal": 0.9556451612903226,
          "num opponents within 5 yards": 2.120967741935484,
          "outcome": 0.08629032258064516,
          "play pattern": "From Corner",
          "statsbomb xg": 0.09670389136435496,
          "x gk position": 118.5408064516128,
          "x start location": 106.75169354838715,
          "y gk position": 39.938387096774214,
          "y start location": 39.55612903225798
         },
         {
          "Distance from goal": 17.306599991729712,
          "duration": 0.6793233092783508,
          "first time": 0.25,
          "num opponents between shot and goal": 0.2422680412371134,
          "num opponents within 5 yards": 1.4974226804123711,
          "outcome": 0.20103092783505155,
          "play pattern": "From Counter",
          "statsbomb xg": 0.19455708811597933,
          "x gk position": 115.64587628865978,
          "x start location": 106.27268041237109,
          "y gk position": 39.513144329896924,
          "y start location": 38.65644329896907
         },
         {
          "Distance from goal": 22.006841434101904,
          "duration": 0.8306514460966552,
          "first time": 0.2328066914498141,
          "num opponents between shot and goal": 1.3006505576208178,
          "num opponents within 5 yards": 1.2026022304832713,
          "outcome": 0.11013011152416356,
          "play pattern": "From Free Kick",
          "statsbomb xg": 0.09562705712941444,
          "x gk position": 118.08740706319686,
          "x start location": 100.87718401486997,
          "y gk position": 40.001068773234245,
          "y start location": 39.2852695167286
         },
         {
          "Distance from goal": 19.100817851815183,
          "duration": 0.735783024137931,
          "first time": 0.31724137931034485,
          "num opponents between shot and goal": 0.4586206896551724,
          "num opponents within 5 yards": 1.5724137931034483,
          "outcome": 0.15172413793103448,
          "play pattern": "From Goal Kick",
          "statsbomb xg": 0.12781129346034487,
          "x gk position": 117.4803448275863,
          "x start location": 104.29896551724134,
          "y gk position": 39.95310344827584,
          "y start location": 40.20344827586209
         },
         {
          "Distance from goal": 19.998194562120624,
          "duration": 0.7568806513761467,
          "first time": 0.30275229357798167,
          "num opponents between shot and goal": 0.48623853211009177,
          "num opponents within 5 yards": 1.5229357798165137,
          "outcome": 0.07339449541284404,
          "play pattern": "From Keeper",
          "statsbomb xg": 0.1376434548440366,
          "x gk position": 116.75045871559632,
          "x start location": 102.48623853211008,
          "y gk position": 39.732110091743124,
          "y start location": 38.68348623853211
         },
         {
          "Distance from goal": 20.448421685648086,
          "duration": 0.8260737435897438,
          "first time": 0.29914529914529914,
          "num opponents between shot and goal": 0.4700854700854701,
          "num opponents within 5 yards": 1.5042735042735043,
          "outcome": 0.10256410256410256,
          "play pattern": "From Kick Off",
          "statsbomb xg": 0.0893793478418803,
          "x gk position": 117.73504273504277,
          "x start location": 102.83760683760687,
          "y gk position": 40.083760683760694,
          "y start location": 39.722222222222214
         },
         {
          "Distance from goal": 19.566209736728286,
          "duration": 0.774703845142441,
          "first time": 0.34696859021183346,
          "num opponents between shot and goal": 0.4784514243973703,
          "num opponents within 5 yards": 1.5675675675675675,
          "outcome": 0.1241782322863404,
          "play pattern": "From Throw In",
          "statsbomb xg": 0.1143172267951058,
          "x gk position": 117.6943754565378,
          "x start location": 103.67976625273919,
          "y gk position": 39.95551497443389,
          "y start location": 39.49824689554419
         },
         {
          "Distance from goal": 12.664404030606923,
          "duration": 0.5962395648854961,
          "first time": 0.05343511450381679,
          "num opponents between shot and goal": 0.04580152671755725,
          "num opponents within 5 yards": 0.16030534351145037,
          "outcome": 0.7557251908396947,
          "play pattern": "Other",
          "statsbomb xg": 0.71475776816794,
          "x gk position": 119.73664122137404,
          "x start location": 107.49770992366417,
          "y gk position": 40.01297709923665,
          "y start location": 40.06946564885497
         },
         {
          "Distance from goal": 19.18063255281885,
          "duration": 0.7781636039325857,
          "first time": 0.3233458177278402,
          "num opponents between shot and goal": 0.47034956304619224,
          "num opponents within 5 yards": 1.5127965043695382,
          "outcome": 0.149812734082397,
          "play pattern": "Regular Play",
          "statsbomb xg": 0.133302024718945,
          "x gk position": 117.32815230961319,
          "x start location": 103.97272159800225,
          "y gk position": 39.79160424469419,
          "y start location": 38.94019975031219
         }
        ]
       },
       "encoding": {
        "x": {
         "axis": {
          "labelAngle": 0,
          "title": "play pattern"
         },
         "field": "play pattern",
         "type": "nominal"
        },
        "y": {
         "axis": {
          "title": "num opponents between shot and goal"
         },
         "field": "num opponents between shot and goal",
         "type": "quantitative"
        }
       },
       "height": 300,
       "mark": "bar",
       "title": "mean num opponents between shot and goal by play pattern",
       "width": 850
      },
      "image/png": "[encoded data removed]",
      "text/plain": [
       "<VegaLite 3 object>\n",
       "\n",
       "If you see this message, it means the renderer has not been properly enabled\n",
       "for the frontend that you are using. For more information, see\n",
       "https://altair-viz.github.io/user_guide/troubleshooting.html\n"
      ]
     },
     "execution_count": 156,
     "metadata": {},
     "output_type": "execute_result"
    }
   ],
   "source": [
    "alt.Chart(shot_training_set.groupby(\"play pattern\").mean().reset_index()).mark_bar().encode(\n",
    "        alt.X('play pattern:N', axis = alt.Axis(title = \"play pattern\", labelAngle = 0)),\n",
    "        alt.Y('num opponents between shot and goal:Q', axis = alt.Axis(title = 'num opponents between shot and goal'))\n",
    ").properties(width = 850, height = 300, \n",
    "             title = \"mean num opponents between shot and goal by play pattern\"\n",
    ").configure_axis(labelFontSize = 13, titleFontSize = 15\n",
    ").configure_title(fontSize = 16)"
   ]
  },
  {
   "cell_type": "markdown",
   "metadata": {},
   "source": [
    "Right, so we can see that actually, shots resulting from counters result in a higher rate of goals scored because there are less opponents between the shot location and the goal (on average), makes sense. "
   ]
  },
  {
   "cell_type": "markdown",
   "metadata": {},
   "source": [
    "#### 2.3.3 Percent goals by first time "
   ]
  },
  {
   "cell_type": "code",
   "execution_count": 157,
   "metadata": {},
   "outputs": [
    {
     "data": {
      "application/vnd.vegalite.v3+json": {
       "$schema": "https://vega.github.io/schema/vega-lite/v3.4.0.json",
       "config": {
        "axis": {
         "labelFontSize": 13,
         "titleFontSize": 15
        },
        "mark": {
         "tooltip": null
        },
        "title": {
         "fontSize": 16
        },
        "view": {
         "height": 300,
         "width": 400
        }
       },
       "data": {
        "name": "data-e093ed6dcd046cfebc2254cc90fd6e4d"
       },
       "datasets": {
        "data-e093ed6dcd046cfebc2254cc90fd6e4d": [
         {
          "Goal": 731,
          "No Goal": 5593,
          "Percent Goal": 11.559139784946236,
          "first time": false
         },
         {
          "Goal": 504,
          "No Goal": 2172,
          "Percent Goal": 18.82704519985058,
          "first time": true
         }
        ]
       },
       "encoding": {
        "x": {
         "axis": {
          "labelAngle": 0,
          "title": "first time"
         },
         "field": "first time",
         "type": "nominal"
        },
        "y": {
         "axis": {
          "title": "Percent Goal"
         },
         "field": "Percent Goal",
         "type": "quantitative"
        }
       },
       "height": 300,
       "mark": "bar",
       "title": "Percent Goal vs first time",
       "width": 850
      },
      "image/png": "[encoded data removed]",
      "text/plain": [
       "<VegaLite 3 object>\n",
       "\n",
       "If you see this message, it means the renderer has not been properly enabled\n",
       "for the frontend that you are using. For more information, see\n",
       "https://altair-viz.github.io/user_guide/troubleshooting.html\n"
      ]
     },
     "execution_count": 157,
     "metadata": {},
     "output_type": "execute_result"
    }
   ],
   "source": [
    "plot_percent_goal_vs_attr(\"first time\", \"bar\")"
   ]
  },
  {
   "cell_type": "markdown",
   "metadata": {},
   "source": [
    "Above, we see that shots taken \"first time\" have a higher chance of resulting in a goal that those not taken first time. If all things were equal, this wouldn't make much intuitive sense. But in this case, shots taken first time likely had other favorable conditions which would increase their chance of resulting in a goal. Let's see if this is true:"
   ]
  },
  {
   "cell_type": "code",
   "execution_count": 158,
   "metadata": {},
   "outputs": [
    {
     "data": {
      "text/html": [
       "<div>\n",
       "<style scoped>\n",
       "    .dataframe tbody tr th:only-of-type {\n",
       "        vertical-align: middle;\n",
       "    }\n",
       "\n",
       "    .dataframe tbody tr th {\n",
       "        vertical-align: top;\n",
       "    }\n",
       "\n",
       "    .dataframe thead th {\n",
       "        text-align: right;\n",
       "    }\n",
       "</style>\n",
       "<table border=\"1\" class=\"dataframe\">\n",
       "  <thead>\n",
       "    <tr style=\"text-align: right;\">\n",
       "      <th></th>\n",
       "      <th>first time</th>\n",
       "      <th>x start location</th>\n",
       "      <th>y start location</th>\n",
       "      <th>duration</th>\n",
       "      <th>outcome</th>\n",
       "      <th>x gk position</th>\n",
       "      <th>y gk position</th>\n",
       "      <th>num opponents within 5 yards</th>\n",
       "      <th>num opponents between shot and goal</th>\n",
       "      <th>statsbomb xg</th>\n",
       "      <th>Distance from goal</th>\n",
       "    </tr>\n",
       "  </thead>\n",
       "  <tbody>\n",
       "    <tr>\n",
       "      <th>0</th>\n",
       "      <td>False</td>\n",
       "      <td>102.90865</td>\n",
       "      <td>39.086812</td>\n",
       "      <td>0.798469</td>\n",
       "      <td>0.115591</td>\n",
       "      <td>117.770509</td>\n",
       "      <td>39.878352</td>\n",
       "      <td>1.604364</td>\n",
       "      <td>0.744466</td>\n",
       "      <td>0.108986</td>\n",
       "      <td>20.183133</td>\n",
       "    </tr>\n",
       "    <tr>\n",
       "      <th>1</th>\n",
       "      <td>True</td>\n",
       "      <td>105.56704</td>\n",
       "      <td>39.616891</td>\n",
       "      <td>0.758401</td>\n",
       "      <td>0.188341</td>\n",
       "      <td>117.527354</td>\n",
       "      <td>39.905232</td>\n",
       "      <td>1.294843</td>\n",
       "      <td>0.664798</td>\n",
       "      <td>0.168804</td>\n",
       "      <td>17.144552</td>\n",
       "    </tr>\n",
       "  </tbody>\n",
       "</table>\n",
       "</div>"
      ],
      "text/plain": [
       "   first time  x start location  y start location  duration   outcome  \\\n",
       "0       False         102.90865         39.086812  0.798469  0.115591   \n",
       "1        True         105.56704         39.616891  0.758401  0.188341   \n",
       "\n",
       "   x gk position  y gk position  num opponents within 5 yards  \\\n",
       "0     117.770509      39.878352                      1.604364   \n",
       "1     117.527354      39.905232                      1.294843   \n",
       "\n",
       "   num opponents between shot and goal  statsbomb xg  Distance from goal  \n",
       "0                             0.744466      0.108986           20.183133  \n",
       "1                             0.664798      0.168804           17.144552  "
      ]
     },
     "execution_count": 158,
     "metadata": {},
     "output_type": "execute_result"
    }
   ],
   "source": [
    "shot_training_set.groupby(\"first time\").mean().reset_index()"
   ]
  },
  {
   "cell_type": "code",
   "execution_count": 159,
   "metadata": {},
   "outputs": [
    {
     "data": {
      "application/vnd.vegalite.v3+json": {
       "$schema": "https://vega.github.io/schema/vega-lite/v3.4.0.json",
       "config": {
        "axis": {
         "labelFontSize": 13,
         "titleFontSize": 15
        },
        "mark": {
         "tooltip": null
        },
        "title": {
         "fontSize": 16
        },
        "view": {
         "height": 300,
         "width": 400
        }
       },
       "data": {
        "name": "data-4c3d6bf50236b61cf819668bbf7e3b2e"
       },
       "datasets": {
        "data-4c3d6bf50236b61cf819668bbf7e3b2e": [
         {
          "Distance from goal": 20.18313251559592,
          "duration": 0.7984694626818482,
          "first time": false,
          "num opponents between shot and goal": 0.7444655281467426,
          "num opponents within 5 yards": 1.6043643263757115,
          "outcome": 0.11559139784946236,
          "statsbomb xg": 0.10898639316974974,
          "x gk position": 117.77050917141065,
          "x start location": 102.90864958886725,
          "y gk position": 39.87835230866549,
          "y start location": 39.08681214421279
         },
         {
          "Distance from goal": 17.14455183920321,
          "duration": 0.7584005676382669,
          "first time": true,
          "num opponents between shot and goal": 0.6647982062780269,
          "num opponents within 5 yards": 1.2948430493273542,
          "outcome": 0.18834080717488788,
          "statsbomb xg": 0.16880399316472333,
          "x gk position": 117.5273542600897,
          "x start location": 105.56704035874445,
          "y gk position": 39.90523168908821,
          "y start location": 39.616890881913335
         }
        ]
       },
       "encoding": {
        "x": {
         "axis": {
          "labelAngle": 0,
          "title": "first time"
         },
         "field": "first time",
         "type": "nominal"
        },
        "y": {
         "axis": {
          "title": "Distance from goal"
         },
         "field": "Distance from goal",
         "type": "quantitative"
        }
       },
       "height": 300,
       "mark": "bar",
       "title": "Mean distance from goal for shots taken first time vs not taken first time",
       "width": 850
      },
      "image/png": "[encoded data removed]",
      "text/plain": [
       "<VegaLite 3 object>\n",
       "\n",
       "If you see this message, it means the renderer has not been properly enabled\n",
       "for the frontend that you are using. For more information, see\n",
       "https://altair-viz.github.io/user_guide/troubleshooting.html\n"
      ]
     },
     "execution_count": 159,
     "metadata": {},
     "output_type": "execute_result"
    }
   ],
   "source": [
    "alt.Chart(shot_training_set.groupby(\"first time\").mean().reset_index()).mark_bar().encode(\n",
    "        alt.X('first time:N', axis = alt.Axis(title = \"first time\", labelAngle = 0)),\n",
    "        alt.Y('Distance from goal:Q', axis = alt.Axis(title = 'Distance from goal'))\n",
    ").properties(width = 850, height = 300, \n",
    "             title = \"Mean distance from goal for shots taken first time vs not taken first time\"\n",
    ").configure_axis(labelFontSize = 13, titleFontSize = 15\n",
    ").configure_title(fontSize = 16)"
   ]
  },
  {
   "cell_type": "code",
   "execution_count": 160,
   "metadata": {},
   "outputs": [
    {
     "data": {
      "application/vnd.vegalite.v3+json": {
       "$schema": "https://vega.github.io/schema/vega-lite/v3.4.0.json",
       "config": {
        "axis": {
         "labelFontSize": 13,
         "titleFontSize": 15
        },
        "mark": {
         "tooltip": null
        },
        "title": {
         "fontSize": 16
        },
        "view": {
         "height": 300,
         "width": 400
        }
       },
       "data": {
        "name": "data-4c3d6bf50236b61cf819668bbf7e3b2e"
       },
       "datasets": {
        "data-4c3d6bf50236b61cf819668bbf7e3b2e": [
         {
          "Distance from goal": 20.18313251559592,
          "duration": 0.7984694626818482,
          "first time": false,
          "num opponents between shot and goal": 0.7444655281467426,
          "num opponents within 5 yards": 1.6043643263757115,
          "outcome": 0.11559139784946236,
          "statsbomb xg": 0.10898639316974974,
          "x gk position": 117.77050917141065,
          "x start location": 102.90864958886725,
          "y gk position": 39.87835230866549,
          "y start location": 39.08681214421279
         },
         {
          "Distance from goal": 17.14455183920321,
          "duration": 0.7584005676382669,
          "first time": true,
          "num opponents between shot and goal": 0.6647982062780269,
          "num opponents within 5 yards": 1.2948430493273542,
          "outcome": 0.18834080717488788,
          "statsbomb xg": 0.16880399316472333,
          "x gk position": 117.5273542600897,
          "x start location": 105.56704035874445,
          "y gk position": 39.90523168908821,
          "y start location": 39.616890881913335
         }
        ]
       },
       "encoding": {
        "x": {
         "axis": {
          "labelAngle": 0,
          "title": "player pattern"
         },
         "field": "first time",
         "type": "nominal"
        },
        "y": {
         "axis": {
          "title": "mean num opponents within 5 yards"
         },
         "field": "num opponents within 5 yards",
         "type": "quantitative"
        }
       },
       "height": 300,
       "mark": "bar",
       "title": "Mean num opponents within 5 yards for shots taken first time vs not taken first time",
       "width": 850
      },
      "image/png": "[encoded data removed]",
      "text/plain": [
       "<VegaLite 3 object>\n",
       "\n",
       "If you see this message, it means the renderer has not been properly enabled\n",
       "for the frontend that you are using. For more information, see\n",
       "https://altair-viz.github.io/user_guide/troubleshooting.html\n"
      ]
     },
     "execution_count": 160,
     "metadata": {},
     "output_type": "execute_result"
    }
   ],
   "source": [
    "alt.Chart(shot_training_set.groupby(\"first time\").mean().reset_index()).mark_bar().encode(\n",
    "        alt.X('first time:N', axis = alt.Axis(title = \"player pattern\", labelAngle = 0)),\n",
    "        alt.Y('num opponents within 5 yards:Q', axis = alt.Axis(title = 'mean num opponents within 5 yards'))\n",
    ").properties(width = 850, height = 300, \n",
    "             title = \"Mean num opponents within 5 yards for shots taken first time vs not taken first time\"\n",
    ").configure_axis(labelFontSize = 13, titleFontSize = 15\n",
    ").configure_title(fontSize = 16)"
   ]
  },
  {
   "cell_type": "code",
   "execution_count": 161,
   "metadata": {},
   "outputs": [
    {
     "data": {
      "application/vnd.vegalite.v3+json": {
       "$schema": "https://vega.github.io/schema/vega-lite/v3.4.0.json",
       "config": {
        "axis": {
         "labelFontSize": 13,
         "titleFontSize": 15
        },
        "mark": {
         "tooltip": null
        },
        "title": {
         "fontSize": 16
        },
        "view": {
         "height": 300,
         "width": 400
        }
       },
       "data": {
        "name": "data-4c3d6bf50236b61cf819668bbf7e3b2e"
       },
       "datasets": {
        "data-4c3d6bf50236b61cf819668bbf7e3b2e": [
         {
          "Distance from goal": 20.18313251559592,
          "duration": 0.7984694626818482,
          "first time": false,
          "num opponents between shot and goal": 0.7444655281467426,
          "num opponents within 5 yards": 1.6043643263757115,
          "outcome": 0.11559139784946236,
          "statsbomb xg": 0.10898639316974974,
          "x gk position": 117.77050917141065,
          "x start location": 102.90864958886725,
          "y gk position": 39.87835230866549,
          "y start location": 39.08681214421279
         },
         {
          "Distance from goal": 17.14455183920321,
          "duration": 0.7584005676382669,
          "first time": true,
          "num opponents between shot and goal": 0.6647982062780269,
          "num opponents within 5 yards": 1.2948430493273542,
          "outcome": 0.18834080717488788,
          "statsbomb xg": 0.16880399316472333,
          "x gk position": 117.5273542600897,
          "x start location": 105.56704035874445,
          "y gk position": 39.90523168908821,
          "y start location": 39.616890881913335
         }
        ]
       },
       "encoding": {
        "x": {
         "axis": {
          "labelAngle": 0,
          "title": "player pattern"
         },
         "field": "first time",
         "type": "nominal"
        },
        "y": {
         "axis": {
          "title": "num opponents between shot and goal"
         },
         "field": "num opponents between shot and goal",
         "type": "quantitative"
        }
       },
       "height": 300,
       "mark": "bar",
       "title": "Mean num opponents between shot and goal for shots taken first time vs not taken first time",
       "width": 850
      },
      "image/png": "[encoded data removed]",
      "text/plain": [
       "<VegaLite 3 object>\n",
       "\n",
       "If you see this message, it means the renderer has not been properly enabled\n",
       "for the frontend that you are using. For more information, see\n",
       "https://altair-viz.github.io/user_guide/troubleshooting.html\n"
      ]
     },
     "execution_count": 161,
     "metadata": {},
     "output_type": "execute_result"
    }
   ],
   "source": [
    "alt.Chart(shot_training_set.groupby(\"first time\").mean().reset_index()).mark_bar().encode(\n",
    "        alt.X('first time:N', axis = alt.Axis(title = \"player pattern\", labelAngle = 0)),\n",
    "        alt.Y('num opponents between shot and goal:Q', axis = alt.Axis(title = 'num opponents between shot and goal'))\n",
    ").properties(width = 850, height = 300, \n",
    "             title = \"Mean num opponents between shot and goal for shots taken first time vs not taken first time\"\n",
    ").configure_axis(labelFontSize = 13, titleFontSize = 15\n",
    ").configure_title(fontSize = 16)"
   ]
  },
  {
   "cell_type": "markdown",
   "metadata": {},
   "source": [
    "So just as we guessed, shots taken first time are, on average, slightly closer to the goal and are taken with less opponents between the shot location and the goal, and within 5 yards of the shot location."
   ]
  },
  {
   "cell_type": "code",
   "execution_count": null,
   "metadata": {},
   "outputs": [],
   "source": []
  },
  {
   "cell_type": "markdown",
   "metadata": {},
   "source": [
    "## 3. Data preprocessing"
   ]
  },
  {
   "cell_type": "markdown",
   "metadata": {},
   "source": [
    "So in the previous section, we explored our data, and most of our findings made intuitive sense. Now, we will create pipelines for preprocessing the categorical and numerical attributes in our shot data frame, then combine the two pipelines. To refresh our memories, here is the shot data frame again:"
   ]
  },
  {
   "cell_type": "code",
   "execution_count": 162,
   "metadata": {},
   "outputs": [
    {
     "data": {
      "text/html": [
       "<div>\n",
       "<style scoped>\n",
       "    .dataframe tbody tr th:only-of-type {\n",
       "        vertical-align: middle;\n",
       "    }\n",
       "\n",
       "    .dataframe tbody tr th {\n",
       "        vertical-align: top;\n",
       "    }\n",
       "\n",
       "    .dataframe thead th {\n",
       "        text-align: right;\n",
       "    }\n",
       "</style>\n",
       "<table border=\"1\" class=\"dataframe\">\n",
       "  <thead>\n",
       "    <tr style=\"text-align: right;\">\n",
       "      <th></th>\n",
       "      <th>play pattern</th>\n",
       "      <th>x start location</th>\n",
       "      <th>y start location</th>\n",
       "      <th>duration</th>\n",
       "      <th>outcome</th>\n",
       "      <th>technique</th>\n",
       "      <th>first time</th>\n",
       "      <th>x gk position</th>\n",
       "      <th>y gk position</th>\n",
       "      <th>type of shot</th>\n",
       "      <th>num opponents within 5 yards</th>\n",
       "      <th>num opponents between shot and goal</th>\n",
       "      <th>statsbomb xg</th>\n",
       "      <th>Distance from goal</th>\n",
       "    </tr>\n",
       "    <tr>\n",
       "      <th>shot id</th>\n",
       "      <th></th>\n",
       "      <th></th>\n",
       "      <th></th>\n",
       "      <th></th>\n",
       "      <th></th>\n",
       "      <th></th>\n",
       "      <th></th>\n",
       "      <th></th>\n",
       "      <th></th>\n",
       "      <th></th>\n",
       "      <th></th>\n",
       "      <th></th>\n",
       "      <th></th>\n",
       "      <th></th>\n",
       "    </tr>\n",
       "  </thead>\n",
       "  <tbody>\n",
       "    <tr>\n",
       "      <th>e7041246-4bc4-44db-81d7-9d6321b8c145</th>\n",
       "      <td>From Corner</td>\n",
       "      <td>94.1</td>\n",
       "      <td>54.1</td>\n",
       "      <td>0.695000</td>\n",
       "      <td>0</td>\n",
       "      <td>Half Volley</td>\n",
       "      <td>True</td>\n",
       "      <td>118.7</td>\n",
       "      <td>41.5</td>\n",
       "      <td>Open Play</td>\n",
       "      <td>1</td>\n",
       "      <td>2</td>\n",
       "      <td>0.015635</td>\n",
       "      <td>29.489320</td>\n",
       "    </tr>\n",
       "    <tr>\n",
       "      <th>067cc66b-608c-4f79-a0eb-9cd79a90b3fc</th>\n",
       "      <td>From Free Kick</td>\n",
       "      <td>106.1</td>\n",
       "      <td>22.5</td>\n",
       "      <td>0.115824</td>\n",
       "      <td>0</td>\n",
       "      <td>Normal</td>\n",
       "      <td>False</td>\n",
       "      <td>118.0</td>\n",
       "      <td>36.4</td>\n",
       "      <td>Open Play</td>\n",
       "      <td>2</td>\n",
       "      <td>0</td>\n",
       "      <td>0.023676</td>\n",
       "      <td>22.348602</td>\n",
       "    </tr>\n",
       "    <tr>\n",
       "      <th>fed3f331-8c61-4600-8492-204f28fb51c6</th>\n",
       "      <td>From Counter</td>\n",
       "      <td>107.8</td>\n",
       "      <td>52.8</td>\n",
       "      <td>0.662629</td>\n",
       "      <td>1</td>\n",
       "      <td>Normal</td>\n",
       "      <td>False</td>\n",
       "      <td>115.8</td>\n",
       "      <td>43.8</td>\n",
       "      <td>Open Play</td>\n",
       "      <td>1</td>\n",
       "      <td>0</td>\n",
       "      <td>0.136143</td>\n",
       "      <td>17.682760</td>\n",
       "    </tr>\n",
       "    <tr>\n",
       "      <th>9c08d27a-a350-491a-bc88-e68c7fb05cf5</th>\n",
       "      <td>From Free Kick</td>\n",
       "      <td>90.6</td>\n",
       "      <td>44.8</td>\n",
       "      <td>1.252141</td>\n",
       "      <td>0</td>\n",
       "      <td>Normal</td>\n",
       "      <td>False</td>\n",
       "      <td>118.8</td>\n",
       "      <td>39.6</td>\n",
       "      <td>Open Play</td>\n",
       "      <td>0</td>\n",
       "      <td>0</td>\n",
       "      <td>0.023728</td>\n",
       "      <td>29.789260</td>\n",
       "    </tr>\n",
       "    <tr>\n",
       "      <th>71033ad7-4b50-412a-8656-644f7ca9f2c9</th>\n",
       "      <td>From Free Kick</td>\n",
       "      <td>100.8</td>\n",
       "      <td>50.3</td>\n",
       "      <td>0.136700</td>\n",
       "      <td>0</td>\n",
       "      <td>Normal</td>\n",
       "      <td>False</td>\n",
       "      <td>119.1</td>\n",
       "      <td>40.0</td>\n",
       "      <td>Open Play</td>\n",
       "      <td>2</td>\n",
       "      <td>1</td>\n",
       "      <td>0.036323</td>\n",
       "      <td>21.788300</td>\n",
       "    </tr>\n",
       "  </tbody>\n",
       "</table>\n",
       "</div>"
      ],
      "text/plain": [
       "                                        play pattern  x start location  \\\n",
       "shot id                                                                  \n",
       "e7041246-4bc4-44db-81d7-9d6321b8c145     From Corner              94.1   \n",
       "067cc66b-608c-4f79-a0eb-9cd79a90b3fc  From Free Kick             106.1   \n",
       "fed3f331-8c61-4600-8492-204f28fb51c6    From Counter             107.8   \n",
       "9c08d27a-a350-491a-bc88-e68c7fb05cf5  From Free Kick              90.6   \n",
       "71033ad7-4b50-412a-8656-644f7ca9f2c9  From Free Kick             100.8   \n",
       "\n",
       "                                      y start location  duration  outcome  \\\n",
       "shot id                                                                     \n",
       "e7041246-4bc4-44db-81d7-9d6321b8c145              54.1  0.695000        0   \n",
       "067cc66b-608c-4f79-a0eb-9cd79a90b3fc              22.5  0.115824        0   \n",
       "fed3f331-8c61-4600-8492-204f28fb51c6              52.8  0.662629        1   \n",
       "9c08d27a-a350-491a-bc88-e68c7fb05cf5              44.8  1.252141        0   \n",
       "71033ad7-4b50-412a-8656-644f7ca9f2c9              50.3  0.136700        0   \n",
       "\n",
       "                                        technique  first time  x gk position  \\\n",
       "shot id                                                                        \n",
       "e7041246-4bc4-44db-81d7-9d6321b8c145  Half Volley        True          118.7   \n",
       "067cc66b-608c-4f79-a0eb-9cd79a90b3fc       Normal       False          118.0   \n",
       "fed3f331-8c61-4600-8492-204f28fb51c6       Normal       False          115.8   \n",
       "9c08d27a-a350-491a-bc88-e68c7fb05cf5       Normal       False          118.8   \n",
       "71033ad7-4b50-412a-8656-644f7ca9f2c9       Normal       False          119.1   \n",
       "\n",
       "                                      y gk position type of shot  \\\n",
       "shot id                                                            \n",
       "e7041246-4bc4-44db-81d7-9d6321b8c145           41.5    Open Play   \n",
       "067cc66b-608c-4f79-a0eb-9cd79a90b3fc           36.4    Open Play   \n",
       "fed3f331-8c61-4600-8492-204f28fb51c6           43.8    Open Play   \n",
       "9c08d27a-a350-491a-bc88-e68c7fb05cf5           39.6    Open Play   \n",
       "71033ad7-4b50-412a-8656-644f7ca9f2c9           40.0    Open Play   \n",
       "\n",
       "                                      num opponents within 5 yards  \\\n",
       "shot id                                                              \n",
       "e7041246-4bc4-44db-81d7-9d6321b8c145                             1   \n",
       "067cc66b-608c-4f79-a0eb-9cd79a90b3fc                             2   \n",
       "fed3f331-8c61-4600-8492-204f28fb51c6                             1   \n",
       "9c08d27a-a350-491a-bc88-e68c7fb05cf5                             0   \n",
       "71033ad7-4b50-412a-8656-644f7ca9f2c9                             2   \n",
       "\n",
       "                                      num opponents between shot and goal  \\\n",
       "shot id                                                                     \n",
       "e7041246-4bc4-44db-81d7-9d6321b8c145                                    2   \n",
       "067cc66b-608c-4f79-a0eb-9cd79a90b3fc                                    0   \n",
       "fed3f331-8c61-4600-8492-204f28fb51c6                                    0   \n",
       "9c08d27a-a350-491a-bc88-e68c7fb05cf5                                    0   \n",
       "71033ad7-4b50-412a-8656-644f7ca9f2c9                                    1   \n",
       "\n",
       "                                      statsbomb xg  Distance from goal  \n",
       "shot id                                                                 \n",
       "e7041246-4bc4-44db-81d7-9d6321b8c145      0.015635           29.489320  \n",
       "067cc66b-608c-4f79-a0eb-9cd79a90b3fc      0.023676           22.348602  \n",
       "fed3f331-8c61-4600-8492-204f28fb51c6      0.136143           17.682760  \n",
       "9c08d27a-a350-491a-bc88-e68c7fb05cf5      0.023728           29.789260  \n",
       "71033ad7-4b50-412a-8656-644f7ca9f2c9      0.036323           21.788300  "
      ]
     },
     "execution_count": 162,
     "metadata": {},
     "output_type": "execute_result"
    }
   ],
   "source": [
    "shot_training_set.head()"
   ]
  },
  {
   "cell_type": "markdown",
   "metadata": {},
   "source": [
    "First, we create a class `AttrSelector`, which has methods `fit` and `transform` that we can use in our pipeline. This method will be use to select the features in our data frame for each pipeline.\n",
    "\n",
    "Also, by making this class a subclass of `BaseEstimator` and `TransformerMixin`, we get the `fit_transform`, `get_params()` and `set_params()` methods as well."
   ]
  },
  {
   "cell_type": "code",
   "execution_count": 163,
   "metadata": {},
   "outputs": [],
   "source": [
    "class AttrSelector(BaseEstimator, TransformerMixin):\n",
    "    \n",
    "    def __init__(self, attributes):\n",
    "        self.attributes = attributes\n",
    "   \n",
    "    def fit(self, attributes):\n",
    "        return self\n",
    "    \n",
    "    def transform(self, X):\n",
    "        return X[self.attributes]"
   ]
  },
  {
   "cell_type": "markdown",
   "metadata": {},
   "source": [
    "### 3.1 Categorical pipeline\n",
    "\n",
    "In our categorical pipeline, we will use AttrSelector to select the relevant categorical attributes, stored as a list in the _categorical_shot_attributes_ variable. We then encode the values of each categorical variable as \"One hot vector\". "
   ]
  },
  {
   "cell_type": "code",
   "execution_count": 164,
   "metadata": {},
   "outputs": [],
   "source": [
    "categorical_shot_attributes = [\"play pattern\", \"technique\", \"first time\"]\n",
    "\n",
    "categorical_attr_pipeline = Pipeline([\n",
    "    ('selector', AttrSelector(categorical_shot_attributes)),\n",
    "    ('one_hot_encoder',  OneHotEncoder())\n",
    "])"
   ]
  },
  {
   "cell_type": "code",
   "execution_count": 165,
   "metadata": {},
   "outputs": [],
   "source": [
    "one_hot_vals_play_pattern = shot_training_set[\"play pattern\"].unique()\n",
    "one_hot_vals_technique = shot_training_set[\"technique\"].unique()\n",
    "one_hot_vals_first_time = shot_training_set[\"first time\"].unique()\n",
    "\n",
    "one_hot_categorical_features = np.concatenate([one_hot_vals_play_pattern, one_hot_vals_technique, one_hot_vals_first_time])"
   ]
  },
  {
   "cell_type": "markdown",
   "metadata": {},
   "source": [
    "### 3.2 Numerical pipeline\n",
    "\n",
    "In our numerical pipeline, we will use AttrSelector to select the relevant numerical attributes, stored as a list in the _numerical_shot_attributes_ variable."
   ]
  },
  {
   "cell_type": "code",
   "execution_count": 166,
   "metadata": {},
   "outputs": [],
   "source": [
    "numerical_shot_attributes = [\"x start location\", \"y start location\", \"x gk position\", \"y gk position\", \n",
    "                             \"num opponents within 5 yards\", \"num opponents between shot and goal\", \"Distance from goal\"]\n",
    "\n",
    "numerical_attr_pipeline = Pipeline([\n",
    "    ('selector', AttrSelector(numerical_shot_attributes))\n",
    "])\n",
    "\n",
    "numerical_features = np.array(numerical_shot_attributes)"
   ]
  },
  {
   "cell_type": "markdown",
   "metadata": {},
   "source": [
    "### 3.3 Combined pipeline\n",
    "\n",
    "Now we combine the categorical and numerical pipelines using the `FeatureUnion` class. And we get our data frame transformed into a sparse matrix, ready to be passed through to sklearn models."
   ]
  },
  {
   "cell_type": "code",
   "execution_count": 167,
   "metadata": {},
   "outputs": [],
   "source": [
    "combined_pipeline = FeatureUnion(transformer_list = [\n",
    "    (\"categorical_attr_pipeline\", categorical_attr_pipeline),\n",
    "    (\"numerical_attr_pipeline\", numerical_attr_pipeline)\n",
    "])\n",
    "\n",
    "X_train = combined_pipeline.fit_transform(shot_training_set)\n",
    "X_test = combined_pipeline.transform(shot_test_set)"
   ]
  },
  {
   "cell_type": "code",
   "execution_count": 168,
   "metadata": {},
   "outputs": [],
   "source": [
    "#list containing names of all features (including new one-hot features)\n",
    "total_features = np.concatenate([one_hot_categorical_features, numerical_features])"
   ]
  },
  {
   "cell_type": "code",
   "execution_count": 169,
   "metadata": {},
   "outputs": [],
   "source": [
    "y_train = shot_training_set[\"outcome\"]\n",
    "y_test = shot_test_set[\"outcome\"]"
   ]
  },
  {
   "cell_type": "markdown",
   "metadata": {},
   "source": [
    "## 4. Models\n",
    "\n",
    "### 4.1 Logistic Regression"
   ]
  },
  {
   "cell_type": "code",
   "execution_count": 185,
   "metadata": {},
   "outputs": [
    {
     "data": {
      "text/html": [
       "<div>\n",
       "<style scoped>\n",
       "    .dataframe tbody tr th:only-of-type {\n",
       "        vertical-align: middle;\n",
       "    }\n",
       "\n",
       "    .dataframe tbody tr th {\n",
       "        vertical-align: top;\n",
       "    }\n",
       "\n",
       "    .dataframe thead th {\n",
       "        text-align: right;\n",
       "    }\n",
       "</style>\n",
       "<table border=\"1\" class=\"dataframe\">\n",
       "  <thead>\n",
       "    <tr style=\"text-align: right;\">\n",
       "      <th></th>\n",
       "      <th>play pattern</th>\n",
       "      <th>x start location</th>\n",
       "      <th>y start location</th>\n",
       "      <th>duration</th>\n",
       "      <th>outcome</th>\n",
       "      <th>technique</th>\n",
       "      <th>first time</th>\n",
       "      <th>x gk position</th>\n",
       "      <th>y gk position</th>\n",
       "      <th>type of shot</th>\n",
       "      <th>num opponents within 5 yards</th>\n",
       "      <th>num opponents between shot and goal</th>\n",
       "      <th>statsbomb xg</th>\n",
       "      <th>Distance from goal</th>\n",
       "      <th>xG</th>\n",
       "      <th>diff</th>\n",
       "    </tr>\n",
       "    <tr>\n",
       "      <th>shot id</th>\n",
       "      <th></th>\n",
       "      <th></th>\n",
       "      <th></th>\n",
       "      <th></th>\n",
       "      <th></th>\n",
       "      <th></th>\n",
       "      <th></th>\n",
       "      <th></th>\n",
       "      <th></th>\n",
       "      <th></th>\n",
       "      <th></th>\n",
       "      <th></th>\n",
       "      <th></th>\n",
       "      <th></th>\n",
       "      <th></th>\n",
       "      <th></th>\n",
       "    </tr>\n",
       "  </thead>\n",
       "  <tbody>\n",
       "    <tr>\n",
       "      <th>5e3d1039-0342-46b4-940b-12bca547be4e</th>\n",
       "      <td>Regular Play</td>\n",
       "      <td>100.9</td>\n",
       "      <td>45.0</td>\n",
       "      <td>0.220400</td>\n",
       "      <td>0</td>\n",
       "      <td>Lob</td>\n",
       "      <td>True</td>\n",
       "      <td>103.6</td>\n",
       "      <td>44.1</td>\n",
       "      <td>Open Play</td>\n",
       "      <td>1</td>\n",
       "      <td>0</td>\n",
       "      <td>0.269566</td>\n",
       "      <td>19.743607</td>\n",
       "      <td>0.672542</td>\n",
       "      <td>0.402977</td>\n",
       "    </tr>\n",
       "    <tr>\n",
       "      <th>403ee41f-cd8e-4350-9bc5-365f7e5b26c2</th>\n",
       "      <td>Regular Play</td>\n",
       "      <td>115.7</td>\n",
       "      <td>50.2</td>\n",
       "      <td>0.041465</td>\n",
       "      <td>0</td>\n",
       "      <td>Lob</td>\n",
       "      <td>True</td>\n",
       "      <td>116.8</td>\n",
       "      <td>47.5</td>\n",
       "      <td>Open Play</td>\n",
       "      <td>0</td>\n",
       "      <td>0</td>\n",
       "      <td>0.138373</td>\n",
       "      <td>11.069327</td>\n",
       "      <td>0.518619</td>\n",
       "      <td>0.380246</td>\n",
       "    </tr>\n",
       "    <tr>\n",
       "      <th>84a0f2a5-62fc-490c-8f8e-25d100398ba9</th>\n",
       "      <td>From Free Kick</td>\n",
       "      <td>107.3</td>\n",
       "      <td>51.1</td>\n",
       "      <td>1.607000</td>\n",
       "      <td>0</td>\n",
       "      <td>Lob</td>\n",
       "      <td>False</td>\n",
       "      <td>108.7</td>\n",
       "      <td>49.9</td>\n",
       "      <td>Open Play</td>\n",
       "      <td>0</td>\n",
       "      <td>0</td>\n",
       "      <td>0.143760</td>\n",
       "      <td>16.867128</td>\n",
       "      <td>0.518749</td>\n",
       "      <td>0.374990</td>\n",
       "    </tr>\n",
       "    <tr>\n",
       "      <th>384e6ad8-e85b-488d-8bc8-ec0539a56f83</th>\n",
       "      <td>From Throw In</td>\n",
       "      <td>110.6</td>\n",
       "      <td>49.5</td>\n",
       "      <td>0.447827</td>\n",
       "      <td>0</td>\n",
       "      <td>Lob</td>\n",
       "      <td>True</td>\n",
       "      <td>111.7</td>\n",
       "      <td>48.2</td>\n",
       "      <td>Open Play</td>\n",
       "      <td>0</td>\n",
       "      <td>0</td>\n",
       "      <td>0.253563</td>\n",
       "      <td>13.364505</td>\n",
       "      <td>0.611662</td>\n",
       "      <td>0.358099</td>\n",
       "    </tr>\n",
       "    <tr>\n",
       "      <th>bc2951de-25f7-4ca6-8358-e579978fc43c</th>\n",
       "      <td>From Counter</td>\n",
       "      <td>107.8</td>\n",
       "      <td>45.9</td>\n",
       "      <td>1.450679</td>\n",
       "      <td>0</td>\n",
       "      <td>Lob</td>\n",
       "      <td>True</td>\n",
       "      <td>113.5</td>\n",
       "      <td>43.5</td>\n",
       "      <td>Open Play</td>\n",
       "      <td>0</td>\n",
       "      <td>1</td>\n",
       "      <td>0.276636</td>\n",
       "      <td>13.551753</td>\n",
       "      <td>0.613754</td>\n",
       "      <td>0.337118</td>\n",
       "    </tr>\n",
       "    <tr>\n",
       "      <th>...</th>\n",
       "      <td>...</td>\n",
       "      <td>...</td>\n",
       "      <td>...</td>\n",
       "      <td>...</td>\n",
       "      <td>...</td>\n",
       "      <td>...</td>\n",
       "      <td>...</td>\n",
       "      <td>...</td>\n",
       "      <td>...</td>\n",
       "      <td>...</td>\n",
       "      <td>...</td>\n",
       "      <td>...</td>\n",
       "      <td>...</td>\n",
       "      <td>...</td>\n",
       "      <td>...</td>\n",
       "      <td>...</td>\n",
       "    </tr>\n",
       "    <tr>\n",
       "      <th>da4fabfa-70ee-4bb2-b9a0-51aa5545578b</th>\n",
       "      <td>From Corner</td>\n",
       "      <td>115.6</td>\n",
       "      <td>43.2</td>\n",
       "      <td>0.167745</td>\n",
       "      <td>1</td>\n",
       "      <td>Normal</td>\n",
       "      <td>True</td>\n",
       "      <td>117.0</td>\n",
       "      <td>40.6</td>\n",
       "      <td>Open Play</td>\n",
       "      <td>1</td>\n",
       "      <td>0</td>\n",
       "      <td>0.810563</td>\n",
       "      <td>5.440588</td>\n",
       "      <td>0.409459</td>\n",
       "      <td>-0.401105</td>\n",
       "    </tr>\n",
       "    <tr>\n",
       "      <th>90db73e8-bfc0-4804-b993-b9242170a070</th>\n",
       "      <td>From Corner</td>\n",
       "      <td>115.3</td>\n",
       "      <td>43.5</td>\n",
       "      <td>0.408600</td>\n",
       "      <td>1</td>\n",
       "      <td>Normal</td>\n",
       "      <td>True</td>\n",
       "      <td>117.8</td>\n",
       "      <td>39.3</td>\n",
       "      <td>Open Play</td>\n",
       "      <td>1</td>\n",
       "      <td>0</td>\n",
       "      <td>0.783143</td>\n",
       "      <td>5.860034</td>\n",
       "      <td>0.369946</td>\n",
       "      <td>-0.413197</td>\n",
       "    </tr>\n",
       "    <tr>\n",
       "      <th>e4c3cab7-b63a-4305-bf39-6e795d06fb50</th>\n",
       "      <td>From Goal Kick</td>\n",
       "      <td>118.1</td>\n",
       "      <td>37.3</td>\n",
       "      <td>0.286532</td>\n",
       "      <td>1</td>\n",
       "      <td>Half Volley</td>\n",
       "      <td>False</td>\n",
       "      <td>119.0</td>\n",
       "      <td>43.2</td>\n",
       "      <td>Open Play</td>\n",
       "      <td>1</td>\n",
       "      <td>0</td>\n",
       "      <td>0.835524</td>\n",
       "      <td>3.301515</td>\n",
       "      <td>0.346988</td>\n",
       "      <td>-0.488537</td>\n",
       "    </tr>\n",
       "    <tr>\n",
       "      <th>8d98570b-dd6b-4097-9d99-0fc175f2302c</th>\n",
       "      <td>From Corner</td>\n",
       "      <td>119.2</td>\n",
       "      <td>37.0</td>\n",
       "      <td>0.020412</td>\n",
       "      <td>1</td>\n",
       "      <td>Normal</td>\n",
       "      <td>False</td>\n",
       "      <td>119.4</td>\n",
       "      <td>39.2</td>\n",
       "      <td>Open Play</td>\n",
       "      <td>2</td>\n",
       "      <td>0</td>\n",
       "      <td>0.777937</td>\n",
       "      <td>3.104835</td>\n",
       "      <td>0.243756</td>\n",
       "      <td>-0.534181</td>\n",
       "    </tr>\n",
       "    <tr>\n",
       "      <th>ceec9e87-df47-4b25-a784-3b4b41606599</th>\n",
       "      <td>From Corner</td>\n",
       "      <td>119.1</td>\n",
       "      <td>42.6</td>\n",
       "      <td>0.531711</td>\n",
       "      <td>1</td>\n",
       "      <td>Normal</td>\n",
       "      <td>True</td>\n",
       "      <td>119.3</td>\n",
       "      <td>38.0</td>\n",
       "      <td>Open Play</td>\n",
       "      <td>3</td>\n",
       "      <td>0</td>\n",
       "      <td>0.902420</td>\n",
       "      <td>2.751363</td>\n",
       "      <td>0.322121</td>\n",
       "      <td>-0.580299</td>\n",
       "    </tr>\n",
       "  </tbody>\n",
       "</table>\n",
       "<p>2251 rows × 16 columns</p>\n",
       "</div>"
      ],
      "text/plain": [
       "                                        play pattern  x start location  \\\n",
       "shot id                                                                  \n",
       "5e3d1039-0342-46b4-940b-12bca547be4e    Regular Play             100.9   \n",
       "403ee41f-cd8e-4350-9bc5-365f7e5b26c2    Regular Play             115.7   \n",
       "84a0f2a5-62fc-490c-8f8e-25d100398ba9  From Free Kick             107.3   \n",
       "384e6ad8-e85b-488d-8bc8-ec0539a56f83   From Throw In             110.6   \n",
       "bc2951de-25f7-4ca6-8358-e579978fc43c    From Counter             107.8   \n",
       "...                                              ...               ...   \n",
       "da4fabfa-70ee-4bb2-b9a0-51aa5545578b     From Corner             115.6   \n",
       "90db73e8-bfc0-4804-b993-b9242170a070     From Corner             115.3   \n",
       "e4c3cab7-b63a-4305-bf39-6e795d06fb50  From Goal Kick             118.1   \n",
       "8d98570b-dd6b-4097-9d99-0fc175f2302c     From Corner             119.2   \n",
       "ceec9e87-df47-4b25-a784-3b4b41606599     From Corner             119.1   \n",
       "\n",
       "                                      y start location  duration  outcome  \\\n",
       "shot id                                                                     \n",
       "5e3d1039-0342-46b4-940b-12bca547be4e              45.0  0.220400        0   \n",
       "403ee41f-cd8e-4350-9bc5-365f7e5b26c2              50.2  0.041465        0   \n",
       "84a0f2a5-62fc-490c-8f8e-25d100398ba9              51.1  1.607000        0   \n",
       "384e6ad8-e85b-488d-8bc8-ec0539a56f83              49.5  0.447827        0   \n",
       "bc2951de-25f7-4ca6-8358-e579978fc43c              45.9  1.450679        0   \n",
       "...                                                ...       ...      ...   \n",
       "da4fabfa-70ee-4bb2-b9a0-51aa5545578b              43.2  0.167745        1   \n",
       "90db73e8-bfc0-4804-b993-b9242170a070              43.5  0.408600        1   \n",
       "e4c3cab7-b63a-4305-bf39-6e795d06fb50              37.3  0.286532        1   \n",
       "8d98570b-dd6b-4097-9d99-0fc175f2302c              37.0  0.020412        1   \n",
       "ceec9e87-df47-4b25-a784-3b4b41606599              42.6  0.531711        1   \n",
       "\n",
       "                                        technique  first time  x gk position  \\\n",
       "shot id                                                                        \n",
       "5e3d1039-0342-46b4-940b-12bca547be4e          Lob        True          103.6   \n",
       "403ee41f-cd8e-4350-9bc5-365f7e5b26c2          Lob        True          116.8   \n",
       "84a0f2a5-62fc-490c-8f8e-25d100398ba9          Lob       False          108.7   \n",
       "384e6ad8-e85b-488d-8bc8-ec0539a56f83          Lob        True          111.7   \n",
       "bc2951de-25f7-4ca6-8358-e579978fc43c          Lob        True          113.5   \n",
       "...                                           ...         ...            ...   \n",
       "da4fabfa-70ee-4bb2-b9a0-51aa5545578b       Normal        True          117.0   \n",
       "90db73e8-bfc0-4804-b993-b9242170a070       Normal        True          117.8   \n",
       "e4c3cab7-b63a-4305-bf39-6e795d06fb50  Half Volley       False          119.0   \n",
       "8d98570b-dd6b-4097-9d99-0fc175f2302c       Normal       False          119.4   \n",
       "ceec9e87-df47-4b25-a784-3b4b41606599       Normal        True          119.3   \n",
       "\n",
       "                                      y gk position type of shot  \\\n",
       "shot id                                                            \n",
       "5e3d1039-0342-46b4-940b-12bca547be4e           44.1    Open Play   \n",
       "403ee41f-cd8e-4350-9bc5-365f7e5b26c2           47.5    Open Play   \n",
       "84a0f2a5-62fc-490c-8f8e-25d100398ba9           49.9    Open Play   \n",
       "384e6ad8-e85b-488d-8bc8-ec0539a56f83           48.2    Open Play   \n",
       "bc2951de-25f7-4ca6-8358-e579978fc43c           43.5    Open Play   \n",
       "...                                             ...          ...   \n",
       "da4fabfa-70ee-4bb2-b9a0-51aa5545578b           40.6    Open Play   \n",
       "90db73e8-bfc0-4804-b993-b9242170a070           39.3    Open Play   \n",
       "e4c3cab7-b63a-4305-bf39-6e795d06fb50           43.2    Open Play   \n",
       "8d98570b-dd6b-4097-9d99-0fc175f2302c           39.2    Open Play   \n",
       "ceec9e87-df47-4b25-a784-3b4b41606599           38.0    Open Play   \n",
       "\n",
       "                                      num opponents within 5 yards  \\\n",
       "shot id                                                              \n",
       "5e3d1039-0342-46b4-940b-12bca547be4e                             1   \n",
       "403ee41f-cd8e-4350-9bc5-365f7e5b26c2                             0   \n",
       "84a0f2a5-62fc-490c-8f8e-25d100398ba9                             0   \n",
       "384e6ad8-e85b-488d-8bc8-ec0539a56f83                             0   \n",
       "bc2951de-25f7-4ca6-8358-e579978fc43c                             0   \n",
       "...                                                            ...   \n",
       "da4fabfa-70ee-4bb2-b9a0-51aa5545578b                             1   \n",
       "90db73e8-bfc0-4804-b993-b9242170a070                             1   \n",
       "e4c3cab7-b63a-4305-bf39-6e795d06fb50                             1   \n",
       "8d98570b-dd6b-4097-9d99-0fc175f2302c                             2   \n",
       "ceec9e87-df47-4b25-a784-3b4b41606599                             3   \n",
       "\n",
       "                                      num opponents between shot and goal  \\\n",
       "shot id                                                                     \n",
       "5e3d1039-0342-46b4-940b-12bca547be4e                                    0   \n",
       "403ee41f-cd8e-4350-9bc5-365f7e5b26c2                                    0   \n",
       "84a0f2a5-62fc-490c-8f8e-25d100398ba9                                    0   \n",
       "384e6ad8-e85b-488d-8bc8-ec0539a56f83                                    0   \n",
       "bc2951de-25f7-4ca6-8358-e579978fc43c                                    1   \n",
       "...                                                                   ...   \n",
       "da4fabfa-70ee-4bb2-b9a0-51aa5545578b                                    0   \n",
       "90db73e8-bfc0-4804-b993-b9242170a070                                    0   \n",
       "e4c3cab7-b63a-4305-bf39-6e795d06fb50                                    0   \n",
       "8d98570b-dd6b-4097-9d99-0fc175f2302c                                    0   \n",
       "ceec9e87-df47-4b25-a784-3b4b41606599                                    0   \n",
       "\n",
       "                                      statsbomb xg  Distance from goal  \\\n",
       "shot id                                                                  \n",
       "5e3d1039-0342-46b4-940b-12bca547be4e      0.269566           19.743607   \n",
       "403ee41f-cd8e-4350-9bc5-365f7e5b26c2      0.138373           11.069327   \n",
       "84a0f2a5-62fc-490c-8f8e-25d100398ba9      0.143760           16.867128   \n",
       "384e6ad8-e85b-488d-8bc8-ec0539a56f83      0.253563           13.364505   \n",
       "bc2951de-25f7-4ca6-8358-e579978fc43c      0.276636           13.551753   \n",
       "...                                            ...                 ...   \n",
       "da4fabfa-70ee-4bb2-b9a0-51aa5545578b      0.810563            5.440588   \n",
       "90db73e8-bfc0-4804-b993-b9242170a070      0.783143            5.860034   \n",
       "e4c3cab7-b63a-4305-bf39-6e795d06fb50      0.835524            3.301515   \n",
       "8d98570b-dd6b-4097-9d99-0fc175f2302c      0.777937            3.104835   \n",
       "ceec9e87-df47-4b25-a784-3b4b41606599      0.902420            2.751363   \n",
       "\n",
       "                                            xG      diff  \n",
       "shot id                                                   \n",
       "5e3d1039-0342-46b4-940b-12bca547be4e  0.672542  0.402977  \n",
       "403ee41f-cd8e-4350-9bc5-365f7e5b26c2  0.518619  0.380246  \n",
       "84a0f2a5-62fc-490c-8f8e-25d100398ba9  0.518749  0.374990  \n",
       "384e6ad8-e85b-488d-8bc8-ec0539a56f83  0.611662  0.358099  \n",
       "bc2951de-25f7-4ca6-8358-e579978fc43c  0.613754  0.337118  \n",
       "...                                        ...       ...  \n",
       "da4fabfa-70ee-4bb2-b9a0-51aa5545578b  0.409459 -0.401105  \n",
       "90db73e8-bfc0-4804-b993-b9242170a070  0.369946 -0.413197  \n",
       "e4c3cab7-b63a-4305-bf39-6e795d06fb50  0.346988 -0.488537  \n",
       "8d98570b-dd6b-4097-9d99-0fc175f2302c  0.243756 -0.534181  \n",
       "ceec9e87-df47-4b25-a784-3b4b41606599  0.322121 -0.580299  \n",
       "\n",
       "[2251 rows x 16 columns]"
      ]
     },
     "execution_count": 185,
     "metadata": {},
     "output_type": "execute_result"
    }
   ],
   "source": [
    "lr_model = LogisticRegression(solver='liblinear', C=10)\n",
    "lr_model.fit(X_train, y_train)\n",
    "xg_vals = lr_model.predict_proba(X_test)[:, 1]\n",
    "xg_model_results = shot_test_set.copy()\n",
    "xg_model_results[\"xG\"] = xg_vals\n",
    "xg_model_results[\"diff\"] = xg_model_results[\"xG\"] - xg_model_results[\"statsbomb xg\"]\n",
    "xg_model_results.sort_values(\"diff\", ascending=False)"
   ]
  },
  {
   "cell_type": "code",
   "execution_count": 186,
   "metadata": {},
   "outputs": [
    {
     "name": "stdout",
     "output_type": "stream",
     "text": [
      "14.888046910370088\n",
      "14.289193389995473\n"
     ]
    }
   ],
   "source": [
    "print(np.sqrt(np.sum((xg_model_results[\"xG\"]-xg_model_results[\"outcome\"])**2)))\n",
    "print(np.sqrt(np.sum((xg_model_results[\"statsbomb xg\"]-xg_model_results[\"outcome\"])**2)))"
   ]
  },
  {
   "cell_type": "code",
   "execution_count": null,
   "metadata": {},
   "outputs": [],
   "source": []
  }
 ],
 "metadata": {
  "kernelspec": {
   "display_name": "Python 3",
   "language": "python",
   "name": "python3"
  },
  "language_info": {
   "codemirror_mode": {
    "name": "ipython",
    "version": 3
   },
   "file_extension": ".py",
   "mimetype": "text/x-python",
   "name": "python",
   "nbconvert_exporter": "python",
   "pygments_lexer": "ipython3",
   "version": "3.7.4"
  }
 },
 "nbformat": 4,
 "nbformat_minor": 4
}
