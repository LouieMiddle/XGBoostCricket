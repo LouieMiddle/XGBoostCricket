{
 "cells": [
  {
   "cell_type": "code",
   "execution_count": 1,
   "metadata": {},
   "outputs": [],
   "source": [
    "from statsbomb_data_extraction import Game, fetch_matches_for_season, fetch_all_seasons_for_league\n",
    "from draw_pitch import draw_pitch\n",
    "\n",
    "import pandas as pd\n",
    "import numpy as np\n",
    "import matplotlib.pyplot as plt\n",
    "import altair as alt\n",
    "from scipy.stats import uniform\n",
    "\n",
    "from sklearn.model_selection import GridSearchCV, RandomizedSearchCV, train_test_split, KFold\n",
    "from sklearn.pipeline import Pipeline\n",
    "from sklearn.compose import ColumnTransformer\n",
    "from sklearn.preprocessing import StandardScaler, PolynomialFeatures,OneHotEncoder\n",
    "from sklearn.pipeline import FeatureUnion\n",
    "from sklearn.base import BaseEstimator, TransformerMixin\n",
    "\n",
    "from sklearn.model_selection import cross_val_score\n",
    "from sklearn.metrics import precision_score, log_loss\n",
    "from sklearn.linear_model import LogisticRegression\n",
    "from xgboost import XGBClassifier\n",
    "from lightgbm import LGBMClassifier\n",
    "from sklearn.ensemble import RandomForestClassifier"
   ]
  },
  {
   "cell_type": "markdown",
   "metadata": {},
   "source": [
    "# xG Model"
   ]
  },
  {
   "cell_type": "markdown",
   "metadata": {},
   "source": [
    "The concept of \"Expected Goals\" (xG for short), is a widely used metric among soccer analysts and fans alike. In fact, the idea of xG has infiltrated the mainstream in recent years, to the point where now, even most casual fans have probably heard of the term. The xG metric essentially describes how many goals we'd expect a team to score based on the chances it creates. Each shot a team takes can be assigned an xG value, ranging from 0 to 1, which represents the probability of that shot resulting in a goal. \n",
    "\n",
    "The xG metric helps provide objectivity in the analysis of a soccer match, since actual score lines can often be misleading given that luck plays such a large role in the game. If we can see that a team dominated a game by creating many more chances and generating a much larger xG than the other team, this tells us they were probably better on that day, regardless of what the final scoreline may say. Additionally, analyzing xG can help inform play styles, in terms of determining what type of shots are better to take to maximize the probability of scoring a goal.  \n",
    "\n",
    "This notebook consists in a comprehensive overview of an xG model created using Statsbomb public data. More specifically, the model is creating using data from Barcelona's La Liga matches from 2004 to 2016."
   ]
  },
  {
   "cell_type": "markdown",
   "metadata": {},
   "source": [
    "## Notebook Overview\n",
    "\n",
    "<font size = 4>\n",
    "\n",
    "1. Fetching data \n",
    "    - 1.1 Getting data from Statsbomb\n",
    "    - 1.2 Extracting shots data and attributes\n",
    "    \n",
    "    \n",
    "2. Data exploration\n",
    "    - 2.1 Creating new variables\n",
    "    - 2.2 Separate test and training set\n",
    "    - 2.3 Visualizing relationships\n",
    "\n",
    "    \n",
    "3. Data preprocessing for ML models\n",
    "    - 2.1 Categorical variables\n",
    "    - 2.2 Numerical variables\n",
    "    - 2.3 Combined pipeline\n",
    "    \n",
    "    \n",
    "4. Models\n",
    "    - 4.1 Logistic regression"
   ]
  },
  {
   "cell_type": "markdown",
   "metadata": {},
   "source": [
    "## 1. Fetching data"
   ]
  },
  {
   "cell_type": "markdown",
   "metadata": {},
   "source": [
    "### 1.1 Getting data from Statsbomb. "
   ]
  },
  {
   "cell_type": "markdown",
   "metadata": {},
   "source": [
    "To start off, I wrote some functions in the `statsbomb_data_extraction.py` file to get data from statsbomb in the form of json files for each game in a desired season / league. In the cell below, I call `fetch_matches_for_league` with argument **11**, as this corresponds to the La Liga comp in Statsbomb public data. (See [here](https://github.com/statsbomb/open-data/blob/master/data/competitions.json))."
   ]
  },
  {
   "cell_type": "code",
   "execution_count": 2,
   "metadata": {},
   "outputs": [
    {
     "name": "stdout",
     "output_type": "stream",
     "text": [
      "Getting season 2018/2019...\n",
      "Getting season 2017/2018...\n",
      "Getting season 2016/2017...\n",
      "Getting season 2015/2016...\n",
      "Getting season 2014/2015...\n",
      "Getting season 2013/2014...\n",
      "Getting season 2012/2013...\n",
      "Getting season 2011/2012...\n",
      "Getting season 2010/2011...\n",
      "Getting season 2009/2010...\n",
      "Getting season 2008/2009...\n",
      "Getting season 2007/2008...\n",
      "Getting season 2006/2007...\n",
      "Getting season 2005/2006...\n",
      "Getting season 2004/2005...\n",
      "Done\n"
     ]
    }
   ],
   "source": [
    "la_liga = fetch_all_seasons_for_league(11)"
   ]
  },
  {
   "cell_type": "markdown",
   "metadata": {},
   "source": [
    "So we have a data structure, called `la_liga`, which has league season names as the keys of the outer dictionary. The values are dictionaries, which map game ids (as specified by statsbomb) to `Game` objects (see `statsbomb_data_extraction.py` file for Game object definition)."
   ]
  },
  {
   "cell_type": "markdown",
   "metadata": {},
   "source": [
    "### 1.2 Getting shots data "
   ]
  },
  {
   "cell_type": "markdown",
   "metadata": {},
   "source": [
    "Now I will write some functions to parse through the json of each game, and extract all the shots, as well as features related to the shots. In particular, these features are: \n",
    "\n",
    "- **play pattern**: pattern of play which led to the shot\n",
    "- **x start location**: x-location of the shot \n",
    "- **y start location**: y-location of the shot \n",
    "- **duration**: duration of the shot\n",
    "- **outcome**: result of the shot\n",
    "- **technique**: technique with which the shot was hit\n",
    "- **first time**: whether the shot was hit for time or not\n",
    "- **x gk position**: x-location of the gk when shot was taken\n",
    "- **y gk position**: y-location of the gk when shot was taken\n",
    "- **type of shot**: whether shot was from open play or set piece (and type of set piece specified)\n",
    "- **num opponents within 5 yards**: number of opponents which were within 5 yards of shot location\n",
    "- **num opponents between shot and goal**: number of opponents which were between the shot location, and the lines connecting shot location and the two posts\n",
    "\n",
    "I will also extract some information related to the shot that will be useful to reference the shots, but will not be used to train ML model. These include:\n",
    "- **game id in which shot was taken**: pattern of play which led to the shot\n",
    "- **Season of game in which shot was taken**: x-location of the shot \n",
    "- **statsbomb xg**: xg given by statsbomb to compare to my values later on\n",
    "\n",
    "All the variables listed above can be extracted by parsing through the json directly, except for the last one. Therefore, below, I will write a function to get this variable."
   ]
  },
  {
   "cell_type": "code",
   "execution_count": 3,
   "metadata": {},
   "outputs": [],
   "source": [
    "def check_player_btwn_shot_and_goal(x_shot, y_shot, x_player, y_player):\n",
    "    \"\"\"\n",
    "    Function which checks whether a player in a stats bomb freeze frame is between the shot location, and the two lines\n",
    "    connecting the shot location to the posts. See here for coordinate specifications: \n",
    "    https://github.com/statsbomb/open-data/blob/master/doc/StatsBomb%20Open%20Data%20Specification%20v1.1.pdf\n",
    "    \n",
    "    Arguments:\n",
    "    x_shot    x-location of shot\n",
    "    y_shot    y-location of shot\n",
    "    x_player  x-location of player\n",
    "    y_player  y-location of player    \n",
    "    \"\"\"\n",
    "    x_diff = x_player - x_shot\n",
    "    y_diff = y_player - y_shot\n",
    "    \n",
    "    if 120 - x_shot == 0:\n",
    "        return False\n",
    "    \n",
    "    slope_1 = (36 - y_shot) / (120 - x_shot)\n",
    "    slope_2 = (44 - y_shot) / (120 - x_shot) \n",
    "                    \n",
    "    return (x_diff >= 0) and ((y_shot + slope_1 * x_diff) < y_player < (y_shot + slope_2 * x_diff))\n",
    "\n",
    "\n",
    "def plot_shot_freeze_frame(game_json, shot_id, ax):\n",
    "    player_pos_list_x = []\n",
    "    player_pos_list_y = []\n",
    "    x_shot = 0\n",
    "    y_shot = 0\n",
    "    \n",
    "    for events in game_json:\n",
    "        if events['id'] == shot_id:\n",
    "            x_shot = events['location'][0]\n",
    "            y_shot = events['location'][1]\n",
    "        \n",
    "            for players in events['shot']['freeze_frame']:\n",
    "                if (players['teammate'] == False):\n",
    "                    player_pos_list_x.append(players['location'][0])\n",
    "                    player_pos_list_y.append(players['location'][1])\n",
    "            \n",
    "    ax.scatter(player_pos_list_x, player_pos_list_y)\n",
    "    ax.scatter(x_shot, y_shot, s=100)\n",
    "    ax.plot([x_shot, 120], [y_shot,36], color = 'red', linestyle = '--')\n",
    "    ax.plot([x_shot, 120], [y_shot,44], color = 'red', linestyle = '--')"
   ]
  },
  {
   "cell_type": "markdown",
   "metadata": {},
   "source": [
    "Lets call the `plot_shot_freeze_frame` function to visualize the _num opponents between shot and goal_ feature. The shot below would have a value of 2 for this feature."
   ]
  },
  {
   "cell_type": "code",
   "execution_count": 4,
   "metadata": {},
   "outputs": [
    {
     "data": {
      "image/png": "[encoded data removed]",
      "text/plain": [
       "<Figure size 864x576 with 1 Axes>"
      ]
     },
     "metadata": {
      "needs_background": "light"
     },
     "output_type": "display_data"
    }
   ],
   "source": [
    "fig, ax = plt.subplots(1, 1, figsize=(12,8))\n",
    "draw_pitch(axis=ax, rotate=True)\n",
    "plot_shot_freeze_frame(la_liga[\"2018/2019\"]['16215'].json_file, \"6c30cac4-6f3b-4cd0-9913-26137b058416\", ax=ax)"
   ]
  },
  {
   "cell_type": "markdown",
   "metadata": {},
   "source": [
    "Now I will write a function which takes a json file for a given game, and returns a data frame containing all shots taken along with the variables related to that shot. Then I will write two wrapper function: `get_shots_for_season` which calls `get_shots_for_game` on all game files for that season, and `get_shots_for_league`, which does a similar thing, but for each game across every season we have for that league."
   ]
  },
  {
   "cell_type": "code",
   "execution_count": 5,
   "metadata": {},
   "outputs": [],
   "source": [
    "def get_shots_for_game(game_json):\n",
    "    \"\"\"\n",
    "    Function which parses through a game JSON and return a data frame containing all shots taken in that game with several features \n",
    "    related to that shot\n",
    "    \n",
    "    Arguments\n",
    "    game_json - event level json for a game\n",
    "    \"\"\"\n",
    "    \n",
    "    #features for each shot, which will be the columns of our data frame\n",
    "    shot_id_list = []\n",
    "    x_start_location_list = []\n",
    "    y_start_location_list = []\n",
    "    play_pattern_list = []\n",
    "    duration_list = []\n",
    "    outcome_list = []\n",
    "    technique_list = []\n",
    "    type_shot_list = []\n",
    "    first_time_list = []\n",
    "    x_gk_pos_list = []\n",
    "    y_gk_pos_list = []\n",
    "    num_opponents_5_yards_list = []\n",
    "    num_opponents_between_goal_list = []\n",
    "    \n",
    "    statsbomb_xg = [] #to compare to my model\n",
    "    \n",
    "    #-------------------------#\n",
    "\n",
    "    for events in game_json:\n",
    "    \n",
    "        if events['type']['name'] == 'Shot':\n",
    "        \n",
    "            #get data for first 8 features\n",
    "            shot_id = events['id']\n",
    "            x_start_location = events['location'][0]\n",
    "            y_start_location = events['location'][1]\n",
    "            play_pattern = events['play_pattern']['name']\n",
    "            duration = events['duration']\n",
    "            outcome = events['shot']['outcome']['name'] \n",
    "            technique = events['shot']['technique']['name']\n",
    "            type_shot = events['shot']['type']['name']\n",
    "            xg = events['shot']['statsbomb_xg']\n",
    "        \n",
    "            #check if json shot has a first_time attribute, if not set first_time to False\n",
    "            if 'first_time' in events['shot']:\n",
    "                first_time = events['shot']['first_time']\n",
    "            else:\n",
    "                first_time = False\n",
    "            \n",
    "            #check if shot has a freeze_frame dictionary\n",
    "            if \"freeze_frame\" in events[\"shot\"]:\n",
    "                \n",
    "                num_opponents_5_yards = 0\n",
    "                num_opponents_between_goal = 0\n",
    "                \n",
    "                for player in events[\"shot\"][\"freeze_frame\"]:\n",
    "                    x_player = player['location'][0]\n",
    "                    y_player = player['location'][1]\n",
    "                    \n",
    "                    #count how many opponents were within 5 yards of player when shot was taken\n",
    "                    if ((x_start_location - x_player)**2 + (y_start_location - y_player)**2) <= 25 and (player['teammate'] == False):\n",
    "                        if (player['position']['name'] != 'Goalkeeper'):\n",
    "                            num_opponents_5_yards += 1\n",
    "                    \n",
    "                    #count how many opponents were between shot and goal\n",
    "                    if (player['teammate'] == False) and (player['position']['name'] != 'Goalkeeper'):\n",
    "                        if check_player_btwn_shot_and_goal(x_start_location, y_start_location, x_player, y_player):\n",
    "                            num_opponents_between_goal += 1\n",
    "                    \n",
    "                    #get position of opponent's goalkeeper \n",
    "                    if ((player['position']['name'] == 'Goalkeeper') and (player['teammate'] == False)):\n",
    "                        x_gk_pos = player['location'][0]\n",
    "                        y_gk_pos = player['location'][1]\n",
    "            \n",
    "            #if there is no freeze frame, assume goalkeeper is at center of goal, and 0 opponenets around shot location\n",
    "            else:\n",
    "                num_opponents_between_goal = 0\n",
    "                num_opponents_5_yards = 0\n",
    "                x_gk_pos = 120\n",
    "                y_gk_pos = 40            \n",
    "            \n",
    "            #append data on shot to relevant list (column)\n",
    "            shot_id_list.append(shot_id)\n",
    "            play_pattern_list.append(play_pattern)\n",
    "            x_start_location_list.append(x_start_location)\n",
    "            y_start_location_list.append(y_start_location)\n",
    "            duration_list.append(duration)\n",
    "            outcome_list.append(outcome)\n",
    "            technique_list.append(technique)\n",
    "            first_time_list.append(first_time)\n",
    "            x_gk_pos_list.append(x_gk_pos)\n",
    "            y_gk_pos_list.append(y_gk_pos)\n",
    "            type_shot_list.append(type_shot)\n",
    "            num_opponents_5_yards_list.append(num_opponents_5_yards)\n",
    "            num_opponents_between_goal_list.append(num_opponents_between_goal)\n",
    "            statsbomb_xg.append(xg)\n",
    "        \n",
    "    #create data frame with column features\n",
    "    shot_df = pd.DataFrame({\n",
    "                       \"shot id\" : shot_id_list,\n",
    "                       \"play pattern\" : play_pattern_list, \n",
    "                       \"x start location\" : x_start_location_list, \n",
    "                       \"y start location\" : y_start_location_list,\n",
    "                       \"duration\" : duration_list, \n",
    "                       \"outcome\" : outcome_list, \n",
    "                       \"technique\" : technique_list, \n",
    "                       \"first time\" : first_time_list,\n",
    "                       \"x gk position\" : x_gk_pos_list,\n",
    "                       \"y gk position\" : y_gk_pos_list,\n",
    "                       \"type of shot\" : type_shot_list,\n",
    "                       \"num opponents within 5 yards\" : num_opponents_5_yards_list,\n",
    "                       \"num opponents between shot and goal\" : num_opponents_between_goal_list,\n",
    "                       \"statsbomb xg\" : statsbomb_xg\n",
    "                       })\n",
    "    \n",
    "    return shot_df.set_index(\"shot id\")"
   ]
  },
  {
   "cell_type": "markdown",
   "metadata": {},
   "source": [
    "**Wrapper functions:**"
   ]
  },
  {
   "cell_type": "code",
   "execution_count": 6,
   "metadata": {},
   "outputs": [],
   "source": [
    "def get_shots_for_season(season_dict):\n",
    "    \"\"\"\n",
    "    Takes a dictionary whichs maps game ids to Game objects, and calls get_shots_for_game() on each one.\n",
    "    \n",
    "    Arguments:\n",
    "    season_dict - dictionary which maps game ids (string, as specified by statsbomb) to Game objects (defined above)\n",
    "    \"\"\"\n",
    "    total_shot_df = pd.DataFrame()\n",
    "    \n",
    "    for keys, values in season_dict.items():\n",
    "        shot_df = get_shots_for_game(values.json_file)\n",
    "        shot_df[\"game_id\"] = keys\n",
    "        total_shot_df = total_shot_df.append(shot_df)\n",
    "        \n",
    "    return total_shot_df\n",
    "\n",
    "\n",
    "def get_shots_for_league(league_dict):\n",
    "    \"\"\"\n",
    "    Takes a dictionary which maps season names to season dictionaries for a league, and calls get_shots_for_game() on each game.\n",
    "    \n",
    "    Arguments:\n",
    "    league_dict - dictionary which maps season names to another dictionary. This inner dictionary maps \n",
    "    game ids (as specified by statsbomb) to Game objects (defined above)\n",
    "    \"\"\"\n",
    "    total_shot_df = pd.DataFrame()\n",
    "    \n",
    "    for keys, values in league_dict.items():\n",
    "        shot_df = get_shots_for_season(values)\n",
    "        shot_df[\"season_id\"] = keys\n",
    "        total_shot_df = total_shot_df.append(shot_df)\n",
    "        print(\"Getting shots for \" + keys)\n",
    "    \n",
    "    print(\"Done.\")\n",
    "    \n",
    "    return total_shot_df"
   ]
  },
  {
   "cell_type": "code",
   "execution_count": 7,
   "metadata": {},
   "outputs": [
    {
     "name": "stdout",
     "output_type": "stream",
     "text": [
      "Getting shots for 2018/2019\n",
      "Getting shots for 2017/2018\n",
      "Getting shots for 2016/2017\n",
      "Getting shots for 2015/2016\n",
      "Getting shots for 2014/2015\n",
      "Getting shots for 2013/2014\n",
      "Getting shots for 2012/2013\n",
      "Getting shots for 2011/2012\n",
      "Getting shots for 2010/2011\n",
      "Getting shots for 2009/2010\n",
      "Getting shots for 2008/2009\n",
      "Getting shots for 2007/2008\n",
      "Getting shots for 2006/2007\n",
      "Getting shots for 2005/2006\n",
      "Getting shots for 2004/2005\n",
      "Done.\n"
     ]
    }
   ],
   "source": [
    "all_la_liga_shots = get_shots_for_league(la_liga)"
   ]
  },
  {
   "cell_type": "markdown",
   "metadata": {},
   "source": [
    "So we have our data frame with all shots taken in Barca games from 2004/05 to 2015/16."
   ]
  },
  {
   "cell_type": "code",
   "execution_count": 8,
   "metadata": {},
   "outputs": [
    {
     "data": {
      "text/html": [
       "<div>\n",
       "<style scoped>\n",
       "    .dataframe tbody tr th:only-of-type {\n",
       "        vertical-align: middle;\n",
       "    }\n",
       "\n",
       "    .dataframe tbody tr th {\n",
       "        vertical-align: top;\n",
       "    }\n",
       "\n",
       "    .dataframe thead th {\n",
       "        text-align: right;\n",
       "    }\n",
       "</style>\n",
       "<table border=\"1\" class=\"dataframe\">\n",
       "  <thead>\n",
       "    <tr style=\"text-align: right;\">\n",
       "      <th></th>\n",
       "      <th>play pattern</th>\n",
       "      <th>x start location</th>\n",
       "      <th>y start location</th>\n",
       "      <th>duration</th>\n",
       "      <th>outcome</th>\n",
       "      <th>technique</th>\n",
       "      <th>first time</th>\n",
       "      <th>x gk position</th>\n",
       "      <th>y gk position</th>\n",
       "      <th>type of shot</th>\n",
       "      <th>num opponents within 5 yards</th>\n",
       "      <th>num opponents between shot and goal</th>\n",
       "      <th>statsbomb xg</th>\n",
       "      <th>game_id</th>\n",
       "      <th>season_id</th>\n",
       "    </tr>\n",
       "    <tr>\n",
       "      <th>shot id</th>\n",
       "      <th></th>\n",
       "      <th></th>\n",
       "      <th></th>\n",
       "      <th></th>\n",
       "      <th></th>\n",
       "      <th></th>\n",
       "      <th></th>\n",
       "      <th></th>\n",
       "      <th></th>\n",
       "      <th></th>\n",
       "      <th></th>\n",
       "      <th></th>\n",
       "      <th></th>\n",
       "      <th></th>\n",
       "      <th></th>\n",
       "    </tr>\n",
       "  </thead>\n",
       "  <tbody>\n",
       "    <tr>\n",
       "      <th>6c30cac4-6f3b-4cd0-9913-26137b058416</th>\n",
       "      <td>From Throw In</td>\n",
       "      <td>101.0</td>\n",
       "      <td>22.0</td>\n",
       "      <td>1.179654</td>\n",
       "      <td>Saved</td>\n",
       "      <td>Normal</td>\n",
       "      <td>False</td>\n",
       "      <td>118.6</td>\n",
       "      <td>37.9</td>\n",
       "      <td>Open Play</td>\n",
       "      <td>2</td>\n",
       "      <td>2</td>\n",
       "      <td>0.020549</td>\n",
       "      <td>16215</td>\n",
       "      <td>2018/2019</td>\n",
       "    </tr>\n",
       "    <tr>\n",
       "      <th>67cfa552-952c-4f72-a33a-0dd6af217a66</th>\n",
       "      <td>From Throw In</td>\n",
       "      <td>113.7</td>\n",
       "      <td>39.9</td>\n",
       "      <td>1.226969</td>\n",
       "      <td>Saved Off Target</td>\n",
       "      <td>Volley</td>\n",
       "      <td>True</td>\n",
       "      <td>117.2</td>\n",
       "      <td>39.1</td>\n",
       "      <td>Open Play</td>\n",
       "      <td>1</td>\n",
       "      <td>0</td>\n",
       "      <td>0.363959</td>\n",
       "      <td>16215</td>\n",
       "      <td>2018/2019</td>\n",
       "    </tr>\n",
       "    <tr>\n",
       "      <th>8c95e369-ec54-4a84-9d3e-51abb6f38e6e</th>\n",
       "      <td>From Free Kick</td>\n",
       "      <td>95.6</td>\n",
       "      <td>44.4</td>\n",
       "      <td>1.046942</td>\n",
       "      <td>Goal</td>\n",
       "      <td>Normal</td>\n",
       "      <td>False</td>\n",
       "      <td>119.5</td>\n",
       "      <td>39.0</td>\n",
       "      <td>Free Kick</td>\n",
       "      <td>0</td>\n",
       "      <td>5</td>\n",
       "      <td>0.127337</td>\n",
       "      <td>16215</td>\n",
       "      <td>2018/2019</td>\n",
       "    </tr>\n",
       "    <tr>\n",
       "      <th>2ae506b9-0601-460b-b91d-802296120161</th>\n",
       "      <td>From Free Kick</td>\n",
       "      <td>94.0</td>\n",
       "      <td>46.1</td>\n",
       "      <td>1.375915</td>\n",
       "      <td>Saved</td>\n",
       "      <td>Normal</td>\n",
       "      <td>False</td>\n",
       "      <td>119.1</td>\n",
       "      <td>39.5</td>\n",
       "      <td>Free Kick</td>\n",
       "      <td>0</td>\n",
       "      <td>4</td>\n",
       "      <td>0.090603</td>\n",
       "      <td>16215</td>\n",
       "      <td>2018/2019</td>\n",
       "    </tr>\n",
       "    <tr>\n",
       "      <th>10dc9818-a8d2-47f9-b219-9bc87d7b22e6</th>\n",
       "      <td>From Free Kick</td>\n",
       "      <td>104.1</td>\n",
       "      <td>22.2</td>\n",
       "      <td>0.116586</td>\n",
       "      <td>Blocked</td>\n",
       "      <td>Normal</td>\n",
       "      <td>False</td>\n",
       "      <td>118.4</td>\n",
       "      <td>37.4</td>\n",
       "      <td>Open Play</td>\n",
       "      <td>3</td>\n",
       "      <td>1</td>\n",
       "      <td>0.022751</td>\n",
       "      <td>16215</td>\n",
       "      <td>2018/2019</td>\n",
       "    </tr>\n",
       "    <tr>\n",
       "      <th>...</th>\n",
       "      <td>...</td>\n",
       "      <td>...</td>\n",
       "      <td>...</td>\n",
       "      <td>...</td>\n",
       "      <td>...</td>\n",
       "      <td>...</td>\n",
       "      <td>...</td>\n",
       "      <td>...</td>\n",
       "      <td>...</td>\n",
       "      <td>...</td>\n",
       "      <td>...</td>\n",
       "      <td>...</td>\n",
       "      <td>...</td>\n",
       "      <td>...</td>\n",
       "      <td>...</td>\n",
       "    </tr>\n",
       "    <tr>\n",
       "      <th>da65c5c6-ce8f-46d3-b0b4-17fb1c9e31c3</th>\n",
       "      <td>From Free Kick</td>\n",
       "      <td>93.8</td>\n",
       "      <td>40.1</td>\n",
       "      <td>1.278336</td>\n",
       "      <td>Off T</td>\n",
       "      <td>Normal</td>\n",
       "      <td>True</td>\n",
       "      <td>115.2</td>\n",
       "      <td>42.1</td>\n",
       "      <td>Open Play</td>\n",
       "      <td>0</td>\n",
       "      <td>1</td>\n",
       "      <td>0.042606</td>\n",
       "      <td>68352</td>\n",
       "      <td>2004/2005</td>\n",
       "    </tr>\n",
       "    <tr>\n",
       "      <th>805dd74f-323c-412d-9b77-9c54c1a60f66</th>\n",
       "      <td>Regular Play</td>\n",
       "      <td>110.1</td>\n",
       "      <td>40.2</td>\n",
       "      <td>0.671461</td>\n",
       "      <td>Saved</td>\n",
       "      <td>Normal</td>\n",
       "      <td>False</td>\n",
       "      <td>119.4</td>\n",
       "      <td>39.9</td>\n",
       "      <td>Open Play</td>\n",
       "      <td>2</td>\n",
       "      <td>0</td>\n",
       "      <td>0.117359</td>\n",
       "      <td>68352</td>\n",
       "      <td>2004/2005</td>\n",
       "    </tr>\n",
       "    <tr>\n",
       "      <th>4eadd318-25f7-420d-8aa9-53685cece638</th>\n",
       "      <td>From Corner</td>\n",
       "      <td>93.7</td>\n",
       "      <td>48.5</td>\n",
       "      <td>0.946505</td>\n",
       "      <td>Saved</td>\n",
       "      <td>Volley</td>\n",
       "      <td>True</td>\n",
       "      <td>119.3</td>\n",
       "      <td>39.9</td>\n",
       "      <td>Open Play</td>\n",
       "      <td>1</td>\n",
       "      <td>3</td>\n",
       "      <td>0.013930</td>\n",
       "      <td>68352</td>\n",
       "      <td>2004/2005</td>\n",
       "    </tr>\n",
       "    <tr>\n",
       "      <th>723139d5-21a9-49f7-aca6-60cffdc6f6bc</th>\n",
       "      <td>Regular Play</td>\n",
       "      <td>109.9</td>\n",
       "      <td>47.4</td>\n",
       "      <td>0.468700</td>\n",
       "      <td>Blocked</td>\n",
       "      <td>Normal</td>\n",
       "      <td>True</td>\n",
       "      <td>118.7</td>\n",
       "      <td>43.2</td>\n",
       "      <td>Open Play</td>\n",
       "      <td>3</td>\n",
       "      <td>1</td>\n",
       "      <td>0.100666</td>\n",
       "      <td>68352</td>\n",
       "      <td>2004/2005</td>\n",
       "    </tr>\n",
       "    <tr>\n",
       "      <th>6031f8cc-26a6-449c-b455-2d7c301ca005</th>\n",
       "      <td>Regular Play</td>\n",
       "      <td>99.2</td>\n",
       "      <td>34.9</td>\n",
       "      <td>0.984200</td>\n",
       "      <td>Off T</td>\n",
       "      <td>Normal</td>\n",
       "      <td>False</td>\n",
       "      <td>118.8</td>\n",
       "      <td>41.7</td>\n",
       "      <td>Open Play</td>\n",
       "      <td>2</td>\n",
       "      <td>1</td>\n",
       "      <td>0.053242</td>\n",
       "      <td>68352</td>\n",
       "      <td>2004/2005</td>\n",
       "    </tr>\n",
       "  </tbody>\n",
       "</table>\n",
       "<p>11251 rows × 15 columns</p>\n",
       "</div>"
      ],
      "text/plain": [
       "                                        play pattern  x start location  \\\n",
       "shot id                                                                  \n",
       "6c30cac4-6f3b-4cd0-9913-26137b058416   From Throw In             101.0   \n",
       "67cfa552-952c-4f72-a33a-0dd6af217a66   From Throw In             113.7   \n",
       "8c95e369-ec54-4a84-9d3e-51abb6f38e6e  From Free Kick              95.6   \n",
       "2ae506b9-0601-460b-b91d-802296120161  From Free Kick              94.0   \n",
       "10dc9818-a8d2-47f9-b219-9bc87d7b22e6  From Free Kick             104.1   \n",
       "...                                              ...               ...   \n",
       "da65c5c6-ce8f-46d3-b0b4-17fb1c9e31c3  From Free Kick              93.8   \n",
       "805dd74f-323c-412d-9b77-9c54c1a60f66    Regular Play             110.1   \n",
       "4eadd318-25f7-420d-8aa9-53685cece638     From Corner              93.7   \n",
       "723139d5-21a9-49f7-aca6-60cffdc6f6bc    Regular Play             109.9   \n",
       "6031f8cc-26a6-449c-b455-2d7c301ca005    Regular Play              99.2   \n",
       "\n",
       "                                      y start location  duration  \\\n",
       "shot id                                                            \n",
       "6c30cac4-6f3b-4cd0-9913-26137b058416              22.0  1.179654   \n",
       "67cfa552-952c-4f72-a33a-0dd6af217a66              39.9  1.226969   \n",
       "8c95e369-ec54-4a84-9d3e-51abb6f38e6e              44.4  1.046942   \n",
       "2ae506b9-0601-460b-b91d-802296120161              46.1  1.375915   \n",
       "10dc9818-a8d2-47f9-b219-9bc87d7b22e6              22.2  0.116586   \n",
       "...                                                ...       ...   \n",
       "da65c5c6-ce8f-46d3-b0b4-17fb1c9e31c3              40.1  1.278336   \n",
       "805dd74f-323c-412d-9b77-9c54c1a60f66              40.2  0.671461   \n",
       "4eadd318-25f7-420d-8aa9-53685cece638              48.5  0.946505   \n",
       "723139d5-21a9-49f7-aca6-60cffdc6f6bc              47.4  0.468700   \n",
       "6031f8cc-26a6-449c-b455-2d7c301ca005              34.9  0.984200   \n",
       "\n",
       "                                               outcome technique  first time  \\\n",
       "shot id                                                                        \n",
       "6c30cac4-6f3b-4cd0-9913-26137b058416             Saved    Normal       False   \n",
       "67cfa552-952c-4f72-a33a-0dd6af217a66  Saved Off Target    Volley        True   \n",
       "8c95e369-ec54-4a84-9d3e-51abb6f38e6e              Goal    Normal       False   \n",
       "2ae506b9-0601-460b-b91d-802296120161             Saved    Normal       False   \n",
       "10dc9818-a8d2-47f9-b219-9bc87d7b22e6           Blocked    Normal       False   \n",
       "...                                                ...       ...         ...   \n",
       "da65c5c6-ce8f-46d3-b0b4-17fb1c9e31c3             Off T    Normal        True   \n",
       "805dd74f-323c-412d-9b77-9c54c1a60f66             Saved    Normal       False   \n",
       "4eadd318-25f7-420d-8aa9-53685cece638             Saved    Volley        True   \n",
       "723139d5-21a9-49f7-aca6-60cffdc6f6bc           Blocked    Normal        True   \n",
       "6031f8cc-26a6-449c-b455-2d7c301ca005             Off T    Normal       False   \n",
       "\n",
       "                                      x gk position  y gk position  \\\n",
       "shot id                                                              \n",
       "6c30cac4-6f3b-4cd0-9913-26137b058416          118.6           37.9   \n",
       "67cfa552-952c-4f72-a33a-0dd6af217a66          117.2           39.1   \n",
       "8c95e369-ec54-4a84-9d3e-51abb6f38e6e          119.5           39.0   \n",
       "2ae506b9-0601-460b-b91d-802296120161          119.1           39.5   \n",
       "10dc9818-a8d2-47f9-b219-9bc87d7b22e6          118.4           37.4   \n",
       "...                                             ...            ...   \n",
       "da65c5c6-ce8f-46d3-b0b4-17fb1c9e31c3          115.2           42.1   \n",
       "805dd74f-323c-412d-9b77-9c54c1a60f66          119.4           39.9   \n",
       "4eadd318-25f7-420d-8aa9-53685cece638          119.3           39.9   \n",
       "723139d5-21a9-49f7-aca6-60cffdc6f6bc          118.7           43.2   \n",
       "6031f8cc-26a6-449c-b455-2d7c301ca005          118.8           41.7   \n",
       "\n",
       "                                     type of shot  \\\n",
       "shot id                                             \n",
       "6c30cac4-6f3b-4cd0-9913-26137b058416    Open Play   \n",
       "67cfa552-952c-4f72-a33a-0dd6af217a66    Open Play   \n",
       "8c95e369-ec54-4a84-9d3e-51abb6f38e6e    Free Kick   \n",
       "2ae506b9-0601-460b-b91d-802296120161    Free Kick   \n",
       "10dc9818-a8d2-47f9-b219-9bc87d7b22e6    Open Play   \n",
       "...                                           ...   \n",
       "da65c5c6-ce8f-46d3-b0b4-17fb1c9e31c3    Open Play   \n",
       "805dd74f-323c-412d-9b77-9c54c1a60f66    Open Play   \n",
       "4eadd318-25f7-420d-8aa9-53685cece638    Open Play   \n",
       "723139d5-21a9-49f7-aca6-60cffdc6f6bc    Open Play   \n",
       "6031f8cc-26a6-449c-b455-2d7c301ca005    Open Play   \n",
       "\n",
       "                                      num opponents within 5 yards  \\\n",
       "shot id                                                              \n",
       "6c30cac4-6f3b-4cd0-9913-26137b058416                             2   \n",
       "67cfa552-952c-4f72-a33a-0dd6af217a66                             1   \n",
       "8c95e369-ec54-4a84-9d3e-51abb6f38e6e                             0   \n",
       "2ae506b9-0601-460b-b91d-802296120161                             0   \n",
       "10dc9818-a8d2-47f9-b219-9bc87d7b22e6                             3   \n",
       "...                                                            ...   \n",
       "da65c5c6-ce8f-46d3-b0b4-17fb1c9e31c3                             0   \n",
       "805dd74f-323c-412d-9b77-9c54c1a60f66                             2   \n",
       "4eadd318-25f7-420d-8aa9-53685cece638                             1   \n",
       "723139d5-21a9-49f7-aca6-60cffdc6f6bc                             3   \n",
       "6031f8cc-26a6-449c-b455-2d7c301ca005                             2   \n",
       "\n",
       "                                      num opponents between shot and goal  \\\n",
       "shot id                                                                     \n",
       "6c30cac4-6f3b-4cd0-9913-26137b058416                                    2   \n",
       "67cfa552-952c-4f72-a33a-0dd6af217a66                                    0   \n",
       "8c95e369-ec54-4a84-9d3e-51abb6f38e6e                                    5   \n",
       "2ae506b9-0601-460b-b91d-802296120161                                    4   \n",
       "10dc9818-a8d2-47f9-b219-9bc87d7b22e6                                    1   \n",
       "...                                                                   ...   \n",
       "da65c5c6-ce8f-46d3-b0b4-17fb1c9e31c3                                    1   \n",
       "805dd74f-323c-412d-9b77-9c54c1a60f66                                    0   \n",
       "4eadd318-25f7-420d-8aa9-53685cece638                                    3   \n",
       "723139d5-21a9-49f7-aca6-60cffdc6f6bc                                    1   \n",
       "6031f8cc-26a6-449c-b455-2d7c301ca005                                    1   \n",
       "\n",
       "                                      statsbomb xg game_id  season_id  \n",
       "shot id                                                                \n",
       "6c30cac4-6f3b-4cd0-9913-26137b058416      0.020549   16215  2018/2019  \n",
       "67cfa552-952c-4f72-a33a-0dd6af217a66      0.363959   16215  2018/2019  \n",
       "8c95e369-ec54-4a84-9d3e-51abb6f38e6e      0.127337   16215  2018/2019  \n",
       "2ae506b9-0601-460b-b91d-802296120161      0.090603   16215  2018/2019  \n",
       "10dc9818-a8d2-47f9-b219-9bc87d7b22e6      0.022751   16215  2018/2019  \n",
       "...                                            ...     ...        ...  \n",
       "da65c5c6-ce8f-46d3-b0b4-17fb1c9e31c3      0.042606   68352  2004/2005  \n",
       "805dd74f-323c-412d-9b77-9c54c1a60f66      0.117359   68352  2004/2005  \n",
       "4eadd318-25f7-420d-8aa9-53685cece638      0.013930   68352  2004/2005  \n",
       "723139d5-21a9-49f7-aca6-60cffdc6f6bc      0.100666   68352  2004/2005  \n",
       "6031f8cc-26a6-449c-b455-2d7c301ca005      0.053242   68352  2004/2005  \n",
       "\n",
       "[11251 rows x 15 columns]"
      ]
     },
     "execution_count": 8,
     "metadata": {},
     "output_type": "execute_result"
    }
   ],
   "source": [
    "all_la_liga_shots"
   ]
  },
  {
   "cell_type": "code",
   "execution_count": null,
   "metadata": {},
   "outputs": [],
   "source": []
  },
  {
   "cell_type": "markdown",
   "metadata": {},
   "source": [
    "## 2. Data Exploration"
   ]
  },
  {
   "cell_type": "markdown",
   "metadata": {},
   "source": [
    "Before starting to train our models, we'll want to do some data exploration to get an initial idea of what variables affect the probability of a shot resulting in a goal. Even though, as we'll see, many of the models will select the features for us, this is still a useful exercise as it will give us a more intuitive idea of what the models will be doing. \n",
    "\n",
    "Additionally, if we find patterns in the visualizations below that make sense based on what we know about soccer, it will be a sort of \"sanity-check\" that we have accurately extracted the shot data."
   ]
  },
  {
   "cell_type": "markdown",
   "metadata": {},
   "source": [
    "### 2.1 Feature engineering\n",
    "\n",
    "We will first create the following new variables:\n",
    "\n",
    "- Distance of shot location from goal\n",
    "- Convert outcome to a binary variable (Goal = 1, Other = 0). I'm doing this since for now, I don't care if the shot was saved, went wide, etc. I only care if it went in or not."
   ]
  },
  {
   "cell_type": "code",
   "execution_count": 9,
   "metadata": {},
   "outputs": [
    {
     "name": "stderr",
     "output_type": "stream",
     "text": [
      "/Users/robertblumberg/anaconda3/lib/python3.7/site-packages/pandas/core/indexing.py:205: SettingWithCopyWarning: \n",
      "A value is trying to be set on a copy of a slice from a DataFrame\n",
      "\n",
      "See the caveats in the documentation: http://pandas.pydata.org/pandas-docs/stable/user_guide/indexing.html#returning-a-view-versus-a-copy\n",
      "  self._setitem_with_indexer(indexer, value)\n"
     ]
    }
   ],
   "source": [
    "all_la_liga_shots[\"Distance from goal\"] = np.sqrt((all_la_liga_shots[\"x start location\"] - 120)**2 +    \\\n",
    "                                                  (all_la_liga_shots[\"y start location\"] - 40)**2)\n",
    "\n",
    "goal_label_mask = all_la_liga_shots[\"outcome\"].str.contains(\"Goal\")\n",
    "all_la_liga_shots[\"outcome\"].loc[goal_label_mask] = 1\n",
    "all_la_liga_shots[\"outcome\"].loc[~goal_label_mask] = 0"
   ]
  },
  {
   "cell_type": "code",
   "execution_count": 10,
   "metadata": {},
   "outputs": [
    {
     "data": {
      "text/html": [
       "<div>\n",
       "<style scoped>\n",
       "    .dataframe tbody tr th:only-of-type {\n",
       "        vertical-align: middle;\n",
       "    }\n",
       "\n",
       "    .dataframe tbody tr th {\n",
       "        vertical-align: top;\n",
       "    }\n",
       "\n",
       "    .dataframe thead th {\n",
       "        text-align: right;\n",
       "    }\n",
       "</style>\n",
       "<table border=\"1\" class=\"dataframe\">\n",
       "  <thead>\n",
       "    <tr style=\"text-align: right;\">\n",
       "      <th></th>\n",
       "      <th>play pattern</th>\n",
       "      <th>x start location</th>\n",
       "      <th>y start location</th>\n",
       "      <th>duration</th>\n",
       "      <th>outcome</th>\n",
       "      <th>technique</th>\n",
       "      <th>first time</th>\n",
       "      <th>x gk position</th>\n",
       "      <th>y gk position</th>\n",
       "      <th>type of shot</th>\n",
       "      <th>num opponents within 5 yards</th>\n",
       "      <th>num opponents between shot and goal</th>\n",
       "      <th>statsbomb xg</th>\n",
       "      <th>game_id</th>\n",
       "      <th>season_id</th>\n",
       "      <th>Distance from goal</th>\n",
       "    </tr>\n",
       "    <tr>\n",
       "      <th>shot id</th>\n",
       "      <th></th>\n",
       "      <th></th>\n",
       "      <th></th>\n",
       "      <th></th>\n",
       "      <th></th>\n",
       "      <th></th>\n",
       "      <th></th>\n",
       "      <th></th>\n",
       "      <th></th>\n",
       "      <th></th>\n",
       "      <th></th>\n",
       "      <th></th>\n",
       "      <th></th>\n",
       "      <th></th>\n",
       "      <th></th>\n",
       "      <th></th>\n",
       "    </tr>\n",
       "  </thead>\n",
       "  <tbody>\n",
       "    <tr>\n",
       "      <th>6c30cac4-6f3b-4cd0-9913-26137b058416</th>\n",
       "      <td>From Throw In</td>\n",
       "      <td>101.0</td>\n",
       "      <td>22.0</td>\n",
       "      <td>1.179654</td>\n",
       "      <td>0</td>\n",
       "      <td>Normal</td>\n",
       "      <td>False</td>\n",
       "      <td>118.6</td>\n",
       "      <td>37.9</td>\n",
       "      <td>Open Play</td>\n",
       "      <td>2</td>\n",
       "      <td>2</td>\n",
       "      <td>0.020549</td>\n",
       "      <td>16215</td>\n",
       "      <td>2018/2019</td>\n",
       "      <td>26.172505</td>\n",
       "    </tr>\n",
       "    <tr>\n",
       "      <th>67cfa552-952c-4f72-a33a-0dd6af217a66</th>\n",
       "      <td>From Throw In</td>\n",
       "      <td>113.7</td>\n",
       "      <td>39.9</td>\n",
       "      <td>1.226969</td>\n",
       "      <td>0</td>\n",
       "      <td>Volley</td>\n",
       "      <td>True</td>\n",
       "      <td>117.2</td>\n",
       "      <td>39.1</td>\n",
       "      <td>Open Play</td>\n",
       "      <td>1</td>\n",
       "      <td>0</td>\n",
       "      <td>0.363959</td>\n",
       "      <td>16215</td>\n",
       "      <td>2018/2019</td>\n",
       "      <td>6.300794</td>\n",
       "    </tr>\n",
       "    <tr>\n",
       "      <th>8c95e369-ec54-4a84-9d3e-51abb6f38e6e</th>\n",
       "      <td>From Free Kick</td>\n",
       "      <td>95.6</td>\n",
       "      <td>44.4</td>\n",
       "      <td>1.046942</td>\n",
       "      <td>1</td>\n",
       "      <td>Normal</td>\n",
       "      <td>False</td>\n",
       "      <td>119.5</td>\n",
       "      <td>39.0</td>\n",
       "      <td>Free Kick</td>\n",
       "      <td>0</td>\n",
       "      <td>5</td>\n",
       "      <td>0.127337</td>\n",
       "      <td>16215</td>\n",
       "      <td>2018/2019</td>\n",
       "      <td>24.793548</td>\n",
       "    </tr>\n",
       "    <tr>\n",
       "      <th>2ae506b9-0601-460b-b91d-802296120161</th>\n",
       "      <td>From Free Kick</td>\n",
       "      <td>94.0</td>\n",
       "      <td>46.1</td>\n",
       "      <td>1.375915</td>\n",
       "      <td>0</td>\n",
       "      <td>Normal</td>\n",
       "      <td>False</td>\n",
       "      <td>119.1</td>\n",
       "      <td>39.5</td>\n",
       "      <td>Free Kick</td>\n",
       "      <td>0</td>\n",
       "      <td>4</td>\n",
       "      <td>0.090603</td>\n",
       "      <td>16215</td>\n",
       "      <td>2018/2019</td>\n",
       "      <td>26.705992</td>\n",
       "    </tr>\n",
       "    <tr>\n",
       "      <th>10dc9818-a8d2-47f9-b219-9bc87d7b22e6</th>\n",
       "      <td>From Free Kick</td>\n",
       "      <td>104.1</td>\n",
       "      <td>22.2</td>\n",
       "      <td>0.116586</td>\n",
       "      <td>0</td>\n",
       "      <td>Normal</td>\n",
       "      <td>False</td>\n",
       "      <td>118.4</td>\n",
       "      <td>37.4</td>\n",
       "      <td>Open Play</td>\n",
       "      <td>3</td>\n",
       "      <td>1</td>\n",
       "      <td>0.022751</td>\n",
       "      <td>16215</td>\n",
       "      <td>2018/2019</td>\n",
       "      <td>23.867342</td>\n",
       "    </tr>\n",
       "    <tr>\n",
       "      <th>...</th>\n",
       "      <td>...</td>\n",
       "      <td>...</td>\n",
       "      <td>...</td>\n",
       "      <td>...</td>\n",
       "      <td>...</td>\n",
       "      <td>...</td>\n",
       "      <td>...</td>\n",
       "      <td>...</td>\n",
       "      <td>...</td>\n",
       "      <td>...</td>\n",
       "      <td>...</td>\n",
       "      <td>...</td>\n",
       "      <td>...</td>\n",
       "      <td>...</td>\n",
       "      <td>...</td>\n",
       "      <td>...</td>\n",
       "    </tr>\n",
       "    <tr>\n",
       "      <th>da65c5c6-ce8f-46d3-b0b4-17fb1c9e31c3</th>\n",
       "      <td>From Free Kick</td>\n",
       "      <td>93.8</td>\n",
       "      <td>40.1</td>\n",
       "      <td>1.278336</td>\n",
       "      <td>0</td>\n",
       "      <td>Normal</td>\n",
       "      <td>True</td>\n",
       "      <td>115.2</td>\n",
       "      <td>42.1</td>\n",
       "      <td>Open Play</td>\n",
       "      <td>0</td>\n",
       "      <td>1</td>\n",
       "      <td>0.042606</td>\n",
       "      <td>68352</td>\n",
       "      <td>2004/2005</td>\n",
       "      <td>26.200191</td>\n",
       "    </tr>\n",
       "    <tr>\n",
       "      <th>805dd74f-323c-412d-9b77-9c54c1a60f66</th>\n",
       "      <td>Regular Play</td>\n",
       "      <td>110.1</td>\n",
       "      <td>40.2</td>\n",
       "      <td>0.671461</td>\n",
       "      <td>0</td>\n",
       "      <td>Normal</td>\n",
       "      <td>False</td>\n",
       "      <td>119.4</td>\n",
       "      <td>39.9</td>\n",
       "      <td>Open Play</td>\n",
       "      <td>2</td>\n",
       "      <td>0</td>\n",
       "      <td>0.117359</td>\n",
       "      <td>68352</td>\n",
       "      <td>2004/2005</td>\n",
       "      <td>9.902020</td>\n",
       "    </tr>\n",
       "    <tr>\n",
       "      <th>4eadd318-25f7-420d-8aa9-53685cece638</th>\n",
       "      <td>From Corner</td>\n",
       "      <td>93.7</td>\n",
       "      <td>48.5</td>\n",
       "      <td>0.946505</td>\n",
       "      <td>0</td>\n",
       "      <td>Volley</td>\n",
       "      <td>True</td>\n",
       "      <td>119.3</td>\n",
       "      <td>39.9</td>\n",
       "      <td>Open Play</td>\n",
       "      <td>1</td>\n",
       "      <td>3</td>\n",
       "      <td>0.013930</td>\n",
       "      <td>68352</td>\n",
       "      <td>2004/2005</td>\n",
       "      <td>27.639465</td>\n",
       "    </tr>\n",
       "    <tr>\n",
       "      <th>723139d5-21a9-49f7-aca6-60cffdc6f6bc</th>\n",
       "      <td>Regular Play</td>\n",
       "      <td>109.9</td>\n",
       "      <td>47.4</td>\n",
       "      <td>0.468700</td>\n",
       "      <td>0</td>\n",
       "      <td>Normal</td>\n",
       "      <td>True</td>\n",
       "      <td>118.7</td>\n",
       "      <td>43.2</td>\n",
       "      <td>Open Play</td>\n",
       "      <td>3</td>\n",
       "      <td>1</td>\n",
       "      <td>0.100666</td>\n",
       "      <td>68352</td>\n",
       "      <td>2004/2005</td>\n",
       "      <td>12.520783</td>\n",
       "    </tr>\n",
       "    <tr>\n",
       "      <th>6031f8cc-26a6-449c-b455-2d7c301ca005</th>\n",
       "      <td>Regular Play</td>\n",
       "      <td>99.2</td>\n",
       "      <td>34.9</td>\n",
       "      <td>0.984200</td>\n",
       "      <td>0</td>\n",
       "      <td>Normal</td>\n",
       "      <td>False</td>\n",
       "      <td>118.8</td>\n",
       "      <td>41.7</td>\n",
       "      <td>Open Play</td>\n",
       "      <td>2</td>\n",
       "      <td>1</td>\n",
       "      <td>0.053242</td>\n",
       "      <td>68352</td>\n",
       "      <td>2004/2005</td>\n",
       "      <td>21.416115</td>\n",
       "    </tr>\n",
       "  </tbody>\n",
       "</table>\n",
       "<p>11251 rows × 16 columns</p>\n",
       "</div>"
      ],
      "text/plain": [
       "                                        play pattern  x start location  \\\n",
       "shot id                                                                  \n",
       "6c30cac4-6f3b-4cd0-9913-26137b058416   From Throw In             101.0   \n",
       "67cfa552-952c-4f72-a33a-0dd6af217a66   From Throw In             113.7   \n",
       "8c95e369-ec54-4a84-9d3e-51abb6f38e6e  From Free Kick              95.6   \n",
       "2ae506b9-0601-460b-b91d-802296120161  From Free Kick              94.0   \n",
       "10dc9818-a8d2-47f9-b219-9bc87d7b22e6  From Free Kick             104.1   \n",
       "...                                              ...               ...   \n",
       "da65c5c6-ce8f-46d3-b0b4-17fb1c9e31c3  From Free Kick              93.8   \n",
       "805dd74f-323c-412d-9b77-9c54c1a60f66    Regular Play             110.1   \n",
       "4eadd318-25f7-420d-8aa9-53685cece638     From Corner              93.7   \n",
       "723139d5-21a9-49f7-aca6-60cffdc6f6bc    Regular Play             109.9   \n",
       "6031f8cc-26a6-449c-b455-2d7c301ca005    Regular Play              99.2   \n",
       "\n",
       "                                      y start location  duration  outcome  \\\n",
       "shot id                                                                     \n",
       "6c30cac4-6f3b-4cd0-9913-26137b058416              22.0  1.179654        0   \n",
       "67cfa552-952c-4f72-a33a-0dd6af217a66              39.9  1.226969        0   \n",
       "8c95e369-ec54-4a84-9d3e-51abb6f38e6e              44.4  1.046942        1   \n",
       "2ae506b9-0601-460b-b91d-802296120161              46.1  1.375915        0   \n",
       "10dc9818-a8d2-47f9-b219-9bc87d7b22e6              22.2  0.116586        0   \n",
       "...                                                ...       ...      ...   \n",
       "da65c5c6-ce8f-46d3-b0b4-17fb1c9e31c3              40.1  1.278336        0   \n",
       "805dd74f-323c-412d-9b77-9c54c1a60f66              40.2  0.671461        0   \n",
       "4eadd318-25f7-420d-8aa9-53685cece638              48.5  0.946505        0   \n",
       "723139d5-21a9-49f7-aca6-60cffdc6f6bc              47.4  0.468700        0   \n",
       "6031f8cc-26a6-449c-b455-2d7c301ca005              34.9  0.984200        0   \n",
       "\n",
       "                                     technique  first time  x gk position  \\\n",
       "shot id                                                                     \n",
       "6c30cac4-6f3b-4cd0-9913-26137b058416    Normal       False          118.6   \n",
       "67cfa552-952c-4f72-a33a-0dd6af217a66    Volley        True          117.2   \n",
       "8c95e369-ec54-4a84-9d3e-51abb6f38e6e    Normal       False          119.5   \n",
       "2ae506b9-0601-460b-b91d-802296120161    Normal       False          119.1   \n",
       "10dc9818-a8d2-47f9-b219-9bc87d7b22e6    Normal       False          118.4   \n",
       "...                                        ...         ...            ...   \n",
       "da65c5c6-ce8f-46d3-b0b4-17fb1c9e31c3    Normal        True          115.2   \n",
       "805dd74f-323c-412d-9b77-9c54c1a60f66    Normal       False          119.4   \n",
       "4eadd318-25f7-420d-8aa9-53685cece638    Volley        True          119.3   \n",
       "723139d5-21a9-49f7-aca6-60cffdc6f6bc    Normal        True          118.7   \n",
       "6031f8cc-26a6-449c-b455-2d7c301ca005    Normal       False          118.8   \n",
       "\n",
       "                                      y gk position type of shot  \\\n",
       "shot id                                                            \n",
       "6c30cac4-6f3b-4cd0-9913-26137b058416           37.9    Open Play   \n",
       "67cfa552-952c-4f72-a33a-0dd6af217a66           39.1    Open Play   \n",
       "8c95e369-ec54-4a84-9d3e-51abb6f38e6e           39.0    Free Kick   \n",
       "2ae506b9-0601-460b-b91d-802296120161           39.5    Free Kick   \n",
       "10dc9818-a8d2-47f9-b219-9bc87d7b22e6           37.4    Open Play   \n",
       "...                                             ...          ...   \n",
       "da65c5c6-ce8f-46d3-b0b4-17fb1c9e31c3           42.1    Open Play   \n",
       "805dd74f-323c-412d-9b77-9c54c1a60f66           39.9    Open Play   \n",
       "4eadd318-25f7-420d-8aa9-53685cece638           39.9    Open Play   \n",
       "723139d5-21a9-49f7-aca6-60cffdc6f6bc           43.2    Open Play   \n",
       "6031f8cc-26a6-449c-b455-2d7c301ca005           41.7    Open Play   \n",
       "\n",
       "                                      num opponents within 5 yards  \\\n",
       "shot id                                                              \n",
       "6c30cac4-6f3b-4cd0-9913-26137b058416                             2   \n",
       "67cfa552-952c-4f72-a33a-0dd6af217a66                             1   \n",
       "8c95e369-ec54-4a84-9d3e-51abb6f38e6e                             0   \n",
       "2ae506b9-0601-460b-b91d-802296120161                             0   \n",
       "10dc9818-a8d2-47f9-b219-9bc87d7b22e6                             3   \n",
       "...                                                            ...   \n",
       "da65c5c6-ce8f-46d3-b0b4-17fb1c9e31c3                             0   \n",
       "805dd74f-323c-412d-9b77-9c54c1a60f66                             2   \n",
       "4eadd318-25f7-420d-8aa9-53685cece638                             1   \n",
       "723139d5-21a9-49f7-aca6-60cffdc6f6bc                             3   \n",
       "6031f8cc-26a6-449c-b455-2d7c301ca005                             2   \n",
       "\n",
       "                                      num opponents between shot and goal  \\\n",
       "shot id                                                                     \n",
       "6c30cac4-6f3b-4cd0-9913-26137b058416                                    2   \n",
       "67cfa552-952c-4f72-a33a-0dd6af217a66                                    0   \n",
       "8c95e369-ec54-4a84-9d3e-51abb6f38e6e                                    5   \n",
       "2ae506b9-0601-460b-b91d-802296120161                                    4   \n",
       "10dc9818-a8d2-47f9-b219-9bc87d7b22e6                                    1   \n",
       "...                                                                   ...   \n",
       "da65c5c6-ce8f-46d3-b0b4-17fb1c9e31c3                                    1   \n",
       "805dd74f-323c-412d-9b77-9c54c1a60f66                                    0   \n",
       "4eadd318-25f7-420d-8aa9-53685cece638                                    3   \n",
       "723139d5-21a9-49f7-aca6-60cffdc6f6bc                                    1   \n",
       "6031f8cc-26a6-449c-b455-2d7c301ca005                                    1   \n",
       "\n",
       "                                      statsbomb xg game_id  season_id  \\\n",
       "shot id                                                                 \n",
       "6c30cac4-6f3b-4cd0-9913-26137b058416      0.020549   16215  2018/2019   \n",
       "67cfa552-952c-4f72-a33a-0dd6af217a66      0.363959   16215  2018/2019   \n",
       "8c95e369-ec54-4a84-9d3e-51abb6f38e6e      0.127337   16215  2018/2019   \n",
       "2ae506b9-0601-460b-b91d-802296120161      0.090603   16215  2018/2019   \n",
       "10dc9818-a8d2-47f9-b219-9bc87d7b22e6      0.022751   16215  2018/2019   \n",
       "...                                            ...     ...        ...   \n",
       "da65c5c6-ce8f-46d3-b0b4-17fb1c9e31c3      0.042606   68352  2004/2005   \n",
       "805dd74f-323c-412d-9b77-9c54c1a60f66      0.117359   68352  2004/2005   \n",
       "4eadd318-25f7-420d-8aa9-53685cece638      0.013930   68352  2004/2005   \n",
       "723139d5-21a9-49f7-aca6-60cffdc6f6bc      0.100666   68352  2004/2005   \n",
       "6031f8cc-26a6-449c-b455-2d7c301ca005      0.053242   68352  2004/2005   \n",
       "\n",
       "                                      Distance from goal  \n",
       "shot id                                                   \n",
       "6c30cac4-6f3b-4cd0-9913-26137b058416           26.172505  \n",
       "67cfa552-952c-4f72-a33a-0dd6af217a66            6.300794  \n",
       "8c95e369-ec54-4a84-9d3e-51abb6f38e6e           24.793548  \n",
       "2ae506b9-0601-460b-b91d-802296120161           26.705992  \n",
       "10dc9818-a8d2-47f9-b219-9bc87d7b22e6           23.867342  \n",
       "...                                                  ...  \n",
       "da65c5c6-ce8f-46d3-b0b4-17fb1c9e31c3           26.200191  \n",
       "805dd74f-323c-412d-9b77-9c54c1a60f66            9.902020  \n",
       "4eadd318-25f7-420d-8aa9-53685cece638           27.639465  \n",
       "723139d5-21a9-49f7-aca6-60cffdc6f6bc           12.520783  \n",
       "6031f8cc-26a6-449c-b455-2d7c301ca005           21.416115  \n",
       "\n",
       "[11251 rows x 16 columns]"
      ]
     },
     "execution_count": 10,
     "metadata": {},
     "output_type": "execute_result"
    }
   ],
   "source": [
    "all_la_liga_shots"
   ]
  },
  {
   "cell_type": "markdown",
   "metadata": {},
   "source": [
    "### 2.2 Create a training and test set"
   ]
  },
  {
   "cell_type": "markdown",
   "metadata": {},
   "source": [
    "Since I don't want the test set to influence my model in any way (including the data exploration - which could eventually inform how I choose my model), I'll split the data now into test, validation and training sets and stash the test set away until I decide on a final model."
   ]
  },
  {
   "cell_type": "code",
   "execution_count": 11,
   "metadata": {},
   "outputs": [],
   "source": [
    "features=all_la_liga_shots.drop([\"outcome\"], axis=1)\n",
    "targets=all_la_liga_shots[\"outcome\"]\n",
    "\n",
    "X_train, X_test, y_train, y_test = train_test_split(features, targets, test_size=0.2)\n",
    "X_train, X_valid, y_train, y_valid = train_test_split(features.loc[X_train.index], targets[X_train.index], test_size=0.2)\n",
    "\n",
    "shot_training_set = pd.merge(X_train, y_train, left_index=True, right_index=True)\n",
    "shot_valid_set = pd.merge(X_valid, y_valid, left_index=True, right_index=True)\n",
    "shot_test_set = pd.merge(X_test, y_test, left_index=True, right_index=True)"
   ]
  },
  {
   "cell_type": "code",
   "execution_count": 12,
   "metadata": {},
   "outputs": [
    {
     "data": {
      "text/html": [
       "<div>\n",
       "<style scoped>\n",
       "    .dataframe tbody tr th:only-of-type {\n",
       "        vertical-align: middle;\n",
       "    }\n",
       "\n",
       "    .dataframe tbody tr th {\n",
       "        vertical-align: top;\n",
       "    }\n",
       "\n",
       "    .dataframe thead th {\n",
       "        text-align: right;\n",
       "    }\n",
       "</style>\n",
       "<table border=\"1\" class=\"dataframe\">\n",
       "  <thead>\n",
       "    <tr style=\"text-align: right;\">\n",
       "      <th></th>\n",
       "      <th>play pattern</th>\n",
       "      <th>x start location</th>\n",
       "      <th>y start location</th>\n",
       "      <th>duration</th>\n",
       "      <th>technique</th>\n",
       "      <th>first time</th>\n",
       "      <th>x gk position</th>\n",
       "      <th>y gk position</th>\n",
       "      <th>type of shot</th>\n",
       "      <th>num opponents within 5 yards</th>\n",
       "      <th>num opponents between shot and goal</th>\n",
       "      <th>statsbomb xg</th>\n",
       "      <th>game_id</th>\n",
       "      <th>season_id</th>\n",
       "      <th>Distance from goal</th>\n",
       "      <th>outcome</th>\n",
       "    </tr>\n",
       "    <tr>\n",
       "      <th>shot id</th>\n",
       "      <th></th>\n",
       "      <th></th>\n",
       "      <th></th>\n",
       "      <th></th>\n",
       "      <th></th>\n",
       "      <th></th>\n",
       "      <th></th>\n",
       "      <th></th>\n",
       "      <th></th>\n",
       "      <th></th>\n",
       "      <th></th>\n",
       "      <th></th>\n",
       "      <th></th>\n",
       "      <th></th>\n",
       "      <th></th>\n",
       "      <th></th>\n",
       "    </tr>\n",
       "  </thead>\n",
       "  <tbody>\n",
       "    <tr>\n",
       "      <th>7a5ea289-6334-425c-98d5-f0fc8ea38480</th>\n",
       "      <td>Regular Play</td>\n",
       "      <td>108.6</td>\n",
       "      <td>31.3</td>\n",
       "      <td>0.482000</td>\n",
       "      <td>Normal</td>\n",
       "      <td>False</td>\n",
       "      <td>118.4</td>\n",
       "      <td>39.0</td>\n",
       "      <td>Open Play</td>\n",
       "      <td>2</td>\n",
       "      <td>1</td>\n",
       "      <td>0.106809</td>\n",
       "      <td>9717</td>\n",
       "      <td>2017/2018</td>\n",
       "      <td>14.340502</td>\n",
       "      <td>0</td>\n",
       "    </tr>\n",
       "    <tr>\n",
       "      <th>4ce22ffa-23c6-40a5-b700-4909ae846bc7</th>\n",
       "      <td>Other</td>\n",
       "      <td>108.1</td>\n",
       "      <td>40.1</td>\n",
       "      <td>0.435400</td>\n",
       "      <td>Normal</td>\n",
       "      <td>False</td>\n",
       "      <td>120.0</td>\n",
       "      <td>40.0</td>\n",
       "      <td>Penalty</td>\n",
       "      <td>0</td>\n",
       "      <td>0</td>\n",
       "      <td>0.760000</td>\n",
       "      <td>69158</td>\n",
       "      <td>2007/2008</td>\n",
       "      <td>11.900420</td>\n",
       "      <td>1</td>\n",
       "    </tr>\n",
       "    <tr>\n",
       "      <th>f2af0d8a-937b-4247-b7b5-b6bdef07b9ac</th>\n",
       "      <td>Regular Play</td>\n",
       "      <td>110.0</td>\n",
       "      <td>53.5</td>\n",
       "      <td>0.748396</td>\n",
       "      <td>Normal</td>\n",
       "      <td>False</td>\n",
       "      <td>117.7</td>\n",
       "      <td>43.1</td>\n",
       "      <td>Open Play</td>\n",
       "      <td>1</td>\n",
       "      <td>0</td>\n",
       "      <td>0.083326</td>\n",
       "      <td>70303</td>\n",
       "      <td>2014/2015</td>\n",
       "      <td>16.800298</td>\n",
       "      <td>0</td>\n",
       "    </tr>\n",
       "    <tr>\n",
       "      <th>34a7cd15-59fd-49d8-a2e2-122215a044d0</th>\n",
       "      <td>Regular Play</td>\n",
       "      <td>103.2</td>\n",
       "      <td>27.0</td>\n",
       "      <td>0.078700</td>\n",
       "      <td>Normal</td>\n",
       "      <td>False</td>\n",
       "      <td>118.3</td>\n",
       "      <td>37.6</td>\n",
       "      <td>Open Play</td>\n",
       "      <td>2</td>\n",
       "      <td>0</td>\n",
       "      <td>0.043681</td>\n",
       "      <td>70306</td>\n",
       "      <td>2013/2014</td>\n",
       "      <td>21.242410</td>\n",
       "      <td>0</td>\n",
       "    </tr>\n",
       "    <tr>\n",
       "      <th>ce7f39e8-120a-4b57-a781-fde94f624242</th>\n",
       "      <td>From Corner</td>\n",
       "      <td>113.4</td>\n",
       "      <td>41.1</td>\n",
       "      <td>0.394700</td>\n",
       "      <td>Volley</td>\n",
       "      <td>True</td>\n",
       "      <td>119.0</td>\n",
       "      <td>38.8</td>\n",
       "      <td>Open Play</td>\n",
       "      <td>2</td>\n",
       "      <td>0</td>\n",
       "      <td>0.372419</td>\n",
       "      <td>70306</td>\n",
       "      <td>2013/2014</td>\n",
       "      <td>6.691039</td>\n",
       "      <td>0</td>\n",
       "    </tr>\n",
       "    <tr>\n",
       "      <th>...</th>\n",
       "      <td>...</td>\n",
       "      <td>...</td>\n",
       "      <td>...</td>\n",
       "      <td>...</td>\n",
       "      <td>...</td>\n",
       "      <td>...</td>\n",
       "      <td>...</td>\n",
       "      <td>...</td>\n",
       "      <td>...</td>\n",
       "      <td>...</td>\n",
       "      <td>...</td>\n",
       "      <td>...</td>\n",
       "      <td>...</td>\n",
       "      <td>...</td>\n",
       "      <td>...</td>\n",
       "      <td>...</td>\n",
       "    </tr>\n",
       "    <tr>\n",
       "      <th>a4170a6e-425d-4ec9-97e9-e17b9c1aa2fc</th>\n",
       "      <td>From Free Kick</td>\n",
       "      <td>109.5</td>\n",
       "      <td>38.7</td>\n",
       "      <td>1.231740</td>\n",
       "      <td>Normal</td>\n",
       "      <td>False</td>\n",
       "      <td>119.0</td>\n",
       "      <td>40.1</td>\n",
       "      <td>Open Play</td>\n",
       "      <td>4</td>\n",
       "      <td>0</td>\n",
       "      <td>0.041703</td>\n",
       "      <td>70277</td>\n",
       "      <td>2013/2014</td>\n",
       "      <td>10.580170</td>\n",
       "      <td>0</td>\n",
       "    </tr>\n",
       "    <tr>\n",
       "      <th>1ae002a2-916e-49bc-8189-208e33d31b82</th>\n",
       "      <td>Regular Play</td>\n",
       "      <td>112.7</td>\n",
       "      <td>30.3</td>\n",
       "      <td>1.748371</td>\n",
       "      <td>Volley</td>\n",
       "      <td>True</td>\n",
       "      <td>119.3</td>\n",
       "      <td>37.2</td>\n",
       "      <td>Open Play</td>\n",
       "      <td>2</td>\n",
       "      <td>0</td>\n",
       "      <td>0.195727</td>\n",
       "      <td>68330</td>\n",
       "      <td>2006/2007</td>\n",
       "      <td>12.140016</td>\n",
       "      <td>0</td>\n",
       "    </tr>\n",
       "    <tr>\n",
       "      <th>56db4f35-d333-40e2-bf12-e499e0d89e39</th>\n",
       "      <td>From Throw In</td>\n",
       "      <td>88.8</td>\n",
       "      <td>30.0</td>\n",
       "      <td>1.762402</td>\n",
       "      <td>Normal</td>\n",
       "      <td>False</td>\n",
       "      <td>119.1</td>\n",
       "      <td>38.4</td>\n",
       "      <td>Open Play</td>\n",
       "      <td>1</td>\n",
       "      <td>0</td>\n",
       "      <td>0.016503</td>\n",
       "      <td>68339</td>\n",
       "      <td>2005/2006</td>\n",
       "      <td>32.763394</td>\n",
       "      <td>0</td>\n",
       "    </tr>\n",
       "    <tr>\n",
       "      <th>0770339b-2964-474f-9d92-010690564422</th>\n",
       "      <td>From Free Kick</td>\n",
       "      <td>105.3</td>\n",
       "      <td>48.4</td>\n",
       "      <td>0.370200</td>\n",
       "      <td>Half Volley</td>\n",
       "      <td>False</td>\n",
       "      <td>115.5</td>\n",
       "      <td>42.2</td>\n",
       "      <td>Open Play</td>\n",
       "      <td>2</td>\n",
       "      <td>0</td>\n",
       "      <td>0.268098</td>\n",
       "      <td>69275</td>\n",
       "      <td>2010/2011</td>\n",
       "      <td>16.930741</td>\n",
       "      <td>0</td>\n",
       "    </tr>\n",
       "    <tr>\n",
       "      <th>cce5d9ca-9563-407e-8de2-20669c58dde9</th>\n",
       "      <td>Regular Play</td>\n",
       "      <td>113.3</td>\n",
       "      <td>49.9</td>\n",
       "      <td>0.312124</td>\n",
       "      <td>Normal</td>\n",
       "      <td>False</td>\n",
       "      <td>119.4</td>\n",
       "      <td>42.9</td>\n",
       "      <td>Open Play</td>\n",
       "      <td>2</td>\n",
       "      <td>0</td>\n",
       "      <td>0.060691</td>\n",
       "      <td>69312</td>\n",
       "      <td>2011/2012</td>\n",
       "      <td>11.954079</td>\n",
       "      <td>0</td>\n",
       "    </tr>\n",
       "  </tbody>\n",
       "</table>\n",
       "<p>7200 rows × 16 columns</p>\n",
       "</div>"
      ],
      "text/plain": [
       "                                        play pattern  x start location  \\\n",
       "shot id                                                                  \n",
       "7a5ea289-6334-425c-98d5-f0fc8ea38480    Regular Play             108.6   \n",
       "4ce22ffa-23c6-40a5-b700-4909ae846bc7           Other             108.1   \n",
       "f2af0d8a-937b-4247-b7b5-b6bdef07b9ac    Regular Play             110.0   \n",
       "34a7cd15-59fd-49d8-a2e2-122215a044d0    Regular Play             103.2   \n",
       "ce7f39e8-120a-4b57-a781-fde94f624242     From Corner             113.4   \n",
       "...                                              ...               ...   \n",
       "a4170a6e-425d-4ec9-97e9-e17b9c1aa2fc  From Free Kick             109.5   \n",
       "1ae002a2-916e-49bc-8189-208e33d31b82    Regular Play             112.7   \n",
       "56db4f35-d333-40e2-bf12-e499e0d89e39   From Throw In              88.8   \n",
       "0770339b-2964-474f-9d92-010690564422  From Free Kick             105.3   \n",
       "cce5d9ca-9563-407e-8de2-20669c58dde9    Regular Play             113.3   \n",
       "\n",
       "                                      y start location  duration    technique  \\\n",
       "shot id                                                                         \n",
       "7a5ea289-6334-425c-98d5-f0fc8ea38480              31.3  0.482000       Normal   \n",
       "4ce22ffa-23c6-40a5-b700-4909ae846bc7              40.1  0.435400       Normal   \n",
       "f2af0d8a-937b-4247-b7b5-b6bdef07b9ac              53.5  0.748396       Normal   \n",
       "34a7cd15-59fd-49d8-a2e2-122215a044d0              27.0  0.078700       Normal   \n",
       "ce7f39e8-120a-4b57-a781-fde94f624242              41.1  0.394700       Volley   \n",
       "...                                                ...       ...          ...   \n",
       "a4170a6e-425d-4ec9-97e9-e17b9c1aa2fc              38.7  1.231740       Normal   \n",
       "1ae002a2-916e-49bc-8189-208e33d31b82              30.3  1.748371       Volley   \n",
       "56db4f35-d333-40e2-bf12-e499e0d89e39              30.0  1.762402       Normal   \n",
       "0770339b-2964-474f-9d92-010690564422              48.4  0.370200  Half Volley   \n",
       "cce5d9ca-9563-407e-8de2-20669c58dde9              49.9  0.312124       Normal   \n",
       "\n",
       "                                      first time  x gk position  \\\n",
       "shot id                                                           \n",
       "7a5ea289-6334-425c-98d5-f0fc8ea38480       False          118.4   \n",
       "4ce22ffa-23c6-40a5-b700-4909ae846bc7       False          120.0   \n",
       "f2af0d8a-937b-4247-b7b5-b6bdef07b9ac       False          117.7   \n",
       "34a7cd15-59fd-49d8-a2e2-122215a044d0       False          118.3   \n",
       "ce7f39e8-120a-4b57-a781-fde94f624242        True          119.0   \n",
       "...                                          ...            ...   \n",
       "a4170a6e-425d-4ec9-97e9-e17b9c1aa2fc       False          119.0   \n",
       "1ae002a2-916e-49bc-8189-208e33d31b82        True          119.3   \n",
       "56db4f35-d333-40e2-bf12-e499e0d89e39       False          119.1   \n",
       "0770339b-2964-474f-9d92-010690564422       False          115.5   \n",
       "cce5d9ca-9563-407e-8de2-20669c58dde9       False          119.4   \n",
       "\n",
       "                                      y gk position type of shot  \\\n",
       "shot id                                                            \n",
       "7a5ea289-6334-425c-98d5-f0fc8ea38480           39.0    Open Play   \n",
       "4ce22ffa-23c6-40a5-b700-4909ae846bc7           40.0      Penalty   \n",
       "f2af0d8a-937b-4247-b7b5-b6bdef07b9ac           43.1    Open Play   \n",
       "34a7cd15-59fd-49d8-a2e2-122215a044d0           37.6    Open Play   \n",
       "ce7f39e8-120a-4b57-a781-fde94f624242           38.8    Open Play   \n",
       "...                                             ...          ...   \n",
       "a4170a6e-425d-4ec9-97e9-e17b9c1aa2fc           40.1    Open Play   \n",
       "1ae002a2-916e-49bc-8189-208e33d31b82           37.2    Open Play   \n",
       "56db4f35-d333-40e2-bf12-e499e0d89e39           38.4    Open Play   \n",
       "0770339b-2964-474f-9d92-010690564422           42.2    Open Play   \n",
       "cce5d9ca-9563-407e-8de2-20669c58dde9           42.9    Open Play   \n",
       "\n",
       "                                      num opponents within 5 yards  \\\n",
       "shot id                                                              \n",
       "7a5ea289-6334-425c-98d5-f0fc8ea38480                             2   \n",
       "4ce22ffa-23c6-40a5-b700-4909ae846bc7                             0   \n",
       "f2af0d8a-937b-4247-b7b5-b6bdef07b9ac                             1   \n",
       "34a7cd15-59fd-49d8-a2e2-122215a044d0                             2   \n",
       "ce7f39e8-120a-4b57-a781-fde94f624242                             2   \n",
       "...                                                            ...   \n",
       "a4170a6e-425d-4ec9-97e9-e17b9c1aa2fc                             4   \n",
       "1ae002a2-916e-49bc-8189-208e33d31b82                             2   \n",
       "56db4f35-d333-40e2-bf12-e499e0d89e39                             1   \n",
       "0770339b-2964-474f-9d92-010690564422                             2   \n",
       "cce5d9ca-9563-407e-8de2-20669c58dde9                             2   \n",
       "\n",
       "                                      num opponents between shot and goal  \\\n",
       "shot id                                                                     \n",
       "7a5ea289-6334-425c-98d5-f0fc8ea38480                                    1   \n",
       "4ce22ffa-23c6-40a5-b700-4909ae846bc7                                    0   \n",
       "f2af0d8a-937b-4247-b7b5-b6bdef07b9ac                                    0   \n",
       "34a7cd15-59fd-49d8-a2e2-122215a044d0                                    0   \n",
       "ce7f39e8-120a-4b57-a781-fde94f624242                                    0   \n",
       "...                                                                   ...   \n",
       "a4170a6e-425d-4ec9-97e9-e17b9c1aa2fc                                    0   \n",
       "1ae002a2-916e-49bc-8189-208e33d31b82                                    0   \n",
       "56db4f35-d333-40e2-bf12-e499e0d89e39                                    0   \n",
       "0770339b-2964-474f-9d92-010690564422                                    0   \n",
       "cce5d9ca-9563-407e-8de2-20669c58dde9                                    0   \n",
       "\n",
       "                                      statsbomb xg game_id  season_id  \\\n",
       "shot id                                                                 \n",
       "7a5ea289-6334-425c-98d5-f0fc8ea38480      0.106809    9717  2017/2018   \n",
       "4ce22ffa-23c6-40a5-b700-4909ae846bc7      0.760000   69158  2007/2008   \n",
       "f2af0d8a-937b-4247-b7b5-b6bdef07b9ac      0.083326   70303  2014/2015   \n",
       "34a7cd15-59fd-49d8-a2e2-122215a044d0      0.043681   70306  2013/2014   \n",
       "ce7f39e8-120a-4b57-a781-fde94f624242      0.372419   70306  2013/2014   \n",
       "...                                            ...     ...        ...   \n",
       "a4170a6e-425d-4ec9-97e9-e17b9c1aa2fc      0.041703   70277  2013/2014   \n",
       "1ae002a2-916e-49bc-8189-208e33d31b82      0.195727   68330  2006/2007   \n",
       "56db4f35-d333-40e2-bf12-e499e0d89e39      0.016503   68339  2005/2006   \n",
       "0770339b-2964-474f-9d92-010690564422      0.268098   69275  2010/2011   \n",
       "cce5d9ca-9563-407e-8de2-20669c58dde9      0.060691   69312  2011/2012   \n",
       "\n",
       "                                      Distance from goal  outcome  \n",
       "shot id                                                            \n",
       "7a5ea289-6334-425c-98d5-f0fc8ea38480           14.340502        0  \n",
       "4ce22ffa-23c6-40a5-b700-4909ae846bc7           11.900420        1  \n",
       "f2af0d8a-937b-4247-b7b5-b6bdef07b9ac           16.800298        0  \n",
       "34a7cd15-59fd-49d8-a2e2-122215a044d0           21.242410        0  \n",
       "ce7f39e8-120a-4b57-a781-fde94f624242            6.691039        0  \n",
       "...                                                  ...      ...  \n",
       "a4170a6e-425d-4ec9-97e9-e17b9c1aa2fc           10.580170        0  \n",
       "1ae002a2-916e-49bc-8189-208e33d31b82           12.140016        0  \n",
       "56db4f35-d333-40e2-bf12-e499e0d89e39           32.763394        0  \n",
       "0770339b-2964-474f-9d92-010690564422           16.930741        0  \n",
       "cce5d9ca-9563-407e-8de2-20669c58dde9           11.954079        0  \n",
       "\n",
       "[7200 rows x 16 columns]"
      ]
     },
     "execution_count": 12,
     "metadata": {},
     "output_type": "execute_result"
    }
   ],
   "source": [
    "shot_training_set"
   ]
  },
  {
   "cell_type": "markdown",
   "metadata": {},
   "source": [
    "### 2.3 Visualizing relationships\n",
    "\n",
    "Below, I write a function, `plot_percent_goal_vs_attr` to plot the percentage of goals scored by desired **categorical** variable."
   ]
  },
  {
   "cell_type": "code",
   "execution_count": 13,
   "metadata": {},
   "outputs": [],
   "source": [
    "def plot_percent_goal_vs_attr(attribute, type_chart = \"line\"):\n",
    "    \"\"\"\n",
    "    Function which plots the percentage of goals scored by desired categorical attribute in our shot training set.\n",
    "    \n",
    "    Arguments:\n",
    "    ----------\n",
    "    attribute (string) \n",
    "        - name of categorical attribute in shot training set data frame\n",
    "    \"\"\"\n",
    "    shot_training_set_copy = shot_training_set.copy() \n",
    "    \n",
    "    attr_x = attribute\n",
    "    attr_y = \"outcome\"\n",
    "    attr_agg = \"shot id\"\n",
    "    attrs = [attr_x, attr_y, attr_agg]\n",
    "\n",
    "    outcomes_by_attribute = shot_training_set_copy.reset_index()[attrs]   \\\n",
    "                            .groupby([attr_x, attr_y])               \\\n",
    "                            .count()                                 \\\n",
    "                            .unstack()                               \\\n",
    "                            .fillna(0)\n",
    "    \n",
    "    outcomes_by_attribute = outcomes_by_attribute[attr_agg].reset_index()\n",
    "    outcomes_by_attribute[\"Percent Goal\"] = outcomes_by_attribute[1] * 100  / outcomes_by_attribute.sum(axis = 1)\n",
    "    outcomes_by_attribute = outcomes_by_attribute.rename(columns={0: 'No Goal', 1: 'Goal'})\n",
    "    \n",
    "    if type_chart == \"line\":\n",
    "        chart = alt.Chart(outcomes_by_attribute).mark_line()\n",
    "    elif type_chart == \"bar\":\n",
    "        chart = alt.Chart(outcomes_by_attribute).mark_bar()\n",
    "    \n",
    "    chart = chart.encode(\n",
    "        alt.X('{}:N'.format(attr_x), axis = alt.Axis(title = attr_x, labelAngle = 0)),\n",
    "        alt.Y('Percent Goal:Q', axis = alt.Axis(title = 'Percent Goal'))\n",
    "    ).properties(width = 850, height = 300, \n",
    "             title = \"Percent Goal vs {}\".format(attr_x)\n",
    "    ).configure_axis(labelFontSize = 13, titleFontSize = 15\n",
    "    ).configure_title(fontSize = 16)\n",
    "    \n",
    "    return chart"
   ]
  },
  {
   "cell_type": "markdown",
   "metadata": {},
   "source": [
    "#### 2.3.1 Percent goals by num opponents between shot and goal"
   ]
  },
  {
   "cell_type": "markdown",
   "metadata": {},
   "source": [
    "Now we can use our function to plot the desired variables:"
   ]
  },
  {
   "cell_type": "code",
   "execution_count": 14,
   "metadata": {},
   "outputs": [
    {
     "data": {
      "application/vnd.vegalite.v3+json": {
       "$schema": "https://vega.github.io/schema/vega-lite/v3.4.0.json",
       "config": {
        "axis": {
         "labelFontSize": 13,
         "titleFontSize": 15
        },
        "mark": {
         "tooltip": null
        },
        "title": {
         "fontSize": 16
        },
        "view": {
         "height": 300,
         "width": 400
        }
       },
       "data": {
        "name": "data-f2b93408f37e6e4cc3528952a16b8df4"
       },
       "datasets": {
        "data-f2b93408f37e6e4cc3528952a16b8df4": [
         {
          "Goal": 756,
          "No Goal": 3094,
          "Percent Goal": 19.636363636363637,
          "num opponents between shot and goal": 0
         },
         {
          "Goal": 169,
          "No Goal": 2039,
          "Percent Goal": 7.650520597555455,
          "num opponents between shot and goal": 1
         },
         {
          "Goal": 39,
          "No Goal": 631,
          "Percent Goal": 5.803571428571429,
          "num opponents between shot and goal": 2
         },
         {
          "Goal": 22,
          "No Goal": 262,
          "Percent Goal": 7.665505226480836,
          "num opponents between shot and goal": 3
         },
         {
          "Goal": 9,
          "No Goal": 119,
          "Percent Goal": 6.818181818181818,
          "num opponents between shot and goal": 4
         },
         {
          "Goal": 5,
          "No Goal": 42,
          "Percent Goal": 9.615384615384615,
          "num opponents between shot and goal": 5
         },
         {
          "Goal": 4,
          "No Goal": 7,
          "Percent Goal": 23.529411764705884,
          "num opponents between shot and goal": 6
         },
         {
          "Goal": 0,
          "No Goal": 1,
          "Percent Goal": 0,
          "num opponents between shot and goal": 7
         },
         {
          "Goal": 0,
          "No Goal": 1,
          "Percent Goal": 0,
          "num opponents between shot and goal": 8
         }
        ]
       },
       "encoding": {
        "x": {
         "axis": {
          "labelAngle": 0,
          "title": "num opponents between shot and goal"
         },
         "field": "num opponents between shot and goal",
         "type": "nominal"
        },
        "y": {
         "axis": {
          "title": "Percent Goal"
         },
         "field": "Percent Goal",
         "type": "quantitative"
        }
       },
       "height": 300,
       "mark": "bar",
       "title": "Percent Goal vs num opponents between shot and goal",
       "width": 850
      },
      "image/png": "[encoded data removed]",
      "text/plain": [
       "<VegaLite 3 object>\n",
       "\n",
       "If you see this message, it means the renderer has not been properly enabled\n",
       "for the frontend that you are using. For more information, see\n",
       "https://altair-viz.github.io/user_guide/troubleshooting.html\n"
      ]
     },
     "execution_count": 14,
     "metadata": {},
     "output_type": "execute_result"
    }
   ],
   "source": [
    "plot_percent_goal_vs_attr(\"num opponents between shot and goal\", \"bar\")"
   ]
  },
  {
   "cell_type": "markdown",
   "metadata": {},
   "source": [
    "**Comments:**\n",
    "\n",
    "As expected, in general, the rate of goals scored decreases as more opponents are between the shot location and the goal. Interestingly, there is a bizarre peak at 6 opponents between shot and goal."
   ]
  },
  {
   "cell_type": "markdown",
   "metadata": {},
   "source": [
    "#### 2.3.2 Percent goals by num opponents within 5 yards"
   ]
  },
  {
   "cell_type": "code",
   "execution_count": 15,
   "metadata": {},
   "outputs": [
    {
     "data": {
      "application/vnd.vegalite.v3+json": {
       "$schema": "https://vega.github.io/schema/vega-lite/v3.4.0.json",
       "config": {
        "axis": {
         "labelFontSize": 13,
         "titleFontSize": 15
        },
        "mark": {
         "tooltip": null
        },
        "title": {
         "fontSize": 16
        },
        "view": {
         "height": 300,
         "width": 400
        }
       },
       "data": {
        "name": "data-c934cc2aef801e18f320842986017c2d"
       },
       "datasets": {
        "data-c934cc2aef801e18f320842986017c2d": [
         {
          "Goal": 202,
          "No Goal": 1202,
          "Percent Goal": 14.387464387464387,
          "num opponents within 5 yards": 0
         },
         {
          "Goal": 359,
          "No Goal": 2138,
          "Percent Goal": 14.371497197758206,
          "num opponents within 5 yards": 1
         },
         {
          "Goal": 268,
          "No Goal": 1746,
          "Percent Goal": 13.293650793650794,
          "num opponents within 5 yards": 2
         },
         {
          "Goal": 121,
          "No Goal": 722,
          "Percent Goal": 14.30260047281324,
          "num opponents within 5 yards": 3
         },
         {
          "Goal": 40,
          "No Goal": 287,
          "Percent Goal": 12.084592145015106,
          "num opponents within 5 yards": 4
         },
         {
          "Goal": 13,
          "No Goal": 80,
          "Percent Goal": 13.26530612244898,
          "num opponents within 5 yards": 5
         },
         {
          "Goal": 1,
          "No Goal": 19,
          "Percent Goal": 3.8461538461538463,
          "num opponents within 5 yards": 6
         },
         {
          "Goal": 0,
          "No Goal": 2,
          "Percent Goal": 0,
          "num opponents within 5 yards": 7
         }
        ]
       },
       "encoding": {
        "x": {
         "axis": {
          "labelAngle": 0,
          "title": "num opponents within 5 yards"
         },
         "field": "num opponents within 5 yards",
         "type": "nominal"
        },
        "y": {
         "axis": {
          "title": "Percent Goal"
         },
         "field": "Percent Goal",
         "type": "quantitative"
        }
       },
       "height": 300,
       "mark": "bar",
       "title": "Percent Goal vs num opponents within 5 yards",
       "width": 850
      },
      "image/png": "[encoded data removed]",
      "text/plain": [
       "<VegaLite 3 object>\n",
       "\n",
       "If you see this message, it means the renderer has not been properly enabled\n",
       "for the frontend that you are using. For more information, see\n",
       "https://altair-viz.github.io/user_guide/troubleshooting.html\n"
      ]
     },
     "execution_count": 15,
     "metadata": {},
     "output_type": "execute_result"
    }
   ],
   "source": [
    "plot_percent_goal_vs_attr(\"num opponents within 5 yards\", \"bar\")"
   ]
  },
  {
   "cell_type": "markdown",
   "metadata": {},
   "source": [
    "**Comments:**\n",
    "\n",
    "We see a similar trend for rate of goals scored vs number of opponents within 5 yards of shot location."
   ]
  },
  {
   "cell_type": "markdown",
   "metadata": {},
   "source": [
    "#### 2.3.3 Percent goals by player pattern"
   ]
  },
  {
   "cell_type": "code",
   "execution_count": 16,
   "metadata": {},
   "outputs": [
    {
     "data": {
      "application/vnd.vegalite.v3+json": {
       "$schema": "https://vega.github.io/schema/vega-lite/v3.4.0.json",
       "config": {
        "axis": {
         "labelFontSize": 13,
         "titleFontSize": 15
        },
        "mark": {
         "tooltip": null
        },
        "title": {
         "fontSize": 16
        },
        "view": {
         "height": 300,
         "width": 400
        }
       },
       "data": {
        "name": "data-23b4920fb7d83d4f365c636ce73a320c"
       },
       "datasets": {
        "data-23b4920fb7d83d4f365c636ce73a320c": [
         {
          "Goal": 96,
          "No Goal": 911,
          "Percent Goal": 9.533267130089374,
          "play pattern": "From Corner"
         },
         {
          "Goal": 57,
          "No Goal": 261,
          "Percent Goal": 17.92452830188679,
          "play pattern": "From Counter"
         },
         {
          "Goal": 197,
          "No Goal": 1529,
          "Percent Goal": 11.413673232908458,
          "play pattern": "From Free Kick"
         },
         {
          "Goal": 43,
          "No Goal": 219,
          "Percent Goal": 16.412213740458014,
          "play pattern": "From Goal Kick"
         },
         {
          "Goal": 6,
          "No Goal": 69,
          "Percent Goal": 8,
          "play pattern": "From Keeper"
         },
         {
          "Goal": 7,
          "No Goal": 83,
          "Percent Goal": 7.777777777777778,
          "play pattern": "From Kick Off"
         },
         {
          "Goal": 135,
          "No Goal": 926,
          "Percent Goal": 12.723845428840717,
          "play pattern": "From Throw In"
         },
         {
          "Goal": 69,
          "No Goal": 24,
          "Percent Goal": 74.19354838709677,
          "play pattern": "Other"
         },
         {
          "Goal": 394,
          "No Goal": 2174,
          "Percent Goal": 15.342679127725857,
          "play pattern": "Regular Play"
         }
        ]
       },
       "encoding": {
        "x": {
         "axis": {
          "labelAngle": 0,
          "title": "play pattern"
         },
         "field": "play pattern",
         "type": "nominal"
        },
        "y": {
         "axis": {
          "title": "Percent Goal"
         },
         "field": "Percent Goal",
         "type": "quantitative"
        }
       },
       "height": 300,
       "mark": "bar",
       "title": "Percent Goal vs play pattern",
       "width": 850
      },
      "image/png": "[encoded data removed]",
      "text/plain": [
       "<VegaLite 3 object>\n",
       "\n",
       "If you see this message, it means the renderer has not been properly enabled\n",
       "for the frontend that you are using. For more information, see\n",
       "https://altair-viz.github.io/user_guide/troubleshooting.html\n"
      ]
     },
     "execution_count": 16,
     "metadata": {},
     "output_type": "execute_result"
    }
   ],
   "source": [
    "plot_percent_goal_vs_attr(\"play pattern\", \"bar\")"
   ]
  },
  {
   "cell_type": "markdown",
   "metadata": {},
   "source": [
    "**Comments:**\n",
    "\n",
    "For goal scoring rate by _play pattern_, we see that \"other\" has a very large percent goals scored value. This tells us that \"other\" refers to penalties. Aside from \"other\", we can see that shots from counter attacks have a larger chance to produce a goal than any other play pattern, probably because counter attacks mean that the opposition is much less organized, resulting in more space. To be sure, we can check this below:"
   ]
  },
  {
   "cell_type": "code",
   "execution_count": 17,
   "metadata": {},
   "outputs": [
    {
     "data": {
      "application/vnd.vegalite.v3+json": {
       "$schema": "https://vega.github.io/schema/vega-lite/v3.4.0.json",
       "config": {
        "axis": {
         "labelFontSize": 13,
         "titleFontSize": 15
        },
        "mark": {
         "tooltip": null
        },
        "title": {
         "fontSize": 16
        },
        "view": {
         "height": 300,
         "width": 400
        }
       },
       "data": {
        "name": "data-2b519dae3564c7a0beb7b4f38e085c3a"
       },
       "datasets": {
        "data-2b519dae3564c7a0beb7b4f38e085c3a": [
         {
          "Distance from goal": 15.746465464745697,
          "duration": 0.8070383227408128,
          "first time": 0.3187686196623635,
          "num opponents between shot and goal": 0.9692154915590864,
          "num opponents within 5 yards": 2.1072492552135054,
          "outcome": 0.09533267130089375,
          "play pattern": "From Corner",
          "statsbomb xg": 0.09523511249553128,
          "x gk position": 118.53684210526319,
          "x start location": 106.70566037735867,
          "y gk position": 39.98202581926519,
          "y start location": 39.854716981132015
         },
         {
          "Distance from goal": 17.43073536640626,
          "duration": 0.6736746163522008,
          "first time": 0.2389937106918239,
          "num opponents between shot and goal": 0.27358490566037735,
          "num opponents within 5 yards": 1.5,
          "outcome": 0.1792452830188679,
          "play pattern": "From Counter",
          "statsbomb xg": 0.19104769906289318,
          "x gk position": 115.6361635220126,
          "x start location": 105.96729559748427,
          "y gk position": 39.479245283018855,
          "y start location": 38.80911949685533
         },
         {
          "Distance from goal": 21.749969909590597,
          "duration": 0.8218543876013891,
          "first time": 0.24044032444959443,
          "num opponents between shot and goal": 1.2862108922363846,
          "num opponents within 5 yards": 1.2010428736964078,
          "outcome": 0.11413673232908458,
          "play pattern": "From Free Kick",
          "statsbomb xg": 0.10043722345104278,
          "x gk position": 118.0947856315179,
          "x start location": 101.02589803012735,
          "y gk position": 40.020220162224845,
          "y start location": 39.53464658169168
         },
         {
          "Distance from goal": 18.593130410154163,
          "duration": 0.7362167595419843,
          "first time": 0.37404580152671757,
          "num opponents between shot and goal": 0.46946564885496184,
          "num opponents within 5 yards": 1.5648854961832062,
          "outcome": 0.16412213740458015,
          "play pattern": "From Goal Kick",
          "statsbomb xg": 0.14588268101145033,
          "x gk position": 117.18320610687022,
          "x start location": 104.61984732824428,
          "y gk position": 39.882442748091606,
          "y start location": 39.917557251908384
         },
         {
          "Distance from goal": 19.01010848245258,
          "duration": 0.7450983866666667,
          "first time": 0.37333333333333335,
          "num opponents between shot and goal": 0.56,
          "num opponents within 5 yards": 1.5466666666666666,
          "outcome": 0.08,
          "play pattern": "From Keeper",
          "statsbomb xg": 0.14119052773333335,
          "x gk position": 116.51199999999997,
          "x start location": 103.46,
          "y gk position": 39.83600000000001,
          "y start location": 38.78133333333333
         },
         {
          "Distance from goal": 21.822779744286898,
          "duration": 0.8857977444444446,
          "first time": 0.3111111111111111,
          "num opponents between shot and goal": 0.5,
          "num opponents within 5 yards": 1.488888888888889,
          "outcome": 0.07777777777777778,
          "play pattern": "From Kick Off",
          "statsbomb xg": 0.08450477633888889,
          "x gk position": 117.52111111111113,
          "x start location": 101.32000000000004,
          "y gk position": 40.388888888888886,
          "y start location": 40.23888888888889
         },
         {
          "Distance from goal": 19.49611539617719,
          "duration": 0.782007018850142,
          "first time": 0.3459000942507069,
          "num opponents between shot and goal": 0.5014137606032045,
          "num opponents within 5 yards": 1.6050895381715362,
          "outcome": 0.12723845428840716,
          "play pattern": "From Throw In",
          "statsbomb xg": 0.1118844710424129,
          "x gk position": 117.75004712535345,
          "x start location": 103.77737983034856,
          "y gk position": 39.88689915174364,
          "y start location": 39.12375117813381
         },
         {
          "Distance from goal": 12.055690091655718,
          "duration": 0.5965000107526881,
          "first time": 0.053763440860215055,
          "num opponents between shot and goal": 0.021505376344086023,
          "num opponents within 5 yards": 0.11827956989247312,
          "outcome": 0.7419354838709677,
          "play pattern": "Other",
          "statsbomb xg": 0.7197284721505371,
          "x gk position": 119.74516129032257,
          "x start location": 108.094623655914,
          "y gk position": 39.97849462365591,
          "y start location": 40.0021505376344
         },
         {
          "Distance from goal": 18.996089398565182,
          "duration": 0.7760318897975087,
          "first time": 0.3438473520249221,
          "num opponents between shot and goal": 0.4676791277258567,
          "num opponents within 5 yards": 1.5245327102803738,
          "outcome": 0.15342679127725856,
          "play pattern": "Regular Play",
          "statsbomb xg": 0.13809439351654962,
          "x gk position": 117.3210669781934,
          "x start location": 104.13115264797514,
          "y gk position": 39.79742990654209,
          "y start location": 39.06802959501558
         }
        ]
       },
       "encoding": {
        "x": {
         "axis": {
          "labelAngle": 0,
          "title": "player pattern"
         },
         "field": "play pattern",
         "type": "nominal"
        },
        "y": {
         "axis": {
          "title": "mean num opponents within 5 yards"
         },
         "field": "num opponents within 5 yards",
         "type": "quantitative"
        }
       },
       "height": 300,
       "mark": "bar",
       "title": "mean num opponents whithin 5 yards by play pattern",
       "width": 850
      },
      "image/png": "[encoded data removed]",
      "text/plain": [
       "<VegaLite 3 object>\n",
       "\n",
       "If you see this message, it means the renderer has not been properly enabled\n",
       "for the frontend that you are using. For more information, see\n",
       "https://altair-viz.github.io/user_guide/troubleshooting.html\n"
      ]
     },
     "execution_count": 17,
     "metadata": {},
     "output_type": "execute_result"
    }
   ],
   "source": [
    "alt.Chart(shot_training_set.groupby(\"play pattern\").mean().reset_index()).mark_bar().encode(\n",
    "        alt.X('play pattern:N', axis = alt.Axis(title = \"player pattern\", labelAngle = 0)),\n",
    "        alt.Y('num opponents within 5 yards:Q', axis = alt.Axis(title = 'mean num opponents within 5 yards'))\n",
    ").properties(width = 850, height = 300, \n",
    "             title = \"mean num opponents whithin 5 yards by play pattern\"\n",
    ").configure_axis(labelFontSize = 13, titleFontSize = 15\n",
    ").configure_title(fontSize = 16)"
   ]
  },
  {
   "cell_type": "markdown",
   "metadata": {},
   "source": [
    "Ok, so actually, shots resulting from counters, on average, don't have less players within 5 yards of the shot location than other play patterns. What about number of opponents between the shot location and the goal?"
   ]
  },
  {
   "cell_type": "code",
   "execution_count": 18,
   "metadata": {},
   "outputs": [
    {
     "data": {
      "application/vnd.vegalite.v3+json": {
       "$schema": "https://vega.github.io/schema/vega-lite/v3.4.0.json",
       "config": {
        "axis": {
         "labelFontSize": 13,
         "titleFontSize": 15
        },
        "mark": {
         "tooltip": null
        },
        "title": {
         "fontSize": 16
        },
        "view": {
         "height": 300,
         "width": 400
        }
       },
       "data": {
        "name": "data-2b519dae3564c7a0beb7b4f38e085c3a"
       },
       "datasets": {
        "data-2b519dae3564c7a0beb7b4f38e085c3a": [
         {
          "Distance from goal": 15.746465464745697,
          "duration": 0.8070383227408128,
          "first time": 0.3187686196623635,
          "num opponents between shot and goal": 0.9692154915590864,
          "num opponents within 5 yards": 2.1072492552135054,
          "outcome": 0.09533267130089375,
          "play pattern": "From Corner",
          "statsbomb xg": 0.09523511249553128,
          "x gk position": 118.53684210526319,
          "x start location": 106.70566037735867,
          "y gk position": 39.98202581926519,
          "y start location": 39.854716981132015
         },
         {
          "Distance from goal": 17.43073536640626,
          "duration": 0.6736746163522008,
          "first time": 0.2389937106918239,
          "num opponents between shot and goal": 0.27358490566037735,
          "num opponents within 5 yards": 1.5,
          "outcome": 0.1792452830188679,
          "play pattern": "From Counter",
          "statsbomb xg": 0.19104769906289318,
          "x gk position": 115.6361635220126,
          "x start location": 105.96729559748427,
          "y gk position": 39.479245283018855,
          "y start location": 38.80911949685533
         },
         {
          "Distance from goal": 21.749969909590597,
          "duration": 0.8218543876013891,
          "first time": 0.24044032444959443,
          "num opponents between shot and goal": 1.2862108922363846,
          "num opponents within 5 yards": 1.2010428736964078,
          "outcome": 0.11413673232908458,
          "play pattern": "From Free Kick",
          "statsbomb xg": 0.10043722345104278,
          "x gk position": 118.0947856315179,
          "x start location": 101.02589803012735,
          "y gk position": 40.020220162224845,
          "y start location": 39.53464658169168
         },
         {
          "Distance from goal": 18.593130410154163,
          "duration": 0.7362167595419843,
          "first time": 0.37404580152671757,
          "num opponents between shot and goal": 0.46946564885496184,
          "num opponents within 5 yards": 1.5648854961832062,
          "outcome": 0.16412213740458015,
          "play pattern": "From Goal Kick",
          "statsbomb xg": 0.14588268101145033,
          "x gk position": 117.18320610687022,
          "x start location": 104.61984732824428,
          "y gk position": 39.882442748091606,
          "y start location": 39.917557251908384
         },
         {
          "Distance from goal": 19.01010848245258,
          "duration": 0.7450983866666667,
          "first time": 0.37333333333333335,
          "num opponents between shot and goal": 0.56,
          "num opponents within 5 yards": 1.5466666666666666,
          "outcome": 0.08,
          "play pattern": "From Keeper",
          "statsbomb xg": 0.14119052773333335,
          "x gk position": 116.51199999999997,
          "x start location": 103.46,
          "y gk position": 39.83600000000001,
          "y start location": 38.78133333333333
         },
         {
          "Distance from goal": 21.822779744286898,
          "duration": 0.8857977444444446,
          "first time": 0.3111111111111111,
          "num opponents between shot and goal": 0.5,
          "num opponents within 5 yards": 1.488888888888889,
          "outcome": 0.07777777777777778,
          "play pattern": "From Kick Off",
          "statsbomb xg": 0.08450477633888889,
          "x gk position": 117.52111111111113,
          "x start location": 101.32000000000004,
          "y gk position": 40.388888888888886,
          "y start location": 40.23888888888889
         },
         {
          "Distance from goal": 19.49611539617719,
          "duration": 0.782007018850142,
          "first time": 0.3459000942507069,
          "num opponents between shot and goal": 0.5014137606032045,
          "num opponents within 5 yards": 1.6050895381715362,
          "outcome": 0.12723845428840716,
          "play pattern": "From Throw In",
          "statsbomb xg": 0.1118844710424129,
          "x gk position": 117.75004712535345,
          "x start location": 103.77737983034856,
          "y gk position": 39.88689915174364,
          "y start location": 39.12375117813381
         },
         {
          "Distance from goal": 12.055690091655718,
          "duration": 0.5965000107526881,
          "first time": 0.053763440860215055,
          "num opponents between shot and goal": 0.021505376344086023,
          "num opponents within 5 yards": 0.11827956989247312,
          "outcome": 0.7419354838709677,
          "play pattern": "Other",
          "statsbomb xg": 0.7197284721505371,
          "x gk position": 119.74516129032257,
          "x start location": 108.094623655914,
          "y gk position": 39.97849462365591,
          "y start location": 40.0021505376344
         },
         {
          "Distance from goal": 18.996089398565182,
          "duration": 0.7760318897975087,
          "first time": 0.3438473520249221,
          "num opponents between shot and goal": 0.4676791277258567,
          "num opponents within 5 yards": 1.5245327102803738,
          "outcome": 0.15342679127725856,
          "play pattern": "Regular Play",
          "statsbomb xg": 0.13809439351654962,
          "x gk position": 117.3210669781934,
          "x start location": 104.13115264797514,
          "y gk position": 39.79742990654209,
          "y start location": 39.06802959501558
         }
        ]
       },
       "encoding": {
        "x": {
         "axis": {
          "labelAngle": 0,
          "title": "play pattern"
         },
         "field": "play pattern",
         "type": "nominal"
        },
        "y": {
         "axis": {
          "title": "num opponents between shot and goal"
         },
         "field": "num opponents between shot and goal",
         "type": "quantitative"
        }
       },
       "height": 300,
       "mark": "bar",
       "title": "mean num opponents between shot and goal by play pattern",
       "width": 850
      },
      "image/png": "[encoded data removed]",
      "text/plain": [
       "<VegaLite 3 object>\n",
       "\n",
       "If you see this message, it means the renderer has not been properly enabled\n",
       "for the frontend that you are using. For more information, see\n",
       "https://altair-viz.github.io/user_guide/troubleshooting.html\n"
      ]
     },
     "execution_count": 18,
     "metadata": {},
     "output_type": "execute_result"
    }
   ],
   "source": [
    "alt.Chart(shot_training_set.groupby(\"play pattern\").mean().reset_index()).mark_bar().encode(\n",
    "        alt.X('play pattern:N', axis = alt.Axis(title = \"play pattern\", labelAngle = 0)),\n",
    "        alt.Y('num opponents between shot and goal:Q', axis = alt.Axis(title = 'num opponents between shot and goal'))\n",
    ").properties(width = 850, height = 300, \n",
    "             title = \"mean num opponents between shot and goal by play pattern\"\n",
    ").configure_axis(labelFontSize = 13, titleFontSize = 15\n",
    ").configure_title(fontSize = 16)"
   ]
  },
  {
   "cell_type": "markdown",
   "metadata": {},
   "source": [
    "Right, so we can see that actually, shots resulting from counters result in a higher rate of goals scored because there are less opponents between the shot location and the goal (on average), makes sense. "
   ]
  },
  {
   "cell_type": "markdown",
   "metadata": {},
   "source": [
    "#### 2.3.3 Percent goals by first time "
   ]
  },
  {
   "cell_type": "code",
   "execution_count": 19,
   "metadata": {},
   "outputs": [
    {
     "data": {
      "application/vnd.vegalite.v3+json": {
       "$schema": "https://vega.github.io/schema/vega-lite/v3.4.0.json",
       "config": {
        "axis": {
         "labelFontSize": 13,
         "titleFontSize": 15
        },
        "mark": {
         "tooltip": null
        },
        "title": {
         "fontSize": 16
        },
        "view": {
         "height": 300,
         "width": 400
        }
       },
       "data": {
        "name": "data-f07a6843d14ea8145e2d1fc190278d40"
       },
       "datasets": {
        "data-f07a6843d14ea8145e2d1fc190278d40": [
         {
          "Goal": 580,
          "No Goal": 4399,
          "Percent Goal": 11.648925487045592,
          "first time": false
         },
         {
          "Goal": 424,
          "No Goal": 1797,
          "Percent Goal": 19.08190819081908,
          "first time": true
         }
        ]
       },
       "encoding": {
        "x": {
         "axis": {
          "labelAngle": 0,
          "title": "first time"
         },
         "field": "first time",
         "type": "nominal"
        },
        "y": {
         "axis": {
          "title": "Percent Goal"
         },
         "field": "Percent Goal",
         "type": "quantitative"
        }
       },
       "height": 300,
       "mark": "bar",
       "title": "Percent Goal vs first time",
       "width": 850
      },
      "image/png": "[encoded data removed]",
      "text/plain": [
       "<VegaLite 3 object>\n",
       "\n",
       "If you see this message, it means the renderer has not been properly enabled\n",
       "for the frontend that you are using. For more information, see\n",
       "https://altair-viz.github.io/user_guide/troubleshooting.html\n"
      ]
     },
     "execution_count": 19,
     "metadata": {},
     "output_type": "execute_result"
    }
   ],
   "source": [
    "plot_percent_goal_vs_attr(\"first time\", \"bar\")"
   ]
  },
  {
   "cell_type": "markdown",
   "metadata": {},
   "source": [
    "Above, we see that shots taken \"first time\" have a higher chance of resulting in a goal that those not taken first time. If all things were equal, this wouldn't make much intuitive sense. But in this case, shots taken first time likely had other favorable conditions which would increase their chance of resulting in a goal. Let's see if this is true:"
   ]
  },
  {
   "cell_type": "code",
   "execution_count": 20,
   "metadata": {},
   "outputs": [
    {
     "data": {
      "text/html": [
       "<div>\n",
       "<style scoped>\n",
       "    .dataframe tbody tr th:only-of-type {\n",
       "        vertical-align: middle;\n",
       "    }\n",
       "\n",
       "    .dataframe tbody tr th {\n",
       "        vertical-align: top;\n",
       "    }\n",
       "\n",
       "    .dataframe thead th {\n",
       "        text-align: right;\n",
       "    }\n",
       "</style>\n",
       "<table border=\"1\" class=\"dataframe\">\n",
       "  <thead>\n",
       "    <tr style=\"text-align: right;\">\n",
       "      <th></th>\n",
       "      <th>first time</th>\n",
       "      <th>x start location</th>\n",
       "      <th>y start location</th>\n",
       "      <th>duration</th>\n",
       "      <th>x gk position</th>\n",
       "      <th>y gk position</th>\n",
       "      <th>num opponents within 5 yards</th>\n",
       "      <th>num opponents between shot and goal</th>\n",
       "      <th>statsbomb xg</th>\n",
       "      <th>Distance from goal</th>\n",
       "      <th>outcome</th>\n",
       "    </tr>\n",
       "  </thead>\n",
       "  <tbody>\n",
       "    <tr>\n",
       "      <th>0</th>\n",
       "      <td>False</td>\n",
       "      <td>102.950854</td>\n",
       "      <td>39.112051</td>\n",
       "      <td>0.800534</td>\n",
       "      <td>117.773408</td>\n",
       "      <td>39.872685</td>\n",
       "      <td>1.612573</td>\n",
       "      <td>0.756578</td>\n",
       "      <td>0.108653</td>\n",
       "      <td>20.105932</td>\n",
       "      <td>0.116489</td>\n",
       "    </tr>\n",
       "    <tr>\n",
       "      <th>1</th>\n",
       "      <td>True</td>\n",
       "      <td>105.712157</td>\n",
       "      <td>39.855290</td>\n",
       "      <td>0.750160</td>\n",
       "      <td>117.489239</td>\n",
       "      <td>39.925619</td>\n",
       "      <td>1.320126</td>\n",
       "      <td>0.657812</td>\n",
       "      <td>0.173667</td>\n",
       "      <td>16.966413</td>\n",
       "      <td>0.190905</td>\n",
       "    </tr>\n",
       "  </tbody>\n",
       "</table>\n",
       "</div>"
      ],
      "text/plain": [
       "   first time  x start location  y start location  duration  x gk position  \\\n",
       "0       False        102.950854         39.112051  0.800534     117.773408   \n",
       "1        True        105.712157         39.855290  0.750160     117.489239   \n",
       "\n",
       "   y gk position  num opponents within 5 yards  \\\n",
       "0      39.872685                      1.612573   \n",
       "1      39.925619                      1.320126   \n",
       "\n",
       "   num opponents between shot and goal  statsbomb xg  Distance from goal  \\\n",
       "0                             0.756578      0.108653           20.105932   \n",
       "1                             0.657812      0.173667           16.966413   \n",
       "\n",
       "    outcome  \n",
       "0  0.116489  \n",
       "1  0.190905  "
      ]
     },
     "execution_count": 20,
     "metadata": {},
     "output_type": "execute_result"
    }
   ],
   "source": [
    "shot_training_set.groupby(\"first time\").mean().reset_index()"
   ]
  },
  {
   "cell_type": "code",
   "execution_count": 21,
   "metadata": {},
   "outputs": [
    {
     "data": {
      "application/vnd.vegalite.v3+json": {
       "$schema": "https://vega.github.io/schema/vega-lite/v3.4.0.json",
       "config": {
        "axis": {
         "labelFontSize": 13,
         "titleFontSize": 15
        },
        "mark": {
         "tooltip": null
        },
        "title": {
         "fontSize": 16
        },
        "view": {
         "height": 300,
         "width": 400
        }
       },
       "data": {
        "name": "data-83e5d43b4f0d39e7f521d567a1904a13"
       },
       "datasets": {
        "data-83e5d43b4f0d39e7f521d567a1904a13": [
         {
          "Distance from goal": 20.105931687885573,
          "duration": 0.8005338923478607,
          "first time": false,
          "num opponents between shot and goal": 0.7565776260293231,
          "num opponents within 5 yards": 1.612572805784294,
          "outcome": 0.11648925487045592,
          "statsbomb xg": 0.10865266498192402,
          "x gk position": 117.77340831492332,
          "x start location": 102.95085358505698,
          "y gk position": 39.8726852781683,
          "y start location": 39.11205061257288
         },
         {
          "Distance from goal": 16.966412620216396,
          "duration": 0.7501599954975222,
          "first time": true,
          "num opponents between shot and goal": 0.6578117964880684,
          "num opponents within 5 yards": 1.320126069338136,
          "outcome": 0.19090499774876182,
          "statsbomb xg": 0.1736670470186855,
          "x gk position": 117.48923908149483,
          "x start location": 105.71215668617742,
          "y gk position": 39.9256190904998,
          "y start location": 39.85529040972539
         }
        ]
       },
       "encoding": {
        "x": {
         "axis": {
          "labelAngle": 0,
          "title": "first time"
         },
         "field": "first time",
         "type": "nominal"
        },
        "y": {
         "axis": {
          "title": "Distance from goal"
         },
         "field": "Distance from goal",
         "type": "quantitative"
        }
       },
       "height": 300,
       "mark": "bar",
       "title": "Mean distance from goal for shots taken first time vs not taken first time",
       "width": 850
      },
      "image/png": "[encoded data removed]",
      "text/plain": [
       "<VegaLite 3 object>\n",
       "\n",
       "If you see this message, it means the renderer has not been properly enabled\n",
       "for the frontend that you are using. For more information, see\n",
       "https://altair-viz.github.io/user_guide/troubleshooting.html\n"
      ]
     },
     "execution_count": 21,
     "metadata": {},
     "output_type": "execute_result"
    }
   ],
   "source": [
    "alt.Chart(shot_training_set.groupby(\"first time\").mean().reset_index()).mark_bar().encode(\n",
    "        alt.X('first time:N', axis = alt.Axis(title = \"first time\", labelAngle = 0)),\n",
    "        alt.Y('Distance from goal:Q', axis = alt.Axis(title = 'Distance from goal'))\n",
    ").properties(width = 850, height = 300, \n",
    "             title = \"Mean distance from goal for shots taken first time vs not taken first time\"\n",
    ").configure_axis(labelFontSize = 13, titleFontSize = 15\n",
    ").configure_title(fontSize = 16)"
   ]
  },
  {
   "cell_type": "code",
   "execution_count": 22,
   "metadata": {},
   "outputs": [
    {
     "data": {
      "application/vnd.vegalite.v3+json": {
       "$schema": "https://vega.github.io/schema/vega-lite/v3.4.0.json",
       "config": {
        "axis": {
         "labelFontSize": 13,
         "titleFontSize": 15
        },
        "mark": {
         "tooltip": null
        },
        "title": {
         "fontSize": 16
        },
        "view": {
         "height": 300,
         "width": 400
        }
       },
       "data": {
        "name": "data-83e5d43b4f0d39e7f521d567a1904a13"
       },
       "datasets": {
        "data-83e5d43b4f0d39e7f521d567a1904a13": [
         {
          "Distance from goal": 20.105931687885573,
          "duration": 0.8005338923478607,
          "first time": false,
          "num opponents between shot and goal": 0.7565776260293231,
          "num opponents within 5 yards": 1.612572805784294,
          "outcome": 0.11648925487045592,
          "statsbomb xg": 0.10865266498192402,
          "x gk position": 117.77340831492332,
          "x start location": 102.95085358505698,
          "y gk position": 39.8726852781683,
          "y start location": 39.11205061257288
         },
         {
          "Distance from goal": 16.966412620216396,
          "duration": 0.7501599954975222,
          "first time": true,
          "num opponents between shot and goal": 0.6578117964880684,
          "num opponents within 5 yards": 1.320126069338136,
          "outcome": 0.19090499774876182,
          "statsbomb xg": 0.1736670470186855,
          "x gk position": 117.48923908149483,
          "x start location": 105.71215668617742,
          "y gk position": 39.9256190904998,
          "y start location": 39.85529040972539
         }
        ]
       },
       "encoding": {
        "x": {
         "axis": {
          "labelAngle": 0,
          "title": "player pattern"
         },
         "field": "first time",
         "type": "nominal"
        },
        "y": {
         "axis": {
          "title": "mean num opponents within 5 yards"
         },
         "field": "num opponents within 5 yards",
         "type": "quantitative"
        }
       },
       "height": 300,
       "mark": "bar",
       "title": "Mean num opponents within 5 yards for shots taken first time vs not taken first time",
       "width": 850
      },
      "image/png": "[encoded data removed]",
      "text/plain": [
       "<VegaLite 3 object>\n",
       "\n",
       "If you see this message, it means the renderer has not been properly enabled\n",
       "for the frontend that you are using. For more information, see\n",
       "https://altair-viz.github.io/user_guide/troubleshooting.html\n"
      ]
     },
     "execution_count": 22,
     "metadata": {},
     "output_type": "execute_result"
    }
   ],
   "source": [
    "alt.Chart(shot_training_set.groupby(\"first time\").mean().reset_index()).mark_bar().encode(\n",
    "        alt.X('first time:N', axis = alt.Axis(title = \"player pattern\", labelAngle = 0)),\n",
    "        alt.Y('num opponents within 5 yards:Q', axis = alt.Axis(title = 'mean num opponents within 5 yards'))\n",
    ").properties(width = 850, height = 300, \n",
    "             title = \"Mean num opponents within 5 yards for shots taken first time vs not taken first time\"\n",
    ").configure_axis(labelFontSize = 13, titleFontSize = 15\n",
    ").configure_title(fontSize = 16)"
   ]
  },
  {
   "cell_type": "code",
   "execution_count": 23,
   "metadata": {},
   "outputs": [
    {
     "data": {
      "application/vnd.vegalite.v3+json": {
       "$schema": "https://vega.github.io/schema/vega-lite/v3.4.0.json",
       "config": {
        "axis": {
         "labelFontSize": 13,
         "titleFontSize": 15
        },
        "mark": {
         "tooltip": null
        },
        "title": {
         "fontSize": 16
        },
        "view": {
         "height": 300,
         "width": 400
        }
       },
       "data": {
        "name": "data-83e5d43b4f0d39e7f521d567a1904a13"
       },
       "datasets": {
        "data-83e5d43b4f0d39e7f521d567a1904a13": [
         {
          "Distance from goal": 20.105931687885573,
          "duration": 0.8005338923478607,
          "first time": false,
          "num opponents between shot and goal": 0.7565776260293231,
          "num opponents within 5 yards": 1.612572805784294,
          "outcome": 0.11648925487045592,
          "statsbomb xg": 0.10865266498192402,
          "x gk position": 117.77340831492332,
          "x start location": 102.95085358505698,
          "y gk position": 39.8726852781683,
          "y start location": 39.11205061257288
         },
         {
          "Distance from goal": 16.966412620216396,
          "duration": 0.7501599954975222,
          "first time": true,
          "num opponents between shot and goal": 0.6578117964880684,
          "num opponents within 5 yards": 1.320126069338136,
          "outcome": 0.19090499774876182,
          "statsbomb xg": 0.1736670470186855,
          "x gk position": 117.48923908149483,
          "x start location": 105.71215668617742,
          "y gk position": 39.9256190904998,
          "y start location": 39.85529040972539
         }
        ]
       },
       "encoding": {
        "x": {
         "axis": {
          "labelAngle": 0,
          "title": "player pattern"
         },
         "field": "first time",
         "type": "nominal"
        },
        "y": {
         "axis": {
          "title": "num opponents between shot and goal"
         },
         "field": "num opponents between shot and goal",
         "type": "quantitative"
        }
       },
       "height": 300,
       "mark": "bar",
       "title": "Mean num opponents between shot and goal for shots taken first time vs not taken first time",
       "width": 850
      },
      "image/png": "[encoded data removed]",
      "text/plain": [
       "<VegaLite 3 object>\n",
       "\n",
       "If you see this message, it means the renderer has not been properly enabled\n",
       "for the frontend that you are using. For more information, see\n",
       "https://altair-viz.github.io/user_guide/troubleshooting.html\n"
      ]
     },
     "execution_count": 23,
     "metadata": {},
     "output_type": "execute_result"
    }
   ],
   "source": [
    "alt.Chart(shot_training_set.groupby(\"first time\").mean().reset_index()).mark_bar().encode(\n",
    "        alt.X('first time:N', axis = alt.Axis(title = \"player pattern\", labelAngle = 0)),\n",
    "        alt.Y('num opponents between shot and goal:Q', axis = alt.Axis(title = 'num opponents between shot and goal'))\n",
    ").properties(width = 850, height = 300, \n",
    "             title = \"Mean num opponents between shot and goal for shots taken first time vs not taken first time\"\n",
    ").configure_axis(labelFontSize = 13, titleFontSize = 15\n",
    ").configure_title(fontSize = 16)"
   ]
  },
  {
   "cell_type": "markdown",
   "metadata": {},
   "source": [
    "So just as we guessed, shots taken first time are, on average, slightly closer to the goal and are taken with less opponents between the shot location and the goal, and within 5 yards of the shot location."
   ]
  },
  {
   "cell_type": "code",
   "execution_count": null,
   "metadata": {},
   "outputs": [],
   "source": []
  },
  {
   "cell_type": "markdown",
   "metadata": {},
   "source": [
    "## 3. Data preprocessing"
   ]
  },
  {
   "cell_type": "markdown",
   "metadata": {},
   "source": [
    "So in the previous section, we explored our data, and most of our findings made intuitive sense. Now, we will create pipelines for preprocessing the categorical and numerical attributes in our shot data frame, then combine the two pipelines. To refresh our memories, here is the shot data frame again:"
   ]
  },
  {
   "cell_type": "code",
   "execution_count": 24,
   "metadata": {},
   "outputs": [
    {
     "data": {
      "text/html": [
       "<div>\n",
       "<style scoped>\n",
       "    .dataframe tbody tr th:only-of-type {\n",
       "        vertical-align: middle;\n",
       "    }\n",
       "\n",
       "    .dataframe tbody tr th {\n",
       "        vertical-align: top;\n",
       "    }\n",
       "\n",
       "    .dataframe thead th {\n",
       "        text-align: right;\n",
       "    }\n",
       "</style>\n",
       "<table border=\"1\" class=\"dataframe\">\n",
       "  <thead>\n",
       "    <tr style=\"text-align: right;\">\n",
       "      <th></th>\n",
       "      <th>play pattern</th>\n",
       "      <th>x start location</th>\n",
       "      <th>y start location</th>\n",
       "      <th>duration</th>\n",
       "      <th>technique</th>\n",
       "      <th>first time</th>\n",
       "      <th>x gk position</th>\n",
       "      <th>y gk position</th>\n",
       "      <th>type of shot</th>\n",
       "      <th>num opponents within 5 yards</th>\n",
       "      <th>num opponents between shot and goal</th>\n",
       "      <th>statsbomb xg</th>\n",
       "      <th>game_id</th>\n",
       "      <th>season_id</th>\n",
       "      <th>Distance from goal</th>\n",
       "      <th>outcome</th>\n",
       "    </tr>\n",
       "    <tr>\n",
       "      <th>shot id</th>\n",
       "      <th></th>\n",
       "      <th></th>\n",
       "      <th></th>\n",
       "      <th></th>\n",
       "      <th></th>\n",
       "      <th></th>\n",
       "      <th></th>\n",
       "      <th></th>\n",
       "      <th></th>\n",
       "      <th></th>\n",
       "      <th></th>\n",
       "      <th></th>\n",
       "      <th></th>\n",
       "      <th></th>\n",
       "      <th></th>\n",
       "      <th></th>\n",
       "    </tr>\n",
       "  </thead>\n",
       "  <tbody>\n",
       "    <tr>\n",
       "      <th>7a5ea289-6334-425c-98d5-f0fc8ea38480</th>\n",
       "      <td>Regular Play</td>\n",
       "      <td>108.6</td>\n",
       "      <td>31.3</td>\n",
       "      <td>0.482000</td>\n",
       "      <td>Normal</td>\n",
       "      <td>False</td>\n",
       "      <td>118.4</td>\n",
       "      <td>39.0</td>\n",
       "      <td>Open Play</td>\n",
       "      <td>2</td>\n",
       "      <td>1</td>\n",
       "      <td>0.106809</td>\n",
       "      <td>9717</td>\n",
       "      <td>2017/2018</td>\n",
       "      <td>14.340502</td>\n",
       "      <td>0</td>\n",
       "    </tr>\n",
       "    <tr>\n",
       "      <th>4ce22ffa-23c6-40a5-b700-4909ae846bc7</th>\n",
       "      <td>Other</td>\n",
       "      <td>108.1</td>\n",
       "      <td>40.1</td>\n",
       "      <td>0.435400</td>\n",
       "      <td>Normal</td>\n",
       "      <td>False</td>\n",
       "      <td>120.0</td>\n",
       "      <td>40.0</td>\n",
       "      <td>Penalty</td>\n",
       "      <td>0</td>\n",
       "      <td>0</td>\n",
       "      <td>0.760000</td>\n",
       "      <td>69158</td>\n",
       "      <td>2007/2008</td>\n",
       "      <td>11.900420</td>\n",
       "      <td>1</td>\n",
       "    </tr>\n",
       "    <tr>\n",
       "      <th>f2af0d8a-937b-4247-b7b5-b6bdef07b9ac</th>\n",
       "      <td>Regular Play</td>\n",
       "      <td>110.0</td>\n",
       "      <td>53.5</td>\n",
       "      <td>0.748396</td>\n",
       "      <td>Normal</td>\n",
       "      <td>False</td>\n",
       "      <td>117.7</td>\n",
       "      <td>43.1</td>\n",
       "      <td>Open Play</td>\n",
       "      <td>1</td>\n",
       "      <td>0</td>\n",
       "      <td>0.083326</td>\n",
       "      <td>70303</td>\n",
       "      <td>2014/2015</td>\n",
       "      <td>16.800298</td>\n",
       "      <td>0</td>\n",
       "    </tr>\n",
       "    <tr>\n",
       "      <th>34a7cd15-59fd-49d8-a2e2-122215a044d0</th>\n",
       "      <td>Regular Play</td>\n",
       "      <td>103.2</td>\n",
       "      <td>27.0</td>\n",
       "      <td>0.078700</td>\n",
       "      <td>Normal</td>\n",
       "      <td>False</td>\n",
       "      <td>118.3</td>\n",
       "      <td>37.6</td>\n",
       "      <td>Open Play</td>\n",
       "      <td>2</td>\n",
       "      <td>0</td>\n",
       "      <td>0.043681</td>\n",
       "      <td>70306</td>\n",
       "      <td>2013/2014</td>\n",
       "      <td>21.242410</td>\n",
       "      <td>0</td>\n",
       "    </tr>\n",
       "    <tr>\n",
       "      <th>ce7f39e8-120a-4b57-a781-fde94f624242</th>\n",
       "      <td>From Corner</td>\n",
       "      <td>113.4</td>\n",
       "      <td>41.1</td>\n",
       "      <td>0.394700</td>\n",
       "      <td>Volley</td>\n",
       "      <td>True</td>\n",
       "      <td>119.0</td>\n",
       "      <td>38.8</td>\n",
       "      <td>Open Play</td>\n",
       "      <td>2</td>\n",
       "      <td>0</td>\n",
       "      <td>0.372419</td>\n",
       "      <td>70306</td>\n",
       "      <td>2013/2014</td>\n",
       "      <td>6.691039</td>\n",
       "      <td>0</td>\n",
       "    </tr>\n",
       "  </tbody>\n",
       "</table>\n",
       "</div>"
      ],
      "text/plain": [
       "                                      play pattern  x start location  \\\n",
       "shot id                                                                \n",
       "7a5ea289-6334-425c-98d5-f0fc8ea38480  Regular Play             108.6   \n",
       "4ce22ffa-23c6-40a5-b700-4909ae846bc7         Other             108.1   \n",
       "f2af0d8a-937b-4247-b7b5-b6bdef07b9ac  Regular Play             110.0   \n",
       "34a7cd15-59fd-49d8-a2e2-122215a044d0  Regular Play             103.2   \n",
       "ce7f39e8-120a-4b57-a781-fde94f624242   From Corner             113.4   \n",
       "\n",
       "                                      y start location  duration technique  \\\n",
       "shot id                                                                      \n",
       "7a5ea289-6334-425c-98d5-f0fc8ea38480              31.3  0.482000    Normal   \n",
       "4ce22ffa-23c6-40a5-b700-4909ae846bc7              40.1  0.435400    Normal   \n",
       "f2af0d8a-937b-4247-b7b5-b6bdef07b9ac              53.5  0.748396    Normal   \n",
       "34a7cd15-59fd-49d8-a2e2-122215a044d0              27.0  0.078700    Normal   \n",
       "ce7f39e8-120a-4b57-a781-fde94f624242              41.1  0.394700    Volley   \n",
       "\n",
       "                                      first time  x gk position  \\\n",
       "shot id                                                           \n",
       "7a5ea289-6334-425c-98d5-f0fc8ea38480       False          118.4   \n",
       "4ce22ffa-23c6-40a5-b700-4909ae846bc7       False          120.0   \n",
       "f2af0d8a-937b-4247-b7b5-b6bdef07b9ac       False          117.7   \n",
       "34a7cd15-59fd-49d8-a2e2-122215a044d0       False          118.3   \n",
       "ce7f39e8-120a-4b57-a781-fde94f624242        True          119.0   \n",
       "\n",
       "                                      y gk position type of shot  \\\n",
       "shot id                                                            \n",
       "7a5ea289-6334-425c-98d5-f0fc8ea38480           39.0    Open Play   \n",
       "4ce22ffa-23c6-40a5-b700-4909ae846bc7           40.0      Penalty   \n",
       "f2af0d8a-937b-4247-b7b5-b6bdef07b9ac           43.1    Open Play   \n",
       "34a7cd15-59fd-49d8-a2e2-122215a044d0           37.6    Open Play   \n",
       "ce7f39e8-120a-4b57-a781-fde94f624242           38.8    Open Play   \n",
       "\n",
       "                                      num opponents within 5 yards  \\\n",
       "shot id                                                              \n",
       "7a5ea289-6334-425c-98d5-f0fc8ea38480                             2   \n",
       "4ce22ffa-23c6-40a5-b700-4909ae846bc7                             0   \n",
       "f2af0d8a-937b-4247-b7b5-b6bdef07b9ac                             1   \n",
       "34a7cd15-59fd-49d8-a2e2-122215a044d0                             2   \n",
       "ce7f39e8-120a-4b57-a781-fde94f624242                             2   \n",
       "\n",
       "                                      num opponents between shot and goal  \\\n",
       "shot id                                                                     \n",
       "7a5ea289-6334-425c-98d5-f0fc8ea38480                                    1   \n",
       "4ce22ffa-23c6-40a5-b700-4909ae846bc7                                    0   \n",
       "f2af0d8a-937b-4247-b7b5-b6bdef07b9ac                                    0   \n",
       "34a7cd15-59fd-49d8-a2e2-122215a044d0                                    0   \n",
       "ce7f39e8-120a-4b57-a781-fde94f624242                                    0   \n",
       "\n",
       "                                      statsbomb xg game_id  season_id  \\\n",
       "shot id                                                                 \n",
       "7a5ea289-6334-425c-98d5-f0fc8ea38480      0.106809    9717  2017/2018   \n",
       "4ce22ffa-23c6-40a5-b700-4909ae846bc7      0.760000   69158  2007/2008   \n",
       "f2af0d8a-937b-4247-b7b5-b6bdef07b9ac      0.083326   70303  2014/2015   \n",
       "34a7cd15-59fd-49d8-a2e2-122215a044d0      0.043681   70306  2013/2014   \n",
       "ce7f39e8-120a-4b57-a781-fde94f624242      0.372419   70306  2013/2014   \n",
       "\n",
       "                                      Distance from goal  outcome  \n",
       "shot id                                                            \n",
       "7a5ea289-6334-425c-98d5-f0fc8ea38480           14.340502        0  \n",
       "4ce22ffa-23c6-40a5-b700-4909ae846bc7           11.900420        1  \n",
       "f2af0d8a-937b-4247-b7b5-b6bdef07b9ac           16.800298        0  \n",
       "34a7cd15-59fd-49d8-a2e2-122215a044d0           21.242410        0  \n",
       "ce7f39e8-120a-4b57-a781-fde94f624242            6.691039        0  "
      ]
     },
     "execution_count": 24,
     "metadata": {},
     "output_type": "execute_result"
    }
   ],
   "source": [
    "shot_training_set.head()"
   ]
  },
  {
   "cell_type": "markdown",
   "metadata": {},
   "source": [
    "### 3.1 Preprocessing pipeline"
   ]
  },
  {
   "cell_type": "markdown",
   "metadata": {},
   "source": [
    "First, we create a class `AttrSelector`, which has methods `fit` and `transform` that we can use in our pipeline. This method will be use to select the features in our data frame for each pipeline.\n",
    "\n",
    "Also, by making this class a subclass of `BaseEstimator` and `TransformerMixin`, we get the `fit_transform`, `get_params()` and `set_params()` methods as well."
   ]
  },
  {
   "cell_type": "code",
   "execution_count": 25,
   "metadata": {},
   "outputs": [],
   "source": [
    "class AttrSelector(BaseEstimator, TransformerMixin):\n",
    "    \n",
    "    def __init__(self, attributes):\n",
    "        self.attributes = attributes\n",
    "   \n",
    "    def fit(self, attributes):\n",
    "        return self\n",
    "    \n",
    "    def transform(self, X):\n",
    "        return X[self.attributes]"
   ]
  },
  {
   "cell_type": "markdown",
   "metadata": {},
   "source": [
    "Now we will create a function which wraps a categorical and numerical pipeline into one full pipeline.\n",
    "\n",
    "In our categorical pipeline, we will use AttrSelector to select the relevant categorical attributes, stored as a list in the _categorical_shot_attributes_ variable. We then encode the values of each categorical variable as \"One hot vectors\". In our numerical pipeline, we will use AttrSelector to select the relevant numerical attributes, stored as a list in the numerical_shot_attributes variable."
   ]
  },
  {
   "cell_type": "code",
   "execution_count": 26,
   "metadata": {},
   "outputs": [],
   "source": [
    "def full_preprocessing_pipeline(X_train, X_test, categorical_features, numeric_features, fit=True):\n",
    "    \"\"\"\n",
    "    \"\"\"\n",
    "    \n",
    "    categorical_attr_pipeline = Pipeline([\n",
    "        ('selector', AttrSelector(categorical_shot_attributes)),\n",
    "        ('one_hot_encoder',  OneHotEncoder())\n",
    "    ])\n",
    "    \n",
    "    numerical_attr_pipeline = Pipeline([\n",
    "        ('selector', AttrSelector(numerical_shot_attributes)),\n",
    "       #('poly', PolynomialFeatures(2)), \n",
    "        ('std_scaler', StandardScaler())\n",
    "    ])\n",
    "    \n",
    "    combined_pipeline = ColumnTransformer(transformers=[('num', numerical_attr_pipeline, numeric_features),\n",
    "                                                        ('cat', categorical_attr_pipeline, categorical_features)])\n",
    "    \n",
    "    if fit:\n",
    "        X_train_preprocessed = combined_pipeline.fit_transform(X_train)\n",
    "        X_test_preprocessed = combined_pipeline.transform(X_test)\n",
    "    \n",
    "        return X_train_preprocessed, X_test_preprocessed, combined_pipeline\n",
    "    \n",
    "    return combined_pipeline"
   ]
  },
  {
   "cell_type": "code",
   "execution_count": 27,
   "metadata": {},
   "outputs": [],
   "source": [
    "categorical_shot_attributes = [\"play pattern\", \"technique\", \"first time\"]\n",
    "numerical_shot_attributes = [\"x start location\", \"y start location\", \"x gk position\", \"y gk position\", \n",
    "                             \"num opponents within 5 yards\", \"num opponents between shot and goal\", \"Distance from goal\"]\n",
    "\n",
    "X_train_preprocessed, X_valid_preprocessed, preprocessor = full_preprocessing_pipeline(X_train=shot_training_set,\n",
    "                                                                                       X_test=shot_valid_set,\n",
    "                                                                                       categorical_features=categorical_shot_attributes,\n",
    "                                                                                       numeric_features=numerical_shot_attributes,\n",
    "                                                                                       fit=True)"
   ]
  },
  {
   "cell_type": "code",
   "execution_count": 28,
   "metadata": {},
   "outputs": [
    {
     "data": {
      "text/plain": [
       "array([[ 0.54060974, -0.79968811,  0.30069199, ...,  0.        ,\n",
       "         1.        ,  0.        ],\n",
       "       [ 0.48426525,  0.07544879,  0.97427571, ...,  0.        ,\n",
       "         1.        ,  0.        ],\n",
       "       [ 0.69837431,  1.40804361,  0.00599911, ...,  0.        ,\n",
       "         1.        ,  0.        ],\n",
       "       ...,\n",
       "       [-1.6906321 , -0.9289697 ,  0.59538487, ...,  0.        ,\n",
       "         1.        ,  0.        ],\n",
       "       [ 0.1687361 ,  0.900862  , -0.92017852, ...,  0.        ,\n",
       "         1.        ,  0.        ],\n",
       "       [ 1.07024795,  1.05003306,  0.72168181, ...,  0.        ,\n",
       "         1.        ,  0.        ]])"
      ]
     },
     "execution_count": 28,
     "metadata": {},
     "output_type": "execute_result"
    }
   ],
   "source": [
    "X_train_preprocessed"
   ]
  },
  {
   "cell_type": "markdown",
   "metadata": {},
   "source": [
    "### 3.2 Get transformed features"
   ]
  },
  {
   "cell_type": "code",
   "execution_count": 30,
   "metadata": {},
   "outputs": [],
   "source": [
    "preprocessor\n",
    "categorical_features_transformed = preprocessor.transformers[1][1]['one_hot_encoder'].fit(X_train[categorical_shot_attributes], y_train) \\\n",
    "                                                                                     .get_feature_names(categorical_shot_attributes)\n",
    "\n",
    "#numerical_features_transformed = preprocessor.transformers[0][1]['poly'].fit(X_train[numerical_shot_attributes], y_train) \\\n",
    "#                                                                        .get_feature_names(numerical_shot_attributes)\n",
    "\n",
    "all_features_transformed = list(numerical_shot_attributes) + list(categorical_features_transformed)"
   ]
  },
  {
   "cell_type": "markdown",
   "metadata": {},
   "source": [
    "## 4. Models\n",
    "\n"
   ]
  },
  {
   "cell_type": "markdown",
   "metadata": {},
   "source": [
    "### 4.1 Hyperparameter optimization "
   ]
  },
  {
   "cell_type": "code",
   "execution_count": 31,
   "metadata": {},
   "outputs": [],
   "source": [
    "def hyperparameter_opt(classifier, hyperparameter_dist, X_train, y_train, scoring=\"f1\", n_iter=10):\n",
    "    \"\"\"\n",
    "    Runs randomized hyperparameter search on preprocessed data for specified classifer.\n",
    "        \n",
    "    Arguments:\n",
    "    ----------\n",
    "    classifier (sklearn classifier object)\n",
    "        - classifer we want to optimize\n",
    "    hyperparameter_dist (dict or list of dicts)\n",
    "        - dictionary with parameters names (string) as keys and distributions or lists of hyperparameters to try\n",
    "    X_train (pd.DataFrame)\n",
    "        - training features from UCI's default of credit card clients Data Set.\n",
    "        See here: http://archive.ics.uci.edu/ml/datasets/default+of+credit+card+clients# \n",
    "    y_train (pd.Series)\n",
    "        - training labels from UCI's default of credit card clients Data Set\n",
    "            \n",
    "    Returns:\n",
    "    --------\n",
    "    (tuple) pd.DataFrame with hyperparameter cross validation results, and dict with best hyperparameters\n",
    "    \"\"\" \n",
    "\n",
    "    print(\"Optimizing hyperparameters for {} model...\".format(type(classifier).__name__))\n",
    "    random_search = RandomizedSearchCV(estimator=classifier, param_distributions=hyperparameter_dist, cv=10, verbose=0, scoring=scoring, n_iter=n_iter)\n",
    "    random_search.fit(X_train_preprocessed, y_train)\n",
    "    print(\"Best hyperparameters {0}\".format(random_search.best_params_))\n",
    "    print(\"Best cross validation score {0}\\n\".format(random_search.best_score_))\n",
    "\n",
    "    return pd.DataFrame(random_search.cv_results_), random_search.best_estimator_"
   ]
  },
  {
   "cell_type": "markdown",
   "metadata": {},
   "source": [
    "Now let's optimize some classifers. Below, I am optimizing the hyperparameters using the 'f1-score' metric, since I want a balance of good precision and recall. "
   ]
  },
  {
   "cell_type": "code",
   "execution_count": 32,
   "metadata": {},
   "outputs": [
    {
     "name": "stdout",
     "output_type": "stream",
     "text": [
      "Optimizing hyperparameters for LGBMClassifier model...\n",
      "Best hyperparameters {'learning_rate': 0.06553169338949605, 'max_depth': 2, 'num_leaves': 23}\n",
      "Best cross validation score -0.3161359968836324\n",
      "\n",
      "Optimizing hyperparameters for XGBClassifier model...\n",
      "Best hyperparameters {'eta': 0.860956676478066, 'max_depth': 2, 'num_leaves': 101}\n",
      "Best cross validation score -0.3148555832717102\n",
      "\n",
      "Optimizing hyperparameters for LogisticRegression model...\n",
      "Best hyperparameters {'C': 250.76649940408703}\n",
      "Best cross validation score -0.32170104546172584\n",
      "\n",
      "Optimizing hyperparameters for RandomForestClassifier model...\n",
      "Best hyperparameters {'n_estimators': 174}\n",
      "Best cross validation score -0.37463078162074337\n",
      "\n"
     ]
    }
   ],
   "source": [
    "classifiers = {\n",
    "    'lightgbm'      : (LGBMClassifier(),                    [{\"max_depth\" :  np.arange(1, 15),\n",
    "                                                              \"num_leaves\" :  np.arange(0, 200),\n",
    "                                                              \"learning_rate\" : uniform(0, 0.5)}]),\n",
    "    'xgboost'       : (XGBClassifier(),                     [{\"max_depth\" :  np.arange(1, 15),\n",
    "                                                              \"num_leaves\" :  np.arange(0, 200),\n",
    "                                                              \"eta\" : uniform(0, 1)}]),\n",
    "    'logistic reg'  : (LogisticRegression(max_iter=10000),  [{\"C\" : uniform(0, 20000)}]),\n",
    "    'random forest' : (RandomForestClassifier(n_jobs=2),    [{\"n_estimators\" : np.arange(1, 200)}])\n",
    "}\n",
    "\n",
    "#store results of hyperparameter search for each model\n",
    "cv_results =  {'lightgbm' : None,\n",
    "               'xgboost' : None,\n",
    "               'logistic reg' : None,\n",
    "               'random forest' : None}\n",
    "\n",
    "for classifier_name, classifier_obj in classifiers.items(): \n",
    "    results = hyperparameter_opt(classifier=classifier_obj[0], \n",
    "                                 hyperparameter_dist=classifier_obj[1], \n",
    "                                 X_train=X_train_preprocessed, \n",
    "                                 y_train=y_train,\n",
    "                                 scoring=\"neg_log_loss\",\n",
    "                                 n_iter=20)\n",
    "    cv_results[classifier_name] = results"
   ]
  },
  {
   "cell_type": "markdown",
   "metadata": {},
   "source": [
    "### 4.2 Optimized models validation set performance"
   ]
  },
  {
   "cell_type": "code",
   "execution_count": 33,
   "metadata": {},
   "outputs": [
    {
     "name": "stdout",
     "output_type": "stream",
     "text": [
      "lightgbm\n",
      "training set results: 0.3052770372423946\n",
      "validation set results: 0.3323966021768339\n",
      "\n",
      "xgboost\n",
      "training set results: 0.30103876784236894\n",
      "validation set results: 0.3303135121308474\n",
      "\n",
      "logistic reg\n",
      "training set results: 0.3180510619367571\n",
      "validation set results: 0.3434356555987574\n",
      "\n",
      "random forest\n",
      "training set results: 0.08099932363683868\n",
      "validation set results: 0.3681850645328677\n",
      "\n"
     ]
    }
   ],
   "source": [
    "validation_set_predictions = {'lightgbm' : None,\n",
    "                              'xgboost' : None,\n",
    "                              'logistic reg' : None,\n",
    "                              'random forest' : None,}\n",
    "\n",
    "for classifier_name, classifier_obj in cv_results.items():\n",
    "    classifier = cv_results[classifier_name][1]\n",
    "    y_train_pred = classifier.predict_proba(X_train_preprocessed)\n",
    "    y_valid_pred = classifier.predict_proba(X_valid_preprocessed)\n",
    "\n",
    "    validation_set_predictions[classifier_name] = y_valid_pred\n",
    "    \n",
    "    print(classifier_name)\n",
    "    print(\"training set results: {0}\".format(log_loss(y_train, y_train_pred, normalize=True)))\n",
    "    print(\"validation set results: {0}\".format(log_loss(y_valid, y_valid_pred, normalize=True)))\n",
    "    print(\"\")"
   ]
  },
  {
   "cell_type": "code",
   "execution_count": 34,
   "metadata": {},
   "outputs": [
    {
     "data": {
      "text/plain": [
       "[<matplotlib.lines.Line2D at 0x1b89da1a90>]"
      ]
     },
     "execution_count": 34,
     "metadata": {},
     "output_type": "execute_result"
    },
    {
     "data": {
      "image/png": "[encoded data removed]",
      "text/plain": [
       "<Figure size 720x720 with 1 Axes>"
      ]
     },
     "metadata": {
      "needs_background": "light"
     },
     "output_type": "display_data"
    }
   ],
   "source": [
    "y_valid_pred = validation_set_predictions[\"xgboost\"]\n",
    "shot_valid_set_results = shot_valid_set.copy()\n",
    "shot_valid_set_results[\"my xg\"] = y_valid_pred[:, 1]\n",
    "\n",
    "fig, ax = plt.subplots(1, 1, figsize=(10,10))\n",
    "shot_valid_set_results.plot(\"statsbomb xg\", \"my xg\", kind=\"scatter\", ax=ax)\n",
    "ax.plot([0, 1], [0, 1], color='red')"
   ]
  },
  {
   "cell_type": "code",
   "execution_count": 35,
   "metadata": {},
   "outputs": [
    {
     "data": {
      "text/html": [
       "<div>\n",
       "<style scoped>\n",
       "    .dataframe tbody tr th:only-of-type {\n",
       "        vertical-align: middle;\n",
       "    }\n",
       "\n",
       "    .dataframe tbody tr th {\n",
       "        vertical-align: top;\n",
       "    }\n",
       "\n",
       "    .dataframe thead th {\n",
       "        text-align: right;\n",
       "    }\n",
       "</style>\n",
       "<table border=\"1\" class=\"dataframe\">\n",
       "  <thead>\n",
       "    <tr style=\"text-align: right;\">\n",
       "      <th></th>\n",
       "      <th>play pattern</th>\n",
       "      <th>x start location</th>\n",
       "      <th>y start location</th>\n",
       "      <th>duration</th>\n",
       "      <th>technique</th>\n",
       "      <th>first time</th>\n",
       "      <th>x gk position</th>\n",
       "      <th>y gk position</th>\n",
       "      <th>type of shot</th>\n",
       "      <th>num opponents within 5 yards</th>\n",
       "      <th>num opponents between shot and goal</th>\n",
       "      <th>statsbomb xg</th>\n",
       "      <th>game_id</th>\n",
       "      <th>season_id</th>\n",
       "      <th>Distance from goal</th>\n",
       "      <th>outcome</th>\n",
       "      <th>my xg</th>\n",
       "    </tr>\n",
       "    <tr>\n",
       "      <th>shot id</th>\n",
       "      <th></th>\n",
       "      <th></th>\n",
       "      <th></th>\n",
       "      <th></th>\n",
       "      <th></th>\n",
       "      <th></th>\n",
       "      <th></th>\n",
       "      <th></th>\n",
       "      <th></th>\n",
       "      <th></th>\n",
       "      <th></th>\n",
       "      <th></th>\n",
       "      <th></th>\n",
       "      <th></th>\n",
       "      <th></th>\n",
       "      <th></th>\n",
       "      <th></th>\n",
       "    </tr>\n",
       "  </thead>\n",
       "  <tbody>\n",
       "    <tr>\n",
       "      <th>7fde89a6-431b-4ea4-b7eb-9fb8124a7fe8</th>\n",
       "      <td>Regular Play</td>\n",
       "      <td>117.5</td>\n",
       "      <td>41.3</td>\n",
       "      <td>0.246264</td>\n",
       "      <td>Half Volley</td>\n",
       "      <td>True</td>\n",
       "      <td>117.9</td>\n",
       "      <td>36.2</td>\n",
       "      <td>Open Play</td>\n",
       "      <td>1</td>\n",
       "      <td>0</td>\n",
       "      <td>0.843021</td>\n",
       "      <td>69299</td>\n",
       "      <td>2010/2011</td>\n",
       "      <td>2.817801</td>\n",
       "      <td>1</td>\n",
       "      <td>0.870905</td>\n",
       "    </tr>\n",
       "    <tr>\n",
       "      <th>2cba2c49-eac2-42fa-a847-8d106f11ce06</th>\n",
       "      <td>From Throw In</td>\n",
       "      <td>119.1</td>\n",
       "      <td>39.6</td>\n",
       "      <td>0.194749</td>\n",
       "      <td>Normal</td>\n",
       "      <td>True</td>\n",
       "      <td>115.8</td>\n",
       "      <td>35.6</td>\n",
       "      <td>Open Play</td>\n",
       "      <td>1</td>\n",
       "      <td>0</td>\n",
       "      <td>0.939368</td>\n",
       "      <td>265952</td>\n",
       "      <td>2016/2017</td>\n",
       "      <td>0.984886</td>\n",
       "      <td>1</td>\n",
       "      <td>0.870093</td>\n",
       "    </tr>\n",
       "    <tr>\n",
       "      <th>e628b89c-8098-4e8d-a013-7dcb395b67b5</th>\n",
       "      <td>From Throw In</td>\n",
       "      <td>119.4</td>\n",
       "      <td>44.7</td>\n",
       "      <td>0.617851</td>\n",
       "      <td>Normal</td>\n",
       "      <td>True</td>\n",
       "      <td>116.9</td>\n",
       "      <td>39.6</td>\n",
       "      <td>Open Play</td>\n",
       "      <td>0</td>\n",
       "      <td>0</td>\n",
       "      <td>0.772887</td>\n",
       "      <td>9602</td>\n",
       "      <td>2017/2018</td>\n",
       "      <td>4.738143</td>\n",
       "      <td>0</td>\n",
       "      <td>0.798831</td>\n",
       "    </tr>\n",
       "    <tr>\n",
       "      <th>d1d840b0-5147-484f-bfe0-203be644a28a</th>\n",
       "      <td>From Corner</td>\n",
       "      <td>116.8</td>\n",
       "      <td>40.4</td>\n",
       "      <td>0.300463</td>\n",
       "      <td>Volley</td>\n",
       "      <td>True</td>\n",
       "      <td>117.7</td>\n",
       "      <td>39.3</td>\n",
       "      <td>Open Play</td>\n",
       "      <td>6</td>\n",
       "      <td>2</td>\n",
       "      <td>0.478890</td>\n",
       "      <td>15978</td>\n",
       "      <td>2018/2019</td>\n",
       "      <td>3.224903</td>\n",
       "      <td>1</td>\n",
       "      <td>0.791683</td>\n",
       "    </tr>\n",
       "    <tr>\n",
       "      <th>fd7ae1bf-8ee5-4bb5-a172-8b2142b6e6e9</th>\n",
       "      <td>Other</td>\n",
       "      <td>108.1</td>\n",
       "      <td>40.1</td>\n",
       "      <td>0.359200</td>\n",
       "      <td>Normal</td>\n",
       "      <td>False</td>\n",
       "      <td>120.0</td>\n",
       "      <td>40.0</td>\n",
       "      <td>Penalty</td>\n",
       "      <td>0</td>\n",
       "      <td>0</td>\n",
       "      <td>0.760000</td>\n",
       "      <td>267101</td>\n",
       "      <td>2016/2017</td>\n",
       "      <td>11.900420</td>\n",
       "      <td>1</td>\n",
       "      <td>0.788840</td>\n",
       "    </tr>\n",
       "    <tr>\n",
       "      <th>4b758ca0-a3ae-417f-bd1d-018a1f4b96e9</th>\n",
       "      <td>Other</td>\n",
       "      <td>107.9</td>\n",
       "      <td>40.0</td>\n",
       "      <td>0.593500</td>\n",
       "      <td>Normal</td>\n",
       "      <td>False</td>\n",
       "      <td>120.0</td>\n",
       "      <td>40.0</td>\n",
       "      <td>Penalty</td>\n",
       "      <td>0</td>\n",
       "      <td>0</td>\n",
       "      <td>0.760000</td>\n",
       "      <td>70225</td>\n",
       "      <td>2011/2012</td>\n",
       "      <td>12.100000</td>\n",
       "      <td>1</td>\n",
       "      <td>0.788840</td>\n",
       "    </tr>\n",
       "  </tbody>\n",
       "</table>\n",
       "</div>"
      ],
      "text/plain": [
       "                                       play pattern  x start location  \\\n",
       "shot id                                                                 \n",
       "7fde89a6-431b-4ea4-b7eb-9fb8124a7fe8   Regular Play             117.5   \n",
       "2cba2c49-eac2-42fa-a847-8d106f11ce06  From Throw In             119.1   \n",
       "e628b89c-8098-4e8d-a013-7dcb395b67b5  From Throw In             119.4   \n",
       "d1d840b0-5147-484f-bfe0-203be644a28a    From Corner             116.8   \n",
       "fd7ae1bf-8ee5-4bb5-a172-8b2142b6e6e9          Other             108.1   \n",
       "4b758ca0-a3ae-417f-bd1d-018a1f4b96e9          Other             107.9   \n",
       "\n",
       "                                      y start location  duration    technique  \\\n",
       "shot id                                                                         \n",
       "7fde89a6-431b-4ea4-b7eb-9fb8124a7fe8              41.3  0.246264  Half Volley   \n",
       "2cba2c49-eac2-42fa-a847-8d106f11ce06              39.6  0.194749       Normal   \n",
       "e628b89c-8098-4e8d-a013-7dcb395b67b5              44.7  0.617851       Normal   \n",
       "d1d840b0-5147-484f-bfe0-203be644a28a              40.4  0.300463       Volley   \n",
       "fd7ae1bf-8ee5-4bb5-a172-8b2142b6e6e9              40.1  0.359200       Normal   \n",
       "4b758ca0-a3ae-417f-bd1d-018a1f4b96e9              40.0  0.593500       Normal   \n",
       "\n",
       "                                      first time  x gk position  \\\n",
       "shot id                                                           \n",
       "7fde89a6-431b-4ea4-b7eb-9fb8124a7fe8        True          117.9   \n",
       "2cba2c49-eac2-42fa-a847-8d106f11ce06        True          115.8   \n",
       "e628b89c-8098-4e8d-a013-7dcb395b67b5        True          116.9   \n",
       "d1d840b0-5147-484f-bfe0-203be644a28a        True          117.7   \n",
       "fd7ae1bf-8ee5-4bb5-a172-8b2142b6e6e9       False          120.0   \n",
       "4b758ca0-a3ae-417f-bd1d-018a1f4b96e9       False          120.0   \n",
       "\n",
       "                                      y gk position type of shot  \\\n",
       "shot id                                                            \n",
       "7fde89a6-431b-4ea4-b7eb-9fb8124a7fe8           36.2    Open Play   \n",
       "2cba2c49-eac2-42fa-a847-8d106f11ce06           35.6    Open Play   \n",
       "e628b89c-8098-4e8d-a013-7dcb395b67b5           39.6    Open Play   \n",
       "d1d840b0-5147-484f-bfe0-203be644a28a           39.3    Open Play   \n",
       "fd7ae1bf-8ee5-4bb5-a172-8b2142b6e6e9           40.0      Penalty   \n",
       "4b758ca0-a3ae-417f-bd1d-018a1f4b96e9           40.0      Penalty   \n",
       "\n",
       "                                      num opponents within 5 yards  \\\n",
       "shot id                                                              \n",
       "7fde89a6-431b-4ea4-b7eb-9fb8124a7fe8                             1   \n",
       "2cba2c49-eac2-42fa-a847-8d106f11ce06                             1   \n",
       "e628b89c-8098-4e8d-a013-7dcb395b67b5                             0   \n",
       "d1d840b0-5147-484f-bfe0-203be644a28a                             6   \n",
       "fd7ae1bf-8ee5-4bb5-a172-8b2142b6e6e9                             0   \n",
       "4b758ca0-a3ae-417f-bd1d-018a1f4b96e9                             0   \n",
       "\n",
       "                                      num opponents between shot and goal  \\\n",
       "shot id                                                                     \n",
       "7fde89a6-431b-4ea4-b7eb-9fb8124a7fe8                                    0   \n",
       "2cba2c49-eac2-42fa-a847-8d106f11ce06                                    0   \n",
       "e628b89c-8098-4e8d-a013-7dcb395b67b5                                    0   \n",
       "d1d840b0-5147-484f-bfe0-203be644a28a                                    2   \n",
       "fd7ae1bf-8ee5-4bb5-a172-8b2142b6e6e9                                    0   \n",
       "4b758ca0-a3ae-417f-bd1d-018a1f4b96e9                                    0   \n",
       "\n",
       "                                      statsbomb xg game_id  season_id  \\\n",
       "shot id                                                                 \n",
       "7fde89a6-431b-4ea4-b7eb-9fb8124a7fe8      0.843021   69299  2010/2011   \n",
       "2cba2c49-eac2-42fa-a847-8d106f11ce06      0.939368  265952  2016/2017   \n",
       "e628b89c-8098-4e8d-a013-7dcb395b67b5      0.772887    9602  2017/2018   \n",
       "d1d840b0-5147-484f-bfe0-203be644a28a      0.478890   15978  2018/2019   \n",
       "fd7ae1bf-8ee5-4bb5-a172-8b2142b6e6e9      0.760000  267101  2016/2017   \n",
       "4b758ca0-a3ae-417f-bd1d-018a1f4b96e9      0.760000   70225  2011/2012   \n",
       "\n",
       "                                      Distance from goal  outcome     my xg  \n",
       "shot id                                                                      \n",
       "7fde89a6-431b-4ea4-b7eb-9fb8124a7fe8            2.817801        1  0.870905  \n",
       "2cba2c49-eac2-42fa-a847-8d106f11ce06            0.984886        1  0.870093  \n",
       "e628b89c-8098-4e8d-a013-7dcb395b67b5            4.738143        0  0.798831  \n",
       "d1d840b0-5147-484f-bfe0-203be644a28a            3.224903        1  0.791683  \n",
       "fd7ae1bf-8ee5-4bb5-a172-8b2142b6e6e9           11.900420        1  0.788840  \n",
       "4b758ca0-a3ae-417f-bd1d-018a1f4b96e9           12.100000        1  0.788840  "
      ]
     },
     "execution_count": 35,
     "metadata": {},
     "output_type": "execute_result"
    }
   ],
   "source": [
    "shot_valid_set_results.sort_values(\"my xg\", ascending=False).iloc[0:6]"
   ]
  },
  {
   "cell_type": "code",
   "execution_count": 39,
   "metadata": {},
   "outputs": [
    {
     "data": {
      "image/png": "[encoded data removed]",
      "text/plain": [
       "<Figure size 2160x960 with 6 Axes>"
      ]
     },
     "metadata": {
      "needs_background": "light"
     },
     "output_type": "display_data"
    }
   ],
   "source": [
    "ascending=True\n",
    "season_ids = shot_valid_set_results.sort_values(\"my xg\", ascending=ascending).reset_index().iloc[0:7][\"season_id\"]\n",
    "game_ids = shot_valid_set_results.sort_values(\"my xg\", ascending=ascending).reset_index().iloc[0:7][\"game_id\"]\n",
    "shot_ids = shot_valid_set_results.sort_values(\"my xg\", ascending=ascending).reset_index().iloc[0:7][\"shot id\"]\n",
    "xg_vals = shot_valid_set_results.sort_values(\"my xg\", ascending=ascending).reset_index().iloc[0:7][\"my xg\"]\n",
    "\n",
    "num=1\n",
    "fig, ax = plt.subplots(2, 3, figsize=(36/1.2, 16/1.2))\n",
    "for i in range(2):\n",
    "    for j in range(3):\n",
    "        ax_i = ax[i, j]\n",
    "        draw_pitch(axis=ax_i, rotate=True)\n",
    "        plot_shot_freeze_frame(la_liga[season_ids[num]][game_ids[num]].json_file, shot_ids[num], ax=ax_i)\n",
    "        ax_i.annotate(\"Season: {}\".format(season_ids[num]), xy = (1,75), size=16)\n",
    "        ax_i.annotate(\"Game ID: {}\".format(game_ids[num]), xy = (1,70), size=16)\n",
    "        ax_i.annotate(\"xG: {}\".format(round(xg_vals[num], 5)), xy = (1,65), size=16)\n",
    "        num+=1"
   ]
  },
  {
   "cell_type": "code",
   "execution_count": null,
   "metadata": {},
   "outputs": [],
   "source": []
  },
  {
   "cell_type": "code",
   "execution_count": null,
   "metadata": {},
   "outputs": [],
   "source": []
  },
  {
   "cell_type": "code",
   "execution_count": null,
   "metadata": {},
   "outputs": [],
   "source": []
  }
 ],
 "metadata": {
  "kernelspec": {
   "display_name": "Python 3",
   "language": "python",
   "name": "python3"
  },
  "language_info": {
   "codemirror_mode": {
    "name": "ipython",
    "version": 3
   },
   "file_extension": ".py",
   "mimetype": "text/x-python",
   "name": "python",
   "nbconvert_exporter": "python",
   "pygments_lexer": "ipython3",
   "version": "3.7.4"
  }
 },
 "nbformat": 4,
 "nbformat_minor": 4
}
