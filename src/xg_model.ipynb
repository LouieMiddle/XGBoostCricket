{
 "cells": [
  {
   "cell_type": "code",
   "execution_count": 177,
   "metadata": {},
   "outputs": [],
   "source": [
    "from statsbomb_data_extraction import Game, fetch_matches_for_season, fetch_all_seasons_for_league\n",
    "from draw_pitch import draw_pitch\n",
    "\n",
    "import pandas as pd\n",
    "import numpy as np\n",
    "import matplotlib.pyplot as plt\n",
    "import altair as alt\n",
    "from scipy.stats import uniform\n",
    "\n",
    "from sklearn.model_selection import GridSearchCV, RandomizedSearchCV, train_test_split, KFold\n",
    "from sklearn.pipeline import Pipeline\n",
    "from sklearn.compose import ColumnTransformer\n",
    "from sklearn.preprocessing import StandardScaler, PolynomialFeatures,OneHotEncoder\n",
    "from sklearn.pipeline import FeatureUnion\n",
    "from sklearn.base import BaseEstimator, TransformerMixin\n",
    "\n",
    "from sklearn.model_selection import cross_val_score\n",
    "from sklearn.metrics import precision_score, log_loss\n",
    "from sklearn.linear_model import LogisticRegression\n",
    "from xgboost import XGBClassifier\n",
    "from lightgbm import LGBMClassifier\n",
    "from sklearn.ensemble import RandomForestClassifier, VotingClassifier\n",
    "\n",
    "import eli5\n",
    "import shap"
   ]
  },
  {
   "cell_type": "markdown",
   "metadata": {},
   "source": [
    "# xG Model"
   ]
  },
  {
   "cell_type": "markdown",
   "metadata": {},
   "source": [
    "The concept of \"Expected Goals\" (xG for short), is a widely used metric among soccer analysts and fans alike. In fact, the idea of xG has infiltrated the mainstream in recent years, to the point where now, even most casual fans have probably heard of the term. The xG metric essentially describes how many goals we'd expect a team to score based on the chances it creates. Each shot a team takes can be assigned an xG value, ranging from 0 to 1, which represents the probability of that shot resulting in a goal. \n",
    "\n",
    "The xG metric helps provide objectivity in the analysis of a soccer match, since actual score lines can often be misleading given that luck plays such a large role in the game. If we can see that a team dominated a game by creating many more chances and generating a much larger xG than the other team, this tells us they were probably better on that day, regardless of what the final scoreline may say. Additionally, analyzing xG can help inform play styles, in terms of determining what type of shots are better to take to maximize the probability of scoring a goal.  \n",
    "\n",
    "This notebook consists in a comprehensive overview of an xG model created using Statsbomb public data. More specifically, the model is creating using data from Barcelona's La Liga matches from 2004 to 2016."
   ]
  },
  {
   "cell_type": "markdown",
   "metadata": {},
   "source": [
    "## Notebook Overview\n",
    "\n",
    "<font size = 4>\n",
    "\n",
    "1. Fetching data \n",
    "    - 1.1 Getting data from Statsbomb\n",
    "    - 1.2 Extracting shots data and attributes\n",
    "    \n",
    "    \n",
    "2. Data exploration\n",
    "    - 2.1 Creating new variables\n",
    "    - 2.2 Separate test and training set\n",
    "    - 2.3 Visualizing relationships\n",
    "\n",
    "    \n",
    "3. Data preprocessing for ML models\n",
    "    - 2.1 Categorical variables\n",
    "    - 2.2 Numerical variables\n",
    "    - 2.3 Combined pipeline\n",
    "    \n",
    "    \n",
    "4. Models\n",
    "    - 4.1 Logistic regression"
   ]
  },
  {
   "cell_type": "markdown",
   "metadata": {},
   "source": [
    "## 1. Fetching data"
   ]
  },
  {
   "cell_type": "markdown",
   "metadata": {},
   "source": [
    "### 1.1 Getting data from Statsbomb. "
   ]
  },
  {
   "cell_type": "markdown",
   "metadata": {},
   "source": [
    "To start off, I wrote some functions in the `statsbomb_data_extraction.py` file to get data from statsbomb in the form of json files for each game in a desired season / league. In the cell below, I call `fetch_matches_for_league` with argument **11**, as this corresponds to the La Liga comp in Statsbomb public data. (See [here](https://github.com/statsbomb/open-data/blob/master/data/competitions.json))."
   ]
  },
  {
   "cell_type": "code",
   "execution_count": 2,
   "metadata": {},
   "outputs": [
    {
     "name": "stdout",
     "output_type": "stream",
     "text": [
      "Getting season 2018/2019...\n",
      "Getting season 2017/2018...\n",
      "Getting season 2016/2017...\n",
      "Getting season 2015/2016...\n",
      "Getting season 2014/2015...\n",
      "Getting season 2013/2014...\n",
      "Getting season 2012/2013...\n",
      "Getting season 2011/2012...\n",
      "Getting season 2010/2011...\n",
      "Getting season 2009/2010...\n",
      "Getting season 2008/2009...\n",
      "Getting season 2007/2008...\n",
      "Getting season 2006/2007...\n",
      "Getting season 2005/2006...\n",
      "Getting season 2004/2005...\n",
      "Done\n"
     ]
    }
   ],
   "source": [
    "la_liga = fetch_all_seasons_for_league(11)"
   ]
  },
  {
   "cell_type": "markdown",
   "metadata": {},
   "source": [
    "So we have a data structure, called `la_liga`, which has league season names as the keys of the outer dictionary. The values are dictionaries, which map game ids (as specified by statsbomb) to `Game` objects (see `statsbomb_data_extraction.py` file for Game object definition)."
   ]
  },
  {
   "cell_type": "markdown",
   "metadata": {},
   "source": [
    "### 1.2 Getting shots data "
   ]
  },
  {
   "cell_type": "markdown",
   "metadata": {},
   "source": [
    "Now I will write some functions to parse through the json of each game, and extract all the shots, as well as features related to the shots. In particular, these features are: \n",
    "\n",
    "- **play pattern**: pattern of play which led to the shot\n",
    "- **x start location**: x-location of the shot \n",
    "- **y start location**: y-location of the shot \n",
    "- **duration**: duration of the shot\n",
    "- **outcome**: result of the shot\n",
    "- **technique**: technique with which the shot was hit\n",
    "- **first time**: whether the shot was hit for time or not\n",
    "- **x gk position**: x-location of the gk when shot was taken\n",
    "- **y gk position**: y-location of the gk when shot was taken\n",
    "- **type of shot**: whether the shot was from open play or set piece (and type of set piece specified)\n",
    "- **num opponents within 5 yards**: number of opponents which were within 5 yards of the shot location\n",
    "- **num opponents between shot and goal**: number of opponents which were between the shot location, and the lines connecting the shot location and the two posts\n",
    "\n",
    "I will also extract some information related to the shot that will be useful to reference the shots, but will not be used to train ML model. These include:\n",
    "- **game id in which shot was taken**: pattern of play which led to the shot\n",
    "- **Season of game in which shot was taken**: x-location of the shot \n",
    "- **statsbomb xg**: xg given by statsbomb to compare to my values later on\n",
    "\n",
    "All the variables listed above can be extracted by parsing through the json directly, except for the last one. Therefore, below, I will write a function to get this variable."
   ]
  },
  {
   "cell_type": "code",
   "execution_count": 62,
   "metadata": {},
   "outputs": [],
   "source": [
    "def check_player_btwn_shot_and_goal(x_shot, y_shot, x_player, y_player):\n",
    "    \"\"\"\n",
    "    Function which checks whether a player in a stats bomb freeze frame is between the shot location, and the two lines\n",
    "    connecting the shot location to the posts. See here for coordinate specifications: \n",
    "    https://github.com/statsbomb/open-data/blob/master/doc/StatsBomb%20Open%20Data%20Specification%20v1.1.pdf\n",
    "    \n",
    "    Arguments:\n",
    "    x_shot    x-location of shot\n",
    "    y_shot    y-location of shot\n",
    "    x_player  x-location of player\n",
    "    y_player  y-location of player    \n",
    "    \"\"\"\n",
    "    x_diff = x_player - x_shot\n",
    "    y_diff = y_player - y_shot\n",
    "    \n",
    "    if 120 - x_shot == 0:\n",
    "        return False\n",
    "    \n",
    "    slope_1 = (36 - y_shot) / (120 - x_shot)\n",
    "    slope_2 = (44 - y_shot) / (120 - x_shot) \n",
    "                    \n",
    "    return (x_diff >= 0) and ((y_shot + slope_1 * x_diff) < y_player < (y_shot + slope_2 * x_diff))\n",
    "\n",
    "\n",
    "def plot_shot_freeze_frame(game_json, shot_id, ax):\n",
    "    gk_x = 120\n",
    "    gk_y = 40\n",
    "    player_pos_list_x = []\n",
    "    player_pos_list_y = []\n",
    "    x_shot = 0\n",
    "    y_shot = 0\n",
    "    \n",
    "    for events in game_json:\n",
    "        if events['id'] == shot_id:\n",
    "            x_shot = events['location'][0]\n",
    "            y_shot = events['location'][1]\n",
    "        \n",
    "            if \"freeze_frame\" in events[\"shot\"]:\n",
    "                for players in events['shot']['freeze_frame']:\n",
    "                    if (players['teammate'] == False):\n",
    "                        player_pos_list_x.append(players['location'][0])\n",
    "                        player_pos_list_y.append(players['location'][1])\n",
    "                        \n",
    "                    if ((players['position']['name'] == 'Goalkeeper') and (players['teammate'] == False)):\n",
    "                        gk_x = players['location'][0]\n",
    "                        gk_y = players['location'][1]\n",
    "            \n",
    "    ax.scatter(player_pos_list_x, player_pos_list_y)\n",
    "    ax.scatter(x_shot, y_shot, s=100)\n",
    "    ax.scatter(gk_x, gk_y, s=100, color='blue')\n",
    "    ax.plot([x_shot, 120], [y_shot,36], color = 'red', linestyle = '--')\n",
    "    ax.plot([x_shot, 120], [y_shot,44], color = 'red', linestyle = '--')"
   ]
  },
  {
   "cell_type": "markdown",
   "metadata": {},
   "source": [
    "Lets call the `plot_shot_freeze_frame` function to visualize the _num opponents between shot and goal_ feature. The shot below would have a value of 2 for this feature."
   ]
  },
  {
   "cell_type": "code",
   "execution_count": 63,
   "metadata": {},
   "outputs": [
    {
     "data": {
      "image/png": "[encoded data removed]",
      "text/plain": [
       "<Figure size 864x576 with 1 Axes>"
      ]
     },
     "metadata": {
      "needs_background": "light"
     },
     "output_type": "display_data"
    }
   ],
   "source": [
    "fig, ax = plt.subplots(1, 1, figsize=(12,8))\n",
    "draw_pitch(axis=ax, rotate=True)\n",
    "plot_shot_freeze_frame(la_liga[\"2018/2019\"]['16215'].json_file, \"6c30cac4-6f3b-4cd0-9913-26137b058416\", ax=ax)"
   ]
  },
  {
   "cell_type": "markdown",
   "metadata": {},
   "source": [
    "Now I will write a function which takes a json file for a given game, and returns a data frame containing all shots taken along with the variables related to that shot. Then I will write two wrapper function: `get_shots_for_season` which calls `get_shots_for_game` on all game files for that season, and `get_shots_for_league`, which does a similar thing, but for each game across every season we have for that league."
   ]
  },
  {
   "cell_type": "code",
   "execution_count": 5,
   "metadata": {},
   "outputs": [],
   "source": [
    "def get_shots_for_game(game_json):\n",
    "    \"\"\"\n",
    "    Function which parses through a game JSON and return a data frame containing all shots taken in that game with several features \n",
    "    related to that shot\n",
    "    \n",
    "    Arguments\n",
    "    game_json - event level json for a game\n",
    "    \"\"\"\n",
    "    \n",
    "    #features for each shot, which will be the columns of our data frame\n",
    "    shot_id_list = []\n",
    "    x_start_location_list = []\n",
    "    y_start_location_list = []\n",
    "    play_pattern_list = []\n",
    "    duration_list = []\n",
    "    outcome_list = []\n",
    "    technique_list = []\n",
    "    type_shot_list = []\n",
    "    first_time_list = []\n",
    "    x_gk_pos_list = []\n",
    "    y_gk_pos_list = []\n",
    "    num_opponents_5_yards_list = []\n",
    "    num_opponents_between_goal_list = []\n",
    "    \n",
    "    statsbomb_xg = [] #to compare to my model\n",
    "    \n",
    "    #-------------------------#\n",
    "\n",
    "    for events in game_json:\n",
    "    \n",
    "        if events['type']['name'] == 'Shot':\n",
    "        \n",
    "            #get data for first 8 features\n",
    "            shot_id = events['id']\n",
    "            x_start_location = events['location'][0]\n",
    "            y_start_location = events['location'][1]\n",
    "            play_pattern = events['play_pattern']['name']\n",
    "            duration = events['duration']\n",
    "            outcome = events['shot']['outcome']['name'] \n",
    "            technique = events['shot']['technique']['name']\n",
    "            type_shot = events['shot']['type']['name']\n",
    "            xg = events['shot']['statsbomb_xg']\n",
    "        \n",
    "            #check if json shot has a first_time attribute, if not set first_time to False\n",
    "            if 'first_time' in events['shot']:\n",
    "                first_time = events['shot']['first_time']\n",
    "            else:\n",
    "                first_time = False\n",
    "            \n",
    "            #check if shot has a freeze_frame dictionary\n",
    "            if \"freeze_frame\" in events[\"shot\"]:\n",
    "                \n",
    "                num_opponents_5_yards = 0\n",
    "                num_opponents_between_goal = 0\n",
    "                \n",
    "                for player in events[\"shot\"][\"freeze_frame\"]:\n",
    "                    x_player = player['location'][0]\n",
    "                    y_player = player['location'][1]\n",
    "                    \n",
    "                    #count how many opponents were within 5 yards of player when shot was taken\n",
    "                    if ((x_start_location - x_player)**2 + (y_start_location - y_player)**2) <= 25 and (player['teammate'] == False):\n",
    "                        if (player['position']['name'] != 'Goalkeeper'):\n",
    "                            num_opponents_5_yards += 1\n",
    "                    \n",
    "                    #count how many opponents were between shot and goal\n",
    "                    if (player['teammate'] == False) and (player['position']['name'] != 'Goalkeeper'):\n",
    "                        if check_player_btwn_shot_and_goal(x_start_location, y_start_location, x_player, y_player):\n",
    "                            num_opponents_between_goal += 1\n",
    "                    \n",
    "                    #get position of opponent's goalkeeper \n",
    "                    if ((player['position']['name'] == 'Goalkeeper') and (player['teammate'] == False)):\n",
    "                        x_gk_pos = player['location'][0]\n",
    "                        y_gk_pos = player['location'][1]\n",
    "            \n",
    "            #if there is no freeze frame, assume goalkeeper is at center of goal, and 0 opponenets around shot location\n",
    "            else:\n",
    "                num_opponents_between_goal = 0\n",
    "                num_opponents_5_yards = 0\n",
    "                x_gk_pos = 120\n",
    "                y_gk_pos = 40            \n",
    "            \n",
    "            #append data on shot to relevant list (column)\n",
    "            shot_id_list.append(shot_id)\n",
    "            play_pattern_list.append(play_pattern)\n",
    "            x_start_location_list.append(x_start_location)\n",
    "            y_start_location_list.append(y_start_location)\n",
    "            duration_list.append(duration)\n",
    "            outcome_list.append(outcome)\n",
    "            technique_list.append(technique)\n",
    "            first_time_list.append(first_time)\n",
    "            x_gk_pos_list.append(x_gk_pos)\n",
    "            y_gk_pos_list.append(y_gk_pos)\n",
    "            type_shot_list.append(type_shot)\n",
    "            num_opponents_5_yards_list.append(num_opponents_5_yards)\n",
    "            num_opponents_between_goal_list.append(num_opponents_between_goal)\n",
    "            statsbomb_xg.append(xg)\n",
    "        \n",
    "    #create data frame with column features\n",
    "    shot_df = pd.DataFrame({\n",
    "                       \"shot id\" : shot_id_list,\n",
    "                       \"play pattern\" : play_pattern_list, \n",
    "                       \"x start location\" : x_start_location_list, \n",
    "                       \"y start location\" : y_start_location_list,\n",
    "                       \"duration\" : duration_list, \n",
    "                       \"outcome\" : outcome_list, \n",
    "                       \"technique\" : technique_list, \n",
    "                       \"first time\" : first_time_list,\n",
    "                       \"x gk position\" : x_gk_pos_list,\n",
    "                       \"y gk position\" : y_gk_pos_list,\n",
    "                       \"type of shot\" : type_shot_list,\n",
    "                       \"num opponents within 5 yards\" : num_opponents_5_yards_list,\n",
    "                       \"num opponents between shot and goal\" : num_opponents_between_goal_list,\n",
    "                       \"statsbomb xg\" : statsbomb_xg\n",
    "                       })\n",
    "    \n",
    "    return shot_df.set_index(\"shot id\")"
   ]
  },
  {
   "cell_type": "markdown",
   "metadata": {},
   "source": [
    "**Wrapper functions:**"
   ]
  },
  {
   "cell_type": "code",
   "execution_count": 6,
   "metadata": {},
   "outputs": [],
   "source": [
    "def get_shots_for_season(season_dict):\n",
    "    \"\"\"\n",
    "    Takes a dictionary whichs maps game ids to Game objects, and calls get_shots_for_game() on each one.\n",
    "    \n",
    "    Arguments:\n",
    "    season_dict - dictionary which maps game ids (string, as specified by statsbomb) to Game objects (defined above)\n",
    "    \"\"\"\n",
    "    total_shot_df = pd.DataFrame()\n",
    "    \n",
    "    for keys, values in season_dict.items():\n",
    "        shot_df = get_shots_for_game(values.json_file)\n",
    "        shot_df[\"game_id\"] = keys\n",
    "        total_shot_df = total_shot_df.append(shot_df)\n",
    "        \n",
    "    return total_shot_df\n",
    "\n",
    "\n",
    "def get_shots_for_league(league_dict):\n",
    "    \"\"\"\n",
    "    Takes a dictionary which maps season names to season dictionaries for a league, and calls get_shots_for_game() on each game.\n",
    "    \n",
    "    Arguments:\n",
    "    league_dict - dictionary which maps season names to another dictionary. This inner dictionary maps \n",
    "    game ids (as specified by statsbomb) to Game objects (defined above)\n",
    "    \"\"\"\n",
    "    total_shot_df = pd.DataFrame()\n",
    "    \n",
    "    for keys, values in league_dict.items():\n",
    "        shot_df = get_shots_for_season(values)\n",
    "        shot_df[\"season_id\"] = keys\n",
    "        total_shot_df = total_shot_df.append(shot_df)\n",
    "        print(\"Getting shots for \" + keys)\n",
    "    \n",
    "    print(\"Done.\")\n",
    "    \n",
    "    return total_shot_df"
   ]
  },
  {
   "cell_type": "code",
   "execution_count": 7,
   "metadata": {},
   "outputs": [
    {
     "name": "stdout",
     "output_type": "stream",
     "text": [
      "Getting shots for 2018/2019\n",
      "Getting shots for 2017/2018\n",
      "Getting shots for 2016/2017\n",
      "Getting shots for 2015/2016\n",
      "Getting shots for 2014/2015\n",
      "Getting shots for 2013/2014\n",
      "Getting shots for 2012/2013\n",
      "Getting shots for 2011/2012\n",
      "Getting shots for 2010/2011\n",
      "Getting shots for 2009/2010\n",
      "Getting shots for 2008/2009\n",
      "Getting shots for 2007/2008\n",
      "Getting shots for 2006/2007\n",
      "Getting shots for 2005/2006\n",
      "Getting shots for 2004/2005\n",
      "Done.\n"
     ]
    }
   ],
   "source": [
    "all_la_liga_shots = get_shots_for_league(la_liga)"
   ]
  },
  {
   "cell_type": "markdown",
   "metadata": {},
   "source": [
    "So we have our data frame with all shots taken in Barca games from 2004/05 to 2015/16."
   ]
  },
  {
   "cell_type": "code",
   "execution_count": 8,
   "metadata": {},
   "outputs": [
    {
     "data": {
      "text/html": [
       "<div>\n",
       "<style scoped>\n",
       "    .dataframe tbody tr th:only-of-type {\n",
       "        vertical-align: middle;\n",
       "    }\n",
       "\n",
       "    .dataframe tbody tr th {\n",
       "        vertical-align: top;\n",
       "    }\n",
       "\n",
       "    .dataframe thead th {\n",
       "        text-align: right;\n",
       "    }\n",
       "</style>\n",
       "<table border=\"1\" class=\"dataframe\">\n",
       "  <thead>\n",
       "    <tr style=\"text-align: right;\">\n",
       "      <th></th>\n",
       "      <th>play pattern</th>\n",
       "      <th>x start location</th>\n",
       "      <th>y start location</th>\n",
       "      <th>duration</th>\n",
       "      <th>outcome</th>\n",
       "      <th>technique</th>\n",
       "      <th>first time</th>\n",
       "      <th>x gk position</th>\n",
       "      <th>y gk position</th>\n",
       "      <th>type of shot</th>\n",
       "      <th>num opponents within 5 yards</th>\n",
       "      <th>num opponents between shot and goal</th>\n",
       "      <th>statsbomb xg</th>\n",
       "      <th>game_id</th>\n",
       "      <th>season_id</th>\n",
       "    </tr>\n",
       "    <tr>\n",
       "      <th>shot id</th>\n",
       "      <th></th>\n",
       "      <th></th>\n",
       "      <th></th>\n",
       "      <th></th>\n",
       "      <th></th>\n",
       "      <th></th>\n",
       "      <th></th>\n",
       "      <th></th>\n",
       "      <th></th>\n",
       "      <th></th>\n",
       "      <th></th>\n",
       "      <th></th>\n",
       "      <th></th>\n",
       "      <th></th>\n",
       "      <th></th>\n",
       "    </tr>\n",
       "  </thead>\n",
       "  <tbody>\n",
       "    <tr>\n",
       "      <th>6c30cac4-6f3b-4cd0-9913-26137b058416</th>\n",
       "      <td>From Throw In</td>\n",
       "      <td>101.0</td>\n",
       "      <td>22.0</td>\n",
       "      <td>1.179654</td>\n",
       "      <td>Saved</td>\n",
       "      <td>Normal</td>\n",
       "      <td>False</td>\n",
       "      <td>118.6</td>\n",
       "      <td>37.9</td>\n",
       "      <td>Open Play</td>\n",
       "      <td>2</td>\n",
       "      <td>2</td>\n",
       "      <td>0.020549</td>\n",
       "      <td>16215</td>\n",
       "      <td>2018/2019</td>\n",
       "    </tr>\n",
       "    <tr>\n",
       "      <th>67cfa552-952c-4f72-a33a-0dd6af217a66</th>\n",
       "      <td>From Throw In</td>\n",
       "      <td>113.7</td>\n",
       "      <td>39.9</td>\n",
       "      <td>1.226969</td>\n",
       "      <td>Saved Off Target</td>\n",
       "      <td>Volley</td>\n",
       "      <td>True</td>\n",
       "      <td>117.2</td>\n",
       "      <td>39.1</td>\n",
       "      <td>Open Play</td>\n",
       "      <td>1</td>\n",
       "      <td>0</td>\n",
       "      <td>0.363959</td>\n",
       "      <td>16215</td>\n",
       "      <td>2018/2019</td>\n",
       "    </tr>\n",
       "    <tr>\n",
       "      <th>8c95e369-ec54-4a84-9d3e-51abb6f38e6e</th>\n",
       "      <td>From Free Kick</td>\n",
       "      <td>95.6</td>\n",
       "      <td>44.4</td>\n",
       "      <td>1.046942</td>\n",
       "      <td>Goal</td>\n",
       "      <td>Normal</td>\n",
       "      <td>False</td>\n",
       "      <td>119.5</td>\n",
       "      <td>39.0</td>\n",
       "      <td>Free Kick</td>\n",
       "      <td>0</td>\n",
       "      <td>5</td>\n",
       "      <td>0.127337</td>\n",
       "      <td>16215</td>\n",
       "      <td>2018/2019</td>\n",
       "    </tr>\n",
       "    <tr>\n",
       "      <th>2ae506b9-0601-460b-b91d-802296120161</th>\n",
       "      <td>From Free Kick</td>\n",
       "      <td>94.0</td>\n",
       "      <td>46.1</td>\n",
       "      <td>1.375915</td>\n",
       "      <td>Saved</td>\n",
       "      <td>Normal</td>\n",
       "      <td>False</td>\n",
       "      <td>119.1</td>\n",
       "      <td>39.5</td>\n",
       "      <td>Free Kick</td>\n",
       "      <td>0</td>\n",
       "      <td>4</td>\n",
       "      <td>0.090603</td>\n",
       "      <td>16215</td>\n",
       "      <td>2018/2019</td>\n",
       "    </tr>\n",
       "    <tr>\n",
       "      <th>10dc9818-a8d2-47f9-b219-9bc87d7b22e6</th>\n",
       "      <td>From Free Kick</td>\n",
       "      <td>104.1</td>\n",
       "      <td>22.2</td>\n",
       "      <td>0.116586</td>\n",
       "      <td>Blocked</td>\n",
       "      <td>Normal</td>\n",
       "      <td>False</td>\n",
       "      <td>118.4</td>\n",
       "      <td>37.4</td>\n",
       "      <td>Open Play</td>\n",
       "      <td>3</td>\n",
       "      <td>1</td>\n",
       "      <td>0.022751</td>\n",
       "      <td>16215</td>\n",
       "      <td>2018/2019</td>\n",
       "    </tr>\n",
       "    <tr>\n",
       "      <th>...</th>\n",
       "      <td>...</td>\n",
       "      <td>...</td>\n",
       "      <td>...</td>\n",
       "      <td>...</td>\n",
       "      <td>...</td>\n",
       "      <td>...</td>\n",
       "      <td>...</td>\n",
       "      <td>...</td>\n",
       "      <td>...</td>\n",
       "      <td>...</td>\n",
       "      <td>...</td>\n",
       "      <td>...</td>\n",
       "      <td>...</td>\n",
       "      <td>...</td>\n",
       "      <td>...</td>\n",
       "    </tr>\n",
       "    <tr>\n",
       "      <th>da65c5c6-ce8f-46d3-b0b4-17fb1c9e31c3</th>\n",
       "      <td>From Free Kick</td>\n",
       "      <td>93.8</td>\n",
       "      <td>40.1</td>\n",
       "      <td>1.278336</td>\n",
       "      <td>Off T</td>\n",
       "      <td>Normal</td>\n",
       "      <td>True</td>\n",
       "      <td>115.2</td>\n",
       "      <td>42.1</td>\n",
       "      <td>Open Play</td>\n",
       "      <td>0</td>\n",
       "      <td>1</td>\n",
       "      <td>0.042606</td>\n",
       "      <td>68352</td>\n",
       "      <td>2004/2005</td>\n",
       "    </tr>\n",
       "    <tr>\n",
       "      <th>805dd74f-323c-412d-9b77-9c54c1a60f66</th>\n",
       "      <td>Regular Play</td>\n",
       "      <td>110.1</td>\n",
       "      <td>40.2</td>\n",
       "      <td>0.671461</td>\n",
       "      <td>Saved</td>\n",
       "      <td>Normal</td>\n",
       "      <td>False</td>\n",
       "      <td>119.4</td>\n",
       "      <td>39.9</td>\n",
       "      <td>Open Play</td>\n",
       "      <td>2</td>\n",
       "      <td>0</td>\n",
       "      <td>0.117359</td>\n",
       "      <td>68352</td>\n",
       "      <td>2004/2005</td>\n",
       "    </tr>\n",
       "    <tr>\n",
       "      <th>4eadd318-25f7-420d-8aa9-53685cece638</th>\n",
       "      <td>From Corner</td>\n",
       "      <td>93.7</td>\n",
       "      <td>48.5</td>\n",
       "      <td>0.946505</td>\n",
       "      <td>Saved</td>\n",
       "      <td>Volley</td>\n",
       "      <td>True</td>\n",
       "      <td>119.3</td>\n",
       "      <td>39.9</td>\n",
       "      <td>Open Play</td>\n",
       "      <td>1</td>\n",
       "      <td>3</td>\n",
       "      <td>0.013930</td>\n",
       "      <td>68352</td>\n",
       "      <td>2004/2005</td>\n",
       "    </tr>\n",
       "    <tr>\n",
       "      <th>723139d5-21a9-49f7-aca6-60cffdc6f6bc</th>\n",
       "      <td>Regular Play</td>\n",
       "      <td>109.9</td>\n",
       "      <td>47.4</td>\n",
       "      <td>0.468700</td>\n",
       "      <td>Blocked</td>\n",
       "      <td>Normal</td>\n",
       "      <td>True</td>\n",
       "      <td>118.7</td>\n",
       "      <td>43.2</td>\n",
       "      <td>Open Play</td>\n",
       "      <td>3</td>\n",
       "      <td>1</td>\n",
       "      <td>0.100666</td>\n",
       "      <td>68352</td>\n",
       "      <td>2004/2005</td>\n",
       "    </tr>\n",
       "    <tr>\n",
       "      <th>6031f8cc-26a6-449c-b455-2d7c301ca005</th>\n",
       "      <td>Regular Play</td>\n",
       "      <td>99.2</td>\n",
       "      <td>34.9</td>\n",
       "      <td>0.984200</td>\n",
       "      <td>Off T</td>\n",
       "      <td>Normal</td>\n",
       "      <td>False</td>\n",
       "      <td>118.8</td>\n",
       "      <td>41.7</td>\n",
       "      <td>Open Play</td>\n",
       "      <td>2</td>\n",
       "      <td>1</td>\n",
       "      <td>0.053242</td>\n",
       "      <td>68352</td>\n",
       "      <td>2004/2005</td>\n",
       "    </tr>\n",
       "  </tbody>\n",
       "</table>\n",
       "<p>11251 rows × 15 columns</p>\n",
       "</div>"
      ],
      "text/plain": [
       "                                        play pattern  x start location  \\\n",
       "shot id                                                                  \n",
       "6c30cac4-6f3b-4cd0-9913-26137b058416   From Throw In             101.0   \n",
       "67cfa552-952c-4f72-a33a-0dd6af217a66   From Throw In             113.7   \n",
       "8c95e369-ec54-4a84-9d3e-51abb6f38e6e  From Free Kick              95.6   \n",
       "2ae506b9-0601-460b-b91d-802296120161  From Free Kick              94.0   \n",
       "10dc9818-a8d2-47f9-b219-9bc87d7b22e6  From Free Kick             104.1   \n",
       "...                                              ...               ...   \n",
       "da65c5c6-ce8f-46d3-b0b4-17fb1c9e31c3  From Free Kick              93.8   \n",
       "805dd74f-323c-412d-9b77-9c54c1a60f66    Regular Play             110.1   \n",
       "4eadd318-25f7-420d-8aa9-53685cece638     From Corner              93.7   \n",
       "723139d5-21a9-49f7-aca6-60cffdc6f6bc    Regular Play             109.9   \n",
       "6031f8cc-26a6-449c-b455-2d7c301ca005    Regular Play              99.2   \n",
       "\n",
       "                                      y start location  duration  \\\n",
       "shot id                                                            \n",
       "6c30cac4-6f3b-4cd0-9913-26137b058416              22.0  1.179654   \n",
       "67cfa552-952c-4f72-a33a-0dd6af217a66              39.9  1.226969   \n",
       "8c95e369-ec54-4a84-9d3e-51abb6f38e6e              44.4  1.046942   \n",
       "2ae506b9-0601-460b-b91d-802296120161              46.1  1.375915   \n",
       "10dc9818-a8d2-47f9-b219-9bc87d7b22e6              22.2  0.116586   \n",
       "...                                                ...       ...   \n",
       "da65c5c6-ce8f-46d3-b0b4-17fb1c9e31c3              40.1  1.278336   \n",
       "805dd74f-323c-412d-9b77-9c54c1a60f66              40.2  0.671461   \n",
       "4eadd318-25f7-420d-8aa9-53685cece638              48.5  0.946505   \n",
       "723139d5-21a9-49f7-aca6-60cffdc6f6bc              47.4  0.468700   \n",
       "6031f8cc-26a6-449c-b455-2d7c301ca005              34.9  0.984200   \n",
       "\n",
       "                                               outcome technique  first time  \\\n",
       "shot id                                                                        \n",
       "6c30cac4-6f3b-4cd0-9913-26137b058416             Saved    Normal       False   \n",
       "67cfa552-952c-4f72-a33a-0dd6af217a66  Saved Off Target    Volley        True   \n",
       "8c95e369-ec54-4a84-9d3e-51abb6f38e6e              Goal    Normal       False   \n",
       "2ae506b9-0601-460b-b91d-802296120161             Saved    Normal       False   \n",
       "10dc9818-a8d2-47f9-b219-9bc87d7b22e6           Blocked    Normal       False   \n",
       "...                                                ...       ...         ...   \n",
       "da65c5c6-ce8f-46d3-b0b4-17fb1c9e31c3             Off T    Normal        True   \n",
       "805dd74f-323c-412d-9b77-9c54c1a60f66             Saved    Normal       False   \n",
       "4eadd318-25f7-420d-8aa9-53685cece638             Saved    Volley        True   \n",
       "723139d5-21a9-49f7-aca6-60cffdc6f6bc           Blocked    Normal        True   \n",
       "6031f8cc-26a6-449c-b455-2d7c301ca005             Off T    Normal       False   \n",
       "\n",
       "                                      x gk position  y gk position  \\\n",
       "shot id                                                              \n",
       "6c30cac4-6f3b-4cd0-9913-26137b058416          118.6           37.9   \n",
       "67cfa552-952c-4f72-a33a-0dd6af217a66          117.2           39.1   \n",
       "8c95e369-ec54-4a84-9d3e-51abb6f38e6e          119.5           39.0   \n",
       "2ae506b9-0601-460b-b91d-802296120161          119.1           39.5   \n",
       "10dc9818-a8d2-47f9-b219-9bc87d7b22e6          118.4           37.4   \n",
       "...                                             ...            ...   \n",
       "da65c5c6-ce8f-46d3-b0b4-17fb1c9e31c3          115.2           42.1   \n",
       "805dd74f-323c-412d-9b77-9c54c1a60f66          119.4           39.9   \n",
       "4eadd318-25f7-420d-8aa9-53685cece638          119.3           39.9   \n",
       "723139d5-21a9-49f7-aca6-60cffdc6f6bc          118.7           43.2   \n",
       "6031f8cc-26a6-449c-b455-2d7c301ca005          118.8           41.7   \n",
       "\n",
       "                                     type of shot  \\\n",
       "shot id                                             \n",
       "6c30cac4-6f3b-4cd0-9913-26137b058416    Open Play   \n",
       "67cfa552-952c-4f72-a33a-0dd6af217a66    Open Play   \n",
       "8c95e369-ec54-4a84-9d3e-51abb6f38e6e    Free Kick   \n",
       "2ae506b9-0601-460b-b91d-802296120161    Free Kick   \n",
       "10dc9818-a8d2-47f9-b219-9bc87d7b22e6    Open Play   \n",
       "...                                           ...   \n",
       "da65c5c6-ce8f-46d3-b0b4-17fb1c9e31c3    Open Play   \n",
       "805dd74f-323c-412d-9b77-9c54c1a60f66    Open Play   \n",
       "4eadd318-25f7-420d-8aa9-53685cece638    Open Play   \n",
       "723139d5-21a9-49f7-aca6-60cffdc6f6bc    Open Play   \n",
       "6031f8cc-26a6-449c-b455-2d7c301ca005    Open Play   \n",
       "\n",
       "                                      num opponents within 5 yards  \\\n",
       "shot id                                                              \n",
       "6c30cac4-6f3b-4cd0-9913-26137b058416                             2   \n",
       "67cfa552-952c-4f72-a33a-0dd6af217a66                             1   \n",
       "8c95e369-ec54-4a84-9d3e-51abb6f38e6e                             0   \n",
       "2ae506b9-0601-460b-b91d-802296120161                             0   \n",
       "10dc9818-a8d2-47f9-b219-9bc87d7b22e6                             3   \n",
       "...                                                            ...   \n",
       "da65c5c6-ce8f-46d3-b0b4-17fb1c9e31c3                             0   \n",
       "805dd74f-323c-412d-9b77-9c54c1a60f66                             2   \n",
       "4eadd318-25f7-420d-8aa9-53685cece638                             1   \n",
       "723139d5-21a9-49f7-aca6-60cffdc6f6bc                             3   \n",
       "6031f8cc-26a6-449c-b455-2d7c301ca005                             2   \n",
       "\n",
       "                                      num opponents between shot and goal  \\\n",
       "shot id                                                                     \n",
       "6c30cac4-6f3b-4cd0-9913-26137b058416                                    2   \n",
       "67cfa552-952c-4f72-a33a-0dd6af217a66                                    0   \n",
       "8c95e369-ec54-4a84-9d3e-51abb6f38e6e                                    5   \n",
       "2ae506b9-0601-460b-b91d-802296120161                                    4   \n",
       "10dc9818-a8d2-47f9-b219-9bc87d7b22e6                                    1   \n",
       "...                                                                   ...   \n",
       "da65c5c6-ce8f-46d3-b0b4-17fb1c9e31c3                                    1   \n",
       "805dd74f-323c-412d-9b77-9c54c1a60f66                                    0   \n",
       "4eadd318-25f7-420d-8aa9-53685cece638                                    3   \n",
       "723139d5-21a9-49f7-aca6-60cffdc6f6bc                                    1   \n",
       "6031f8cc-26a6-449c-b455-2d7c301ca005                                    1   \n",
       "\n",
       "                                      statsbomb xg game_id  season_id  \n",
       "shot id                                                                \n",
       "6c30cac4-6f3b-4cd0-9913-26137b058416      0.020549   16215  2018/2019  \n",
       "67cfa552-952c-4f72-a33a-0dd6af217a66      0.363959   16215  2018/2019  \n",
       "8c95e369-ec54-4a84-9d3e-51abb6f38e6e      0.127337   16215  2018/2019  \n",
       "2ae506b9-0601-460b-b91d-802296120161      0.090603   16215  2018/2019  \n",
       "10dc9818-a8d2-47f9-b219-9bc87d7b22e6      0.022751   16215  2018/2019  \n",
       "...                                            ...     ...        ...  \n",
       "da65c5c6-ce8f-46d3-b0b4-17fb1c9e31c3      0.042606   68352  2004/2005  \n",
       "805dd74f-323c-412d-9b77-9c54c1a60f66      0.117359   68352  2004/2005  \n",
       "4eadd318-25f7-420d-8aa9-53685cece638      0.013930   68352  2004/2005  \n",
       "723139d5-21a9-49f7-aca6-60cffdc6f6bc      0.100666   68352  2004/2005  \n",
       "6031f8cc-26a6-449c-b455-2d7c301ca005      0.053242   68352  2004/2005  \n",
       "\n",
       "[11251 rows x 15 columns]"
      ]
     },
     "execution_count": 8,
     "metadata": {},
     "output_type": "execute_result"
    }
   ],
   "source": [
    "all_la_liga_shots"
   ]
  },
  {
   "cell_type": "code",
   "execution_count": null,
   "metadata": {},
   "outputs": [],
   "source": []
  },
  {
   "cell_type": "markdown",
   "metadata": {},
   "source": [
    "## 2. Data Exploration"
   ]
  },
  {
   "cell_type": "markdown",
   "metadata": {},
   "source": [
    "Before starting to train our models, we'll want to do some data exploration to get an initial idea of what variables affect the probability of a shot resulting in a goal. Even though, as we'll see, many of the models will select the features for us, this is still a useful exercise as it will give us a more intuitive idea of what the models will be doing. \n",
    "\n",
    "Additionally, if we find patterns in the visualizations below that make sense based on what we know about soccer, it will be a sort of \"sanity-check\" that we have accurately extracted the shot data."
   ]
  },
  {
   "cell_type": "markdown",
   "metadata": {},
   "source": [
    "### 2.1 Feature engineering\n",
    "\n",
    "We will first create the following new variables:\n",
    "\n",
    "- Distance of shot location from goal\n",
    "- Convert outcome to a binary variable (Goal = 1, Other = 0). I'm doing this since for now, I don't care if the shot was saved, went wide, etc. I only care if it went in or not."
   ]
  },
  {
   "cell_type": "code",
   "execution_count": 9,
   "metadata": {},
   "outputs": [
    {
     "name": "stderr",
     "output_type": "stream",
     "text": [
      "/Users/robertblumberg/anaconda3/lib/python3.7/site-packages/pandas/core/indexing.py:205: SettingWithCopyWarning: \n",
      "A value is trying to be set on a copy of a slice from a DataFrame\n",
      "\n",
      "See the caveats in the documentation: http://pandas.pydata.org/pandas-docs/stable/user_guide/indexing.html#returning-a-view-versus-a-copy\n",
      "  self._setitem_with_indexer(indexer, value)\n"
     ]
    }
   ],
   "source": [
    "all_la_liga_shots[\"Distance from goal\"] = np.sqrt((all_la_liga_shots[\"x start location\"] - 120)**2 +    \\\n",
    "                                                  (all_la_liga_shots[\"y start location\"] - 40)**2)\n",
    "\n",
    "goal_label_mask = all_la_liga_shots[\"outcome\"].str.contains(\"Goal\")\n",
    "all_la_liga_shots[\"outcome\"].loc[goal_label_mask] = 1\n",
    "all_la_liga_shots[\"outcome\"].loc[~goal_label_mask] = 0"
   ]
  },
  {
   "cell_type": "code",
   "execution_count": 10,
   "metadata": {},
   "outputs": [
    {
     "data": {
      "text/html": [
       "<div>\n",
       "<style scoped>\n",
       "    .dataframe tbody tr th:only-of-type {\n",
       "        vertical-align: middle;\n",
       "    }\n",
       "\n",
       "    .dataframe tbody tr th {\n",
       "        vertical-align: top;\n",
       "    }\n",
       "\n",
       "    .dataframe thead th {\n",
       "        text-align: right;\n",
       "    }\n",
       "</style>\n",
       "<table border=\"1\" class=\"dataframe\">\n",
       "  <thead>\n",
       "    <tr style=\"text-align: right;\">\n",
       "      <th></th>\n",
       "      <th>play pattern</th>\n",
       "      <th>x start location</th>\n",
       "      <th>y start location</th>\n",
       "      <th>duration</th>\n",
       "      <th>outcome</th>\n",
       "      <th>technique</th>\n",
       "      <th>first time</th>\n",
       "      <th>x gk position</th>\n",
       "      <th>y gk position</th>\n",
       "      <th>type of shot</th>\n",
       "      <th>num opponents within 5 yards</th>\n",
       "      <th>num opponents between shot and goal</th>\n",
       "      <th>statsbomb xg</th>\n",
       "      <th>game_id</th>\n",
       "      <th>season_id</th>\n",
       "      <th>Distance from goal</th>\n",
       "    </tr>\n",
       "    <tr>\n",
       "      <th>shot id</th>\n",
       "      <th></th>\n",
       "      <th></th>\n",
       "      <th></th>\n",
       "      <th></th>\n",
       "      <th></th>\n",
       "      <th></th>\n",
       "      <th></th>\n",
       "      <th></th>\n",
       "      <th></th>\n",
       "      <th></th>\n",
       "      <th></th>\n",
       "      <th></th>\n",
       "      <th></th>\n",
       "      <th></th>\n",
       "      <th></th>\n",
       "      <th></th>\n",
       "    </tr>\n",
       "  </thead>\n",
       "  <tbody>\n",
       "    <tr>\n",
       "      <th>6c30cac4-6f3b-4cd0-9913-26137b058416</th>\n",
       "      <td>From Throw In</td>\n",
       "      <td>101.0</td>\n",
       "      <td>22.0</td>\n",
       "      <td>1.179654</td>\n",
       "      <td>0</td>\n",
       "      <td>Normal</td>\n",
       "      <td>False</td>\n",
       "      <td>118.6</td>\n",
       "      <td>37.9</td>\n",
       "      <td>Open Play</td>\n",
       "      <td>2</td>\n",
       "      <td>2</td>\n",
       "      <td>0.020549</td>\n",
       "      <td>16215</td>\n",
       "      <td>2018/2019</td>\n",
       "      <td>26.172505</td>\n",
       "    </tr>\n",
       "    <tr>\n",
       "      <th>67cfa552-952c-4f72-a33a-0dd6af217a66</th>\n",
       "      <td>From Throw In</td>\n",
       "      <td>113.7</td>\n",
       "      <td>39.9</td>\n",
       "      <td>1.226969</td>\n",
       "      <td>0</td>\n",
       "      <td>Volley</td>\n",
       "      <td>True</td>\n",
       "      <td>117.2</td>\n",
       "      <td>39.1</td>\n",
       "      <td>Open Play</td>\n",
       "      <td>1</td>\n",
       "      <td>0</td>\n",
       "      <td>0.363959</td>\n",
       "      <td>16215</td>\n",
       "      <td>2018/2019</td>\n",
       "      <td>6.300794</td>\n",
       "    </tr>\n",
       "    <tr>\n",
       "      <th>8c95e369-ec54-4a84-9d3e-51abb6f38e6e</th>\n",
       "      <td>From Free Kick</td>\n",
       "      <td>95.6</td>\n",
       "      <td>44.4</td>\n",
       "      <td>1.046942</td>\n",
       "      <td>1</td>\n",
       "      <td>Normal</td>\n",
       "      <td>False</td>\n",
       "      <td>119.5</td>\n",
       "      <td>39.0</td>\n",
       "      <td>Free Kick</td>\n",
       "      <td>0</td>\n",
       "      <td>5</td>\n",
       "      <td>0.127337</td>\n",
       "      <td>16215</td>\n",
       "      <td>2018/2019</td>\n",
       "      <td>24.793548</td>\n",
       "    </tr>\n",
       "    <tr>\n",
       "      <th>2ae506b9-0601-460b-b91d-802296120161</th>\n",
       "      <td>From Free Kick</td>\n",
       "      <td>94.0</td>\n",
       "      <td>46.1</td>\n",
       "      <td>1.375915</td>\n",
       "      <td>0</td>\n",
       "      <td>Normal</td>\n",
       "      <td>False</td>\n",
       "      <td>119.1</td>\n",
       "      <td>39.5</td>\n",
       "      <td>Free Kick</td>\n",
       "      <td>0</td>\n",
       "      <td>4</td>\n",
       "      <td>0.090603</td>\n",
       "      <td>16215</td>\n",
       "      <td>2018/2019</td>\n",
       "      <td>26.705992</td>\n",
       "    </tr>\n",
       "    <tr>\n",
       "      <th>10dc9818-a8d2-47f9-b219-9bc87d7b22e6</th>\n",
       "      <td>From Free Kick</td>\n",
       "      <td>104.1</td>\n",
       "      <td>22.2</td>\n",
       "      <td>0.116586</td>\n",
       "      <td>0</td>\n",
       "      <td>Normal</td>\n",
       "      <td>False</td>\n",
       "      <td>118.4</td>\n",
       "      <td>37.4</td>\n",
       "      <td>Open Play</td>\n",
       "      <td>3</td>\n",
       "      <td>1</td>\n",
       "      <td>0.022751</td>\n",
       "      <td>16215</td>\n",
       "      <td>2018/2019</td>\n",
       "      <td>23.867342</td>\n",
       "    </tr>\n",
       "    <tr>\n",
       "      <th>...</th>\n",
       "      <td>...</td>\n",
       "      <td>...</td>\n",
       "      <td>...</td>\n",
       "      <td>...</td>\n",
       "      <td>...</td>\n",
       "      <td>...</td>\n",
       "      <td>...</td>\n",
       "      <td>...</td>\n",
       "      <td>...</td>\n",
       "      <td>...</td>\n",
       "      <td>...</td>\n",
       "      <td>...</td>\n",
       "      <td>...</td>\n",
       "      <td>...</td>\n",
       "      <td>...</td>\n",
       "      <td>...</td>\n",
       "    </tr>\n",
       "    <tr>\n",
       "      <th>da65c5c6-ce8f-46d3-b0b4-17fb1c9e31c3</th>\n",
       "      <td>From Free Kick</td>\n",
       "      <td>93.8</td>\n",
       "      <td>40.1</td>\n",
       "      <td>1.278336</td>\n",
       "      <td>0</td>\n",
       "      <td>Normal</td>\n",
       "      <td>True</td>\n",
       "      <td>115.2</td>\n",
       "      <td>42.1</td>\n",
       "      <td>Open Play</td>\n",
       "      <td>0</td>\n",
       "      <td>1</td>\n",
       "      <td>0.042606</td>\n",
       "      <td>68352</td>\n",
       "      <td>2004/2005</td>\n",
       "      <td>26.200191</td>\n",
       "    </tr>\n",
       "    <tr>\n",
       "      <th>805dd74f-323c-412d-9b77-9c54c1a60f66</th>\n",
       "      <td>Regular Play</td>\n",
       "      <td>110.1</td>\n",
       "      <td>40.2</td>\n",
       "      <td>0.671461</td>\n",
       "      <td>0</td>\n",
       "      <td>Normal</td>\n",
       "      <td>False</td>\n",
       "      <td>119.4</td>\n",
       "      <td>39.9</td>\n",
       "      <td>Open Play</td>\n",
       "      <td>2</td>\n",
       "      <td>0</td>\n",
       "      <td>0.117359</td>\n",
       "      <td>68352</td>\n",
       "      <td>2004/2005</td>\n",
       "      <td>9.902020</td>\n",
       "    </tr>\n",
       "    <tr>\n",
       "      <th>4eadd318-25f7-420d-8aa9-53685cece638</th>\n",
       "      <td>From Corner</td>\n",
       "      <td>93.7</td>\n",
       "      <td>48.5</td>\n",
       "      <td>0.946505</td>\n",
       "      <td>0</td>\n",
       "      <td>Volley</td>\n",
       "      <td>True</td>\n",
       "      <td>119.3</td>\n",
       "      <td>39.9</td>\n",
       "      <td>Open Play</td>\n",
       "      <td>1</td>\n",
       "      <td>3</td>\n",
       "      <td>0.013930</td>\n",
       "      <td>68352</td>\n",
       "      <td>2004/2005</td>\n",
       "      <td>27.639465</td>\n",
       "    </tr>\n",
       "    <tr>\n",
       "      <th>723139d5-21a9-49f7-aca6-60cffdc6f6bc</th>\n",
       "      <td>Regular Play</td>\n",
       "      <td>109.9</td>\n",
       "      <td>47.4</td>\n",
       "      <td>0.468700</td>\n",
       "      <td>0</td>\n",
       "      <td>Normal</td>\n",
       "      <td>True</td>\n",
       "      <td>118.7</td>\n",
       "      <td>43.2</td>\n",
       "      <td>Open Play</td>\n",
       "      <td>3</td>\n",
       "      <td>1</td>\n",
       "      <td>0.100666</td>\n",
       "      <td>68352</td>\n",
       "      <td>2004/2005</td>\n",
       "      <td>12.520783</td>\n",
       "    </tr>\n",
       "    <tr>\n",
       "      <th>6031f8cc-26a6-449c-b455-2d7c301ca005</th>\n",
       "      <td>Regular Play</td>\n",
       "      <td>99.2</td>\n",
       "      <td>34.9</td>\n",
       "      <td>0.984200</td>\n",
       "      <td>0</td>\n",
       "      <td>Normal</td>\n",
       "      <td>False</td>\n",
       "      <td>118.8</td>\n",
       "      <td>41.7</td>\n",
       "      <td>Open Play</td>\n",
       "      <td>2</td>\n",
       "      <td>1</td>\n",
       "      <td>0.053242</td>\n",
       "      <td>68352</td>\n",
       "      <td>2004/2005</td>\n",
       "      <td>21.416115</td>\n",
       "    </tr>\n",
       "  </tbody>\n",
       "</table>\n",
       "<p>11251 rows × 16 columns</p>\n",
       "</div>"
      ],
      "text/plain": [
       "                                        play pattern  x start location  \\\n",
       "shot id                                                                  \n",
       "6c30cac4-6f3b-4cd0-9913-26137b058416   From Throw In             101.0   \n",
       "67cfa552-952c-4f72-a33a-0dd6af217a66   From Throw In             113.7   \n",
       "8c95e369-ec54-4a84-9d3e-51abb6f38e6e  From Free Kick              95.6   \n",
       "2ae506b9-0601-460b-b91d-802296120161  From Free Kick              94.0   \n",
       "10dc9818-a8d2-47f9-b219-9bc87d7b22e6  From Free Kick             104.1   \n",
       "...                                              ...               ...   \n",
       "da65c5c6-ce8f-46d3-b0b4-17fb1c9e31c3  From Free Kick              93.8   \n",
       "805dd74f-323c-412d-9b77-9c54c1a60f66    Regular Play             110.1   \n",
       "4eadd318-25f7-420d-8aa9-53685cece638     From Corner              93.7   \n",
       "723139d5-21a9-49f7-aca6-60cffdc6f6bc    Regular Play             109.9   \n",
       "6031f8cc-26a6-449c-b455-2d7c301ca005    Regular Play              99.2   \n",
       "\n",
       "                                      y start location  duration  outcome  \\\n",
       "shot id                                                                     \n",
       "6c30cac4-6f3b-4cd0-9913-26137b058416              22.0  1.179654        0   \n",
       "67cfa552-952c-4f72-a33a-0dd6af217a66              39.9  1.226969        0   \n",
       "8c95e369-ec54-4a84-9d3e-51abb6f38e6e              44.4  1.046942        1   \n",
       "2ae506b9-0601-460b-b91d-802296120161              46.1  1.375915        0   \n",
       "10dc9818-a8d2-47f9-b219-9bc87d7b22e6              22.2  0.116586        0   \n",
       "...                                                ...       ...      ...   \n",
       "da65c5c6-ce8f-46d3-b0b4-17fb1c9e31c3              40.1  1.278336        0   \n",
       "805dd74f-323c-412d-9b77-9c54c1a60f66              40.2  0.671461        0   \n",
       "4eadd318-25f7-420d-8aa9-53685cece638              48.5  0.946505        0   \n",
       "723139d5-21a9-49f7-aca6-60cffdc6f6bc              47.4  0.468700        0   \n",
       "6031f8cc-26a6-449c-b455-2d7c301ca005              34.9  0.984200        0   \n",
       "\n",
       "                                     technique  first time  x gk position  \\\n",
       "shot id                                                                     \n",
       "6c30cac4-6f3b-4cd0-9913-26137b058416    Normal       False          118.6   \n",
       "67cfa552-952c-4f72-a33a-0dd6af217a66    Volley        True          117.2   \n",
       "8c95e369-ec54-4a84-9d3e-51abb6f38e6e    Normal       False          119.5   \n",
       "2ae506b9-0601-460b-b91d-802296120161    Normal       False          119.1   \n",
       "10dc9818-a8d2-47f9-b219-9bc87d7b22e6    Normal       False          118.4   \n",
       "...                                        ...         ...            ...   \n",
       "da65c5c6-ce8f-46d3-b0b4-17fb1c9e31c3    Normal        True          115.2   \n",
       "805dd74f-323c-412d-9b77-9c54c1a60f66    Normal       False          119.4   \n",
       "4eadd318-25f7-420d-8aa9-53685cece638    Volley        True          119.3   \n",
       "723139d5-21a9-49f7-aca6-60cffdc6f6bc    Normal        True          118.7   \n",
       "6031f8cc-26a6-449c-b455-2d7c301ca005    Normal       False          118.8   \n",
       "\n",
       "                                      y gk position type of shot  \\\n",
       "shot id                                                            \n",
       "6c30cac4-6f3b-4cd0-9913-26137b058416           37.9    Open Play   \n",
       "67cfa552-952c-4f72-a33a-0dd6af217a66           39.1    Open Play   \n",
       "8c95e369-ec54-4a84-9d3e-51abb6f38e6e           39.0    Free Kick   \n",
       "2ae506b9-0601-460b-b91d-802296120161           39.5    Free Kick   \n",
       "10dc9818-a8d2-47f9-b219-9bc87d7b22e6           37.4    Open Play   \n",
       "...                                             ...          ...   \n",
       "da65c5c6-ce8f-46d3-b0b4-17fb1c9e31c3           42.1    Open Play   \n",
       "805dd74f-323c-412d-9b77-9c54c1a60f66           39.9    Open Play   \n",
       "4eadd318-25f7-420d-8aa9-53685cece638           39.9    Open Play   \n",
       "723139d5-21a9-49f7-aca6-60cffdc6f6bc           43.2    Open Play   \n",
       "6031f8cc-26a6-449c-b455-2d7c301ca005           41.7    Open Play   \n",
       "\n",
       "                                      num opponents within 5 yards  \\\n",
       "shot id                                                              \n",
       "6c30cac4-6f3b-4cd0-9913-26137b058416                             2   \n",
       "67cfa552-952c-4f72-a33a-0dd6af217a66                             1   \n",
       "8c95e369-ec54-4a84-9d3e-51abb6f38e6e                             0   \n",
       "2ae506b9-0601-460b-b91d-802296120161                             0   \n",
       "10dc9818-a8d2-47f9-b219-9bc87d7b22e6                             3   \n",
       "...                                                            ...   \n",
       "da65c5c6-ce8f-46d3-b0b4-17fb1c9e31c3                             0   \n",
       "805dd74f-323c-412d-9b77-9c54c1a60f66                             2   \n",
       "4eadd318-25f7-420d-8aa9-53685cece638                             1   \n",
       "723139d5-21a9-49f7-aca6-60cffdc6f6bc                             3   \n",
       "6031f8cc-26a6-449c-b455-2d7c301ca005                             2   \n",
       "\n",
       "                                      num opponents between shot and goal  \\\n",
       "shot id                                                                     \n",
       "6c30cac4-6f3b-4cd0-9913-26137b058416                                    2   \n",
       "67cfa552-952c-4f72-a33a-0dd6af217a66                                    0   \n",
       "8c95e369-ec54-4a84-9d3e-51abb6f38e6e                                    5   \n",
       "2ae506b9-0601-460b-b91d-802296120161                                    4   \n",
       "10dc9818-a8d2-47f9-b219-9bc87d7b22e6                                    1   \n",
       "...                                                                   ...   \n",
       "da65c5c6-ce8f-46d3-b0b4-17fb1c9e31c3                                    1   \n",
       "805dd74f-323c-412d-9b77-9c54c1a60f66                                    0   \n",
       "4eadd318-25f7-420d-8aa9-53685cece638                                    3   \n",
       "723139d5-21a9-49f7-aca6-60cffdc6f6bc                                    1   \n",
       "6031f8cc-26a6-449c-b455-2d7c301ca005                                    1   \n",
       "\n",
       "                                      statsbomb xg game_id  season_id  \\\n",
       "shot id                                                                 \n",
       "6c30cac4-6f3b-4cd0-9913-26137b058416      0.020549   16215  2018/2019   \n",
       "67cfa552-952c-4f72-a33a-0dd6af217a66      0.363959   16215  2018/2019   \n",
       "8c95e369-ec54-4a84-9d3e-51abb6f38e6e      0.127337   16215  2018/2019   \n",
       "2ae506b9-0601-460b-b91d-802296120161      0.090603   16215  2018/2019   \n",
       "10dc9818-a8d2-47f9-b219-9bc87d7b22e6      0.022751   16215  2018/2019   \n",
       "...                                            ...     ...        ...   \n",
       "da65c5c6-ce8f-46d3-b0b4-17fb1c9e31c3      0.042606   68352  2004/2005   \n",
       "805dd74f-323c-412d-9b77-9c54c1a60f66      0.117359   68352  2004/2005   \n",
       "4eadd318-25f7-420d-8aa9-53685cece638      0.013930   68352  2004/2005   \n",
       "723139d5-21a9-49f7-aca6-60cffdc6f6bc      0.100666   68352  2004/2005   \n",
       "6031f8cc-26a6-449c-b455-2d7c301ca005      0.053242   68352  2004/2005   \n",
       "\n",
       "                                      Distance from goal  \n",
       "shot id                                                   \n",
       "6c30cac4-6f3b-4cd0-9913-26137b058416           26.172505  \n",
       "67cfa552-952c-4f72-a33a-0dd6af217a66            6.300794  \n",
       "8c95e369-ec54-4a84-9d3e-51abb6f38e6e           24.793548  \n",
       "2ae506b9-0601-460b-b91d-802296120161           26.705992  \n",
       "10dc9818-a8d2-47f9-b219-9bc87d7b22e6           23.867342  \n",
       "...                                                  ...  \n",
       "da65c5c6-ce8f-46d3-b0b4-17fb1c9e31c3           26.200191  \n",
       "805dd74f-323c-412d-9b77-9c54c1a60f66            9.902020  \n",
       "4eadd318-25f7-420d-8aa9-53685cece638           27.639465  \n",
       "723139d5-21a9-49f7-aca6-60cffdc6f6bc           12.520783  \n",
       "6031f8cc-26a6-449c-b455-2d7c301ca005           21.416115  \n",
       "\n",
       "[11251 rows x 16 columns]"
      ]
     },
     "execution_count": 10,
     "metadata": {},
     "output_type": "execute_result"
    }
   ],
   "source": [
    "all_la_liga_shots"
   ]
  },
  {
   "cell_type": "markdown",
   "metadata": {},
   "source": [
    "### 2.2 Create a training and test set"
   ]
  },
  {
   "cell_type": "markdown",
   "metadata": {},
   "source": [
    "Since I don't want the test set to influence my model in any way (including the data exploration - which could eventually inform how I choose my model), I'll split the data now into test, validation and training sets and stash the test set away until I decide on a final model."
   ]
  },
  {
   "cell_type": "code",
   "execution_count": 11,
   "metadata": {},
   "outputs": [],
   "source": [
    "features=all_la_liga_shots.drop([\"outcome\"], axis=1)\n",
    "targets=all_la_liga_shots[\"outcome\"]\n",
    "\n",
    "X_train, X_test, y_train, y_test = train_test_split(features, targets, test_size=0.2)\n",
    "X_train, X_valid, y_train, y_valid = train_test_split(features.loc[X_train.index], targets[X_train.index], test_size=0.2)\n",
    "\n",
    "shot_training_set = pd.merge(X_train, y_train, left_index=True, right_index=True)\n",
    "shot_valid_set = pd.merge(X_valid, y_valid, left_index=True, right_index=True)\n",
    "shot_test_set = pd.merge(X_test, y_test, left_index=True, right_index=True)"
   ]
  },
  {
   "cell_type": "code",
   "execution_count": 12,
   "metadata": {},
   "outputs": [
    {
     "data": {
      "text/html": [
       "<div>\n",
       "<style scoped>\n",
       "    .dataframe tbody tr th:only-of-type {\n",
       "        vertical-align: middle;\n",
       "    }\n",
       "\n",
       "    .dataframe tbody tr th {\n",
       "        vertical-align: top;\n",
       "    }\n",
       "\n",
       "    .dataframe thead th {\n",
       "        text-align: right;\n",
       "    }\n",
       "</style>\n",
       "<table border=\"1\" class=\"dataframe\">\n",
       "  <thead>\n",
       "    <tr style=\"text-align: right;\">\n",
       "      <th></th>\n",
       "      <th>play pattern</th>\n",
       "      <th>x start location</th>\n",
       "      <th>y start location</th>\n",
       "      <th>duration</th>\n",
       "      <th>technique</th>\n",
       "      <th>first time</th>\n",
       "      <th>x gk position</th>\n",
       "      <th>y gk position</th>\n",
       "      <th>type of shot</th>\n",
       "      <th>num opponents within 5 yards</th>\n",
       "      <th>num opponents between shot and goal</th>\n",
       "      <th>statsbomb xg</th>\n",
       "      <th>game_id</th>\n",
       "      <th>season_id</th>\n",
       "      <th>Distance from goal</th>\n",
       "      <th>outcome</th>\n",
       "    </tr>\n",
       "    <tr>\n",
       "      <th>shot id</th>\n",
       "      <th></th>\n",
       "      <th></th>\n",
       "      <th></th>\n",
       "      <th></th>\n",
       "      <th></th>\n",
       "      <th></th>\n",
       "      <th></th>\n",
       "      <th></th>\n",
       "      <th></th>\n",
       "      <th></th>\n",
       "      <th></th>\n",
       "      <th></th>\n",
       "      <th></th>\n",
       "      <th></th>\n",
       "      <th></th>\n",
       "      <th></th>\n",
       "    </tr>\n",
       "  </thead>\n",
       "  <tbody>\n",
       "    <tr>\n",
       "      <th>150b9f60-4203-4b53-84a9-03138957157e</th>\n",
       "      <td>From Goal Kick</td>\n",
       "      <td>102.1</td>\n",
       "      <td>61.9</td>\n",
       "      <td>0.047800</td>\n",
       "      <td>Normal</td>\n",
       "      <td>False</td>\n",
       "      <td>118.2</td>\n",
       "      <td>42.8</td>\n",
       "      <td>Open Play</td>\n",
       "      <td>2</td>\n",
       "      <td>1</td>\n",
       "      <td>0.014462</td>\n",
       "      <td>69300</td>\n",
       "      <td>2010/2011</td>\n",
       "      <td>28.284625</td>\n",
       "      <td>0</td>\n",
       "    </tr>\n",
       "    <tr>\n",
       "      <th>0eecdf24-721d-4c02-bb18-2f0260d7d46d</th>\n",
       "      <td>Regular Play</td>\n",
       "      <td>107.5</td>\n",
       "      <td>41.7</td>\n",
       "      <td>0.870800</td>\n",
       "      <td>Volley</td>\n",
       "      <td>False</td>\n",
       "      <td>119.4</td>\n",
       "      <td>41.0</td>\n",
       "      <td>Open Play</td>\n",
       "      <td>2</td>\n",
       "      <td>0</td>\n",
       "      <td>0.107694</td>\n",
       "      <td>266166</td>\n",
       "      <td>2015/2016</td>\n",
       "      <td>12.615070</td>\n",
       "      <td>0</td>\n",
       "    </tr>\n",
       "    <tr>\n",
       "      <th>737c41b0-c65a-4e16-93a9-920f0289963b</th>\n",
       "      <td>From Free Kick</td>\n",
       "      <td>112.8</td>\n",
       "      <td>45.6</td>\n",
       "      <td>1.369021</td>\n",
       "      <td>Normal</td>\n",
       "      <td>False</td>\n",
       "      <td>119.5</td>\n",
       "      <td>42.8</td>\n",
       "      <td>Open Play</td>\n",
       "      <td>4</td>\n",
       "      <td>1</td>\n",
       "      <td>0.056378</td>\n",
       "      <td>68356</td>\n",
       "      <td>2007/2008</td>\n",
       "      <td>9.121403</td>\n",
       "      <td>0</td>\n",
       "    </tr>\n",
       "    <tr>\n",
       "      <th>0d1a84f7-1467-4943-9d44-09481ee361ad</th>\n",
       "      <td>Regular Play</td>\n",
       "      <td>105.6</td>\n",
       "      <td>40.1</td>\n",
       "      <td>0.757190</td>\n",
       "      <td>Normal</td>\n",
       "      <td>True</td>\n",
       "      <td>119.0</td>\n",
       "      <td>40.2</td>\n",
       "      <td>Open Play</td>\n",
       "      <td>2</td>\n",
       "      <td>0</td>\n",
       "      <td>0.135804</td>\n",
       "      <td>68319</td>\n",
       "      <td>2005/2006</td>\n",
       "      <td>14.400347</td>\n",
       "      <td>0</td>\n",
       "    </tr>\n",
       "    <tr>\n",
       "      <th>6743f414-f0f2-439e-94a5-08a64cb31fec</th>\n",
       "      <td>From Corner</td>\n",
       "      <td>109.6</td>\n",
       "      <td>55.9</td>\n",
       "      <td>0.437300</td>\n",
       "      <td>Normal</td>\n",
       "      <td>False</td>\n",
       "      <td>118.9</td>\n",
       "      <td>44.0</td>\n",
       "      <td>Open Play</td>\n",
       "      <td>1</td>\n",
       "      <td>1</td>\n",
       "      <td>0.029796</td>\n",
       "      <td>266106</td>\n",
       "      <td>2015/2016</td>\n",
       "      <td>18.999211</td>\n",
       "      <td>0</td>\n",
       "    </tr>\n",
       "    <tr>\n",
       "      <th>...</th>\n",
       "      <td>...</td>\n",
       "      <td>...</td>\n",
       "      <td>...</td>\n",
       "      <td>...</td>\n",
       "      <td>...</td>\n",
       "      <td>...</td>\n",
       "      <td>...</td>\n",
       "      <td>...</td>\n",
       "      <td>...</td>\n",
       "      <td>...</td>\n",
       "      <td>...</td>\n",
       "      <td>...</td>\n",
       "      <td>...</td>\n",
       "      <td>...</td>\n",
       "      <td>...</td>\n",
       "      <td>...</td>\n",
       "    </tr>\n",
       "    <tr>\n",
       "      <th>f7c03f68-6565-4fcf-beb8-bc1633d32e63</th>\n",
       "      <td>Regular Play</td>\n",
       "      <td>105.8</td>\n",
       "      <td>46.5</td>\n",
       "      <td>0.858500</td>\n",
       "      <td>Normal</td>\n",
       "      <td>True</td>\n",
       "      <td>108.9</td>\n",
       "      <td>44.4</td>\n",
       "      <td>Open Play</td>\n",
       "      <td>1</td>\n",
       "      <td>0</td>\n",
       "      <td>0.438888</td>\n",
       "      <td>69280</td>\n",
       "      <td>2010/2011</td>\n",
       "      <td>15.616978</td>\n",
       "      <td>1</td>\n",
       "    </tr>\n",
       "    <tr>\n",
       "      <th>424b0b13-f574-48de-a38e-18769c08b9b7</th>\n",
       "      <td>Regular Play</td>\n",
       "      <td>105.7</td>\n",
       "      <td>39.1</td>\n",
       "      <td>1.817981</td>\n",
       "      <td>Normal</td>\n",
       "      <td>False</td>\n",
       "      <td>118.8</td>\n",
       "      <td>39.7</td>\n",
       "      <td>Open Play</td>\n",
       "      <td>1</td>\n",
       "      <td>1</td>\n",
       "      <td>0.026911</td>\n",
       "      <td>267183</td>\n",
       "      <td>2014/2015</td>\n",
       "      <td>14.328294</td>\n",
       "      <td>0</td>\n",
       "    </tr>\n",
       "    <tr>\n",
       "      <th>8193c2ab-8b9b-425a-8dee-5322d0f43531</th>\n",
       "      <td>Regular Play</td>\n",
       "      <td>108.0</td>\n",
       "      <td>46.0</td>\n",
       "      <td>0.033166</td>\n",
       "      <td>Normal</td>\n",
       "      <td>True</td>\n",
       "      <td>118.3</td>\n",
       "      <td>42.6</td>\n",
       "      <td>Open Play</td>\n",
       "      <td>2</td>\n",
       "      <td>0</td>\n",
       "      <td>0.175885</td>\n",
       "      <td>16029</td>\n",
       "      <td>2018/2019</td>\n",
       "      <td>13.416408</td>\n",
       "      <td>0</td>\n",
       "    </tr>\n",
       "    <tr>\n",
       "      <th>8efefa35-eb2b-47c3-ba1e-f68c67249186</th>\n",
       "      <td>From Throw In</td>\n",
       "      <td>93.8</td>\n",
       "      <td>26.0</td>\n",
       "      <td>0.092700</td>\n",
       "      <td>Normal</td>\n",
       "      <td>False</td>\n",
       "      <td>119.4</td>\n",
       "      <td>40.6</td>\n",
       "      <td>Open Play</td>\n",
       "      <td>1</td>\n",
       "      <td>0</td>\n",
       "      <td>0.021189</td>\n",
       "      <td>68320</td>\n",
       "      <td>2005/2006</td>\n",
       "      <td>29.705892</td>\n",
       "      <td>0</td>\n",
       "    </tr>\n",
       "    <tr>\n",
       "      <th>14ac4f52-98a7-4b5a-8fd8-7aaaae5eccef</th>\n",
       "      <td>Regular Play</td>\n",
       "      <td>94.2</td>\n",
       "      <td>38.9</td>\n",
       "      <td>0.887900</td>\n",
       "      <td>Normal</td>\n",
       "      <td>True</td>\n",
       "      <td>118.6</td>\n",
       "      <td>40.1</td>\n",
       "      <td>Open Play</td>\n",
       "      <td>0</td>\n",
       "      <td>1</td>\n",
       "      <td>0.031460</td>\n",
       "      <td>70298</td>\n",
       "      <td>2013/2014</td>\n",
       "      <td>25.823439</td>\n",
       "      <td>0</td>\n",
       "    </tr>\n",
       "  </tbody>\n",
       "</table>\n",
       "<p>7200 rows × 16 columns</p>\n",
       "</div>"
      ],
      "text/plain": [
       "                                        play pattern  x start location  \\\n",
       "shot id                                                                  \n",
       "150b9f60-4203-4b53-84a9-03138957157e  From Goal Kick             102.1   \n",
       "0eecdf24-721d-4c02-bb18-2f0260d7d46d    Regular Play             107.5   \n",
       "737c41b0-c65a-4e16-93a9-920f0289963b  From Free Kick             112.8   \n",
       "0d1a84f7-1467-4943-9d44-09481ee361ad    Regular Play             105.6   \n",
       "6743f414-f0f2-439e-94a5-08a64cb31fec     From Corner             109.6   \n",
       "...                                              ...               ...   \n",
       "f7c03f68-6565-4fcf-beb8-bc1633d32e63    Regular Play             105.8   \n",
       "424b0b13-f574-48de-a38e-18769c08b9b7    Regular Play             105.7   \n",
       "8193c2ab-8b9b-425a-8dee-5322d0f43531    Regular Play             108.0   \n",
       "8efefa35-eb2b-47c3-ba1e-f68c67249186   From Throw In              93.8   \n",
       "14ac4f52-98a7-4b5a-8fd8-7aaaae5eccef    Regular Play              94.2   \n",
       "\n",
       "                                      y start location  duration technique  \\\n",
       "shot id                                                                      \n",
       "150b9f60-4203-4b53-84a9-03138957157e              61.9  0.047800    Normal   \n",
       "0eecdf24-721d-4c02-bb18-2f0260d7d46d              41.7  0.870800    Volley   \n",
       "737c41b0-c65a-4e16-93a9-920f0289963b              45.6  1.369021    Normal   \n",
       "0d1a84f7-1467-4943-9d44-09481ee361ad              40.1  0.757190    Normal   \n",
       "6743f414-f0f2-439e-94a5-08a64cb31fec              55.9  0.437300    Normal   \n",
       "...                                                ...       ...       ...   \n",
       "f7c03f68-6565-4fcf-beb8-bc1633d32e63              46.5  0.858500    Normal   \n",
       "424b0b13-f574-48de-a38e-18769c08b9b7              39.1  1.817981    Normal   \n",
       "8193c2ab-8b9b-425a-8dee-5322d0f43531              46.0  0.033166    Normal   \n",
       "8efefa35-eb2b-47c3-ba1e-f68c67249186              26.0  0.092700    Normal   \n",
       "14ac4f52-98a7-4b5a-8fd8-7aaaae5eccef              38.9  0.887900    Normal   \n",
       "\n",
       "                                      first time  x gk position  \\\n",
       "shot id                                                           \n",
       "150b9f60-4203-4b53-84a9-03138957157e       False          118.2   \n",
       "0eecdf24-721d-4c02-bb18-2f0260d7d46d       False          119.4   \n",
       "737c41b0-c65a-4e16-93a9-920f0289963b       False          119.5   \n",
       "0d1a84f7-1467-4943-9d44-09481ee361ad        True          119.0   \n",
       "6743f414-f0f2-439e-94a5-08a64cb31fec       False          118.9   \n",
       "...                                          ...            ...   \n",
       "f7c03f68-6565-4fcf-beb8-bc1633d32e63        True          108.9   \n",
       "424b0b13-f574-48de-a38e-18769c08b9b7       False          118.8   \n",
       "8193c2ab-8b9b-425a-8dee-5322d0f43531        True          118.3   \n",
       "8efefa35-eb2b-47c3-ba1e-f68c67249186       False          119.4   \n",
       "14ac4f52-98a7-4b5a-8fd8-7aaaae5eccef        True          118.6   \n",
       "\n",
       "                                      y gk position type of shot  \\\n",
       "shot id                                                            \n",
       "150b9f60-4203-4b53-84a9-03138957157e           42.8    Open Play   \n",
       "0eecdf24-721d-4c02-bb18-2f0260d7d46d           41.0    Open Play   \n",
       "737c41b0-c65a-4e16-93a9-920f0289963b           42.8    Open Play   \n",
       "0d1a84f7-1467-4943-9d44-09481ee361ad           40.2    Open Play   \n",
       "6743f414-f0f2-439e-94a5-08a64cb31fec           44.0    Open Play   \n",
       "...                                             ...          ...   \n",
       "f7c03f68-6565-4fcf-beb8-bc1633d32e63           44.4    Open Play   \n",
       "424b0b13-f574-48de-a38e-18769c08b9b7           39.7    Open Play   \n",
       "8193c2ab-8b9b-425a-8dee-5322d0f43531           42.6    Open Play   \n",
       "8efefa35-eb2b-47c3-ba1e-f68c67249186           40.6    Open Play   \n",
       "14ac4f52-98a7-4b5a-8fd8-7aaaae5eccef           40.1    Open Play   \n",
       "\n",
       "                                      num opponents within 5 yards  \\\n",
       "shot id                                                              \n",
       "150b9f60-4203-4b53-84a9-03138957157e                             2   \n",
       "0eecdf24-721d-4c02-bb18-2f0260d7d46d                             2   \n",
       "737c41b0-c65a-4e16-93a9-920f0289963b                             4   \n",
       "0d1a84f7-1467-4943-9d44-09481ee361ad                             2   \n",
       "6743f414-f0f2-439e-94a5-08a64cb31fec                             1   \n",
       "...                                                            ...   \n",
       "f7c03f68-6565-4fcf-beb8-bc1633d32e63                             1   \n",
       "424b0b13-f574-48de-a38e-18769c08b9b7                             1   \n",
       "8193c2ab-8b9b-425a-8dee-5322d0f43531                             2   \n",
       "8efefa35-eb2b-47c3-ba1e-f68c67249186                             1   \n",
       "14ac4f52-98a7-4b5a-8fd8-7aaaae5eccef                             0   \n",
       "\n",
       "                                      num opponents between shot and goal  \\\n",
       "shot id                                                                     \n",
       "150b9f60-4203-4b53-84a9-03138957157e                                    1   \n",
       "0eecdf24-721d-4c02-bb18-2f0260d7d46d                                    0   \n",
       "737c41b0-c65a-4e16-93a9-920f0289963b                                    1   \n",
       "0d1a84f7-1467-4943-9d44-09481ee361ad                                    0   \n",
       "6743f414-f0f2-439e-94a5-08a64cb31fec                                    1   \n",
       "...                                                                   ...   \n",
       "f7c03f68-6565-4fcf-beb8-bc1633d32e63                                    0   \n",
       "424b0b13-f574-48de-a38e-18769c08b9b7                                    1   \n",
       "8193c2ab-8b9b-425a-8dee-5322d0f43531                                    0   \n",
       "8efefa35-eb2b-47c3-ba1e-f68c67249186                                    0   \n",
       "14ac4f52-98a7-4b5a-8fd8-7aaaae5eccef                                    1   \n",
       "\n",
       "                                      statsbomb xg game_id  season_id  \\\n",
       "shot id                                                                 \n",
       "150b9f60-4203-4b53-84a9-03138957157e      0.014462   69300  2010/2011   \n",
       "0eecdf24-721d-4c02-bb18-2f0260d7d46d      0.107694  266166  2015/2016   \n",
       "737c41b0-c65a-4e16-93a9-920f0289963b      0.056378   68356  2007/2008   \n",
       "0d1a84f7-1467-4943-9d44-09481ee361ad      0.135804   68319  2005/2006   \n",
       "6743f414-f0f2-439e-94a5-08a64cb31fec      0.029796  266106  2015/2016   \n",
       "...                                            ...     ...        ...   \n",
       "f7c03f68-6565-4fcf-beb8-bc1633d32e63      0.438888   69280  2010/2011   \n",
       "424b0b13-f574-48de-a38e-18769c08b9b7      0.026911  267183  2014/2015   \n",
       "8193c2ab-8b9b-425a-8dee-5322d0f43531      0.175885   16029  2018/2019   \n",
       "8efefa35-eb2b-47c3-ba1e-f68c67249186      0.021189   68320  2005/2006   \n",
       "14ac4f52-98a7-4b5a-8fd8-7aaaae5eccef      0.031460   70298  2013/2014   \n",
       "\n",
       "                                      Distance from goal  outcome  \n",
       "shot id                                                            \n",
       "150b9f60-4203-4b53-84a9-03138957157e           28.284625        0  \n",
       "0eecdf24-721d-4c02-bb18-2f0260d7d46d           12.615070        0  \n",
       "737c41b0-c65a-4e16-93a9-920f0289963b            9.121403        0  \n",
       "0d1a84f7-1467-4943-9d44-09481ee361ad           14.400347        0  \n",
       "6743f414-f0f2-439e-94a5-08a64cb31fec           18.999211        0  \n",
       "...                                                  ...      ...  \n",
       "f7c03f68-6565-4fcf-beb8-bc1633d32e63           15.616978        1  \n",
       "424b0b13-f574-48de-a38e-18769c08b9b7           14.328294        0  \n",
       "8193c2ab-8b9b-425a-8dee-5322d0f43531           13.416408        0  \n",
       "8efefa35-eb2b-47c3-ba1e-f68c67249186           29.705892        0  \n",
       "14ac4f52-98a7-4b5a-8fd8-7aaaae5eccef           25.823439        0  \n",
       "\n",
       "[7200 rows x 16 columns]"
      ]
     },
     "execution_count": 12,
     "metadata": {},
     "output_type": "execute_result"
    }
   ],
   "source": [
    "shot_training_set"
   ]
  },
  {
   "cell_type": "markdown",
   "metadata": {},
   "source": [
    "### 2.3 Visualizing relationships\n",
    "\n",
    "Below, I write a function, `plot_percent_goal_vs_attr` to plot the percentage of goals scored by desired **categorical** variable."
   ]
  },
  {
   "cell_type": "code",
   "execution_count": 13,
   "metadata": {},
   "outputs": [],
   "source": [
    "def plot_percent_goal_vs_attr(attribute, type_chart = \"line\"):\n",
    "    \"\"\"\n",
    "    Function which plots the percentage of goals scored by desired categorical attribute in our shot training set.\n",
    "    \n",
    "    Arguments:\n",
    "    ----------\n",
    "    attribute (string) \n",
    "        - name of categorical attribute in shot training set data frame\n",
    "    \"\"\"\n",
    "    shot_training_set_copy = shot_training_set.copy() \n",
    "    \n",
    "    attr_x = attribute\n",
    "    attr_y = \"outcome\"\n",
    "    attr_agg = \"shot id\"\n",
    "    attrs = [attr_x, attr_y, attr_agg]\n",
    "\n",
    "    outcomes_by_attribute = shot_training_set_copy.reset_index()[attrs]   \\\n",
    "                            .groupby([attr_x, attr_y])               \\\n",
    "                            .count()                                 \\\n",
    "                            .unstack()                               \\\n",
    "                            .fillna(0)\n",
    "    \n",
    "    outcomes_by_attribute = outcomes_by_attribute[attr_agg].reset_index()\n",
    "    outcomes_by_attribute[\"Percent Goal\"] = outcomes_by_attribute[1] * 100  / outcomes_by_attribute.sum(axis = 1)\n",
    "    outcomes_by_attribute = outcomes_by_attribute.rename(columns={0: 'No Goal', 1: 'Goal'})\n",
    "    \n",
    "    if type_chart == \"line\":\n",
    "        chart = alt.Chart(outcomes_by_attribute).mark_line()\n",
    "    elif type_chart == \"bar\":\n",
    "        chart = alt.Chart(outcomes_by_attribute).mark_bar()\n",
    "    \n",
    "    chart = chart.encode(\n",
    "        alt.X('{}:N'.format(attr_x), axis = alt.Axis(title = attr_x, labelAngle = 0)),\n",
    "        alt.Y('Percent Goal:Q', axis = alt.Axis(title = 'Percent Goal'))\n",
    "    ).properties(width = 850, height = 300, \n",
    "             title = \"Percent Goal vs {}\".format(attr_x)\n",
    "    ).configure_axis(labelFontSize = 13, titleFontSize = 15\n",
    "    ).configure_title(fontSize = 16)\n",
    "    \n",
    "    return chart"
   ]
  },
  {
   "cell_type": "markdown",
   "metadata": {},
   "source": [
    "#### 2.3.1 Percent goals by num opponents between shot and goal"
   ]
  },
  {
   "cell_type": "markdown",
   "metadata": {},
   "source": [
    "Now we can use our function to plot the desired variables:"
   ]
  },
  {
   "cell_type": "code",
   "execution_count": 14,
   "metadata": {},
   "outputs": [
    {
     "data": {
      "application/vnd.vegalite.v3+json": {
       "$schema": "https://vega.github.io/schema/vega-lite/v3.4.0.json",
       "config": {
        "axis": {
         "labelFontSize": 13,
         "titleFontSize": 15
        },
        "mark": {
         "tooltip": null
        },
        "title": {
         "fontSize": 16
        },
        "view": {
         "height": 300,
         "width": 400
        }
       },
       "data": {
        "name": "data-81c048ac284339a8b3563e4c20c5eb4b"
       },
       "datasets": {
        "data-81c048ac284339a8b3563e4c20c5eb4b": [
         {
          "Goal": 768,
          "No Goal": 3075,
          "Percent Goal": 19.984387197501952,
          "num opponents between shot and goal": 0
         },
         {
          "Goal": 178,
          "No Goal": 2015,
          "Percent Goal": 8.113035551504103,
          "num opponents between shot and goal": 1
         },
         {
          "Goal": 47,
          "No Goal": 615,
          "Percent Goal": 7.078313253012048,
          "num opponents between shot and goal": 2
         },
         {
          "Goal": 24,
          "No Goal": 272,
          "Percent Goal": 8.02675585284281,
          "num opponents between shot and goal": 3
         },
         {
          "Goal": 9,
          "No Goal": 125,
          "Percent Goal": 6.521739130434782,
          "num opponents between shot and goal": 4
         },
         {
          "Goal": 4,
          "No Goal": 53,
          "Percent Goal": 6.451612903225806,
          "num opponents between shot and goal": 5
         },
         {
          "Goal": 4,
          "No Goal": 10,
          "Percent Goal": 20,
          "num opponents between shot and goal": 6
         },
         {
          "Goal": 0,
          "No Goal": 1,
          "Percent Goal": 0,
          "num opponents between shot and goal": 7
         }
        ]
       },
       "encoding": {
        "x": {
         "axis": {
          "labelAngle": 0,
          "title": "num opponents between shot and goal"
         },
         "field": "num opponents between shot and goal",
         "type": "nominal"
        },
        "y": {
         "axis": {
          "title": "Percent Goal"
         },
         "field": "Percent Goal",
         "type": "quantitative"
        }
       },
       "height": 300,
       "mark": "bar",
       "title": "Percent Goal vs num opponents between shot and goal",
       "width": 850
      },
      "image/png": "[encoded data removed]",
      "text/plain": [
       "<VegaLite 3 object>\n",
       "\n",
       "If you see this message, it means the renderer has not been properly enabled\n",
       "for the frontend that you are using. For more information, see\n",
       "https://altair-viz.github.io/user_guide/troubleshooting.html\n"
      ]
     },
     "execution_count": 14,
     "metadata": {},
     "output_type": "execute_result"
    }
   ],
   "source": [
    "plot_percent_goal_vs_attr(\"num opponents between shot and goal\", \"bar\")"
   ]
  },
  {
   "cell_type": "markdown",
   "metadata": {},
   "source": [
    "**Comments:**\n",
    "\n",
    "As expected, in general, the rate of goals scored decreases as more opponents are between the shot location and the goal. Interestingly, there is a bizarre peak at 6 opponents between shot and goal."
   ]
  },
  {
   "cell_type": "markdown",
   "metadata": {},
   "source": [
    "#### 2.3.2 Percent goals by num opponents within 5 yards"
   ]
  },
  {
   "cell_type": "code",
   "execution_count": 15,
   "metadata": {},
   "outputs": [
    {
     "data": {
      "application/vnd.vegalite.v3+json": {
       "$schema": "https://vega.github.io/schema/vega-lite/v3.4.0.json",
       "config": {
        "axis": {
         "labelFontSize": 13,
         "titleFontSize": 15
        },
        "mark": {
         "tooltip": null
        },
        "title": {
         "fontSize": 16
        },
        "view": {
         "height": 300,
         "width": 400
        }
       },
       "data": {
        "name": "data-e5dadc895359fbfccd76124e5902b0a3"
       },
       "datasets": {
        "data-e5dadc895359fbfccd76124e5902b0a3": [
         {
          "Goal": 229,
          "No Goal": 1235,
          "Percent Goal": 15.642076502732241,
          "num opponents within 5 yards": 0
         },
         {
          "Goal": 363,
          "No Goal": 2113,
          "Percent Goal": 14.65482438433589,
          "num opponents within 5 yards": 1
         },
         {
          "Goal": 273,
          "No Goal": 1714,
          "Percent Goal": 13.72549019607843,
          "num opponents within 5 yards": 2
         },
         {
          "Goal": 122,
          "No Goal": 709,
          "Percent Goal": 14.628297362110311,
          "num opponents within 5 yards": 3
         },
         {
          "Goal": 29,
          "No Goal": 301,
          "Percent Goal": 8.682634730538922,
          "num opponents within 5 yards": 4
         },
         {
          "Goal": 15,
          "No Goal": 75,
          "Percent Goal": 15.789473684210526,
          "num opponents within 5 yards": 5
         },
         {
          "Goal": 3,
          "No Goal": 17,
          "Percent Goal": 11.538461538461538,
          "num opponents within 5 yards": 6
         },
         {
          "Goal": 0,
          "No Goal": 2,
          "Percent Goal": 0,
          "num opponents within 5 yards": 7
         }
        ]
       },
       "encoding": {
        "x": {
         "axis": {
          "labelAngle": 0,
          "title": "num opponents within 5 yards"
         },
         "field": "num opponents within 5 yards",
         "type": "nominal"
        },
        "y": {
         "axis": {
          "title": "Percent Goal"
         },
         "field": "Percent Goal",
         "type": "quantitative"
        }
       },
       "height": 300,
       "mark": "bar",
       "title": "Percent Goal vs num opponents within 5 yards",
       "width": 850
      },
      "image/png": "[encoded data removed]",
      "text/plain": [
       "<VegaLite 3 object>\n",
       "\n",
       "If you see this message, it means the renderer has not been properly enabled\n",
       "for the frontend that you are using. For more information, see\n",
       "https://altair-viz.github.io/user_guide/troubleshooting.html\n"
      ]
     },
     "execution_count": 15,
     "metadata": {},
     "output_type": "execute_result"
    }
   ],
   "source": [
    "plot_percent_goal_vs_attr(\"num opponents within 5 yards\", \"bar\")"
   ]
  },
  {
   "cell_type": "markdown",
   "metadata": {},
   "source": [
    "**Comments:**\n",
    "\n",
    "We see a similar trend for rate of goals scored vs number of opponents within 5 yards of shot location."
   ]
  },
  {
   "cell_type": "markdown",
   "metadata": {},
   "source": [
    "#### 2.3.3 Percent goals by player pattern"
   ]
  },
  {
   "cell_type": "code",
   "execution_count": 16,
   "metadata": {},
   "outputs": [
    {
     "data": {
      "application/vnd.vegalite.v3+json": {
       "$schema": "https://vega.github.io/schema/vega-lite/v3.4.0.json",
       "config": {
        "axis": {
         "labelFontSize": 13,
         "titleFontSize": 15
        },
        "mark": {
         "tooltip": null
        },
        "title": {
         "fontSize": 16
        },
        "view": {
         "height": 300,
         "width": 400
        }
       },
       "data": {
        "name": "data-c5a1d8fee632796093a3ca56b7ab6854"
       },
       "datasets": {
        "data-c5a1d8fee632796093a3ca56b7ab6854": [
         {
          "Goal": 91,
          "No Goal": 900,
          "Percent Goal": 9.182643794147326,
          "play pattern": "From Corner"
         },
         {
          "Goal": 68,
          "No Goal": 255,
          "Percent Goal": 21.05263157894737,
          "play pattern": "From Counter"
         },
         {
          "Goal": 211,
          "No Goal": 1516,
          "Percent Goal": 12.217718587145338,
          "play pattern": "From Free Kick"
         },
         {
          "Goal": 37,
          "No Goal": 217,
          "Percent Goal": 14.566929133858268,
          "play pattern": "From Goal Kick"
         },
         {
          "Goal": 5,
          "No Goal": 84,
          "Percent Goal": 5.617977528089888,
          "play pattern": "From Keeper"
         },
         {
          "Goal": 9,
          "No Goal": 70,
          "Percent Goal": 11.39240506329114,
          "play pattern": "From Kick Off"
         },
         {
          "Goal": 132,
          "No Goal": 922,
          "Percent Goal": 12.523719165085389,
          "play pattern": "From Throw In"
         },
         {
          "Goal": 80,
          "No Goal": 31,
          "Percent Goal": 72.07207207207207,
          "play pattern": "Other"
         },
         {
          "Goal": 401,
          "No Goal": 2171,
          "Percent Goal": 15.590979782270606,
          "play pattern": "Regular Play"
         }
        ]
       },
       "encoding": {
        "x": {
         "axis": {
          "labelAngle": 0,
          "title": "play pattern"
         },
         "field": "play pattern",
         "type": "nominal"
        },
        "y": {
         "axis": {
          "title": "Percent Goal"
         },
         "field": "Percent Goal",
         "type": "quantitative"
        }
       },
       "height": 300,
       "mark": "bar",
       "title": "Percent Goal vs play pattern",
       "width": 850
      },
      "image/png": "[encoded data removed]",
      "text/plain": [
       "<VegaLite 3 object>\n",
       "\n",
       "If you see this message, it means the renderer has not been properly enabled\n",
       "for the frontend that you are using. For more information, see\n",
       "https://altair-viz.github.io/user_guide/troubleshooting.html\n"
      ]
     },
     "execution_count": 16,
     "metadata": {},
     "output_type": "execute_result"
    }
   ],
   "source": [
    "plot_percent_goal_vs_attr(\"play pattern\", \"bar\")"
   ]
  },
  {
   "cell_type": "markdown",
   "metadata": {},
   "source": [
    "**Comments:**\n",
    "\n",
    "For goal scoring rate by _play pattern_, we see that \"other\" has a very large percent goals scored value. This tells us that \"other\" refers to penalties. Aside from \"other\", we can see that shots from counter attacks have a larger chance to produce a goal than any other play pattern, probably because counter attacks mean that the opposition is much less organized, resulting in more space. To be sure, we can check this below:"
   ]
  },
  {
   "cell_type": "code",
   "execution_count": 17,
   "metadata": {},
   "outputs": [
    {
     "data": {
      "application/vnd.vegalite.v3+json": {
       "$schema": "https://vega.github.io/schema/vega-lite/v3.4.0.json",
       "config": {
        "axis": {
         "labelFontSize": 13,
         "titleFontSize": 15
        },
        "mark": {
         "tooltip": null
        },
        "title": {
         "fontSize": 16
        },
        "view": {
         "height": 300,
         "width": 400
        }
       },
       "data": {
        "name": "data-f61aa677d5d553d5791da69006d8e7e2"
       },
       "datasets": {
        "data-f61aa677d5d553d5791da69006d8e7e2": [
         {
          "Distance from goal": 15.78885041915199,
          "duration": 0.8159886922300701,
          "first time": 0.3168516649848638,
          "num opponents between shot and goal": 0.9606458123107972,
          "num opponents within 5 yards": 2.0978809283551967,
          "outcome": 0.09182643794147326,
          "play pattern": "From Corner",
          "statsbomb xg": 0.09749736662411715,
          "x gk position": 118.54117053481335,
          "x start location": 106.61241170534824,
          "y gk position": 39.92643794147331,
          "y start location": 39.77709384460134
         },
         {
          "Distance from goal": 17.269880732673705,
          "duration": 0.6758656284829716,
          "first time": 0.2724458204334365,
          "num opponents between shot and goal": 0.2476780185758514,
          "num opponents within 5 yards": 1.4767801857585139,
          "outcome": 0.21052631578947367,
          "play pattern": "From Counter",
          "statsbomb xg": 0.19709003526625402,
          "x gk position": 115.6863777089783,
          "x start location": 106.16873065015477,
          "y gk position": 39.44922600619189,
          "y start location": 38.408049535603695
         },
         {
          "Distance from goal": 22.094665453720236,
          "duration": 0.833522628836131,
          "first time": 0.24203821656050956,
          "num opponents between shot and goal": 1.3439490445859872,
          "num opponents within 5 yards": 1.1951360741169659,
          "outcome": 0.12217718587145339,
          "play pattern": "From Free Kick",
          "statsbomb xg": 0.09911450413624805,
          "x gk position": 118.07104806022022,
          "x start location": 100.71974522292992,
          "y gk position": 40.062594093804336,
          "y start location": 39.63740590619562
         },
         {
          "Distance from goal": 19.70365502298946,
          "duration": 0.7642569803149605,
          "first time": 0.33070866141732286,
          "num opponents between shot and goal": 0.5,
          "num opponents within 5 yards": 1.6141732283464567,
          "outcome": 0.14566929133858267,
          "play pattern": "From Goal Kick",
          "statsbomb xg": 0.12124502695078736,
          "x gk position": 117.48779527559056,
          "x start location": 103.60669291338584,
          "y gk position": 39.84251968503937,
          "y start location": 39.578740157480304
         },
         {
          "Distance from goal": 20.2946675227337,
          "duration": 0.7421842134831462,
          "first time": 0.3146067415730337,
          "num opponents between shot and goal": 0.5168539325842697,
          "num opponents within 5 yards": 1.696629213483146,
          "outcome": 0.056179775280898875,
          "play pattern": "From Keeper",
          "statsbomb xg": 0.11445891412359552,
          "x gk position": 116.90112359550561,
          "x start location": 102.42921348314607,
          "y gk position": 40.020224719101115,
          "y start location": 39.386516853932584
         },
         {
          "Distance from goal": 20.86314032036173,
          "duration": 0.8700342784810129,
          "first time": 0.25316455696202533,
          "num opponents between shot and goal": 0.5063291139240507,
          "num opponents within 5 yards": 1.5696202531645569,
          "outcome": 0.11392405063291139,
          "play pattern": "From Kick Off",
          "statsbomb xg": 0.08340070263291138,
          "x gk position": 117.84683544303802,
          "x start location": 102.42658227848104,
          "y gk position": 40.16075949367088,
          "y start location": 40.258227848101264
         },
         {
          "Distance from goal": 19.39921232346959,
          "duration": 0.7817646622390907,
          "first time": 0.3548387096774194,
          "num opponents between shot and goal": 0.4857685009487666,
          "num opponents within 5 yards": 1.5768500948766604,
          "outcome": 0.1252371916508539,
          "play pattern": "From Throw In",
          "statsbomb xg": 0.11654360204506634,
          "x gk position": 117.76271347248598,
          "x start location": 103.77419354838709,
          "y gk position": 39.90123339658439,
          "y start location": 39.27324478178371
         },
         {
          "Distance from goal": 11.94846048668766,
          "duration": 0.6045827477477476,
          "first time": 0.04504504504504504,
          "num opponents between shot and goal": 0.04504504504504504,
          "num opponents within 5 yards": 0.18018018018018017,
          "outcome": 0.7207207207207207,
          "play pattern": "Other",
          "statsbomb xg": 0.712761495495496,
          "x gk position": 119.76306306306307,
          "x start location": 108.22882882882891,
          "y gk position": 40.08648648648649,
          "y start location": 40.136936936936934
         },
         {
          "Distance from goal": 19.06829940950695,
          "duration": 0.7798826524105764,
          "first time": 0.3320373250388802,
          "num opponents between shot and goal": 0.4797822706065319,
          "num opponents within 5 yards": 1.500777604976672,
          "outcome": 0.15590979782270606,
          "play pattern": "Regular Play",
          "statsbomb xg": 0.13552517026224728,
          "x gk position": 117.31073094867826,
          "x start location": 104.07822706065328,
          "y gk position": 39.825038880248904,
          "y start location": 39.06920684292381
         }
        ]
       },
       "encoding": {
        "x": {
         "axis": {
          "labelAngle": 0,
          "title": "player pattern"
         },
         "field": "play pattern",
         "type": "nominal"
        },
        "y": {
         "axis": {
          "title": "mean num opponents within 5 yards"
         },
         "field": "num opponents within 5 yards",
         "type": "quantitative"
        }
       },
       "height": 300,
       "mark": "bar",
       "title": "mean num opponents whithin 5 yards by play pattern",
       "width": 850
      },
      "image/png": "[encoded data removed]",
      "text/plain": [
       "<VegaLite 3 object>\n",
       "\n",
       "If you see this message, it means the renderer has not been properly enabled\n",
       "for the frontend that you are using. For more information, see\n",
       "https://altair-viz.github.io/user_guide/troubleshooting.html\n"
      ]
     },
     "execution_count": 17,
     "metadata": {},
     "output_type": "execute_result"
    }
   ],
   "source": [
    "alt.Chart(shot_training_set.groupby(\"play pattern\").mean().reset_index()).mark_bar().encode(\n",
    "        alt.X('play pattern:N', axis = alt.Axis(title = \"player pattern\", labelAngle = 0)),\n",
    "        alt.Y('num opponents within 5 yards:Q', axis = alt.Axis(title = 'mean num opponents within 5 yards'))\n",
    ").properties(width = 850, height = 300, \n",
    "             title = \"mean num opponents whithin 5 yards by play pattern\"\n",
    ").configure_axis(labelFontSize = 13, titleFontSize = 15\n",
    ").configure_title(fontSize = 16)"
   ]
  },
  {
   "cell_type": "markdown",
   "metadata": {},
   "source": [
    "Ok, so actually, shots resulting from counters, on average, don't have less players within 5 yards of the shot location than other play patterns. What about number of opponents between the shot location and the goal?"
   ]
  },
  {
   "cell_type": "code",
   "execution_count": 18,
   "metadata": {},
   "outputs": [
    {
     "data": {
      "application/vnd.vegalite.v3+json": {
       "$schema": "https://vega.github.io/schema/vega-lite/v3.4.0.json",
       "config": {
        "axis": {
         "labelFontSize": 13,
         "titleFontSize": 15
        },
        "mark": {
         "tooltip": null
        },
        "title": {
         "fontSize": 16
        },
        "view": {
         "height": 300,
         "width": 400
        }
       },
       "data": {
        "name": "data-f61aa677d5d553d5791da69006d8e7e2"
       },
       "datasets": {
        "data-f61aa677d5d553d5791da69006d8e7e2": [
         {
          "Distance from goal": 15.78885041915199,
          "duration": 0.8159886922300701,
          "first time": 0.3168516649848638,
          "num opponents between shot and goal": 0.9606458123107972,
          "num opponents within 5 yards": 2.0978809283551967,
          "outcome": 0.09182643794147326,
          "play pattern": "From Corner",
          "statsbomb xg": 0.09749736662411715,
          "x gk position": 118.54117053481335,
          "x start location": 106.61241170534824,
          "y gk position": 39.92643794147331,
          "y start location": 39.77709384460134
         },
         {
          "Distance from goal": 17.269880732673705,
          "duration": 0.6758656284829716,
          "first time": 0.2724458204334365,
          "num opponents between shot and goal": 0.2476780185758514,
          "num opponents within 5 yards": 1.4767801857585139,
          "outcome": 0.21052631578947367,
          "play pattern": "From Counter",
          "statsbomb xg": 0.19709003526625402,
          "x gk position": 115.6863777089783,
          "x start location": 106.16873065015477,
          "y gk position": 39.44922600619189,
          "y start location": 38.408049535603695
         },
         {
          "Distance from goal": 22.094665453720236,
          "duration": 0.833522628836131,
          "first time": 0.24203821656050956,
          "num opponents between shot and goal": 1.3439490445859872,
          "num opponents within 5 yards": 1.1951360741169659,
          "outcome": 0.12217718587145339,
          "play pattern": "From Free Kick",
          "statsbomb xg": 0.09911450413624805,
          "x gk position": 118.07104806022022,
          "x start location": 100.71974522292992,
          "y gk position": 40.062594093804336,
          "y start location": 39.63740590619562
         },
         {
          "Distance from goal": 19.70365502298946,
          "duration": 0.7642569803149605,
          "first time": 0.33070866141732286,
          "num opponents between shot and goal": 0.5,
          "num opponents within 5 yards": 1.6141732283464567,
          "outcome": 0.14566929133858267,
          "play pattern": "From Goal Kick",
          "statsbomb xg": 0.12124502695078736,
          "x gk position": 117.48779527559056,
          "x start location": 103.60669291338584,
          "y gk position": 39.84251968503937,
          "y start location": 39.578740157480304
         },
         {
          "Distance from goal": 20.2946675227337,
          "duration": 0.7421842134831462,
          "first time": 0.3146067415730337,
          "num opponents between shot and goal": 0.5168539325842697,
          "num opponents within 5 yards": 1.696629213483146,
          "outcome": 0.056179775280898875,
          "play pattern": "From Keeper",
          "statsbomb xg": 0.11445891412359552,
          "x gk position": 116.90112359550561,
          "x start location": 102.42921348314607,
          "y gk position": 40.020224719101115,
          "y start location": 39.386516853932584
         },
         {
          "Distance from goal": 20.86314032036173,
          "duration": 0.8700342784810129,
          "first time": 0.25316455696202533,
          "num opponents between shot and goal": 0.5063291139240507,
          "num opponents within 5 yards": 1.5696202531645569,
          "outcome": 0.11392405063291139,
          "play pattern": "From Kick Off",
          "statsbomb xg": 0.08340070263291138,
          "x gk position": 117.84683544303802,
          "x start location": 102.42658227848104,
          "y gk position": 40.16075949367088,
          "y start location": 40.258227848101264
         },
         {
          "Distance from goal": 19.39921232346959,
          "duration": 0.7817646622390907,
          "first time": 0.3548387096774194,
          "num opponents between shot and goal": 0.4857685009487666,
          "num opponents within 5 yards": 1.5768500948766604,
          "outcome": 0.1252371916508539,
          "play pattern": "From Throw In",
          "statsbomb xg": 0.11654360204506634,
          "x gk position": 117.76271347248598,
          "x start location": 103.77419354838709,
          "y gk position": 39.90123339658439,
          "y start location": 39.27324478178371
         },
         {
          "Distance from goal": 11.94846048668766,
          "duration": 0.6045827477477476,
          "first time": 0.04504504504504504,
          "num opponents between shot and goal": 0.04504504504504504,
          "num opponents within 5 yards": 0.18018018018018017,
          "outcome": 0.7207207207207207,
          "play pattern": "Other",
          "statsbomb xg": 0.712761495495496,
          "x gk position": 119.76306306306307,
          "x start location": 108.22882882882891,
          "y gk position": 40.08648648648649,
          "y start location": 40.136936936936934
         },
         {
          "Distance from goal": 19.06829940950695,
          "duration": 0.7798826524105764,
          "first time": 0.3320373250388802,
          "num opponents between shot and goal": 0.4797822706065319,
          "num opponents within 5 yards": 1.500777604976672,
          "outcome": 0.15590979782270606,
          "play pattern": "Regular Play",
          "statsbomb xg": 0.13552517026224728,
          "x gk position": 117.31073094867826,
          "x start location": 104.07822706065328,
          "y gk position": 39.825038880248904,
          "y start location": 39.06920684292381
         }
        ]
       },
       "encoding": {
        "x": {
         "axis": {
          "labelAngle": 0,
          "title": "play pattern"
         },
         "field": "play pattern",
         "type": "nominal"
        },
        "y": {
         "axis": {
          "title": "num opponents between shot and goal"
         },
         "field": "num opponents between shot and goal",
         "type": "quantitative"
        }
       },
       "height": 300,
       "mark": "bar",
       "title": "mean num opponents between shot and goal by play pattern",
       "width": 850
      },
      "image/png": "[encoded data removed]",
      "text/plain": [
       "<VegaLite 3 object>\n",
       "\n",
       "If you see this message, it means the renderer has not been properly enabled\n",
       "for the frontend that you are using. For more information, see\n",
       "https://altair-viz.github.io/user_guide/troubleshooting.html\n"
      ]
     },
     "execution_count": 18,
     "metadata": {},
     "output_type": "execute_result"
    }
   ],
   "source": [
    "alt.Chart(shot_training_set.groupby(\"play pattern\").mean().reset_index()).mark_bar().encode(\n",
    "        alt.X('play pattern:N', axis = alt.Axis(title = \"play pattern\", labelAngle = 0)),\n",
    "        alt.Y('num opponents between shot and goal:Q', axis = alt.Axis(title = 'num opponents between shot and goal'))\n",
    ").properties(width = 850, height = 300, \n",
    "             title = \"mean num opponents between shot and goal by play pattern\"\n",
    ").configure_axis(labelFontSize = 13, titleFontSize = 15\n",
    ").configure_title(fontSize = 16)"
   ]
  },
  {
   "cell_type": "markdown",
   "metadata": {},
   "source": [
    "Right, so we can see that actually, shots resulting from counters result in a higher rate of goals scored because there are less opponents between the shot location and the goal (on average), makes sense. "
   ]
  },
  {
   "cell_type": "markdown",
   "metadata": {},
   "source": [
    "#### 2.3.3 Percent goals by first time "
   ]
  },
  {
   "cell_type": "code",
   "execution_count": 19,
   "metadata": {},
   "outputs": [
    {
     "data": {
      "application/vnd.vegalite.v3+json": {
       "$schema": "https://vega.github.io/schema/vega-lite/v3.4.0.json",
       "config": {
        "axis": {
         "labelFontSize": 13,
         "titleFontSize": 15
        },
        "mark": {
         "tooltip": null
        },
        "title": {
         "fontSize": 16
        },
        "view": {
         "height": 300,
         "width": 400
        }
       },
       "data": {
        "name": "data-f0dfcef5e9e80f5d751862230a0088a5"
       },
       "datasets": {
        "data-f0dfcef5e9e80f5d751862230a0088a5": [
         {
          "Goal": 596,
          "No Goal": 4419,
          "Percent Goal": 11.884346959122633,
          "first time": false
         },
         {
          "Goal": 438,
          "No Goal": 1747,
          "Percent Goal": 20.036596523330285,
          "first time": true
         }
        ]
       },
       "encoding": {
        "x": {
         "axis": {
          "labelAngle": 0,
          "title": "first time"
         },
         "field": "first time",
         "type": "nominal"
        },
        "y": {
         "axis": {
          "title": "Percent Goal"
         },
         "field": "Percent Goal",
         "type": "quantitative"
        }
       },
       "height": 300,
       "mark": "bar",
       "title": "Percent Goal vs first time",
       "width": 850
      },
      "image/png": "[encoded data removed]",
      "text/plain": [
       "<VegaLite 3 object>\n",
       "\n",
       "If you see this message, it means the renderer has not been properly enabled\n",
       "for the frontend that you are using. For more information, see\n",
       "https://altair-viz.github.io/user_guide/troubleshooting.html\n"
      ]
     },
     "execution_count": 19,
     "metadata": {},
     "output_type": "execute_result"
    }
   ],
   "source": [
    "plot_percent_goal_vs_attr(\"first time\", \"bar\")"
   ]
  },
  {
   "cell_type": "markdown",
   "metadata": {},
   "source": [
    "Above, we see that shots taken \"first time\" have a higher chance of resulting in a goal that those not taken first time. If all things were equal, this wouldn't make much intuitive sense. But in this case, shots taken first time likely had other favorable conditions which would increase their chance of resulting in a goal. Let's see if this is true:"
   ]
  },
  {
   "cell_type": "code",
   "execution_count": 20,
   "metadata": {},
   "outputs": [
    {
     "data": {
      "text/html": [
       "<div>\n",
       "<style scoped>\n",
       "    .dataframe tbody tr th:only-of-type {\n",
       "        vertical-align: middle;\n",
       "    }\n",
       "\n",
       "    .dataframe tbody tr th {\n",
       "        vertical-align: top;\n",
       "    }\n",
       "\n",
       "    .dataframe thead th {\n",
       "        text-align: right;\n",
       "    }\n",
       "</style>\n",
       "<table border=\"1\" class=\"dataframe\">\n",
       "  <thead>\n",
       "    <tr style=\"text-align: right;\">\n",
       "      <th></th>\n",
       "      <th>first time</th>\n",
       "      <th>x start location</th>\n",
       "      <th>y start location</th>\n",
       "      <th>duration</th>\n",
       "      <th>x gk position</th>\n",
       "      <th>y gk position</th>\n",
       "      <th>num opponents within 5 yards</th>\n",
       "      <th>num opponents between shot and goal</th>\n",
       "      <th>statsbomb xg</th>\n",
       "      <th>Distance from goal</th>\n",
       "      <th>outcome</th>\n",
       "    </tr>\n",
       "  </thead>\n",
       "  <tbody>\n",
       "    <tr>\n",
       "      <th>0</th>\n",
       "      <td>False</td>\n",
       "      <td>102.804447</td>\n",
       "      <td>39.141117</td>\n",
       "      <td>0.806016</td>\n",
       "      <td>117.811406</td>\n",
       "      <td>39.879043</td>\n",
       "      <td>1.599601</td>\n",
       "      <td>0.769691</td>\n",
       "      <td>0.109608</td>\n",
       "      <td>20.267986</td>\n",
       "      <td>0.118843</td>\n",
       "    </tr>\n",
       "    <tr>\n",
       "      <th>1</th>\n",
       "      <td>True</td>\n",
       "      <td>105.688192</td>\n",
       "      <td>39.844394</td>\n",
       "      <td>0.755207</td>\n",
       "      <td>117.446362</td>\n",
       "      <td>39.951442</td>\n",
       "      <td>1.292906</td>\n",
       "      <td>0.666819</td>\n",
       "      <td>0.173849</td>\n",
       "      <td>16.940191</td>\n",
       "      <td>0.200458</td>\n",
       "    </tr>\n",
       "  </tbody>\n",
       "</table>\n",
       "</div>"
      ],
      "text/plain": [
       "   first time  x start location  y start location  duration  x gk position  \\\n",
       "0       False        102.804447         39.141117  0.806016     117.811406   \n",
       "1        True        105.688192         39.844394  0.755207     117.446362   \n",
       "\n",
       "   y gk position  num opponents within 5 yards  \\\n",
       "0      39.879043                      1.599601   \n",
       "1      39.951442                      1.292906   \n",
       "\n",
       "   num opponents between shot and goal  statsbomb xg  Distance from goal  \\\n",
       "0                             0.769691      0.109608           20.267986   \n",
       "1                             0.666819      0.173849           16.940191   \n",
       "\n",
       "    outcome  \n",
       "0  0.118843  \n",
       "1  0.200458  "
      ]
     },
     "execution_count": 20,
     "metadata": {},
     "output_type": "execute_result"
    }
   ],
   "source": [
    "shot_training_set.groupby(\"first time\").mean().reset_index()"
   ]
  },
  {
   "cell_type": "code",
   "execution_count": 21,
   "metadata": {},
   "outputs": [
    {
     "data": {
      "application/vnd.vegalite.v3+json": {
       "$schema": "https://vega.github.io/schema/vega-lite/v3.4.0.json",
       "config": {
        "axis": {
         "labelFontSize": 13,
         "titleFontSize": 15
        },
        "mark": {
         "tooltip": null
        },
        "title": {
         "fontSize": 16
        },
        "view": {
         "height": 300,
         "width": 400
        }
       },
       "data": {
        "name": "data-bc7541943086e5344e1676dfaa23300c"
       },
       "datasets": {
        "data-bc7541943086e5344e1676dfaa23300c": [
         {
          "Distance from goal": 20.267985681892753,
          "duration": 0.8060161651046851,
          "first time": false,
          "num opponents between shot and goal": 0.769690927218345,
          "num opponents within 5 yards": 1.5996011964107677,
          "outcome": 0.11884346959122633,
          "statsbomb xg": 0.10960847255070762,
          "x gk position": 117.81140578265224,
          "x start location": 102.80444666001956,
          "y gk position": 39.87904287138577,
          "y start location": 39.14111665005001
         },
         {
          "Distance from goal": 16.940191368786373,
          "duration": 0.7552069112128144,
          "first time": true,
          "num opponents between shot and goal": 0.6668192219679634,
          "num opponents within 5 yards": 1.2929061784897025,
          "outcome": 0.20045766590389016,
          "statsbomb xg": 0.17384905569679662,
          "x gk position": 117.44636155606412,
          "x start location": 105.68819221967954,
          "y gk position": 39.95144164759724,
          "y start location": 39.844393592677314
         }
        ]
       },
       "encoding": {
        "x": {
         "axis": {
          "labelAngle": 0,
          "title": "first time"
         },
         "field": "first time",
         "type": "nominal"
        },
        "y": {
         "axis": {
          "title": "Distance from goal"
         },
         "field": "Distance from goal",
         "type": "quantitative"
        }
       },
       "height": 300,
       "mark": "bar",
       "title": "Mean distance from goal for shots taken first time vs not taken first time",
       "width": 850
      },
      "image/png": "[encoded data removed]",
      "text/plain": [
       "<VegaLite 3 object>\n",
       "\n",
       "If you see this message, it means the renderer has not been properly enabled\n",
       "for the frontend that you are using. For more information, see\n",
       "https://altair-viz.github.io/user_guide/troubleshooting.html\n"
      ]
     },
     "execution_count": 21,
     "metadata": {},
     "output_type": "execute_result"
    }
   ],
   "source": [
    "alt.Chart(shot_training_set.groupby(\"first time\").mean().reset_index()).mark_bar().encode(\n",
    "        alt.X('first time:N', axis = alt.Axis(title = \"first time\", labelAngle = 0)),\n",
    "        alt.Y('Distance from goal:Q', axis = alt.Axis(title = 'Distance from goal'))\n",
    ").properties(width = 850, height = 300, \n",
    "             title = \"Mean distance from goal for shots taken first time vs not taken first time\"\n",
    ").configure_axis(labelFontSize = 13, titleFontSize = 15\n",
    ").configure_title(fontSize = 16)"
   ]
  },
  {
   "cell_type": "code",
   "execution_count": 22,
   "metadata": {},
   "outputs": [
    {
     "data": {
      "application/vnd.vegalite.v3+json": {
       "$schema": "https://vega.github.io/schema/vega-lite/v3.4.0.json",
       "config": {
        "axis": {
         "labelFontSize": 13,
         "titleFontSize": 15
        },
        "mark": {
         "tooltip": null
        },
        "title": {
         "fontSize": 16
        },
        "view": {
         "height": 300,
         "width": 400
        }
       },
       "data": {
        "name": "data-bc7541943086e5344e1676dfaa23300c"
       },
       "datasets": {
        "data-bc7541943086e5344e1676dfaa23300c": [
         {
          "Distance from goal": 20.267985681892753,
          "duration": 0.8060161651046851,
          "first time": false,
          "num opponents between shot and goal": 0.769690927218345,
          "num opponents within 5 yards": 1.5996011964107677,
          "outcome": 0.11884346959122633,
          "statsbomb xg": 0.10960847255070762,
          "x gk position": 117.81140578265224,
          "x start location": 102.80444666001956,
          "y gk position": 39.87904287138577,
          "y start location": 39.14111665005001
         },
         {
          "Distance from goal": 16.940191368786373,
          "duration": 0.7552069112128144,
          "first time": true,
          "num opponents between shot and goal": 0.6668192219679634,
          "num opponents within 5 yards": 1.2929061784897025,
          "outcome": 0.20045766590389016,
          "statsbomb xg": 0.17384905569679662,
          "x gk position": 117.44636155606412,
          "x start location": 105.68819221967954,
          "y gk position": 39.95144164759724,
          "y start location": 39.844393592677314
         }
        ]
       },
       "encoding": {
        "x": {
         "axis": {
          "labelAngle": 0,
          "title": "player pattern"
         },
         "field": "first time",
         "type": "nominal"
        },
        "y": {
         "axis": {
          "title": "mean num opponents within 5 yards"
         },
         "field": "num opponents within 5 yards",
         "type": "quantitative"
        }
       },
       "height": 300,
       "mark": "bar",
       "title": "Mean num opponents within 5 yards for shots taken first time vs not taken first time",
       "width": 850
      },
      "image/png": "[encoded data removed]",
      "text/plain": [
       "<VegaLite 3 object>\n",
       "\n",
       "If you see this message, it means the renderer has not been properly enabled\n",
       "for the frontend that you are using. For more information, see\n",
       "https://altair-viz.github.io/user_guide/troubleshooting.html\n"
      ]
     },
     "execution_count": 22,
     "metadata": {},
     "output_type": "execute_result"
    }
   ],
   "source": [
    "alt.Chart(shot_training_set.groupby(\"first time\").mean().reset_index()).mark_bar().encode(\n",
    "        alt.X('first time:N', axis = alt.Axis(title = \"player pattern\", labelAngle = 0)),\n",
    "        alt.Y('num opponents within 5 yards:Q', axis = alt.Axis(title = 'mean num opponents within 5 yards'))\n",
    ").properties(width = 850, height = 300, \n",
    "             title = \"Mean num opponents within 5 yards for shots taken first time vs not taken first time\"\n",
    ").configure_axis(labelFontSize = 13, titleFontSize = 15\n",
    ").configure_title(fontSize = 16)"
   ]
  },
  {
   "cell_type": "code",
   "execution_count": 23,
   "metadata": {},
   "outputs": [
    {
     "data": {
      "application/vnd.vegalite.v3+json": {
       "$schema": "https://vega.github.io/schema/vega-lite/v3.4.0.json",
       "config": {
        "axis": {
         "labelFontSize": 13,
         "titleFontSize": 15
        },
        "mark": {
         "tooltip": null
        },
        "title": {
         "fontSize": 16
        },
        "view": {
         "height": 300,
         "width": 400
        }
       },
       "data": {
        "name": "data-bc7541943086e5344e1676dfaa23300c"
       },
       "datasets": {
        "data-bc7541943086e5344e1676dfaa23300c": [
         {
          "Distance from goal": 20.267985681892753,
          "duration": 0.8060161651046851,
          "first time": false,
          "num opponents between shot and goal": 0.769690927218345,
          "num opponents within 5 yards": 1.5996011964107677,
          "outcome": 0.11884346959122633,
          "statsbomb xg": 0.10960847255070762,
          "x gk position": 117.81140578265224,
          "x start location": 102.80444666001956,
          "y gk position": 39.87904287138577,
          "y start location": 39.14111665005001
         },
         {
          "Distance from goal": 16.940191368786373,
          "duration": 0.7552069112128144,
          "first time": true,
          "num opponents between shot and goal": 0.6668192219679634,
          "num opponents within 5 yards": 1.2929061784897025,
          "outcome": 0.20045766590389016,
          "statsbomb xg": 0.17384905569679662,
          "x gk position": 117.44636155606412,
          "x start location": 105.68819221967954,
          "y gk position": 39.95144164759724,
          "y start location": 39.844393592677314
         }
        ]
       },
       "encoding": {
        "x": {
         "axis": {
          "labelAngle": 0,
          "title": "player pattern"
         },
         "field": "first time",
         "type": "nominal"
        },
        "y": {
         "axis": {
          "title": "num opponents between shot and goal"
         },
         "field": "num opponents between shot and goal",
         "type": "quantitative"
        }
       },
       "height": 300,
       "mark": "bar",
       "title": "Mean num opponents between shot and goal for shots taken first time vs not taken first time",
       "width": 850
      },
      "image/png": "[encoded data removed]",
      "text/plain": [
       "<VegaLite 3 object>\n",
       "\n",
       "If you see this message, it means the renderer has not been properly enabled\n",
       "for the frontend that you are using. For more information, see\n",
       "https://altair-viz.github.io/user_guide/troubleshooting.html\n"
      ]
     },
     "execution_count": 23,
     "metadata": {},
     "output_type": "execute_result"
    }
   ],
   "source": [
    "alt.Chart(shot_training_set.groupby(\"first time\").mean().reset_index()).mark_bar().encode(\n",
    "        alt.X('first time:N', axis = alt.Axis(title = \"player pattern\", labelAngle = 0)),\n",
    "        alt.Y('num opponents between shot and goal:Q', axis = alt.Axis(title = 'num opponents between shot and goal'))\n",
    ").properties(width = 850, height = 300, \n",
    "             title = \"Mean num opponents between shot and goal for shots taken first time vs not taken first time\"\n",
    ").configure_axis(labelFontSize = 13, titleFontSize = 15\n",
    ").configure_title(fontSize = 16)"
   ]
  },
  {
   "cell_type": "markdown",
   "metadata": {},
   "source": [
    "So just as we guessed, shots taken first time are, on average, slightly closer to the goal and are taken with less opponents between the shot location and the goal, and within 5 yards of the shot location.\n",
    "\n",
    "#### 2.3.4 Percent goal by distance"
   ]
  },
  {
   "cell_type": "code",
   "execution_count": 131,
   "metadata": {},
   "outputs": [
    {
     "name": "stderr",
     "output_type": "stream",
     "text": [
      "/Users/robertblumberg/anaconda3/lib/python3.7/site-packages/ipykernel_launcher.py:2: SettingWithCopyWarning: \n",
      "A value is trying to be set on a copy of a slice from a DataFrame.\n",
      "Try using .loc[row_indexer,col_indexer] = value instead\n",
      "\n",
      "See the caveats in the documentation: http://pandas.pydata.org/pandas-docs/stable/user_guide/indexing.html#returning-a-view-versus-a-copy\n",
      "  \n"
     ]
    },
    {
     "data": {
      "image/png": "[encoded data removed]",
      "text/plain": [
       "<Figure size 1440x576 with 1 Axes>"
      ]
     },
     "metadata": {
      "needs_background": "light"
     },
     "output_type": "display_data"
    }
   ],
   "source": [
    "distance_vs_outcome = shot_training_set[[\"Distance from goal\", \"outcome\"]]\n",
    "distance_vs_outcome[\"Distance from goal\"] = distance_vs_outcome.apply(lambda x: x//5)\n",
    "outcome_by_dist = distance_vs_outcome.groupby(\"Distance from goal\").mean().reset_index().iloc[0:9]\n",
    "\n",
    "fig, ax = plt.subplots(1, 1, figsize=(20, 8))\n",
    "ax.bar(outcome_by_dist[\"Distance from goal\"], outcome_by_dist[\"outcome\"])\n",
    "ax.set_xticks(range(8))\n",
    "ax.set_xticklabels([\"0-5\", \"5-10\", \"10-15\", \"15-20\", \"20-25\", \"25-30\", \"30-35\", \"35-40\", \"40-45\"], size=14)\n",
    "ax.set_xlabel(\"Distance from goal (yards)\", size=16)\n",
    "ax.set_ylabel(\"Percent Goal\", size=16)\n",
    "ax.tick_params(labelsize=14)"
   ]
  },
  {
   "cell_type": "markdown",
   "metadata": {},
   "source": [
    "## 3. Data preprocessing"
   ]
  },
  {
   "cell_type": "markdown",
   "metadata": {},
   "source": [
    "So in the previous section, we explored our data, and most of our findings made intuitive sense. Now, we will create pipelines for preprocessing the categorical and numerical attributes in our shot data frame, then combine the two pipelines. To refresh our memories, here is the shot data frame again:"
   ]
  },
  {
   "cell_type": "code",
   "execution_count": 24,
   "metadata": {},
   "outputs": [
    {
     "data": {
      "text/html": [
       "<div>\n",
       "<style scoped>\n",
       "    .dataframe tbody tr th:only-of-type {\n",
       "        vertical-align: middle;\n",
       "    }\n",
       "\n",
       "    .dataframe tbody tr th {\n",
       "        vertical-align: top;\n",
       "    }\n",
       "\n",
       "    .dataframe thead th {\n",
       "        text-align: right;\n",
       "    }\n",
       "</style>\n",
       "<table border=\"1\" class=\"dataframe\">\n",
       "  <thead>\n",
       "    <tr style=\"text-align: right;\">\n",
       "      <th></th>\n",
       "      <th>play pattern</th>\n",
       "      <th>x start location</th>\n",
       "      <th>y start location</th>\n",
       "      <th>duration</th>\n",
       "      <th>technique</th>\n",
       "      <th>first time</th>\n",
       "      <th>x gk position</th>\n",
       "      <th>y gk position</th>\n",
       "      <th>type of shot</th>\n",
       "      <th>num opponents within 5 yards</th>\n",
       "      <th>num opponents between shot and goal</th>\n",
       "      <th>statsbomb xg</th>\n",
       "      <th>game_id</th>\n",
       "      <th>season_id</th>\n",
       "      <th>Distance from goal</th>\n",
       "      <th>outcome</th>\n",
       "    </tr>\n",
       "    <tr>\n",
       "      <th>shot id</th>\n",
       "      <th></th>\n",
       "      <th></th>\n",
       "      <th></th>\n",
       "      <th></th>\n",
       "      <th></th>\n",
       "      <th></th>\n",
       "      <th></th>\n",
       "      <th></th>\n",
       "      <th></th>\n",
       "      <th></th>\n",
       "      <th></th>\n",
       "      <th></th>\n",
       "      <th></th>\n",
       "      <th></th>\n",
       "      <th></th>\n",
       "      <th></th>\n",
       "    </tr>\n",
       "  </thead>\n",
       "  <tbody>\n",
       "    <tr>\n",
       "      <th>150b9f60-4203-4b53-84a9-03138957157e</th>\n",
       "      <td>From Goal Kick</td>\n",
       "      <td>102.1</td>\n",
       "      <td>61.9</td>\n",
       "      <td>0.047800</td>\n",
       "      <td>Normal</td>\n",
       "      <td>False</td>\n",
       "      <td>118.2</td>\n",
       "      <td>42.8</td>\n",
       "      <td>Open Play</td>\n",
       "      <td>2</td>\n",
       "      <td>1</td>\n",
       "      <td>0.014462</td>\n",
       "      <td>69300</td>\n",
       "      <td>2010/2011</td>\n",
       "      <td>28.284625</td>\n",
       "      <td>0</td>\n",
       "    </tr>\n",
       "    <tr>\n",
       "      <th>0eecdf24-721d-4c02-bb18-2f0260d7d46d</th>\n",
       "      <td>Regular Play</td>\n",
       "      <td>107.5</td>\n",
       "      <td>41.7</td>\n",
       "      <td>0.870800</td>\n",
       "      <td>Volley</td>\n",
       "      <td>False</td>\n",
       "      <td>119.4</td>\n",
       "      <td>41.0</td>\n",
       "      <td>Open Play</td>\n",
       "      <td>2</td>\n",
       "      <td>0</td>\n",
       "      <td>0.107694</td>\n",
       "      <td>266166</td>\n",
       "      <td>2015/2016</td>\n",
       "      <td>12.615070</td>\n",
       "      <td>0</td>\n",
       "    </tr>\n",
       "    <tr>\n",
       "      <th>737c41b0-c65a-4e16-93a9-920f0289963b</th>\n",
       "      <td>From Free Kick</td>\n",
       "      <td>112.8</td>\n",
       "      <td>45.6</td>\n",
       "      <td>1.369021</td>\n",
       "      <td>Normal</td>\n",
       "      <td>False</td>\n",
       "      <td>119.5</td>\n",
       "      <td>42.8</td>\n",
       "      <td>Open Play</td>\n",
       "      <td>4</td>\n",
       "      <td>1</td>\n",
       "      <td>0.056378</td>\n",
       "      <td>68356</td>\n",
       "      <td>2007/2008</td>\n",
       "      <td>9.121403</td>\n",
       "      <td>0</td>\n",
       "    </tr>\n",
       "    <tr>\n",
       "      <th>0d1a84f7-1467-4943-9d44-09481ee361ad</th>\n",
       "      <td>Regular Play</td>\n",
       "      <td>105.6</td>\n",
       "      <td>40.1</td>\n",
       "      <td>0.757190</td>\n",
       "      <td>Normal</td>\n",
       "      <td>True</td>\n",
       "      <td>119.0</td>\n",
       "      <td>40.2</td>\n",
       "      <td>Open Play</td>\n",
       "      <td>2</td>\n",
       "      <td>0</td>\n",
       "      <td>0.135804</td>\n",
       "      <td>68319</td>\n",
       "      <td>2005/2006</td>\n",
       "      <td>14.400347</td>\n",
       "      <td>0</td>\n",
       "    </tr>\n",
       "    <tr>\n",
       "      <th>6743f414-f0f2-439e-94a5-08a64cb31fec</th>\n",
       "      <td>From Corner</td>\n",
       "      <td>109.6</td>\n",
       "      <td>55.9</td>\n",
       "      <td>0.437300</td>\n",
       "      <td>Normal</td>\n",
       "      <td>False</td>\n",
       "      <td>118.9</td>\n",
       "      <td>44.0</td>\n",
       "      <td>Open Play</td>\n",
       "      <td>1</td>\n",
       "      <td>1</td>\n",
       "      <td>0.029796</td>\n",
       "      <td>266106</td>\n",
       "      <td>2015/2016</td>\n",
       "      <td>18.999211</td>\n",
       "      <td>0</td>\n",
       "    </tr>\n",
       "  </tbody>\n",
       "</table>\n",
       "</div>"
      ],
      "text/plain": [
       "                                        play pattern  x start location  \\\n",
       "shot id                                                                  \n",
       "150b9f60-4203-4b53-84a9-03138957157e  From Goal Kick             102.1   \n",
       "0eecdf24-721d-4c02-bb18-2f0260d7d46d    Regular Play             107.5   \n",
       "737c41b0-c65a-4e16-93a9-920f0289963b  From Free Kick             112.8   \n",
       "0d1a84f7-1467-4943-9d44-09481ee361ad    Regular Play             105.6   \n",
       "6743f414-f0f2-439e-94a5-08a64cb31fec     From Corner             109.6   \n",
       "\n",
       "                                      y start location  duration technique  \\\n",
       "shot id                                                                      \n",
       "150b9f60-4203-4b53-84a9-03138957157e              61.9  0.047800    Normal   \n",
       "0eecdf24-721d-4c02-bb18-2f0260d7d46d              41.7  0.870800    Volley   \n",
       "737c41b0-c65a-4e16-93a9-920f0289963b              45.6  1.369021    Normal   \n",
       "0d1a84f7-1467-4943-9d44-09481ee361ad              40.1  0.757190    Normal   \n",
       "6743f414-f0f2-439e-94a5-08a64cb31fec              55.9  0.437300    Normal   \n",
       "\n",
       "                                      first time  x gk position  \\\n",
       "shot id                                                           \n",
       "150b9f60-4203-4b53-84a9-03138957157e       False          118.2   \n",
       "0eecdf24-721d-4c02-bb18-2f0260d7d46d       False          119.4   \n",
       "737c41b0-c65a-4e16-93a9-920f0289963b       False          119.5   \n",
       "0d1a84f7-1467-4943-9d44-09481ee361ad        True          119.0   \n",
       "6743f414-f0f2-439e-94a5-08a64cb31fec       False          118.9   \n",
       "\n",
       "                                      y gk position type of shot  \\\n",
       "shot id                                                            \n",
       "150b9f60-4203-4b53-84a9-03138957157e           42.8    Open Play   \n",
       "0eecdf24-721d-4c02-bb18-2f0260d7d46d           41.0    Open Play   \n",
       "737c41b0-c65a-4e16-93a9-920f0289963b           42.8    Open Play   \n",
       "0d1a84f7-1467-4943-9d44-09481ee361ad           40.2    Open Play   \n",
       "6743f414-f0f2-439e-94a5-08a64cb31fec           44.0    Open Play   \n",
       "\n",
       "                                      num opponents within 5 yards  \\\n",
       "shot id                                                              \n",
       "150b9f60-4203-4b53-84a9-03138957157e                             2   \n",
       "0eecdf24-721d-4c02-bb18-2f0260d7d46d                             2   \n",
       "737c41b0-c65a-4e16-93a9-920f0289963b                             4   \n",
       "0d1a84f7-1467-4943-9d44-09481ee361ad                             2   \n",
       "6743f414-f0f2-439e-94a5-08a64cb31fec                             1   \n",
       "\n",
       "                                      num opponents between shot and goal  \\\n",
       "shot id                                                                     \n",
       "150b9f60-4203-4b53-84a9-03138957157e                                    1   \n",
       "0eecdf24-721d-4c02-bb18-2f0260d7d46d                                    0   \n",
       "737c41b0-c65a-4e16-93a9-920f0289963b                                    1   \n",
       "0d1a84f7-1467-4943-9d44-09481ee361ad                                    0   \n",
       "6743f414-f0f2-439e-94a5-08a64cb31fec                                    1   \n",
       "\n",
       "                                      statsbomb xg game_id  season_id  \\\n",
       "shot id                                                                 \n",
       "150b9f60-4203-4b53-84a9-03138957157e      0.014462   69300  2010/2011   \n",
       "0eecdf24-721d-4c02-bb18-2f0260d7d46d      0.107694  266166  2015/2016   \n",
       "737c41b0-c65a-4e16-93a9-920f0289963b      0.056378   68356  2007/2008   \n",
       "0d1a84f7-1467-4943-9d44-09481ee361ad      0.135804   68319  2005/2006   \n",
       "6743f414-f0f2-439e-94a5-08a64cb31fec      0.029796  266106  2015/2016   \n",
       "\n",
       "                                      Distance from goal  outcome  \n",
       "shot id                                                            \n",
       "150b9f60-4203-4b53-84a9-03138957157e           28.284625        0  \n",
       "0eecdf24-721d-4c02-bb18-2f0260d7d46d           12.615070        0  \n",
       "737c41b0-c65a-4e16-93a9-920f0289963b            9.121403        0  \n",
       "0d1a84f7-1467-4943-9d44-09481ee361ad           14.400347        0  \n",
       "6743f414-f0f2-439e-94a5-08a64cb31fec           18.999211        0  "
      ]
     },
     "execution_count": 24,
     "metadata": {},
     "output_type": "execute_result"
    }
   ],
   "source": [
    "shot_training_set.head()"
   ]
  },
  {
   "cell_type": "markdown",
   "metadata": {},
   "source": [
    "### 3.1 Preprocessing pipeline"
   ]
  },
  {
   "cell_type": "markdown",
   "metadata": {},
   "source": [
    "First, we create a class `AttrSelector`, which has methods `fit` and `transform` that we can use in our pipeline. This method will be use to select the features in our data frame for each pipeline.\n",
    "\n",
    "Also, by making this class a subclass of `BaseEstimator` and `TransformerMixin`, we get the `fit_transform`, `get_params()` and `set_params()` methods as well."
   ]
  },
  {
   "cell_type": "code",
   "execution_count": 25,
   "metadata": {},
   "outputs": [],
   "source": [
    "class AttrSelector(BaseEstimator, TransformerMixin):\n",
    "    \n",
    "    def __init__(self, attributes):\n",
    "        self.attributes = attributes\n",
    "   \n",
    "    def fit(self, attributes):\n",
    "        return self\n",
    "    \n",
    "    def transform(self, X):\n",
    "        return X[self.attributes]"
   ]
  },
  {
   "cell_type": "markdown",
   "metadata": {},
   "source": [
    "Now we will create a function which wraps a categorical and numerical pipeline into one full pipeline.\n",
    "\n",
    "In our categorical pipeline, we will use AttrSelector to select the relevant categorical attributes, stored as a list in the _categorical_shot_attributes_ variable. We then encode the values of each categorical variable as \"One hot vectors\". In our numerical pipeline, we will use AttrSelector to select the relevant numerical attributes, stored as a list in the numerical_shot_attributes variable."
   ]
  },
  {
   "cell_type": "code",
   "execution_count": 26,
   "metadata": {},
   "outputs": [],
   "source": [
    "def full_preprocessing_pipeline(X_train, X_test, categorical_features, numeric_features, fit=True):\n",
    "    \"\"\"\n",
    "    \"\"\"\n",
    "    \n",
    "    categorical_attr_pipeline = Pipeline([\n",
    "        ('selector', AttrSelector(categorical_shot_attributes)),\n",
    "        ('one_hot_encoder',  OneHotEncoder())\n",
    "    ])\n",
    "    \n",
    "    numerical_attr_pipeline = Pipeline([\n",
    "        ('selector', AttrSelector(numerical_shot_attributes)),\n",
    "       #('poly', PolynomialFeatures(2)), \n",
    "        ('std_scaler', StandardScaler())\n",
    "    ])\n",
    "    \n",
    "    combined_pipeline = ColumnTransformer(transformers=[('num', numerical_attr_pipeline, numeric_features),\n",
    "                                                        ('cat', categorical_attr_pipeline, categorical_features)])\n",
    "    \n",
    "    if fit:\n",
    "        X_train_preprocessed = combined_pipeline.fit_transform(X_train)\n",
    "        X_test_preprocessed = combined_pipeline.transform(X_test)\n",
    "    \n",
    "        return X_train_preprocessed, X_test_preprocessed, combined_pipeline\n",
    "    \n",
    "    return combined_pipeline"
   ]
  },
  {
   "cell_type": "code",
   "execution_count": 27,
   "metadata": {},
   "outputs": [],
   "source": [
    "categorical_shot_attributes = [\"play pattern\", \"technique\", \"first time\"]\n",
    "numerical_shot_attributes = [\"x start location\", \"y start location\", \"x gk position\", \"y gk position\", \n",
    "                             \"num opponents within 5 yards\", \"num opponents between shot and goal\", \"Distance from goal\"]\n",
    "\n",
    "X_train_preprocessed, X_valid_preprocessed, preprocessor = full_preprocessing_pipeline(X_train=shot_training_set,\n",
    "                                                                                       X_test=shot_valid_set,\n",
    "                                                                                       categorical_features=categorical_shot_attributes,\n",
    "                                                                                       numeric_features=numerical_shot_attributes,\n",
    "                                                                                       fit=True)"
   ]
  },
  {
   "cell_type": "code",
   "execution_count": 28,
   "metadata": {},
   "outputs": [
    {
     "data": {
      "text/plain": [
       "array([[-0.17634781,  2.23365926,  0.18240403, ...,  0.        ,\n",
       "         1.        ,  0.        ],\n",
       "       [ 0.42651889,  0.23237295,  0.6207216 , ...,  1.        ,\n",
       "         1.        ,  0.        ],\n",
       "       [ 1.01822139,  0.61875991,  0.65724806, ...,  0.        ,\n",
       "         1.        ,  0.        ],\n",
       "       ...,\n",
       "       [ 0.48233988,  0.65838935,  0.21893049, ...,  0.        ,\n",
       "         0.        ,  1.        ],\n",
       "       [-1.10297626, -1.32308225,  0.6207216 , ...,  0.        ,\n",
       "         1.        ,  0.        ],\n",
       "       [-1.05831947, -0.04503307,  0.32850989, ...,  0.        ,\n",
       "         0.        ,  1.        ]])"
      ]
     },
     "execution_count": 28,
     "metadata": {},
     "output_type": "execute_result"
    }
   ],
   "source": [
    "X_train_preprocessed"
   ]
  },
  {
   "cell_type": "markdown",
   "metadata": {},
   "source": [
    "### 3.2 Get transformed features"
   ]
  },
  {
   "cell_type": "code",
   "execution_count": 29,
   "metadata": {},
   "outputs": [],
   "source": [
    "preprocessor\n",
    "categorical_features_transformed = preprocessor.transformers[1][1]['one_hot_encoder'].fit(X_train[categorical_shot_attributes], y_train) \\\n",
    "                                                                                     .get_feature_names(categorical_shot_attributes)\n",
    "\n",
    "#numerical_features_transformed = preprocessor.transformers[0][1]['poly'].fit(X_train[numerical_shot_attributes], y_train) \\\n",
    "#                                                                        .get_feature_names(numerical_shot_attributes)\n",
    "\n",
    "all_features_transformed = list(numerical_shot_attributes) + list(categorical_features_transformed)"
   ]
  },
  {
   "cell_type": "markdown",
   "metadata": {},
   "source": [
    "## 4. Models\n",
    "\n"
   ]
  },
  {
   "cell_type": "markdown",
   "metadata": {},
   "source": [
    "### 4.1 Hyperparameter optimization "
   ]
  },
  {
   "cell_type": "code",
   "execution_count": 30,
   "metadata": {},
   "outputs": [],
   "source": [
    "def hyperparameter_opt(classifier, hyperparameter_dist, X_train, y_train, scoring=\"f1\", n_iter=10):\n",
    "    \"\"\"\n",
    "    Runs randomized hyperparameter search on preprocessed data for specified classifer.\n",
    "        \n",
    "    Arguments:\n",
    "    ----------\n",
    "    classifier (sklearn classifier object)\n",
    "        - classifer we want to optimize\n",
    "    hyperparameter_dist (dict or list of dicts)\n",
    "        - dictionary with parameters names (string) as keys and distributions or lists of hyperparameters to try\n",
    "    X_train (pd.DataFrame)\n",
    "        - training features from UCI's default of credit card clients Data Set.\n",
    "        See here: http://archive.ics.uci.edu/ml/datasets/default+of+credit+card+clients# \n",
    "    y_train (pd.Series)\n",
    "        - training labels from UCI's default of credit card clients Data Set\n",
    "            \n",
    "    Returns:\n",
    "    --------\n",
    "    (tuple) pd.DataFrame with hyperparameter cross validation results, and dict with best hyperparameters\n",
    "    \"\"\" \n",
    "\n",
    "    print(\"Optimizing hyperparameters for {} model...\".format(type(classifier).__name__))\n",
    "    random_search = RandomizedSearchCV(estimator=classifier, param_distributions=hyperparameter_dist, cv=10, verbose=0, scoring=scoring, n_iter=n_iter)\n",
    "    random_search.fit(X_train_preprocessed, y_train)\n",
    "    print(\"Best hyperparameters {0}\".format(random_search.best_params_))\n",
    "    print(\"Best cross validation score {0}\\n\".format(random_search.best_score_))\n",
    "\n",
    "    return pd.DataFrame(random_search.cv_results_), random_search.best_estimator_"
   ]
  },
  {
   "cell_type": "markdown",
   "metadata": {},
   "source": [
    "Now let's optimize some classifers. Below, I am optimizing the hyperparameters using the 'f1-score' metric, since I want a balance of good precision and recall. "
   ]
  },
  {
   "cell_type": "code",
   "execution_count": 31,
   "metadata": {},
   "outputs": [
    {
     "name": "stdout",
     "output_type": "stream",
     "text": [
      "Optimizing hyperparameters for LGBMClassifier model...\n",
      "Best hyperparameters {'learning_rate': 0.35296473649518195, 'max_depth': 1, 'num_leaves': 186}\n",
      "Best cross validation score -0.3225263178134128\n",
      "\n",
      "Optimizing hyperparameters for XGBClassifier model...\n",
      "Best hyperparameters {'eta': 0.5336555536413871, 'max_depth': 3, 'num_leaves': 176}\n",
      "Best cross validation score -0.3198132708534508\n",
      "\n",
      "Optimizing hyperparameters for LogisticRegression model...\n",
      "Best hyperparameters {'C': 8986.518536974181}\n",
      "Best cross validation score -0.3285298350171856\n",
      "\n",
      "Optimizing hyperparameters for RandomForestClassifier model...\n",
      "Best hyperparameters {'n_estimators': 166}\n",
      "Best cross validation score -0.35604581101033195\n",
      "\n"
     ]
    }
   ],
   "source": [
    "classifiers = {\n",
    "    'lightgbm'      : (LGBMClassifier(),                    [{\"max_depth\" :  np.arange(1, 15),\n",
    "                                                              \"num_leaves\" :  np.arange(0, 200),\n",
    "                                                              \"learning_rate\" : uniform(0, 0.5)}]),\n",
    "    'xgboost'       : (XGBClassifier(),                     [{\"max_depth\" :  np.arange(1, 15),\n",
    "                                                              \"num_leaves\" :  np.arange(0, 200),\n",
    "                                                              \"eta\" : uniform(0, 1)}]),\n",
    "    'logistic reg'  : (LogisticRegression(max_iter=10000),  [{\"C\" : uniform(0, 20000)}]),\n",
    "    'random forest' : (RandomForestClassifier(n_jobs=2),    [{\"n_estimators\" : np.arange(1, 200)}])\n",
    "}\n",
    "\n",
    "#store results of hyperparameter search for each model\n",
    "cv_results =  {'lightgbm' : None,\n",
    "               'xgboost' : None,\n",
    "               'logistic reg' : None,\n",
    "               'random forest' : None}\n",
    "\n",
    "for classifier_name, classifier_obj in classifiers.items(): \n",
    "    results = hyperparameter_opt(classifier=classifier_obj[0], \n",
    "                                 hyperparameter_dist=classifier_obj[1], \n",
    "                                 X_train=X_train_preprocessed, \n",
    "                                 y_train=y_train,\n",
    "                                 scoring=\"neg_log_loss\",\n",
    "                                 n_iter=20)\n",
    "    cv_results[classifier_name] = results"
   ]
  },
  {
   "cell_type": "markdown",
   "metadata": {},
   "source": [
    "### 4.2 Optimized models validation set performance"
   ]
  },
  {
   "cell_type": "code",
   "execution_count": 32,
   "metadata": {},
   "outputs": [
    {
     "name": "stdout",
     "output_type": "stream",
     "text": [
      "lightgbm\n",
      "training set results: 0.3113692155325527\n",
      "validation set results: 0.3027825477278951\n",
      "\n",
      "xgboost\n",
      "training set results: 0.29227232001579573\n",
      "validation set results: 0.30136374283116313\n",
      "\n",
      "logistic reg\n",
      "training set results: 0.32427268366114187\n",
      "validation set results: 0.30941108400488954\n",
      "\n",
      "random forest\n",
      "training set results: 0.08290457734381868\n",
      "validation set results: 0.35247554197328235\n",
      "\n"
     ]
    }
   ],
   "source": [
    "validation_set_predictions = {'lightgbm' : None,\n",
    "                              'xgboost' : None,\n",
    "                              'logistic reg' : None,\n",
    "                              'random forest' : None,}\n",
    "\n",
    "for classifier_name, classifier_obj in cv_results.items():\n",
    "    classifier = cv_results[classifier_name][1]\n",
    "    y_train_pred = classifier.predict_proba(X_train_preprocessed)\n",
    "    y_valid_pred = classifier.predict_proba(X_valid_preprocessed)\n",
    "\n",
    "    validation_set_predictions[classifier_name] = y_valid_pred\n",
    "    \n",
    "    print(classifier_name)\n",
    "    print(\"training set results: {0}\".format(log_loss(y_train, y_train_pred, normalize=True)))\n",
    "    print(\"validation set results: {0}\".format(log_loss(y_valid, y_valid_pred, normalize=True)))\n",
    "    print(\"\")"
   ]
  },
  {
   "cell_type": "markdown",
   "metadata": {},
   "source": [
    "### 4.3 Ensemble model"
   ]
  },
  {
   "cell_type": "code",
   "execution_count": 174,
   "metadata": {},
   "outputs": [
    {
     "name": "stdout",
     "output_type": "stream",
     "text": [
      "validation set results: 0.2999424638000044\n"
     ]
    }
   ],
   "source": [
    "ensemble_xg_model = VotingClassifier(estimators=[('lightgbm', cv_results[\"lightgbm\"][1]), \n",
    "                                                 ('xgboost', cv_results[\"xgboost\"][1]), \n",
    "                                                 ('lr', cv_results[\"logistic reg\"][1])], \n",
    "                                     voting='soft')\n",
    "\n",
    "ensemble_xg_model.fit(X_train_preprocessed, y_train)\n",
    "y_valid_pred = ensemble_xg_model.predict_proba(X_valid_preprocessed)\n",
    "print(\"validation set results: {0}\".format(log_loss(y_valid, y_valid_pred, normalize=True)))"
   ]
  },
  {
   "cell_type": "markdown",
   "metadata": {},
   "source": [
    "## 5. A closer look at the models\n",
    "\n",
    "### 5.1 Weight significance "
   ]
  },
  {
   "cell_type": "markdown",
   "metadata": {},
   "source": [
    "#### Logistic regression model"
   ]
  },
  {
   "cell_type": "code",
   "execution_count": 190,
   "metadata": {},
   "outputs": [
    {
     "data": {
      "text/html": [
       "\n",
       "    <style>\n",
       "    table.eli5-weights tr:hover {\n",
       "        filter: brightness(85%);\n",
       "    }\n",
       "</style>\n",
       "\n",
       "\n",
       "\n",
       "    \n",
       "\n",
       "    \n",
       "\n",
       "    \n",
       "\n",
       "    \n",
       "\n",
       "    \n",
       "\n",
       "    \n",
       "\n",
       "\n",
       "    \n",
       "\n",
       "    \n",
       "\n",
       "    \n",
       "\n",
       "    \n",
       "        \n",
       "\n",
       "    \n",
       "\n",
       "        \n",
       "            \n",
       "                \n",
       "                \n",
       "    \n",
       "        <p style=\"margin-bottom: 0.5em; margin-top: 0em\">\n",
       "            <b>\n",
       "    \n",
       "        y=1\n",
       "    \n",
       "</b>\n",
       "\n",
       "top features\n",
       "        </p>\n",
       "    \n",
       "    <table class=\"eli5-weights\"\n",
       "           style=\"border-collapse: collapse; border: none; margin-top: 0em; table-layout: auto; margin-bottom: 2em;\">\n",
       "        <thead>\n",
       "        <tr style=\"border: none;\">\n",
       "            \n",
       "                <th style=\"padding: 0 1em 0 0.5em; text-align: right; border: none;\" title=\"Feature weights. Note that weights do not account for feature value scales, so if feature values have different scales, features with highest weights might not be the most important.\">\n",
       "                    Weight<sup>?</sup>\n",
       "                </th>\n",
       "            \n",
       "            <th style=\"padding: 0 0.5em 0 0.5em; text-align: left; border: none;\">Feature</th>\n",
       "            \n",
       "        </tr>\n",
       "        </thead>\n",
       "        <tbody>\n",
       "        \n",
       "            <tr style=\"background-color: hsl(120, 100.00%, 82.57%); border: none;\">\n",
       "    <td style=\"padding: 0 1em 0 0.5em; text-align: right; border: none;\">\n",
       "        +1.786\n",
       "    </td>\n",
       "    <td style=\"padding: 0 0.5em 0 0.5em; text-align: left; border: none;\">\n",
       "        play pattern_Other\n",
       "    </td>\n",
       "    \n",
       "</tr>\n",
       "        \n",
       "            <tr style=\"background-color: hsl(120, 100.00%, 91.44%); border: none;\">\n",
       "    <td style=\"padding: 0 1em 0 0.5em; text-align: right; border: none;\">\n",
       "        +0.647\n",
       "    </td>\n",
       "    <td style=\"padding: 0 0.5em 0 0.5em; text-align: left; border: none;\">\n",
       "        technique_Lob\n",
       "    </td>\n",
       "    \n",
       "</tr>\n",
       "        \n",
       "            <tr style=\"background-color: hsl(120, 100.00%, 95.82%); border: none;\">\n",
       "    <td style=\"padding: 0 1em 0 0.5em; text-align: right; border: none;\">\n",
       "        +0.232\n",
       "    </td>\n",
       "    <td style=\"padding: 0 0.5em 0 0.5em; text-align: left; border: none;\">\n",
       "        technique_Normal\n",
       "    </td>\n",
       "    \n",
       "</tr>\n",
       "        \n",
       "            <tr style=\"background-color: hsl(120, 100.00%, 97.12%); border: none;\">\n",
       "    <td style=\"padding: 0 1em 0 0.5em; text-align: right; border: none;\">\n",
       "        +0.137\n",
       "    </td>\n",
       "    <td style=\"padding: 0 0.5em 0 0.5em; text-align: left; border: none;\">\n",
       "        y start location\n",
       "    </td>\n",
       "    \n",
       "</tr>\n",
       "        \n",
       "        \n",
       "\n",
       "        \n",
       "        \n",
       "            <tr style=\"background-color: hsl(0, 100.00%, 98.87%); border: none;\">\n",
       "    <td style=\"padding: 0 1em 0 0.5em; text-align: right; border: none;\">\n",
       "        -0.036\n",
       "    </td>\n",
       "    <td style=\"padding: 0 0.5em 0 0.5em; text-align: left; border: none;\">\n",
       "        num opponents between shot and goal\n",
       "    </td>\n",
       "    \n",
       "</tr>\n",
       "        \n",
       "            <tr style=\"background-color: hsl(0, 100.00%, 98.64%); border: none;\">\n",
       "    <td style=\"padding: 0 1em 0 0.5em; text-align: right; border: none;\">\n",
       "        -0.047\n",
       "    </td>\n",
       "    <td style=\"padding: 0 0.5em 0 0.5em; text-align: left; border: none;\">\n",
       "        y gk position\n",
       "    </td>\n",
       "    \n",
       "</tr>\n",
       "        \n",
       "            <tr style=\"background-color: hsl(0, 100.00%, 98.13%); border: none;\">\n",
       "    <td style=\"padding: 0 1em 0 0.5em; text-align: right; border: none;\">\n",
       "        -0.074\n",
       "    </td>\n",
       "    <td style=\"padding: 0 0.5em 0 0.5em; text-align: left; border: none;\">\n",
       "        play pattern_From Free Kick\n",
       "    </td>\n",
       "    \n",
       "</tr>\n",
       "        \n",
       "            <tr style=\"background-color: hsl(0, 100.00%, 97.23%); border: none;\">\n",
       "    <td style=\"padding: 0 1em 0 0.5em; text-align: right; border: none;\">\n",
       "        -0.129\n",
       "    </td>\n",
       "    <td style=\"padding: 0 0.5em 0 0.5em; text-align: left; border: none;\">\n",
       "        play pattern_From Counter\n",
       "    </td>\n",
       "    \n",
       "</tr>\n",
       "        \n",
       "            <tr style=\"background-color: hsl(0, 100.00%, 96.94%); border: none;\">\n",
       "    <td style=\"padding: 0 1em 0 0.5em; text-align: right; border: none;\">\n",
       "        -0.149\n",
       "    </td>\n",
       "    <td style=\"padding: 0 0.5em 0 0.5em; text-align: left; border: none;\">\n",
       "        play pattern_From Kick Off\n",
       "    </td>\n",
       "    \n",
       "</tr>\n",
       "        \n",
       "            <tr style=\"background-color: hsl(0, 100.00%, 96.50%); border: none;\">\n",
       "    <td style=\"padding: 0 1em 0 0.5em; text-align: right; border: none;\">\n",
       "        -0.180\n",
       "    </td>\n",
       "    <td style=\"padding: 0 0.5em 0 0.5em; text-align: left; border: none;\">\n",
       "        play pattern_From Goal Kick\n",
       "    </td>\n",
       "    \n",
       "</tr>\n",
       "        \n",
       "            <tr style=\"background-color: hsl(0, 100.00%, 96.34%); border: none;\">\n",
       "    <td style=\"padding: 0 1em 0 0.5em; text-align: right; border: none;\">\n",
       "        -0.192\n",
       "    </td>\n",
       "    <td style=\"padding: 0 0.5em 0 0.5em; text-align: left; border: none;\">\n",
       "        play pattern_Regular Play\n",
       "    </td>\n",
       "    \n",
       "</tr>\n",
       "        \n",
       "            <tr style=\"background-color: hsl(0, 100.00%, 95.79%); border: none;\">\n",
       "    <td style=\"padding: 0 1em 0 0.5em; text-align: right; border: none;\">\n",
       "        -0.235\n",
       "    </td>\n",
       "    <td style=\"padding: 0 0.5em 0 0.5em; text-align: left; border: none;\">\n",
       "        technique_Volley\n",
       "    </td>\n",
       "    \n",
       "</tr>\n",
       "        \n",
       "            <tr style=\"background-color: hsl(0, 100.00%, 95.61%); border: none;\">\n",
       "    <td style=\"padding: 0 1em 0 0.5em; text-align: right; border: none;\">\n",
       "        -0.249\n",
       "    </td>\n",
       "    <td style=\"padding: 0 0.5em 0 0.5em; text-align: left; border: none;\">\n",
       "        num opponents within 5 yards\n",
       "    </td>\n",
       "    \n",
       "</tr>\n",
       "        \n",
       "            <tr style=\"background-color: hsl(0, 100.00%, 95.08%); border: none;\">\n",
       "    <td style=\"padding: 0 1em 0 0.5em; text-align: right; border: none;\">\n",
       "        -0.293\n",
       "    </td>\n",
       "    <td style=\"padding: 0 0.5em 0 0.5em; text-align: left; border: none;\">\n",
       "        technique_Half Volley\n",
       "    </td>\n",
       "    \n",
       "</tr>\n",
       "        \n",
       "            <tr style=\"background-color: hsl(0, 100.00%, 94.24%); border: none;\">\n",
       "    <td style=\"padding: 0 1em 0 0.5em; text-align: right; border: none;\">\n",
       "        -0.367\n",
       "    </td>\n",
       "    <td style=\"padding: 0 0.5em 0 0.5em; text-align: left; border: none;\">\n",
       "        play pattern_From Throw In\n",
       "    </td>\n",
       "    \n",
       "</tr>\n",
       "        \n",
       "            <tr style=\"background-color: hsl(0, 100.00%, 93.94%); border: none;\">\n",
       "    <td style=\"padding: 0 1em 0 0.5em; text-align: right; border: none;\">\n",
       "        -0.395\n",
       "    </td>\n",
       "    <td style=\"padding: 0 0.5em 0 0.5em; text-align: left; border: none;\">\n",
       "        x gk position\n",
       "    </td>\n",
       "    \n",
       "</tr>\n",
       "        \n",
       "            <tr style=\"background-color: hsl(0, 100.00%, 93.70%); border: none;\">\n",
       "    <td style=\"padding: 0 1em 0 0.5em; text-align: right; border: none;\">\n",
       "        -0.417\n",
       "    </td>\n",
       "    <td style=\"padding: 0 0.5em 0 0.5em; text-align: left; border: none;\">\n",
       "        technique_Diving Header\n",
       "    </td>\n",
       "    \n",
       "</tr>\n",
       "        \n",
       "            <tr style=\"background-color: hsl(0, 100.00%, 93.70%); border: none;\">\n",
       "    <td style=\"padding: 0 1em 0 0.5em; text-align: right; border: none;\">\n",
       "        -0.418\n",
       "    </td>\n",
       "    <td style=\"padding: 0 0.5em 0 0.5em; text-align: left; border: none;\">\n",
       "        technique_Overhead Kick\n",
       "    </td>\n",
       "    \n",
       "</tr>\n",
       "        \n",
       "            <tr style=\"background-color: hsl(0, 100.00%, 92.61%); border: none;\">\n",
       "    <td style=\"padding: 0 1em 0 0.5em; text-align: right; border: none;\">\n",
       "        -0.524\n",
       "    </td>\n",
       "    <td style=\"padding: 0 0.5em 0 0.5em; text-align: left; border: none;\">\n",
       "        first time_True\n",
       "    </td>\n",
       "    \n",
       "</tr>\n",
       "        \n",
       "            <tr style=\"background-color: hsl(0, 100.00%, 89.77%); border: none;\">\n",
       "    <td style=\"padding: 0 1em 0 0.5em; text-align: right; border: none;\">\n",
       "        -0.835\n",
       "    </td>\n",
       "    <td style=\"padding: 0 0.5em 0 0.5em; text-align: left; border: none;\">\n",
       "        play pattern_From Corner\n",
       "    </td>\n",
       "    \n",
       "</tr>\n",
       "        \n",
       "            <tr style=\"background-color: hsl(0, 100.00%, 88.89%); border: none;\">\n",
       "    <td style=\"padding: 0 1em 0 0.5em; text-align: right; border: none;\">\n",
       "        -0.938\n",
       "    </td>\n",
       "    <td style=\"padding: 0 0.5em 0 0.5em; text-align: left; border: none;\">\n",
       "        first time_False\n",
       "    </td>\n",
       "    \n",
       "</tr>\n",
       "        \n",
       "            <tr style=\"background-color: hsl(0, 100.00%, 88.72%); border: none;\">\n",
       "    <td style=\"padding: 0 1em 0 0.5em; text-align: right; border: none;\">\n",
       "        -0.959\n",
       "    </td>\n",
       "    <td style=\"padding: 0 0.5em 0 0.5em; text-align: left; border: none;\">\n",
       "        x start location\n",
       "    </td>\n",
       "    \n",
       "</tr>\n",
       "        \n",
       "            <tr style=\"background-color: hsl(0, 100.00%, 88.56%); border: none;\">\n",
       "    <td style=\"padding: 0 1em 0 0.5em; text-align: right; border: none;\">\n",
       "        -0.979\n",
       "    </td>\n",
       "    <td style=\"padding: 0 0.5em 0 0.5em; text-align: left; border: none;\">\n",
       "        technique_Backheel\n",
       "    </td>\n",
       "    \n",
       "</tr>\n",
       "        \n",
       "            <tr style=\"background-color: hsl(0, 100.00%, 85.87%); border: none;\">\n",
       "    <td style=\"padding: 0 1em 0 0.5em; text-align: right; border: none;\">\n",
       "        -1.323\n",
       "    </td>\n",
       "    <td style=\"padding: 0 0.5em 0 0.5em; text-align: left; border: none;\">\n",
       "        play pattern_From Keeper\n",
       "    </td>\n",
       "    \n",
       "</tr>\n",
       "        \n",
       "            <tr style=\"background-color: hsl(0, 100.00%, 84.84%); border: none;\">\n",
       "    <td style=\"padding: 0 1em 0 0.5em; text-align: right; border: none;\">\n",
       "        -1.463\n",
       "    </td>\n",
       "    <td style=\"padding: 0 0.5em 0 0.5em; text-align: left; border: none;\">\n",
       "        &lt;BIAS&gt;\n",
       "    </td>\n",
       "    \n",
       "</tr>\n",
       "        \n",
       "            <tr style=\"background-color: hsl(0, 100.00%, 80.00%); border: none;\">\n",
       "    <td style=\"padding: 0 1em 0 0.5em; text-align: right; border: none;\">\n",
       "        -2.174\n",
       "    </td>\n",
       "    <td style=\"padding: 0 0.5em 0 0.5em; text-align: left; border: none;\">\n",
       "        Distance from goal\n",
       "    </td>\n",
       "    \n",
       "</tr>\n",
       "        \n",
       "\n",
       "        </tbody>\n",
       "    </table>\n",
       "\n",
       "            \n",
       "        \n",
       "\n",
       "        \n",
       "\n",
       "\n",
       "\n",
       "    \n",
       "\n",
       "    \n",
       "\n",
       "    \n",
       "\n",
       "    \n",
       "\n",
       "\n",
       "    \n",
       "\n",
       "    \n",
       "\n",
       "    \n",
       "\n",
       "    \n",
       "\n",
       "    \n",
       "\n",
       "    \n",
       "\n",
       "\n",
       "    \n",
       "\n",
       "    \n",
       "\n",
       "    \n",
       "\n",
       "    \n",
       "\n",
       "    \n",
       "\n",
       "    \n",
       "\n",
       "\n",
       "\n"
      ],
      "text/plain": [
       "Explanation(estimator=\"LogisticRegression(C=8986.518536974181, class_weight=None, dual=False,\\n                   fit_intercept=True, intercept_scaling=1, l1_ratio=None,\\n                   max_iter=10000, multi_class='auto', n_jobs=None,\\n                   penalty='l2', random_state=None, solver='lbfgs', tol=0.0001,\\n                   verbose=0, warm_start=False)\", description=\"\\nFeatures with largest coefficients.\\nCaveats:\\n1. Be careful with features which are not\\n   independent - weights don't show their importance.\\n2. If scale of input features is different then scale of coefficients\\n   will also be different, making direct comparison between coefficient values\\n   incorrect.\\n3. Depending on regularization, rare features sometimes may have high\\n   coefficients; this doesn't mean they contribute much to the\\n   classification result for most examples.\\n\", error=None, method='linear model', is_regression=False, targets=[TargetExplanation(target=1, feature_weights=FeatureWeights(pos=[FeatureWeight(feature='play pattern_Other', weight=1.7858241576446976, std=None, value=None), FeatureWeight(feature='technique_Lob', weight=0.6465994897658941, std=None, value=None), FeatureWeight(feature='technique_Normal', weight=0.23233223259996605, std=None, value=None), FeatureWeight(feature='y start location', weight=0.13668943811265322, std=None, value=None)], neg=[FeatureWeight(feature='Distance from goal', weight=-2.173952141887971, std=None, value=None), FeatureWeight(feature='<BIAS>', weight=-1.4628494713457227, std=None, value=None), FeatureWeight(feature='play pattern_From Keeper', weight=-1.3229397334420145, std=None, value=None), FeatureWeight(feature='technique_Backheel', weight=-0.9790074185134917, std=None, value=None), FeatureWeight(feature='x start location', weight=-0.9589774991705134, std=None, value=None), FeatureWeight(feature='first time_False', weight=-0.9384533778894693, std=None, value=None), FeatureWeight(feature='play pattern_From Corner', weight=-0.8345500375735472, std=None, value=None), FeatureWeight(feature='first time_True', weight=-0.5241650946168327, std=None, value=None), FeatureWeight(feature='technique_Overhead Kick', weight=-0.417745026909497, std=None, value=None), FeatureWeight(feature='technique_Diving Header', weight=-0.4169275286893366, std=None, value=None), FeatureWeight(feature='x gk position', weight=-0.3951620824050108, std=None, value=None), FeatureWeight(feature='play pattern_From Throw In', weight=-0.3668325456224589, std=None, value=None), FeatureWeight(feature='technique_Half Volley', weight=-0.2933622640777965, std=None, value=None), FeatureWeight(feature='num opponents within 5 yards', weight=-0.24883647035765083, std=None, value=None), FeatureWeight(feature='technique_Volley', weight=-0.23450795668201652, std=None, value=None), FeatureWeight(feature='play pattern_Regular Play', weight=-0.19224277950478572, std=None, value=None), FeatureWeight(feature='play pattern_From Goal Kick', weight=-0.17999996432280885, std=None, value=None), FeatureWeight(feature='play pattern_From Kick Off', weight=-0.14905791941582244, std=None, value=None), FeatureWeight(feature='play pattern_From Counter', weight=-0.12895159049343813, std=None, value=None), FeatureWeight(feature='play pattern_From Free Kick', weight=-0.07386805977611274, std=None, value=None), FeatureWeight(feature='y gk position', weight=-0.046855761661647906, std=None, value=None), FeatureWeight(feature='num opponents between shot and goal', weight=-0.035655984007970876, std=None, value=None)], pos_remaining=0, neg_remaining=0), proba=None, score=None, weighted_spans=None, heatmap=None)], feature_importances=None, decision_tree=None, highlight_spaces=None, transition_features=None, image=None)"
      ]
     },
     "execution_count": 190,
     "metadata": {},
     "output_type": "execute_result"
    }
   ],
   "source": [
    "eli5.explain_weights(cv_results[\"logistic reg\"][1], feature_names = np.array(all_features_transformed), top=100)"
   ]
  },
  {
   "cell_type": "markdown",
   "metadata": {},
   "source": [
    "#### xgboost model"
   ]
  },
  {
   "cell_type": "code",
   "execution_count": 191,
   "metadata": {},
   "outputs": [
    {
     "name": "stderr",
     "output_type": "stream",
     "text": [
      "Setting feature_perturbation = \"tree_path_dependent\" because no background data was given.\n"
     ]
    },
    {
     "data": {
      "image/png": "[encoded data removed]",
      "text/plain": [
       "<Figure size 576x684 with 2 Axes>"
      ]
     },
     "metadata": {
      "needs_background": "light"
     },
     "output_type": "display_data"
    }
   ],
   "source": [
    "xgb = cv_results[\"xgboost\"][1]\n",
    "explainer = shap.TreeExplainer(xgb)\n",
    "shap_values = explainer.shap_values(X_train_preprocessed)\n",
    "shap.summary_plot(shap_values, X_train_preprocessed, feature_names = all_features_transformed)"
   ]
  },
  {
   "cell_type": "markdown",
   "metadata": {},
   "source": [
    "### 5.2 Comparison with Statsbomb"
   ]
  },
  {
   "cell_type": "code",
   "execution_count": 175,
   "metadata": {},
   "outputs": [
    {
     "data": {
      "text/plain": [
       "Text(0, 0.5, 'Logistic regression xG')"
      ]
     },
     "execution_count": 175,
     "metadata": {},
     "output_type": "execute_result"
    },
    {
     "data": {
      "image/png": "[encoded data removed]",
      "text/plain": [
       "<Figure size 1440x720 with 2 Axes>"
      ]
     },
     "metadata": {
      "needs_background": "light"
     },
     "output_type": "display_data"
    }
   ],
   "source": [
    "y_valid_pred_xgb = validation_set_predictions[\"xgboost\"]\n",
    "y_valid_pred_lr = validation_set_predictions[\"logistic reg\"]\n",
    "shot_valid_set_results = shot_valid_set.copy()\n",
    "shot_valid_set_results[\"xgboost xg\"] = y_valid_pred_xgb[:, 1]\n",
    "shot_valid_set_results[\"lr xg\"] = y_valid_pred_lr[:, 1]\n",
    "\n",
    "fig, ax = plt.subplots(1, 2, figsize=(20,10))\n",
    "shot_valid_set_results.plot(\"statsbomb xg\", \"xgboost xg\", kind=\"scatter\", ax=ax[0])\n",
    "ax[0].plot([0, 1], [0, 1], color='red')\n",
    "ax[0].tick_params(labelsize=14)\n",
    "ax[0].set_xlabel(\"Statsbomb xG\", size=16)\n",
    "ax[0].set_ylabel(\"XGBoost xG\", size=16)\n",
    "shot_valid_set_results.plot(\"statsbomb xg\", \"lr xg\", color = \"black\",kind=\"scatter\", ax=ax[1])\n",
    "ax[1].plot([0, 1], [0, 1], color='red')\n",
    "ax[1].tick_params(labelsize=14)\n",
    "ax[1].set_xlabel(\"Statsbomb xG\", size=16)\n",
    "ax[1].set_ylabel(\"Logistic regression xG\", size=16)"
   ]
  },
  {
   "cell_type": "code",
   "execution_count": 158,
   "metadata": {},
   "outputs": [
    {
     "data": {
      "text/html": [
       "<div>\n",
       "<style scoped>\n",
       "    .dataframe tbody tr th:only-of-type {\n",
       "        vertical-align: middle;\n",
       "    }\n",
       "\n",
       "    .dataframe tbody tr th {\n",
       "        vertical-align: top;\n",
       "    }\n",
       "\n",
       "    .dataframe thead th {\n",
       "        text-align: right;\n",
       "    }\n",
       "</style>\n",
       "<table border=\"1\" class=\"dataframe\">\n",
       "  <thead>\n",
       "    <tr style=\"text-align: right;\">\n",
       "      <th></th>\n",
       "      <th>play pattern</th>\n",
       "      <th>x start location</th>\n",
       "      <th>y start location</th>\n",
       "      <th>duration</th>\n",
       "      <th>technique</th>\n",
       "      <th>first time</th>\n",
       "      <th>x gk position</th>\n",
       "      <th>y gk position</th>\n",
       "      <th>type of shot</th>\n",
       "      <th>num opponents within 5 yards</th>\n",
       "      <th>num opponents between shot and goal</th>\n",
       "      <th>statsbomb xg</th>\n",
       "      <th>game_id</th>\n",
       "      <th>season_id</th>\n",
       "      <th>Distance from goal</th>\n",
       "      <th>outcome</th>\n",
       "      <th>xgboost xg</th>\n",
       "      <th>lr xg</th>\n",
       "    </tr>\n",
       "    <tr>\n",
       "      <th>shot id</th>\n",
       "      <th></th>\n",
       "      <th></th>\n",
       "      <th></th>\n",
       "      <th></th>\n",
       "      <th></th>\n",
       "      <th></th>\n",
       "      <th></th>\n",
       "      <th></th>\n",
       "      <th></th>\n",
       "      <th></th>\n",
       "      <th></th>\n",
       "      <th></th>\n",
       "      <th></th>\n",
       "      <th></th>\n",
       "      <th></th>\n",
       "      <th></th>\n",
       "      <th></th>\n",
       "      <th></th>\n",
       "    </tr>\n",
       "  </thead>\n",
       "  <tbody>\n",
       "    <tr>\n",
       "      <th>32b6c709-7504-4545-abea-c04089bca817</th>\n",
       "      <td>From Free Kick</td>\n",
       "      <td>117.8</td>\n",
       "      <td>40.3</td>\n",
       "      <td>1.160578</td>\n",
       "      <td>Normal</td>\n",
       "      <td>True</td>\n",
       "      <td>118.0</td>\n",
       "      <td>41.8</td>\n",
       "      <td>Open Play</td>\n",
       "      <td>2</td>\n",
       "      <td>0</td>\n",
       "      <td>0.753980</td>\n",
       "      <td>267520</td>\n",
       "      <td>2013/2014</td>\n",
       "      <td>2.220360</td>\n",
       "      <td>1</td>\n",
       "      <td>0.920330</td>\n",
       "      <td>0.670800</td>\n",
       "    </tr>\n",
       "    <tr>\n",
       "      <th>91658344-173a-4a5e-928b-6e7cda6e6662</th>\n",
       "      <td>From Goal Kick</td>\n",
       "      <td>116.0</td>\n",
       "      <td>42.8</td>\n",
       "      <td>0.189100</td>\n",
       "      <td>Normal</td>\n",
       "      <td>True</td>\n",
       "      <td>114.9</td>\n",
       "      <td>39.0</td>\n",
       "      <td>Open Play</td>\n",
       "      <td>0</td>\n",
       "      <td>0</td>\n",
       "      <td>0.914085</td>\n",
       "      <td>69306</td>\n",
       "      <td>2010/2011</td>\n",
       "      <td>4.882622</td>\n",
       "      <td>1</td>\n",
       "      <td>0.875835</td>\n",
       "      <td>0.749443</td>\n",
       "    </tr>\n",
       "    <tr>\n",
       "      <th>60dfe692-6f63-44c3-9746-78abf3043e7f</th>\n",
       "      <td>Regular Play</td>\n",
       "      <td>118.4</td>\n",
       "      <td>38.3</td>\n",
       "      <td>0.188531</td>\n",
       "      <td>Normal</td>\n",
       "      <td>False</td>\n",
       "      <td>113.9</td>\n",
       "      <td>47.7</td>\n",
       "      <td>Open Play</td>\n",
       "      <td>1</td>\n",
       "      <td>0</td>\n",
       "      <td>0.918323</td>\n",
       "      <td>69279</td>\n",
       "      <td>2008/2009</td>\n",
       "      <td>2.334524</td>\n",
       "      <td>1</td>\n",
       "      <td>0.834212</td>\n",
       "      <td>0.682337</td>\n",
       "    </tr>\n",
       "    <tr>\n",
       "      <th>92e8d399-fca9-4a9b-bc0b-ed3a3b8fc24f</th>\n",
       "      <td>Regular Play</td>\n",
       "      <td>118.3</td>\n",
       "      <td>44.2</td>\n",
       "      <td>0.322400</td>\n",
       "      <td>Normal</td>\n",
       "      <td>True</td>\n",
       "      <td>116.6</td>\n",
       "      <td>42.3</td>\n",
       "      <td>Open Play</td>\n",
       "      <td>0</td>\n",
       "      <td>0</td>\n",
       "      <td>0.861052</td>\n",
       "      <td>70297</td>\n",
       "      <td>2012/2013</td>\n",
       "      <td>4.531004</td>\n",
       "      <td>1</td>\n",
       "      <td>0.809903</td>\n",
       "      <td>0.655175</td>\n",
       "    </tr>\n",
       "    <tr>\n",
       "      <th>435ca2e1-77e7-43db-bd08-30b6ab27fda9</th>\n",
       "      <td>Regular Play</td>\n",
       "      <td>115.0</td>\n",
       "      <td>41.6</td>\n",
       "      <td>0.280514</td>\n",
       "      <td>Normal</td>\n",
       "      <td>True</td>\n",
       "      <td>116.9</td>\n",
       "      <td>41.9</td>\n",
       "      <td>Open Play</td>\n",
       "      <td>1</td>\n",
       "      <td>0</td>\n",
       "      <td>0.519127</td>\n",
       "      <td>69268</td>\n",
       "      <td>2011/2012</td>\n",
       "      <td>5.249762</td>\n",
       "      <td>1</td>\n",
       "      <td>0.809727</td>\n",
       "      <td>0.630499</td>\n",
       "    </tr>\n",
       "    <tr>\n",
       "      <th>799daaec-84ac-4956-bf5e-deb1f68f9881</th>\n",
       "      <td>Other</td>\n",
       "      <td>108.1</td>\n",
       "      <td>40.0</td>\n",
       "      <td>0.668000</td>\n",
       "      <td>Normal</td>\n",
       "      <td>False</td>\n",
       "      <td>120.0</td>\n",
       "      <td>40.0</td>\n",
       "      <td>Penalty</td>\n",
       "      <td>0</td>\n",
       "      <td>0</td>\n",
       "      <td>0.760000</td>\n",
       "      <td>68354</td>\n",
       "      <td>2005/2006</td>\n",
       "      <td>11.900000</td>\n",
       "      <td>1</td>\n",
       "      <td>0.802597</td>\n",
       "      <td>0.726093</td>\n",
       "    </tr>\n",
       "  </tbody>\n",
       "</table>\n",
       "</div>"
      ],
      "text/plain": [
       "                                        play pattern  x start location  \\\n",
       "shot id                                                                  \n",
       "32b6c709-7504-4545-abea-c04089bca817  From Free Kick             117.8   \n",
       "91658344-173a-4a5e-928b-6e7cda6e6662  From Goal Kick             116.0   \n",
       "60dfe692-6f63-44c3-9746-78abf3043e7f    Regular Play             118.4   \n",
       "92e8d399-fca9-4a9b-bc0b-ed3a3b8fc24f    Regular Play             118.3   \n",
       "435ca2e1-77e7-43db-bd08-30b6ab27fda9    Regular Play             115.0   \n",
       "799daaec-84ac-4956-bf5e-deb1f68f9881           Other             108.1   \n",
       "\n",
       "                                      y start location  duration technique  \\\n",
       "shot id                                                                      \n",
       "32b6c709-7504-4545-abea-c04089bca817              40.3  1.160578    Normal   \n",
       "91658344-173a-4a5e-928b-6e7cda6e6662              42.8  0.189100    Normal   \n",
       "60dfe692-6f63-44c3-9746-78abf3043e7f              38.3  0.188531    Normal   \n",
       "92e8d399-fca9-4a9b-bc0b-ed3a3b8fc24f              44.2  0.322400    Normal   \n",
       "435ca2e1-77e7-43db-bd08-30b6ab27fda9              41.6  0.280514    Normal   \n",
       "799daaec-84ac-4956-bf5e-deb1f68f9881              40.0  0.668000    Normal   \n",
       "\n",
       "                                      first time  x gk position  \\\n",
       "shot id                                                           \n",
       "32b6c709-7504-4545-abea-c04089bca817        True          118.0   \n",
       "91658344-173a-4a5e-928b-6e7cda6e6662        True          114.9   \n",
       "60dfe692-6f63-44c3-9746-78abf3043e7f       False          113.9   \n",
       "92e8d399-fca9-4a9b-bc0b-ed3a3b8fc24f        True          116.6   \n",
       "435ca2e1-77e7-43db-bd08-30b6ab27fda9        True          116.9   \n",
       "799daaec-84ac-4956-bf5e-deb1f68f9881       False          120.0   \n",
       "\n",
       "                                      y gk position type of shot  \\\n",
       "shot id                                                            \n",
       "32b6c709-7504-4545-abea-c04089bca817           41.8    Open Play   \n",
       "91658344-173a-4a5e-928b-6e7cda6e6662           39.0    Open Play   \n",
       "60dfe692-6f63-44c3-9746-78abf3043e7f           47.7    Open Play   \n",
       "92e8d399-fca9-4a9b-bc0b-ed3a3b8fc24f           42.3    Open Play   \n",
       "435ca2e1-77e7-43db-bd08-30b6ab27fda9           41.9    Open Play   \n",
       "799daaec-84ac-4956-bf5e-deb1f68f9881           40.0      Penalty   \n",
       "\n",
       "                                      num opponents within 5 yards  \\\n",
       "shot id                                                              \n",
       "32b6c709-7504-4545-abea-c04089bca817                             2   \n",
       "91658344-173a-4a5e-928b-6e7cda6e6662                             0   \n",
       "60dfe692-6f63-44c3-9746-78abf3043e7f                             1   \n",
       "92e8d399-fca9-4a9b-bc0b-ed3a3b8fc24f                             0   \n",
       "435ca2e1-77e7-43db-bd08-30b6ab27fda9                             1   \n",
       "799daaec-84ac-4956-bf5e-deb1f68f9881                             0   \n",
       "\n",
       "                                      num opponents between shot and goal  \\\n",
       "shot id                                                                     \n",
       "32b6c709-7504-4545-abea-c04089bca817                                    0   \n",
       "91658344-173a-4a5e-928b-6e7cda6e6662                                    0   \n",
       "60dfe692-6f63-44c3-9746-78abf3043e7f                                    0   \n",
       "92e8d399-fca9-4a9b-bc0b-ed3a3b8fc24f                                    0   \n",
       "435ca2e1-77e7-43db-bd08-30b6ab27fda9                                    0   \n",
       "799daaec-84ac-4956-bf5e-deb1f68f9881                                    0   \n",
       "\n",
       "                                      statsbomb xg game_id  season_id  \\\n",
       "shot id                                                                 \n",
       "32b6c709-7504-4545-abea-c04089bca817      0.753980  267520  2013/2014   \n",
       "91658344-173a-4a5e-928b-6e7cda6e6662      0.914085   69306  2010/2011   \n",
       "60dfe692-6f63-44c3-9746-78abf3043e7f      0.918323   69279  2008/2009   \n",
       "92e8d399-fca9-4a9b-bc0b-ed3a3b8fc24f      0.861052   70297  2012/2013   \n",
       "435ca2e1-77e7-43db-bd08-30b6ab27fda9      0.519127   69268  2011/2012   \n",
       "799daaec-84ac-4956-bf5e-deb1f68f9881      0.760000   68354  2005/2006   \n",
       "\n",
       "                                      Distance from goal  outcome  xgboost xg  \\\n",
       "shot id                                                                         \n",
       "32b6c709-7504-4545-abea-c04089bca817            2.220360        1    0.920330   \n",
       "91658344-173a-4a5e-928b-6e7cda6e6662            4.882622        1    0.875835   \n",
       "60dfe692-6f63-44c3-9746-78abf3043e7f            2.334524        1    0.834212   \n",
       "92e8d399-fca9-4a9b-bc0b-ed3a3b8fc24f            4.531004        1    0.809903   \n",
       "435ca2e1-77e7-43db-bd08-30b6ab27fda9            5.249762        1    0.809727   \n",
       "799daaec-84ac-4956-bf5e-deb1f68f9881           11.900000        1    0.802597   \n",
       "\n",
       "                                         lr xg  \n",
       "shot id                                         \n",
       "32b6c709-7504-4545-abea-c04089bca817  0.670800  \n",
       "91658344-173a-4a5e-928b-6e7cda6e6662  0.749443  \n",
       "60dfe692-6f63-44c3-9746-78abf3043e7f  0.682337  \n",
       "92e8d399-fca9-4a9b-bc0b-ed3a3b8fc24f  0.655175  \n",
       "435ca2e1-77e7-43db-bd08-30b6ab27fda9  0.630499  \n",
       "799daaec-84ac-4956-bf5e-deb1f68f9881  0.726093  "
      ]
     },
     "execution_count": 158,
     "metadata": {},
     "output_type": "execute_result"
    }
   ],
   "source": [
    "shot_valid_set_results.sort_values(\"xgboost xg\", ascending=False).iloc[0:6]"
   ]
  },
  {
   "cell_type": "code",
   "execution_count": 64,
   "metadata": {},
   "outputs": [
    {
     "data": {
      "image/png": "[encoded data removed]",
      "text/plain": [
       "<Figure size 2160x960 with 6 Axes>"
      ]
     },
     "metadata": {
      "needs_background": "light"
     },
     "output_type": "display_data"
    }
   ],
   "source": [
    "ascending=False\n",
    "season_ids = shot_valid_set_results.sort_values(\"my xg\", ascending=ascending).reset_index().iloc[0:7][\"season_id\"]\n",
    "game_ids = shot_valid_set_results.sort_values(\"my xg\", ascending=ascending).reset_index().iloc[0:7][\"game_id\"]\n",
    "shot_ids = shot_valid_set_results.sort_values(\"my xg\", ascending=ascending).reset_index().iloc[0:7][\"shot id\"]\n",
    "xg_vals = shot_valid_set_results.sort_values(\"my xg\", ascending=ascending).reset_index().iloc[0:7][\"my xg\"]\n",
    "\n",
    "num=1\n",
    "fig, ax = plt.subplots(2, 3, figsize=(36/1.2, 16/1.2))\n",
    "for i in range(2):\n",
    "    for j in range(3):\n",
    "        ax_i = ax[i, j]\n",
    "        draw_pitch(axis=ax_i, rotate=True)\n",
    "        plot_shot_freeze_frame(la_liga[season_ids[num]][game_ids[num]].json_file, shot_ids[num], ax=ax_i)\n",
    "        ax_i.annotate(\"Season: {}\".format(season_ids[num]), xy = (1,75), size=16)\n",
    "        ax_i.annotate(\"Game ID: {}\".format(game_ids[num]), xy = (1,70), size=16)\n",
    "        ax_i.annotate(\"xG: {}\".format(round(xg_vals[num], 5)), xy = (1,65), size=16)\n",
    "        num+=1"
   ]
  },
  {
   "cell_type": "code",
   "execution_count": null,
   "metadata": {},
   "outputs": [],
   "source": []
  },
  {
   "cell_type": "code",
   "execution_count": null,
   "metadata": {},
   "outputs": [],
   "source": []
  },
  {
   "cell_type": "code",
   "execution_count": null,
   "metadata": {},
   "outputs": [],
   "source": []
  }
 ],
 "metadata": {
  "kernelspec": {
   "display_name": "Python 3",
   "language": "python",
   "name": "python3"
  },
  "language_info": {
   "codemirror_mode": {
    "name": "ipython",
    "version": 3
   },
   "file_extension": ".py",
   "mimetype": "text/x-python",
   "name": "python",
   "nbconvert_exporter": "python",
   "pygments_lexer": "ipython3",
   "version": "3.7.4"
  }
 },
 "nbformat": 4,
 "nbformat_minor": 4
}
