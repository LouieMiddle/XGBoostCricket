{
 "cells": [
  {
   "cell_type": "code",
   "execution_count": 123,
   "metadata": {},
   "outputs": [],
   "source": [
    "from statsbomb_data_extraction import Game, fetch_matches_for_season, fetch_all_seasons_for_league\n",
    "from draw_pitch import draw_pitch\n",
    "\n",
    "import pandas as pd\n",
    "import numpy as np\n",
    "import matplotlib.pyplot as plt\n",
    "import altair as alt\n",
    "\n",
    "from sklearn.model_selection import StratifiedShuffleSplit, GridSearchCV, train_test_split, KFold\n",
    "from sklearn.preprocessing import OneHotEncoder\n",
    "from sklearn.pipeline import Pipeline\n",
    "from sklearn.preprocessing import StandardScaler\n",
    "from sklearn.pipeline import FeatureUnion\n",
    "from sklearn.base import BaseEstimator, TransformerMixin\n",
    "\n",
    "from sklearn.model_selection import cross_val_score\n",
    "from sklearn.metrics import precision_score\n",
    "from sklearn.linear_model import LogisticRegression"
   ]
  },
  {
   "cell_type": "markdown",
   "metadata": {},
   "source": [
    "# xG Model"
   ]
  },
  {
   "cell_type": "markdown",
   "metadata": {},
   "source": [
    "The concept of \"Expected Goals\" (xG for short), is a widely used metric among soccer analysts and fans alike. In fact, the idea of xG has infiltrated the mainstream in recent years, to the point where now, even most casual fans have probably heard of the term. The xG metric essentially describes how many goals we'd expect a team to score based on the chances it creates. Each shot a team takes can be assigned an xG value, ranging from 0 to 1, which represents the probability of that shot resulting in a goal. \n",
    "\n",
    "The xG metric helps provide objectivity in the analysis of a soccer match, since actual score lines can often be misleading given that luck plays such a large role in the game. If we can see that a team dominated a game by creating many more chances and generating a much larger xG than the other team, this tells us they were probably better on that day, regardless of what the final scoreline may say. Additionally, analyzing xG can help inform play styles, in terms of determining what type of shots are better to take to maximize the probability of scoring a goal.  \n",
    "\n",
    "This notebook consists in a comprehensive overview of an xG model created using Statsbomb public data. More specifically, the model is creating using data from Barcelona's La Liga matches from 2004 to 2016."
   ]
  },
  {
   "cell_type": "markdown",
   "metadata": {},
   "source": [
    "## Notebook Overview\n",
    "\n",
    "<font size = 4>\n",
    "\n",
    "1. Fetching data \n",
    "    - 1.1 Getting data from Statsbomb\n",
    "    - 1.2 Extracting shots data and attributes\n",
    "    \n",
    "    \n",
    "2. Data exploration\n",
    "    - 2.1 Creating new variables\n",
    "    - 2.2 Separate test and training set\n",
    "    - 2.3 Visualizing relationships\n",
    "\n",
    "    \n",
    "3. Data preprocessing for ML models\n",
    "    - 2.1 Categorical variables\n",
    "    - 2.2 Numerical variables\n",
    "    - 2.3 Combined pipeline\n",
    "    \n",
    "    \n",
    "4. Models\n",
    "    - 4.1 Logistic regression"
   ]
  },
  {
   "cell_type": "markdown",
   "metadata": {},
   "source": [
    "## 1. Fetching data"
   ]
  },
  {
   "cell_type": "markdown",
   "metadata": {},
   "source": [
    "### 1.1 Getting data from Statsbomb. "
   ]
  },
  {
   "cell_type": "markdown",
   "metadata": {},
   "source": [
    "To start off, I wrote some functions in the `statsbomb_data_extraction.py` file to get data from statsbomb in the form of json files for each game in a desired season / league. In the cell below, I call `fetch_matches_for_league` with argument **11**, as this corresponds to the La Liga comp in Statsbomb public data. (See [here](https://github.com/statsbomb/open-data/blob/master/data/competitions.json))."
   ]
  },
  {
   "cell_type": "code",
   "execution_count": 2,
   "metadata": {},
   "outputs": [
    {
     "name": "stdout",
     "output_type": "stream",
     "text": [
      "Getting season 2018/2019...\n",
      "Getting season 2017/2018...\n",
      "Getting season 2016/2017...\n",
      "Getting season 2015/2016...\n",
      "Getting season 2014/2015...\n",
      "Getting season 2013/2014...\n",
      "Getting season 2012/2013...\n",
      "Getting season 2011/2012...\n",
      "Getting season 2010/2011...\n",
      "Getting season 2009/2010...\n",
      "Getting season 2008/2009...\n",
      "Getting season 2007/2008...\n",
      "Getting season 2006/2007...\n",
      "Getting season 2005/2006...\n",
      "Getting season 2004/2005...\n",
      "Done\n"
     ]
    }
   ],
   "source": [
    "la_liga = fetch_all_seasons_for_league(11)"
   ]
  },
  {
   "cell_type": "markdown",
   "metadata": {},
   "source": [
    "So we have a data structure, called `la_liga`, which has league season names as the keys of the outer dictionary. The values are dictionaries, which map game ids (as specified by statsbomb) to `Game` objects (see `statsbomb_data_extraction.py` file for Game object definition)."
   ]
  },
  {
   "cell_type": "markdown",
   "metadata": {},
   "source": [
    "### 1.2 Getting shots data "
   ]
  },
  {
   "cell_type": "markdown",
   "metadata": {},
   "source": [
    "Now I will write some functions to parse through the json of each game, and extract all the shots, as well as features related to the shots. In particular, these features are: \n",
    "\n",
    "- **play pattern**: pattern of play which led to the shot\n",
    "- **x start location**: x-location of the shot \n",
    "- **y start location**: y-location of the shot \n",
    "- **duration**: duration of the shot\n",
    "- **outcome**: result of the shot\n",
    "- **technique**: technique with which the shot was hit\n",
    "- **first time**: whether the shot was hit for time or not\n",
    "- **x gk position**: x-location of the gk when shot was taken\n",
    "- **y gk position**: y-location of the gk when shot was taken\n",
    "- **type of shot**: whether shot was from open play or set piece (and type of set piece specified)\n",
    "- **num opponents within 5 yards**: number of opponents which were within 5 yards of shot location\n",
    "- **num opponents between shot and goal**: number of opponents which were between the shot location, and the lines connecting shot location and the two posts\n",
    "\n",
    "I will also extract some information related to the shot that will be useful to reference the shots, but will not be used to train ML model. These include:\n",
    "- **game id in which shot was taken**: pattern of play which led to the shot\n",
    "- **Season of game in which shot was taken**: x-location of the shot \n",
    "- **statsbomb xg**: xg given by statsbomb to compare to my values later on\n",
    "\n",
    "All the variables listed above can be extracted by parsing through the json directly, except for the last one. Therefore, below, I will write a function to get this variable."
   ]
  },
  {
   "cell_type": "code",
   "execution_count": null,
   "metadata": {},
   "outputs": [],
   "source": [
    "def check_player_btwn_shot_and_goal(x_shot, y_shot, x_player, y_player):\n",
    "    \"\"\"\n",
    "    Function which checks whether a player in a stats bomb freeze frame is between the shot location, and the two lines\n",
    "    connecting the shot location to the posts. See here for coordinate specifications: \n",
    "    https://github.com/statsbomb/open-data/blob/master/doc/StatsBomb%20Open%20Data%20Specification%20v1.1.pdf\n",
    "    \n",
    "    Arguments:\n",
    "    x_shot    x-location of shot\n",
    "    y_shot    y-location of shot\n",
    "    x_player  x-location of player\n",
    "    y_player  y-location of player    \n",
    "    \"\"\"\n",
    "    x_diff = x_player - x_shot\n",
    "    y_diff = y_player - y_shot\n",
    "    \n",
    "    if 120 - x_shot == 0:\n",
    "        return False\n",
    "    \n",
    "    slope_1 = (36 - y_shot) / (120 - x_shot)\n",
    "    slope_2 = (44 - y_shot) / (120 - x_shot) \n",
    "                    \n",
    "    return (x_diff >= 0) and ((y_shot + slope_1 * x_diff) < y_player < (y_shot + slope_2 * x_diff))\n",
    "\n",
    "\n",
    "def plot_shot_freeze_frame(game_json, shot_id, ax):\n",
    "    player_pos_list_x = []\n",
    "    player_pos_list_y = []\n",
    "    x_shot = 0\n",
    "    y_shot = 0\n",
    "    \n",
    "    for events in game_json:\n",
    "        if events['id'] == shot_id:\n",
    "            x_shot = events['location'][0]\n",
    "            y_shot = events['location'][1]\n",
    "        \n",
    "            for players in events['shot']['freeze_frame']:\n",
    "                if (players['teammate'] == False):\n",
    "                    player_pos_list_x.append(players['location'][0])\n",
    "                    player_pos_list_y.append(players['location'][1])\n",
    "            \n",
    "    ax.scatter(player_pos_list_x, player_pos_list_y)\n",
    "    ax.scatter(x_shot, y_shot, s=100)\n",
    "    ax.plot([x_shot, 120], [y_shot,36], color = 'red', linestyle = '--')\n",
    "    ax.plot([x_shot, 120], [y_shot,44], color = 'red', linestyle = '--')"
   ]
  },
  {
   "cell_type": "markdown",
   "metadata": {},
   "source": [
    "Lets call the `plot_shot_freeze_frame` function to visualize the _num opponents between shot and goal_ feature. The shot below would have a value of 2 for this feature."
   ]
  },
  {
   "cell_type": "code",
   "execution_count": 4,
   "metadata": {},
   "outputs": [
    {
     "data": {
      "image/png": "[encoded data removed]",
      "text/plain": [
       "<Figure size 864x576 with 1 Axes>"
      ]
     },
     "metadata": {
      "needs_background": "light"
     },
     "output_type": "display_data"
    }
   ],
   "source": [
    "fig, ax = plt.subplots(1, 1, figsize=(12,8))\n",
    "draw_pitch(axis=ax, rotate=True)\n",
    "plot_shot_freeze_frame(la_liga[\"2018/2019\"]['16215'].json_file, \"6c30cac4-6f3b-4cd0-9913-26137b058416\")"
   ]
  },
  {
   "cell_type": "markdown",
   "metadata": {},
   "source": [
    "Now I will write a function which takes a json file for a given game, and returns a data frame containing all shots taken along with the variables related to that shot. Then I will write two wrapper function: `get_shots_for_season` which calls `get_shots_for_game` on all game files for that season, and `get_shots_for_league`, which does a similar thing, but for each game across every season we have for that league."
   ]
  },
  {
   "cell_type": "code",
   "execution_count": 204,
   "metadata": {},
   "outputs": [],
   "source": [
    "def get_shots_for_game(game_json):\n",
    "    \"\"\"\n",
    "    Function which parses through a game JSON and return a data frame containing all shots taken in that game with several features \n",
    "    related to that shot\n",
    "    \n",
    "    Arguments\n",
    "    game_json - event level json for a game\n",
    "    \"\"\"\n",
    "    \n",
    "    #features for each shot, which will be the columns of our data frame\n",
    "    shot_id_list = []\n",
    "    x_start_location_list = []\n",
    "    y_start_location_list = []\n",
    "    play_pattern_list = []\n",
    "    duration_list = []\n",
    "    outcome_list = []\n",
    "    technique_list = []\n",
    "    type_shot_list = []\n",
    "    first_time_list = []\n",
    "    x_gk_pos_list = []\n",
    "    y_gk_pos_list = []\n",
    "    num_opponents_5_yards_list = []\n",
    "    num_opponents_between_goal_list = []\n",
    "    \n",
    "    statsbomb_xg = [] #to compare to my model\n",
    "    \n",
    "    #-------------------------#\n",
    "\n",
    "    for events in game_json:\n",
    "    \n",
    "        if events['type']['name'] == 'Shot':\n",
    "        \n",
    "            #get data for first 8 features\n",
    "            shot_id = events['id']\n",
    "            x_start_location = events['location'][0]\n",
    "            y_start_location = events['location'][1]\n",
    "            play_pattern = events['play_pattern']['name']\n",
    "            duration = events['duration']\n",
    "            outcome = events['shot']['outcome']['name'] \n",
    "            technique = events['shot']['technique']['name']\n",
    "            type_shot = events['shot']['type']['name']\n",
    "            xg = events['shot']['statsbomb_xg']\n",
    "        \n",
    "            #check if json shot has a first_time attribute, if not set first_time to False\n",
    "            if 'first_time' in events['shot']:\n",
    "                first_time = events['shot']['first_time']\n",
    "            else:\n",
    "                first_time = False\n",
    "            \n",
    "            #check if shot has a freeze_frame dictionary\n",
    "            if \"freeze_frame\" in events[\"shot\"]:\n",
    "                \n",
    "                num_opponents_5_yards = 0\n",
    "                num_opponents_between_goal = 0\n",
    "                \n",
    "                for player in events[\"shot\"][\"freeze_frame\"]:\n",
    "                    x_player = player['location'][0]\n",
    "                    y_player = player['location'][1]\n",
    "                    \n",
    "                    #count how many opponents were within 5 yards of player when shot was taken\n",
    "                    if ((x_start_location - x_player)**2 + (y_start_location - y_player)**2) <= 25 and (player['teammate'] == False):\n",
    "                        if (player['position']['name'] != 'Goalkeeper'):\n",
    "                            num_opponents_5_yards += 1\n",
    "                    \n",
    "                    #count how many opponents were between shot and goal\n",
    "                    if (player['teammate'] == False) and (player['position']['name'] != 'Goalkeeper'):\n",
    "                        if check_player_btwn_shot_and_goal(x_start_location, y_start_location, x_player, y_player):\n",
    "                            num_opponents_between_goal += 1\n",
    "                    \n",
    "                    #get position of opponent's goalkeeper \n",
    "                    if ((player['position']['name'] == 'Goalkeeper') and (player['teammate'] == False)):\n",
    "                        x_gk_pos = player['location'][0]\n",
    "                        y_gk_pos = player['location'][1]\n",
    "            \n",
    "            #if there is no freeze frame, assume goalkeeper is at center of goal, and 0 opponenets around shot location\n",
    "            else:\n",
    "                num_opponents_between_goal = 0\n",
    "                num_opponents_5_yards = 0\n",
    "                x_gk_pos = 120\n",
    "                y_gk_pos = 40            \n",
    "            \n",
    "            #append data on shot to relevant list (column)\n",
    "            shot_id_list.append(shot_id)\n",
    "            play_pattern_list.append(play_pattern)\n",
    "            x_start_location_list.append(x_start_location)\n",
    "            y_start_location_list.append(y_start_location)\n",
    "            duration_list.append(duration)\n",
    "            outcome_list.append(outcome)\n",
    "            technique_list.append(technique)\n",
    "            first_time_list.append(first_time)\n",
    "            x_gk_pos_list.append(x_gk_pos)\n",
    "            y_gk_pos_list.append(y_gk_pos)\n",
    "            type_shot_list.append(type_shot)\n",
    "            num_opponents_5_yards_list.append(num_opponents_5_yards)\n",
    "            num_opponents_between_goal_list.append(num_opponents_between_goal)\n",
    "            statsbomb_xg.append(xg)\n",
    "        \n",
    "    #create data frame with column features\n",
    "    shot_df = pd.DataFrame({\n",
    "                       \"shot id\" : shot_id_list,\n",
    "                       \"play pattern\" : play_pattern_list, \n",
    "                       \"x start location\" : x_start_location_list, \n",
    "                       \"y start location\" : y_start_location_list,\n",
    "                       \"duration\" : duration_list, \n",
    "                       \"outcome\" : outcome_list, \n",
    "                       \"technique\" : technique_list, \n",
    "                       \"first time\" : first_time_list,\n",
    "                       \"x gk position\" : x_gk_pos_list,\n",
    "                       \"y gk position\" : y_gk_pos_list,\n",
    "                       \"type of shot\" : type_shot_list,\n",
    "                       \"num opponents within 5 yards\" : num_opponents_5_yards_list,\n",
    "                       \"num opponents between shot and goal\" : num_opponents_between_goal_list,\n",
    "                       \"statsbomb xg\" : statsbomb_xg\n",
    "                       })\n",
    "    \n",
    "    return shot_df.set_index(\"shot id\")"
   ]
  },
  {
   "cell_type": "markdown",
   "metadata": {},
   "source": [
    "**Wrapper functions:**"
   ]
  },
  {
   "cell_type": "code",
   "execution_count": 249,
   "metadata": {},
   "outputs": [],
   "source": [
    "def get_shots_for_season(season_dict):\n",
    "    \"\"\"\n",
    "    Takes a dictionary whichs maps game ids to Game objects, and calls get_shots_for_game() on each one.\n",
    "    \n",
    "    Arguments:\n",
    "    season_dict - dictionary which maps game ids (string, as specified by statsbomb) to Game objects (defined above)\n",
    "    \"\"\"\n",
    "    total_shot_df = pd.DataFrame()\n",
    "    \n",
    "    for keys, values in season_dict.items():\n",
    "        shot_df = get_shots_for_game(values.json_file)\n",
    "        shot_df[\"game_id\"] = keys\n",
    "        total_shot_df = total_shot_df.append(shot_df)\n",
    "        \n",
    "    return total_shot_df\n",
    "\n",
    "\n",
    "def get_shots_for_league(league_dict):\n",
    "    \"\"\"\n",
    "    Takes a dictionary which maps season names to season dictionaries for a league, and calls get_shots_for_game() on each game.\n",
    "    \n",
    "    Arguments:\n",
    "    league_dict - dictionary which maps season names to another dictionary. This inner dictionary maps \n",
    "    game ids (as specified by statsbomb) to Game objects (defined above)\n",
    "    \"\"\"\n",
    "    total_shot_df = pd.DataFrame()\n",
    "    \n",
    "    for keys, values in league_dict.items():\n",
    "        shot_df = get_shots_for_season(values)\n",
    "        shot_df[\"season_id\"] = keys\n",
    "        total_shot_df = total_shot_df.append(shot_df)\n",
    "        print(\"Getting shots for \" + keys)\n",
    "    \n",
    "    print(\"Done.\")\n",
    "    \n",
    "    return total_shot_df"
   ]
  },
  {
   "cell_type": "code",
   "execution_count": 250,
   "metadata": {},
   "outputs": [
    {
     "name": "stdout",
     "output_type": "stream",
     "text": [
      "Getting shots for 2018/2019\n",
      "Getting shots for 2017/2018\n",
      "Getting shots for 2016/2017\n",
      "Getting shots for 2015/2016\n",
      "Getting shots for 2014/2015\n",
      "Getting shots for 2013/2014\n",
      "Getting shots for 2012/2013\n",
      "Getting shots for 2011/2012\n",
      "Getting shots for 2010/2011\n",
      "Getting shots for 2009/2010\n",
      "Getting shots for 2008/2009\n",
      "Getting shots for 2007/2008\n",
      "Getting shots for 2006/2007\n",
      "Getting shots for 2005/2006\n",
      "Getting shots for 2004/2005\n",
      "Done.\n"
     ]
    }
   ],
   "source": [
    "all_la_liga_shots = get_shots_for_league(la_liga)"
   ]
  },
  {
   "cell_type": "markdown",
   "metadata": {},
   "source": [
    "So we have our data frame with all shots taken in Barca games from 2004/05 to 2015/16."
   ]
  },
  {
   "cell_type": "code",
   "execution_count": 251,
   "metadata": {},
   "outputs": [
    {
     "data": {
      "text/html": [
       "<div>\n",
       "<style scoped>\n",
       "    .dataframe tbody tr th:only-of-type {\n",
       "        vertical-align: middle;\n",
       "    }\n",
       "\n",
       "    .dataframe tbody tr th {\n",
       "        vertical-align: top;\n",
       "    }\n",
       "\n",
       "    .dataframe thead th {\n",
       "        text-align: right;\n",
       "    }\n",
       "</style>\n",
       "<table border=\"1\" class=\"dataframe\">\n",
       "  <thead>\n",
       "    <tr style=\"text-align: right;\">\n",
       "      <th></th>\n",
       "      <th>play pattern</th>\n",
       "      <th>x start location</th>\n",
       "      <th>y start location</th>\n",
       "      <th>duration</th>\n",
       "      <th>outcome</th>\n",
       "      <th>technique</th>\n",
       "      <th>first time</th>\n",
       "      <th>x gk position</th>\n",
       "      <th>y gk position</th>\n",
       "      <th>type of shot</th>\n",
       "      <th>num opponents within 5 yards</th>\n",
       "      <th>num opponents between shot and goal</th>\n",
       "      <th>statsbomb xg</th>\n",
       "      <th>game_id</th>\n",
       "      <th>season_id</th>\n",
       "    </tr>\n",
       "    <tr>\n",
       "      <th>shot id</th>\n",
       "      <th></th>\n",
       "      <th></th>\n",
       "      <th></th>\n",
       "      <th></th>\n",
       "      <th></th>\n",
       "      <th></th>\n",
       "      <th></th>\n",
       "      <th></th>\n",
       "      <th></th>\n",
       "      <th></th>\n",
       "      <th></th>\n",
       "      <th></th>\n",
       "      <th></th>\n",
       "      <th></th>\n",
       "      <th></th>\n",
       "    </tr>\n",
       "  </thead>\n",
       "  <tbody>\n",
       "    <tr>\n",
       "      <th>6c30cac4-6f3b-4cd0-9913-26137b058416</th>\n",
       "      <td>From Throw In</td>\n",
       "      <td>101.0</td>\n",
       "      <td>22.0</td>\n",
       "      <td>1.179654</td>\n",
       "      <td>Saved</td>\n",
       "      <td>Normal</td>\n",
       "      <td>False</td>\n",
       "      <td>118.6</td>\n",
       "      <td>37.9</td>\n",
       "      <td>Open Play</td>\n",
       "      <td>2</td>\n",
       "      <td>2</td>\n",
       "      <td>0.020549</td>\n",
       "      <td>16215</td>\n",
       "      <td>2018/2019</td>\n",
       "    </tr>\n",
       "    <tr>\n",
       "      <th>67cfa552-952c-4f72-a33a-0dd6af217a66</th>\n",
       "      <td>From Throw In</td>\n",
       "      <td>113.7</td>\n",
       "      <td>39.9</td>\n",
       "      <td>1.226969</td>\n",
       "      <td>Saved Off Target</td>\n",
       "      <td>Volley</td>\n",
       "      <td>True</td>\n",
       "      <td>117.2</td>\n",
       "      <td>39.1</td>\n",
       "      <td>Open Play</td>\n",
       "      <td>1</td>\n",
       "      <td>0</td>\n",
       "      <td>0.363959</td>\n",
       "      <td>16215</td>\n",
       "      <td>2018/2019</td>\n",
       "    </tr>\n",
       "    <tr>\n",
       "      <th>8c95e369-ec54-4a84-9d3e-51abb6f38e6e</th>\n",
       "      <td>From Free Kick</td>\n",
       "      <td>95.6</td>\n",
       "      <td>44.4</td>\n",
       "      <td>1.046942</td>\n",
       "      <td>Goal</td>\n",
       "      <td>Normal</td>\n",
       "      <td>False</td>\n",
       "      <td>119.5</td>\n",
       "      <td>39.0</td>\n",
       "      <td>Free Kick</td>\n",
       "      <td>0</td>\n",
       "      <td>5</td>\n",
       "      <td>0.127337</td>\n",
       "      <td>16215</td>\n",
       "      <td>2018/2019</td>\n",
       "    </tr>\n",
       "    <tr>\n",
       "      <th>2ae506b9-0601-460b-b91d-802296120161</th>\n",
       "      <td>From Free Kick</td>\n",
       "      <td>94.0</td>\n",
       "      <td>46.1</td>\n",
       "      <td>1.375915</td>\n",
       "      <td>Saved</td>\n",
       "      <td>Normal</td>\n",
       "      <td>False</td>\n",
       "      <td>119.1</td>\n",
       "      <td>39.5</td>\n",
       "      <td>Free Kick</td>\n",
       "      <td>0</td>\n",
       "      <td>4</td>\n",
       "      <td>0.090603</td>\n",
       "      <td>16215</td>\n",
       "      <td>2018/2019</td>\n",
       "    </tr>\n",
       "    <tr>\n",
       "      <th>10dc9818-a8d2-47f9-b219-9bc87d7b22e6</th>\n",
       "      <td>From Free Kick</td>\n",
       "      <td>104.1</td>\n",
       "      <td>22.2</td>\n",
       "      <td>0.116586</td>\n",
       "      <td>Blocked</td>\n",
       "      <td>Normal</td>\n",
       "      <td>False</td>\n",
       "      <td>118.4</td>\n",
       "      <td>37.4</td>\n",
       "      <td>Open Play</td>\n",
       "      <td>3</td>\n",
       "      <td>1</td>\n",
       "      <td>0.022751</td>\n",
       "      <td>16215</td>\n",
       "      <td>2018/2019</td>\n",
       "    </tr>\n",
       "    <tr>\n",
       "      <th>...</th>\n",
       "      <td>...</td>\n",
       "      <td>...</td>\n",
       "      <td>...</td>\n",
       "      <td>...</td>\n",
       "      <td>...</td>\n",
       "      <td>...</td>\n",
       "      <td>...</td>\n",
       "      <td>...</td>\n",
       "      <td>...</td>\n",
       "      <td>...</td>\n",
       "      <td>...</td>\n",
       "      <td>...</td>\n",
       "      <td>...</td>\n",
       "      <td>...</td>\n",
       "      <td>...</td>\n",
       "    </tr>\n",
       "    <tr>\n",
       "      <th>da65c5c6-ce8f-46d3-b0b4-17fb1c9e31c3</th>\n",
       "      <td>From Free Kick</td>\n",
       "      <td>93.8</td>\n",
       "      <td>40.1</td>\n",
       "      <td>1.278336</td>\n",
       "      <td>Off T</td>\n",
       "      <td>Normal</td>\n",
       "      <td>True</td>\n",
       "      <td>115.2</td>\n",
       "      <td>42.1</td>\n",
       "      <td>Open Play</td>\n",
       "      <td>0</td>\n",
       "      <td>1</td>\n",
       "      <td>0.042606</td>\n",
       "      <td>68352</td>\n",
       "      <td>2004/2005</td>\n",
       "    </tr>\n",
       "    <tr>\n",
       "      <th>805dd74f-323c-412d-9b77-9c54c1a60f66</th>\n",
       "      <td>Regular Play</td>\n",
       "      <td>110.1</td>\n",
       "      <td>40.2</td>\n",
       "      <td>0.671461</td>\n",
       "      <td>Saved</td>\n",
       "      <td>Normal</td>\n",
       "      <td>False</td>\n",
       "      <td>119.4</td>\n",
       "      <td>39.9</td>\n",
       "      <td>Open Play</td>\n",
       "      <td>2</td>\n",
       "      <td>0</td>\n",
       "      <td>0.117359</td>\n",
       "      <td>68352</td>\n",
       "      <td>2004/2005</td>\n",
       "    </tr>\n",
       "    <tr>\n",
       "      <th>4eadd318-25f7-420d-8aa9-53685cece638</th>\n",
       "      <td>From Corner</td>\n",
       "      <td>93.7</td>\n",
       "      <td>48.5</td>\n",
       "      <td>0.946505</td>\n",
       "      <td>Saved</td>\n",
       "      <td>Volley</td>\n",
       "      <td>True</td>\n",
       "      <td>119.3</td>\n",
       "      <td>39.9</td>\n",
       "      <td>Open Play</td>\n",
       "      <td>1</td>\n",
       "      <td>3</td>\n",
       "      <td>0.013930</td>\n",
       "      <td>68352</td>\n",
       "      <td>2004/2005</td>\n",
       "    </tr>\n",
       "    <tr>\n",
       "      <th>723139d5-21a9-49f7-aca6-60cffdc6f6bc</th>\n",
       "      <td>Regular Play</td>\n",
       "      <td>109.9</td>\n",
       "      <td>47.4</td>\n",
       "      <td>0.468700</td>\n",
       "      <td>Blocked</td>\n",
       "      <td>Normal</td>\n",
       "      <td>True</td>\n",
       "      <td>118.7</td>\n",
       "      <td>43.2</td>\n",
       "      <td>Open Play</td>\n",
       "      <td>3</td>\n",
       "      <td>1</td>\n",
       "      <td>0.100666</td>\n",
       "      <td>68352</td>\n",
       "      <td>2004/2005</td>\n",
       "    </tr>\n",
       "    <tr>\n",
       "      <th>6031f8cc-26a6-449c-b455-2d7c301ca005</th>\n",
       "      <td>Regular Play</td>\n",
       "      <td>99.2</td>\n",
       "      <td>34.9</td>\n",
       "      <td>0.984200</td>\n",
       "      <td>Off T</td>\n",
       "      <td>Normal</td>\n",
       "      <td>False</td>\n",
       "      <td>118.8</td>\n",
       "      <td>41.7</td>\n",
       "      <td>Open Play</td>\n",
       "      <td>2</td>\n",
       "      <td>1</td>\n",
       "      <td>0.053242</td>\n",
       "      <td>68352</td>\n",
       "      <td>2004/2005</td>\n",
       "    </tr>\n",
       "  </tbody>\n",
       "</table>\n",
       "<p>11251 rows × 15 columns</p>\n",
       "</div>"
      ],
      "text/plain": [
       "                                        play pattern  x start location  \\\n",
       "shot id                                                                  \n",
       "6c30cac4-6f3b-4cd0-9913-26137b058416   From Throw In             101.0   \n",
       "67cfa552-952c-4f72-a33a-0dd6af217a66   From Throw In             113.7   \n",
       "8c95e369-ec54-4a84-9d3e-51abb6f38e6e  From Free Kick              95.6   \n",
       "2ae506b9-0601-460b-b91d-802296120161  From Free Kick              94.0   \n",
       "10dc9818-a8d2-47f9-b219-9bc87d7b22e6  From Free Kick             104.1   \n",
       "...                                              ...               ...   \n",
       "da65c5c6-ce8f-46d3-b0b4-17fb1c9e31c3  From Free Kick              93.8   \n",
       "805dd74f-323c-412d-9b77-9c54c1a60f66    Regular Play             110.1   \n",
       "4eadd318-25f7-420d-8aa9-53685cece638     From Corner              93.7   \n",
       "723139d5-21a9-49f7-aca6-60cffdc6f6bc    Regular Play             109.9   \n",
       "6031f8cc-26a6-449c-b455-2d7c301ca005    Regular Play              99.2   \n",
       "\n",
       "                                      y start location  duration  \\\n",
       "shot id                                                            \n",
       "6c30cac4-6f3b-4cd0-9913-26137b058416              22.0  1.179654   \n",
       "67cfa552-952c-4f72-a33a-0dd6af217a66              39.9  1.226969   \n",
       "8c95e369-ec54-4a84-9d3e-51abb6f38e6e              44.4  1.046942   \n",
       "2ae506b9-0601-460b-b91d-802296120161              46.1  1.375915   \n",
       "10dc9818-a8d2-47f9-b219-9bc87d7b22e6              22.2  0.116586   \n",
       "...                                                ...       ...   \n",
       "da65c5c6-ce8f-46d3-b0b4-17fb1c9e31c3              40.1  1.278336   \n",
       "805dd74f-323c-412d-9b77-9c54c1a60f66              40.2  0.671461   \n",
       "4eadd318-25f7-420d-8aa9-53685cece638              48.5  0.946505   \n",
       "723139d5-21a9-49f7-aca6-60cffdc6f6bc              47.4  0.468700   \n",
       "6031f8cc-26a6-449c-b455-2d7c301ca005              34.9  0.984200   \n",
       "\n",
       "                                               outcome technique  first time  \\\n",
       "shot id                                                                        \n",
       "6c30cac4-6f3b-4cd0-9913-26137b058416             Saved    Normal       False   \n",
       "67cfa552-952c-4f72-a33a-0dd6af217a66  Saved Off Target    Volley        True   \n",
       "8c95e369-ec54-4a84-9d3e-51abb6f38e6e              Goal    Normal       False   \n",
       "2ae506b9-0601-460b-b91d-802296120161             Saved    Normal       False   \n",
       "10dc9818-a8d2-47f9-b219-9bc87d7b22e6           Blocked    Normal       False   \n",
       "...                                                ...       ...         ...   \n",
       "da65c5c6-ce8f-46d3-b0b4-17fb1c9e31c3             Off T    Normal        True   \n",
       "805dd74f-323c-412d-9b77-9c54c1a60f66             Saved    Normal       False   \n",
       "4eadd318-25f7-420d-8aa9-53685cece638             Saved    Volley        True   \n",
       "723139d5-21a9-49f7-aca6-60cffdc6f6bc           Blocked    Normal        True   \n",
       "6031f8cc-26a6-449c-b455-2d7c301ca005             Off T    Normal       False   \n",
       "\n",
       "                                      x gk position  y gk position  \\\n",
       "shot id                                                              \n",
       "6c30cac4-6f3b-4cd0-9913-26137b058416          118.6           37.9   \n",
       "67cfa552-952c-4f72-a33a-0dd6af217a66          117.2           39.1   \n",
       "8c95e369-ec54-4a84-9d3e-51abb6f38e6e          119.5           39.0   \n",
       "2ae506b9-0601-460b-b91d-802296120161          119.1           39.5   \n",
       "10dc9818-a8d2-47f9-b219-9bc87d7b22e6          118.4           37.4   \n",
       "...                                             ...            ...   \n",
       "da65c5c6-ce8f-46d3-b0b4-17fb1c9e31c3          115.2           42.1   \n",
       "805dd74f-323c-412d-9b77-9c54c1a60f66          119.4           39.9   \n",
       "4eadd318-25f7-420d-8aa9-53685cece638          119.3           39.9   \n",
       "723139d5-21a9-49f7-aca6-60cffdc6f6bc          118.7           43.2   \n",
       "6031f8cc-26a6-449c-b455-2d7c301ca005          118.8           41.7   \n",
       "\n",
       "                                     type of shot  \\\n",
       "shot id                                             \n",
       "6c30cac4-6f3b-4cd0-9913-26137b058416    Open Play   \n",
       "67cfa552-952c-4f72-a33a-0dd6af217a66    Open Play   \n",
       "8c95e369-ec54-4a84-9d3e-51abb6f38e6e    Free Kick   \n",
       "2ae506b9-0601-460b-b91d-802296120161    Free Kick   \n",
       "10dc9818-a8d2-47f9-b219-9bc87d7b22e6    Open Play   \n",
       "...                                           ...   \n",
       "da65c5c6-ce8f-46d3-b0b4-17fb1c9e31c3    Open Play   \n",
       "805dd74f-323c-412d-9b77-9c54c1a60f66    Open Play   \n",
       "4eadd318-25f7-420d-8aa9-53685cece638    Open Play   \n",
       "723139d5-21a9-49f7-aca6-60cffdc6f6bc    Open Play   \n",
       "6031f8cc-26a6-449c-b455-2d7c301ca005    Open Play   \n",
       "\n",
       "                                      num opponents within 5 yards  \\\n",
       "shot id                                                              \n",
       "6c30cac4-6f3b-4cd0-9913-26137b058416                             2   \n",
       "67cfa552-952c-4f72-a33a-0dd6af217a66                             1   \n",
       "8c95e369-ec54-4a84-9d3e-51abb6f38e6e                             0   \n",
       "2ae506b9-0601-460b-b91d-802296120161                             0   \n",
       "10dc9818-a8d2-47f9-b219-9bc87d7b22e6                             3   \n",
       "...                                                            ...   \n",
       "da65c5c6-ce8f-46d3-b0b4-17fb1c9e31c3                             0   \n",
       "805dd74f-323c-412d-9b77-9c54c1a60f66                             2   \n",
       "4eadd318-25f7-420d-8aa9-53685cece638                             1   \n",
       "723139d5-21a9-49f7-aca6-60cffdc6f6bc                             3   \n",
       "6031f8cc-26a6-449c-b455-2d7c301ca005                             2   \n",
       "\n",
       "                                      num opponents between shot and goal  \\\n",
       "shot id                                                                     \n",
       "6c30cac4-6f3b-4cd0-9913-26137b058416                                    2   \n",
       "67cfa552-952c-4f72-a33a-0dd6af217a66                                    0   \n",
       "8c95e369-ec54-4a84-9d3e-51abb6f38e6e                                    5   \n",
       "2ae506b9-0601-460b-b91d-802296120161                                    4   \n",
       "10dc9818-a8d2-47f9-b219-9bc87d7b22e6                                    1   \n",
       "...                                                                   ...   \n",
       "da65c5c6-ce8f-46d3-b0b4-17fb1c9e31c3                                    1   \n",
       "805dd74f-323c-412d-9b77-9c54c1a60f66                                    0   \n",
       "4eadd318-25f7-420d-8aa9-53685cece638                                    3   \n",
       "723139d5-21a9-49f7-aca6-60cffdc6f6bc                                    1   \n",
       "6031f8cc-26a6-449c-b455-2d7c301ca005                                    1   \n",
       "\n",
       "                                      statsbomb xg game_id  season_id  \n",
       "shot id                                                                \n",
       "6c30cac4-6f3b-4cd0-9913-26137b058416      0.020549   16215  2018/2019  \n",
       "67cfa552-952c-4f72-a33a-0dd6af217a66      0.363959   16215  2018/2019  \n",
       "8c95e369-ec54-4a84-9d3e-51abb6f38e6e      0.127337   16215  2018/2019  \n",
       "2ae506b9-0601-460b-b91d-802296120161      0.090603   16215  2018/2019  \n",
       "10dc9818-a8d2-47f9-b219-9bc87d7b22e6      0.022751   16215  2018/2019  \n",
       "...                                            ...     ...        ...  \n",
       "da65c5c6-ce8f-46d3-b0b4-17fb1c9e31c3      0.042606   68352  2004/2005  \n",
       "805dd74f-323c-412d-9b77-9c54c1a60f66      0.117359   68352  2004/2005  \n",
       "4eadd318-25f7-420d-8aa9-53685cece638      0.013930   68352  2004/2005  \n",
       "723139d5-21a9-49f7-aca6-60cffdc6f6bc      0.100666   68352  2004/2005  \n",
       "6031f8cc-26a6-449c-b455-2d7c301ca005      0.053242   68352  2004/2005  \n",
       "\n",
       "[11251 rows x 15 columns]"
      ]
     },
     "execution_count": 251,
     "metadata": {},
     "output_type": "execute_result"
    }
   ],
   "source": [
    "all_la_liga_shots"
   ]
  },
  {
   "cell_type": "code",
   "execution_count": null,
   "metadata": {},
   "outputs": [],
   "source": []
  },
  {
   "cell_type": "markdown",
   "metadata": {},
   "source": [
    "## 2. Data Exploration"
   ]
  },
  {
   "cell_type": "markdown",
   "metadata": {},
   "source": [
    "Before starting to train our models, we'll want to do some data exploration to get an initial idea of what variables affect the probability of a shot resulting in a goal. Even though, as we'll see, many of the models will select the features for us, this is still a useful exercise as it will give us a more intuitive idea of what the models will be doing. \n",
    "\n",
    "Additionally, if we find patterns in the visualizations below that make sense based on what we know about soccer, it will be a sort of \"sanity-check\" that we have accurately extracted the shot data."
   ]
  },
  {
   "cell_type": "markdown",
   "metadata": {},
   "source": [
    "### 2.1 Feature engineering\n",
    "\n",
    "We will first create the following new variables:\n",
    "\n",
    "- Distance of shot location from goal\n",
    "- Convert outcome to a binary variable (Goal = 1, Other = 0). I'm doing this since for now, I don't care if the shot was saved, went wide, etc. I only care if it went in or not."
   ]
  },
  {
   "cell_type": "code",
   "execution_count": 252,
   "metadata": {},
   "outputs": [
    {
     "name": "stderr",
     "output_type": "stream",
     "text": [
      "/Users/robertblumberg/anaconda3/lib/python3.7/site-packages/pandas/core/indexing.py:205: SettingWithCopyWarning: \n",
      "A value is trying to be set on a copy of a slice from a DataFrame\n",
      "\n",
      "See the caveats in the documentation: http://pandas.pydata.org/pandas-docs/stable/user_guide/indexing.html#returning-a-view-versus-a-copy\n",
      "  self._setitem_with_indexer(indexer, value)\n"
     ]
    }
   ],
   "source": [
    "all_la_liga_shots[\"Distance from goal\"] = np.sqrt((all_la_liga_shots[\"x start location\"] - 120)**2 +    \\\n",
    "                                                  (all_la_liga_shots[\"y start location\"] - 40)**2)\n",
    "\n",
    "goal_label_mask = all_la_liga_shots[\"outcome\"].str.contains(\"Goal\")\n",
    "all_la_liga_shots[\"outcome\"].loc[goal_label_mask] = 1\n",
    "all_la_liga_shots[\"outcome\"].loc[~goal_label_mask] = 0"
   ]
  },
  {
   "cell_type": "code",
   "execution_count": 253,
   "metadata": {},
   "outputs": [
    {
     "data": {
      "text/html": [
       "<div>\n",
       "<style scoped>\n",
       "    .dataframe tbody tr th:only-of-type {\n",
       "        vertical-align: middle;\n",
       "    }\n",
       "\n",
       "    .dataframe tbody tr th {\n",
       "        vertical-align: top;\n",
       "    }\n",
       "\n",
       "    .dataframe thead th {\n",
       "        text-align: right;\n",
       "    }\n",
       "</style>\n",
       "<table border=\"1\" class=\"dataframe\">\n",
       "  <thead>\n",
       "    <tr style=\"text-align: right;\">\n",
       "      <th></th>\n",
       "      <th>play pattern</th>\n",
       "      <th>x start location</th>\n",
       "      <th>y start location</th>\n",
       "      <th>duration</th>\n",
       "      <th>outcome</th>\n",
       "      <th>technique</th>\n",
       "      <th>first time</th>\n",
       "      <th>x gk position</th>\n",
       "      <th>y gk position</th>\n",
       "      <th>type of shot</th>\n",
       "      <th>num opponents within 5 yards</th>\n",
       "      <th>num opponents between shot and goal</th>\n",
       "      <th>statsbomb xg</th>\n",
       "      <th>game_id</th>\n",
       "      <th>season_id</th>\n",
       "      <th>Distance from goal</th>\n",
       "    </tr>\n",
       "    <tr>\n",
       "      <th>shot id</th>\n",
       "      <th></th>\n",
       "      <th></th>\n",
       "      <th></th>\n",
       "      <th></th>\n",
       "      <th></th>\n",
       "      <th></th>\n",
       "      <th></th>\n",
       "      <th></th>\n",
       "      <th></th>\n",
       "      <th></th>\n",
       "      <th></th>\n",
       "      <th></th>\n",
       "      <th></th>\n",
       "      <th></th>\n",
       "      <th></th>\n",
       "      <th></th>\n",
       "    </tr>\n",
       "  </thead>\n",
       "  <tbody>\n",
       "    <tr>\n",
       "      <th>6c30cac4-6f3b-4cd0-9913-26137b058416</th>\n",
       "      <td>From Throw In</td>\n",
       "      <td>101.0</td>\n",
       "      <td>22.0</td>\n",
       "      <td>1.179654</td>\n",
       "      <td>0</td>\n",
       "      <td>Normal</td>\n",
       "      <td>False</td>\n",
       "      <td>118.6</td>\n",
       "      <td>37.9</td>\n",
       "      <td>Open Play</td>\n",
       "      <td>2</td>\n",
       "      <td>2</td>\n",
       "      <td>0.020549</td>\n",
       "      <td>16215</td>\n",
       "      <td>2018/2019</td>\n",
       "      <td>26.172505</td>\n",
       "    </tr>\n",
       "    <tr>\n",
       "      <th>67cfa552-952c-4f72-a33a-0dd6af217a66</th>\n",
       "      <td>From Throw In</td>\n",
       "      <td>113.7</td>\n",
       "      <td>39.9</td>\n",
       "      <td>1.226969</td>\n",
       "      <td>0</td>\n",
       "      <td>Volley</td>\n",
       "      <td>True</td>\n",
       "      <td>117.2</td>\n",
       "      <td>39.1</td>\n",
       "      <td>Open Play</td>\n",
       "      <td>1</td>\n",
       "      <td>0</td>\n",
       "      <td>0.363959</td>\n",
       "      <td>16215</td>\n",
       "      <td>2018/2019</td>\n",
       "      <td>6.300794</td>\n",
       "    </tr>\n",
       "    <tr>\n",
       "      <th>8c95e369-ec54-4a84-9d3e-51abb6f38e6e</th>\n",
       "      <td>From Free Kick</td>\n",
       "      <td>95.6</td>\n",
       "      <td>44.4</td>\n",
       "      <td>1.046942</td>\n",
       "      <td>1</td>\n",
       "      <td>Normal</td>\n",
       "      <td>False</td>\n",
       "      <td>119.5</td>\n",
       "      <td>39.0</td>\n",
       "      <td>Free Kick</td>\n",
       "      <td>0</td>\n",
       "      <td>5</td>\n",
       "      <td>0.127337</td>\n",
       "      <td>16215</td>\n",
       "      <td>2018/2019</td>\n",
       "      <td>24.793548</td>\n",
       "    </tr>\n",
       "    <tr>\n",
       "      <th>2ae506b9-0601-460b-b91d-802296120161</th>\n",
       "      <td>From Free Kick</td>\n",
       "      <td>94.0</td>\n",
       "      <td>46.1</td>\n",
       "      <td>1.375915</td>\n",
       "      <td>0</td>\n",
       "      <td>Normal</td>\n",
       "      <td>False</td>\n",
       "      <td>119.1</td>\n",
       "      <td>39.5</td>\n",
       "      <td>Free Kick</td>\n",
       "      <td>0</td>\n",
       "      <td>4</td>\n",
       "      <td>0.090603</td>\n",
       "      <td>16215</td>\n",
       "      <td>2018/2019</td>\n",
       "      <td>26.705992</td>\n",
       "    </tr>\n",
       "    <tr>\n",
       "      <th>10dc9818-a8d2-47f9-b219-9bc87d7b22e6</th>\n",
       "      <td>From Free Kick</td>\n",
       "      <td>104.1</td>\n",
       "      <td>22.2</td>\n",
       "      <td>0.116586</td>\n",
       "      <td>0</td>\n",
       "      <td>Normal</td>\n",
       "      <td>False</td>\n",
       "      <td>118.4</td>\n",
       "      <td>37.4</td>\n",
       "      <td>Open Play</td>\n",
       "      <td>3</td>\n",
       "      <td>1</td>\n",
       "      <td>0.022751</td>\n",
       "      <td>16215</td>\n",
       "      <td>2018/2019</td>\n",
       "      <td>23.867342</td>\n",
       "    </tr>\n",
       "    <tr>\n",
       "      <th>...</th>\n",
       "      <td>...</td>\n",
       "      <td>...</td>\n",
       "      <td>...</td>\n",
       "      <td>...</td>\n",
       "      <td>...</td>\n",
       "      <td>...</td>\n",
       "      <td>...</td>\n",
       "      <td>...</td>\n",
       "      <td>...</td>\n",
       "      <td>...</td>\n",
       "      <td>...</td>\n",
       "      <td>...</td>\n",
       "      <td>...</td>\n",
       "      <td>...</td>\n",
       "      <td>...</td>\n",
       "      <td>...</td>\n",
       "    </tr>\n",
       "    <tr>\n",
       "      <th>da65c5c6-ce8f-46d3-b0b4-17fb1c9e31c3</th>\n",
       "      <td>From Free Kick</td>\n",
       "      <td>93.8</td>\n",
       "      <td>40.1</td>\n",
       "      <td>1.278336</td>\n",
       "      <td>0</td>\n",
       "      <td>Normal</td>\n",
       "      <td>True</td>\n",
       "      <td>115.2</td>\n",
       "      <td>42.1</td>\n",
       "      <td>Open Play</td>\n",
       "      <td>0</td>\n",
       "      <td>1</td>\n",
       "      <td>0.042606</td>\n",
       "      <td>68352</td>\n",
       "      <td>2004/2005</td>\n",
       "      <td>26.200191</td>\n",
       "    </tr>\n",
       "    <tr>\n",
       "      <th>805dd74f-323c-412d-9b77-9c54c1a60f66</th>\n",
       "      <td>Regular Play</td>\n",
       "      <td>110.1</td>\n",
       "      <td>40.2</td>\n",
       "      <td>0.671461</td>\n",
       "      <td>0</td>\n",
       "      <td>Normal</td>\n",
       "      <td>False</td>\n",
       "      <td>119.4</td>\n",
       "      <td>39.9</td>\n",
       "      <td>Open Play</td>\n",
       "      <td>2</td>\n",
       "      <td>0</td>\n",
       "      <td>0.117359</td>\n",
       "      <td>68352</td>\n",
       "      <td>2004/2005</td>\n",
       "      <td>9.902020</td>\n",
       "    </tr>\n",
       "    <tr>\n",
       "      <th>4eadd318-25f7-420d-8aa9-53685cece638</th>\n",
       "      <td>From Corner</td>\n",
       "      <td>93.7</td>\n",
       "      <td>48.5</td>\n",
       "      <td>0.946505</td>\n",
       "      <td>0</td>\n",
       "      <td>Volley</td>\n",
       "      <td>True</td>\n",
       "      <td>119.3</td>\n",
       "      <td>39.9</td>\n",
       "      <td>Open Play</td>\n",
       "      <td>1</td>\n",
       "      <td>3</td>\n",
       "      <td>0.013930</td>\n",
       "      <td>68352</td>\n",
       "      <td>2004/2005</td>\n",
       "      <td>27.639465</td>\n",
       "    </tr>\n",
       "    <tr>\n",
       "      <th>723139d5-21a9-49f7-aca6-60cffdc6f6bc</th>\n",
       "      <td>Regular Play</td>\n",
       "      <td>109.9</td>\n",
       "      <td>47.4</td>\n",
       "      <td>0.468700</td>\n",
       "      <td>0</td>\n",
       "      <td>Normal</td>\n",
       "      <td>True</td>\n",
       "      <td>118.7</td>\n",
       "      <td>43.2</td>\n",
       "      <td>Open Play</td>\n",
       "      <td>3</td>\n",
       "      <td>1</td>\n",
       "      <td>0.100666</td>\n",
       "      <td>68352</td>\n",
       "      <td>2004/2005</td>\n",
       "      <td>12.520783</td>\n",
       "    </tr>\n",
       "    <tr>\n",
       "      <th>6031f8cc-26a6-449c-b455-2d7c301ca005</th>\n",
       "      <td>Regular Play</td>\n",
       "      <td>99.2</td>\n",
       "      <td>34.9</td>\n",
       "      <td>0.984200</td>\n",
       "      <td>0</td>\n",
       "      <td>Normal</td>\n",
       "      <td>False</td>\n",
       "      <td>118.8</td>\n",
       "      <td>41.7</td>\n",
       "      <td>Open Play</td>\n",
       "      <td>2</td>\n",
       "      <td>1</td>\n",
       "      <td>0.053242</td>\n",
       "      <td>68352</td>\n",
       "      <td>2004/2005</td>\n",
       "      <td>21.416115</td>\n",
       "    </tr>\n",
       "  </tbody>\n",
       "</table>\n",
       "<p>11251 rows × 16 columns</p>\n",
       "</div>"
      ],
      "text/plain": [
       "                                        play pattern  x start location  \\\n",
       "shot id                                                                  \n",
       "6c30cac4-6f3b-4cd0-9913-26137b058416   From Throw In             101.0   \n",
       "67cfa552-952c-4f72-a33a-0dd6af217a66   From Throw In             113.7   \n",
       "8c95e369-ec54-4a84-9d3e-51abb6f38e6e  From Free Kick              95.6   \n",
       "2ae506b9-0601-460b-b91d-802296120161  From Free Kick              94.0   \n",
       "10dc9818-a8d2-47f9-b219-9bc87d7b22e6  From Free Kick             104.1   \n",
       "...                                              ...               ...   \n",
       "da65c5c6-ce8f-46d3-b0b4-17fb1c9e31c3  From Free Kick              93.8   \n",
       "805dd74f-323c-412d-9b77-9c54c1a60f66    Regular Play             110.1   \n",
       "4eadd318-25f7-420d-8aa9-53685cece638     From Corner              93.7   \n",
       "723139d5-21a9-49f7-aca6-60cffdc6f6bc    Regular Play             109.9   \n",
       "6031f8cc-26a6-449c-b455-2d7c301ca005    Regular Play              99.2   \n",
       "\n",
       "                                      y start location  duration  outcome  \\\n",
       "shot id                                                                     \n",
       "6c30cac4-6f3b-4cd0-9913-26137b058416              22.0  1.179654        0   \n",
       "67cfa552-952c-4f72-a33a-0dd6af217a66              39.9  1.226969        0   \n",
       "8c95e369-ec54-4a84-9d3e-51abb6f38e6e              44.4  1.046942        1   \n",
       "2ae506b9-0601-460b-b91d-802296120161              46.1  1.375915        0   \n",
       "10dc9818-a8d2-47f9-b219-9bc87d7b22e6              22.2  0.116586        0   \n",
       "...                                                ...       ...      ...   \n",
       "da65c5c6-ce8f-46d3-b0b4-17fb1c9e31c3              40.1  1.278336        0   \n",
       "805dd74f-323c-412d-9b77-9c54c1a60f66              40.2  0.671461        0   \n",
       "4eadd318-25f7-420d-8aa9-53685cece638              48.5  0.946505        0   \n",
       "723139d5-21a9-49f7-aca6-60cffdc6f6bc              47.4  0.468700        0   \n",
       "6031f8cc-26a6-449c-b455-2d7c301ca005              34.9  0.984200        0   \n",
       "\n",
       "                                     technique  first time  x gk position  \\\n",
       "shot id                                                                     \n",
       "6c30cac4-6f3b-4cd0-9913-26137b058416    Normal       False          118.6   \n",
       "67cfa552-952c-4f72-a33a-0dd6af217a66    Volley        True          117.2   \n",
       "8c95e369-ec54-4a84-9d3e-51abb6f38e6e    Normal       False          119.5   \n",
       "2ae506b9-0601-460b-b91d-802296120161    Normal       False          119.1   \n",
       "10dc9818-a8d2-47f9-b219-9bc87d7b22e6    Normal       False          118.4   \n",
       "...                                        ...         ...            ...   \n",
       "da65c5c6-ce8f-46d3-b0b4-17fb1c9e31c3    Normal        True          115.2   \n",
       "805dd74f-323c-412d-9b77-9c54c1a60f66    Normal       False          119.4   \n",
       "4eadd318-25f7-420d-8aa9-53685cece638    Volley        True          119.3   \n",
       "723139d5-21a9-49f7-aca6-60cffdc6f6bc    Normal        True          118.7   \n",
       "6031f8cc-26a6-449c-b455-2d7c301ca005    Normal       False          118.8   \n",
       "\n",
       "                                      y gk position type of shot  \\\n",
       "shot id                                                            \n",
       "6c30cac4-6f3b-4cd0-9913-26137b058416           37.9    Open Play   \n",
       "67cfa552-952c-4f72-a33a-0dd6af217a66           39.1    Open Play   \n",
       "8c95e369-ec54-4a84-9d3e-51abb6f38e6e           39.0    Free Kick   \n",
       "2ae506b9-0601-460b-b91d-802296120161           39.5    Free Kick   \n",
       "10dc9818-a8d2-47f9-b219-9bc87d7b22e6           37.4    Open Play   \n",
       "...                                             ...          ...   \n",
       "da65c5c6-ce8f-46d3-b0b4-17fb1c9e31c3           42.1    Open Play   \n",
       "805dd74f-323c-412d-9b77-9c54c1a60f66           39.9    Open Play   \n",
       "4eadd318-25f7-420d-8aa9-53685cece638           39.9    Open Play   \n",
       "723139d5-21a9-49f7-aca6-60cffdc6f6bc           43.2    Open Play   \n",
       "6031f8cc-26a6-449c-b455-2d7c301ca005           41.7    Open Play   \n",
       "\n",
       "                                      num opponents within 5 yards  \\\n",
       "shot id                                                              \n",
       "6c30cac4-6f3b-4cd0-9913-26137b058416                             2   \n",
       "67cfa552-952c-4f72-a33a-0dd6af217a66                             1   \n",
       "8c95e369-ec54-4a84-9d3e-51abb6f38e6e                             0   \n",
       "2ae506b9-0601-460b-b91d-802296120161                             0   \n",
       "10dc9818-a8d2-47f9-b219-9bc87d7b22e6                             3   \n",
       "...                                                            ...   \n",
       "da65c5c6-ce8f-46d3-b0b4-17fb1c9e31c3                             0   \n",
       "805dd74f-323c-412d-9b77-9c54c1a60f66                             2   \n",
       "4eadd318-25f7-420d-8aa9-53685cece638                             1   \n",
       "723139d5-21a9-49f7-aca6-60cffdc6f6bc                             3   \n",
       "6031f8cc-26a6-449c-b455-2d7c301ca005                             2   \n",
       "\n",
       "                                      num opponents between shot and goal  \\\n",
       "shot id                                                                     \n",
       "6c30cac4-6f3b-4cd0-9913-26137b058416                                    2   \n",
       "67cfa552-952c-4f72-a33a-0dd6af217a66                                    0   \n",
       "8c95e369-ec54-4a84-9d3e-51abb6f38e6e                                    5   \n",
       "2ae506b9-0601-460b-b91d-802296120161                                    4   \n",
       "10dc9818-a8d2-47f9-b219-9bc87d7b22e6                                    1   \n",
       "...                                                                   ...   \n",
       "da65c5c6-ce8f-46d3-b0b4-17fb1c9e31c3                                    1   \n",
       "805dd74f-323c-412d-9b77-9c54c1a60f66                                    0   \n",
       "4eadd318-25f7-420d-8aa9-53685cece638                                    3   \n",
       "723139d5-21a9-49f7-aca6-60cffdc6f6bc                                    1   \n",
       "6031f8cc-26a6-449c-b455-2d7c301ca005                                    1   \n",
       "\n",
       "                                      statsbomb xg game_id  season_id  \\\n",
       "shot id                                                                 \n",
       "6c30cac4-6f3b-4cd0-9913-26137b058416      0.020549   16215  2018/2019   \n",
       "67cfa552-952c-4f72-a33a-0dd6af217a66      0.363959   16215  2018/2019   \n",
       "8c95e369-ec54-4a84-9d3e-51abb6f38e6e      0.127337   16215  2018/2019   \n",
       "2ae506b9-0601-460b-b91d-802296120161      0.090603   16215  2018/2019   \n",
       "10dc9818-a8d2-47f9-b219-9bc87d7b22e6      0.022751   16215  2018/2019   \n",
       "...                                            ...     ...        ...   \n",
       "da65c5c6-ce8f-46d3-b0b4-17fb1c9e31c3      0.042606   68352  2004/2005   \n",
       "805dd74f-323c-412d-9b77-9c54c1a60f66      0.117359   68352  2004/2005   \n",
       "4eadd318-25f7-420d-8aa9-53685cece638      0.013930   68352  2004/2005   \n",
       "723139d5-21a9-49f7-aca6-60cffdc6f6bc      0.100666   68352  2004/2005   \n",
       "6031f8cc-26a6-449c-b455-2d7c301ca005      0.053242   68352  2004/2005   \n",
       "\n",
       "                                      Distance from goal  \n",
       "shot id                                                   \n",
       "6c30cac4-6f3b-4cd0-9913-26137b058416           26.172505  \n",
       "67cfa552-952c-4f72-a33a-0dd6af217a66            6.300794  \n",
       "8c95e369-ec54-4a84-9d3e-51abb6f38e6e           24.793548  \n",
       "2ae506b9-0601-460b-b91d-802296120161           26.705992  \n",
       "10dc9818-a8d2-47f9-b219-9bc87d7b22e6           23.867342  \n",
       "...                                                  ...  \n",
       "da65c5c6-ce8f-46d3-b0b4-17fb1c9e31c3           26.200191  \n",
       "805dd74f-323c-412d-9b77-9c54c1a60f66            9.902020  \n",
       "4eadd318-25f7-420d-8aa9-53685cece638           27.639465  \n",
       "723139d5-21a9-49f7-aca6-60cffdc6f6bc           12.520783  \n",
       "6031f8cc-26a6-449c-b455-2d7c301ca005           21.416115  \n",
       "\n",
       "[11251 rows x 16 columns]"
      ]
     },
     "execution_count": 253,
     "metadata": {},
     "output_type": "execute_result"
    }
   ],
   "source": [
    "all_la_liga_shots"
   ]
  },
  {
   "cell_type": "markdown",
   "metadata": {},
   "source": [
    "### 2.2 Create a training and test set"
   ]
  },
  {
   "cell_type": "markdown",
   "metadata": {},
   "source": [
    "Since I don't want the test set to influence my model in any way (including the data exploration - which could eventually inform how I choose my model), I'll split the data now into test and training sets and stash the test set away until my model is finished."
   ]
  },
  {
   "cell_type": "code",
   "execution_count": 254,
   "metadata": {},
   "outputs": [],
   "source": [
    "X_train, X_test, y_train, y_test = train_test_split(all_la_liga_shots.drop([\"outcome\"], axis=1), all_la_liga_shots[\"outcome\"], test_size=0.2)\n",
    "\n",
    "shot_training_set = pd.merge(X_train, y_train, left_index=True, right_index=True)\n",
    "shot_test_set = pd.merge(X_test, y_test, left_index=True, right_index=True)"
   ]
  },
  {
   "cell_type": "code",
   "execution_count": 255,
   "metadata": {},
   "outputs": [
    {
     "data": {
      "text/html": [
       "<div>\n",
       "<style scoped>\n",
       "    .dataframe tbody tr th:only-of-type {\n",
       "        vertical-align: middle;\n",
       "    }\n",
       "\n",
       "    .dataframe tbody tr th {\n",
       "        vertical-align: top;\n",
       "    }\n",
       "\n",
       "    .dataframe thead th {\n",
       "        text-align: right;\n",
       "    }\n",
       "</style>\n",
       "<table border=\"1\" class=\"dataframe\">\n",
       "  <thead>\n",
       "    <tr style=\"text-align: right;\">\n",
       "      <th></th>\n",
       "      <th>play pattern</th>\n",
       "      <th>x start location</th>\n",
       "      <th>y start location</th>\n",
       "      <th>duration</th>\n",
       "      <th>technique</th>\n",
       "      <th>first time</th>\n",
       "      <th>x gk position</th>\n",
       "      <th>y gk position</th>\n",
       "      <th>type of shot</th>\n",
       "      <th>num opponents within 5 yards</th>\n",
       "      <th>num opponents between shot and goal</th>\n",
       "      <th>statsbomb xg</th>\n",
       "      <th>game_id</th>\n",
       "      <th>season_id</th>\n",
       "      <th>Distance from goal</th>\n",
       "      <th>outcome</th>\n",
       "    </tr>\n",
       "    <tr>\n",
       "      <th>shot id</th>\n",
       "      <th></th>\n",
       "      <th></th>\n",
       "      <th></th>\n",
       "      <th></th>\n",
       "      <th></th>\n",
       "      <th></th>\n",
       "      <th></th>\n",
       "      <th></th>\n",
       "      <th></th>\n",
       "      <th></th>\n",
       "      <th></th>\n",
       "      <th></th>\n",
       "      <th></th>\n",
       "      <th></th>\n",
       "      <th></th>\n",
       "      <th></th>\n",
       "    </tr>\n",
       "  </thead>\n",
       "  <tbody>\n",
       "    <tr>\n",
       "      <th>429197f3-82e4-4745-a44d-53d48fb8a25a</th>\n",
       "      <td>From Free Kick</td>\n",
       "      <td>82.2</td>\n",
       "      <td>42.2</td>\n",
       "      <td>1.428466</td>\n",
       "      <td>Normal</td>\n",
       "      <td>False</td>\n",
       "      <td>118.5</td>\n",
       "      <td>40.0</td>\n",
       "      <td>Free Kick</td>\n",
       "      <td>0</td>\n",
       "      <td>0</td>\n",
       "      <td>0.014002</td>\n",
       "      <td>9682</td>\n",
       "      <td>2017/2018</td>\n",
       "      <td>37.863967</td>\n",
       "      <td>0</td>\n",
       "    </tr>\n",
       "    <tr>\n",
       "      <th>d66b3f02-3526-4a5c-9d29-339bf0b10d7f</th>\n",
       "      <td>Regular Play</td>\n",
       "      <td>112.0</td>\n",
       "      <td>20.0</td>\n",
       "      <td>0.808000</td>\n",
       "      <td>Normal</td>\n",
       "      <td>False</td>\n",
       "      <td>119.2</td>\n",
       "      <td>36.2</td>\n",
       "      <td>Open Play</td>\n",
       "      <td>3</td>\n",
       "      <td>0</td>\n",
       "      <td>0.018279</td>\n",
       "      <td>9700</td>\n",
       "      <td>2017/2018</td>\n",
       "      <td>21.540659</td>\n",
       "      <td>0</td>\n",
       "    </tr>\n",
       "    <tr>\n",
       "      <th>08c5cfcc-e63c-41d6-8868-6c99dda92d76</th>\n",
       "      <td>From Corner</td>\n",
       "      <td>93.1</td>\n",
       "      <td>50.2</td>\n",
       "      <td>2.627000</td>\n",
       "      <td>Half Volley</td>\n",
       "      <td>True</td>\n",
       "      <td>119.2</td>\n",
       "      <td>42.8</td>\n",
       "      <td>Open Play</td>\n",
       "      <td>0</td>\n",
       "      <td>2</td>\n",
       "      <td>0.014953</td>\n",
       "      <td>69343</td>\n",
       "      <td>2011/2012</td>\n",
       "      <td>28.768907</td>\n",
       "      <td>0</td>\n",
       "    </tr>\n",
       "    <tr>\n",
       "      <th>21b8b7dc-7711-4437-b8f5-bb5ab1ed4765</th>\n",
       "      <td>From Throw In</td>\n",
       "      <td>111.9</td>\n",
       "      <td>52.9</td>\n",
       "      <td>0.500035</td>\n",
       "      <td>Normal</td>\n",
       "      <td>False</td>\n",
       "      <td>115.5</td>\n",
       "      <td>48.4</td>\n",
       "      <td>Open Play</td>\n",
       "      <td>1</td>\n",
       "      <td>1</td>\n",
       "      <td>0.149301</td>\n",
       "      <td>16073</td>\n",
       "      <td>2018/2019</td>\n",
       "      <td>15.232203</td>\n",
       "      <td>1</td>\n",
       "    </tr>\n",
       "    <tr>\n",
       "      <th>0621f240-203b-46b2-a822-291671b54f38</th>\n",
       "      <td>Regular Play</td>\n",
       "      <td>106.3</td>\n",
       "      <td>44.2</td>\n",
       "      <td>1.058642</td>\n",
       "      <td>Volley</td>\n",
       "      <td>False</td>\n",
       "      <td>118.1</td>\n",
       "      <td>42.4</td>\n",
       "      <td>Open Play</td>\n",
       "      <td>2</td>\n",
       "      <td>0</td>\n",
       "      <td>0.058536</td>\n",
       "      <td>69326</td>\n",
       "      <td>2011/2012</td>\n",
       "      <td>14.329341</td>\n",
       "      <td>0</td>\n",
       "    </tr>\n",
       "    <tr>\n",
       "      <th>...</th>\n",
       "      <td>...</td>\n",
       "      <td>...</td>\n",
       "      <td>...</td>\n",
       "      <td>...</td>\n",
       "      <td>...</td>\n",
       "      <td>...</td>\n",
       "      <td>...</td>\n",
       "      <td>...</td>\n",
       "      <td>...</td>\n",
       "      <td>...</td>\n",
       "      <td>...</td>\n",
       "      <td>...</td>\n",
       "      <td>...</td>\n",
       "      <td>...</td>\n",
       "      <td>...</td>\n",
       "      <td>...</td>\n",
       "    </tr>\n",
       "    <tr>\n",
       "      <th>ea3bf932-c859-4bb8-bed9-ba3cd4b4c165</th>\n",
       "      <td>From Throw In</td>\n",
       "      <td>112.9</td>\n",
       "      <td>49.1</td>\n",
       "      <td>0.415300</td>\n",
       "      <td>Normal</td>\n",
       "      <td>False</td>\n",
       "      <td>117.7</td>\n",
       "      <td>43.8</td>\n",
       "      <td>Open Play</td>\n",
       "      <td>2</td>\n",
       "      <td>0</td>\n",
       "      <td>0.115852</td>\n",
       "      <td>70304</td>\n",
       "      <td>2012/2013</td>\n",
       "      <td>11.542097</td>\n",
       "      <td>1</td>\n",
       "    </tr>\n",
       "    <tr>\n",
       "      <th>8ac81ead-0b86-47c4-ab20-5f0a79c77065</th>\n",
       "      <td>From Corner</td>\n",
       "      <td>113.8</td>\n",
       "      <td>44.9</td>\n",
       "      <td>0.731139</td>\n",
       "      <td>Overhead Kick</td>\n",
       "      <td>True</td>\n",
       "      <td>118.3</td>\n",
       "      <td>42.0</td>\n",
       "      <td>Open Play</td>\n",
       "      <td>2</td>\n",
       "      <td>0</td>\n",
       "      <td>0.211582</td>\n",
       "      <td>267597</td>\n",
       "      <td>2014/2015</td>\n",
       "      <td>7.902531</td>\n",
       "      <td>0</td>\n",
       "    </tr>\n",
       "    <tr>\n",
       "      <th>f3518759-3eaf-4d47-9bb0-7b5f4f8a948e</th>\n",
       "      <td>From Keeper</td>\n",
       "      <td>110.2</td>\n",
       "      <td>33.9</td>\n",
       "      <td>1.164571</td>\n",
       "      <td>Normal</td>\n",
       "      <td>False</td>\n",
       "      <td>113.3</td>\n",
       "      <td>37.3</td>\n",
       "      <td>Open Play</td>\n",
       "      <td>1</td>\n",
       "      <td>1</td>\n",
       "      <td>0.361381</td>\n",
       "      <td>69177</td>\n",
       "      <td>2008/2009</td>\n",
       "      <td>11.543396</td>\n",
       "      <td>1</td>\n",
       "    </tr>\n",
       "    <tr>\n",
       "      <th>44924902-57cc-4846-8ec8-185d153e1a75</th>\n",
       "      <td>From Throw In</td>\n",
       "      <td>93.7</td>\n",
       "      <td>24.3</td>\n",
       "      <td>1.808700</td>\n",
       "      <td>Normal</td>\n",
       "      <td>False</td>\n",
       "      <td>118.4</td>\n",
       "      <td>37.4</td>\n",
       "      <td>Open Play</td>\n",
       "      <td>1</td>\n",
       "      <td>1</td>\n",
       "      <td>0.014103</td>\n",
       "      <td>70286</td>\n",
       "      <td>2012/2013</td>\n",
       "      <td>30.629724</td>\n",
       "      <td>0</td>\n",
       "    </tr>\n",
       "    <tr>\n",
       "      <th>b03579c0-a552-421a-ba1f-4a9f692a77aa</th>\n",
       "      <td>Regular Play</td>\n",
       "      <td>100.4</td>\n",
       "      <td>48.1</td>\n",
       "      <td>0.307736</td>\n",
       "      <td>Normal</td>\n",
       "      <td>False</td>\n",
       "      <td>116.6</td>\n",
       "      <td>41.8</td>\n",
       "      <td>Open Play</td>\n",
       "      <td>2</td>\n",
       "      <td>1</td>\n",
       "      <td>0.052493</td>\n",
       "      <td>9581</td>\n",
       "      <td>2017/2018</td>\n",
       "      <td>21.207782</td>\n",
       "      <td>0</td>\n",
       "    </tr>\n",
       "  </tbody>\n",
       "</table>\n",
       "<p>9000 rows × 16 columns</p>\n",
       "</div>"
      ],
      "text/plain": [
       "                                        play pattern  x start location  \\\n",
       "shot id                                                                  \n",
       "429197f3-82e4-4745-a44d-53d48fb8a25a  From Free Kick              82.2   \n",
       "d66b3f02-3526-4a5c-9d29-339bf0b10d7f    Regular Play             112.0   \n",
       "08c5cfcc-e63c-41d6-8868-6c99dda92d76     From Corner              93.1   \n",
       "21b8b7dc-7711-4437-b8f5-bb5ab1ed4765   From Throw In             111.9   \n",
       "0621f240-203b-46b2-a822-291671b54f38    Regular Play             106.3   \n",
       "...                                              ...               ...   \n",
       "ea3bf932-c859-4bb8-bed9-ba3cd4b4c165   From Throw In             112.9   \n",
       "8ac81ead-0b86-47c4-ab20-5f0a79c77065     From Corner             113.8   \n",
       "f3518759-3eaf-4d47-9bb0-7b5f4f8a948e     From Keeper             110.2   \n",
       "44924902-57cc-4846-8ec8-185d153e1a75   From Throw In              93.7   \n",
       "b03579c0-a552-421a-ba1f-4a9f692a77aa    Regular Play             100.4   \n",
       "\n",
       "                                      y start location  duration  \\\n",
       "shot id                                                            \n",
       "429197f3-82e4-4745-a44d-53d48fb8a25a              42.2  1.428466   \n",
       "d66b3f02-3526-4a5c-9d29-339bf0b10d7f              20.0  0.808000   \n",
       "08c5cfcc-e63c-41d6-8868-6c99dda92d76              50.2  2.627000   \n",
       "21b8b7dc-7711-4437-b8f5-bb5ab1ed4765              52.9  0.500035   \n",
       "0621f240-203b-46b2-a822-291671b54f38              44.2  1.058642   \n",
       "...                                                ...       ...   \n",
       "ea3bf932-c859-4bb8-bed9-ba3cd4b4c165              49.1  0.415300   \n",
       "8ac81ead-0b86-47c4-ab20-5f0a79c77065              44.9  0.731139   \n",
       "f3518759-3eaf-4d47-9bb0-7b5f4f8a948e              33.9  1.164571   \n",
       "44924902-57cc-4846-8ec8-185d153e1a75              24.3  1.808700   \n",
       "b03579c0-a552-421a-ba1f-4a9f692a77aa              48.1  0.307736   \n",
       "\n",
       "                                          technique  first time  \\\n",
       "shot id                                                           \n",
       "429197f3-82e4-4745-a44d-53d48fb8a25a         Normal       False   \n",
       "d66b3f02-3526-4a5c-9d29-339bf0b10d7f         Normal       False   \n",
       "08c5cfcc-e63c-41d6-8868-6c99dda92d76    Half Volley        True   \n",
       "21b8b7dc-7711-4437-b8f5-bb5ab1ed4765         Normal       False   \n",
       "0621f240-203b-46b2-a822-291671b54f38         Volley       False   \n",
       "...                                             ...         ...   \n",
       "ea3bf932-c859-4bb8-bed9-ba3cd4b4c165         Normal       False   \n",
       "8ac81ead-0b86-47c4-ab20-5f0a79c77065  Overhead Kick        True   \n",
       "f3518759-3eaf-4d47-9bb0-7b5f4f8a948e         Normal       False   \n",
       "44924902-57cc-4846-8ec8-185d153e1a75         Normal       False   \n",
       "b03579c0-a552-421a-ba1f-4a9f692a77aa         Normal       False   \n",
       "\n",
       "                                      x gk position  y gk position  \\\n",
       "shot id                                                              \n",
       "429197f3-82e4-4745-a44d-53d48fb8a25a          118.5           40.0   \n",
       "d66b3f02-3526-4a5c-9d29-339bf0b10d7f          119.2           36.2   \n",
       "08c5cfcc-e63c-41d6-8868-6c99dda92d76          119.2           42.8   \n",
       "21b8b7dc-7711-4437-b8f5-bb5ab1ed4765          115.5           48.4   \n",
       "0621f240-203b-46b2-a822-291671b54f38          118.1           42.4   \n",
       "...                                             ...            ...   \n",
       "ea3bf932-c859-4bb8-bed9-ba3cd4b4c165          117.7           43.8   \n",
       "8ac81ead-0b86-47c4-ab20-5f0a79c77065          118.3           42.0   \n",
       "f3518759-3eaf-4d47-9bb0-7b5f4f8a948e          113.3           37.3   \n",
       "44924902-57cc-4846-8ec8-185d153e1a75          118.4           37.4   \n",
       "b03579c0-a552-421a-ba1f-4a9f692a77aa          116.6           41.8   \n",
       "\n",
       "                                     type of shot  \\\n",
       "shot id                                             \n",
       "429197f3-82e4-4745-a44d-53d48fb8a25a    Free Kick   \n",
       "d66b3f02-3526-4a5c-9d29-339bf0b10d7f    Open Play   \n",
       "08c5cfcc-e63c-41d6-8868-6c99dda92d76    Open Play   \n",
       "21b8b7dc-7711-4437-b8f5-bb5ab1ed4765    Open Play   \n",
       "0621f240-203b-46b2-a822-291671b54f38    Open Play   \n",
       "...                                           ...   \n",
       "ea3bf932-c859-4bb8-bed9-ba3cd4b4c165    Open Play   \n",
       "8ac81ead-0b86-47c4-ab20-5f0a79c77065    Open Play   \n",
       "f3518759-3eaf-4d47-9bb0-7b5f4f8a948e    Open Play   \n",
       "44924902-57cc-4846-8ec8-185d153e1a75    Open Play   \n",
       "b03579c0-a552-421a-ba1f-4a9f692a77aa    Open Play   \n",
       "\n",
       "                                      num opponents within 5 yards  \\\n",
       "shot id                                                              \n",
       "429197f3-82e4-4745-a44d-53d48fb8a25a                             0   \n",
       "d66b3f02-3526-4a5c-9d29-339bf0b10d7f                             3   \n",
       "08c5cfcc-e63c-41d6-8868-6c99dda92d76                             0   \n",
       "21b8b7dc-7711-4437-b8f5-bb5ab1ed4765                             1   \n",
       "0621f240-203b-46b2-a822-291671b54f38                             2   \n",
       "...                                                            ...   \n",
       "ea3bf932-c859-4bb8-bed9-ba3cd4b4c165                             2   \n",
       "8ac81ead-0b86-47c4-ab20-5f0a79c77065                             2   \n",
       "f3518759-3eaf-4d47-9bb0-7b5f4f8a948e                             1   \n",
       "44924902-57cc-4846-8ec8-185d153e1a75                             1   \n",
       "b03579c0-a552-421a-ba1f-4a9f692a77aa                             2   \n",
       "\n",
       "                                      num opponents between shot and goal  \\\n",
       "shot id                                                                     \n",
       "429197f3-82e4-4745-a44d-53d48fb8a25a                                    0   \n",
       "d66b3f02-3526-4a5c-9d29-339bf0b10d7f                                    0   \n",
       "08c5cfcc-e63c-41d6-8868-6c99dda92d76                                    2   \n",
       "21b8b7dc-7711-4437-b8f5-bb5ab1ed4765                                    1   \n",
       "0621f240-203b-46b2-a822-291671b54f38                                    0   \n",
       "...                                                                   ...   \n",
       "ea3bf932-c859-4bb8-bed9-ba3cd4b4c165                                    0   \n",
       "8ac81ead-0b86-47c4-ab20-5f0a79c77065                                    0   \n",
       "f3518759-3eaf-4d47-9bb0-7b5f4f8a948e                                    1   \n",
       "44924902-57cc-4846-8ec8-185d153e1a75                                    1   \n",
       "b03579c0-a552-421a-ba1f-4a9f692a77aa                                    1   \n",
       "\n",
       "                                      statsbomb xg game_id  season_id  \\\n",
       "shot id                                                                 \n",
       "429197f3-82e4-4745-a44d-53d48fb8a25a      0.014002    9682  2017/2018   \n",
       "d66b3f02-3526-4a5c-9d29-339bf0b10d7f      0.018279    9700  2017/2018   \n",
       "08c5cfcc-e63c-41d6-8868-6c99dda92d76      0.014953   69343  2011/2012   \n",
       "21b8b7dc-7711-4437-b8f5-bb5ab1ed4765      0.149301   16073  2018/2019   \n",
       "0621f240-203b-46b2-a822-291671b54f38      0.058536   69326  2011/2012   \n",
       "...                                            ...     ...        ...   \n",
       "ea3bf932-c859-4bb8-bed9-ba3cd4b4c165      0.115852   70304  2012/2013   \n",
       "8ac81ead-0b86-47c4-ab20-5f0a79c77065      0.211582  267597  2014/2015   \n",
       "f3518759-3eaf-4d47-9bb0-7b5f4f8a948e      0.361381   69177  2008/2009   \n",
       "44924902-57cc-4846-8ec8-185d153e1a75      0.014103   70286  2012/2013   \n",
       "b03579c0-a552-421a-ba1f-4a9f692a77aa      0.052493    9581  2017/2018   \n",
       "\n",
       "                                      Distance from goal  outcome  \n",
       "shot id                                                            \n",
       "429197f3-82e4-4745-a44d-53d48fb8a25a           37.863967        0  \n",
       "d66b3f02-3526-4a5c-9d29-339bf0b10d7f           21.540659        0  \n",
       "08c5cfcc-e63c-41d6-8868-6c99dda92d76           28.768907        0  \n",
       "21b8b7dc-7711-4437-b8f5-bb5ab1ed4765           15.232203        1  \n",
       "0621f240-203b-46b2-a822-291671b54f38           14.329341        0  \n",
       "...                                                  ...      ...  \n",
       "ea3bf932-c859-4bb8-bed9-ba3cd4b4c165           11.542097        1  \n",
       "8ac81ead-0b86-47c4-ab20-5f0a79c77065            7.902531        0  \n",
       "f3518759-3eaf-4d47-9bb0-7b5f4f8a948e           11.543396        1  \n",
       "44924902-57cc-4846-8ec8-185d153e1a75           30.629724        0  \n",
       "b03579c0-a552-421a-ba1f-4a9f692a77aa           21.207782        0  \n",
       "\n",
       "[9000 rows x 16 columns]"
      ]
     },
     "execution_count": 255,
     "metadata": {},
     "output_type": "execute_result"
    }
   ],
   "source": [
    "shot_training_set"
   ]
  },
  {
   "cell_type": "markdown",
   "metadata": {},
   "source": [
    "### 2.3 Visualizing relationships\n",
    "\n",
    "Below, I write a function, `plot_percent_goal_vs_attr` to plot the percentage of goals scored by desired **categorical** variable."
   ]
  },
  {
   "cell_type": "code",
   "execution_count": 256,
   "metadata": {},
   "outputs": [],
   "source": [
    "def plot_percent_goal_vs_attr(attribute, type_chart = \"line\"):\n",
    "    \"\"\"\n",
    "    Function which plots the percentage of goals scored by desired categorical attribute in our shot training set.\n",
    "    \n",
    "    Arguments\n",
    "    attribute - (string) name of categorical attribute in shot training set data frame\n",
    "    \"\"\"\n",
    "    shot_training_set_copy = shot_training_set.copy() \n",
    "    \n",
    "    attr_x = attribute\n",
    "    attr_y = \"outcome\"\n",
    "    attr_agg = \"shot id\"\n",
    "    attrs = [attr_x, attr_y, attr_agg]\n",
    "\n",
    "    outcomes_by_attribute = shot_training_set_copy.reset_index()[attrs]   \\\n",
    "                            .groupby([attr_x, attr_y])               \\\n",
    "                            .count()                                 \\\n",
    "                            .unstack()                               \\\n",
    "                            .fillna(0)\n",
    "    \n",
    "    outcomes_by_attribute = outcomes_by_attribute[attr_agg].reset_index()\n",
    "    outcomes_by_attribute[\"Percent Goal\"] = outcomes_by_attribute[1] * 100  / outcomes_by_attribute.sum(axis = 1)\n",
    "    outcomes_by_attribute = outcomes_by_attribute.rename(columns={0: 'No Goal', 1: 'Goal'})\n",
    "    \n",
    "    if type_chart == \"line\":\n",
    "        chart = alt.Chart(outcomes_by_attribute).mark_line()\n",
    "    elif type_chart == \"bar\":\n",
    "        chart = alt.Chart(outcomes_by_attribute).mark_bar()\n",
    "    \n",
    "    chart = chart.encode(\n",
    "        alt.X('{}:N'.format(attr_x), axis = alt.Axis(title = attr_x, labelAngle = 0)),\n",
    "        alt.Y('Percent Goal:Q', axis = alt.Axis(title = 'Percent Goal'))\n",
    "    ).properties(width = 850, height = 300, \n",
    "             title = \"Percent Goal vs {}\".format(attr_x)\n",
    "    ).configure_axis(labelFontSize = 13, titleFontSize = 15\n",
    "    ).configure_title(fontSize = 16)\n",
    "    \n",
    "    return chart"
   ]
  },
  {
   "cell_type": "markdown",
   "metadata": {},
   "source": [
    "#### 2.3.1 Percent goals by num opponents between shot and goal"
   ]
  },
  {
   "cell_type": "markdown",
   "metadata": {},
   "source": [
    "Now we can use our function to plot the desired variables:"
   ]
  },
  {
   "cell_type": "code",
   "execution_count": 257,
   "metadata": {},
   "outputs": [
    {
     "data": {
      "application/vnd.vegalite.v3+json": {
       "$schema": "https://vega.github.io/schema/vega-lite/v3.4.0.json",
       "config": {
        "axis": {
         "labelFontSize": 13,
         "titleFontSize": 15
        },
        "mark": {
         "tooltip": null
        },
        "title": {
         "fontSize": 16
        },
        "view": {
         "height": 300,
         "width": 400
        }
       },
       "data": {
        "name": "data-0f9190192913c6bcb351cb00592fd640"
       },
       "datasets": {
        "data-0f9190192913c6bcb351cb00592fd640": [
         {
          "Goal": 931,
          "No Goal": 3901,
          "Percent Goal": 19.267384105960264,
          "num opponents between shot and goal": 0
         },
         {
          "Goal": 214,
          "No Goal": 2533,
          "Percent Goal": 7.787481804949054,
          "num opponents between shot and goal": 1
         },
         {
          "Goal": 52,
          "No Goal": 760,
          "Percent Goal": 6.388206388206388,
          "num opponents between shot and goal": 2
         },
         {
          "Goal": 27,
          "No Goal": 323,
          "Percent Goal": 7.648725212464589,
          "num opponents between shot and goal": 3
         },
         {
          "Goal": 15,
          "No Goal": 158,
          "Percent Goal": 8.474576271186441,
          "num opponents between shot and goal": 4
         },
         {
          "Goal": 7,
          "No Goal": 60,
          "Percent Goal": 9.722222222222221,
          "num opponents between shot and goal": 5
         },
         {
          "Goal": 4,
          "No Goal": 13,
          "Percent Goal": 17.391304347826086,
          "num opponents between shot and goal": 6
         },
         {
          "Goal": 0,
          "No Goal": 1,
          "Percent Goal": 0,
          "num opponents between shot and goal": 7
         },
         {
          "Goal": 0,
          "No Goal": 1,
          "Percent Goal": 0,
          "num opponents between shot and goal": 8
         }
        ]
       },
       "encoding": {
        "x": {
         "axis": {
          "labelAngle": 0,
          "title": "num opponents between shot and goal"
         },
         "field": "num opponents between shot and goal",
         "type": "nominal"
        },
        "y": {
         "axis": {
          "title": "Percent Goal"
         },
         "field": "Percent Goal",
         "type": "quantitative"
        }
       },
       "height": 300,
       "mark": "bar",
       "title": "Percent Goal vs num opponents between shot and goal",
       "width": 850
      },
      "image/png": "[encoded data removed]",
      "text/plain": [
       "<VegaLite 3 object>\n",
       "\n",
       "If you see this message, it means the renderer has not been properly enabled\n",
       "for the frontend that you are using. For more information, see\n",
       "https://altair-viz.github.io/user_guide/troubleshooting.html\n"
      ]
     },
     "execution_count": 257,
     "metadata": {},
     "output_type": "execute_result"
    }
   ],
   "source": [
    "plot_percent_goal_vs_attr(\"num opponents between shot and goal\", \"bar\")"
   ]
  },
  {
   "cell_type": "markdown",
   "metadata": {},
   "source": [
    "**Comments:**\n",
    "\n",
    "As expected, in general, the rate of goals scored decreases as more opponents are between the shot location and the goal. Interestingly, there is a bizarre peak at 6 opponents between shot and goal."
   ]
  },
  {
   "cell_type": "markdown",
   "metadata": {},
   "source": [
    "#### 2.3.2 Percent goals by num opponents within 5 yards"
   ]
  },
  {
   "cell_type": "code",
   "execution_count": 258,
   "metadata": {},
   "outputs": [
    {
     "data": {
      "application/vnd.vegalite.v3+json": {
       "$schema": "https://vega.github.io/schema/vega-lite/v3.4.0.json",
       "config": {
        "axis": {
         "labelFontSize": 13,
         "titleFontSize": 15
        },
        "mark": {
         "tooltip": null
        },
        "title": {
         "fontSize": 16
        },
        "view": {
         "height": 300,
         "width": 400
        }
       },
       "data": {
        "name": "data-6ce3c24413ef06c1898f8e7e87c4a508"
       },
       "datasets": {
        "data-6ce3c24413ef06c1898f8e7e87c4a508": [
         {
          "Goal": 274,
          "No Goal": 1525,
          "Percent Goal": 15.230683713173985,
          "num opponents within 5 yards": 0
         },
         {
          "Goal": 450,
          "No Goal": 2663,
          "Percent Goal": 14.45086705202312,
          "num opponents within 5 yards": 1
         },
         {
          "Goal": 322,
          "No Goal": 2148,
          "Percent Goal": 13.025889967637541,
          "num opponents within 5 yards": 2
         },
         {
          "Goal": 144,
          "No Goal": 933,
          "Percent Goal": 13.333333333333334,
          "num opponents within 5 yards": 3
         },
         {
          "Goal": 39,
          "No Goal": 359,
          "Percent Goal": 9.701492537313433,
          "num opponents within 5 yards": 4
         },
         {
          "Goal": 17,
          "No Goal": 99,
          "Percent Goal": 14.049586776859504,
          "num opponents within 5 yards": 5
         },
         {
          "Goal": 4,
          "No Goal": 20,
          "Percent Goal": 13.333333333333334,
          "num opponents within 5 yards": 6
         },
         {
          "Goal": 0,
          "No Goal": 3,
          "Percent Goal": 0,
          "num opponents within 5 yards": 7
         }
        ]
       },
       "encoding": {
        "x": {
         "axis": {
          "labelAngle": 0,
          "title": "num opponents within 5 yards"
         },
         "field": "num opponents within 5 yards",
         "type": "nominal"
        },
        "y": {
         "axis": {
          "title": "Percent Goal"
         },
         "field": "Percent Goal",
         "type": "quantitative"
        }
       },
       "height": 300,
       "mark": "bar",
       "title": "Percent Goal vs num opponents within 5 yards",
       "width": 850
      },
      "image/png": "[encoded data removed]",
      "text/plain": [
       "<VegaLite 3 object>\n",
       "\n",
       "If you see this message, it means the renderer has not been properly enabled\n",
       "for the frontend that you are using. For more information, see\n",
       "https://altair-viz.github.io/user_guide/troubleshooting.html\n"
      ]
     },
     "execution_count": 258,
     "metadata": {},
     "output_type": "execute_result"
    }
   ],
   "source": [
    "plot_percent_goal_vs_attr(\"num opponents within 5 yards\", \"bar\")"
   ]
  },
  {
   "cell_type": "markdown",
   "metadata": {},
   "source": [
    "**Comments:**\n",
    "\n",
    "We see a similar trend for rate of goals scored vs number of opponents within 5 yards of shot location."
   ]
  },
  {
   "cell_type": "markdown",
   "metadata": {},
   "source": [
    "#### 2.3.3 Percent goals by player pattern"
   ]
  },
  {
   "cell_type": "code",
   "execution_count": 259,
   "metadata": {},
   "outputs": [
    {
     "data": {
      "application/vnd.vegalite.v3+json": {
       "$schema": "https://vega.github.io/schema/vega-lite/v3.4.0.json",
       "config": {
        "axis": {
         "labelFontSize": 13,
         "titleFontSize": 15
        },
        "mark": {
         "tooltip": null
        },
        "title": {
         "fontSize": 16
        },
        "view": {
         "height": 300,
         "width": 400
        }
       },
       "data": {
        "name": "data-db66181f267e5e0328f29318e9b041d0"
       },
       "datasets": {
        "data-db66181f267e5e0328f29318e9b041d0": [
         {
          "Goal": 121,
          "No Goal": 1099,
          "Percent Goal": 9.918032786885245,
          "play pattern": "From Corner"
         },
         {
          "Goal": 79,
          "No Goal": 320,
          "Percent Goal": 19.79949874686717,
          "play pattern": "From Counter"
         },
         {
          "Goal": 258,
          "No Goal": 1917,
          "Percent Goal": 11.862068965517242,
          "play pattern": "From Free Kick"
         },
         {
          "Goal": 44,
          "No Goal": 244,
          "Percent Goal": 15.277777777777779,
          "play pattern": "From Goal Kick"
         },
         {
          "Goal": 9,
          "No Goal": 99,
          "Percent Goal": 8.333333333333334,
          "play pattern": "From Keeper"
         },
         {
          "Goal": 13,
          "No Goal": 107,
          "Percent Goal": 10.833333333333334,
          "play pattern": "From Kick Off"
         },
         {
          "Goal": 165,
          "No Goal": 1192,
          "Percent Goal": 12.159174649963154,
          "play pattern": "From Throw In"
         },
         {
          "Goal": 93,
          "No Goal": 32,
          "Percent Goal": 74.4,
          "play pattern": "Other"
         },
         {
          "Goal": 468,
          "No Goal": 2740,
          "Percent Goal": 14.58852867830424,
          "play pattern": "Regular Play"
         }
        ]
       },
       "encoding": {
        "x": {
         "axis": {
          "labelAngle": 0,
          "title": "play pattern"
         },
         "field": "play pattern",
         "type": "nominal"
        },
        "y": {
         "axis": {
          "title": "Percent Goal"
         },
         "field": "Percent Goal",
         "type": "quantitative"
        }
       },
       "height": 300,
       "mark": "bar",
       "title": "Percent Goal vs play pattern",
       "width": 850
      },
      "image/png": "[encoded data removed]",
      "text/plain": [
       "<VegaLite 3 object>\n",
       "\n",
       "If you see this message, it means the renderer has not been properly enabled\n",
       "for the frontend that you are using. For more information, see\n",
       "https://altair-viz.github.io/user_guide/troubleshooting.html\n"
      ]
     },
     "execution_count": 259,
     "metadata": {},
     "output_type": "execute_result"
    }
   ],
   "source": [
    "plot_percent_goal_vs_attr(\"play pattern\", \"bar\")"
   ]
  },
  {
   "cell_type": "markdown",
   "metadata": {},
   "source": [
    "**Comments:**\n",
    "\n",
    "For goal scoring rate by _play pattern_, we see that \"other\" has a very large percent goals scored value. This tells us that \"other\" refers to penalties. Aside from \"other\", we can see that shots from counter attacks have a larger chance to produce a goal than any other play pattern, probably because counter attacks mean that the opposition is much less organized, resulting in more space. To be sure, we can check this below:"
   ]
  },
  {
   "cell_type": "code",
   "execution_count": 260,
   "metadata": {},
   "outputs": [
    {
     "data": {
      "application/vnd.vegalite.v3+json": {
       "$schema": "https://vega.github.io/schema/vega-lite/v3.4.0.json",
       "config": {
        "axis": {
         "labelFontSize": 13,
         "titleFontSize": 15
        },
        "mark": {
         "tooltip": null
        },
        "title": {
         "fontSize": 16
        },
        "view": {
         "height": 300,
         "width": 400
        }
       },
       "data": {
        "name": "data-39d9f21e5dd78dbb3da8db6bfd97a76f"
       },
       "datasets": {
        "data-39d9f21e5dd78dbb3da8db6bfd97a76f": [
         {
          "Distance from goal": 15.579033647194478,
          "duration": 0.8081867901639351,
          "first time": 0.3237704918032787,
          "num opponents between shot and goal": 0.9549180327868853,
          "num opponents within 5 yards": 2.127049180327869,
          "outcome": 0.09918032786885246,
          "play pattern": "From Corner",
          "statsbomb xg": 0.09968482808508199,
          "x gk position": 118.53532786885246,
          "x start location": 106.81959016393455,
          "y gk position": 40.01213114754098,
          "y start location": 39.9717213114753
         },
         {
          "Distance from goal": 17.189446716852352,
          "duration": 0.665885047619047,
          "first time": 0.2606516290726817,
          "num opponents between shot and goal": 0.24561403508771928,
          "num opponents within 5 yards": 1.463659147869674,
          "outcome": 0.19799498746867167,
          "play pattern": "From Counter",
          "statsbomb xg": 0.19775185191228078,
          "x gk position": 115.54135338345856,
          "x start location": 106.29298245614028,
          "y gk position": 39.65513784461152,
          "y start location": 39.228320802005
         },
         {
          "Distance from goal": 21.878929183690076,
          "duration": 0.8327329531034491,
          "first time": 0.23908045977011494,
          "num opponents between shot and goal": 1.320919540229885,
          "num opponents within 5 yards": 1.2096551724137932,
          "outcome": 0.11862068965517242,
          "play pattern": "From Free Kick",
          "statsbomb xg": 0.09712843023990764,
          "x gk position": 118.16928735632196,
          "x start location": 100.99701149425275,
          "y gk position": 40.00795402298845,
          "y start location": 39.43397701149427
         },
         {
          "Distance from goal": 19.200701266540808,
          "duration": 0.7669474201388893,
          "first time": 0.3541666666666667,
          "num opponents between shot and goal": 0.4722222222222222,
          "num opponents within 5 yards": 1.5625,
          "outcome": 0.1527777777777778,
          "play pattern": "From Goal Kick",
          "statsbomb xg": 0.13145588393229168,
          "x gk position": 117.47361111111117,
          "x start location": 104.06701388888884,
          "y gk position": 40.00173611111109,
          "y start location": 40.44895833333332
         },
         {
          "Distance from goal": 19.835284713771927,
          "duration": 0.7553344259259257,
          "first time": 0.3148148148148148,
          "num opponents between shot and goal": 0.5092592592592593,
          "num opponents within 5 yards": 1.5555555555555556,
          "outcome": 0.08333333333333333,
          "play pattern": "From Keeper",
          "statsbomb xg": 0.1395160077222222,
          "x gk position": 116.5990740740741,
          "x start location": 102.71481481481486,
          "y gk position": 39.74814814814814,
          "y start location": 38.487037037037034
         },
         {
          "Distance from goal": 21.033852988802458,
          "duration": 0.8578348500000001,
          "first time": 0.3,
          "num opponents between shot and goal": 0.49166666666666664,
          "num opponents within 5 yards": 1.5,
          "outcome": 0.10833333333333334,
          "play pattern": "From Kick Off",
          "statsbomb xg": 0.09191360536666668,
          "x gk position": 117.7558333333334,
          "x start location": 102.0491666666667,
          "y gk position": 39.995,
          "y start location": 40.12916666666665
         },
         {
          "Distance from goal": 19.624430232488592,
          "duration": 0.7860385335298445,
          "first time": 0.34119380987472364,
          "num opponents between shot and goal": 0.48268238761974946,
          "num opponents within 5 yards": 1.5902726602800294,
          "outcome": 0.12159174649963155,
          "play pattern": "From Throw In",
          "statsbomb xg": 0.113376318755711,
          "x gk position": 117.76190125276347,
          "x start location": 103.62549742078106,
          "y gk position": 39.92733971997055,
          "y start location": 39.59182019159916
         },
         {
          "Distance from goal": 12.778373266038626,
          "duration": 0.5771126959999999,
          "first time": 0.048,
          "num opponents between shot and goal": 0.048,
          "num opponents within 5 yards": 0.12,
          "outcome": 0.744,
          "play pattern": "Other",
          "statsbomb xg": 0.7274038084000011,
          "x gk position": 119.772,
          "x start location": 107.34720000000006,
          "y gk position": 39.96959999999999,
          "y start location": 39.960800000000006
         },
         {
          "Distance from goal": 19.048082604108906,
          "duration": 0.7723622861596,
          "first time": 0.33198254364089774,
          "num opponents between shot and goal": 0.47319201995012466,
          "num opponents within 5 yards": 1.5087281795511223,
          "outcome": 0.14588528678304238,
          "play pattern": "Regular Play",
          "statsbomb xg": 0.13395069846150234,
          "x gk position": 117.33245012468834,
          "x start location": 104.10617206982569,
          "y gk position": 39.84660224438903,
          "y start location": 39.17490648379059
         }
        ]
       },
       "encoding": {
        "x": {
         "axis": {
          "labelAngle": 0,
          "title": "player pattern"
         },
         "field": "play pattern",
         "type": "nominal"
        },
        "y": {
         "axis": {
          "title": "mean num opponents within 5 yards"
         },
         "field": "num opponents within 5 yards",
         "type": "quantitative"
        }
       },
       "height": 300,
       "mark": "bar",
       "title": "mean num opponents whithin 5 yards by play pattern",
       "width": 850
      },
      "image/png": "[encoded data removed]",
      "text/plain": [
       "<VegaLite 3 object>\n",
       "\n",
       "If you see this message, it means the renderer has not been properly enabled\n",
       "for the frontend that you are using. For more information, see\n",
       "https://altair-viz.github.io/user_guide/troubleshooting.html\n"
      ]
     },
     "execution_count": 260,
     "metadata": {},
     "output_type": "execute_result"
    }
   ],
   "source": [
    "alt.Chart(shot_training_set.groupby(\"play pattern\").mean().reset_index()).mark_bar().encode(\n",
    "        alt.X('play pattern:N', axis = alt.Axis(title = \"player pattern\", labelAngle = 0)),\n",
    "        alt.Y('num opponents within 5 yards:Q', axis = alt.Axis(title = 'mean num opponents within 5 yards'))\n",
    ").properties(width = 850, height = 300, \n",
    "             title = \"mean num opponents whithin 5 yards by play pattern\"\n",
    ").configure_axis(labelFontSize = 13, titleFontSize = 15\n",
    ").configure_title(fontSize = 16)"
   ]
  },
  {
   "cell_type": "markdown",
   "metadata": {},
   "source": [
    "Ok, so actually, shots resulting from counters, on average, don't have less players within 5 yards of the shot location than other play patterns. What about number of opponents between the shot location and the goal?"
   ]
  },
  {
   "cell_type": "code",
   "execution_count": 261,
   "metadata": {},
   "outputs": [
    {
     "data": {
      "application/vnd.vegalite.v3+json": {
       "$schema": "https://vega.github.io/schema/vega-lite/v3.4.0.json",
       "config": {
        "axis": {
         "labelFontSize": 13,
         "titleFontSize": 15
        },
        "mark": {
         "tooltip": null
        },
        "title": {
         "fontSize": 16
        },
        "view": {
         "height": 300,
         "width": 400
        }
       },
       "data": {
        "name": "data-39d9f21e5dd78dbb3da8db6bfd97a76f"
       },
       "datasets": {
        "data-39d9f21e5dd78dbb3da8db6bfd97a76f": [
         {
          "Distance from goal": 15.579033647194478,
          "duration": 0.8081867901639351,
          "first time": 0.3237704918032787,
          "num opponents between shot and goal": 0.9549180327868853,
          "num opponents within 5 yards": 2.127049180327869,
          "outcome": 0.09918032786885246,
          "play pattern": "From Corner",
          "statsbomb xg": 0.09968482808508199,
          "x gk position": 118.53532786885246,
          "x start location": 106.81959016393455,
          "y gk position": 40.01213114754098,
          "y start location": 39.9717213114753
         },
         {
          "Distance from goal": 17.189446716852352,
          "duration": 0.665885047619047,
          "first time": 0.2606516290726817,
          "num opponents between shot and goal": 0.24561403508771928,
          "num opponents within 5 yards": 1.463659147869674,
          "outcome": 0.19799498746867167,
          "play pattern": "From Counter",
          "statsbomb xg": 0.19775185191228078,
          "x gk position": 115.54135338345856,
          "x start location": 106.29298245614028,
          "y gk position": 39.65513784461152,
          "y start location": 39.228320802005
         },
         {
          "Distance from goal": 21.878929183690076,
          "duration": 0.8327329531034491,
          "first time": 0.23908045977011494,
          "num opponents between shot and goal": 1.320919540229885,
          "num opponents within 5 yards": 1.2096551724137932,
          "outcome": 0.11862068965517242,
          "play pattern": "From Free Kick",
          "statsbomb xg": 0.09712843023990764,
          "x gk position": 118.16928735632196,
          "x start location": 100.99701149425275,
          "y gk position": 40.00795402298845,
          "y start location": 39.43397701149427
         },
         {
          "Distance from goal": 19.200701266540808,
          "duration": 0.7669474201388893,
          "first time": 0.3541666666666667,
          "num opponents between shot and goal": 0.4722222222222222,
          "num opponents within 5 yards": 1.5625,
          "outcome": 0.1527777777777778,
          "play pattern": "From Goal Kick",
          "statsbomb xg": 0.13145588393229168,
          "x gk position": 117.47361111111117,
          "x start location": 104.06701388888884,
          "y gk position": 40.00173611111109,
          "y start location": 40.44895833333332
         },
         {
          "Distance from goal": 19.835284713771927,
          "duration": 0.7553344259259257,
          "first time": 0.3148148148148148,
          "num opponents between shot and goal": 0.5092592592592593,
          "num opponents within 5 yards": 1.5555555555555556,
          "outcome": 0.08333333333333333,
          "play pattern": "From Keeper",
          "statsbomb xg": 0.1395160077222222,
          "x gk position": 116.5990740740741,
          "x start location": 102.71481481481486,
          "y gk position": 39.74814814814814,
          "y start location": 38.487037037037034
         },
         {
          "Distance from goal": 21.033852988802458,
          "duration": 0.8578348500000001,
          "first time": 0.3,
          "num opponents between shot and goal": 0.49166666666666664,
          "num opponents within 5 yards": 1.5,
          "outcome": 0.10833333333333334,
          "play pattern": "From Kick Off",
          "statsbomb xg": 0.09191360536666668,
          "x gk position": 117.7558333333334,
          "x start location": 102.0491666666667,
          "y gk position": 39.995,
          "y start location": 40.12916666666665
         },
         {
          "Distance from goal": 19.624430232488592,
          "duration": 0.7860385335298445,
          "first time": 0.34119380987472364,
          "num opponents between shot and goal": 0.48268238761974946,
          "num opponents within 5 yards": 1.5902726602800294,
          "outcome": 0.12159174649963155,
          "play pattern": "From Throw In",
          "statsbomb xg": 0.113376318755711,
          "x gk position": 117.76190125276347,
          "x start location": 103.62549742078106,
          "y gk position": 39.92733971997055,
          "y start location": 39.59182019159916
         },
         {
          "Distance from goal": 12.778373266038626,
          "duration": 0.5771126959999999,
          "first time": 0.048,
          "num opponents between shot and goal": 0.048,
          "num opponents within 5 yards": 0.12,
          "outcome": 0.744,
          "play pattern": "Other",
          "statsbomb xg": 0.7274038084000011,
          "x gk position": 119.772,
          "x start location": 107.34720000000006,
          "y gk position": 39.96959999999999,
          "y start location": 39.960800000000006
         },
         {
          "Distance from goal": 19.048082604108906,
          "duration": 0.7723622861596,
          "first time": 0.33198254364089774,
          "num opponents between shot and goal": 0.47319201995012466,
          "num opponents within 5 yards": 1.5087281795511223,
          "outcome": 0.14588528678304238,
          "play pattern": "Regular Play",
          "statsbomb xg": 0.13395069846150234,
          "x gk position": 117.33245012468834,
          "x start location": 104.10617206982569,
          "y gk position": 39.84660224438903,
          "y start location": 39.17490648379059
         }
        ]
       },
       "encoding": {
        "x": {
         "axis": {
          "labelAngle": 0,
          "title": "play pattern"
         },
         "field": "play pattern",
         "type": "nominal"
        },
        "y": {
         "axis": {
          "title": "num opponents between shot and goal"
         },
         "field": "num opponents between shot and goal",
         "type": "quantitative"
        }
       },
       "height": 300,
       "mark": "bar",
       "title": "mean num opponents between shot and goal by play pattern",
       "width": 850
      },
      "image/png": "[encoded data removed]",
      "text/plain": [
       "<VegaLite 3 object>\n",
       "\n",
       "If you see this message, it means the renderer has not been properly enabled\n",
       "for the frontend that you are using. For more information, see\n",
       "https://altair-viz.github.io/user_guide/troubleshooting.html\n"
      ]
     },
     "execution_count": 261,
     "metadata": {},
     "output_type": "execute_result"
    }
   ],
   "source": [
    "alt.Chart(shot_training_set.groupby(\"play pattern\").mean().reset_index()).mark_bar().encode(\n",
    "        alt.X('play pattern:N', axis = alt.Axis(title = \"play pattern\", labelAngle = 0)),\n",
    "        alt.Y('num opponents between shot and goal:Q', axis = alt.Axis(title = 'num opponents between shot and goal'))\n",
    ").properties(width = 850, height = 300, \n",
    "             title = \"mean num opponents between shot and goal by play pattern\"\n",
    ").configure_axis(labelFontSize = 13, titleFontSize = 15\n",
    ").configure_title(fontSize = 16)"
   ]
  },
  {
   "cell_type": "markdown",
   "metadata": {},
   "source": [
    "Right, so we can see that actually, shots resulting from counters result in a higher rate of goals scored because there are less opponents between the shot location and the goal (on average), makes sense. "
   ]
  },
  {
   "cell_type": "markdown",
   "metadata": {},
   "source": [
    "#### 2.3.3 Percent goals by first time "
   ]
  },
  {
   "cell_type": "code",
   "execution_count": 262,
   "metadata": {},
   "outputs": [
    {
     "data": {
      "application/vnd.vegalite.v3+json": {
       "$schema": "https://vega.github.io/schema/vega-lite/v3.4.0.json",
       "config": {
        "axis": {
         "labelFontSize": 13,
         "titleFontSize": 15
        },
        "mark": {
         "tooltip": null
        },
        "title": {
         "fontSize": 16
        },
        "view": {
         "height": 300,
         "width": 400
        }
       },
       "data": {
        "name": "data-4aee5faff7dc255360242e96362583a4"
       },
       "datasets": {
        "data-4aee5faff7dc255360242e96362583a4": [
         {
          "Goal": 734,
          "No Goal": 5541,
          "Percent Goal": 11.697211155378486,
          "first time": false
         },
         {
          "Goal": 516,
          "No Goal": 2209,
          "Percent Goal": 18.92883345561262,
          "first time": true
         }
        ]
       },
       "encoding": {
        "x": {
         "axis": {
          "labelAngle": 0,
          "title": "first time"
         },
         "field": "first time",
         "type": "nominal"
        },
        "y": {
         "axis": {
          "title": "Percent Goal"
         },
         "field": "Percent Goal",
         "type": "quantitative"
        }
       },
       "height": 300,
       "mark": "bar",
       "title": "Percent Goal vs first time",
       "width": 850
      },
      "image/png": "[encoded data removed]",
      "text/plain": [
       "<VegaLite 3 object>\n",
       "\n",
       "If you see this message, it means the renderer has not been properly enabled\n",
       "for the frontend that you are using. For more information, see\n",
       "https://altair-viz.github.io/user_guide/troubleshooting.html\n"
      ]
     },
     "execution_count": 262,
     "metadata": {},
     "output_type": "execute_result"
    }
   ],
   "source": [
    "plot_percent_goal_vs_attr(\"first time\", \"bar\")"
   ]
  },
  {
   "cell_type": "markdown",
   "metadata": {},
   "source": [
    "Above, we see that shots taken \"first time\" have a higher chance of resulting in a goal that those not taken first time. If all things were equal, this wouldn't make much intuitive sense. But in this case, shots taken first time likely had other favorable conditions which would increase their chance of resulting in a goal. Let's see if this is true:"
   ]
  },
  {
   "cell_type": "code",
   "execution_count": 263,
   "metadata": {},
   "outputs": [
    {
     "data": {
      "text/html": [
       "<div>\n",
       "<style scoped>\n",
       "    .dataframe tbody tr th:only-of-type {\n",
       "        vertical-align: middle;\n",
       "    }\n",
       "\n",
       "    .dataframe tbody tr th {\n",
       "        vertical-align: top;\n",
       "    }\n",
       "\n",
       "    .dataframe thead th {\n",
       "        text-align: right;\n",
       "    }\n",
       "</style>\n",
       "<table border=\"1\" class=\"dataframe\">\n",
       "  <thead>\n",
       "    <tr style=\"text-align: right;\">\n",
       "      <th></th>\n",
       "      <th>first time</th>\n",
       "      <th>x start location</th>\n",
       "      <th>y start location</th>\n",
       "      <th>duration</th>\n",
       "      <th>x gk position</th>\n",
       "      <th>y gk position</th>\n",
       "      <th>num opponents within 5 yards</th>\n",
       "      <th>num opponents between shot and goal</th>\n",
       "      <th>statsbomb xg</th>\n",
       "      <th>Distance from goal</th>\n",
       "      <th>outcome</th>\n",
       "    </tr>\n",
       "  </thead>\n",
       "  <tbody>\n",
       "    <tr>\n",
       "      <th>0</th>\n",
       "      <td>False</td>\n",
       "      <td>102.884303</td>\n",
       "      <td>39.253960</td>\n",
       "      <td>0.801998</td>\n",
       "      <td>117.831490</td>\n",
       "      <td>39.897371</td>\n",
       "      <td>1.596335</td>\n",
       "      <td>0.760159</td>\n",
       "      <td>0.107894</td>\n",
       "      <td>20.203440</td>\n",
       "      <td>0.116972</td>\n",
       "    </tr>\n",
       "    <tr>\n",
       "      <th>1</th>\n",
       "      <td>True</td>\n",
       "      <td>105.732661</td>\n",
       "      <td>39.957284</td>\n",
       "      <td>0.753124</td>\n",
       "      <td>117.457761</td>\n",
       "      <td>39.969431</td>\n",
       "      <td>1.322569</td>\n",
       "      <td>0.658716</td>\n",
       "      <td>0.173646</td>\n",
       "      <td>16.955988</td>\n",
       "      <td>0.189358</td>\n",
       "    </tr>\n",
       "  </tbody>\n",
       "</table>\n",
       "</div>"
      ],
      "text/plain": [
       "   first time  x start location  y start location  duration  x gk position  \\\n",
       "0       False        102.884303         39.253960  0.801998     117.831490   \n",
       "1        True        105.732661         39.957284  0.753124     117.457761   \n",
       "\n",
       "   y gk position  num opponents within 5 yards  \\\n",
       "0      39.897371                      1.596335   \n",
       "1      39.969431                      1.322569   \n",
       "\n",
       "   num opponents between shot and goal  statsbomb xg  Distance from goal  \\\n",
       "0                             0.760159      0.107894           20.203440   \n",
       "1                             0.658716      0.173646           16.955988   \n",
       "\n",
       "    outcome  \n",
       "0  0.116972  \n",
       "1  0.189358  "
      ]
     },
     "execution_count": 263,
     "metadata": {},
     "output_type": "execute_result"
    }
   ],
   "source": [
    "shot_training_set.groupby(\"first time\").mean().reset_index()"
   ]
  },
  {
   "cell_type": "code",
   "execution_count": 264,
   "metadata": {},
   "outputs": [
    {
     "data": {
      "application/vnd.vegalite.v3+json": {
       "$schema": "https://vega.github.io/schema/vega-lite/v3.4.0.json",
       "config": {
        "axis": {
         "labelFontSize": 13,
         "titleFontSize": 15
        },
        "mark": {
         "tooltip": null
        },
        "title": {
         "fontSize": 16
        },
        "view": {
         "height": 300,
         "width": 400
        }
       },
       "data": {
        "name": "data-fff224572d6e3bb633832dfa8ea0f9ab"
       },
       "datasets": {
        "data-fff224572d6e3bb633832dfa8ea0f9ab": [
         {
          "Distance from goal": 20.203440222387915,
          "duration": 0.8019976690039822,
          "first time": false,
          "num opponents between shot and goal": 0.7601593625498008,
          "num opponents within 5 yards": 1.5963346613545817,
          "outcome": 0.11697211155378485,
          "statsbomb xg": 0.10789412580466931,
          "x gk position": 117.83149003984063,
          "x start location": 102.88430278884388,
          "y gk position": 39.897370517928294,
          "y start location": 39.253960159362684
         },
         {
          "Distance from goal": 16.955987676650917,
          "duration": 0.7531242444036711,
          "first time": true,
          "num opponents between shot and goal": 0.6587155963302752,
          "num opponents within 5 yards": 1.3225688073394495,
          "outcome": 0.18935779816513762,
          "statsbomb xg": 0.17364580287735798,
          "x gk position": 117.45776146788974,
          "x start location": 105.73266055045852,
          "y gk position": 39.969431192660544,
          "y start location": 39.95728440366973
         }
        ]
       },
       "encoding": {
        "x": {
         "axis": {
          "labelAngle": 0,
          "title": "first time"
         },
         "field": "first time",
         "type": "nominal"
        },
        "y": {
         "axis": {
          "title": "Distance from goal"
         },
         "field": "Distance from goal",
         "type": "quantitative"
        }
       },
       "height": 300,
       "mark": "bar",
       "title": "Mean distance from goal for shots taken first time vs not taken first time",
       "width": 850
      },
      "image/png": "[encoded data removed]",
      "text/plain": [
       "<VegaLite 3 object>\n",
       "\n",
       "If you see this message, it means the renderer has not been properly enabled\n",
       "for the frontend that you are using. For more information, see\n",
       "https://altair-viz.github.io/user_guide/troubleshooting.html\n"
      ]
     },
     "execution_count": 264,
     "metadata": {},
     "output_type": "execute_result"
    }
   ],
   "source": [
    "alt.Chart(shot_training_set.groupby(\"first time\").mean().reset_index()).mark_bar().encode(\n",
    "        alt.X('first time:N', axis = alt.Axis(title = \"first time\", labelAngle = 0)),\n",
    "        alt.Y('Distance from goal:Q', axis = alt.Axis(title = 'Distance from goal'))\n",
    ").properties(width = 850, height = 300, \n",
    "             title = \"Mean distance from goal for shots taken first time vs not taken first time\"\n",
    ").configure_axis(labelFontSize = 13, titleFontSize = 15\n",
    ").configure_title(fontSize = 16)"
   ]
  },
  {
   "cell_type": "code",
   "execution_count": 265,
   "metadata": {},
   "outputs": [
    {
     "data": {
      "application/vnd.vegalite.v3+json": {
       "$schema": "https://vega.github.io/schema/vega-lite/v3.4.0.json",
       "config": {
        "axis": {
         "labelFontSize": 13,
         "titleFontSize": 15
        },
        "mark": {
         "tooltip": null
        },
        "title": {
         "fontSize": 16
        },
        "view": {
         "height": 300,
         "width": 400
        }
       },
       "data": {
        "name": "data-fff224572d6e3bb633832dfa8ea0f9ab"
       },
       "datasets": {
        "data-fff224572d6e3bb633832dfa8ea0f9ab": [
         {
          "Distance from goal": 20.203440222387915,
          "duration": 0.8019976690039822,
          "first time": false,
          "num opponents between shot and goal": 0.7601593625498008,
          "num opponents within 5 yards": 1.5963346613545817,
          "outcome": 0.11697211155378485,
          "statsbomb xg": 0.10789412580466931,
          "x gk position": 117.83149003984063,
          "x start location": 102.88430278884388,
          "y gk position": 39.897370517928294,
          "y start location": 39.253960159362684
         },
         {
          "Distance from goal": 16.955987676650917,
          "duration": 0.7531242444036711,
          "first time": true,
          "num opponents between shot and goal": 0.6587155963302752,
          "num opponents within 5 yards": 1.3225688073394495,
          "outcome": 0.18935779816513762,
          "statsbomb xg": 0.17364580287735798,
          "x gk position": 117.45776146788974,
          "x start location": 105.73266055045852,
          "y gk position": 39.969431192660544,
          "y start location": 39.95728440366973
         }
        ]
       },
       "encoding": {
        "x": {
         "axis": {
          "labelAngle": 0,
          "title": "player pattern"
         },
         "field": "first time",
         "type": "nominal"
        },
        "y": {
         "axis": {
          "title": "mean num opponents within 5 yards"
         },
         "field": "num opponents within 5 yards",
         "type": "quantitative"
        }
       },
       "height": 300,
       "mark": "bar",
       "title": "Mean num opponents within 5 yards for shots taken first time vs not taken first time",
       "width": 850
      },
      "image/png": "[encoded data removed]",
      "text/plain": [
       "<VegaLite 3 object>\n",
       "\n",
       "If you see this message, it means the renderer has not been properly enabled\n",
       "for the frontend that you are using. For more information, see\n",
       "https://altair-viz.github.io/user_guide/troubleshooting.html\n"
      ]
     },
     "execution_count": 265,
     "metadata": {},
     "output_type": "execute_result"
    }
   ],
   "source": [
    "alt.Chart(shot_training_set.groupby(\"first time\").mean().reset_index()).mark_bar().encode(\n",
    "        alt.X('first time:N', axis = alt.Axis(title = \"player pattern\", labelAngle = 0)),\n",
    "        alt.Y('num opponents within 5 yards:Q', axis = alt.Axis(title = 'mean num opponents within 5 yards'))\n",
    ").properties(width = 850, height = 300, \n",
    "             title = \"Mean num opponents within 5 yards for shots taken first time vs not taken first time\"\n",
    ").configure_axis(labelFontSize = 13, titleFontSize = 15\n",
    ").configure_title(fontSize = 16)"
   ]
  },
  {
   "cell_type": "code",
   "execution_count": 266,
   "metadata": {},
   "outputs": [
    {
     "data": {
      "application/vnd.vegalite.v3+json": {
       "$schema": "https://vega.github.io/schema/vega-lite/v3.4.0.json",
       "config": {
        "axis": {
         "labelFontSize": 13,
         "titleFontSize": 15
        },
        "mark": {
         "tooltip": null
        },
        "title": {
         "fontSize": 16
        },
        "view": {
         "height": 300,
         "width": 400
        }
       },
       "data": {
        "name": "data-fff224572d6e3bb633832dfa8ea0f9ab"
       },
       "datasets": {
        "data-fff224572d6e3bb633832dfa8ea0f9ab": [
         {
          "Distance from goal": 20.203440222387915,
          "duration": 0.8019976690039822,
          "first time": false,
          "num opponents between shot and goal": 0.7601593625498008,
          "num opponents within 5 yards": 1.5963346613545817,
          "outcome": 0.11697211155378485,
          "statsbomb xg": 0.10789412580466931,
          "x gk position": 117.83149003984063,
          "x start location": 102.88430278884388,
          "y gk position": 39.897370517928294,
          "y start location": 39.253960159362684
         },
         {
          "Distance from goal": 16.955987676650917,
          "duration": 0.7531242444036711,
          "first time": true,
          "num opponents between shot and goal": 0.6587155963302752,
          "num opponents within 5 yards": 1.3225688073394495,
          "outcome": 0.18935779816513762,
          "statsbomb xg": 0.17364580287735798,
          "x gk position": 117.45776146788974,
          "x start location": 105.73266055045852,
          "y gk position": 39.969431192660544,
          "y start location": 39.95728440366973
         }
        ]
       },
       "encoding": {
        "x": {
         "axis": {
          "labelAngle": 0,
          "title": "player pattern"
         },
         "field": "first time",
         "type": "nominal"
        },
        "y": {
         "axis": {
          "title": "num opponents between shot and goal"
         },
         "field": "num opponents between shot and goal",
         "type": "quantitative"
        }
       },
       "height": 300,
       "mark": "bar",
       "title": "Mean num opponents between shot and goal for shots taken first time vs not taken first time",
       "width": 850
      },
      "image/png": "[encoded data removed]",
      "text/plain": [
       "<VegaLite 3 object>\n",
       "\n",
       "If you see this message, it means the renderer has not been properly enabled\n",
       "for the frontend that you are using. For more information, see\n",
       "https://altair-viz.github.io/user_guide/troubleshooting.html\n"
      ]
     },
     "execution_count": 266,
     "metadata": {},
     "output_type": "execute_result"
    }
   ],
   "source": [
    "alt.Chart(shot_training_set.groupby(\"first time\").mean().reset_index()).mark_bar().encode(\n",
    "        alt.X('first time:N', axis = alt.Axis(title = \"player pattern\", labelAngle = 0)),\n",
    "        alt.Y('num opponents between shot and goal:Q', axis = alt.Axis(title = 'num opponents between shot and goal'))\n",
    ").properties(width = 850, height = 300, \n",
    "             title = \"Mean num opponents between shot and goal for shots taken first time vs not taken first time\"\n",
    ").configure_axis(labelFontSize = 13, titleFontSize = 15\n",
    ").configure_title(fontSize = 16)"
   ]
  },
  {
   "cell_type": "markdown",
   "metadata": {},
   "source": [
    "So just as we guessed, shots taken first time are, on average, slightly closer to the goal and are taken with less opponents between the shot location and the goal, and within 5 yards of the shot location."
   ]
  },
  {
   "cell_type": "code",
   "execution_count": null,
   "metadata": {},
   "outputs": [],
   "source": []
  },
  {
   "cell_type": "markdown",
   "metadata": {},
   "source": [
    "## 3. Data preprocessing"
   ]
  },
  {
   "cell_type": "markdown",
   "metadata": {},
   "source": [
    "So in the previous section, we explored our data, and most of our findings made intuitive sense. Now, we will create pipelines for preprocessing the categorical and numerical attributes in our shot data frame, then combine the two pipelines. To refresh our memories, here is the shot data frame again:"
   ]
  },
  {
   "cell_type": "code",
   "execution_count": 267,
   "metadata": {},
   "outputs": [
    {
     "data": {
      "text/html": [
       "<div>\n",
       "<style scoped>\n",
       "    .dataframe tbody tr th:only-of-type {\n",
       "        vertical-align: middle;\n",
       "    }\n",
       "\n",
       "    .dataframe tbody tr th {\n",
       "        vertical-align: top;\n",
       "    }\n",
       "\n",
       "    .dataframe thead th {\n",
       "        text-align: right;\n",
       "    }\n",
       "</style>\n",
       "<table border=\"1\" class=\"dataframe\">\n",
       "  <thead>\n",
       "    <tr style=\"text-align: right;\">\n",
       "      <th></th>\n",
       "      <th>play pattern</th>\n",
       "      <th>x start location</th>\n",
       "      <th>y start location</th>\n",
       "      <th>duration</th>\n",
       "      <th>technique</th>\n",
       "      <th>first time</th>\n",
       "      <th>x gk position</th>\n",
       "      <th>y gk position</th>\n",
       "      <th>type of shot</th>\n",
       "      <th>num opponents within 5 yards</th>\n",
       "      <th>num opponents between shot and goal</th>\n",
       "      <th>statsbomb xg</th>\n",
       "      <th>game_id</th>\n",
       "      <th>season_id</th>\n",
       "      <th>Distance from goal</th>\n",
       "      <th>outcome</th>\n",
       "    </tr>\n",
       "    <tr>\n",
       "      <th>shot id</th>\n",
       "      <th></th>\n",
       "      <th></th>\n",
       "      <th></th>\n",
       "      <th></th>\n",
       "      <th></th>\n",
       "      <th></th>\n",
       "      <th></th>\n",
       "      <th></th>\n",
       "      <th></th>\n",
       "      <th></th>\n",
       "      <th></th>\n",
       "      <th></th>\n",
       "      <th></th>\n",
       "      <th></th>\n",
       "      <th></th>\n",
       "      <th></th>\n",
       "    </tr>\n",
       "  </thead>\n",
       "  <tbody>\n",
       "    <tr>\n",
       "      <th>429197f3-82e4-4745-a44d-53d48fb8a25a</th>\n",
       "      <td>From Free Kick</td>\n",
       "      <td>82.2</td>\n",
       "      <td>42.2</td>\n",
       "      <td>1.428466</td>\n",
       "      <td>Normal</td>\n",
       "      <td>False</td>\n",
       "      <td>118.5</td>\n",
       "      <td>40.0</td>\n",
       "      <td>Free Kick</td>\n",
       "      <td>0</td>\n",
       "      <td>0</td>\n",
       "      <td>0.014002</td>\n",
       "      <td>9682</td>\n",
       "      <td>2017/2018</td>\n",
       "      <td>37.863967</td>\n",
       "      <td>0</td>\n",
       "    </tr>\n",
       "    <tr>\n",
       "      <th>d66b3f02-3526-4a5c-9d29-339bf0b10d7f</th>\n",
       "      <td>Regular Play</td>\n",
       "      <td>112.0</td>\n",
       "      <td>20.0</td>\n",
       "      <td>0.808000</td>\n",
       "      <td>Normal</td>\n",
       "      <td>False</td>\n",
       "      <td>119.2</td>\n",
       "      <td>36.2</td>\n",
       "      <td>Open Play</td>\n",
       "      <td>3</td>\n",
       "      <td>0</td>\n",
       "      <td>0.018279</td>\n",
       "      <td>9700</td>\n",
       "      <td>2017/2018</td>\n",
       "      <td>21.540659</td>\n",
       "      <td>0</td>\n",
       "    </tr>\n",
       "    <tr>\n",
       "      <th>08c5cfcc-e63c-41d6-8868-6c99dda92d76</th>\n",
       "      <td>From Corner</td>\n",
       "      <td>93.1</td>\n",
       "      <td>50.2</td>\n",
       "      <td>2.627000</td>\n",
       "      <td>Half Volley</td>\n",
       "      <td>True</td>\n",
       "      <td>119.2</td>\n",
       "      <td>42.8</td>\n",
       "      <td>Open Play</td>\n",
       "      <td>0</td>\n",
       "      <td>2</td>\n",
       "      <td>0.014953</td>\n",
       "      <td>69343</td>\n",
       "      <td>2011/2012</td>\n",
       "      <td>28.768907</td>\n",
       "      <td>0</td>\n",
       "    </tr>\n",
       "    <tr>\n",
       "      <th>21b8b7dc-7711-4437-b8f5-bb5ab1ed4765</th>\n",
       "      <td>From Throw In</td>\n",
       "      <td>111.9</td>\n",
       "      <td>52.9</td>\n",
       "      <td>0.500035</td>\n",
       "      <td>Normal</td>\n",
       "      <td>False</td>\n",
       "      <td>115.5</td>\n",
       "      <td>48.4</td>\n",
       "      <td>Open Play</td>\n",
       "      <td>1</td>\n",
       "      <td>1</td>\n",
       "      <td>0.149301</td>\n",
       "      <td>16073</td>\n",
       "      <td>2018/2019</td>\n",
       "      <td>15.232203</td>\n",
       "      <td>1</td>\n",
       "    </tr>\n",
       "    <tr>\n",
       "      <th>0621f240-203b-46b2-a822-291671b54f38</th>\n",
       "      <td>Regular Play</td>\n",
       "      <td>106.3</td>\n",
       "      <td>44.2</td>\n",
       "      <td>1.058642</td>\n",
       "      <td>Volley</td>\n",
       "      <td>False</td>\n",
       "      <td>118.1</td>\n",
       "      <td>42.4</td>\n",
       "      <td>Open Play</td>\n",
       "      <td>2</td>\n",
       "      <td>0</td>\n",
       "      <td>0.058536</td>\n",
       "      <td>69326</td>\n",
       "      <td>2011/2012</td>\n",
       "      <td>14.329341</td>\n",
       "      <td>0</td>\n",
       "    </tr>\n",
       "  </tbody>\n",
       "</table>\n",
       "</div>"
      ],
      "text/plain": [
       "                                        play pattern  x start location  \\\n",
       "shot id                                                                  \n",
       "429197f3-82e4-4745-a44d-53d48fb8a25a  From Free Kick              82.2   \n",
       "d66b3f02-3526-4a5c-9d29-339bf0b10d7f    Regular Play             112.0   \n",
       "08c5cfcc-e63c-41d6-8868-6c99dda92d76     From Corner              93.1   \n",
       "21b8b7dc-7711-4437-b8f5-bb5ab1ed4765   From Throw In             111.9   \n",
       "0621f240-203b-46b2-a822-291671b54f38    Regular Play             106.3   \n",
       "\n",
       "                                      y start location  duration    technique  \\\n",
       "shot id                                                                         \n",
       "429197f3-82e4-4745-a44d-53d48fb8a25a              42.2  1.428466       Normal   \n",
       "d66b3f02-3526-4a5c-9d29-339bf0b10d7f              20.0  0.808000       Normal   \n",
       "08c5cfcc-e63c-41d6-8868-6c99dda92d76              50.2  2.627000  Half Volley   \n",
       "21b8b7dc-7711-4437-b8f5-bb5ab1ed4765              52.9  0.500035       Normal   \n",
       "0621f240-203b-46b2-a822-291671b54f38              44.2  1.058642       Volley   \n",
       "\n",
       "                                      first time  x gk position  \\\n",
       "shot id                                                           \n",
       "429197f3-82e4-4745-a44d-53d48fb8a25a       False          118.5   \n",
       "d66b3f02-3526-4a5c-9d29-339bf0b10d7f       False          119.2   \n",
       "08c5cfcc-e63c-41d6-8868-6c99dda92d76        True          119.2   \n",
       "21b8b7dc-7711-4437-b8f5-bb5ab1ed4765       False          115.5   \n",
       "0621f240-203b-46b2-a822-291671b54f38       False          118.1   \n",
       "\n",
       "                                      y gk position type of shot  \\\n",
       "shot id                                                            \n",
       "429197f3-82e4-4745-a44d-53d48fb8a25a           40.0    Free Kick   \n",
       "d66b3f02-3526-4a5c-9d29-339bf0b10d7f           36.2    Open Play   \n",
       "08c5cfcc-e63c-41d6-8868-6c99dda92d76           42.8    Open Play   \n",
       "21b8b7dc-7711-4437-b8f5-bb5ab1ed4765           48.4    Open Play   \n",
       "0621f240-203b-46b2-a822-291671b54f38           42.4    Open Play   \n",
       "\n",
       "                                      num opponents within 5 yards  \\\n",
       "shot id                                                              \n",
       "429197f3-82e4-4745-a44d-53d48fb8a25a                             0   \n",
       "d66b3f02-3526-4a5c-9d29-339bf0b10d7f                             3   \n",
       "08c5cfcc-e63c-41d6-8868-6c99dda92d76                             0   \n",
       "21b8b7dc-7711-4437-b8f5-bb5ab1ed4765                             1   \n",
       "0621f240-203b-46b2-a822-291671b54f38                             2   \n",
       "\n",
       "                                      num opponents between shot and goal  \\\n",
       "shot id                                                                     \n",
       "429197f3-82e4-4745-a44d-53d48fb8a25a                                    0   \n",
       "d66b3f02-3526-4a5c-9d29-339bf0b10d7f                                    0   \n",
       "08c5cfcc-e63c-41d6-8868-6c99dda92d76                                    2   \n",
       "21b8b7dc-7711-4437-b8f5-bb5ab1ed4765                                    1   \n",
       "0621f240-203b-46b2-a822-291671b54f38                                    0   \n",
       "\n",
       "                                      statsbomb xg game_id  season_id  \\\n",
       "shot id                                                                 \n",
       "429197f3-82e4-4745-a44d-53d48fb8a25a      0.014002    9682  2017/2018   \n",
       "d66b3f02-3526-4a5c-9d29-339bf0b10d7f      0.018279    9700  2017/2018   \n",
       "08c5cfcc-e63c-41d6-8868-6c99dda92d76      0.014953   69343  2011/2012   \n",
       "21b8b7dc-7711-4437-b8f5-bb5ab1ed4765      0.149301   16073  2018/2019   \n",
       "0621f240-203b-46b2-a822-291671b54f38      0.058536   69326  2011/2012   \n",
       "\n",
       "                                      Distance from goal  outcome  \n",
       "shot id                                                            \n",
       "429197f3-82e4-4745-a44d-53d48fb8a25a           37.863967        0  \n",
       "d66b3f02-3526-4a5c-9d29-339bf0b10d7f           21.540659        0  \n",
       "08c5cfcc-e63c-41d6-8868-6c99dda92d76           28.768907        0  \n",
       "21b8b7dc-7711-4437-b8f5-bb5ab1ed4765           15.232203        1  \n",
       "0621f240-203b-46b2-a822-291671b54f38           14.329341        0  "
      ]
     },
     "execution_count": 267,
     "metadata": {},
     "output_type": "execute_result"
    }
   ],
   "source": [
    "shot_training_set.head()"
   ]
  },
  {
   "cell_type": "markdown",
   "metadata": {},
   "source": [
    "First, we create a class `AttrSelector`, which has methods `fit` and `transform` that we can use in our pipeline. This method will be use to select the features in our data frame for each pipeline.\n",
    "\n",
    "Also, by making this class a subclass of `BaseEstimator` and `TransformerMixin`, we get the `fit_transform`, `get_params()` and `set_params()` methods as well."
   ]
  },
  {
   "cell_type": "code",
   "execution_count": 268,
   "metadata": {},
   "outputs": [],
   "source": [
    "class AttrSelector(BaseEstimator, TransformerMixin):\n",
    "    \n",
    "    def __init__(self, attributes):\n",
    "        self.attributes = attributes\n",
    "   \n",
    "    def fit(self, attributes):\n",
    "        return self\n",
    "    \n",
    "    def transform(self, X):\n",
    "        return X[self.attributes]"
   ]
  },
  {
   "cell_type": "markdown",
   "metadata": {},
   "source": [
    "### 3.1 Categorical pipeline\n",
    "\n",
    "In our categorical pipeline, we will use AttrSelector to select the relevant categorical attributes, stored as a list in the _categorical_shot_attributes_ variable. We then encode the values of each categorical variable as \"One hot vector\". "
   ]
  },
  {
   "cell_type": "code",
   "execution_count": 269,
   "metadata": {},
   "outputs": [],
   "source": [
    "categorical_shot_attributes = [\"play pattern\", \"technique\", \"first time\"]\n",
    "\n",
    "categorical_attr_pipeline = Pipeline([\n",
    "    ('selector', AttrSelector(categorical_shot_attributes)),\n",
    "    ('one_hot_encoder',  OneHotEncoder())\n",
    "])"
   ]
  },
  {
   "cell_type": "code",
   "execution_count": 270,
   "metadata": {},
   "outputs": [],
   "source": [
    "one_hot_vals_play_pattern = shot_training_set[\"play pattern\"].unique()\n",
    "one_hot_vals_technique = shot_training_set[\"technique\"].unique()\n",
    "one_hot_vals_first_time = shot_training_set[\"first time\"].unique()\n",
    "\n",
    "one_hot_categorical_features = np.concatenate([one_hot_vals_play_pattern, one_hot_vals_technique, one_hot_vals_first_time])"
   ]
  },
  {
   "cell_type": "markdown",
   "metadata": {},
   "source": [
    "### 3.2 Numerical pipeline\n",
    "\n",
    "In our numerical pipeline, we will use AttrSelector to select the relevant numerical attributes, stored as a list in the _numerical_shot_attributes_ variable."
   ]
  },
  {
   "cell_type": "code",
   "execution_count": 271,
   "metadata": {},
   "outputs": [],
   "source": [
    "numerical_shot_attributes = [\"x start location\", \"y start location\", \"x gk position\", \"y gk position\", \n",
    "                             \"num opponents within 5 yards\", \"num opponents between shot and goal\", \"Distance from goal\"]\n",
    "\n",
    "numerical_attr_pipeline = Pipeline([\n",
    "    ('selector', AttrSelector(numerical_shot_attributes))\n",
    "])\n",
    "\n",
    "numerical_features = np.array(numerical_shot_attributes)"
   ]
  },
  {
   "cell_type": "markdown",
   "metadata": {},
   "source": [
    "### 3.3 Combined pipeline\n",
    "\n",
    "Now we combine the categorical and numerical pipelines using the `FeatureUnion` class. And we get our data frame transformed into a sparse matrix, ready to be passed through to sklearn models."
   ]
  },
  {
   "cell_type": "code",
   "execution_count": 272,
   "metadata": {},
   "outputs": [],
   "source": [
    "combined_pipeline = FeatureUnion(transformer_list = [\n",
    "    (\"categorical_attr_pipeline\", categorical_attr_pipeline),\n",
    "    (\"numerical_attr_pipeline\", numerical_attr_pipeline)\n",
    "])\n",
    "\n",
    "X_train = combined_pipeline.fit_transform(shot_training_set)\n",
    "X_test = combined_pipeline.transform(shot_test_set)"
   ]
  },
  {
   "cell_type": "code",
   "execution_count": 273,
   "metadata": {},
   "outputs": [],
   "source": [
    "#list containing names of all features (including new one-hot features)\n",
    "total_features = np.concatenate([one_hot_categorical_features, numerical_features])"
   ]
  },
  {
   "cell_type": "markdown",
   "metadata": {},
   "source": [
    "## 4. Models\n",
    "\n",
    "### 4.1 Logistic Regression\n",
    "\n",
    "#### 4.1.1 Grid search over C"
   ]
  },
  {
   "cell_type": "code",
   "execution_count": 275,
   "metadata": {},
   "outputs": [],
   "source": [
    "C_vals = [0.0001, 0.001, 0.01, 0.1, 1, 10, 100, 1000, 10000]\n",
    "mse_list = []\n",
    "\n",
    "for C in C_vals:\n",
    "    k_folds = KFold(n_splits=5, shuffle=True, random_state=24)\n",
    "    k_folds.split(X_train)\n",
    "    for train_index, val_index in k_folds.split(X_train):\n",
    "        mse_C = []\n",
    "        X_train_cv, X_val = X_train[train_index], X_train[val_index]\n",
    "        y_train_cv, y_val = y_train[train_index], y_train[val_index]\n",
    "       \n",
    "        lr_model = LogisticRegression(solver=\"liblinear\", C=C)\n",
    "        lr_model.fit(X_train_cv, y_train_cv)\n",
    "        mse_C = np.mean((lr_model.predict_proba(X_valid)[:, 1] - y_valid)**2)\n",
    "    mse_list.append(np.mean(mse_C))"
   ]
  },
  {
   "cell_type": "code",
   "execution_count": 276,
   "metadata": {},
   "outputs": [
    {
     "data": {
      "text/html": [
       "<div>\n",
       "<style scoped>\n",
       "    .dataframe tbody tr th:only-of-type {\n",
       "        vertical-align: middle;\n",
       "    }\n",
       "\n",
       "    .dataframe tbody tr th {\n",
       "        vertical-align: top;\n",
       "    }\n",
       "\n",
       "    .dataframe thead th {\n",
       "        text-align: right;\n",
       "    }\n",
       "</style>\n",
       "<table border=\"1\" class=\"dataframe\">\n",
       "  <thead>\n",
       "    <tr style=\"text-align: right;\">\n",
       "      <th></th>\n",
       "      <th>C</th>\n",
       "      <th>mean validation mse</th>\n",
       "    </tr>\n",
       "  </thead>\n",
       "  <tbody>\n",
       "    <tr>\n",
       "      <th>0</th>\n",
       "      <td>0.0001</td>\n",
       "      <td>0.106675</td>\n",
       "    </tr>\n",
       "    <tr>\n",
       "      <th>1</th>\n",
       "      <td>0.0010</td>\n",
       "      <td>0.104216</td>\n",
       "    </tr>\n",
       "    <tr>\n",
       "      <th>2</th>\n",
       "      <td>0.0100</td>\n",
       "      <td>0.101532</td>\n",
       "    </tr>\n",
       "    <tr>\n",
       "      <th>3</th>\n",
       "      <td>0.1000</td>\n",
       "      <td>0.099134</td>\n",
       "    </tr>\n",
       "    <tr>\n",
       "      <th>4</th>\n",
       "      <td>1.0000</td>\n",
       "      <td>0.097779</td>\n",
       "    </tr>\n",
       "    <tr>\n",
       "      <th>5</th>\n",
       "      <td>10.0000</td>\n",
       "      <td>0.096310</td>\n",
       "    </tr>\n",
       "    <tr>\n",
       "      <th>6</th>\n",
       "      <td>100.0000</td>\n",
       "      <td>0.096380</td>\n",
       "    </tr>\n",
       "    <tr>\n",
       "      <th>7</th>\n",
       "      <td>1000.0000</td>\n",
       "      <td>0.096513</td>\n",
       "    </tr>\n",
       "    <tr>\n",
       "      <th>8</th>\n",
       "      <td>10000.0000</td>\n",
       "      <td>0.096425</td>\n",
       "    </tr>\n",
       "  </tbody>\n",
       "</table>\n",
       "</div>"
      ],
      "text/plain": [
       "            C  mean validation mse\n",
       "0      0.0001             0.106675\n",
       "1      0.0010             0.104216\n",
       "2      0.0100             0.101532\n",
       "3      0.1000             0.099134\n",
       "4      1.0000             0.097779\n",
       "5     10.0000             0.096310\n",
       "6    100.0000             0.096380\n",
       "7   1000.0000             0.096513\n",
       "8  10000.0000             0.096425"
      ]
     },
     "execution_count": 276,
     "metadata": {},
     "output_type": "execute_result"
    }
   ],
   "source": [
    "pd.DataFrame({\"C\" : C_vals,\n",
    "              \"mean validation mse\": mse_list})"
   ]
  },
  {
   "cell_type": "markdown",
   "metadata": {},
   "source": [
    "#### 4.1.2 Fitting model"
   ]
  },
  {
   "cell_type": "markdown",
   "metadata": {},
   "source": [
    "Ok, so we see that $C=10$ produces the best mean mse on the validation sets, before leveliing off. So let's train a model using this value on the entire training set."
   ]
  },
  {
   "cell_type": "code",
   "execution_count": 277,
   "metadata": {},
   "outputs": [],
   "source": [
    "lr_model = LogisticRegression(solver='liblinear', C=10)\n",
    "lr_model.fit(X_train, y_train)\n",
    "xg_vals = lr_model.predict_proba(X_test)[:, 1]\n",
    "xg_model_results = shot_test_set.copy()\n",
    "xg_model_results[\"xG\"] = xg_vals\n",
    "xg_model_results[\"diff\"] = xg_model_results[\"xG\"] - xg_model_results[\"statsbomb xg\"]\n",
    "xg_model_results = xg_model_results.reset_index().set_index([\"season_id\", \"game_id\", \"shot id\"]).sort_values(\"diff\", ascending=False)"
   ]
  },
  {
   "cell_type": "code",
   "execution_count": 278,
   "metadata": {},
   "outputs": [
    {
     "name": "stdout",
     "output_type": "stream",
     "text": [
      "0.09100759794642373\n",
      "0.08529527203859426\n"
     ]
    }
   ],
   "source": [
    "print(np.mean((xg_model_results[\"xG\"]-xg_model_results[\"outcome\"])**2))\n",
    "print(np.mean((xg_model_results[\"statsbomb xg\"]-xg_model_results[\"outcome\"])**2))"
   ]
  },
  {
   "cell_type": "code",
   "execution_count": 342,
   "metadata": {},
   "outputs": [
    {
     "data": {
      "text/html": [
       "<div>\n",
       "<style scoped>\n",
       "    .dataframe tbody tr th:only-of-type {\n",
       "        vertical-align: middle;\n",
       "    }\n",
       "\n",
       "    .dataframe tbody tr th {\n",
       "        vertical-align: top;\n",
       "    }\n",
       "\n",
       "    .dataframe thead th {\n",
       "        text-align: right;\n",
       "    }\n",
       "</style>\n",
       "<table border=\"1\" class=\"dataframe\">\n",
       "  <thead>\n",
       "    <tr style=\"text-align: right;\">\n",
       "      <th></th>\n",
       "      <th></th>\n",
       "      <th></th>\n",
       "      <th>play pattern</th>\n",
       "      <th>x start location</th>\n",
       "      <th>y start location</th>\n",
       "      <th>duration</th>\n",
       "      <th>technique</th>\n",
       "      <th>first time</th>\n",
       "      <th>x gk position</th>\n",
       "      <th>y gk position</th>\n",
       "      <th>type of shot</th>\n",
       "      <th>num opponents within 5 yards</th>\n",
       "      <th>num opponents between shot and goal</th>\n",
       "      <th>statsbomb xg</th>\n",
       "      <th>Distance from goal</th>\n",
       "      <th>outcome</th>\n",
       "      <th>xG</th>\n",
       "      <th>diff</th>\n",
       "    </tr>\n",
       "    <tr>\n",
       "      <th>season_id</th>\n",
       "      <th>game_id</th>\n",
       "      <th>shot id</th>\n",
       "      <th></th>\n",
       "      <th></th>\n",
       "      <th></th>\n",
       "      <th></th>\n",
       "      <th></th>\n",
       "      <th></th>\n",
       "      <th></th>\n",
       "      <th></th>\n",
       "      <th></th>\n",
       "      <th></th>\n",
       "      <th></th>\n",
       "      <th></th>\n",
       "      <th></th>\n",
       "      <th></th>\n",
       "      <th></th>\n",
       "      <th></th>\n",
       "    </tr>\n",
       "  </thead>\n",
       "  <tbody>\n",
       "    <tr>\n",
       "      <th>2010/2011</th>\n",
       "      <th>69245</th>\n",
       "      <th>582ddf67-b9dd-4c29-b50e-ebb043fd5f5a</th>\n",
       "      <td>From Free Kick</td>\n",
       "      <td>28.0</td>\n",
       "      <td>37.3</td>\n",
       "      <td>1.260180</td>\n",
       "      <td>Normal</td>\n",
       "      <td>False</td>\n",
       "      <td>0.9</td>\n",
       "      <td>41.3</td>\n",
       "      <td>Free Kick</td>\n",
       "      <td>0</td>\n",
       "      <td>0</td>\n",
       "      <td>0.241625</td>\n",
       "      <td>92.039611</td>\n",
       "      <td>0</td>\n",
       "      <td>0.997175</td>\n",
       "      <td>0.755550</td>\n",
       "    </tr>\n",
       "    <tr>\n",
       "      <th>2007/2008</th>\n",
       "      <th>69186</th>\n",
       "      <th>40e85b73-2e34-4d25-a398-adee3663b930</th>\n",
       "      <td>Regular Play</td>\n",
       "      <td>114.4</td>\n",
       "      <td>41.7</td>\n",
       "      <td>0.705506</td>\n",
       "      <td>Normal</td>\n",
       "      <td>False</td>\n",
       "      <td>93.7</td>\n",
       "      <td>31.0</td>\n",
       "      <td>Open Play</td>\n",
       "      <td>0</td>\n",
       "      <td>0</td>\n",
       "      <td>0.872316</td>\n",
       "      <td>5.852350</td>\n",
       "      <td>1</td>\n",
       "      <td>0.964994</td>\n",
       "      <td>0.092678</td>\n",
       "    </tr>\n",
       "    <tr>\n",
       "      <th>2011/2012</th>\n",
       "      <th>69340</th>\n",
       "      <th>d3b73047-3292-48ea-93d1-f854e221a4d6</th>\n",
       "      <td>Regular Play</td>\n",
       "      <td>112.1</td>\n",
       "      <td>41.8</td>\n",
       "      <td>0.990900</td>\n",
       "      <td>Half Volley</td>\n",
       "      <td>False</td>\n",
       "      <td>96.1</td>\n",
       "      <td>41.7</td>\n",
       "      <td>Open Play</td>\n",
       "      <td>1</td>\n",
       "      <td>0</td>\n",
       "      <td>0.930032</td>\n",
       "      <td>8.102469</td>\n",
       "      <td>1</td>\n",
       "      <td>0.886122</td>\n",
       "      <td>-0.043910</td>\n",
       "    </tr>\n",
       "    <tr>\n",
       "      <th>2015/2016</th>\n",
       "      <th>266254</th>\n",
       "      <th>badea01a-1aa0-4ca6-8671-6c262b9ec6b8</th>\n",
       "      <td>Other</td>\n",
       "      <td>112.3</td>\n",
       "      <td>44.5</td>\n",
       "      <td>0.324395</td>\n",
       "      <td>Normal</td>\n",
       "      <td>False</td>\n",
       "      <td>117.4</td>\n",
       "      <td>42.4</td>\n",
       "      <td>Open Play</td>\n",
       "      <td>1</td>\n",
       "      <td>0</td>\n",
       "      <td>0.502091</td>\n",
       "      <td>8.918520</td>\n",
       "      <td>1</td>\n",
       "      <td>0.828742</td>\n",
       "      <td>0.326651</td>\n",
       "    </tr>\n",
       "    <tr>\n",
       "      <th>2012/2013</th>\n",
       "      <th>70280</th>\n",
       "      <th>276c1a49-01fc-4405-bc80-267d40880b78</th>\n",
       "      <td>Other</td>\n",
       "      <td>113.1</td>\n",
       "      <td>37.4</td>\n",
       "      <td>0.780200</td>\n",
       "      <td>Normal</td>\n",
       "      <td>False</td>\n",
       "      <td>117.7</td>\n",
       "      <td>39.1</td>\n",
       "      <td>Open Play</td>\n",
       "      <td>2</td>\n",
       "      <td>0</td>\n",
       "      <td>0.337916</td>\n",
       "      <td>7.373602</td>\n",
       "      <td>0</td>\n",
       "      <td>0.824757</td>\n",
       "      <td>0.486841</td>\n",
       "    </tr>\n",
       "    <tr>\n",
       "      <th>2018/2019</th>\n",
       "      <th>16182</th>\n",
       "      <th>a770c00c-0efc-4101-a3bb-41f6b87e7e5f</th>\n",
       "      <td>Other</td>\n",
       "      <td>111.5</td>\n",
       "      <td>45.1</td>\n",
       "      <td>0.901400</td>\n",
       "      <td>Normal</td>\n",
       "      <td>False</td>\n",
       "      <td>118.5</td>\n",
       "      <td>43.4</td>\n",
       "      <td>Open Play</td>\n",
       "      <td>1</td>\n",
       "      <td>0</td>\n",
       "      <td>0.151043</td>\n",
       "      <td>9.912618</td>\n",
       "      <td>0</td>\n",
       "      <td>0.782685</td>\n",
       "      <td>0.631643</td>\n",
       "    </tr>\n",
       "  </tbody>\n",
       "</table>\n",
       "</div>"
      ],
      "text/plain": [
       "                                                          play pattern  \\\n",
       "season_id game_id shot id                                                \n",
       "2010/2011 69245   582ddf67-b9dd-4c29-b50e-ebb043fd5f5a  From Free Kick   \n",
       "2007/2008 69186   40e85b73-2e34-4d25-a398-adee3663b930    Regular Play   \n",
       "2011/2012 69340   d3b73047-3292-48ea-93d1-f854e221a4d6    Regular Play   \n",
       "2015/2016 266254  badea01a-1aa0-4ca6-8671-6c262b9ec6b8           Other   \n",
       "2012/2013 70280   276c1a49-01fc-4405-bc80-267d40880b78           Other   \n",
       "2018/2019 16182   a770c00c-0efc-4101-a3bb-41f6b87e7e5f           Other   \n",
       "\n",
       "                                                        x start location  \\\n",
       "season_id game_id shot id                                                  \n",
       "2010/2011 69245   582ddf67-b9dd-4c29-b50e-ebb043fd5f5a              28.0   \n",
       "2007/2008 69186   40e85b73-2e34-4d25-a398-adee3663b930             114.4   \n",
       "2011/2012 69340   d3b73047-3292-48ea-93d1-f854e221a4d6             112.1   \n",
       "2015/2016 266254  badea01a-1aa0-4ca6-8671-6c262b9ec6b8             112.3   \n",
       "2012/2013 70280   276c1a49-01fc-4405-bc80-267d40880b78             113.1   \n",
       "2018/2019 16182   a770c00c-0efc-4101-a3bb-41f6b87e7e5f             111.5   \n",
       "\n",
       "                                                        y start location  \\\n",
       "season_id game_id shot id                                                  \n",
       "2010/2011 69245   582ddf67-b9dd-4c29-b50e-ebb043fd5f5a              37.3   \n",
       "2007/2008 69186   40e85b73-2e34-4d25-a398-adee3663b930              41.7   \n",
       "2011/2012 69340   d3b73047-3292-48ea-93d1-f854e221a4d6              41.8   \n",
       "2015/2016 266254  badea01a-1aa0-4ca6-8671-6c262b9ec6b8              44.5   \n",
       "2012/2013 70280   276c1a49-01fc-4405-bc80-267d40880b78              37.4   \n",
       "2018/2019 16182   a770c00c-0efc-4101-a3bb-41f6b87e7e5f              45.1   \n",
       "\n",
       "                                                        duration    technique  \\\n",
       "season_id game_id shot id                                                       \n",
       "2010/2011 69245   582ddf67-b9dd-4c29-b50e-ebb043fd5f5a  1.260180       Normal   \n",
       "2007/2008 69186   40e85b73-2e34-4d25-a398-adee3663b930  0.705506       Normal   \n",
       "2011/2012 69340   d3b73047-3292-48ea-93d1-f854e221a4d6  0.990900  Half Volley   \n",
       "2015/2016 266254  badea01a-1aa0-4ca6-8671-6c262b9ec6b8  0.324395       Normal   \n",
       "2012/2013 70280   276c1a49-01fc-4405-bc80-267d40880b78  0.780200       Normal   \n",
       "2018/2019 16182   a770c00c-0efc-4101-a3bb-41f6b87e7e5f  0.901400       Normal   \n",
       "\n",
       "                                                        first time  \\\n",
       "season_id game_id shot id                                            \n",
       "2010/2011 69245   582ddf67-b9dd-4c29-b50e-ebb043fd5f5a       False   \n",
       "2007/2008 69186   40e85b73-2e34-4d25-a398-adee3663b930       False   \n",
       "2011/2012 69340   d3b73047-3292-48ea-93d1-f854e221a4d6       False   \n",
       "2015/2016 266254  badea01a-1aa0-4ca6-8671-6c262b9ec6b8       False   \n",
       "2012/2013 70280   276c1a49-01fc-4405-bc80-267d40880b78       False   \n",
       "2018/2019 16182   a770c00c-0efc-4101-a3bb-41f6b87e7e5f       False   \n",
       "\n",
       "                                                        x gk position  \\\n",
       "season_id game_id shot id                                               \n",
       "2010/2011 69245   582ddf67-b9dd-4c29-b50e-ebb043fd5f5a            0.9   \n",
       "2007/2008 69186   40e85b73-2e34-4d25-a398-adee3663b930           93.7   \n",
       "2011/2012 69340   d3b73047-3292-48ea-93d1-f854e221a4d6           96.1   \n",
       "2015/2016 266254  badea01a-1aa0-4ca6-8671-6c262b9ec6b8          117.4   \n",
       "2012/2013 70280   276c1a49-01fc-4405-bc80-267d40880b78          117.7   \n",
       "2018/2019 16182   a770c00c-0efc-4101-a3bb-41f6b87e7e5f          118.5   \n",
       "\n",
       "                                                        y gk position  \\\n",
       "season_id game_id shot id                                               \n",
       "2010/2011 69245   582ddf67-b9dd-4c29-b50e-ebb043fd5f5a           41.3   \n",
       "2007/2008 69186   40e85b73-2e34-4d25-a398-adee3663b930           31.0   \n",
       "2011/2012 69340   d3b73047-3292-48ea-93d1-f854e221a4d6           41.7   \n",
       "2015/2016 266254  badea01a-1aa0-4ca6-8671-6c262b9ec6b8           42.4   \n",
       "2012/2013 70280   276c1a49-01fc-4405-bc80-267d40880b78           39.1   \n",
       "2018/2019 16182   a770c00c-0efc-4101-a3bb-41f6b87e7e5f           43.4   \n",
       "\n",
       "                                                       type of shot  \\\n",
       "season_id game_id shot id                                             \n",
       "2010/2011 69245   582ddf67-b9dd-4c29-b50e-ebb043fd5f5a    Free Kick   \n",
       "2007/2008 69186   40e85b73-2e34-4d25-a398-adee3663b930    Open Play   \n",
       "2011/2012 69340   d3b73047-3292-48ea-93d1-f854e221a4d6    Open Play   \n",
       "2015/2016 266254  badea01a-1aa0-4ca6-8671-6c262b9ec6b8    Open Play   \n",
       "2012/2013 70280   276c1a49-01fc-4405-bc80-267d40880b78    Open Play   \n",
       "2018/2019 16182   a770c00c-0efc-4101-a3bb-41f6b87e7e5f    Open Play   \n",
       "\n",
       "                                                        num opponents within 5 yards  \\\n",
       "season_id game_id shot id                                                              \n",
       "2010/2011 69245   582ddf67-b9dd-4c29-b50e-ebb043fd5f5a                             0   \n",
       "2007/2008 69186   40e85b73-2e34-4d25-a398-adee3663b930                             0   \n",
       "2011/2012 69340   d3b73047-3292-48ea-93d1-f854e221a4d6                             1   \n",
       "2015/2016 266254  badea01a-1aa0-4ca6-8671-6c262b9ec6b8                             1   \n",
       "2012/2013 70280   276c1a49-01fc-4405-bc80-267d40880b78                             2   \n",
       "2018/2019 16182   a770c00c-0efc-4101-a3bb-41f6b87e7e5f                             1   \n",
       "\n",
       "                                                        num opponents between shot and goal  \\\n",
       "season_id game_id shot id                                                                     \n",
       "2010/2011 69245   582ddf67-b9dd-4c29-b50e-ebb043fd5f5a                                    0   \n",
       "2007/2008 69186   40e85b73-2e34-4d25-a398-adee3663b930                                    0   \n",
       "2011/2012 69340   d3b73047-3292-48ea-93d1-f854e221a4d6                                    0   \n",
       "2015/2016 266254  badea01a-1aa0-4ca6-8671-6c262b9ec6b8                                    0   \n",
       "2012/2013 70280   276c1a49-01fc-4405-bc80-267d40880b78                                    0   \n",
       "2018/2019 16182   a770c00c-0efc-4101-a3bb-41f6b87e7e5f                                    0   \n",
       "\n",
       "                                                        statsbomb xg  \\\n",
       "season_id game_id shot id                                              \n",
       "2010/2011 69245   582ddf67-b9dd-4c29-b50e-ebb043fd5f5a      0.241625   \n",
       "2007/2008 69186   40e85b73-2e34-4d25-a398-adee3663b930      0.872316   \n",
       "2011/2012 69340   d3b73047-3292-48ea-93d1-f854e221a4d6      0.930032   \n",
       "2015/2016 266254  badea01a-1aa0-4ca6-8671-6c262b9ec6b8      0.502091   \n",
       "2012/2013 70280   276c1a49-01fc-4405-bc80-267d40880b78      0.337916   \n",
       "2018/2019 16182   a770c00c-0efc-4101-a3bb-41f6b87e7e5f      0.151043   \n",
       "\n",
       "                                                        Distance from goal  \\\n",
       "season_id game_id shot id                                                    \n",
       "2010/2011 69245   582ddf67-b9dd-4c29-b50e-ebb043fd5f5a           92.039611   \n",
       "2007/2008 69186   40e85b73-2e34-4d25-a398-adee3663b930            5.852350   \n",
       "2011/2012 69340   d3b73047-3292-48ea-93d1-f854e221a4d6            8.102469   \n",
       "2015/2016 266254  badea01a-1aa0-4ca6-8671-6c262b9ec6b8            8.918520   \n",
       "2012/2013 70280   276c1a49-01fc-4405-bc80-267d40880b78            7.373602   \n",
       "2018/2019 16182   a770c00c-0efc-4101-a3bb-41f6b87e7e5f            9.912618   \n",
       "\n",
       "                                                        outcome        xG  \\\n",
       "season_id game_id shot id                                                   \n",
       "2010/2011 69245   582ddf67-b9dd-4c29-b50e-ebb043fd5f5a        0  0.997175   \n",
       "2007/2008 69186   40e85b73-2e34-4d25-a398-adee3663b930        1  0.964994   \n",
       "2011/2012 69340   d3b73047-3292-48ea-93d1-f854e221a4d6        1  0.886122   \n",
       "2015/2016 266254  badea01a-1aa0-4ca6-8671-6c262b9ec6b8        1  0.828742   \n",
       "2012/2013 70280   276c1a49-01fc-4405-bc80-267d40880b78        0  0.824757   \n",
       "2018/2019 16182   a770c00c-0efc-4101-a3bb-41f6b87e7e5f        0  0.782685   \n",
       "\n",
       "                                                            diff  \n",
       "season_id game_id shot id                                         \n",
       "2010/2011 69245   582ddf67-b9dd-4c29-b50e-ebb043fd5f5a  0.755550  \n",
       "2007/2008 69186   40e85b73-2e34-4d25-a398-adee3663b930  0.092678  \n",
       "2011/2012 69340   d3b73047-3292-48ea-93d1-f854e221a4d6 -0.043910  \n",
       "2015/2016 266254  badea01a-1aa0-4ca6-8671-6c262b9ec6b8  0.326651  \n",
       "2012/2013 70280   276c1a49-01fc-4405-bc80-267d40880b78  0.486841  \n",
       "2018/2019 16182   a770c00c-0efc-4101-a3bb-41f6b87e7e5f  0.631643  "
      ]
     },
     "execution_count": 342,
     "metadata": {},
     "output_type": "execute_result"
    }
   ],
   "source": [
    "xg_model_results.sort_values(\"xG\", ascending=False).iloc[0:6]"
   ]
  },
  {
   "cell_type": "code",
   "execution_count": 355,
   "metadata": {},
   "outputs": [
    {
     "data": {
      "image/png": "[encoded data removed]",
      "text/plain": [
       "<Figure size 2160x960 with 6 Axes>"
      ]
     },
     "metadata": {
      "needs_background": "light"
     },
     "output_type": "display_data"
    }
   ],
   "source": [
    "ascending=False\n",
    "season_ids = xg_model_results.sort_values(\"xG\", ascending=ascending).reset_index().iloc[1:7][\"season_id\"]\n",
    "game_ids = xg_model_results.sort_values(\"xG\", ascending=ascending).reset_index().iloc[1:7][\"game_id\"]\n",
    "shot_ids = xg_model_results.sort_values(\"xG\", ascending=ascending).reset_index().iloc[1:7][\"shot id\"]\n",
    "xg_vals = xg_model_results.sort_values(\"xG\", ascending=ascending).reset_index().iloc[1:7][\"xG\"]\n",
    "\n",
    "num=1\n",
    "fig, ax = plt.subplots(2, 3, figsize=(36/1.2, 16/1.2))\n",
    "for i in range(2):\n",
    "    for j in range(3):\n",
    "        ax_i = ax[i, j]\n",
    "        draw_pitch(axis=ax_i, rotate=True)\n",
    "        plot_shot_freeze_frame(la_liga[season_ids[num]][game_ids[num]].json_file, shot_ids[num], ax=ax_i)\n",
    "        ax_i.annotate(\"Season: {}\".format(season_ids[num]), xy = (1,75), size=16)\n",
    "        ax_i.annotate(\"Game ID: {}\".format(game_ids[num]), xy = (1,70), size=16)\n",
    "        ax_i.annotate(\"xG: {}\".format(round(xg_vals[num], 5)), xy = (1,65), size=16)\n",
    "        num+=1"
   ]
  },
  {
   "cell_type": "code",
   "execution_count": 356,
   "metadata": {},
   "outputs": [
    {
     "data": {
      "image/png": "[encoded data removed]",
      "text/plain": [
       "<Figure size 2160x960 with 6 Axes>"
      ]
     },
     "metadata": {
      "needs_background": "light"
     },
     "output_type": "display_data"
    }
   ],
   "source": [
    "ascending=True\n",
    "season_ids = xg_model_results.sort_values(\"xG\", ascending=ascending).reset_index().iloc[1:7][\"season_id\"]\n",
    "game_ids = xg_model_results.sort_values(\"xG\", ascending=ascending).reset_index().iloc[1:7][\"game_id\"]\n",
    "shot_ids = xg_model_results.sort_values(\"xG\", ascending=ascending).reset_index().iloc[1:7][\"shot id\"]\n",
    "xg_vals = xg_model_results.sort_values(\"xG\", ascending=ascending).reset_index().iloc[1:7][\"xG\"]\n",
    "\n",
    "num=1\n",
    "fig, ax = plt.subplots(2, 3, figsize=(36/1.2, 16/1.2))\n",
    "for i in range(2):\n",
    "    for j in range(3):\n",
    "        ax_i = ax[i, j]\n",
    "        draw_pitch(axis=ax_i, rotate=True)\n",
    "        plot_shot_freeze_frame(la_liga[season_ids[num]][game_ids[num]].json_file, shot_ids[num], ax=ax_i)\n",
    "        ax_i.annotate(\"Season: {}\".format(season_ids[num]), xy = (1,75), size=16)\n",
    "        ax_i.annotate(\"Game ID: {}\".format(game_ids[num]), xy = (1,70), size=16)\n",
    "        ax_i.annotate(\"xG: {}\".format(round(xg_vals[num], 5)), xy = (1,65), size=16)\n",
    "        num+=1"
   ]
  },
  {
   "cell_type": "code",
   "execution_count": null,
   "metadata": {},
   "outputs": [],
   "source": []
  }
 ],
 "metadata": {
  "kernelspec": {
   "display_name": "Python 3",
   "language": "python",
   "name": "python3"
  },
  "language_info": {
   "codemirror_mode": {
    "name": "ipython",
    "version": 3
   },
   "file_extension": ".py",
   "mimetype": "text/x-python",
   "name": "python",
   "nbconvert_exporter": "python",
   "pygments_lexer": "ipython3",
   "version": "3.7.4"
  }
 },
 "nbformat": 4,
 "nbformat_minor": 4
}
