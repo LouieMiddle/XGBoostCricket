{
 "cells": [
  {
   "cell_type": "code",
   "execution_count": 289,
   "metadata": {},
   "outputs": [],
   "source": [
    "import requests\n",
    "from bs4 import BeautifulSoup\n",
    "import json\n",
    "import re\n",
    "\n",
    "import pandas as pd\n",
    "import numpy as np\n",
    "import matplotlib.pyplot as plt\n",
    "import altair as alt\n",
    "\n",
    "from sklearn.model_selection import StratifiedShuffleSplit\n",
    "from sklearn.preprocessing import OneHotEncoder, CategoricalEncoder\n",
    "from sklearn.pipeline import Pipeline\n",
    "from sklearn.preprocessing import StandardScaler\n",
    "from sklearn.pipeline import FeatureUnion\n",
    "from sklearn.base import BaseEstimator, TransformerMixin\n",
    "\n",
    "from sklearn.tree import DecisionTreeClassifier\n",
    "from sklearn.model_selection import cross_val_score\n",
    "from sklearn.tree import export_graphviz"
   ]
  },
  {
   "cell_type": "markdown",
   "metadata": {},
   "source": [
    "# xG Model"
   ]
  },
  {
   "cell_type": "markdown",
   "metadata": {},
   "source": [
    "## 1. Fetching data"
   ]
  },
  {
   "cell_type": "markdown",
   "metadata": {},
   "source": [
    "### 1.1 Objects and functions to fetch data from Statsbomb's Github"
   ]
  },
  {
   "cell_type": "markdown",
   "metadata": {},
   "source": [
    "In the third cell below, we call `fetch_matches_for_season` with argument **11**, as this corresponds to the La Liga comp in Statsbomb public data. See [here](https://github.com/statsbomb/open-data/blob/master/data/competitions.json)."
   ]
  },
  {
   "cell_type": "code",
   "execution_count": 2,
   "metadata": {},
   "outputs": [],
   "source": [
    "class Game:\n",
    "    \"\"\"Game object whose only attribute is event-level JSON file (from Statsbomb's github)\"\"\"\n",
    "    \n",
    "    def __init__(self, json_file):\n",
    "        self.json_file = json.loads(json_file)"
   ]
  },
  {
   "cell_type": "code",
   "execution_count": 3,
   "metadata": {},
   "outputs": [],
   "source": [
    "def fetch_matches_for_season(github_season_url):\n",
    "    \"\"\"\n",
    "    Function which take a url from Statsbomb's github for a specific season and returns a dictionary maping game ID's to the game's \n",
    "    event level JSON data.\n",
    "    \n",
    "    Arguments:\n",
    "    \n",
    "    github_season_url - (String) URL from Statsbomb's github. Format is:\n",
    "                        https://github.com/statsbomb/open-data/blob/master/data/matches/{league_ID}/{season_ID}.json\n",
    "    \"\"\"\n",
    "    req = requests.get(github_season_url).text\n",
    "    soup = BeautifulSoup(req, \"lxml\") \n",
    "    table = soup.find('table')\n",
    "    \n",
    "    game_nums = []\n",
    "    for td in table.find_all('td'):\n",
    "        if \"match_id\" in td.text:\n",
    "            game_num = re.findall(r'[0-9]+', td.text)[0]\n",
    "            game_nums.append(game_num)\n",
    "            \n",
    "    json_files = []\n",
    "    base_url_string = \"https://raw.githubusercontent.com/statsbomb/open-data/master/data/events/\"\n",
    "    game_num_dict = {\n",
    "        game_num  : Game(requests.get(base_url_string + game_num + \".json\").text)\n",
    "        for game_num in game_nums\n",
    "    }\n",
    " \n",
    "    return game_num_dict"
   ]
  },
  {
   "cell_type": "code",
   "execution_count": 4,
   "metadata": {},
   "outputs": [
    {
     "name": "stdout",
     "output_type": "stream",
     "text": [
      "Getting season 2015/2016...\n",
      "Getting season 2014/2015...\n",
      "Getting season 2013/2014...\n",
      "Getting season 2012/2013...\n",
      "Getting season 2011/2012...\n",
      "Getting season 2010/2011...\n",
      "Getting season 2009/2010...\n",
      "Getting season 2008/2009...\n",
      "Getting season 2007/2008...\n",
      "Getting season 2006/2007...\n",
      "Getting season 2005/2006...\n",
      "Getting season 2004/2005...\n",
      "Done\n"
     ]
    }
   ],
   "source": [
    "def fetch_all_seasons_for_league(competition_id):\n",
    "    \"\"\"\n",
    "    Function which takes a competition_id, as specified by Statsbomb, and returns a dictionary where each season maps to \n",
    "    another dictionary containing all games in that season.\n",
    "    \n",
    "    Arguments:\n",
    "    \n",
    "    season_id - (int) competition_id as specified by Statsbomb \n",
    "                      See here: https://github.com/statsbomb/open-data/blob/master/data/competitions.json\n",
    "    \n",
    "    \"\"\"\n",
    "    #Get webpage html for competitions.json\n",
    "    req = requests.get(\"https://raw.githubusercontent.com/statsbomb/open-data/master/data/competitions.json\").text\n",
    "    #Convert webpage to json format\n",
    "    competitions_statsbomb = json.loads(req)\n",
    "\n",
    "    all_seasons_id = {}\n",
    "    for comps in competitions_statsbomb:\n",
    "        if comps['competition_id'] == competition_id:\n",
    "            season_id = comps['season_id']\n",
    "            season_name = comps['season_name']\n",
    "        \n",
    "            all_seasons_id[season_name] = season_id\n",
    "    \n",
    "    league_all_games_by_seasons = {}\n",
    "    \n",
    "    for keys, values in all_seasons_id.items():\n",
    "        season_url = \"https://github.com/statsbomb/open-data/blob/master/data/matches/{}/{}.json\".format(competition_id, values)\n",
    "        print(\"Getting season {}...\".format(keys))\n",
    "        season = fetch_matches_for_season(season_url)\n",
    "        league_all_games_by_seasons[keys] = season\n",
    "    \n",
    "    print(\"Done\")\n",
    "    \n",
    "    return league_all_games_by_seasons\n",
    "\n",
    "la_liga = fetch_all_seasons_for_league(11)"
   ]
  },
  {
   "cell_type": "markdown",
   "metadata": {},
   "source": [
    "So we have a data structure, called `la_liga`, which has league season names as the keys of the outer dictionary. The values are dictionaries, which map game ids (as specified by statsbomb) to `Game` objects (defined above)."
   ]
  },
  {
   "cell_type": "code",
   "execution_count": 5,
   "metadata": {},
   "outputs": [
    {
     "data": {
      "text/plain": [
       "{'2015/2016': {'266310': <__main__.Game at 0x1a2a11cd50>,\n",
       "  '266498': <__main__.Game at 0x1a2b348cd0>,\n",
       "  '265839': <__main__.Game at 0x1a2beccf90>,\n",
       "  '265958': <__main__.Game at 0x1a2cc38f90>,\n",
       "  '266106': <__main__.Game at 0x1a2d5a7d10>,\n",
       "  '266160': <__main__.Game at 0x1a2e41df50>,\n",
       "  '266236': <__main__.Game at 0x1a2eeebf10>,\n",
       "  '266254': <__main__.Game at 0x1a300a2f10>,\n",
       "  '266424': <__main__.Game at 0x1a30819fd0>,\n",
       "  '266467': <__main__.Game at 0x1a31a44e10>,\n",
       "  '266653': <__main__.Game at 0x1a32135f90>,\n",
       "  '266620': <__main__.Game at 0x1a32c02c90>,\n",
       "  '266664': <__main__.Game at 0x1a33d9cdd0>,\n",
       "  '266815': <__main__.Game at 0x1a3473ded0>,\n",
       "  '266885': <__main__.Game at 0x1a3213a7d0>,\n",
       "  '267274': <__main__.Game at 0x1a360c3d10>,\n",
       "  '267327': <__main__.Game at 0x1a371fffd0>,\n",
       "  '267422': <__main__.Game at 0x1a379a3e10>,\n",
       "  '267533': <__main__.Game at 0x1a384e6f90>,\n",
       "  '267506': <__main__.Game at 0x1a3958cf90>,\n",
       "  '267611': <__main__.Game at 0x1a39ca2c10>,\n",
       "  '266961': <__main__.Game at 0x1a3a9fcdd0>,\n",
       "  '266056': <__main__.Game at 0x1a3bb5df10>,\n",
       "  '265894': <__main__.Game at 0x1a3c61bcd0>,\n",
       "  '266670': <__main__.Game at 0x1a3cf08cd0>,\n",
       "  '266149': <__main__.Game at 0x1a3db58e10>,\n",
       "  '266166': <__main__.Game at 0x1a3e81ce10>,\n",
       "  '267273': <__main__.Game at 0x1a3fa1ec10>,\n",
       "  '267576': <__main__.Game at 0x1a40849fd0>,\n",
       "  '266557': <__main__.Game at 0x1a411bca90>,\n",
       "  '265944': <__main__.Game at 0x1a41dc6dd0>,\n",
       "  '266986': <__main__.Game at 0x1a42a12fd0>,\n",
       "  '266490': <__main__.Game at 0x1a439fac50>},\n",
       " '2014/2015': {'70303': <__main__.Game at 0x1a439fae10>,\n",
       "  '70273': <__main__.Game at 0x1a42ae2a90>,\n",
       "  '267183': <__main__.Game at 0x1a4679bd10>,\n",
       "  '266871': <__main__.Game at 0x1a47375d50>,\n",
       "  '266967': <__main__.Game at 0x1a48103d50>,\n",
       "  '265866': <__main__.Game at 0x1a48f1fe50>,\n",
       "  '265896': <__main__.Game at 0x1a49bace50>,\n",
       "  '266148': <__main__.Game at 0x1a4a234fd0>,\n",
       "  '266142': <__main__.Game at 0x1a4b511f50>,\n",
       "  '266240': <__main__.Game at 0x1a4c5b6c90>,\n",
       "  '266230': <__main__.Game at 0x1a4c8b7e90>,\n",
       "  '266320': <__main__.Game at 0x1a4dd1ef90>,\n",
       "  '266560': <__main__.Game at 0x1a4efcf7d0>,\n",
       "  '266525': <__main__.Game at 0x1a4f891dd0>,\n",
       "  '266631': <__main__.Game at 0x1a5067cb50>,\n",
       "  '266741': <__main__.Game at 0x1a51269f50>,\n",
       "  '266794': <__main__.Game at 0x1a51dd4e10>,\n",
       "  '266838': <__main__.Game at 0x1a5277ed90>,\n",
       "  '266916': <__main__.Game at 0x1a5349dfd0>,\n",
       "  '266929': <__main__.Game at 0x1a54229d90>,\n",
       "  '267085': <__main__.Game at 0x1a5067cd10>,\n",
       "  '267197': <__main__.Game at 0x1a55fc4fd0>,\n",
       "  '267301': <__main__.Game at 0x1a568a5d50>,\n",
       "  '267343': <__main__.Game at 0x1a57762990>,\n",
       "  '267561': <__main__.Game at 0x1a57edce10>,\n",
       "  '265963': <__main__.Game at 0x1a58bd0ed0>,\n",
       "  '266770': <__main__.Game at 0x1a59762bd0>,\n",
       "  '70264': <__main__.Game at 0x1a5a82bd10>,\n",
       "  '267400': <__main__.Game at 0x1a5b902d50>,\n",
       "  '266846': <__main__.Game at 0x1a5c089b90>,\n",
       "  '267499': <__main__.Game at 0x1a5d31df50>,\n",
       "  '265835': <__main__.Game at 0x1a5d98dfd0>,\n",
       "  '266045': <__main__.Game at 0x1a5ec0dfd0>,\n",
       "  '267597': <__main__.Game at 0x1a5ef0cf90>,\n",
       "  '266117': <__main__.Game at 0x1a6033cb10>,\n",
       "  '266406': <__main__.Game at 0x1a6103c9d0>,\n",
       "  '266531': <__main__.Game at 0x1a61d27c10>,\n",
       "  '266921': <__main__.Game at 0x1a6298fe50>},\n",
       " '2013/2014': {'70301': <__main__.Game at 0x1a646eaad0>,\n",
       "  '70306': <__main__.Game at 0x1a6103cb90>,\n",
       "  '70289': <__main__.Game at 0x1a2a0cdf10>,\n",
       "  '70288': <__main__.Game at 0x1a45e6ab50>,\n",
       "  '70302': <__main__.Game at 0x1a648caa10>,\n",
       "  '70277': <__main__.Game at 0x1a665c4a10>,\n",
       "  '70291': <__main__.Game at 0x1a6726af10>,\n",
       "  '70298': <__main__.Game at 0x1a685edbd0>,\n",
       "  '70293': <__main__.Game at 0x1a690c9d10>,\n",
       "  '70283': <__main__.Game at 0x1a69fe7f90>,\n",
       "  '265837': <__main__.Game at 0x1a6a70aed0>,\n",
       "  '265857': <__main__.Game at 0x1a6b241dd0>,\n",
       "  '266066': <__main__.Game at 0x1a6c6cbed0>,\n",
       "  '266420': <__main__.Game at 0x1a6cdc0fd0>,\n",
       "  '266462': <__main__.Game at 0x1a6dc74e90>,\n",
       "  '266603': <__main__.Game at 0x1a6e9faed0>,\n",
       "  '267368': <__main__.Game at 0x1a6fc60ad0>,\n",
       "  '267567': <__main__.Game at 0x1a70335f50>,\n",
       "  '265830': <__main__.Game at 0x1a70efdfd0>,\n",
       "  '266883': <__main__.Game at 0x1a71d82e50>,\n",
       "  '266201': <__main__.Game at 0x1a729dde10>,\n",
       "  '266613': <__main__.Game at 0x1a6ea010d0>,\n",
       "  '266491': <__main__.Game at 0x1a74389d50>,\n",
       "  '267192': <__main__.Game at 0x1a750e4950>,\n",
       "  '266256': <__main__.Game at 0x1a75eccb50>,\n",
       "  '267675': <__main__.Game at 0x1a769fabd0>,\n",
       "  '266274': <__main__.Game at 0x1a77e8aa50>,\n",
       "  '267520': <__main__.Game at 0x1a789cccd0>,\n",
       "  '266074': <__main__.Game at 0x1a79f20f90>,\n",
       "  '267138': <__main__.Game at 0x1a7a1dcf90>,\n",
       "  '265918': <__main__.Game at 0x1a7acd4ed0>},\n",
       " '2012/2013': {'70271': <__main__.Game at 0x1a7d686f10>,\n",
       "  '70262': <__main__.Game at 0x1a7e660f90>,\n",
       "  '70256': <__main__.Game at 0x1a7e8e3f50>,\n",
       "  '70259': <__main__.Game at 0x1a7fabda10>,\n",
       "  '70272': <__main__.Game at 0x1a802abd10>,\n",
       "  '70260': <__main__.Game at 0x1a81599990>,\n",
       "  '70270': <__main__.Game at 0x1a81c44f10>,\n",
       "  '70263': <__main__.Game at 0x1a82a45e90>,\n",
       "  '70281': <__main__.Game at 0x1a83a53d50>,\n",
       "  '70308': <__main__.Game at 0x1a7fabdbd0>,\n",
       "  '70282': <__main__.Game at 0x1a857a2c10>,\n",
       "  '70309': <__main__.Game at 0x1a865b3a10>,\n",
       "  '70284': <__main__.Game at 0x1a87c0ffd0>,\n",
       "  '70287': <__main__.Game at 0x1a882adc50>,\n",
       "  '70304': <__main__.Game at 0x1a64436f50>,\n",
       "  '70275': <__main__.Game at 0x1a85068f50>,\n",
       "  '70300': <__main__.Game at 0x1a89882cd0>,\n",
       "  '70297': <__main__.Game at 0x1a89e9cb10>,\n",
       "  '70276': <__main__.Game at 0x1a8ae56cd0>,\n",
       "  '70280': <__main__.Game at 0x1a8c093dd0>,\n",
       "  '70295': <__main__.Game at 0x1a8cd89c90>,\n",
       "  '70286': <__main__.Game at 0x1a8d72e950>,\n",
       "  '70294': <__main__.Game at 0x1a8e5a7ed0>,\n",
       "  '70307': <__main__.Game at 0x1a8f309f50>,\n",
       "  '70305': <__main__.Game at 0x1a907c1fd0>,\n",
       "  '70292': <__main__.Game at 0x1a9155ced0>,\n",
       "  '70296': <__main__.Game at 0x1a91d0be10>,\n",
       "  '266724': <__main__.Game at 0x1a92c48e50>,\n",
       "  '266827': <__main__.Game at 0x1a93b77c90>,\n",
       "  '267502': <__main__.Game at 0x1a8f312a10>,\n",
       "  '266015': <__main__.Game at 0x1a9583bed0>,\n",
       "  '266433': <__main__.Game at 0x1a9672dbd0>},\n",
       " '2011/2012': {'69264': <__main__.Game at 0x1a995b6fd0>,\n",
       "  '69265': <__main__.Game at 0x1a9a07bbd0>,\n",
       "  '69268': <__main__.Game at 0x1a9b5c5f90>,\n",
       "  '69293': <__main__.Game at 0x1a9bbcdf90>,\n",
       "  '70219': <__main__.Game at 0x1a9cb90b50>,\n",
       "  '69312': <__main__.Game at 0x1a7c9c2790>,\n",
       "  '69315': <__main__.Game at 0x1a9d3a7f90>,\n",
       "  '69318': <__main__.Game at 0x1a9de6ce10>,\n",
       "  '69314': <__main__.Game at 0x1a9ec44f50>,\n",
       "  '69316': <__main__.Game at 0x1a9f948c10>,\n",
       "  '69320': <__main__.Game at 0x1aa08dee50>,\n",
       "  '69319': <__main__.Game at 0x1aa152efd0>,\n",
       "  '69322': <__main__.Game at 0x1aa229ead0>,\n",
       "  '69323': <__main__.Game at 0x1aa30aebd0>,\n",
       "  '70221': <__main__.Game at 0x1aa3ee3f90>,\n",
       "  '69324': <__main__.Game at 0x1aa4bd1d50>,\n",
       "  '70225': <__main__.Game at 0x1aa08d7c10>,\n",
       "  '70223': <__main__.Game at 0x1aa652be90>,\n",
       "  '69331': <__main__.Game at 0x1aa7239fd0>,\n",
       "  '69328': <__main__.Game at 0x1aa7e91f10>,\n",
       "  '69325': <__main__.Game at 0x1aa8c0c9d0>,\n",
       "  '69327': <__main__.Game at 0x1aa98aeb50>,\n",
       "  '69326': <__main__.Game at 0x1aaa783d50>,\n",
       "  '69329': <__main__.Game at 0x1aabbb7f10>,\n",
       "  '69333': <__main__.Game at 0x1aacd13e90>,\n",
       "  '69332': <__main__.Game at 0x1aacff7fd0>,\n",
       "  '70220': <__main__.Game at 0x1aadbccfd0>,\n",
       "  '70224': <__main__.Game at 0x1aae8f8f90>,\n",
       "  '69335': <__main__.Game at 0x1aaf4d8d90>,\n",
       "  '69338': <__main__.Game at 0x1ab063ff10>,\n",
       "  '69340': <__main__.Game at 0x1ab12b1e50>,\n",
       "  '69337': <__main__.Game at 0x1ab20b0bd0>,\n",
       "  '69334': <__main__.Game at 0x1ab2d95b10>,\n",
       "  '69336': <__main__.Game at 0x1ab3b60e90>,\n",
       "  '69343': <__main__.Game at 0x1ab4c76c10>,\n",
       "  '69330': <__main__.Game at 0x1ab5416a50>,\n",
       "  '69297': <__main__.Game at 0x1ab12abdd0>},\n",
       " '2010/2011': {'69236': <__main__.Game at 0x1a992137d0>,\n",
       "  '69234': <__main__.Game at 0x1a9893cf90>,\n",
       "  '69245': <__main__.Game at 0x1ab73dfe50>,\n",
       "  '69246': <__main__.Game at 0x1ab9088dd0>,\n",
       "  '69248': <__main__.Game at 0x1ab9c6ffd0>,\n",
       "  '69260': <__main__.Game at 0x1abaff1fd0>,\n",
       "  '69263': <__main__.Game at 0x1abb5e3e50>,\n",
       "  '69272': <__main__.Game at 0x1abc865c10>,\n",
       "  '69269': <__main__.Game at 0x1abd619fd0>,\n",
       "  '69270': <__main__.Game at 0x1abe3b3e90>,\n",
       "  '69271': <__main__.Game at 0x1abebe2fd0>,\n",
       "  '69278': <__main__.Game at 0x1abf7a6950>,\n",
       "  '69276': <__main__.Game at 0x1ac0771fd0>,\n",
       "  '69280': <__main__.Game at 0x1ac1cfcd10>,\n",
       "  '69275': <__main__.Game at 0x1ac289dc10>,\n",
       "  '69283': <__main__.Game at 0x1ac3096ed0>,\n",
       "  '69282': <__main__.Game at 0x1ac3f66fd0>,\n",
       "  '69274': <__main__.Game at 0x1ac4dbbfd0>,\n",
       "  '69287': <__main__.Game at 0x1ac0778ad0>,\n",
       "  '69286': <__main__.Game at 0x1ac6722f10>,\n",
       "  '69289': <__main__.Game at 0x1ac73bd9d0>,\n",
       "  '69291': <__main__.Game at 0x1ac7f25cd0>,\n",
       "  '69296': <__main__.Game at 0x1ac93faf50>,\n",
       "  '69295': <__main__.Game at 0x1aca111f90>,\n",
       "  '69300': <__main__.Game at 0x1acb0b1a10>,\n",
       "  '69299': <__main__.Game at 0x1acc289990>,\n",
       "  '69304': <__main__.Game at 0x1acc881d10>,\n",
       "  '69307': <__main__.Game at 0x1acd7fbd50>,\n",
       "  '69308': <__main__.Game at 0x1aceabbd10>,\n",
       "  '69302': <__main__.Game at 0x1acf2ecfd0>,\n",
       "  '69303': <__main__.Game at 0x1ad02efe10>,\n",
       "  '69306': <__main__.Game at 0x1ad0f67e50>,\n",
       "  '69305': <__main__.Game at 0x1ad1d2d9d0>},\n",
       " '2009/2010': {'69239': <__main__.Game at 0x1ad468ef10>,\n",
       "  '69221': <__main__.Game at 0x1ad53bebd0>,\n",
       "  '69218': <__main__.Game at 0x1ad5dfefd0>,\n",
       "  '69210': <__main__.Game at 0x1ad6e68e50>,\n",
       "  '69219': <__main__.Game at 0x1ad0f6e910>,\n",
       "  '69220': <__main__.Game at 0x1ad2d65d90>,\n",
       "  '69214': <__main__.Game at 0x1ad803ffd0>,\n",
       "  '69227': <__main__.Game at 0x1ad89a9f10>,\n",
       "  '69229': <__main__.Game at 0x1ad95a5fd0>,\n",
       "  '69233': <__main__.Game at 0x1ada298f10>,\n",
       "  '69213': <__main__.Game at 0x1ada9cdd90>,\n",
       "  '69224': <__main__.Game at 0x1adb933f10>,\n",
       "  '69226': <__main__.Game at 0x1adca22e10>,\n",
       "  '69237': <__main__.Game at 0x1add7fafd0>,\n",
       "  '69238': <__main__.Game at 0x1ade23efd0>,\n",
       "  '69242': <__main__.Game at 0x1adef07fd0>,\n",
       "  '69247': <__main__.Game at 0x1adfa2ecd0>,\n",
       "  '69240': <__main__.Game at 0x1ae04bae90>,\n",
       "  '69244': <__main__.Game at 0x1ae1470dd0>,\n",
       "  '69241': <__main__.Game at 0x1ae25d5d50>,\n",
       "  '69250': <__main__.Game at 0x1ae304be10>,\n",
       "  '69243': <__main__.Game at 0x1ae388be50>,\n",
       "  '69254': <__main__.Game at 0x1ae47e8f10>,\n",
       "  '69256': <__main__.Game at 0x1ae5571e50>,\n",
       "  '69253': <__main__.Game at 0x1ae25d5f10>,\n",
       "  '69257': <__main__.Game at 0x1ae756ba50>,\n",
       "  '69255': <__main__.Game at 0x1ae7cb1fd0>,\n",
       "  '69267': <__main__.Game at 0x1ae892efd0>,\n",
       "  '69262': <__main__.Game at 0x1ae9398ed0>,\n",
       "  '69252': <__main__.Game at 0x1aea54bb50>,\n",
       "  '69259': <__main__.Game at 0x1aea935c90>,\n",
       "  '69277': <__main__.Game at 0x1aeb59fd50>,\n",
       "  '69288': <__main__.Game at 0x1aec6e7d50>,\n",
       "  '69292': <__main__.Game at 0x1aecc95dd0>,\n",
       "  '69298': <__main__.Game at 0x1aee054f50>},\n",
       " '2008/2009': {'69138': <__main__.Game at 0x1aefef7dd0>,\n",
       "  '69139': <__main__.Game at 0x1af0b5fa10>,\n",
       "  '69142': <__main__.Game at 0x1af0f5bed0>,\n",
       "  '69147': <__main__.Game at 0x1af1d13f90>,\n",
       "  '69149': <__main__.Game at 0x1af27fde90>,\n",
       "  '69171': <__main__.Game at 0x1af3503e50>,\n",
       "  '69177': <__main__.Game at 0x1af40d1990>,\n",
       "  '69183': <__main__.Game at 0x1af4d3ce90>,\n",
       "  '69185': <__main__.Game at 0x1af3509050>,\n",
       "  '69189': <__main__.Game at 0x1af69fdf90>,\n",
       "  '69195': <__main__.Game at 0x1af6f14e90>,\n",
       "  '69228': <__main__.Game at 0x1af7c3cf90>,\n",
       "  '69225': <__main__.Game at 0x1af8a9fe10>,\n",
       "  '69235': <__main__.Game at 0x1af9378ad0>,\n",
       "  '69215': <__main__.Game at 0x1af9b31990>,\n",
       "  '69216': <__main__.Game at 0x1afa9a3d50>,\n",
       "  '69212': <__main__.Game at 0x1afb4f6d10>,\n",
       "  '69207': <__main__.Game at 0x1afc7c6f90>,\n",
       "  '69217': <__main__.Game at 0x1afcdf6bd0>,\n",
       "  '69231': <__main__.Game at 0x1afda18ed0>,\n",
       "  '69209': <__main__.Game at 0x1afec6c9d0>,\n",
       "  '69211': <__main__.Game at 0x1aff8ecc90>,\n",
       "  '69232': <__main__.Game at 0x1affc34d10>,\n",
       "  '69223': <__main__.Game at 0x1ad11ece90>,\n",
       "  '69222': <__main__.Game at 0x1b0017df50>,\n",
       "  '69230': <__main__.Game at 0x1b00950fd0>,\n",
       "  '69249': <__main__.Game at 0x1b01ddcc90>,\n",
       "  '69251': <__main__.Game at 0x1b023a7a10>,\n",
       "  '69279': <__main__.Game at 0x1affc3c550>,\n",
       "  '69273': <__main__.Game at 0x1b03960f10>,\n",
       "  '69285': <__main__.Game at 0x1b04444e90>},\n",
       " '2007/2008': {'68364': <__main__.Game at 0x1b06b4de50>,\n",
       "  '68363': <__main__.Game at 0x1b07025d10>,\n",
       "  '68356': <__main__.Game at 0x1b07bc9a10>,\n",
       "  '68365': <__main__.Game at 0x1b08600950>,\n",
       "  '68358': <__main__.Game at 0x1b09278c10>,\n",
       "  '68359': <__main__.Game at 0x1b09d39cd0>,\n",
       "  '68366': <__main__.Game at 0x1b0af1ed10>,\n",
       "  '68360': <__main__.Game at 0x1b0b8d9cd0>,\n",
       "  '68361': <__main__.Game at 0x1b0ccf0e10>,\n",
       "  '69146': <__main__.Game at 0x1b0cf5af90>,\n",
       "  '69141': <__main__.Game at 0x1b0da68e10>,\n",
       "  '69145': <__main__.Game at 0x1b0e8ded10>,\n",
       "  '69148': <__main__.Game at 0x1b0f6a5d50>,\n",
       "  '69151': <__main__.Game at 0x1b1008af90>,\n",
       "  '69166': <__main__.Game at 0x1b10c41990>,\n",
       "  '69158': <__main__.Game at 0x1b11eb2f90>,\n",
       "  '69169': <__main__.Game at 0x1b0f6af590>,\n",
       "  '69170': <__main__.Game at 0x1b13241f90>,\n",
       "  '69173': <__main__.Game at 0x1b13ff6ed0>,\n",
       "  '69187': <__main__.Game at 0x1b14c5bfd0>,\n",
       "  '69180': <__main__.Game at 0x1b15bc0ed0>,\n",
       "  '69178': <__main__.Game at 0x1b16318fd0>,\n",
       "  '69186': <__main__.Game at 0x1b16d91b90>,\n",
       "  '69181': <__main__.Game at 0x1b17bf0ad0>,\n",
       "  '69182': <__main__.Game at 0x1b18875f90>,\n",
       "  '69143': <__main__.Game at 0x1b19415a10>,\n",
       "  '69144': <__main__.Game at 0x1b1a122950>,\n",
       "  '69184': <__main__.Game at 0x1b1ad83ad0>},\n",
       " '2006/2007': {'68326': <__main__.Game at 0x1b1d1d0e90>,\n",
       "  '68333': <__main__.Game at 0x1b1d58cb50>,\n",
       "  '68336': <__main__.Game at 0x1b1e25ce10>,\n",
       "  '68330': <__main__.Game at 0x1b1edfbf90>,\n",
       "  '68332': <__main__.Game at 0x1b1f8f59d0>,\n",
       "  '68331': <__main__.Game at 0x1b207c5dd0>,\n",
       "  '68329': <__main__.Game at 0x1b21287f50>,\n",
       "  '68334': <__main__.Game at 0x1b1d58cd10>,\n",
       "  '68327': <__main__.Game at 0x1b22b76e10>,\n",
       "  '68328': <__main__.Game at 0x1b2382dbd0>,\n",
       "  '68335': <__main__.Game at 0x1b2449ee50>,\n",
       "  '68340': <__main__.Game at 0x1b2512cc90>,\n",
       "  '68341': <__main__.Game at 0x1b2612bf90>,\n",
       "  '68347': <__main__.Game at 0x1b27578cd0>,\n",
       "  '69154': <__main__.Game at 0x1b27726ed0>,\n",
       "  '69155': <__main__.Game at 0x1b283a8e90>,\n",
       "  '69157': <__main__.Game at 0x1b29165fd0>,\n",
       "  '69156': <__main__.Game at 0x1b29b2ce50>,\n",
       "  '69159': <__main__.Game at 0x1b2a684f50>,\n",
       "  '69165': <__main__.Game at 0x1b2bafbf10>,\n",
       "  '69162': <__main__.Game at 0x1b2bf9ddd0>,\n",
       "  '69160': <__main__.Game at 0x1b2cfb0e50>,\n",
       "  '69176': <__main__.Game at 0x1b2de7ffd0>,\n",
       "  '69174': <__main__.Game at 0x1b2e1e6c50>,\n",
       "  '69175': <__main__.Game at 0x1b2ed78b50>,\n",
       "  '69179': <__main__.Game at 0x1b2fafcf90>},\n",
       " '2005/2006': {'68317': <__main__.Game at 0x1b30875d90>,\n",
       "  '68322': <__main__.Game at 0x1aefbabd50>,\n",
       "  '68325': <__main__.Game at 0x1b0697be10>,\n",
       "  '68323': <__main__.Game at 0x1b2f014c10>,\n",
       "  '68324': <__main__.Game at 0x1b30ea7f10>,\n",
       "  '68320': <__main__.Game at 0x1b317d29d0>,\n",
       "  '68319': <__main__.Game at 0x1b323a1950>,\n",
       "  '68318': <__main__.Game at 0x1b33011e10>,\n",
       "  '68339': <__main__.Game at 0x1b34197c90>,\n",
       "  '68348': <__main__.Game at 0x1b34860e90>,\n",
       "  '68342': <__main__.Game at 0x1b350d4e90>,\n",
       "  '68321': <__main__.Game at 0x1b35b929d0>,\n",
       "  '68351': <__main__.Game at 0x1b36a30e90>,\n",
       "  '68350': <__main__.Game at 0x1b37567dd0>,\n",
       "  '68354': <__main__.Game at 0x1b37feee10>,\n",
       "  '69164': <__main__.Game at 0x1b38d8af90>,\n",
       "  '69172': <__main__.Game at 0x1b39831e50>},\n",
       " '2004/2005': {'68313': <__main__.Game at 0x1b3a84ced0>,\n",
       "  '68314': <__main__.Game at 0x1b3ae9de90>,\n",
       "  '68315': <__main__.Game at 0x1b38d90190>,\n",
       "  '68316': <__main__.Game at 0x1b3c589fd0>,\n",
       "  '68353': <__main__.Game at 0x1b3d1ffe10>,\n",
       "  '68352': <__main__.Game at 0x1b3da6cd50>,\n",
       "  '69153': <__main__.Game at 0x1b3e802fd0>}}"
      ]
     },
     "execution_count": 5,
     "metadata": {},
     "output_type": "execute_result"
    }
   ],
   "source": [
    "la_liga"
   ]
  },
  {
   "cell_type": "markdown",
   "metadata": {},
   "source": [
    "### 1.2 Getting shots data "
   ]
  },
  {
   "cell_type": "markdown",
   "metadata": {},
   "source": [
    "Now I will write some functions to parse through the json of each game, and extract all the shots, as well as features related to the shots. In particular, these features are: \n",
    "\n",
    "- **play pattern**: pattern of play which led to the shot\n",
    "- **x start location**: x-location of the shot \n",
    "- **y start location**: y-location of the shot \n",
    "- **duration**: duration of the shot\n",
    "- **outcome**: result of the shot\n",
    "- **technique**: technique with which the shot was hit\n",
    "- **first time**: whether the shot was hit for time or not\n",
    "- **x gk position**: x-location of the gk when shot was taken\n",
    "- **y gk position**: y-location of the gk when shot was taken\n",
    "- **type of shot**: whether shot was from open play or set piece (and type of set piece specified)\n",
    "- **num opponents within 5 yards**: number of opponents which were within 5 yards of shot location\n",
    "- **num opponents between shot and goal**: number of opponents which were between the shot location, and the lines connecting shot location and the two posts\n",
    "\n",
    "All the variables listed above can be extracted by parsing through the json directly, except for the last one. Therefore, below, I will write a function to get this variable."
   ]
  },
  {
   "cell_type": "code",
   "execution_count": 6,
   "metadata": {},
   "outputs": [],
   "source": [
    "def check_player_btwn_shot_and_goal(x_shot, y_shot, x_player, y_player):\n",
    "    \"\"\"\n",
    "    Function which checks whether a player in a stats bomb freeze is between the shot location, and the two lines\n",
    "    connecting the shot location to the posts. See here for coordinate specifications: \n",
    "    https://github.com/statsbomb/open-data/blob/master/doc/StatsBomb%20Open%20Data%20Specification%20v1.1.pdf\n",
    "    \n",
    "    Arguments:\n",
    "    x_shot    x-location of shot\n",
    "    y_shot    y-location of shot\n",
    "    x_player  x-location of player\n",
    "    y_player  y-location of player    \n",
    "    \"\"\"\n",
    "    x_diff = x_player - x_shot\n",
    "    y_diff = y_player - y_shot\n",
    "    \n",
    "    slope_1 = (36 - y_shot) / (120 - x_shot)\n",
    "    slope_2 = (44 - y_shot) / (120 - x_shot) \n",
    "                    \n",
    "    return (x_diff >= 0) and ((y_shot + slope_1 * x_diff) < y_player < (y_shot + slope_2 * x_diff))\n",
    "\n",
    "\n",
    "def plot_shot_freeze_frame(game_json, shot_id):\n",
    "    player_pos_list_x = []\n",
    "    player_pos_list_y = []\n",
    "    x_shot = 0\n",
    "    y_shot = 0\n",
    "    \n",
    "    for events in game_json:\n",
    "        if events['id'] == shot_id:\n",
    "            x_shot = events['location'][0]\n",
    "            y_shot = events['location'][1]\n",
    "        \n",
    "            for players in events['shot']['freeze_frame']:\n",
    "                if (players['teammate'] == False):\n",
    "                    player_pos_list_x.append(players['location'][0])\n",
    "                    player_pos_list_y.append(players['location'][1])\n",
    "            \n",
    "    plt.scatter(player_pos_list_x, player_pos_list_y)\n",
    "    plt.plot([x_shot, 120], [y_shot,36], color = 'red', linestyle = '--')\n",
    "    plt.plot([x_shot, 120], [y_shot,44], color = 'red', linestyle = '--')"
   ]
  },
  {
   "cell_type": "markdown",
   "metadata": {},
   "source": [
    "Now I will write a function which takes a json file for a given game, and returns a data frame containing all shots taken along with the variables related to that shot. Then I will write two wrapper function: `get_shots_for_season` which calls `get_shots_for_game` on all game files for that season, and `get_shots_for_league`, which does a similar thing, but for each game across every season we have for that league."
   ]
  },
  {
   "cell_type": "code",
   "execution_count": 7,
   "metadata": {},
   "outputs": [],
   "source": [
    "def get_shots_for_game(game_json):\n",
    "    \"\"\"\n",
    "    Function which parses through a game JSON and return a data frame containing all shots taken in that game with several features \n",
    "    related to that shot\n",
    "    \n",
    "    Arguments\n",
    "    game_json - event level json for a game\n",
    "    \"\"\"\n",
    "    \n",
    "    #features for each shot, which will be the columns of our data frame\n",
    "    \n",
    "    shot_id_list = []\n",
    "    x_start_location_list = []\n",
    "    y_start_location_list = []\n",
    "    play_pattern_list = []\n",
    "    duration_list = []\n",
    "    outcome_list = []\n",
    "    technique_list = []\n",
    "    type_shot_list = []\n",
    "    first_time_list = []\n",
    "    x_gk_pos_list = []\n",
    "    y_gk_pos_list = []\n",
    "    num_opponents_5_yards_list = []\n",
    "    num_opponents_between_goal_list = []\n",
    "    \n",
    "    #-------------------------#\n",
    "\n",
    "    for events in game_json:\n",
    "    \n",
    "        if events['type']['name'] == 'Shot':\n",
    "        \n",
    "            #get data for first 8 features\n",
    "            shot_id = events['id']\n",
    "            x_start_location = events['location'][0]\n",
    "            y_start_location = events['location'][1]\n",
    "            play_pattern = events['play_pattern']['name']\n",
    "            duration = events['duration']\n",
    "            outcome = events['shot']['outcome']['name'] \n",
    "            technique = events['shot']['technique']['name']\n",
    "            type_shot = events['shot']['type']['name']\n",
    "        \n",
    "            #check if json shot has a first_time attribute, if not set first_time to False\n",
    "            if 'first_time' in events['shot']:\n",
    "                first_time = events['shot']['first_time']\n",
    "            else:\n",
    "                first_time = False\n",
    "            \n",
    "            #check if shot has a freeze_frame dictionary\n",
    "            if \"freeze_frame\" in events[\"shot\"]:\n",
    "                \n",
    "                num_opponents_5_yards = 0\n",
    "                num_opponents_between_goal = 0\n",
    "                \n",
    "                for player in events[\"shot\"][\"freeze_frame\"]:\n",
    "                    x_player = player['location'][0]\n",
    "                    y_player = player['location'][1]\n",
    "                    \n",
    "                    #count how many opponents were within 5 yards of player when shot was taken\n",
    "                    if ((x_start_location - x_player)**2 + (y_start_location - y_player)**2) <= 25 and (player['teammate'] == False):\n",
    "                        if (player['position']['name'] != 'Goalkeeper'):\n",
    "                            num_opponents_5_yards += 1\n",
    "                    \n",
    "                    #count how many opponents were between shot and goal\n",
    "                    if (player['teammate'] == False) and (player['position']['name'] != 'Goalkeeper'):\n",
    "                        if check_player_btwn_shot_and_goal(x_start_location, y_start_location, x_player, y_player):\n",
    "                            num_opponents_between_goal += 1\n",
    "                    \n",
    "                    #get position of opponent's goalkeeper \n",
    "                    if ((player['position']['name'] == 'Goalkeeper') and (player['teammate'] == False)):\n",
    "                        x_gk_pos = player['location'][0]\n",
    "                        y_gk_pos = player['location'][1]\n",
    "            \n",
    "            #if there is no freeze frame, assume goalkeeper is at center of goal, and 0 opponenets around shot location\n",
    "            else:\n",
    "                num_opponents_between_goal = 0\n",
    "                num_opponents_5_yards = 0\n",
    "                x_gk_pos = 120\n",
    "                y_gk_pos = 40            \n",
    "            \n",
    "            #append data on shot to relevant list (column)\n",
    "            shot_id_list.append(shot_id)\n",
    "            play_pattern_list.append(play_pattern)\n",
    "            x_start_location_list.append(x_start_location)\n",
    "            y_start_location_list.append(y_start_location)\n",
    "            duration_list.append(duration)\n",
    "            outcome_list.append(outcome)\n",
    "            technique_list.append(technique)\n",
    "            first_time_list.append(first_time)\n",
    "            x_gk_pos_list.append(x_gk_pos)\n",
    "            y_gk_pos_list.append(y_gk_pos)\n",
    "            type_shot_list.append(type_shot)\n",
    "            num_opponents_5_yards_list.append(num_opponents_5_yards)\n",
    "            num_opponents_between_goal_list.append(num_opponents_between_goal)\n",
    "        \n",
    "    #create data frame with column features\n",
    "    shot_df = pd.DataFrame({\n",
    "                       \"shot id\" : shot_id_list,\n",
    "                       \"play pattern\" : play_pattern_list, \n",
    "                       \"x start location\" : x_start_location_list, \n",
    "                       \"y start location\" : y_start_location_list,\n",
    "                       \"duration\" : duration_list, \n",
    "                       \"outcome\" : outcome_list, \n",
    "                       \"technique\" : technique_list, \n",
    "                       \"first time\" : first_time_list,\n",
    "                       \"x gk position\" : x_gk_pos_list,\n",
    "                       \"y gk position\" : y_gk_pos_list,\n",
    "                       \"type of shot\" : type_shot_list,\n",
    "                       \"num opponents within 5 yards\" : num_opponents_5_yards_list,\n",
    "                       \"num opponents between shot and goal\" : num_opponents_between_goal_list\n",
    "                       })\n",
    "    \n",
    "    return shot_df.set_index(\"shot id\")"
   ]
  },
  {
   "cell_type": "markdown",
   "metadata": {},
   "source": [
    "**Wrapper functions:**"
   ]
  },
  {
   "cell_type": "code",
   "execution_count": 8,
   "metadata": {},
   "outputs": [],
   "source": [
    "def get_shots_for_season(season_dict):\n",
    "    \"\"\"\n",
    "    Takes a dictionary whichs maps game ids to Game objects, and calls get_shots_for_game() on each one.\n",
    "    \n",
    "    Arguments:\n",
    "    season_dict - dictionary which maps game ids (string, as specified by statsbomb) to Game objects (defined above)\n",
    "    \"\"\"\n",
    "    total_shot_df = pd.DataFrame()\n",
    "    \n",
    "    for keys, values in season_dict.items():\n",
    "        shot_df = get_shots_for_game(values.json_file)\n",
    "        total_shot_df = total_shot_df.append(shot_df)\n",
    "        \n",
    "    return total_shot_df\n",
    "\n",
    "\n",
    "def get_shots_for_league(league_dict):\n",
    "    \"\"\"\n",
    "    Takes a dictionary which maps season names to season dictionaries for a league, and calls get_shots_for_game() on each game.\n",
    "    \n",
    "    Arguments:\n",
    "    league_dict - dictionary which maps season names to another dictionary. This inner dictionary maps \n",
    "    game ids (as specified by statsbomb) to Game objects (defined above)\n",
    "    \"\"\"\n",
    "    total_shot_df = pd.DataFrame()\n",
    "    \n",
    "    for keys, values in league_dict.items():\n",
    "        shot_df = get_shots_for_season(values)\n",
    "        total_shot_df = total_shot_df.append(shot_df)\n",
    "        print(\"Getting shots for \" + keys)\n",
    "    \n",
    "    print(\"Done.\")\n",
    "    \n",
    "    return total_shot_df"
   ]
  },
  {
   "cell_type": "code",
   "execution_count": 137,
   "metadata": {},
   "outputs": [
    {
     "name": "stdout",
     "output_type": "stream",
     "text": [
      "Getting shots for 2015/2016\n",
      "Getting shots for 2014/2015\n",
      "Getting shots for 2013/2014\n",
      "Getting shots for 2012/2013\n",
      "Getting shots for 2011/2012\n",
      "Getting shots for 2010/2011\n",
      "Getting shots for 2009/2010\n",
      "Getting shots for 2008/2009\n",
      "Getting shots for 2007/2008\n",
      "Getting shots for 2006/2007\n",
      "Getting shots for 2005/2006\n",
      "Getting shots for 2004/2005\n",
      "Done.\n"
     ]
    }
   ],
   "source": [
    "all_la_liga_shots = get_shots_for_league(la_liga)"
   ]
  },
  {
   "cell_type": "markdown",
   "metadata": {},
   "source": [
    "So we have our data frame with all 8512 shots taken in Barca games from 2004/05 to 2015/16."
   ]
  },
  {
   "cell_type": "code",
   "execution_count": 138,
   "metadata": {},
   "outputs": [
    {
     "data": {
      "text/html": [
       "<div>\n",
       "<style scoped>\n",
       "    .dataframe tbody tr th:only-of-type {\n",
       "        vertical-align: middle;\n",
       "    }\n",
       "\n",
       "    .dataframe tbody tr th {\n",
       "        vertical-align: top;\n",
       "    }\n",
       "\n",
       "    .dataframe thead th {\n",
       "        text-align: right;\n",
       "    }\n",
       "</style>\n",
       "<table border=\"1\" class=\"dataframe\">\n",
       "  <thead>\n",
       "    <tr style=\"text-align: right;\">\n",
       "      <th></th>\n",
       "      <th>play pattern</th>\n",
       "      <th>x start location</th>\n",
       "      <th>y start location</th>\n",
       "      <th>duration</th>\n",
       "      <th>outcome</th>\n",
       "      <th>technique</th>\n",
       "      <th>first time</th>\n",
       "      <th>x gk position</th>\n",
       "      <th>y gk position</th>\n",
       "      <th>type of shot</th>\n",
       "      <th>num opponents within 5 yards</th>\n",
       "      <th>num opponents between shot and goal</th>\n",
       "    </tr>\n",
       "    <tr>\n",
       "      <th>shot id</th>\n",
       "      <th></th>\n",
       "      <th></th>\n",
       "      <th></th>\n",
       "      <th></th>\n",
       "      <th></th>\n",
       "      <th></th>\n",
       "      <th></th>\n",
       "      <th></th>\n",
       "      <th></th>\n",
       "      <th></th>\n",
       "      <th></th>\n",
       "      <th></th>\n",
       "    </tr>\n",
       "  </thead>\n",
       "  <tbody>\n",
       "    <tr>\n",
       "      <th>8522d7b1-8efd-4400-9006-1c2d1327f41d</th>\n",
       "      <td>Regular Play</td>\n",
       "      <td>109.7</td>\n",
       "      <td>30.6</td>\n",
       "      <td>0.564551</td>\n",
       "      <td>Off T</td>\n",
       "      <td>Normal</td>\n",
       "      <td>True</td>\n",
       "      <td>117.7</td>\n",
       "      <td>37.1</td>\n",
       "      <td>Open Play</td>\n",
       "      <td>2</td>\n",
       "      <td>1</td>\n",
       "    </tr>\n",
       "    <tr>\n",
       "      <th>fa3b6e06-dac2-4e77-81f7-20ff9429ad3a</th>\n",
       "      <td>From Throw In</td>\n",
       "      <td>87.5</td>\n",
       "      <td>31.7</td>\n",
       "      <td>1.201127</td>\n",
       "      <td>Off T</td>\n",
       "      <td>Normal</td>\n",
       "      <td>False</td>\n",
       "      <td>118.4</td>\n",
       "      <td>40.1</td>\n",
       "      <td>Open Play</td>\n",
       "      <td>2</td>\n",
       "      <td>1</td>\n",
       "    </tr>\n",
       "    <tr>\n",
       "      <th>b70b5409-5781-4182-b31a-bad2c8e3e891</th>\n",
       "      <td>From Goal Kick</td>\n",
       "      <td>107.1</td>\n",
       "      <td>34.0</td>\n",
       "      <td>0.466900</td>\n",
       "      <td>Saved</td>\n",
       "      <td>Normal</td>\n",
       "      <td>False</td>\n",
       "      <td>117.6</td>\n",
       "      <td>37.5</td>\n",
       "      <td>Open Play</td>\n",
       "      <td>6</td>\n",
       "      <td>1</td>\n",
       "    </tr>\n",
       "    <tr>\n",
       "      <th>e3fc1a0b-d68a-4ffb-95bf-4f97c075c049</th>\n",
       "      <td>From Corner</td>\n",
       "      <td>116.4</td>\n",
       "      <td>38.9</td>\n",
       "      <td>0.323872</td>\n",
       "      <td>Goal</td>\n",
       "      <td>Volley</td>\n",
       "      <td>True</td>\n",
       "      <td>119.7</td>\n",
       "      <td>38.5</td>\n",
       "      <td>Open Play</td>\n",
       "      <td>2</td>\n",
       "      <td>1</td>\n",
       "    </tr>\n",
       "    <tr>\n",
       "      <th>97b07723-77e9-4ece-aa90-b6c975b0dbc1</th>\n",
       "      <td>From Corner</td>\n",
       "      <td>97.5</td>\n",
       "      <td>33.8</td>\n",
       "      <td>0.268600</td>\n",
       "      <td>Wayward</td>\n",
       "      <td>Volley</td>\n",
       "      <td>True</td>\n",
       "      <td>119.3</td>\n",
       "      <td>40.0</td>\n",
       "      <td>Open Play</td>\n",
       "      <td>2</td>\n",
       "      <td>1</td>\n",
       "    </tr>\n",
       "    <tr>\n",
       "      <th>...</th>\n",
       "      <td>...</td>\n",
       "      <td>...</td>\n",
       "      <td>...</td>\n",
       "      <td>...</td>\n",
       "      <td>...</td>\n",
       "      <td>...</td>\n",
       "      <td>...</td>\n",
       "      <td>...</td>\n",
       "      <td>...</td>\n",
       "      <td>...</td>\n",
       "      <td>...</td>\n",
       "      <td>...</td>\n",
       "    </tr>\n",
       "    <tr>\n",
       "      <th>e05a628b-87f5-49b1-980a-71e3f8d59929</th>\n",
       "      <td>From Free Kick</td>\n",
       "      <td>114.9</td>\n",
       "      <td>37.3</td>\n",
       "      <td>0.703500</td>\n",
       "      <td>Goal</td>\n",
       "      <td>Normal</td>\n",
       "      <td>False</td>\n",
       "      <td>118.9</td>\n",
       "      <td>39.0</td>\n",
       "      <td>Open Play</td>\n",
       "      <td>5</td>\n",
       "      <td>0</td>\n",
       "    </tr>\n",
       "    <tr>\n",
       "      <th>0db9c930-e402-4ab3-bf98-bcd888b1acf7</th>\n",
       "      <td>Regular Play</td>\n",
       "      <td>108.4</td>\n",
       "      <td>25.7</td>\n",
       "      <td>0.596500</td>\n",
       "      <td>Blocked</td>\n",
       "      <td>Normal</td>\n",
       "      <td>True</td>\n",
       "      <td>115.2</td>\n",
       "      <td>32.7</td>\n",
       "      <td>Open Play</td>\n",
       "      <td>0</td>\n",
       "      <td>1</td>\n",
       "    </tr>\n",
       "    <tr>\n",
       "      <th>6ab038e3-9e39-4bb9-a823-6221d6a16542</th>\n",
       "      <td>Regular Play</td>\n",
       "      <td>114.0</td>\n",
       "      <td>39.6</td>\n",
       "      <td>0.296701</td>\n",
       "      <td>Blocked</td>\n",
       "      <td>Normal</td>\n",
       "      <td>False</td>\n",
       "      <td>115.0</td>\n",
       "      <td>35.1</td>\n",
       "      <td>Open Play</td>\n",
       "      <td>2</td>\n",
       "      <td>1</td>\n",
       "    </tr>\n",
       "    <tr>\n",
       "      <th>5012da5d-c22e-4d65-95bb-7c88b1d23432</th>\n",
       "      <td>From Throw In</td>\n",
       "      <td>97.1</td>\n",
       "      <td>51.0</td>\n",
       "      <td>1.001687</td>\n",
       "      <td>Goal</td>\n",
       "      <td>Volley</td>\n",
       "      <td>True</td>\n",
       "      <td>118.3</td>\n",
       "      <td>40.8</td>\n",
       "      <td>Open Play</td>\n",
       "      <td>0</td>\n",
       "      <td>1</td>\n",
       "    </tr>\n",
       "    <tr>\n",
       "      <th>e85e5685-24b5-459e-ba79-7339ed210c31</th>\n",
       "      <td>From Keeper</td>\n",
       "      <td>108.1</td>\n",
       "      <td>26.6</td>\n",
       "      <td>0.511299</td>\n",
       "      <td>Saved</td>\n",
       "      <td>Normal</td>\n",
       "      <td>False</td>\n",
       "      <td>118.3</td>\n",
       "      <td>38.3</td>\n",
       "      <td>Open Play</td>\n",
       "      <td>2</td>\n",
       "      <td>0</td>\n",
       "    </tr>\n",
       "  </tbody>\n",
       "</table>\n",
       "<p>8512 rows × 12 columns</p>\n",
       "</div>"
      ],
      "text/plain": [
       "                                        play pattern  x start location  \\\n",
       "shot id                                                                  \n",
       "8522d7b1-8efd-4400-9006-1c2d1327f41d    Regular Play             109.7   \n",
       "fa3b6e06-dac2-4e77-81f7-20ff9429ad3a   From Throw In              87.5   \n",
       "b70b5409-5781-4182-b31a-bad2c8e3e891  From Goal Kick             107.1   \n",
       "e3fc1a0b-d68a-4ffb-95bf-4f97c075c049     From Corner             116.4   \n",
       "97b07723-77e9-4ece-aa90-b6c975b0dbc1     From Corner              97.5   \n",
       "...                                              ...               ...   \n",
       "e05a628b-87f5-49b1-980a-71e3f8d59929  From Free Kick             114.9   \n",
       "0db9c930-e402-4ab3-bf98-bcd888b1acf7    Regular Play             108.4   \n",
       "6ab038e3-9e39-4bb9-a823-6221d6a16542    Regular Play             114.0   \n",
       "5012da5d-c22e-4d65-95bb-7c88b1d23432   From Throw In              97.1   \n",
       "e85e5685-24b5-459e-ba79-7339ed210c31     From Keeper             108.1   \n",
       "\n",
       "                                      y start location  duration  outcome  \\\n",
       "shot id                                                                     \n",
       "8522d7b1-8efd-4400-9006-1c2d1327f41d              30.6  0.564551    Off T   \n",
       "fa3b6e06-dac2-4e77-81f7-20ff9429ad3a              31.7  1.201127    Off T   \n",
       "b70b5409-5781-4182-b31a-bad2c8e3e891              34.0  0.466900    Saved   \n",
       "e3fc1a0b-d68a-4ffb-95bf-4f97c075c049              38.9  0.323872     Goal   \n",
       "97b07723-77e9-4ece-aa90-b6c975b0dbc1              33.8  0.268600  Wayward   \n",
       "...                                                ...       ...      ...   \n",
       "e05a628b-87f5-49b1-980a-71e3f8d59929              37.3  0.703500     Goal   \n",
       "0db9c930-e402-4ab3-bf98-bcd888b1acf7              25.7  0.596500  Blocked   \n",
       "6ab038e3-9e39-4bb9-a823-6221d6a16542              39.6  0.296701  Blocked   \n",
       "5012da5d-c22e-4d65-95bb-7c88b1d23432              51.0  1.001687     Goal   \n",
       "e85e5685-24b5-459e-ba79-7339ed210c31              26.6  0.511299    Saved   \n",
       "\n",
       "                                     technique  first time  x gk position  \\\n",
       "shot id                                                                     \n",
       "8522d7b1-8efd-4400-9006-1c2d1327f41d    Normal        True          117.7   \n",
       "fa3b6e06-dac2-4e77-81f7-20ff9429ad3a    Normal       False          118.4   \n",
       "b70b5409-5781-4182-b31a-bad2c8e3e891    Normal       False          117.6   \n",
       "e3fc1a0b-d68a-4ffb-95bf-4f97c075c049    Volley        True          119.7   \n",
       "97b07723-77e9-4ece-aa90-b6c975b0dbc1    Volley        True          119.3   \n",
       "...                                        ...         ...            ...   \n",
       "e05a628b-87f5-49b1-980a-71e3f8d59929    Normal       False          118.9   \n",
       "0db9c930-e402-4ab3-bf98-bcd888b1acf7    Normal        True          115.2   \n",
       "6ab038e3-9e39-4bb9-a823-6221d6a16542    Normal       False          115.0   \n",
       "5012da5d-c22e-4d65-95bb-7c88b1d23432    Volley        True          118.3   \n",
       "e85e5685-24b5-459e-ba79-7339ed210c31    Normal       False          118.3   \n",
       "\n",
       "                                      y gk position type of shot  \\\n",
       "shot id                                                            \n",
       "8522d7b1-8efd-4400-9006-1c2d1327f41d           37.1    Open Play   \n",
       "fa3b6e06-dac2-4e77-81f7-20ff9429ad3a           40.1    Open Play   \n",
       "b70b5409-5781-4182-b31a-bad2c8e3e891           37.5    Open Play   \n",
       "e3fc1a0b-d68a-4ffb-95bf-4f97c075c049           38.5    Open Play   \n",
       "97b07723-77e9-4ece-aa90-b6c975b0dbc1           40.0    Open Play   \n",
       "...                                             ...          ...   \n",
       "e05a628b-87f5-49b1-980a-71e3f8d59929           39.0    Open Play   \n",
       "0db9c930-e402-4ab3-bf98-bcd888b1acf7           32.7    Open Play   \n",
       "6ab038e3-9e39-4bb9-a823-6221d6a16542           35.1    Open Play   \n",
       "5012da5d-c22e-4d65-95bb-7c88b1d23432           40.8    Open Play   \n",
       "e85e5685-24b5-459e-ba79-7339ed210c31           38.3    Open Play   \n",
       "\n",
       "                                      num opponents within 5 yards  \\\n",
       "shot id                                                              \n",
       "8522d7b1-8efd-4400-9006-1c2d1327f41d                             2   \n",
       "fa3b6e06-dac2-4e77-81f7-20ff9429ad3a                             2   \n",
       "b70b5409-5781-4182-b31a-bad2c8e3e891                             6   \n",
       "e3fc1a0b-d68a-4ffb-95bf-4f97c075c049                             2   \n",
       "97b07723-77e9-4ece-aa90-b6c975b0dbc1                             2   \n",
       "...                                                            ...   \n",
       "e05a628b-87f5-49b1-980a-71e3f8d59929                             5   \n",
       "0db9c930-e402-4ab3-bf98-bcd888b1acf7                             0   \n",
       "6ab038e3-9e39-4bb9-a823-6221d6a16542                             2   \n",
       "5012da5d-c22e-4d65-95bb-7c88b1d23432                             0   \n",
       "e85e5685-24b5-459e-ba79-7339ed210c31                             2   \n",
       "\n",
       "                                      num opponents between shot and goal  \n",
       "shot id                                                                    \n",
       "8522d7b1-8efd-4400-9006-1c2d1327f41d                                    1  \n",
       "fa3b6e06-dac2-4e77-81f7-20ff9429ad3a                                    1  \n",
       "b70b5409-5781-4182-b31a-bad2c8e3e891                                    1  \n",
       "e3fc1a0b-d68a-4ffb-95bf-4f97c075c049                                    1  \n",
       "97b07723-77e9-4ece-aa90-b6c975b0dbc1                                    1  \n",
       "...                                                                   ...  \n",
       "e05a628b-87f5-49b1-980a-71e3f8d59929                                    0  \n",
       "0db9c930-e402-4ab3-bf98-bcd888b1acf7                                    1  \n",
       "6ab038e3-9e39-4bb9-a823-6221d6a16542                                    1  \n",
       "5012da5d-c22e-4d65-95bb-7c88b1d23432                                    1  \n",
       "e85e5685-24b5-459e-ba79-7339ed210c31                                    0  \n",
       "\n",
       "[8512 rows x 12 columns]"
      ]
     },
     "execution_count": 138,
     "metadata": {},
     "output_type": "execute_result"
    }
   ],
   "source": [
    "all_la_liga_shots"
   ]
  },
  {
   "cell_type": "code",
   "execution_count": null,
   "metadata": {},
   "outputs": [],
   "source": []
  },
  {
   "cell_type": "markdown",
   "metadata": {},
   "source": [
    "## 2. Data Exploration"
   ]
  },
  {
   "cell_type": "markdown",
   "metadata": {},
   "source": [
    "### 2.1 Create new variables\n",
    "\n",
    "We will create the following new variables:\n",
    "\n",
    "- Distance of shot location from goal\n",
    "- Convert outcome to a binary variable (Goal = 1, Other = 0)"
   ]
  },
  {
   "cell_type": "code",
   "execution_count": 243,
   "metadata": {},
   "outputs": [],
   "source": [
    "all_la_liga_shots[\"Distance from goal\"] = np.sqrt((all_la_liga_shots[\"x start location\"] - 120)**2 +    \\\n",
    "                                               (all_la_liga_shots[\"y start location\"] - 40)**2)\n",
    "\n",
    "all_la_liga_shots_copy = all_la_liga_shots.copy()\n",
    "goal_label_mask = all_la_liga_shots_copy[\"outcome\"].str.contains(\"Goal\")\n",
    "all_la_liga_shots_copy[\"outcome\"].loc[goal_label_mask] = 1\n",
    "all_la_liga_shots_copy[\"outcome\"].loc[~goal_label_mask] = 0\n"
   ]
  },
  {
   "cell_type": "markdown",
   "metadata": {},
   "source": [
    "### 2.2 Create a stratified training and test set"
   ]
  },
  {
   "cell_type": "code",
   "execution_count": 244,
   "metadata": {},
   "outputs": [],
   "source": [
    "data_split = StratifiedShuffleSplit(n_splits=1, test_size=0.2, random_state=42)\n",
    "data_split_generator = data_split.split(all_la_liga_shots_copy, all_la_liga_shots_copy[\"outcome\"])\n",
    "\n",
    "for training_indices, test_indices in data_split_generator:\n",
    "    shot_training_set = all_la_liga_shots_copy.iloc[training_indices]\n",
    "    shot_test_set = all_la_liga_shots_copy.iloc[test_indices]"
   ]
  },
  {
   "cell_type": "code",
   "execution_count": 245,
   "metadata": {},
   "outputs": [
    {
     "data": {
      "text/html": [
       "<div>\n",
       "<style scoped>\n",
       "    .dataframe tbody tr th:only-of-type {\n",
       "        vertical-align: middle;\n",
       "    }\n",
       "\n",
       "    .dataframe tbody tr th {\n",
       "        vertical-align: top;\n",
       "    }\n",
       "\n",
       "    .dataframe thead th {\n",
       "        text-align: right;\n",
       "    }\n",
       "</style>\n",
       "<table border=\"1\" class=\"dataframe\">\n",
       "  <thead>\n",
       "    <tr style=\"text-align: right;\">\n",
       "      <th></th>\n",
       "      <th>play pattern</th>\n",
       "      <th>x start location</th>\n",
       "      <th>y start location</th>\n",
       "      <th>duration</th>\n",
       "      <th>outcome</th>\n",
       "      <th>technique</th>\n",
       "      <th>first time</th>\n",
       "      <th>x gk position</th>\n",
       "      <th>y gk position</th>\n",
       "      <th>type of shot</th>\n",
       "      <th>num opponents within 5 yards</th>\n",
       "      <th>num opponents between shot and goal</th>\n",
       "      <th>Distance from goal</th>\n",
       "    </tr>\n",
       "    <tr>\n",
       "      <th>shot id</th>\n",
       "      <th></th>\n",
       "      <th></th>\n",
       "      <th></th>\n",
       "      <th></th>\n",
       "      <th></th>\n",
       "      <th></th>\n",
       "      <th></th>\n",
       "      <th></th>\n",
       "      <th></th>\n",
       "      <th></th>\n",
       "      <th></th>\n",
       "      <th></th>\n",
       "      <th></th>\n",
       "    </tr>\n",
       "  </thead>\n",
       "  <tbody>\n",
       "    <tr>\n",
       "      <th>752e0c6e-30d3-4b1f-b888-abc4ffed9920</th>\n",
       "      <td>From Goal Kick</td>\n",
       "      <td>114.4</td>\n",
       "      <td>50.2</td>\n",
       "      <td>0.204800</td>\n",
       "      <td>0</td>\n",
       "      <td>Normal</td>\n",
       "      <td>True</td>\n",
       "      <td>118.8</td>\n",
       "      <td>43.8</td>\n",
       "      <td>Open Play</td>\n",
       "      <td>1</td>\n",
       "      <td>0</td>\n",
       "      <td>11.636151</td>\n",
       "    </tr>\n",
       "    <tr>\n",
       "      <th>0683b203-c433-4825-845b-7c960d7c52e8</th>\n",
       "      <td>From Free Kick</td>\n",
       "      <td>107.4</td>\n",
       "      <td>49.2</td>\n",
       "      <td>0.841101</td>\n",
       "      <td>1</td>\n",
       "      <td>Half Volley</td>\n",
       "      <td>True</td>\n",
       "      <td>118.7</td>\n",
       "      <td>41.8</td>\n",
       "      <td>Open Play</td>\n",
       "      <td>1</td>\n",
       "      <td>2</td>\n",
       "      <td>15.601282</td>\n",
       "    </tr>\n",
       "    <tr>\n",
       "      <th>ab81c24c-c1bd-42b6-bf93-a7dc60502027</th>\n",
       "      <td>Regular Play</td>\n",
       "      <td>113.0</td>\n",
       "      <td>41.3</td>\n",
       "      <td>1.004000</td>\n",
       "      <td>0</td>\n",
       "      <td>Normal</td>\n",
       "      <td>False</td>\n",
       "      <td>119.4</td>\n",
       "      <td>39.9</td>\n",
       "      <td>Open Play</td>\n",
       "      <td>4</td>\n",
       "      <td>1</td>\n",
       "      <td>7.119691</td>\n",
       "    </tr>\n",
       "    <tr>\n",
       "      <th>a28252f8-fa43-432c-be76-b48ee1e4fcce</th>\n",
       "      <td>From Free Kick</td>\n",
       "      <td>103.4</td>\n",
       "      <td>44.7</td>\n",
       "      <td>1.052700</td>\n",
       "      <td>0</td>\n",
       "      <td>Normal</td>\n",
       "      <td>True</td>\n",
       "      <td>118.5</td>\n",
       "      <td>41.8</td>\n",
       "      <td>Open Play</td>\n",
       "      <td>2</td>\n",
       "      <td>1</td>\n",
       "      <td>17.252536</td>\n",
       "    </tr>\n",
       "    <tr>\n",
       "      <th>940ce10a-9b48-45bb-9989-05f604b4f81c</th>\n",
       "      <td>From Throw In</td>\n",
       "      <td>86.1</td>\n",
       "      <td>37.7</td>\n",
       "      <td>0.200800</td>\n",
       "      <td>0</td>\n",
       "      <td>Normal</td>\n",
       "      <td>False</td>\n",
       "      <td>114.7</td>\n",
       "      <td>40.5</td>\n",
       "      <td>Open Play</td>\n",
       "      <td>0</td>\n",
       "      <td>1</td>\n",
       "      <td>33.977934</td>\n",
       "    </tr>\n",
       "    <tr>\n",
       "      <th>...</th>\n",
       "      <td>...</td>\n",
       "      <td>...</td>\n",
       "      <td>...</td>\n",
       "      <td>...</td>\n",
       "      <td>...</td>\n",
       "      <td>...</td>\n",
       "      <td>...</td>\n",
       "      <td>...</td>\n",
       "      <td>...</td>\n",
       "      <td>...</td>\n",
       "      <td>...</td>\n",
       "      <td>...</td>\n",
       "      <td>...</td>\n",
       "    </tr>\n",
       "    <tr>\n",
       "      <th>d4975092-9732-49a5-a035-05bebdefc0a7</th>\n",
       "      <td>From Corner</td>\n",
       "      <td>94.7</td>\n",
       "      <td>38.2</td>\n",
       "      <td>0.553300</td>\n",
       "      <td>0</td>\n",
       "      <td>Half Volley</td>\n",
       "      <td>True</td>\n",
       "      <td>119.0</td>\n",
       "      <td>39.9</td>\n",
       "      <td>Open Play</td>\n",
       "      <td>2</td>\n",
       "      <td>3</td>\n",
       "      <td>25.363951</td>\n",
       "    </tr>\n",
       "    <tr>\n",
       "      <th>3fd1d661-766a-406e-b49a-672b483ffb90</th>\n",
       "      <td>From Keeper</td>\n",
       "      <td>97.1</td>\n",
       "      <td>33.7</td>\n",
       "      <td>0.584300</td>\n",
       "      <td>0</td>\n",
       "      <td>Normal</td>\n",
       "      <td>False</td>\n",
       "      <td>117.0</td>\n",
       "      <td>40.1</td>\n",
       "      <td>Open Play</td>\n",
       "      <td>2</td>\n",
       "      <td>1</td>\n",
       "      <td>23.750789</td>\n",
       "    </tr>\n",
       "    <tr>\n",
       "      <th>4ee965b4-8d6b-40b7-9caa-1b5453c92b36</th>\n",
       "      <td>Regular Play</td>\n",
       "      <td>107.1</td>\n",
       "      <td>43.4</td>\n",
       "      <td>0.472400</td>\n",
       "      <td>0</td>\n",
       "      <td>Lob</td>\n",
       "      <td>True</td>\n",
       "      <td>113.4</td>\n",
       "      <td>42.2</td>\n",
       "      <td>Open Play</td>\n",
       "      <td>1</td>\n",
       "      <td>0</td>\n",
       "      <td>13.340540</td>\n",
       "    </tr>\n",
       "    <tr>\n",
       "      <th>1332f7c9-73a0-4807-b8a9-a49ec12735fd</th>\n",
       "      <td>From Free Kick</td>\n",
       "      <td>111.8</td>\n",
       "      <td>49.5</td>\n",
       "      <td>1.012010</td>\n",
       "      <td>0</td>\n",
       "      <td>Normal</td>\n",
       "      <td>True</td>\n",
       "      <td>116.9</td>\n",
       "      <td>43.4</td>\n",
       "      <td>Open Play</td>\n",
       "      <td>1</td>\n",
       "      <td>0</td>\n",
       "      <td>12.549502</td>\n",
       "    </tr>\n",
       "    <tr>\n",
       "      <th>47abee62-56df-41ae-8b45-5b0e5c9d9797</th>\n",
       "      <td>Regular Play</td>\n",
       "      <td>107.8</td>\n",
       "      <td>47.6</td>\n",
       "      <td>0.715417</td>\n",
       "      <td>1</td>\n",
       "      <td>Normal</td>\n",
       "      <td>False</td>\n",
       "      <td>114.8</td>\n",
       "      <td>43.4</td>\n",
       "      <td>Open Play</td>\n",
       "      <td>1</td>\n",
       "      <td>0</td>\n",
       "      <td>14.373587</td>\n",
       "    </tr>\n",
       "  </tbody>\n",
       "</table>\n",
       "<p>6809 rows × 13 columns</p>\n",
       "</div>"
      ],
      "text/plain": [
       "                                        play pattern  x start location  \\\n",
       "shot id                                                                  \n",
       "752e0c6e-30d3-4b1f-b888-abc4ffed9920  From Goal Kick             114.4   \n",
       "0683b203-c433-4825-845b-7c960d7c52e8  From Free Kick             107.4   \n",
       "ab81c24c-c1bd-42b6-bf93-a7dc60502027    Regular Play             113.0   \n",
       "a28252f8-fa43-432c-be76-b48ee1e4fcce  From Free Kick             103.4   \n",
       "940ce10a-9b48-45bb-9989-05f604b4f81c   From Throw In              86.1   \n",
       "...                                              ...               ...   \n",
       "d4975092-9732-49a5-a035-05bebdefc0a7     From Corner              94.7   \n",
       "3fd1d661-766a-406e-b49a-672b483ffb90     From Keeper              97.1   \n",
       "4ee965b4-8d6b-40b7-9caa-1b5453c92b36    Regular Play             107.1   \n",
       "1332f7c9-73a0-4807-b8a9-a49ec12735fd  From Free Kick             111.8   \n",
       "47abee62-56df-41ae-8b45-5b0e5c9d9797    Regular Play             107.8   \n",
       "\n",
       "                                      y start location  duration  outcome  \\\n",
       "shot id                                                                     \n",
       "752e0c6e-30d3-4b1f-b888-abc4ffed9920              50.2  0.204800        0   \n",
       "0683b203-c433-4825-845b-7c960d7c52e8              49.2  0.841101        1   \n",
       "ab81c24c-c1bd-42b6-bf93-a7dc60502027              41.3  1.004000        0   \n",
       "a28252f8-fa43-432c-be76-b48ee1e4fcce              44.7  1.052700        0   \n",
       "940ce10a-9b48-45bb-9989-05f604b4f81c              37.7  0.200800        0   \n",
       "...                                                ...       ...      ...   \n",
       "d4975092-9732-49a5-a035-05bebdefc0a7              38.2  0.553300        0   \n",
       "3fd1d661-766a-406e-b49a-672b483ffb90              33.7  0.584300        0   \n",
       "4ee965b4-8d6b-40b7-9caa-1b5453c92b36              43.4  0.472400        0   \n",
       "1332f7c9-73a0-4807-b8a9-a49ec12735fd              49.5  1.012010        0   \n",
       "47abee62-56df-41ae-8b45-5b0e5c9d9797              47.6  0.715417        1   \n",
       "\n",
       "                                        technique  first time  x gk position  \\\n",
       "shot id                                                                        \n",
       "752e0c6e-30d3-4b1f-b888-abc4ffed9920       Normal        True          118.8   \n",
       "0683b203-c433-4825-845b-7c960d7c52e8  Half Volley        True          118.7   \n",
       "ab81c24c-c1bd-42b6-bf93-a7dc60502027       Normal       False          119.4   \n",
       "a28252f8-fa43-432c-be76-b48ee1e4fcce       Normal        True          118.5   \n",
       "940ce10a-9b48-45bb-9989-05f604b4f81c       Normal       False          114.7   \n",
       "...                                           ...         ...            ...   \n",
       "d4975092-9732-49a5-a035-05bebdefc0a7  Half Volley        True          119.0   \n",
       "3fd1d661-766a-406e-b49a-672b483ffb90       Normal       False          117.0   \n",
       "4ee965b4-8d6b-40b7-9caa-1b5453c92b36          Lob        True          113.4   \n",
       "1332f7c9-73a0-4807-b8a9-a49ec12735fd       Normal        True          116.9   \n",
       "47abee62-56df-41ae-8b45-5b0e5c9d9797       Normal       False          114.8   \n",
       "\n",
       "                                      y gk position type of shot  \\\n",
       "shot id                                                            \n",
       "752e0c6e-30d3-4b1f-b888-abc4ffed9920           43.8    Open Play   \n",
       "0683b203-c433-4825-845b-7c960d7c52e8           41.8    Open Play   \n",
       "ab81c24c-c1bd-42b6-bf93-a7dc60502027           39.9    Open Play   \n",
       "a28252f8-fa43-432c-be76-b48ee1e4fcce           41.8    Open Play   \n",
       "940ce10a-9b48-45bb-9989-05f604b4f81c           40.5    Open Play   \n",
       "...                                             ...          ...   \n",
       "d4975092-9732-49a5-a035-05bebdefc0a7           39.9    Open Play   \n",
       "3fd1d661-766a-406e-b49a-672b483ffb90           40.1    Open Play   \n",
       "4ee965b4-8d6b-40b7-9caa-1b5453c92b36           42.2    Open Play   \n",
       "1332f7c9-73a0-4807-b8a9-a49ec12735fd           43.4    Open Play   \n",
       "47abee62-56df-41ae-8b45-5b0e5c9d9797           43.4    Open Play   \n",
       "\n",
       "                                      num opponents within 5 yards  \\\n",
       "shot id                                                              \n",
       "752e0c6e-30d3-4b1f-b888-abc4ffed9920                             1   \n",
       "0683b203-c433-4825-845b-7c960d7c52e8                             1   \n",
       "ab81c24c-c1bd-42b6-bf93-a7dc60502027                             4   \n",
       "a28252f8-fa43-432c-be76-b48ee1e4fcce                             2   \n",
       "940ce10a-9b48-45bb-9989-05f604b4f81c                             0   \n",
       "...                                                            ...   \n",
       "d4975092-9732-49a5-a035-05bebdefc0a7                             2   \n",
       "3fd1d661-766a-406e-b49a-672b483ffb90                             2   \n",
       "4ee965b4-8d6b-40b7-9caa-1b5453c92b36                             1   \n",
       "1332f7c9-73a0-4807-b8a9-a49ec12735fd                             1   \n",
       "47abee62-56df-41ae-8b45-5b0e5c9d9797                             1   \n",
       "\n",
       "                                      num opponents between shot and goal  \\\n",
       "shot id                                                                     \n",
       "752e0c6e-30d3-4b1f-b888-abc4ffed9920                                    0   \n",
       "0683b203-c433-4825-845b-7c960d7c52e8                                    2   \n",
       "ab81c24c-c1bd-42b6-bf93-a7dc60502027                                    1   \n",
       "a28252f8-fa43-432c-be76-b48ee1e4fcce                                    1   \n",
       "940ce10a-9b48-45bb-9989-05f604b4f81c                                    1   \n",
       "...                                                                   ...   \n",
       "d4975092-9732-49a5-a035-05bebdefc0a7                                    3   \n",
       "3fd1d661-766a-406e-b49a-672b483ffb90                                    1   \n",
       "4ee965b4-8d6b-40b7-9caa-1b5453c92b36                                    0   \n",
       "1332f7c9-73a0-4807-b8a9-a49ec12735fd                                    0   \n",
       "47abee62-56df-41ae-8b45-5b0e5c9d9797                                    0   \n",
       "\n",
       "                                      Distance from goal  \n",
       "shot id                                                   \n",
       "752e0c6e-30d3-4b1f-b888-abc4ffed9920           11.636151  \n",
       "0683b203-c433-4825-845b-7c960d7c52e8           15.601282  \n",
       "ab81c24c-c1bd-42b6-bf93-a7dc60502027            7.119691  \n",
       "a28252f8-fa43-432c-be76-b48ee1e4fcce           17.252536  \n",
       "940ce10a-9b48-45bb-9989-05f604b4f81c           33.977934  \n",
       "...                                                  ...  \n",
       "d4975092-9732-49a5-a035-05bebdefc0a7           25.363951  \n",
       "3fd1d661-766a-406e-b49a-672b483ffb90           23.750789  \n",
       "4ee965b4-8d6b-40b7-9caa-1b5453c92b36           13.340540  \n",
       "1332f7c9-73a0-4807-b8a9-a49ec12735fd           12.549502  \n",
       "47abee62-56df-41ae-8b45-5b0e5c9d9797           14.373587  \n",
       "\n",
       "[6809 rows x 13 columns]"
      ]
     },
     "execution_count": 245,
     "metadata": {},
     "output_type": "execute_result"
    }
   ],
   "source": [
    "shot_training_set"
   ]
  },
  {
   "cell_type": "markdown",
   "metadata": {},
   "source": [
    "### 2.3 Visualizing relationships\n",
    "\n",
    "Below, I write a function, `plot_percent_goal_vs_attr` to plot the percentage of goals scored by desired **categorical** variable."
   ]
  },
  {
   "cell_type": "code",
   "execution_count": 283,
   "metadata": {},
   "outputs": [],
   "source": [
    "def plot_percent_goal_vs_attr(attribute, type_chart = \"line\"):\n",
    "    \"\"\"\n",
    "    Function which plots the percentage of goals scored by desired categorical attribute in our shot training set.\n",
    "    \n",
    "    Arguments\n",
    "    attribute - (string) name of categorical attribute in shot training set data frame\n",
    "    \"\"\"\n",
    "    shot_training_set_copy = shot_training_set.copy() \n",
    "    \n",
    "    attr_x = attribute\n",
    "    attr_y = \"outcome\"\n",
    "    attr_agg = \"shot id\"\n",
    "    attrs = [attr_x, attr_y, attr_agg]\n",
    "\n",
    "    outcomes_by_attribute = shot_training_set_copy.reset_index()[attrs]   \\\n",
    "                            .groupby([attr_x, attr_y])               \\\n",
    "                            .count()                                 \\\n",
    "                            .unstack()                               \\\n",
    "                            .fillna(0)\n",
    "    \n",
    "    outcomes_by_attribute = outcomes_by_attribute[attr_agg].reset_index()\n",
    "    outcomes_by_attribute[\"Percent Goal\"] = outcomes_by_attribute[1] * 100  / outcomes_by_attribute.sum(axis = 1)\n",
    "    outcomes_by_attribute = outcomes_by_attribute.rename(columns={0: 'No Goal', 1: 'Goal'})\n",
    "    \n",
    "    if type_chart == \"line\":\n",
    "        chart = alt.Chart(outcomes_by_attribute).mark_line()\n",
    "    elif type_chart == \"bar\":\n",
    "        chart = alt.Chart(outcomes_by_attribute).mark_bar()\n",
    "    \n",
    "    chart = chart.encode(\n",
    "        alt.X('{}:N'.format(attr_x), axis = alt.Axis(title = attr_x, labelAngle = 0)),\n",
    "        alt.Y('Percent Goal:Q', axis = alt.Axis(title = 'Percent Goal'))\n",
    "    ).properties(width = 850, height = 300, \n",
    "             title = \"Percent Goal vs {}\".format(attr_x)\n",
    "    ).configure_axis(labelFontSize = 13, titleFontSize = 15\n",
    "    ).configure_title(fontSize = 16)\n",
    "    \n",
    "    return chart"
   ]
  },
  {
   "cell_type": "markdown",
   "metadata": {},
   "source": [
    "#### 2.3.1 Percent goals by num opponents between shot and goal"
   ]
  },
  {
   "cell_type": "markdown",
   "metadata": {},
   "source": [
    "Now we can use our function to plot the desired variables:"
   ]
  },
  {
   "cell_type": "code",
   "execution_count": 284,
   "metadata": {},
   "outputs": [
    {
     "data": {
      "application/vnd.vegalite.v3+json": {
       "$schema": "https://vega.github.io/schema/vega-lite/v3.4.0.json",
       "config": {
        "axis": {
         "labelFontSize": 13,
         "titleFontSize": 15
        },
        "mark": {
         "tooltip": null
        },
        "title": {
         "fontSize": 16
        },
        "view": {
         "height": 300,
         "width": 400
        }
       },
       "data": {
        "name": "data-3a8aa2357994a527fb3fb8493c5f8f9d"
       },
       "datasets": {
        "data-3a8aa2357994a527fb3fb8493c5f8f9d": [
         {
          "Goal": 702,
          "No Goal": 2966,
          "Percent Goal": 19.138495092693567,
          "num opponents between shot and goal": 0
         },
         {
          "Goal": 169,
          "No Goal": 1873,
          "Percent Goal": 8.272148800783162,
          "num opponents between shot and goal": 1
         },
         {
          "Goal": 42,
          "No Goal": 593,
          "Percent Goal": 6.593406593406593,
          "num opponents between shot and goal": 2
         },
         {
          "Goal": 22,
          "No Goal": 249,
          "Percent Goal": 8.02919708029197,
          "num opponents between shot and goal": 3
         },
         {
          "Goal": 8,
          "No Goal": 116,
          "Percent Goal": 6.25,
          "num opponents between shot and goal": 4
         },
         {
          "Goal": 4,
          "No Goal": 47,
          "Percent Goal": 7.142857142857143,
          "num opponents between shot and goal": 5
         },
         {
          "Goal": 3,
          "No Goal": 13,
          "Percent Goal": 13.636363636363637,
          "num opponents between shot and goal": 6
         },
         {
          "Goal": 0,
          "No Goal": 1,
          "Percent Goal": 0,
          "num opponents between shot and goal": 7
         },
         {
          "Goal": 0,
          "No Goal": 1,
          "Percent Goal": 0,
          "num opponents between shot and goal": 8
         }
        ]
       },
       "encoding": {
        "x": {
         "axis": {
          "labelAngle": 0,
          "title": "num opponents between shot and goal"
         },
         "field": "num opponents between shot and goal",
         "type": "nominal"
        },
        "y": {
         "axis": {
          "title": "Percent Goal"
         },
         "field": "Percent Goal",
         "type": "quantitative"
        }
       },
       "height": 300,
       "mark": "line",
       "title": "Percent Goal vs num opponents between shot and goal",
       "width": 850
      },
      "image/png": "[encoded data removed]",
      "text/plain": [
       "<VegaLite 3 object>\n",
       "\n",
       "If you see this message, it means the renderer has not been properly enabled\n",
       "for the frontend that you are using. For more information, see\n",
       "https://altair-viz.github.io/user_guide/troubleshooting.html\n"
      ]
     },
     "execution_count": 284,
     "metadata": {},
     "output_type": "execute_result"
    }
   ],
   "source": [
    "plot_percent_goal_vs_attr(\"num opponents between shot and goal\", \"line\")"
   ]
  },
  {
   "cell_type": "markdown",
   "metadata": {},
   "source": [
    "**Comments:**\n",
    "\n",
    "As expected, in general, the rate of goals scored decreases as more opponents are between the shot location and the goal. Interestingly, there is a bizarre peak at 6 opponents between shot and goal. This could be due to sample size. "
   ]
  },
  {
   "cell_type": "markdown",
   "metadata": {},
   "source": [
    "#### 2.3.2 Percent goals by num opponents within 5 yards"
   ]
  },
  {
   "cell_type": "code",
   "execution_count": 285,
   "metadata": {},
   "outputs": [
    {
     "data": {
      "application/vnd.vegalite.v3+json": {
       "$schema": "https://vega.github.io/schema/vega-lite/v3.4.0.json",
       "config": {
        "axis": {
         "labelFontSize": 13,
         "titleFontSize": 15
        },
        "mark": {
         "tooltip": null
        },
        "title": {
         "fontSize": 16
        },
        "view": {
         "height": 300,
         "width": 400
        }
       },
       "data": {
        "name": "data-5abe93c3fc37de311444a0c247dbc550"
       },
       "datasets": {
        "data-5abe93c3fc37de311444a0c247dbc550": [
         {
          "Goal": 212,
          "No Goal": 1170,
          "Percent Goal": 15.340086830680173,
          "num opponents within 5 yards": 0
         },
         {
          "Goal": 332,
          "No Goal": 2001,
          "Percent Goal": 14.224507283633248,
          "num opponents within 5 yards": 1
         },
         {
          "Goal": 248,
          "No Goal": 1648,
          "Percent Goal": 13.066385669125395,
          "num opponents within 5 yards": 2
         },
         {
          "Goal": 110,
          "No Goal": 685,
          "Percent Goal": 13.784461152882205,
          "num opponents within 5 yards": 3
         },
         {
          "Goal": 30,
          "No Goal": 275,
          "Percent Goal": 9.70873786407767,
          "num opponents within 5 yards": 4
         },
         {
          "Goal": 16,
          "No Goal": 63,
          "Percent Goal": 19.047619047619047,
          "num opponents within 5 yards": 5
         },
         {
          "Goal": 2,
          "No Goal": 14,
          "Percent Goal": 9.090909090909092,
          "num opponents within 5 yards": 6
         },
         {
          "Goal": 0,
          "No Goal": 3,
          "Percent Goal": 0,
          "num opponents within 5 yards": 7
         }
        ]
       },
       "encoding": {
        "x": {
         "axis": {
          "labelAngle": 0,
          "title": "num opponents within 5 yards"
         },
         "field": "num opponents within 5 yards",
         "type": "nominal"
        },
        "y": {
         "axis": {
          "title": "Percent Goal"
         },
         "field": "Percent Goal",
         "type": "quantitative"
        }
       },
       "height": 300,
       "mark": "line",
       "title": "Percent Goal vs num opponents within 5 yards",
       "width": 850
      },
      "image/png": "[encoded data removed]",
      "text/plain": [
       "<VegaLite 3 object>\n",
       "\n",
       "If you see this message, it means the renderer has not been properly enabled\n",
       "for the frontend that you are using. For more information, see\n",
       "https://altair-viz.github.io/user_guide/troubleshooting.html\n"
      ]
     },
     "execution_count": 285,
     "metadata": {},
     "output_type": "execute_result"
    }
   ],
   "source": [
    "plot_percent_goal_vs_attr(\"num opponents within 5 yards\", \"line\")"
   ]
  },
  {
   "cell_type": "markdown",
   "metadata": {},
   "source": [
    "**Comments:**\n",
    "\n",
    "We see a similar trend for rate of goals scored vs number of opponents within 5 yards of shot location."
   ]
  },
  {
   "cell_type": "markdown",
   "metadata": {},
   "source": [
    "#### 2.3.3 Percent goals by player pattern"
   ]
  },
  {
   "cell_type": "code",
   "execution_count": 286,
   "metadata": {},
   "outputs": [
    {
     "data": {
      "application/vnd.vegalite.v3+json": {
       "$schema": "https://vega.github.io/schema/vega-lite/v3.4.0.json",
       "config": {
        "axis": {
         "labelFontSize": 13,
         "titleFontSize": 15
        },
        "mark": {
         "tooltip": null
        },
        "title": {
         "fontSize": 16
        },
        "view": {
         "height": 300,
         "width": 400
        }
       },
       "data": {
        "name": "data-5f64bd31bf725b59e6cd912bc838a60f"
       },
       "datasets": {
        "data-5f64bd31bf725b59e6cd912bc838a60f": [
         {
          "Goal": 87,
          "No Goal": 831,
          "Percent Goal": 9.477124183006536,
          "play pattern": "From Corner"
         },
         {
          "Goal": 51,
          "No Goal": 218,
          "Percent Goal": 18.95910780669145,
          "play pattern": "From Counter"
         },
         {
          "Goal": 187,
          "No Goal": 1545,
          "Percent Goal": 10.796766743648961,
          "play pattern": "From Free Kick"
         },
         {
          "Goal": 39,
          "No Goal": 203,
          "Percent Goal": 16.115702479338843,
          "play pattern": "From Goal Kick"
         },
         {
          "Goal": 7,
          "No Goal": 72,
          "Percent Goal": 8.860759493670885,
          "play pattern": "From Keeper"
         },
         {
          "Goal": 11,
          "No Goal": 76,
          "Percent Goal": 12.64367816091954,
          "play pattern": "From Kick Off"
         },
         {
          "Goal": 129,
          "No Goal": 928,
          "Percent Goal": 12.204351939451277,
          "play pattern": "From Throw In"
         },
         {
          "Goal": 75,
          "No Goal": 27,
          "Percent Goal": 73.52941176470588,
          "play pattern": "Other"
         },
         {
          "Goal": 364,
          "No Goal": 1959,
          "Percent Goal": 15.669393026259147,
          "play pattern": "Regular Play"
         }
        ]
       },
       "encoding": {
        "x": {
         "axis": {
          "labelAngle": 0,
          "title": "play pattern"
         },
         "field": "play pattern",
         "type": "nominal"
        },
        "y": {
         "axis": {
          "title": "Percent Goal"
         },
         "field": "Percent Goal",
         "type": "quantitative"
        }
       },
       "height": 300,
       "mark": "bar",
       "title": "Percent Goal vs play pattern",
       "width": 850
      },
      "image/png": "[encoded data removed]",
      "text/plain": [
       "<VegaLite 3 object>\n",
       "\n",
       "If you see this message, it means the renderer has not been properly enabled\n",
       "for the frontend that you are using. For more information, see\n",
       "https://altair-viz.github.io/user_guide/troubleshooting.html\n"
      ]
     },
     "execution_count": 286,
     "metadata": {},
     "output_type": "execute_result"
    }
   ],
   "source": [
    "plot_percent_goal_vs_attr(\"play pattern\", \"bar\")"
   ]
  },
  {
   "cell_type": "markdown",
   "metadata": {},
   "source": [
    "**Comments:**\n",
    "\n",
    "For goal scoring rate by _play pattern_, we see that \"other\" has a very large percent goals scored value. This tells us that \"other\" refers to penalties. Aside from \"other\", we can see that shots from counter attacks have a larger chance to produce a goal than any other play pattern, probably because counter attacks mean that the opposition is much less organized, resulting in more space. To be sure, we can check this below:"
   ]
  },
  {
   "cell_type": "code",
   "execution_count": 287,
   "metadata": {},
   "outputs": [
    {
     "data": {
      "application/vnd.vegalite.v3+json": {
       "$schema": "https://vega.github.io/schema/vega-lite/v3.4.0.json",
       "config": {
        "axis": {
         "labelFontSize": 13,
         "titleFontSize": 15
        },
        "mark": {
         "tooltip": null
        },
        "title": {
         "fontSize": 16
        },
        "view": {
         "height": 300,
         "width": 400
        }
       },
       "data": {
        "name": "data-f22fd95507e1c703c30a54bce65c3b3c"
       },
       "datasets": {
        "data-f22fd95507e1c703c30a54bce65c3b3c": [
         {
          "Distance from goal": 15.890178027003307,
          "duration": 0.789622196078432,
          "first time": 0.30718954248366015,
          "num opponents between shot and goal": 0.9912854030501089,
          "num opponents within 5 yards": 2.0718954248366015,
          "outcome": 0.09477124183006536,
          "play pattern": "From Corner",
          "x gk position": 118.46884531590415,
          "x start location": 106.5383442265796,
          "y gk position": 39.88115468409586,
          "y start location": 39.56056644880171
         },
         {
          "Distance from goal": 17.562308109100883,
          "duration": 0.670073185873606,
          "first time": 0.27137546468401486,
          "num opponents between shot and goal": 0.22676579925650558,
          "num opponents within 5 yards": 1.58364312267658,
          "outcome": 0.1895910780669145,
          "play pattern": "From Counter",
          "x gk position": 115.2881040892194,
          "x start location": 105.76431226765803,
          "y gk position": 39.637174721189595,
          "y start location": 38.91152416356879
         },
         {
          "Distance from goal": 22.164206711611875,
          "duration": 0.8257341951501155,
          "first time": 0.24653579676674364,
          "num opponents between shot and goal": 1.2950346420323327,
          "num opponents within 5 yards": 1.2090069284064666,
          "outcome": 0.10796766743648961,
          "play pattern": "From Free Kick",
          "x gk position": 118.06512702078528,
          "x start location": 100.72101616628186,
          "y gk position": 40.064780600461916,
          "y start location": 39.52309468822163
         },
         {
          "Distance from goal": 18.75533523976488,
          "duration": 0.7088653057851239,
          "first time": 0.35537190082644626,
          "num opponents between shot and goal": 0.4834710743801653,
          "num opponents within 5 yards": 1.5495867768595042,
          "outcome": 0.16115702479338842,
          "play pattern": "From Goal Kick",
          "x gk position": 117.34958677685952,
          "x start location": 104.45826446280995,
          "y gk position": 39.67561983471077,
          "y start location": 39.01942148760334
         },
         {
          "Distance from goal": 19.858279721707177,
          "duration": 0.7722968734177217,
          "first time": 0.2911392405063291,
          "num opponents between shot and goal": 0.4430379746835443,
          "num opponents within 5 yards": 1.5316455696202531,
          "outcome": 0.08860759493670886,
          "play pattern": "From Keeper",
          "x gk position": 116.8037974683545,
          "x start location": 103.17974683544303,
          "y gk position": 39.98101265822784,
          "y start location": 39.87215189873415
         },
         {
          "Distance from goal": 21.137326768043796,
          "duration": 0.7927990689655173,
          "first time": 0.3333333333333333,
          "num opponents between shot and goal": 0.5977011494252874,
          "num opponents within 5 yards": 1.4827586206896552,
          "outcome": 0.12643678160919541,
          "play pattern": "From Kick Off",
          "x gk position": 117.65287356321845,
          "x start location": 101.87701149425284,
          "y gk position": 40.20459770114943,
          "y start location": 40.54022988505745
         },
         {
          "Distance from goal": 19.76424901284688,
          "duration": 0.7712225269631037,
          "first time": 0.3386944181646168,
          "num opponents between shot and goal": 0.4796594134342479,
          "num opponents within 5 yards": 1.5941343424787133,
          "outcome": 0.12204351939451277,
          "play pattern": "From Throw In",
          "x gk position": 117.64768211920546,
          "x start location": 103.47738883632911,
          "y gk position": 40.01948912015141,
          "y start location": 39.80832544938504
         },
         {
          "Distance from goal": 12.921786062021438,
          "duration": 0.5708964411764704,
          "first time": 0.058823529411764705,
          "num opponents between shot and goal": 0.058823529411764705,
          "num opponents within 5 yards": 0.16666666666666666,
          "outcome": 0.7352941176470589,
          "play pattern": "Other",
          "x gk position": 119.69901960784313,
          "x start location": 107.2352941176471,
          "y gk position": 39.9735294117647,
          "y start location": 39.97156862745096
         },
         {
          "Distance from goal": 19.249225554561004,
          "duration": 0.7644253702109343,
          "first time": 0.32285837279380114,
          "num opponents between shot and goal": 0.454584588893672,
          "num opponents within 5 yards": 1.5036590615583298,
          "outcome": 0.15669393026259149,
          "play pattern": "Regular Play",
          "x gk position": 117.30473525613435,
          "x start location": 103.9674989238054,
          "y gk position": 39.84360740421868,
          "y start location": 39.10000000000005
         }
        ]
       },
       "encoding": {
        "x": {
         "axis": {
          "labelAngle": 0,
          "title": "player pattern"
         },
         "field": "play pattern",
         "type": "nominal"
        },
        "y": {
         "axis": {
          "title": "mean num opponents within 5 yards"
         },
         "field": "num opponents within 5 yards",
         "type": "quantitative"
        }
       },
       "height": 300,
       "mark": "bar",
       "title": "mean num opponents whithin 5 yards by play pattern",
       "width": 850
      },
      "image/png": "[encoded data removed]",
      "text/plain": [
       "<VegaLite 3 object>\n",
       "\n",
       "If you see this message, it means the renderer has not been properly enabled\n",
       "for the frontend that you are using. For more information, see\n",
       "https://altair-viz.github.io/user_guide/troubleshooting.html\n"
      ]
     },
     "execution_count": 287,
     "metadata": {},
     "output_type": "execute_result"
    }
   ],
   "source": [
    "alt.Chart(shot_training_set.groupby(\"play pattern\").mean().reset_index()).mark_bar().encode(\n",
    "        alt.X('play pattern:N', axis = alt.Axis(title = \"player pattern\", labelAngle = 0)),\n",
    "        alt.Y('num opponents within 5 yards:Q', axis = alt.Axis(title = 'mean num opponents within 5 yards'))\n",
    ").properties(width = 850, height = 300, \n",
    "             title = \"mean num opponents whithin 5 yards by play pattern\"\n",
    ").configure_axis(labelFontSize = 13, titleFontSize = 15\n",
    ").configure_title(fontSize = 16)"
   ]
  },
  {
   "cell_type": "markdown",
   "metadata": {},
   "source": [
    "Ok, so actually, shots resulting from counters, on average, don't have less players within 5 yards of the shot location than other play patterns. What about number of opponents between the shot location and the goal?"
   ]
  },
  {
   "cell_type": "code",
   "execution_count": 19,
   "metadata": {},
   "outputs": [
    {
     "data": {
      "application/vnd.vegalite.v3+json": {
       "$schema": "https://vega.github.io/schema/vega-lite/v3.4.0.json",
       "config": {
        "axis": {
         "labelFontSize": 13,
         "titleFontSize": 15
        },
        "mark": {
         "tooltip": null
        },
        "title": {
         "fontSize": 16
        },
        "view": {
         "height": 300,
         "width": 400
        }
       },
       "data": {
        "name": "data-4434c14dfa06f0fd3d0515692f1901ff"
       },
       "datasets": {
        "data-4434c14dfa06f0fd3d0515692f1901ff": [
         {
          "Distance from goal": 15.999939334572211,
          "duration": 0.7910414069037655,
          "first time": 0.30962343096234307,
          "num opponents between shot and goal": 0.9633891213389121,
          "num opponents within 5 yards": 2.040794979079498,
          "play pattern": "From Corner",
          "x gk position": 118.45721757322183,
          "x start location": 106.48546025104622,
          "y gk position": 39.98023012552304,
          "y start location": 39.82573221757326
         },
         {
          "Distance from goal": 16.968211381169258,
          "duration": 0.6881712898550724,
          "first time": 0.2717391304347826,
          "num opponents between shot and goal": 0.213768115942029,
          "num opponents within 5 yards": 1.5217391304347827,
          "play pattern": "From Counter",
          "x gk position": 115.20760869565217,
          "x start location": 106.31884057971021,
          "y gk position": 39.51014492753623,
          "y start location": 38.76086956521739
         },
         {
          "Distance from goal": 22.12648720274476,
          "duration": 0.8207519348079163,
          "first time": 0.2520372526193248,
          "num opponents between shot and goal": 1.3044237485448196,
          "num opponents within 5 yards": 1.2130384167636787,
          "play pattern": "From Free Kick",
          "x gk position": 118.05878928987185,
          "x start location": 100.69994179278228,
          "y gk position": 40.05267753201401,
          "y start location": 39.50029103608841
         },
         {
          "Distance from goal": 19.266725480231965,
          "duration": 0.7179518093220338,
          "first time": 0.3601694915254237,
          "num opponents between shot and goal": 0.5254237288135594,
          "num opponents within 5 yards": 1.5254237288135593,
          "play pattern": "From Goal Kick",
          "x gk position": 117.33940677966108,
          "x start location": 103.9665254237288,
          "y gk position": 39.76144067796611,
          "y start location": 39.62118644067795
         },
         {
          "Distance from goal": 19.53982926139274,
          "duration": 0.740714821917808,
          "first time": 0.3424657534246575,
          "num opponents between shot and goal": 0.5342465753424658,
          "num opponents within 5 yards": 1.5342465753424657,
          "play pattern": "From Keeper",
          "x gk position": 116.4452054794521,
          "x start location": 102.90410958904107,
          "y gk position": 39.62328767123287,
          "y start location": 38.49999999999999
         },
         {
          "Distance from goal": 21.681247951680987,
          "duration": 0.8079192298850575,
          "first time": 0.3103448275862069,
          "num opponents between shot and goal": 0.5862068965517241,
          "num opponents within 5 yards": 1.4367816091954022,
          "play pattern": "From Kick Off",
          "x gk position": 117.60344827586209,
          "x start location": 101.40344827586209,
          "y gk position": 40.12298850574714,
          "y start location": 40.37816091954025
         },
         {
          "Distance from goal": 19.923995328113854,
          "duration": 0.776921940891473,
          "first time": 0.3323643410852713,
          "num opponents between shot and goal": 0.4883720930232558,
          "num opponents within 5 yards": 1.6017441860465116,
          "play pattern": "From Throw In",
          "x gk position": 117.67877906976739,
          "x start location": 103.25881782945729,
          "y gk position": 39.98187984496128,
          "y start location": 39.5427325581395
         },
         {
          "Distance from goal": 12.119368106764172,
          "duration": 0.5695419795918367,
          "first time": 0.061224489795918366,
          "num opponents between shot and goal": 0.09183673469387756,
          "num opponents within 5 yards": 0.20408163265306123,
          "play pattern": "Other",
          "x gk position": 119.70816326530614,
          "x start location": 108.11224489795921,
          "y gk position": 40.030612244897966,
          "y start location": 40.177551020408146
         },
         {
          "Distance from goal": 19.335859527421974,
          "duration": 0.765308505786543,
          "first time": 0.32404629232747534,
          "num opponents between shot and goal": 0.46078011144449205,
          "num opponents within 5 yards": 1.5032147449635662,
          "play pattern": "Regular Play",
          "x gk position": 117.26172310330058,
          "x start location": 103.84710672953285,
          "y gk position": 39.82104586369478,
          "y start location": 39.04509215602232
         }
        ]
       },
       "encoding": {
        "x": {
         "axis": {
          "labelAngle": 0,
          "title": "play pattern"
         },
         "field": "play pattern",
         "type": "nominal"
        },
        "y": {
         "axis": {
          "title": "num opponents between shot and goal"
         },
         "field": "num opponents between shot and goal",
         "type": "quantitative"
        }
       },
       "height": 300,
       "mark": "bar",
       "title": "mean num opponents between shot and goal by play pattern",
       "width": 850
      },
      "image/png": "[encoded data removed]",
      "text/plain": [
       "<VegaLite 3 object>\n",
       "\n",
       "If you see this message, it means the renderer has not been properly enabled\n",
       "for the frontend that you are using. For more information, see\n",
       "https://altair-viz.github.io/user_guide/troubleshooting.html\n"
      ]
     },
     "execution_count": 19,
     "metadata": {},
     "output_type": "execute_result"
    }
   ],
   "source": [
    "alt.Chart(shot_training_set.groupby(\"play pattern\").mean().reset_index()).mark_bar().encode(\n",
    "        alt.X('play pattern:N', axis = alt.Axis(title = \"play pattern\", labelAngle = 0)),\n",
    "        alt.Y('num opponents between shot and goal:Q', axis = alt.Axis(title = 'num opponents between shot and goal'))\n",
    ").properties(width = 850, height = 300, \n",
    "             title = \"mean num opponents between shot and goal by play pattern\"\n",
    ").configure_axis(labelFontSize = 13, titleFontSize = 15\n",
    ").configure_title(fontSize = 16)"
   ]
  },
  {
   "cell_type": "markdown",
   "metadata": {},
   "source": [
    "Right, so we can see that actually, shots resulting from counters result in a higher rate of goals scored because there are less opponents between the shot location and the goal (on average), makes sense. "
   ]
  },
  {
   "cell_type": "markdown",
   "metadata": {},
   "source": [
    "#### 2.3.3 Percent goals by first time "
   ]
  },
  {
   "cell_type": "code",
   "execution_count": 20,
   "metadata": {},
   "outputs": [
    {
     "data": {
      "application/vnd.vegalite.v3+json": {
       "$schema": "https://vega.github.io/schema/vega-lite/v3.4.0.json",
       "config": {
        "axis": {
         "labelFontSize": 13,
         "titleFontSize": 15
        },
        "mark": {
         "tooltip": null
        },
        "title": {
         "fontSize": 16
        },
        "view": {
         "height": 300,
         "width": 400
        }
       },
       "data": {
        "name": "data-a71b1b634fcb179247844647ad3cf27e"
       },
       "datasets": {
        "data-a71b1b634fcb179247844647ad3cf27e": [
         {
          "Blocked": 1102,
          "Goal": 567,
          "Off T": 1510,
          "Percent Goal": 11.90426201973546,
          "Post": 145,
          "Saved": 1276,
          "Saved Off Target": 25,
          "Saved to Post": 14,
          "Wayward": 124,
          "first time": false
         },
         {
          "Blocked": 410,
          "Goal": 383,
          "Off T": 662,
          "Percent Goal": 18.71030776746458,
          "Post": 39,
          "Saved": 470,
          "Saved Off Target": 5,
          "Saved to Post": 4,
          "Wayward": 73,
          "first time": true
         }
        ]
       },
       "encoding": {
        "x": {
         "axis": {
          "labelAngle": 0,
          "title": "first time"
         },
         "field": "first time",
         "type": "nominal"
        },
        "y": {
         "axis": {
          "title": "Percent Goal"
         },
         "field": "Percent Goal",
         "type": "quantitative"
        }
       },
       "height": 300,
       "mark": "bar",
       "title": "Percent Goal vs first time",
       "width": 850
      },
      "image/png": "[encoded data removed]",
      "text/plain": [
       "<VegaLite 3 object>\n",
       "\n",
       "If you see this message, it means the renderer has not been properly enabled\n",
       "for the frontend that you are using. For more information, see\n",
       "https://altair-viz.github.io/user_guide/troubleshooting.html\n"
      ]
     },
     "execution_count": 20,
     "metadata": {},
     "output_type": "execute_result"
    }
   ],
   "source": [
    "plot_percent_goal_vs_attr(\"first time\", \"bar\")"
   ]
  },
  {
   "cell_type": "markdown",
   "metadata": {},
   "source": [
    "## 3. Data preprocessing"
   ]
  },
  {
   "cell_type": "markdown",
   "metadata": {},
   "source": [
    "We will create pipelines for preprocessing the categorical and numerical attributes in our shot data frame, then combine the two pipelines. To refresh our memories, here is the shot data frame again:"
   ]
  },
  {
   "cell_type": "code",
   "execution_count": 333,
   "metadata": {},
   "outputs": [
    {
     "data": {
      "text/html": [
       "<div>\n",
       "<style scoped>\n",
       "    .dataframe tbody tr th:only-of-type {\n",
       "        vertical-align: middle;\n",
       "    }\n",
       "\n",
       "    .dataframe tbody tr th {\n",
       "        vertical-align: top;\n",
       "    }\n",
       "\n",
       "    .dataframe thead th {\n",
       "        text-align: right;\n",
       "    }\n",
       "</style>\n",
       "<table border=\"1\" class=\"dataframe\">\n",
       "  <thead>\n",
       "    <tr style=\"text-align: right;\">\n",
       "      <th></th>\n",
       "      <th>play pattern</th>\n",
       "      <th>x start location</th>\n",
       "      <th>y start location</th>\n",
       "      <th>duration</th>\n",
       "      <th>outcome</th>\n",
       "      <th>technique</th>\n",
       "      <th>first time</th>\n",
       "      <th>x gk position</th>\n",
       "      <th>y gk position</th>\n",
       "      <th>type of shot</th>\n",
       "      <th>num opponents within 5 yards</th>\n",
       "      <th>num opponents between shot and goal</th>\n",
       "      <th>Distance from goal</th>\n",
       "    </tr>\n",
       "    <tr>\n",
       "      <th>shot id</th>\n",
       "      <th></th>\n",
       "      <th></th>\n",
       "      <th></th>\n",
       "      <th></th>\n",
       "      <th></th>\n",
       "      <th></th>\n",
       "      <th></th>\n",
       "      <th></th>\n",
       "      <th></th>\n",
       "      <th></th>\n",
       "      <th></th>\n",
       "      <th></th>\n",
       "      <th></th>\n",
       "    </tr>\n",
       "  </thead>\n",
       "  <tbody>\n",
       "    <tr>\n",
       "      <th>752e0c6e-30d3-4b1f-b888-abc4ffed9920</th>\n",
       "      <td>From Goal Kick</td>\n",
       "      <td>114.4</td>\n",
       "      <td>50.2</td>\n",
       "      <td>0.204800</td>\n",
       "      <td>0</td>\n",
       "      <td>Normal</td>\n",
       "      <td>True</td>\n",
       "      <td>118.8</td>\n",
       "      <td>43.8</td>\n",
       "      <td>Open Play</td>\n",
       "      <td>1</td>\n",
       "      <td>0</td>\n",
       "      <td>11.636151</td>\n",
       "    </tr>\n",
       "    <tr>\n",
       "      <th>0683b203-c433-4825-845b-7c960d7c52e8</th>\n",
       "      <td>From Free Kick</td>\n",
       "      <td>107.4</td>\n",
       "      <td>49.2</td>\n",
       "      <td>0.841101</td>\n",
       "      <td>1</td>\n",
       "      <td>Half Volley</td>\n",
       "      <td>True</td>\n",
       "      <td>118.7</td>\n",
       "      <td>41.8</td>\n",
       "      <td>Open Play</td>\n",
       "      <td>1</td>\n",
       "      <td>2</td>\n",
       "      <td>15.601282</td>\n",
       "    </tr>\n",
       "    <tr>\n",
       "      <th>ab81c24c-c1bd-42b6-bf93-a7dc60502027</th>\n",
       "      <td>Regular Play</td>\n",
       "      <td>113.0</td>\n",
       "      <td>41.3</td>\n",
       "      <td>1.004000</td>\n",
       "      <td>0</td>\n",
       "      <td>Normal</td>\n",
       "      <td>False</td>\n",
       "      <td>119.4</td>\n",
       "      <td>39.9</td>\n",
       "      <td>Open Play</td>\n",
       "      <td>4</td>\n",
       "      <td>1</td>\n",
       "      <td>7.119691</td>\n",
       "    </tr>\n",
       "    <tr>\n",
       "      <th>a28252f8-fa43-432c-be76-b48ee1e4fcce</th>\n",
       "      <td>From Free Kick</td>\n",
       "      <td>103.4</td>\n",
       "      <td>44.7</td>\n",
       "      <td>1.052700</td>\n",
       "      <td>0</td>\n",
       "      <td>Normal</td>\n",
       "      <td>True</td>\n",
       "      <td>118.5</td>\n",
       "      <td>41.8</td>\n",
       "      <td>Open Play</td>\n",
       "      <td>2</td>\n",
       "      <td>1</td>\n",
       "      <td>17.252536</td>\n",
       "    </tr>\n",
       "    <tr>\n",
       "      <th>940ce10a-9b48-45bb-9989-05f604b4f81c</th>\n",
       "      <td>From Throw In</td>\n",
       "      <td>86.1</td>\n",
       "      <td>37.7</td>\n",
       "      <td>0.200800</td>\n",
       "      <td>0</td>\n",
       "      <td>Normal</td>\n",
       "      <td>False</td>\n",
       "      <td>114.7</td>\n",
       "      <td>40.5</td>\n",
       "      <td>Open Play</td>\n",
       "      <td>0</td>\n",
       "      <td>1</td>\n",
       "      <td>33.977934</td>\n",
       "    </tr>\n",
       "  </tbody>\n",
       "</table>\n",
       "</div>"
      ],
      "text/plain": [
       "                                        play pattern  x start location  \\\n",
       "shot id                                                                  \n",
       "752e0c6e-30d3-4b1f-b888-abc4ffed9920  From Goal Kick             114.4   \n",
       "0683b203-c433-4825-845b-7c960d7c52e8  From Free Kick             107.4   \n",
       "ab81c24c-c1bd-42b6-bf93-a7dc60502027    Regular Play             113.0   \n",
       "a28252f8-fa43-432c-be76-b48ee1e4fcce  From Free Kick             103.4   \n",
       "940ce10a-9b48-45bb-9989-05f604b4f81c   From Throw In              86.1   \n",
       "\n",
       "                                      y start location  duration  outcome  \\\n",
       "shot id                                                                     \n",
       "752e0c6e-30d3-4b1f-b888-abc4ffed9920              50.2  0.204800        0   \n",
       "0683b203-c433-4825-845b-7c960d7c52e8              49.2  0.841101        1   \n",
       "ab81c24c-c1bd-42b6-bf93-a7dc60502027              41.3  1.004000        0   \n",
       "a28252f8-fa43-432c-be76-b48ee1e4fcce              44.7  1.052700        0   \n",
       "940ce10a-9b48-45bb-9989-05f604b4f81c              37.7  0.200800        0   \n",
       "\n",
       "                                        technique  first time  x gk position  \\\n",
       "shot id                                                                        \n",
       "752e0c6e-30d3-4b1f-b888-abc4ffed9920       Normal        True          118.8   \n",
       "0683b203-c433-4825-845b-7c960d7c52e8  Half Volley        True          118.7   \n",
       "ab81c24c-c1bd-42b6-bf93-a7dc60502027       Normal       False          119.4   \n",
       "a28252f8-fa43-432c-be76-b48ee1e4fcce       Normal        True          118.5   \n",
       "940ce10a-9b48-45bb-9989-05f604b4f81c       Normal       False          114.7   \n",
       "\n",
       "                                      y gk position type of shot  \\\n",
       "shot id                                                            \n",
       "752e0c6e-30d3-4b1f-b888-abc4ffed9920           43.8    Open Play   \n",
       "0683b203-c433-4825-845b-7c960d7c52e8           41.8    Open Play   \n",
       "ab81c24c-c1bd-42b6-bf93-a7dc60502027           39.9    Open Play   \n",
       "a28252f8-fa43-432c-be76-b48ee1e4fcce           41.8    Open Play   \n",
       "940ce10a-9b48-45bb-9989-05f604b4f81c           40.5    Open Play   \n",
       "\n",
       "                                      num opponents within 5 yards  \\\n",
       "shot id                                                              \n",
       "752e0c6e-30d3-4b1f-b888-abc4ffed9920                             1   \n",
       "0683b203-c433-4825-845b-7c960d7c52e8                             1   \n",
       "ab81c24c-c1bd-42b6-bf93-a7dc60502027                             4   \n",
       "a28252f8-fa43-432c-be76-b48ee1e4fcce                             2   \n",
       "940ce10a-9b48-45bb-9989-05f604b4f81c                             0   \n",
       "\n",
       "                                      num opponents between shot and goal  \\\n",
       "shot id                                                                     \n",
       "752e0c6e-30d3-4b1f-b888-abc4ffed9920                                    0   \n",
       "0683b203-c433-4825-845b-7c960d7c52e8                                    2   \n",
       "ab81c24c-c1bd-42b6-bf93-a7dc60502027                                    1   \n",
       "a28252f8-fa43-432c-be76-b48ee1e4fcce                                    1   \n",
       "940ce10a-9b48-45bb-9989-05f604b4f81c                                    1   \n",
       "\n",
       "                                      Distance from goal  \n",
       "shot id                                                   \n",
       "752e0c6e-30d3-4b1f-b888-abc4ffed9920           11.636151  \n",
       "0683b203-c433-4825-845b-7c960d7c52e8           15.601282  \n",
       "ab81c24c-c1bd-42b6-bf93-a7dc60502027            7.119691  \n",
       "a28252f8-fa43-432c-be76-b48ee1e4fcce           17.252536  \n",
       "940ce10a-9b48-45bb-9989-05f604b4f81c           33.977934  "
      ]
     },
     "execution_count": 333,
     "metadata": {},
     "output_type": "execute_result"
    }
   ],
   "source": [
    "shot_training_set.head()"
   ]
  },
  {
   "cell_type": "markdown",
   "metadata": {},
   "source": [
    "First, we create a class `AttrSelector`, which has methods `fit` and `transform` that we can use in our pipeline. This method will be use to select the features in our data frame for each pipeline.\n",
    "\n",
    "Also, by making this class a subclass of `BaseEstimator` and `TransformerMixin`, we get the `fit_transform`, `get_params()` and `set_params()` methods as well."
   ]
  },
  {
   "cell_type": "code",
   "execution_count": 335,
   "metadata": {},
   "outputs": [],
   "source": [
    "class AttrSelector(BaseEstimator, TransformerMixin):\n",
    "    \n",
    "    def __init__(self, attributes):\n",
    "        self.attributes = attributes\n",
    "   \n",
    "    def fit(self, attributes):\n",
    "        return self\n",
    "    \n",
    "    def transform(self, X):\n",
    "        return X[self.attributes]"
   ]
  },
  {
   "cell_type": "markdown",
   "metadata": {},
   "source": [
    "### 3.1 Categorical pipeline\n",
    "\n",
    "In our categorical pipeline, we will use AttrSelector to select the relevant categorical attributes, stored as a list in the _categorical_shot_attributes_ variable. We then encode the values of each categorical variable as \"One hot vector\". "
   ]
  },
  {
   "cell_type": "code",
   "execution_count": 336,
   "metadata": {},
   "outputs": [],
   "source": [
    "categorical_shot_attributes = [\"play pattern\", \"technique\", \"first time\"]\n",
    "\n",
    "categorical_attr_pipeline = Pipeline([\n",
    "    ('selector', AttrSelector(categorical_shot_attributes)),\n",
    "    ('one_hot_encoder',  OneHotEncoder())\n",
    "])"
   ]
  },
  {
   "cell_type": "code",
   "execution_count": 409,
   "metadata": {},
   "outputs": [],
   "source": [
    "one_hot_vals_play_pattern = shot_training_set[\"play pattern\"].unique()\n",
    "one_hot_vals_technique = shot_training_set[\"technique\"].unique()\n",
    "one_hot_vals_first_time = shot_training_set[\"first time\"].unique()\n",
    "\n",
    "one_hot_categorical_features = np.concatenate([one_hot_vals_play_pattern, one_hot_vals_technique, one_hot_vals_first_time])"
   ]
  },
  {
   "cell_type": "markdown",
   "metadata": {},
   "source": [
    "### 3.2 Numerical pipeline\n",
    "\n",
    "In our numerical pipeline, we will use AttrSelector to select the relevant numerical attributes, stored as a list in the _numerical_shot_attributes_ variable."
   ]
  },
  {
   "cell_type": "code",
   "execution_count": 417,
   "metadata": {},
   "outputs": [],
   "source": [
    "numerical_shot_attributes = [\"x start location\", \"y start location\", \"x gk position\", \"y gk position\", \n",
    "                             \"num opponents within 5 yards\", \"num opponents between shot and goal\", \"Distance from goal\"]\n",
    "\n",
    "numerical_attr_pipeline = Pipeline([\n",
    "    ('selector', AttrSelector(numerical_shot_attributes))\n",
    "])\n",
    "\n",
    "numerical_features = np.array(numerical_shot_attributes)"
   ]
  },
  {
   "cell_type": "markdown",
   "metadata": {},
   "source": [
    "### 3.3 Combined pipeline\n",
    "\n",
    "Now we combine the categorical and numerical pipelines using the `FeatureUnion` class. And we get our data frame transformed into a sparse matrix, ready to be passed through to sk learn models."
   ]
  },
  {
   "cell_type": "code",
   "execution_count": 418,
   "metadata": {},
   "outputs": [
    {
     "data": {
      "text/plain": [
       "<6809x25 sparse matrix of type '<class 'numpy.float64'>'\n",
       "\twith 63040 stored elements in Compressed Sparse Row format>"
      ]
     },
     "execution_count": 418,
     "metadata": {},
     "output_type": "execute_result"
    }
   ],
   "source": [
    "combined_pipeline = FeatureUnion(transformer_list = [\n",
    "    (\"categorical_attr_pipeline\", categorical_attr_pipeline),\n",
    "    (\"numerical_attr_pipeline\", numerical_attr_pipeline)\n",
    "])\n",
    "\n",
    "training_la_liga_shots_processed = combined_pipeline.fit_transform(shot_training_set)\n",
    "training_la_liga_shots_processed"
   ]
  },
  {
   "cell_type": "code",
   "execution_count": 419,
   "metadata": {},
   "outputs": [],
   "source": [
    "total_features = np.concatenate([one_hot_categorical_features, numerical_features])"
   ]
  },
  {
   "cell_type": "markdown",
   "metadata": {},
   "source": [
    "## 4. Decision tree"
   ]
  },
  {
   "cell_type": "code",
   "execution_count": 470,
   "metadata": {},
   "outputs": [],
   "source": [
    "list_scores_recall = []\n",
    "list_scores_precision = []\n",
    "for d in range(2, 30):\n",
    "    tree_class = DecisionTreeClassifier(max_depth=d)\n",
    "    scores_recall = cross_val_score(tree_class, training_la_liga_shots_processed, shot_training_set[\"outcome\"], scoring = \"recall\", cv=10)\n",
    "    scores_precision = cross_val_score(tree_class, training_la_liga_shots_processed, shot_training_set[\"outcome\"], scoring = \"precision\", cv=10)\n",
    "    list_scores_recall.append(scores_recall)\n",
    "    list_scores_precision.append(scores_precision)"
   ]
  },
  {
   "cell_type": "code",
   "execution_count": 471,
   "metadata": {},
   "outputs": [],
   "source": [
    "a= list(map(np.mean,list_scores_precision))\n",
    "b=list(map(np.mean,list_scores_recall))"
   ]
  },
  {
   "cell_type": "code",
   "execution_count": 472,
   "metadata": {},
   "outputs": [
    {
     "data": {
      "text/plain": [
       "[<matplotlib.lines.Line2D at 0x1b4802bed0>]"
      ]
     },
     "execution_count": 472,
     "metadata": {},
     "output_type": "execute_result"
    },
    {
     "data": {
      "image/png": "[encoded data removed]",
      "text/plain": [
       "<Figure size 432x288 with 1 Axes>"
      ]
     },
     "metadata": {
      "needs_background": "light"
     },
     "output_type": "display_data"
    }
   ],
   "source": [
    "plt.plot(range(2,30), a)\n",
    "plt.plot(range(2,30), b)"
   ]
  },
  {
   "cell_type": "code",
   "execution_count": 421,
   "metadata": {},
   "outputs": [
    {
     "data": {
      "text/plain": [
       "DecisionTreeClassifier(class_weight=None, criterion='gini', max_depth=5,\n",
       "            max_features=None, max_leaf_nodes=None,\n",
       "            min_impurity_decrease=0.0, min_impurity_split=None,\n",
       "            min_samples_leaf=1, min_samples_split=2,\n",
       "            min_weight_fraction_leaf=0.0, presort=False, random_state=None,\n",
       "            splitter='best')"
      ]
     },
     "execution_count": 421,
     "metadata": {},
     "output_type": "execute_result"
    }
   ],
   "source": [
    "tree_class.fit(training_la_liga_shots_processed, shot_training_set[\"outcome\"])"
   ]
  },
  {
   "cell_type": "code",
   "execution_count": null,
   "metadata": {},
   "outputs": [],
   "source": []
  },
  {
   "cell_type": "code",
   "execution_count": 422,
   "metadata": {},
   "outputs": [],
   "source": [
    "export_graphviz(tree_class,\n",
    "                out_file='../img/goal_decision_tree.dot',\n",
    "                feature_names=total_features)"
   ]
  },
  {
   "cell_type": "code",
   "execution_count": null,
   "metadata": {},
   "outputs": [],
   "source": []
  }
 ],
 "metadata": {
  "kernelspec": {
   "display_name": "Python 3",
   "language": "python",
   "name": "python3"
  },
  "language_info": {
   "codemirror_mode": {
    "name": "ipython",
    "version": 3
   },
   "file_extension": ".py",
   "mimetype": "text/x-python",
   "name": "python",
   "nbconvert_exporter": "python",
   "pygments_lexer": "ipython3",
   "version": "3.7.4"
  }
 },
 "nbformat": 4,
 "nbformat_minor": 4
}
