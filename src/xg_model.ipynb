{
 "cells": [
  {
   "cell_type": "code",
   "execution_count": 137,
   "metadata": {},
   "outputs": [],
   "source": [
    "import requests\n",
    "from bs4 import BeautifulSoup\n",
    "import json\n",
    "import re\n",
    "\n",
    "import pandas as pd\n",
    "import numpy as np\n",
    "import matplotlib.pyplot as plt\n",
    "import altair as alt\n",
    "\n",
    "from sklearn.model_selection import StratifiedShuffleSplit\n",
    "from sklearn.preprocessing import OneHotEncoder, CategoricalEncoder\n",
    "from sklearn.pipeline import Pipeline\n",
    "from sklearn.preprocessing import StandardScaler\n",
    "from sklearn.pipeline import FeatureUnion\n",
    "from sklearn.base import BaseEstimator, TransformerMixin\n",
    "\n",
    "from sklearn import tree\n",
    "from sklearn.tree import DecisionTreeClassifier\n",
    "from sklearn.model_selection import cross_val_score\n",
    "from sklearn.tree import export_graphviz\n",
    "import graphviz"
   ]
  },
  {
   "cell_type": "markdown",
   "metadata": {},
   "source": [
    "# xG Model"
   ]
  },
  {
   "cell_type": "markdown",
   "metadata": {},
   "source": [
    "## 1. Fetching data"
   ]
  },
  {
   "cell_type": "markdown",
   "metadata": {},
   "source": [
    "### 1.1 Objects and functions to fetch data from Statsbomb's Github"
   ]
  },
  {
   "cell_type": "markdown",
   "metadata": {},
   "source": [
    "In the third cell below, we call `fetch_matches_for_season` with argument **11**, as this corresponds to the La Liga comp in Statsbomb public data. See [here](https://github.com/statsbomb/open-data/blob/master/data/competitions.json)."
   ]
  },
  {
   "cell_type": "code",
   "execution_count": 17,
   "metadata": {},
   "outputs": [],
   "source": [
    "class Game:\n",
    "    \"\"\"Game object whose only attribute is event-level JSON file (from Statsbomb's github)\"\"\"\n",
    "    \n",
    "    def __init__(self, json_file):\n",
    "        self.json_file = json.loads(json_file)"
   ]
  },
  {
   "cell_type": "code",
   "execution_count": 18,
   "metadata": {},
   "outputs": [],
   "source": [
    "def fetch_matches_for_season(github_season_url):\n",
    "    \"\"\"\n",
    "    Function which take a url from Statsbomb's github for a specific season and returns a dictionary maping game ID's to the game's \n",
    "    event level JSON data.\n",
    "    \n",
    "    Arguments:\n",
    "    \n",
    "    github_season_url - (String) URL from Statsbomb's github. Format is:\n",
    "                        https://github.com/statsbomb/open-data/blob/master/data/matches/{league_ID}/{season_ID}.json\n",
    "    \"\"\"\n",
    "    req = requests.get(github_season_url).text\n",
    "    soup = BeautifulSoup(req, \"lxml\") \n",
    "    table = soup.find('table')\n",
    "    \n",
    "    game_nums = []\n",
    "    for td in table.find_all('td'):\n",
    "        if \"match_id\" in td.text:\n",
    "            game_num = re.findall(r'[0-9]+', td.text)[0]\n",
    "            game_nums.append(game_num)\n",
    "            \n",
    "    json_files = []\n",
    "    base_url_string = \"https://raw.githubusercontent.com/statsbomb/open-data/master/data/events/\"\n",
    "    game_num_dict = {\n",
    "        game_num  : Game(requests.get(base_url_string + game_num + \".json\").text)\n",
    "        for game_num in game_nums\n",
    "    }\n",
    " \n",
    "    return game_num_dict"
   ]
  },
  {
   "cell_type": "code",
   "execution_count": 19,
   "metadata": {},
   "outputs": [
    {
     "name": "stdout",
     "output_type": "stream",
     "text": [
      "Getting season 2015/2016...\n",
      "Getting season 2014/2015...\n",
      "Getting season 2013/2014...\n",
      "Getting season 2012/2013...\n",
      "Getting season 2011/2012...\n",
      "Getting season 2010/2011...\n",
      "Getting season 2009/2010...\n",
      "Getting season 2008/2009...\n",
      "Getting season 2007/2008...\n",
      "Getting season 2006/2007...\n",
      "Getting season 2005/2006...\n",
      "Getting season 2004/2005...\n",
      "Done\n"
     ]
    }
   ],
   "source": [
    "def fetch_all_seasons_for_league(competition_id):\n",
    "    \"\"\"\n",
    "    Function which takes a competition_id, as specified by Statsbomb, and returns a dictionary where each season maps to \n",
    "    another dictionary containing all games in that season.\n",
    "    \n",
    "    Arguments:\n",
    "    \n",
    "    season_id - (int) competition_id as specified by Statsbomb \n",
    "                      See here: https://github.com/statsbomb/open-data/blob/master/data/competitions.json\n",
    "    \n",
    "    \"\"\"\n",
    "    #Get webpage html for competitions.json\n",
    "    req = requests.get(\"https://raw.githubusercontent.com/statsbomb/open-data/master/data/competitions.json\").text\n",
    "    #Convert webpage to json format\n",
    "    competitions_statsbomb = json.loads(req)\n",
    "\n",
    "    all_seasons_id = {}\n",
    "    for comps in competitions_statsbomb:\n",
    "        if comps['competition_id'] == competition_id:\n",
    "            season_id = comps['season_id']\n",
    "            season_name = comps['season_name']\n",
    "        \n",
    "            all_seasons_id[season_name] = season_id\n",
    "    \n",
    "    league_all_games_by_seasons = {}\n",
    "    \n",
    "    for keys, values in all_seasons_id.items():\n",
    "        season_url = \"https://github.com/statsbomb/open-data/blob/master/data/matches/{}/{}.json\".format(competition_id, values)\n",
    "        print(\"Getting season {}...\".format(keys))\n",
    "        season = fetch_matches_for_season(season_url)\n",
    "        league_all_games_by_seasons[keys] = season\n",
    "    \n",
    "    print(\"Done\")\n",
    "    \n",
    "    return league_all_games_by_seasons\n",
    "\n",
    "la_liga = fetch_all_seasons_for_league(11)"
   ]
  },
  {
   "cell_type": "markdown",
   "metadata": {},
   "source": [
    "So we have a data structure, called `la_liga`, which has league season names as the keys of the outer dictionary. The values are dictionaries, which map game ids (as specified by statsbomb) to `Game` objects (defined above)."
   ]
  },
  {
   "cell_type": "markdown",
   "metadata": {},
   "source": [
    "### 1.2 Getting shots data "
   ]
  },
  {
   "cell_type": "markdown",
   "metadata": {},
   "source": [
    "Now I will write some functions to parse through the json of each game, and extract all the shots, as well as features related to the shots. In particular, these features are: \n",
    "\n",
    "- **play pattern**: pattern of play which led to the shot\n",
    "- **x start location**: x-location of the shot \n",
    "- **y start location**: y-location of the shot \n",
    "- **duration**: duration of the shot\n",
    "- **outcome**: result of the shot\n",
    "- **technique**: technique with which the shot was hit\n",
    "- **first time**: whether the shot was hit for time or not\n",
    "- **x gk position**: x-location of the gk when shot was taken\n",
    "- **y gk position**: y-location of the gk when shot was taken\n",
    "- **type of shot**: whether shot was from open play or set piece (and type of set piece specified)\n",
    "- **num opponents within 5 yards**: number of opponents which were within 5 yards of shot location\n",
    "- **num opponents between shot and goal**: number of opponents which were between the shot location, and the lines connecting shot location and the two posts\n",
    "\n",
    "All the variables listed above can be extracted by parsing through the json directly, except for the last one. Therefore, below, I will write a function to get this variable."
   ]
  },
  {
   "cell_type": "code",
   "execution_count": 24,
   "metadata": {},
   "outputs": [],
   "source": [
    "def check_player_btwn_shot_and_goal(x_shot, y_shot, x_player, y_player):\n",
    "    \"\"\"\n",
    "    Function which checks whether a player in a stats bomb freeze is between the shot location, and the two lines\n",
    "    connecting the shot location to the posts. See here for coordinate specifications: \n",
    "    https://github.com/statsbomb/open-data/blob/master/doc/StatsBomb%20Open%20Data%20Specification%20v1.1.pdf\n",
    "    \n",
    "    Arguments:\n",
    "    x_shot    x-location of shot\n",
    "    y_shot    y-location of shot\n",
    "    x_player  x-location of player\n",
    "    y_player  y-location of player    \n",
    "    \"\"\"\n",
    "    x_diff = x_player - x_shot\n",
    "    y_diff = y_player - y_shot\n",
    "    \n",
    "    if 120 - x_shot == 0:\n",
    "        return False\n",
    "    \n",
    "    slope_1 = (36 - y_shot) / (120 - x_shot)\n",
    "    slope_2 = (44 - y_shot) / (120 - x_shot) \n",
    "                    \n",
    "    return (x_diff >= 0) and ((y_shot + slope_1 * x_diff) < y_player < (y_shot + slope_2 * x_diff))\n",
    "\n",
    "\n",
    "def plot_shot_freeze_frame(game_json, shot_id):\n",
    "    player_pos_list_x = []\n",
    "    player_pos_list_y = []\n",
    "    x_shot = 0\n",
    "    y_shot = 0\n",
    "    \n",
    "    for events in game_json:\n",
    "        if events['id'] == shot_id:\n",
    "            x_shot = events['location'][0]\n",
    "            y_shot = events['location'][1]\n",
    "        \n",
    "            for players in events['shot']['freeze_frame']:\n",
    "                if (players['teammate'] == False):\n",
    "                    player_pos_list_x.append(players['location'][0])\n",
    "                    player_pos_list_y.append(players['location'][1])\n",
    "            \n",
    "    plt.scatter(player_pos_list_x, player_pos_list_y)\n",
    "    plt.plot([x_shot, 120], [y_shot,36], color = 'red', linestyle = '--')\n",
    "    plt.plot([x_shot, 120], [y_shot,44], color = 'red', linestyle = '--')"
   ]
  },
  {
   "cell_type": "markdown",
   "metadata": {},
   "source": [
    "Now I will write a function which takes a json file for a given game, and returns a data frame containing all shots taken along with the variables related to that shot. Then I will write two wrapper function: `get_shots_for_season` which calls `get_shots_for_game` on all game files for that season, and `get_shots_for_league`, which does a similar thing, but for each game across every season we have for that league."
   ]
  },
  {
   "cell_type": "code",
   "execution_count": 25,
   "metadata": {},
   "outputs": [],
   "source": [
    "def get_shots_for_game(game_json):\n",
    "    \"\"\"\n",
    "    Function which parses through a game JSON and return a data frame containing all shots taken in that game with several features \n",
    "    related to that shot\n",
    "    \n",
    "    Arguments\n",
    "    game_json - event level json for a game\n",
    "    \"\"\"\n",
    "    \n",
    "    #features for each shot, which will be the columns of our data frame\n",
    "    \n",
    "    shot_id_list = []\n",
    "    x_start_location_list = []\n",
    "    y_start_location_list = []\n",
    "    play_pattern_list = []\n",
    "    duration_list = []\n",
    "    outcome_list = []\n",
    "    technique_list = []\n",
    "    type_shot_list = []\n",
    "    first_time_list = []\n",
    "    x_gk_pos_list = []\n",
    "    y_gk_pos_list = []\n",
    "    num_opponents_5_yards_list = []\n",
    "    num_opponents_between_goal_list = []\n",
    "    \n",
    "    #-------------------------#\n",
    "\n",
    "    for events in game_json:\n",
    "    \n",
    "        if events['type']['name'] == 'Shot':\n",
    "        \n",
    "            #get data for first 8 features\n",
    "            shot_id = events['id']\n",
    "            x_start_location = events['location'][0]\n",
    "            y_start_location = events['location'][1]\n",
    "            play_pattern = events['play_pattern']['name']\n",
    "            duration = events['duration']\n",
    "            outcome = events['shot']['outcome']['name'] \n",
    "            technique = events['shot']['technique']['name']\n",
    "            type_shot = events['shot']['type']['name']\n",
    "        \n",
    "            #check if json shot has a first_time attribute, if not set first_time to False\n",
    "            if 'first_time' in events['shot']:\n",
    "                first_time = events['shot']['first_time']\n",
    "            else:\n",
    "                first_time = False\n",
    "            \n",
    "            #check if shot has a freeze_frame dictionary\n",
    "            if \"freeze_frame\" in events[\"shot\"]:\n",
    "                \n",
    "                num_opponents_5_yards = 0\n",
    "                num_opponents_between_goal = 0\n",
    "                \n",
    "                for player in events[\"shot\"][\"freeze_frame\"]:\n",
    "                    x_player = player['location'][0]\n",
    "                    y_player = player['location'][1]\n",
    "                    \n",
    "                    #count how many opponents were within 5 yards of player when shot was taken\n",
    "                    if ((x_start_location - x_player)**2 + (y_start_location - y_player)**2) <= 25 and (player['teammate'] == False):\n",
    "                        if (player['position']['name'] != 'Goalkeeper'):\n",
    "                            num_opponents_5_yards += 1\n",
    "                    \n",
    "                    #count how many opponents were between shot and goal\n",
    "                    if (player['teammate'] == False) and (player['position']['name'] != 'Goalkeeper'):\n",
    "                        if check_player_btwn_shot_and_goal(x_start_location, y_start_location, x_player, y_player):\n",
    "                            num_opponents_between_goal += 1\n",
    "                    \n",
    "                    #get position of opponent's goalkeeper \n",
    "                    if ((player['position']['name'] == 'Goalkeeper') and (player['teammate'] == False)):\n",
    "                        x_gk_pos = player['location'][0]\n",
    "                        y_gk_pos = player['location'][1]\n",
    "            \n",
    "            #if there is no freeze frame, assume goalkeeper is at center of goal, and 0 opponenets around shot location\n",
    "            else:\n",
    "                num_opponents_between_goal = 0\n",
    "                num_opponents_5_yards = 0\n",
    "                x_gk_pos = 120\n",
    "                y_gk_pos = 40            \n",
    "            \n",
    "            #append data on shot to relevant list (column)\n",
    "            shot_id_list.append(shot_id)\n",
    "            play_pattern_list.append(play_pattern)\n",
    "            x_start_location_list.append(x_start_location)\n",
    "            y_start_location_list.append(y_start_location)\n",
    "            duration_list.append(duration)\n",
    "            outcome_list.append(outcome)\n",
    "            technique_list.append(technique)\n",
    "            first_time_list.append(first_time)\n",
    "            x_gk_pos_list.append(x_gk_pos)\n",
    "            y_gk_pos_list.append(y_gk_pos)\n",
    "            type_shot_list.append(type_shot)\n",
    "            num_opponents_5_yards_list.append(num_opponents_5_yards)\n",
    "            num_opponents_between_goal_list.append(num_opponents_between_goal)\n",
    "        \n",
    "    #create data frame with column features\n",
    "    shot_df = pd.DataFrame({\n",
    "                       \"shot id\" : shot_id_list,\n",
    "                       \"play pattern\" : play_pattern_list, \n",
    "                       \"x start location\" : x_start_location_list, \n",
    "                       \"y start location\" : y_start_location_list,\n",
    "                       \"duration\" : duration_list, \n",
    "                       \"outcome\" : outcome_list, \n",
    "                       \"technique\" : technique_list, \n",
    "                       \"first time\" : first_time_list,\n",
    "                       \"x gk position\" : x_gk_pos_list,\n",
    "                       \"y gk position\" : y_gk_pos_list,\n",
    "                       \"type of shot\" : type_shot_list,\n",
    "                       \"num opponents within 5 yards\" : num_opponents_5_yards_list,\n",
    "                       \"num opponents between shot and goal\" : num_opponents_between_goal_list\n",
    "                       })\n",
    "    \n",
    "    return shot_df.set_index(\"shot id\")"
   ]
  },
  {
   "cell_type": "markdown",
   "metadata": {},
   "source": [
    "**Wrapper functions:**"
   ]
  },
  {
   "cell_type": "code",
   "execution_count": 26,
   "metadata": {},
   "outputs": [],
   "source": [
    "def get_shots_for_season(season_dict):\n",
    "    \"\"\"\n",
    "    Takes a dictionary whichs maps game ids to Game objects, and calls get_shots_for_game() on each one.\n",
    "    \n",
    "    Arguments:\n",
    "    season_dict - dictionary which maps game ids (string, as specified by statsbomb) to Game objects (defined above)\n",
    "    \"\"\"\n",
    "    total_shot_df = pd.DataFrame()\n",
    "    \n",
    "    for keys, values in season_dict.items():\n",
    "        shot_df = get_shots_for_game(values.json_file)\n",
    "        total_shot_df = total_shot_df.append(shot_df)\n",
    "        \n",
    "    return total_shot_df\n",
    "\n",
    "\n",
    "def get_shots_for_league(league_dict):\n",
    "    \"\"\"\n",
    "    Takes a dictionary which maps season names to season dictionaries for a league, and calls get_shots_for_game() on each game.\n",
    "    \n",
    "    Arguments:\n",
    "    league_dict - dictionary which maps season names to another dictionary. This inner dictionary maps \n",
    "    game ids (as specified by statsbomb) to Game objects (defined above)\n",
    "    \"\"\"\n",
    "    total_shot_df = pd.DataFrame()\n",
    "    \n",
    "    for keys, values in league_dict.items():\n",
    "        shot_df = get_shots_for_season(values)\n",
    "        total_shot_df = total_shot_df.append(shot_df)\n",
    "        print(\"Getting shots for \" + keys)\n",
    "    \n",
    "    print(\"Done.\")\n",
    "    \n",
    "    return total_shot_df"
   ]
  },
  {
   "cell_type": "code",
   "execution_count": 33,
   "metadata": {},
   "outputs": [
    {
     "name": "stdout",
     "output_type": "stream",
     "text": [
      "Getting shots for 2015/2016\n",
      "Getting shots for 2014/2015\n",
      "Getting shots for 2013/2014\n",
      "Getting shots for 2012/2013\n",
      "Getting shots for 2011/2012\n",
      "Getting shots for 2010/2011\n",
      "Getting shots for 2009/2010\n",
      "Getting shots for 2008/2009\n",
      "Getting shots for 2007/2008\n",
      "Getting shots for 2006/2007\n",
      "Getting shots for 2005/2006\n",
      "Getting shots for 2004/2005\n",
      "Done.\n"
     ]
    }
   ],
   "source": [
    "all_la_liga_shots = get_shots_for_league(la_liga)"
   ]
  },
  {
   "cell_type": "markdown",
   "metadata": {},
   "source": [
    "So we have our data frame with all 8512 shots taken in Barca games from 2004/05 to 2015/16."
   ]
  },
  {
   "cell_type": "code",
   "execution_count": 34,
   "metadata": {},
   "outputs": [
    {
     "data": {
      "text/html": [
       "<div>\n",
       "<style scoped>\n",
       "    .dataframe tbody tr th:only-of-type {\n",
       "        vertical-align: middle;\n",
       "    }\n",
       "\n",
       "    .dataframe tbody tr th {\n",
       "        vertical-align: top;\n",
       "    }\n",
       "\n",
       "    .dataframe thead th {\n",
       "        text-align: right;\n",
       "    }\n",
       "</style>\n",
       "<table border=\"1\" class=\"dataframe\">\n",
       "  <thead>\n",
       "    <tr style=\"text-align: right;\">\n",
       "      <th></th>\n",
       "      <th>play pattern</th>\n",
       "      <th>x start location</th>\n",
       "      <th>y start location</th>\n",
       "      <th>duration</th>\n",
       "      <th>outcome</th>\n",
       "      <th>technique</th>\n",
       "      <th>first time</th>\n",
       "      <th>x gk position</th>\n",
       "      <th>y gk position</th>\n",
       "      <th>type of shot</th>\n",
       "      <th>num opponents within 5 yards</th>\n",
       "      <th>num opponents between shot and goal</th>\n",
       "    </tr>\n",
       "    <tr>\n",
       "      <th>shot id</th>\n",
       "      <th></th>\n",
       "      <th></th>\n",
       "      <th></th>\n",
       "      <th></th>\n",
       "      <th></th>\n",
       "      <th></th>\n",
       "      <th></th>\n",
       "      <th></th>\n",
       "      <th></th>\n",
       "      <th></th>\n",
       "      <th></th>\n",
       "      <th></th>\n",
       "    </tr>\n",
       "  </thead>\n",
       "  <tbody>\n",
       "    <tr>\n",
       "      <th>8522d7b1-8efd-4400-9006-1c2d1327f41d</th>\n",
       "      <td>Regular Play</td>\n",
       "      <td>109.7</td>\n",
       "      <td>30.6</td>\n",
       "      <td>0.564551</td>\n",
       "      <td>Off T</td>\n",
       "      <td>Normal</td>\n",
       "      <td>True</td>\n",
       "      <td>117.7</td>\n",
       "      <td>37.1</td>\n",
       "      <td>Open Play</td>\n",
       "      <td>2</td>\n",
       "      <td>1</td>\n",
       "    </tr>\n",
       "    <tr>\n",
       "      <th>fa3b6e06-dac2-4e77-81f7-20ff9429ad3a</th>\n",
       "      <td>From Throw In</td>\n",
       "      <td>87.5</td>\n",
       "      <td>31.7</td>\n",
       "      <td>1.201127</td>\n",
       "      <td>Off T</td>\n",
       "      <td>Normal</td>\n",
       "      <td>False</td>\n",
       "      <td>118.4</td>\n",
       "      <td>40.1</td>\n",
       "      <td>Open Play</td>\n",
       "      <td>2</td>\n",
       "      <td>1</td>\n",
       "    </tr>\n",
       "    <tr>\n",
       "      <th>b70b5409-5781-4182-b31a-bad2c8e3e891</th>\n",
       "      <td>From Goal Kick</td>\n",
       "      <td>107.1</td>\n",
       "      <td>34.0</td>\n",
       "      <td>0.466900</td>\n",
       "      <td>Saved</td>\n",
       "      <td>Normal</td>\n",
       "      <td>False</td>\n",
       "      <td>117.6</td>\n",
       "      <td>37.5</td>\n",
       "      <td>Open Play</td>\n",
       "      <td>6</td>\n",
       "      <td>1</td>\n",
       "    </tr>\n",
       "    <tr>\n",
       "      <th>e3fc1a0b-d68a-4ffb-95bf-4f97c075c049</th>\n",
       "      <td>From Corner</td>\n",
       "      <td>116.4</td>\n",
       "      <td>38.9</td>\n",
       "      <td>0.323872</td>\n",
       "      <td>Goal</td>\n",
       "      <td>Volley</td>\n",
       "      <td>True</td>\n",
       "      <td>119.7</td>\n",
       "      <td>38.5</td>\n",
       "      <td>Open Play</td>\n",
       "      <td>2</td>\n",
       "      <td>1</td>\n",
       "    </tr>\n",
       "    <tr>\n",
       "      <th>97b07723-77e9-4ece-aa90-b6c975b0dbc1</th>\n",
       "      <td>From Corner</td>\n",
       "      <td>97.5</td>\n",
       "      <td>33.8</td>\n",
       "      <td>0.268600</td>\n",
       "      <td>Wayward</td>\n",
       "      <td>Volley</td>\n",
       "      <td>True</td>\n",
       "      <td>119.3</td>\n",
       "      <td>40.0</td>\n",
       "      <td>Open Play</td>\n",
       "      <td>2</td>\n",
       "      <td>1</td>\n",
       "    </tr>\n",
       "    <tr>\n",
       "      <th>...</th>\n",
       "      <td>...</td>\n",
       "      <td>...</td>\n",
       "      <td>...</td>\n",
       "      <td>...</td>\n",
       "      <td>...</td>\n",
       "      <td>...</td>\n",
       "      <td>...</td>\n",
       "      <td>...</td>\n",
       "      <td>...</td>\n",
       "      <td>...</td>\n",
       "      <td>...</td>\n",
       "      <td>...</td>\n",
       "    </tr>\n",
       "    <tr>\n",
       "      <th>e05a628b-87f5-49b1-980a-71e3f8d59929</th>\n",
       "      <td>From Free Kick</td>\n",
       "      <td>114.9</td>\n",
       "      <td>37.3</td>\n",
       "      <td>0.703500</td>\n",
       "      <td>Goal</td>\n",
       "      <td>Normal</td>\n",
       "      <td>False</td>\n",
       "      <td>118.9</td>\n",
       "      <td>39.0</td>\n",
       "      <td>Open Play</td>\n",
       "      <td>5</td>\n",
       "      <td>0</td>\n",
       "    </tr>\n",
       "    <tr>\n",
       "      <th>0db9c930-e402-4ab3-bf98-bcd888b1acf7</th>\n",
       "      <td>Regular Play</td>\n",
       "      <td>108.4</td>\n",
       "      <td>25.7</td>\n",
       "      <td>0.596500</td>\n",
       "      <td>Blocked</td>\n",
       "      <td>Normal</td>\n",
       "      <td>True</td>\n",
       "      <td>115.2</td>\n",
       "      <td>32.7</td>\n",
       "      <td>Open Play</td>\n",
       "      <td>0</td>\n",
       "      <td>1</td>\n",
       "    </tr>\n",
       "    <tr>\n",
       "      <th>6ab038e3-9e39-4bb9-a823-6221d6a16542</th>\n",
       "      <td>Regular Play</td>\n",
       "      <td>114.0</td>\n",
       "      <td>39.6</td>\n",
       "      <td>0.296701</td>\n",
       "      <td>Blocked</td>\n",
       "      <td>Normal</td>\n",
       "      <td>False</td>\n",
       "      <td>115.0</td>\n",
       "      <td>35.1</td>\n",
       "      <td>Open Play</td>\n",
       "      <td>2</td>\n",
       "      <td>1</td>\n",
       "    </tr>\n",
       "    <tr>\n",
       "      <th>5012da5d-c22e-4d65-95bb-7c88b1d23432</th>\n",
       "      <td>From Throw In</td>\n",
       "      <td>97.1</td>\n",
       "      <td>51.0</td>\n",
       "      <td>1.001687</td>\n",
       "      <td>Goal</td>\n",
       "      <td>Volley</td>\n",
       "      <td>True</td>\n",
       "      <td>118.3</td>\n",
       "      <td>40.8</td>\n",
       "      <td>Open Play</td>\n",
       "      <td>0</td>\n",
       "      <td>1</td>\n",
       "    </tr>\n",
       "    <tr>\n",
       "      <th>e85e5685-24b5-459e-ba79-7339ed210c31</th>\n",
       "      <td>From Keeper</td>\n",
       "      <td>108.1</td>\n",
       "      <td>26.6</td>\n",
       "      <td>0.511299</td>\n",
       "      <td>Saved</td>\n",
       "      <td>Normal</td>\n",
       "      <td>False</td>\n",
       "      <td>118.3</td>\n",
       "      <td>38.3</td>\n",
       "      <td>Open Play</td>\n",
       "      <td>2</td>\n",
       "      <td>0</td>\n",
       "    </tr>\n",
       "  </tbody>\n",
       "</table>\n",
       "<p>8512 rows × 12 columns</p>\n",
       "</div>"
      ],
      "text/plain": [
       "                                        play pattern  x start location  \\\n",
       "shot id                                                                  \n",
       "8522d7b1-8efd-4400-9006-1c2d1327f41d    Regular Play             109.7   \n",
       "fa3b6e06-dac2-4e77-81f7-20ff9429ad3a   From Throw In              87.5   \n",
       "b70b5409-5781-4182-b31a-bad2c8e3e891  From Goal Kick             107.1   \n",
       "e3fc1a0b-d68a-4ffb-95bf-4f97c075c049     From Corner             116.4   \n",
       "97b07723-77e9-4ece-aa90-b6c975b0dbc1     From Corner              97.5   \n",
       "...                                              ...               ...   \n",
       "e05a628b-87f5-49b1-980a-71e3f8d59929  From Free Kick             114.9   \n",
       "0db9c930-e402-4ab3-bf98-bcd888b1acf7    Regular Play             108.4   \n",
       "6ab038e3-9e39-4bb9-a823-6221d6a16542    Regular Play             114.0   \n",
       "5012da5d-c22e-4d65-95bb-7c88b1d23432   From Throw In              97.1   \n",
       "e85e5685-24b5-459e-ba79-7339ed210c31     From Keeper             108.1   \n",
       "\n",
       "                                      y start location  duration  outcome  \\\n",
       "shot id                                                                     \n",
       "8522d7b1-8efd-4400-9006-1c2d1327f41d              30.6  0.564551    Off T   \n",
       "fa3b6e06-dac2-4e77-81f7-20ff9429ad3a              31.7  1.201127    Off T   \n",
       "b70b5409-5781-4182-b31a-bad2c8e3e891              34.0  0.466900    Saved   \n",
       "e3fc1a0b-d68a-4ffb-95bf-4f97c075c049              38.9  0.323872     Goal   \n",
       "97b07723-77e9-4ece-aa90-b6c975b0dbc1              33.8  0.268600  Wayward   \n",
       "...                                                ...       ...      ...   \n",
       "e05a628b-87f5-49b1-980a-71e3f8d59929              37.3  0.703500     Goal   \n",
       "0db9c930-e402-4ab3-bf98-bcd888b1acf7              25.7  0.596500  Blocked   \n",
       "6ab038e3-9e39-4bb9-a823-6221d6a16542              39.6  0.296701  Blocked   \n",
       "5012da5d-c22e-4d65-95bb-7c88b1d23432              51.0  1.001687     Goal   \n",
       "e85e5685-24b5-459e-ba79-7339ed210c31              26.6  0.511299    Saved   \n",
       "\n",
       "                                     technique  first time  x gk position  \\\n",
       "shot id                                                                     \n",
       "8522d7b1-8efd-4400-9006-1c2d1327f41d    Normal        True          117.7   \n",
       "fa3b6e06-dac2-4e77-81f7-20ff9429ad3a    Normal       False          118.4   \n",
       "b70b5409-5781-4182-b31a-bad2c8e3e891    Normal       False          117.6   \n",
       "e3fc1a0b-d68a-4ffb-95bf-4f97c075c049    Volley        True          119.7   \n",
       "97b07723-77e9-4ece-aa90-b6c975b0dbc1    Volley        True          119.3   \n",
       "...                                        ...         ...            ...   \n",
       "e05a628b-87f5-49b1-980a-71e3f8d59929    Normal       False          118.9   \n",
       "0db9c930-e402-4ab3-bf98-bcd888b1acf7    Normal        True          115.2   \n",
       "6ab038e3-9e39-4bb9-a823-6221d6a16542    Normal       False          115.0   \n",
       "5012da5d-c22e-4d65-95bb-7c88b1d23432    Volley        True          118.3   \n",
       "e85e5685-24b5-459e-ba79-7339ed210c31    Normal       False          118.3   \n",
       "\n",
       "                                      y gk position type of shot  \\\n",
       "shot id                                                            \n",
       "8522d7b1-8efd-4400-9006-1c2d1327f41d           37.1    Open Play   \n",
       "fa3b6e06-dac2-4e77-81f7-20ff9429ad3a           40.1    Open Play   \n",
       "b70b5409-5781-4182-b31a-bad2c8e3e891           37.5    Open Play   \n",
       "e3fc1a0b-d68a-4ffb-95bf-4f97c075c049           38.5    Open Play   \n",
       "97b07723-77e9-4ece-aa90-b6c975b0dbc1           40.0    Open Play   \n",
       "...                                             ...          ...   \n",
       "e05a628b-87f5-49b1-980a-71e3f8d59929           39.0    Open Play   \n",
       "0db9c930-e402-4ab3-bf98-bcd888b1acf7           32.7    Open Play   \n",
       "6ab038e3-9e39-4bb9-a823-6221d6a16542           35.1    Open Play   \n",
       "5012da5d-c22e-4d65-95bb-7c88b1d23432           40.8    Open Play   \n",
       "e85e5685-24b5-459e-ba79-7339ed210c31           38.3    Open Play   \n",
       "\n",
       "                                      num opponents within 5 yards  \\\n",
       "shot id                                                              \n",
       "8522d7b1-8efd-4400-9006-1c2d1327f41d                             2   \n",
       "fa3b6e06-dac2-4e77-81f7-20ff9429ad3a                             2   \n",
       "b70b5409-5781-4182-b31a-bad2c8e3e891                             6   \n",
       "e3fc1a0b-d68a-4ffb-95bf-4f97c075c049                             2   \n",
       "97b07723-77e9-4ece-aa90-b6c975b0dbc1                             2   \n",
       "...                                                            ...   \n",
       "e05a628b-87f5-49b1-980a-71e3f8d59929                             5   \n",
       "0db9c930-e402-4ab3-bf98-bcd888b1acf7                             0   \n",
       "6ab038e3-9e39-4bb9-a823-6221d6a16542                             2   \n",
       "5012da5d-c22e-4d65-95bb-7c88b1d23432                             0   \n",
       "e85e5685-24b5-459e-ba79-7339ed210c31                             2   \n",
       "\n",
       "                                      num opponents between shot and goal  \n",
       "shot id                                                                    \n",
       "8522d7b1-8efd-4400-9006-1c2d1327f41d                                    1  \n",
       "fa3b6e06-dac2-4e77-81f7-20ff9429ad3a                                    1  \n",
       "b70b5409-5781-4182-b31a-bad2c8e3e891                                    1  \n",
       "e3fc1a0b-d68a-4ffb-95bf-4f97c075c049                                    1  \n",
       "97b07723-77e9-4ece-aa90-b6c975b0dbc1                                    1  \n",
       "...                                                                   ...  \n",
       "e05a628b-87f5-49b1-980a-71e3f8d59929                                    0  \n",
       "0db9c930-e402-4ab3-bf98-bcd888b1acf7                                    1  \n",
       "6ab038e3-9e39-4bb9-a823-6221d6a16542                                    1  \n",
       "5012da5d-c22e-4d65-95bb-7c88b1d23432                                    1  \n",
       "e85e5685-24b5-459e-ba79-7339ed210c31                                    0  \n",
       "\n",
       "[8512 rows x 12 columns]"
      ]
     },
     "execution_count": 34,
     "metadata": {},
     "output_type": "execute_result"
    }
   ],
   "source": [
    "all_la_liga_shots"
   ]
  },
  {
   "cell_type": "code",
   "execution_count": null,
   "metadata": {},
   "outputs": [],
   "source": []
  },
  {
   "cell_type": "markdown",
   "metadata": {},
   "source": [
    "## 2. Data Exploration"
   ]
  },
  {
   "cell_type": "markdown",
   "metadata": {},
   "source": [
    "### 2.1 Create new variables\n",
    "\n",
    "We will create the following new variables:\n",
    "\n",
    "- Distance of shot location from goal\n",
    "- Convert outcome to a binary variable (Goal = 1, Other = 0)"
   ]
  },
  {
   "cell_type": "code",
   "execution_count": 35,
   "metadata": {},
   "outputs": [
    {
     "name": "stderr",
     "output_type": "stream",
     "text": [
      "/Users/robertblumberg/anaconda3/lib/python3.7/site-packages/pandas/core/indexing.py:205: SettingWithCopyWarning: \n",
      "A value is trying to be set on a copy of a slice from a DataFrame\n",
      "\n",
      "See the caveats in the documentation: http://pandas.pydata.org/pandas-docs/stable/user_guide/indexing.html#returning-a-view-versus-a-copy\n",
      "  self._setitem_with_indexer(indexer, value)\n"
     ]
    }
   ],
   "source": [
    "all_la_liga_shots[\"Distance from goal\"] = np.sqrt((all_la_liga_shots[\"x start location\"] - 120)**2 +    \\\n",
    "                                                  (all_la_liga_shots[\"y start location\"] - 40)**2)\n",
    "\n",
    "goal_label_mask = all_la_liga_shots[\"outcome\"].str.contains(\"Goal\")\n",
    "all_la_liga_shots[\"outcome\"].loc[goal_label_mask] = 1\n",
    "all_la_liga_shots[\"outcome\"].loc[~goal_label_mask] = 0"
   ]
  },
  {
   "cell_type": "code",
   "execution_count": 36,
   "metadata": {},
   "outputs": [
    {
     "data": {
      "text/html": [
       "<div>\n",
       "<style scoped>\n",
       "    .dataframe tbody tr th:only-of-type {\n",
       "        vertical-align: middle;\n",
       "    }\n",
       "\n",
       "    .dataframe tbody tr th {\n",
       "        vertical-align: top;\n",
       "    }\n",
       "\n",
       "    .dataframe thead th {\n",
       "        text-align: right;\n",
       "    }\n",
       "</style>\n",
       "<table border=\"1\" class=\"dataframe\">\n",
       "  <thead>\n",
       "    <tr style=\"text-align: right;\">\n",
       "      <th></th>\n",
       "      <th>play pattern</th>\n",
       "      <th>x start location</th>\n",
       "      <th>y start location</th>\n",
       "      <th>duration</th>\n",
       "      <th>outcome</th>\n",
       "      <th>technique</th>\n",
       "      <th>first time</th>\n",
       "      <th>x gk position</th>\n",
       "      <th>y gk position</th>\n",
       "      <th>type of shot</th>\n",
       "      <th>num opponents within 5 yards</th>\n",
       "      <th>num opponents between shot and goal</th>\n",
       "      <th>Distance from goal</th>\n",
       "    </tr>\n",
       "    <tr>\n",
       "      <th>shot id</th>\n",
       "      <th></th>\n",
       "      <th></th>\n",
       "      <th></th>\n",
       "      <th></th>\n",
       "      <th></th>\n",
       "      <th></th>\n",
       "      <th></th>\n",
       "      <th></th>\n",
       "      <th></th>\n",
       "      <th></th>\n",
       "      <th></th>\n",
       "      <th></th>\n",
       "      <th></th>\n",
       "    </tr>\n",
       "  </thead>\n",
       "  <tbody>\n",
       "    <tr>\n",
       "      <th>8522d7b1-8efd-4400-9006-1c2d1327f41d</th>\n",
       "      <td>Regular Play</td>\n",
       "      <td>109.7</td>\n",
       "      <td>30.6</td>\n",
       "      <td>0.564551</td>\n",
       "      <td>0</td>\n",
       "      <td>Normal</td>\n",
       "      <td>True</td>\n",
       "      <td>117.7</td>\n",
       "      <td>37.1</td>\n",
       "      <td>Open Play</td>\n",
       "      <td>2</td>\n",
       "      <td>1</td>\n",
       "      <td>13.944533</td>\n",
       "    </tr>\n",
       "    <tr>\n",
       "      <th>fa3b6e06-dac2-4e77-81f7-20ff9429ad3a</th>\n",
       "      <td>From Throw In</td>\n",
       "      <td>87.5</td>\n",
       "      <td>31.7</td>\n",
       "      <td>1.201127</td>\n",
       "      <td>0</td>\n",
       "      <td>Normal</td>\n",
       "      <td>False</td>\n",
       "      <td>118.4</td>\n",
       "      <td>40.1</td>\n",
       "      <td>Open Play</td>\n",
       "      <td>2</td>\n",
       "      <td>1</td>\n",
       "      <td>33.543107</td>\n",
       "    </tr>\n",
       "    <tr>\n",
       "      <th>b70b5409-5781-4182-b31a-bad2c8e3e891</th>\n",
       "      <td>From Goal Kick</td>\n",
       "      <td>107.1</td>\n",
       "      <td>34.0</td>\n",
       "      <td>0.466900</td>\n",
       "      <td>0</td>\n",
       "      <td>Normal</td>\n",
       "      <td>False</td>\n",
       "      <td>117.6</td>\n",
       "      <td>37.5</td>\n",
       "      <td>Open Play</td>\n",
       "      <td>6</td>\n",
       "      <td>1</td>\n",
       "      <td>14.227087</td>\n",
       "    </tr>\n",
       "    <tr>\n",
       "      <th>e3fc1a0b-d68a-4ffb-95bf-4f97c075c049</th>\n",
       "      <td>From Corner</td>\n",
       "      <td>116.4</td>\n",
       "      <td>38.9</td>\n",
       "      <td>0.323872</td>\n",
       "      <td>1</td>\n",
       "      <td>Volley</td>\n",
       "      <td>True</td>\n",
       "      <td>119.7</td>\n",
       "      <td>38.5</td>\n",
       "      <td>Open Play</td>\n",
       "      <td>2</td>\n",
       "      <td>1</td>\n",
       "      <td>3.764306</td>\n",
       "    </tr>\n",
       "    <tr>\n",
       "      <th>97b07723-77e9-4ece-aa90-b6c975b0dbc1</th>\n",
       "      <td>From Corner</td>\n",
       "      <td>97.5</td>\n",
       "      <td>33.8</td>\n",
       "      <td>0.268600</td>\n",
       "      <td>0</td>\n",
       "      <td>Volley</td>\n",
       "      <td>True</td>\n",
       "      <td>119.3</td>\n",
       "      <td>40.0</td>\n",
       "      <td>Open Play</td>\n",
       "      <td>2</td>\n",
       "      <td>1</td>\n",
       "      <td>23.338595</td>\n",
       "    </tr>\n",
       "    <tr>\n",
       "      <th>...</th>\n",
       "      <td>...</td>\n",
       "      <td>...</td>\n",
       "      <td>...</td>\n",
       "      <td>...</td>\n",
       "      <td>...</td>\n",
       "      <td>...</td>\n",
       "      <td>...</td>\n",
       "      <td>...</td>\n",
       "      <td>...</td>\n",
       "      <td>...</td>\n",
       "      <td>...</td>\n",
       "      <td>...</td>\n",
       "      <td>...</td>\n",
       "    </tr>\n",
       "    <tr>\n",
       "      <th>e05a628b-87f5-49b1-980a-71e3f8d59929</th>\n",
       "      <td>From Free Kick</td>\n",
       "      <td>114.9</td>\n",
       "      <td>37.3</td>\n",
       "      <td>0.703500</td>\n",
       "      <td>1</td>\n",
       "      <td>Normal</td>\n",
       "      <td>False</td>\n",
       "      <td>118.9</td>\n",
       "      <td>39.0</td>\n",
       "      <td>Open Play</td>\n",
       "      <td>5</td>\n",
       "      <td>0</td>\n",
       "      <td>5.770615</td>\n",
       "    </tr>\n",
       "    <tr>\n",
       "      <th>0db9c930-e402-4ab3-bf98-bcd888b1acf7</th>\n",
       "      <td>Regular Play</td>\n",
       "      <td>108.4</td>\n",
       "      <td>25.7</td>\n",
       "      <td>0.596500</td>\n",
       "      <td>0</td>\n",
       "      <td>Normal</td>\n",
       "      <td>True</td>\n",
       "      <td>115.2</td>\n",
       "      <td>32.7</td>\n",
       "      <td>Open Play</td>\n",
       "      <td>0</td>\n",
       "      <td>1</td>\n",
       "      <td>18.413310</td>\n",
       "    </tr>\n",
       "    <tr>\n",
       "      <th>6ab038e3-9e39-4bb9-a823-6221d6a16542</th>\n",
       "      <td>Regular Play</td>\n",
       "      <td>114.0</td>\n",
       "      <td>39.6</td>\n",
       "      <td>0.296701</td>\n",
       "      <td>0</td>\n",
       "      <td>Normal</td>\n",
       "      <td>False</td>\n",
       "      <td>115.0</td>\n",
       "      <td>35.1</td>\n",
       "      <td>Open Play</td>\n",
       "      <td>2</td>\n",
       "      <td>1</td>\n",
       "      <td>6.013319</td>\n",
       "    </tr>\n",
       "    <tr>\n",
       "      <th>5012da5d-c22e-4d65-95bb-7c88b1d23432</th>\n",
       "      <td>From Throw In</td>\n",
       "      <td>97.1</td>\n",
       "      <td>51.0</td>\n",
       "      <td>1.001687</td>\n",
       "      <td>1</td>\n",
       "      <td>Volley</td>\n",
       "      <td>True</td>\n",
       "      <td>118.3</td>\n",
       "      <td>40.8</td>\n",
       "      <td>Open Play</td>\n",
       "      <td>0</td>\n",
       "      <td>1</td>\n",
       "      <td>25.404921</td>\n",
       "    </tr>\n",
       "    <tr>\n",
       "      <th>e85e5685-24b5-459e-ba79-7339ed210c31</th>\n",
       "      <td>From Keeper</td>\n",
       "      <td>108.1</td>\n",
       "      <td>26.6</td>\n",
       "      <td>0.511299</td>\n",
       "      <td>0</td>\n",
       "      <td>Normal</td>\n",
       "      <td>False</td>\n",
       "      <td>118.3</td>\n",
       "      <td>38.3</td>\n",
       "      <td>Open Play</td>\n",
       "      <td>2</td>\n",
       "      <td>0</td>\n",
       "      <td>17.921216</td>\n",
       "    </tr>\n",
       "  </tbody>\n",
       "</table>\n",
       "<p>8512 rows × 13 columns</p>\n",
       "</div>"
      ],
      "text/plain": [
       "                                        play pattern  x start location  \\\n",
       "shot id                                                                  \n",
       "8522d7b1-8efd-4400-9006-1c2d1327f41d    Regular Play             109.7   \n",
       "fa3b6e06-dac2-4e77-81f7-20ff9429ad3a   From Throw In              87.5   \n",
       "b70b5409-5781-4182-b31a-bad2c8e3e891  From Goal Kick             107.1   \n",
       "e3fc1a0b-d68a-4ffb-95bf-4f97c075c049     From Corner             116.4   \n",
       "97b07723-77e9-4ece-aa90-b6c975b0dbc1     From Corner              97.5   \n",
       "...                                              ...               ...   \n",
       "e05a628b-87f5-49b1-980a-71e3f8d59929  From Free Kick             114.9   \n",
       "0db9c930-e402-4ab3-bf98-bcd888b1acf7    Regular Play             108.4   \n",
       "6ab038e3-9e39-4bb9-a823-6221d6a16542    Regular Play             114.0   \n",
       "5012da5d-c22e-4d65-95bb-7c88b1d23432   From Throw In              97.1   \n",
       "e85e5685-24b5-459e-ba79-7339ed210c31     From Keeper             108.1   \n",
       "\n",
       "                                      y start location  duration  outcome  \\\n",
       "shot id                                                                     \n",
       "8522d7b1-8efd-4400-9006-1c2d1327f41d              30.6  0.564551        0   \n",
       "fa3b6e06-dac2-4e77-81f7-20ff9429ad3a              31.7  1.201127        0   \n",
       "b70b5409-5781-4182-b31a-bad2c8e3e891              34.0  0.466900        0   \n",
       "e3fc1a0b-d68a-4ffb-95bf-4f97c075c049              38.9  0.323872        1   \n",
       "97b07723-77e9-4ece-aa90-b6c975b0dbc1              33.8  0.268600        0   \n",
       "...                                                ...       ...      ...   \n",
       "e05a628b-87f5-49b1-980a-71e3f8d59929              37.3  0.703500        1   \n",
       "0db9c930-e402-4ab3-bf98-bcd888b1acf7              25.7  0.596500        0   \n",
       "6ab038e3-9e39-4bb9-a823-6221d6a16542              39.6  0.296701        0   \n",
       "5012da5d-c22e-4d65-95bb-7c88b1d23432              51.0  1.001687        1   \n",
       "e85e5685-24b5-459e-ba79-7339ed210c31              26.6  0.511299        0   \n",
       "\n",
       "                                     technique  first time  x gk position  \\\n",
       "shot id                                                                     \n",
       "8522d7b1-8efd-4400-9006-1c2d1327f41d    Normal        True          117.7   \n",
       "fa3b6e06-dac2-4e77-81f7-20ff9429ad3a    Normal       False          118.4   \n",
       "b70b5409-5781-4182-b31a-bad2c8e3e891    Normal       False          117.6   \n",
       "e3fc1a0b-d68a-4ffb-95bf-4f97c075c049    Volley        True          119.7   \n",
       "97b07723-77e9-4ece-aa90-b6c975b0dbc1    Volley        True          119.3   \n",
       "...                                        ...         ...            ...   \n",
       "e05a628b-87f5-49b1-980a-71e3f8d59929    Normal       False          118.9   \n",
       "0db9c930-e402-4ab3-bf98-bcd888b1acf7    Normal        True          115.2   \n",
       "6ab038e3-9e39-4bb9-a823-6221d6a16542    Normal       False          115.0   \n",
       "5012da5d-c22e-4d65-95bb-7c88b1d23432    Volley        True          118.3   \n",
       "e85e5685-24b5-459e-ba79-7339ed210c31    Normal       False          118.3   \n",
       "\n",
       "                                      y gk position type of shot  \\\n",
       "shot id                                                            \n",
       "8522d7b1-8efd-4400-9006-1c2d1327f41d           37.1    Open Play   \n",
       "fa3b6e06-dac2-4e77-81f7-20ff9429ad3a           40.1    Open Play   \n",
       "b70b5409-5781-4182-b31a-bad2c8e3e891           37.5    Open Play   \n",
       "e3fc1a0b-d68a-4ffb-95bf-4f97c075c049           38.5    Open Play   \n",
       "97b07723-77e9-4ece-aa90-b6c975b0dbc1           40.0    Open Play   \n",
       "...                                             ...          ...   \n",
       "e05a628b-87f5-49b1-980a-71e3f8d59929           39.0    Open Play   \n",
       "0db9c930-e402-4ab3-bf98-bcd888b1acf7           32.7    Open Play   \n",
       "6ab038e3-9e39-4bb9-a823-6221d6a16542           35.1    Open Play   \n",
       "5012da5d-c22e-4d65-95bb-7c88b1d23432           40.8    Open Play   \n",
       "e85e5685-24b5-459e-ba79-7339ed210c31           38.3    Open Play   \n",
       "\n",
       "                                      num opponents within 5 yards  \\\n",
       "shot id                                                              \n",
       "8522d7b1-8efd-4400-9006-1c2d1327f41d                             2   \n",
       "fa3b6e06-dac2-4e77-81f7-20ff9429ad3a                             2   \n",
       "b70b5409-5781-4182-b31a-bad2c8e3e891                             6   \n",
       "e3fc1a0b-d68a-4ffb-95bf-4f97c075c049                             2   \n",
       "97b07723-77e9-4ece-aa90-b6c975b0dbc1                             2   \n",
       "...                                                            ...   \n",
       "e05a628b-87f5-49b1-980a-71e3f8d59929                             5   \n",
       "0db9c930-e402-4ab3-bf98-bcd888b1acf7                             0   \n",
       "6ab038e3-9e39-4bb9-a823-6221d6a16542                             2   \n",
       "5012da5d-c22e-4d65-95bb-7c88b1d23432                             0   \n",
       "e85e5685-24b5-459e-ba79-7339ed210c31                             2   \n",
       "\n",
       "                                      num opponents between shot and goal  \\\n",
       "shot id                                                                     \n",
       "8522d7b1-8efd-4400-9006-1c2d1327f41d                                    1   \n",
       "fa3b6e06-dac2-4e77-81f7-20ff9429ad3a                                    1   \n",
       "b70b5409-5781-4182-b31a-bad2c8e3e891                                    1   \n",
       "e3fc1a0b-d68a-4ffb-95bf-4f97c075c049                                    1   \n",
       "97b07723-77e9-4ece-aa90-b6c975b0dbc1                                    1   \n",
       "...                                                                   ...   \n",
       "e05a628b-87f5-49b1-980a-71e3f8d59929                                    0   \n",
       "0db9c930-e402-4ab3-bf98-bcd888b1acf7                                    1   \n",
       "6ab038e3-9e39-4bb9-a823-6221d6a16542                                    1   \n",
       "5012da5d-c22e-4d65-95bb-7c88b1d23432                                    1   \n",
       "e85e5685-24b5-459e-ba79-7339ed210c31                                    0   \n",
       "\n",
       "                                      Distance from goal  \n",
       "shot id                                                   \n",
       "8522d7b1-8efd-4400-9006-1c2d1327f41d           13.944533  \n",
       "fa3b6e06-dac2-4e77-81f7-20ff9429ad3a           33.543107  \n",
       "b70b5409-5781-4182-b31a-bad2c8e3e891           14.227087  \n",
       "e3fc1a0b-d68a-4ffb-95bf-4f97c075c049            3.764306  \n",
       "97b07723-77e9-4ece-aa90-b6c975b0dbc1           23.338595  \n",
       "...                                                  ...  \n",
       "e05a628b-87f5-49b1-980a-71e3f8d59929            5.770615  \n",
       "0db9c930-e402-4ab3-bf98-bcd888b1acf7           18.413310  \n",
       "6ab038e3-9e39-4bb9-a823-6221d6a16542            6.013319  \n",
       "5012da5d-c22e-4d65-95bb-7c88b1d23432           25.404921  \n",
       "e85e5685-24b5-459e-ba79-7339ed210c31           17.921216  \n",
       "\n",
       "[8512 rows x 13 columns]"
      ]
     },
     "execution_count": 36,
     "metadata": {},
     "output_type": "execute_result"
    }
   ],
   "source": [
    "all_la_liga_shots"
   ]
  },
  {
   "cell_type": "markdown",
   "metadata": {},
   "source": [
    "### 2.2 Create a stratified training and test set"
   ]
  },
  {
   "cell_type": "code",
   "execution_count": 42,
   "metadata": {},
   "outputs": [],
   "source": [
    "data_split = StratifiedShuffleSplit(n_splits=1, test_size=0.2, random_state=42)\n",
    "data_split_generator = data_split.split(all_la_liga_shots, all_la_liga_shots[\"outcome\"])\n",
    "\n",
    "for training_indices, test_indices in data_split_generator:\n",
    "    shot_training_set = all_la_liga_shots_copy.iloc[training_indices]\n",
    "    shot_test_set = all_la_liga_shots_copy.iloc[test_indices]"
   ]
  },
  {
   "cell_type": "code",
   "execution_count": 45,
   "metadata": {},
   "outputs": [
    {
     "data": {
      "text/html": [
       "<div>\n",
       "<style scoped>\n",
       "    .dataframe tbody tr th:only-of-type {\n",
       "        vertical-align: middle;\n",
       "    }\n",
       "\n",
       "    .dataframe tbody tr th {\n",
       "        vertical-align: top;\n",
       "    }\n",
       "\n",
       "    .dataframe thead th {\n",
       "        text-align: right;\n",
       "    }\n",
       "</style>\n",
       "<table border=\"1\" class=\"dataframe\">\n",
       "  <thead>\n",
       "    <tr style=\"text-align: right;\">\n",
       "      <th></th>\n",
       "      <th>play pattern</th>\n",
       "      <th>x start location</th>\n",
       "      <th>y start location</th>\n",
       "      <th>duration</th>\n",
       "      <th>outcome</th>\n",
       "      <th>technique</th>\n",
       "      <th>first time</th>\n",
       "      <th>x gk position</th>\n",
       "      <th>y gk position</th>\n",
       "      <th>type of shot</th>\n",
       "      <th>num opponents within 5 yards</th>\n",
       "      <th>num opponents between shot and goal</th>\n",
       "      <th>Distance from goal</th>\n",
       "    </tr>\n",
       "    <tr>\n",
       "      <th>shot id</th>\n",
       "      <th></th>\n",
       "      <th></th>\n",
       "      <th></th>\n",
       "      <th></th>\n",
       "      <th></th>\n",
       "      <th></th>\n",
       "      <th></th>\n",
       "      <th></th>\n",
       "      <th></th>\n",
       "      <th></th>\n",
       "      <th></th>\n",
       "      <th></th>\n",
       "      <th></th>\n",
       "    </tr>\n",
       "  </thead>\n",
       "  <tbody>\n",
       "    <tr>\n",
       "      <th>af41bc3d-f586-402d-83f9-07e1e50913a3</th>\n",
       "      <td>Regular Play</td>\n",
       "      <td>108.7</td>\n",
       "      <td>22.2</td>\n",
       "      <td>0.316900</td>\n",
       "      <td>0</td>\n",
       "      <td>Normal</td>\n",
       "      <td>True</td>\n",
       "      <td>118.7</td>\n",
       "      <td>35.4</td>\n",
       "      <td>Open Play</td>\n",
       "      <td>1</td>\n",
       "      <td>0</td>\n",
       "      <td>21.083880</td>\n",
       "    </tr>\n",
       "    <tr>\n",
       "      <th>0683b203-c433-4825-845b-7c960d7c52e8</th>\n",
       "      <td>From Free Kick</td>\n",
       "      <td>107.4</td>\n",
       "      <td>49.2</td>\n",
       "      <td>0.841101</td>\n",
       "      <td>1</td>\n",
       "      <td>Half Volley</td>\n",
       "      <td>True</td>\n",
       "      <td>118.7</td>\n",
       "      <td>41.8</td>\n",
       "      <td>Open Play</td>\n",
       "      <td>1</td>\n",
       "      <td>2</td>\n",
       "      <td>15.601282</td>\n",
       "    </tr>\n",
       "    <tr>\n",
       "      <th>ab81c24c-c1bd-42b6-bf93-a7dc60502027</th>\n",
       "      <td>Regular Play</td>\n",
       "      <td>113.0</td>\n",
       "      <td>41.3</td>\n",
       "      <td>1.004000</td>\n",
       "      <td>0</td>\n",
       "      <td>Normal</td>\n",
       "      <td>False</td>\n",
       "      <td>119.4</td>\n",
       "      <td>39.9</td>\n",
       "      <td>Open Play</td>\n",
       "      <td>4</td>\n",
       "      <td>1</td>\n",
       "      <td>7.119691</td>\n",
       "    </tr>\n",
       "    <tr>\n",
       "      <th>a28252f8-fa43-432c-be76-b48ee1e4fcce</th>\n",
       "      <td>From Free Kick</td>\n",
       "      <td>103.4</td>\n",
       "      <td>44.7</td>\n",
       "      <td>1.052700</td>\n",
       "      <td>0</td>\n",
       "      <td>Normal</td>\n",
       "      <td>True</td>\n",
       "      <td>118.5</td>\n",
       "      <td>41.8</td>\n",
       "      <td>Open Play</td>\n",
       "      <td>2</td>\n",
       "      <td>1</td>\n",
       "      <td>17.252536</td>\n",
       "    </tr>\n",
       "    <tr>\n",
       "      <th>940ce10a-9b48-45bb-9989-05f604b4f81c</th>\n",
       "      <td>From Throw In</td>\n",
       "      <td>86.1</td>\n",
       "      <td>37.7</td>\n",
       "      <td>0.200800</td>\n",
       "      <td>0</td>\n",
       "      <td>Normal</td>\n",
       "      <td>False</td>\n",
       "      <td>114.7</td>\n",
       "      <td>40.5</td>\n",
       "      <td>Open Play</td>\n",
       "      <td>0</td>\n",
       "      <td>1</td>\n",
       "      <td>33.977934</td>\n",
       "    </tr>\n",
       "    <tr>\n",
       "      <th>...</th>\n",
       "      <td>...</td>\n",
       "      <td>...</td>\n",
       "      <td>...</td>\n",
       "      <td>...</td>\n",
       "      <td>...</td>\n",
       "      <td>...</td>\n",
       "      <td>...</td>\n",
       "      <td>...</td>\n",
       "      <td>...</td>\n",
       "      <td>...</td>\n",
       "      <td>...</td>\n",
       "      <td>...</td>\n",
       "      <td>...</td>\n",
       "    </tr>\n",
       "    <tr>\n",
       "      <th>d4975092-9732-49a5-a035-05bebdefc0a7</th>\n",
       "      <td>From Corner</td>\n",
       "      <td>94.7</td>\n",
       "      <td>38.2</td>\n",
       "      <td>0.553300</td>\n",
       "      <td>0</td>\n",
       "      <td>Half Volley</td>\n",
       "      <td>True</td>\n",
       "      <td>119.0</td>\n",
       "      <td>39.9</td>\n",
       "      <td>Open Play</td>\n",
       "      <td>2</td>\n",
       "      <td>3</td>\n",
       "      <td>25.363951</td>\n",
       "    </tr>\n",
       "    <tr>\n",
       "      <th>3fd1d661-766a-406e-b49a-672b483ffb90</th>\n",
       "      <td>From Keeper</td>\n",
       "      <td>97.1</td>\n",
       "      <td>33.7</td>\n",
       "      <td>0.584300</td>\n",
       "      <td>0</td>\n",
       "      <td>Normal</td>\n",
       "      <td>False</td>\n",
       "      <td>117.0</td>\n",
       "      <td>40.1</td>\n",
       "      <td>Open Play</td>\n",
       "      <td>2</td>\n",
       "      <td>1</td>\n",
       "      <td>23.750789</td>\n",
       "    </tr>\n",
       "    <tr>\n",
       "      <th>4ee965b4-8d6b-40b7-9caa-1b5453c92b36</th>\n",
       "      <td>Regular Play</td>\n",
       "      <td>107.1</td>\n",
       "      <td>43.4</td>\n",
       "      <td>0.472400</td>\n",
       "      <td>0</td>\n",
       "      <td>Lob</td>\n",
       "      <td>True</td>\n",
       "      <td>113.4</td>\n",
       "      <td>42.2</td>\n",
       "      <td>Open Play</td>\n",
       "      <td>1</td>\n",
       "      <td>0</td>\n",
       "      <td>13.340540</td>\n",
       "    </tr>\n",
       "    <tr>\n",
       "      <th>0534467d-c1f5-4db4-aa76-aa315d6d4e2d</th>\n",
       "      <td>From Throw In</td>\n",
       "      <td>81.7</td>\n",
       "      <td>42.6</td>\n",
       "      <td>1.376400</td>\n",
       "      <td>0</td>\n",
       "      <td>Normal</td>\n",
       "      <td>False</td>\n",
       "      <td>119.2</td>\n",
       "      <td>41.5</td>\n",
       "      <td>Open Play</td>\n",
       "      <td>0</td>\n",
       "      <td>1</td>\n",
       "      <td>38.388149</td>\n",
       "    </tr>\n",
       "    <tr>\n",
       "      <th>0d1d89db-6e58-4384-ac4a-9ca257694c8b</th>\n",
       "      <td>Other</td>\n",
       "      <td>108.0</td>\n",
       "      <td>40.1</td>\n",
       "      <td>0.355219</td>\n",
       "      <td>1</td>\n",
       "      <td>Normal</td>\n",
       "      <td>False</td>\n",
       "      <td>120.0</td>\n",
       "      <td>40.0</td>\n",
       "      <td>Penalty</td>\n",
       "      <td>0</td>\n",
       "      <td>0</td>\n",
       "      <td>12.000417</td>\n",
       "    </tr>\n",
       "  </tbody>\n",
       "</table>\n",
       "<p>6809 rows × 13 columns</p>\n",
       "</div>"
      ],
      "text/plain": [
       "                                        play pattern  x start location  \\\n",
       "shot id                                                                  \n",
       "af41bc3d-f586-402d-83f9-07e1e50913a3    Regular Play             108.7   \n",
       "0683b203-c433-4825-845b-7c960d7c52e8  From Free Kick             107.4   \n",
       "ab81c24c-c1bd-42b6-bf93-a7dc60502027    Regular Play             113.0   \n",
       "a28252f8-fa43-432c-be76-b48ee1e4fcce  From Free Kick             103.4   \n",
       "940ce10a-9b48-45bb-9989-05f604b4f81c   From Throw In              86.1   \n",
       "...                                              ...               ...   \n",
       "d4975092-9732-49a5-a035-05bebdefc0a7     From Corner              94.7   \n",
       "3fd1d661-766a-406e-b49a-672b483ffb90     From Keeper              97.1   \n",
       "4ee965b4-8d6b-40b7-9caa-1b5453c92b36    Regular Play             107.1   \n",
       "0534467d-c1f5-4db4-aa76-aa315d6d4e2d   From Throw In              81.7   \n",
       "0d1d89db-6e58-4384-ac4a-9ca257694c8b           Other             108.0   \n",
       "\n",
       "                                      y start location  duration  outcome  \\\n",
       "shot id                                                                     \n",
       "af41bc3d-f586-402d-83f9-07e1e50913a3              22.2  0.316900        0   \n",
       "0683b203-c433-4825-845b-7c960d7c52e8              49.2  0.841101        1   \n",
       "ab81c24c-c1bd-42b6-bf93-a7dc60502027              41.3  1.004000        0   \n",
       "a28252f8-fa43-432c-be76-b48ee1e4fcce              44.7  1.052700        0   \n",
       "940ce10a-9b48-45bb-9989-05f604b4f81c              37.7  0.200800        0   \n",
       "...                                                ...       ...      ...   \n",
       "d4975092-9732-49a5-a035-05bebdefc0a7              38.2  0.553300        0   \n",
       "3fd1d661-766a-406e-b49a-672b483ffb90              33.7  0.584300        0   \n",
       "4ee965b4-8d6b-40b7-9caa-1b5453c92b36              43.4  0.472400        0   \n",
       "0534467d-c1f5-4db4-aa76-aa315d6d4e2d              42.6  1.376400        0   \n",
       "0d1d89db-6e58-4384-ac4a-9ca257694c8b              40.1  0.355219        1   \n",
       "\n",
       "                                        technique  first time  x gk position  \\\n",
       "shot id                                                                        \n",
       "af41bc3d-f586-402d-83f9-07e1e50913a3       Normal        True          118.7   \n",
       "0683b203-c433-4825-845b-7c960d7c52e8  Half Volley        True          118.7   \n",
       "ab81c24c-c1bd-42b6-bf93-a7dc60502027       Normal       False          119.4   \n",
       "a28252f8-fa43-432c-be76-b48ee1e4fcce       Normal        True          118.5   \n",
       "940ce10a-9b48-45bb-9989-05f604b4f81c       Normal       False          114.7   \n",
       "...                                           ...         ...            ...   \n",
       "d4975092-9732-49a5-a035-05bebdefc0a7  Half Volley        True          119.0   \n",
       "3fd1d661-766a-406e-b49a-672b483ffb90       Normal       False          117.0   \n",
       "4ee965b4-8d6b-40b7-9caa-1b5453c92b36          Lob        True          113.4   \n",
       "0534467d-c1f5-4db4-aa76-aa315d6d4e2d       Normal       False          119.2   \n",
       "0d1d89db-6e58-4384-ac4a-9ca257694c8b       Normal       False          120.0   \n",
       "\n",
       "                                      y gk position type of shot  \\\n",
       "shot id                                                            \n",
       "af41bc3d-f586-402d-83f9-07e1e50913a3           35.4    Open Play   \n",
       "0683b203-c433-4825-845b-7c960d7c52e8           41.8    Open Play   \n",
       "ab81c24c-c1bd-42b6-bf93-a7dc60502027           39.9    Open Play   \n",
       "a28252f8-fa43-432c-be76-b48ee1e4fcce           41.8    Open Play   \n",
       "940ce10a-9b48-45bb-9989-05f604b4f81c           40.5    Open Play   \n",
       "...                                             ...          ...   \n",
       "d4975092-9732-49a5-a035-05bebdefc0a7           39.9    Open Play   \n",
       "3fd1d661-766a-406e-b49a-672b483ffb90           40.1    Open Play   \n",
       "4ee965b4-8d6b-40b7-9caa-1b5453c92b36           42.2    Open Play   \n",
       "0534467d-c1f5-4db4-aa76-aa315d6d4e2d           41.5    Open Play   \n",
       "0d1d89db-6e58-4384-ac4a-9ca257694c8b           40.0      Penalty   \n",
       "\n",
       "                                      num opponents within 5 yards  \\\n",
       "shot id                                                              \n",
       "af41bc3d-f586-402d-83f9-07e1e50913a3                             1   \n",
       "0683b203-c433-4825-845b-7c960d7c52e8                             1   \n",
       "ab81c24c-c1bd-42b6-bf93-a7dc60502027                             4   \n",
       "a28252f8-fa43-432c-be76-b48ee1e4fcce                             2   \n",
       "940ce10a-9b48-45bb-9989-05f604b4f81c                             0   \n",
       "...                                                            ...   \n",
       "d4975092-9732-49a5-a035-05bebdefc0a7                             2   \n",
       "3fd1d661-766a-406e-b49a-672b483ffb90                             2   \n",
       "4ee965b4-8d6b-40b7-9caa-1b5453c92b36                             1   \n",
       "0534467d-c1f5-4db4-aa76-aa315d6d4e2d                             0   \n",
       "0d1d89db-6e58-4384-ac4a-9ca257694c8b                             0   \n",
       "\n",
       "                                      num opponents between shot and goal  \\\n",
       "shot id                                                                     \n",
       "af41bc3d-f586-402d-83f9-07e1e50913a3                                    0   \n",
       "0683b203-c433-4825-845b-7c960d7c52e8                                    2   \n",
       "ab81c24c-c1bd-42b6-bf93-a7dc60502027                                    1   \n",
       "a28252f8-fa43-432c-be76-b48ee1e4fcce                                    1   \n",
       "940ce10a-9b48-45bb-9989-05f604b4f81c                                    1   \n",
       "...                                                                   ...   \n",
       "d4975092-9732-49a5-a035-05bebdefc0a7                                    3   \n",
       "3fd1d661-766a-406e-b49a-672b483ffb90                                    1   \n",
       "4ee965b4-8d6b-40b7-9caa-1b5453c92b36                                    0   \n",
       "0534467d-c1f5-4db4-aa76-aa315d6d4e2d                                    1   \n",
       "0d1d89db-6e58-4384-ac4a-9ca257694c8b                                    0   \n",
       "\n",
       "                                      Distance from goal  \n",
       "shot id                                                   \n",
       "af41bc3d-f586-402d-83f9-07e1e50913a3           21.083880  \n",
       "0683b203-c433-4825-845b-7c960d7c52e8           15.601282  \n",
       "ab81c24c-c1bd-42b6-bf93-a7dc60502027            7.119691  \n",
       "a28252f8-fa43-432c-be76-b48ee1e4fcce           17.252536  \n",
       "940ce10a-9b48-45bb-9989-05f604b4f81c           33.977934  \n",
       "...                                                  ...  \n",
       "d4975092-9732-49a5-a035-05bebdefc0a7           25.363951  \n",
       "3fd1d661-766a-406e-b49a-672b483ffb90           23.750789  \n",
       "4ee965b4-8d6b-40b7-9caa-1b5453c92b36           13.340540  \n",
       "0534467d-c1f5-4db4-aa76-aa315d6d4e2d           38.388149  \n",
       "0d1d89db-6e58-4384-ac4a-9ca257694c8b           12.000417  \n",
       "\n",
       "[6809 rows x 13 columns]"
      ]
     },
     "execution_count": 45,
     "metadata": {},
     "output_type": "execute_result"
    }
   ],
   "source": [
    "shot_training_set"
   ]
  },
  {
   "cell_type": "markdown",
   "metadata": {},
   "source": [
    "### 2.3 Visualizing relationships\n",
    "\n",
    "Below, I write a function, `plot_percent_goal_vs_attr` to plot the percentage of goals scored by desired **categorical** variable."
   ]
  },
  {
   "cell_type": "code",
   "execution_count": 46,
   "metadata": {},
   "outputs": [],
   "source": [
    "def plot_percent_goal_vs_attr(attribute, type_chart = \"line\"):\n",
    "    \"\"\"\n",
    "    Function which plots the percentage of goals scored by desired categorical attribute in our shot training set.\n",
    "    \n",
    "    Arguments\n",
    "    attribute - (string) name of categorical attribute in shot training set data frame\n",
    "    \"\"\"\n",
    "    shot_training_set_copy = shot_training_set.copy() \n",
    "    \n",
    "    attr_x = attribute\n",
    "    attr_y = \"outcome\"\n",
    "    attr_agg = \"shot id\"\n",
    "    attrs = [attr_x, attr_y, attr_agg]\n",
    "\n",
    "    outcomes_by_attribute = shot_training_set_copy.reset_index()[attrs]   \\\n",
    "                            .groupby([attr_x, attr_y])               \\\n",
    "                            .count()                                 \\\n",
    "                            .unstack()                               \\\n",
    "                            .fillna(0)\n",
    "    \n",
    "    outcomes_by_attribute = outcomes_by_attribute[attr_agg].reset_index()\n",
    "    outcomes_by_attribute[\"Percent Goal\"] = outcomes_by_attribute[1] * 100  / outcomes_by_attribute.sum(axis = 1)\n",
    "    outcomes_by_attribute = outcomes_by_attribute.rename(columns={0: 'No Goal', 1: 'Goal'})\n",
    "    \n",
    "    if type_chart == \"line\":\n",
    "        chart = alt.Chart(outcomes_by_attribute).mark_line()\n",
    "    elif type_chart == \"bar\":\n",
    "        chart = alt.Chart(outcomes_by_attribute).mark_bar()\n",
    "    \n",
    "    chart = chart.encode(\n",
    "        alt.X('{}:N'.format(attr_x), axis = alt.Axis(title = attr_x, labelAngle = 0)),\n",
    "        alt.Y('Percent Goal:Q', axis = alt.Axis(title = 'Percent Goal'))\n",
    "    ).properties(width = 850, height = 300, \n",
    "             title = \"Percent Goal vs {}\".format(attr_x)\n",
    "    ).configure_axis(labelFontSize = 13, titleFontSize = 15\n",
    "    ).configure_title(fontSize = 16)\n",
    "    \n",
    "    return chart"
   ]
  },
  {
   "cell_type": "markdown",
   "metadata": {},
   "source": [
    "#### 2.3.1 Percent goals by num opponents between shot and goal"
   ]
  },
  {
   "cell_type": "markdown",
   "metadata": {},
   "source": [
    "Now we can use our function to plot the desired variables:"
   ]
  },
  {
   "cell_type": "code",
   "execution_count": 48,
   "metadata": {},
   "outputs": [
    {
     "data": {
      "application/vnd.vegalite.v3+json": {
       "$schema": "https://vega.github.io/schema/vega-lite/v3.4.0.json",
       "config": {
        "axis": {
         "labelFontSize": 13,
         "titleFontSize": 15
        },
        "mark": {
         "tooltip": null
        },
        "title": {
         "fontSize": 16
        },
        "view": {
         "height": 300,
         "width": 400
        }
       },
       "data": {
        "name": "data-7476ba2bf7e296ad6ef4435360266014"
       },
       "datasets": {
        "data-7476ba2bf7e296ad6ef4435360266014": [
         {
          "Goal": 702,
          "No Goal": 2966,
          "Percent Goal": 19.138495092693567,
          "num opponents between shot and goal": 0
         },
         {
          "Goal": 170,
          "No Goal": 1872,
          "Percent Goal": 8.3210964268233,
          "num opponents between shot and goal": 1
         },
         {
          "Goal": 42,
          "No Goal": 592,
          "Percent Goal": 6.60377358490566,
          "num opponents between shot and goal": 2
         },
         {
          "Goal": 21,
          "No Goal": 251,
          "Percent Goal": 7.636363636363637,
          "num opponents between shot and goal": 3
         },
         {
          "Goal": 8,
          "No Goal": 115,
          "Percent Goal": 6.299212598425197,
          "num opponents between shot and goal": 4
         },
         {
          "Goal": 4,
          "No Goal": 48,
          "Percent Goal": 7.017543859649122,
          "num opponents between shot and goal": 5
         },
         {
          "Goal": 3,
          "No Goal": 13,
          "Percent Goal": 13.636363636363637,
          "num opponents between shot and goal": 6
         },
         {
          "Goal": 0,
          "No Goal": 1,
          "Percent Goal": 0,
          "num opponents between shot and goal": 7
         },
         {
          "Goal": 0,
          "No Goal": 1,
          "Percent Goal": 0,
          "num opponents between shot and goal": 8
         }
        ]
       },
       "encoding": {
        "x": {
         "axis": {
          "labelAngle": 0,
          "title": "num opponents between shot and goal"
         },
         "field": "num opponents between shot and goal",
         "type": "nominal"
        },
        "y": {
         "axis": {
          "title": "Percent Goal"
         },
         "field": "Percent Goal",
         "type": "quantitative"
        }
       },
       "height": 300,
       "mark": "bar",
       "title": "Percent Goal vs num opponents between shot and goal",
       "width": 850
      },
      "image/png": "[encoded data removed]",
      "text/plain": [
       "<VegaLite 3 object>\n",
       "\n",
       "If you see this message, it means the renderer has not been properly enabled\n",
       "for the frontend that you are using. For more information, see\n",
       "https://altair-viz.github.io/user_guide/troubleshooting.html\n"
      ]
     },
     "execution_count": 48,
     "metadata": {},
     "output_type": "execute_result"
    }
   ],
   "source": [
    "plot_percent_goal_vs_attr(\"num opponents between shot and goal\", \"bar\")"
   ]
  },
  {
   "cell_type": "markdown",
   "metadata": {},
   "source": [
    "**Comments:**\n",
    "\n",
    "As expected, in general, the rate of goals scored decreases as more opponents are between the shot location and the goal. Interestingly, there is a bizarre peak at 6 opponents between shot and goal."
   ]
  },
  {
   "cell_type": "markdown",
   "metadata": {},
   "source": [
    "#### 2.3.2 Percent goals by num opponents within 5 yards"
   ]
  },
  {
   "cell_type": "code",
   "execution_count": 50,
   "metadata": {},
   "outputs": [
    {
     "data": {
      "application/vnd.vegalite.v3+json": {
       "$schema": "https://vega.github.io/schema/vega-lite/v3.4.0.json",
       "config": {
        "axis": {
         "labelFontSize": 13,
         "titleFontSize": 15
        },
        "mark": {
         "tooltip": null
        },
        "title": {
         "fontSize": 16
        },
        "view": {
         "height": 300,
         "width": 400
        }
       },
       "data": {
        "name": "data-7bdc292d3c229e3ee514f180c4e53143"
       },
       "datasets": {
        "data-7bdc292d3c229e3ee514f180c4e53143": [
         {
          "Goal": 214,
          "No Goal": 1176,
          "Percent Goal": 15.39568345323741,
          "num opponents within 5 yards": 0
         },
         {
          "Goal": 329,
          "No Goal": 1991,
          "Percent Goal": 14.174924601464886,
          "num opponents within 5 yards": 1
         },
         {
          "Goal": 248,
          "No Goal": 1647,
          "Percent Goal": 13.073273589878756,
          "num opponents within 5 yards": 2
         },
         {
          "Goal": 112,
          "No Goal": 688,
          "Percent Goal": 13.947696139476962,
          "num opponents within 5 yards": 3
         },
         {
          "Goal": 30,
          "No Goal": 277,
          "Percent Goal": 9.646302250803858,
          "num opponents within 5 yards": 4
         },
         {
          "Goal": 15,
          "No Goal": 62,
          "Percent Goal": 18.29268292682927,
          "num opponents within 5 yards": 5
         },
         {
          "Goal": 2,
          "No Goal": 15,
          "Percent Goal": 8.695652173913043,
          "num opponents within 5 yards": 6
         },
         {
          "Goal": 0,
          "No Goal": 3,
          "Percent Goal": 0,
          "num opponents within 5 yards": 7
         }
        ]
       },
       "encoding": {
        "x": {
         "axis": {
          "labelAngle": 0,
          "title": "num opponents within 5 yards"
         },
         "field": "num opponents within 5 yards",
         "type": "nominal"
        },
        "y": {
         "axis": {
          "title": "Percent Goal"
         },
         "field": "Percent Goal",
         "type": "quantitative"
        }
       },
       "height": 300,
       "mark": "bar",
       "title": "Percent Goal vs num opponents within 5 yards",
       "width": 850
      },
      "image/png": "[encoded data removed]",
      "text/plain": [
       "<VegaLite 3 object>\n",
       "\n",
       "If you see this message, it means the renderer has not been properly enabled\n",
       "for the frontend that you are using. For more information, see\n",
       "https://altair-viz.github.io/user_guide/troubleshooting.html\n"
      ]
     },
     "execution_count": 50,
     "metadata": {},
     "output_type": "execute_result"
    }
   ],
   "source": [
    "plot_percent_goal_vs_attr(\"num opponents within 5 yards\", \"bar\")"
   ]
  },
  {
   "cell_type": "markdown",
   "metadata": {},
   "source": [
    "**Comments:**\n",
    "\n",
    "We see a similar trend for rate of goals scored vs number of opponents within 5 yards of shot location."
   ]
  },
  {
   "cell_type": "markdown",
   "metadata": {},
   "source": [
    "#### 2.3.3 Percent goals by player pattern"
   ]
  },
  {
   "cell_type": "code",
   "execution_count": 51,
   "metadata": {},
   "outputs": [
    {
     "data": {
      "application/vnd.vegalite.v3+json": {
       "$schema": "https://vega.github.io/schema/vega-lite/v3.4.0.json",
       "config": {
        "axis": {
         "labelFontSize": 13,
         "titleFontSize": 15
        },
        "mark": {
         "tooltip": null
        },
        "title": {
         "fontSize": 16
        },
        "view": {
         "height": 300,
         "width": 400
        }
       },
       "data": {
        "name": "data-3faad0dcdee918008df67a421d58a18d"
       },
       "datasets": {
        "data-3faad0dcdee918008df67a421d58a18d": [
         {
          "Goal": 85,
          "No Goal": 830,
          "Percent Goal": 9.289617486338798,
          "play pattern": "From Corner"
         },
         {
          "Goal": 52,
          "No Goal": 219,
          "Percent Goal": 19.18819188191882,
          "play pattern": "From Counter"
         },
         {
          "Goal": 186,
          "No Goal": 1539,
          "Percent Goal": 10.782608695652174,
          "play pattern": "From Free Kick"
         },
         {
          "Goal": 38,
          "No Goal": 203,
          "Percent Goal": 15.767634854771785,
          "play pattern": "From Goal Kick"
         },
         {
          "Goal": 7,
          "No Goal": 72,
          "Percent Goal": 8.860759493670885,
          "play pattern": "From Keeper"
         },
         {
          "Goal": 11,
          "No Goal": 75,
          "Percent Goal": 12.790697674418604,
          "play pattern": "From Kick Off"
         },
         {
          "Goal": 129,
          "No Goal": 926,
          "Percent Goal": 12.227488151658768,
          "play pattern": "From Throw In"
         },
         {
          "Goal": 74,
          "No Goal": 27,
          "Percent Goal": 73.26732673267327,
          "play pattern": "Other"
         },
         {
          "Goal": 368,
          "No Goal": 1968,
          "Percent Goal": 15.753424657534246,
          "play pattern": "Regular Play"
         }
        ]
       },
       "encoding": {
        "x": {
         "axis": {
          "labelAngle": 0,
          "title": "play pattern"
         },
         "field": "play pattern",
         "type": "nominal"
        },
        "y": {
         "axis": {
          "title": "Percent Goal"
         },
         "field": "Percent Goal",
         "type": "quantitative"
        }
       },
       "height": 300,
       "mark": "bar",
       "title": "Percent Goal vs play pattern",
       "width": 850
      },
      "image/png": "[encoded data removed]",
      "text/plain": [
       "<VegaLite 3 object>\n",
       "\n",
       "If you see this message, it means the renderer has not been properly enabled\n",
       "for the frontend that you are using. For more information, see\n",
       "https://altair-viz.github.io/user_guide/troubleshooting.html\n"
      ]
     },
     "execution_count": 51,
     "metadata": {},
     "output_type": "execute_result"
    }
   ],
   "source": [
    "plot_percent_goal_vs_attr(\"play pattern\", \"bar\")"
   ]
  },
  {
   "cell_type": "markdown",
   "metadata": {},
   "source": [
    "**Comments:**\n",
    "\n",
    "For goal scoring rate by _play pattern_, we see that \"other\" has a very large percent goals scored value. This tells us that \"other\" refers to penalties. Aside from \"other\", we can see that shots from counter attacks have a larger chance to produce a goal than any other play pattern, probably because counter attacks mean that the opposition is much less organized, resulting in more space. To be sure, we can check this below:"
   ]
  },
  {
   "cell_type": "code",
   "execution_count": 52,
   "metadata": {},
   "outputs": [
    {
     "data": {
      "application/vnd.vegalite.v3+json": {
       "$schema": "https://vega.github.io/schema/vega-lite/v3.4.0.json",
       "config": {
        "axis": {
         "labelFontSize": 13,
         "titleFontSize": 15
        },
        "mark": {
         "tooltip": null
        },
        "title": {
         "fontSize": 16
        },
        "view": {
         "height": 300,
         "width": 400
        }
       },
       "data": {
        "name": "data-1cf22675f24eeee2f5d2017271b52737"
       },
       "datasets": {
        "data-1cf22675f24eeee2f5d2017271b52737": [
         {
          "Distance from goal": 15.933504677027198,
          "duration": 0.7851746076502738,
          "first time": 0.3081967213114754,
          "num opponents between shot and goal": 0.9923497267759562,
          "num opponents within 5 yards": 2.07103825136612,
          "outcome": 0.09289617486338798,
          "play pattern": "From Corner",
          "x gk position": 118.47366120218578,
          "x start location": 106.49169398907112,
          "y gk position": 39.89650273224045,
          "y start location": 39.59748633879777
         },
         {
          "Distance from goal": 17.573889613473042,
          "duration": 0.6827705940959409,
          "first time": 0.2767527675276753,
          "num opponents between shot and goal": 0.22140221402214022,
          "num opponents within 5 yards": 1.5867158671586716,
          "outcome": 0.1918819188191882,
          "play pattern": "From Counter",
          "x gk position": 115.29852398523991,
          "x start location": 105.7686346863469,
          "y gk position": 39.60738007380076,
          "y start location": 38.76863468634689
         },
         {
          "Distance from goal": 22.186152773160885,
          "duration": 0.8286563791304351,
          "first time": 0.24463768115942028,
          "num opponents between shot and goal": 1.2997101449275363,
          "num opponents within 5 yards": 1.2110144927536233,
          "outcome": 0.10782608695652174,
          "play pattern": "From Free Kick",
          "x gk position": 118.06991304347837,
          "x start location": 100.66828985507254,
          "y gk position": 40.05686956521741,
          "y start location": 39.46556521739124
         },
         {
          "Distance from goal": 18.780199852451364,
          "duration": 0.7134532738589213,
          "first time": 0.36099585062240663,
          "num opponents between shot and goal": 0.4854771784232365,
          "num opponents within 5 yards": 1.5643153526970954,
          "outcome": 0.15767634854771784,
          "play pattern": "From Goal Kick",
          "x gk position": 117.4265560165975,
          "x start location": 104.44813278008306,
          "y gk position": 39.73568464730293,
          "y start location": 39.258921161825754
         },
         {
          "Distance from goal": 19.858279721707177,
          "duration": 0.7722968734177217,
          "first time": 0.2911392405063291,
          "num opponents between shot and goal": 0.4430379746835443,
          "num opponents within 5 yards": 1.5316455696202531,
          "outcome": 0.08860759493670886,
          "play pattern": "From Keeper",
          "x gk position": 116.80379746835447,
          "x start location": 103.17974683544303,
          "y gk position": 39.98101265822784,
          "y start location": 39.87215189873415
         },
         {
          "Distance from goal": 21.004786074565136,
          "duration": 0.7886548488372093,
          "first time": 0.3372093023255814,
          "num opponents between shot and goal": 0.6046511627906976,
          "num opponents within 5 yards": 1.4883720930232558,
          "outcome": 0.12790697674418605,
          "play pattern": "From Kick Off",
          "x gk position": 117.64069767441865,
          "x start location": 101.98372093023256,
          "y gk position": 40.18837209302326,
          "y start location": 40.340697674418585
         },
         {
          "Distance from goal": 19.800716845874522,
          "duration": 0.7749100492891,
          "first time": 0.34218009478672984,
          "num opponents between shot and goal": 0.47962085308056873,
          "num opponents within 5 yards": 1.591469194312796,
          "outcome": 0.12227488151658768,
          "play pattern": "From Throw In",
          "x gk position": 117.64218009478691,
          "x start location": 103.41421800947853,
          "y gk position": 39.99772511848345,
          "y start location": 39.79109004739336
         },
         {
          "Distance from goal": 12.929922099305942,
          "duration": 0.5685092772277227,
          "first time": 0.0594059405940594,
          "num opponents between shot and goal": 0.0594059405940594,
          "num opponents within 5 yards": 0.16831683168316833,
          "outcome": 0.7326732673267327,
          "play pattern": "Other",
          "x gk position": 119.69603960396039,
          "x start location": 107.22871287128713,
          "y gk position": 39.97326732673267,
          "y start location": 39.97227722772275
         },
         {
          "Distance from goal": 19.24982835879176,
          "duration": 0.7643725458047943,
          "first time": 0.3223458904109589,
          "num opponents between shot and goal": 0.4550513698630137,
          "num opponents within 5 yards": 1.5025684931506849,
          "outcome": 0.15753424657534246,
          "play pattern": "Regular Play",
          "x gk position": 117.281977739726,
          "x start location": 103.96344178082195,
          "y gk position": 39.83184931506849,
          "y start location": 39.06930650684937
         }
        ]
       },
       "encoding": {
        "x": {
         "axis": {
          "labelAngle": 0,
          "title": "player pattern"
         },
         "field": "play pattern",
         "type": "nominal"
        },
        "y": {
         "axis": {
          "title": "mean num opponents within 5 yards"
         },
         "field": "num opponents within 5 yards",
         "type": "quantitative"
        }
       },
       "height": 300,
       "mark": "bar",
       "title": "mean num opponents whithin 5 yards by play pattern",
       "width": 850
      },
      "image/png": "[encoded data removed]",
      "text/plain": [
       "<VegaLite 3 object>\n",
       "\n",
       "If you see this message, it means the renderer has not been properly enabled\n",
       "for the frontend that you are using. For more information, see\n",
       "https://altair-viz.github.io/user_guide/troubleshooting.html\n"
      ]
     },
     "execution_count": 52,
     "metadata": {},
     "output_type": "execute_result"
    }
   ],
   "source": [
    "alt.Chart(shot_training_set.groupby(\"play pattern\").mean().reset_index()).mark_bar().encode(\n",
    "        alt.X('play pattern:N', axis = alt.Axis(title = \"player pattern\", labelAngle = 0)),\n",
    "        alt.Y('num opponents within 5 yards:Q', axis = alt.Axis(title = 'mean num opponents within 5 yards'))\n",
    ").properties(width = 850, height = 300, \n",
    "             title = \"mean num opponents whithin 5 yards by play pattern\"\n",
    ").configure_axis(labelFontSize = 13, titleFontSize = 15\n",
    ").configure_title(fontSize = 16)"
   ]
  },
  {
   "cell_type": "markdown",
   "metadata": {},
   "source": [
    "Ok, so actually, shots resulting from counters, on average, don't have less players within 5 yards of the shot location than other play patterns. What about number of opponents between the shot location and the goal?"
   ]
  },
  {
   "cell_type": "code",
   "execution_count": 53,
   "metadata": {},
   "outputs": [
    {
     "data": {
      "application/vnd.vegalite.v3+json": {
       "$schema": "https://vega.github.io/schema/vega-lite/v3.4.0.json",
       "config": {
        "axis": {
         "labelFontSize": 13,
         "titleFontSize": 15
        },
        "mark": {
         "tooltip": null
        },
        "title": {
         "fontSize": 16
        },
        "view": {
         "height": 300,
         "width": 400
        }
       },
       "data": {
        "name": "data-1cf22675f24eeee2f5d2017271b52737"
       },
       "datasets": {
        "data-1cf22675f24eeee2f5d2017271b52737": [
         {
          "Distance from goal": 15.933504677027198,
          "duration": 0.7851746076502738,
          "first time": 0.3081967213114754,
          "num opponents between shot and goal": 0.9923497267759562,
          "num opponents within 5 yards": 2.07103825136612,
          "outcome": 0.09289617486338798,
          "play pattern": "From Corner",
          "x gk position": 118.47366120218578,
          "x start location": 106.49169398907112,
          "y gk position": 39.89650273224045,
          "y start location": 39.59748633879777
         },
         {
          "Distance from goal": 17.573889613473042,
          "duration": 0.6827705940959409,
          "first time": 0.2767527675276753,
          "num opponents between shot and goal": 0.22140221402214022,
          "num opponents within 5 yards": 1.5867158671586716,
          "outcome": 0.1918819188191882,
          "play pattern": "From Counter",
          "x gk position": 115.29852398523991,
          "x start location": 105.7686346863469,
          "y gk position": 39.60738007380076,
          "y start location": 38.76863468634689
         },
         {
          "Distance from goal": 22.186152773160885,
          "duration": 0.8286563791304351,
          "first time": 0.24463768115942028,
          "num opponents between shot and goal": 1.2997101449275363,
          "num opponents within 5 yards": 1.2110144927536233,
          "outcome": 0.10782608695652174,
          "play pattern": "From Free Kick",
          "x gk position": 118.06991304347837,
          "x start location": 100.66828985507254,
          "y gk position": 40.05686956521741,
          "y start location": 39.46556521739124
         },
         {
          "Distance from goal": 18.780199852451364,
          "duration": 0.7134532738589213,
          "first time": 0.36099585062240663,
          "num opponents between shot and goal": 0.4854771784232365,
          "num opponents within 5 yards": 1.5643153526970954,
          "outcome": 0.15767634854771784,
          "play pattern": "From Goal Kick",
          "x gk position": 117.4265560165975,
          "x start location": 104.44813278008306,
          "y gk position": 39.73568464730293,
          "y start location": 39.258921161825754
         },
         {
          "Distance from goal": 19.858279721707177,
          "duration": 0.7722968734177217,
          "first time": 0.2911392405063291,
          "num opponents between shot and goal": 0.4430379746835443,
          "num opponents within 5 yards": 1.5316455696202531,
          "outcome": 0.08860759493670886,
          "play pattern": "From Keeper",
          "x gk position": 116.80379746835447,
          "x start location": 103.17974683544303,
          "y gk position": 39.98101265822784,
          "y start location": 39.87215189873415
         },
         {
          "Distance from goal": 21.004786074565136,
          "duration": 0.7886548488372093,
          "first time": 0.3372093023255814,
          "num opponents between shot and goal": 0.6046511627906976,
          "num opponents within 5 yards": 1.4883720930232558,
          "outcome": 0.12790697674418605,
          "play pattern": "From Kick Off",
          "x gk position": 117.64069767441865,
          "x start location": 101.98372093023256,
          "y gk position": 40.18837209302326,
          "y start location": 40.340697674418585
         },
         {
          "Distance from goal": 19.800716845874522,
          "duration": 0.7749100492891,
          "first time": 0.34218009478672984,
          "num opponents between shot and goal": 0.47962085308056873,
          "num opponents within 5 yards": 1.591469194312796,
          "outcome": 0.12227488151658768,
          "play pattern": "From Throw In",
          "x gk position": 117.64218009478691,
          "x start location": 103.41421800947853,
          "y gk position": 39.99772511848345,
          "y start location": 39.79109004739336
         },
         {
          "Distance from goal": 12.929922099305942,
          "duration": 0.5685092772277227,
          "first time": 0.0594059405940594,
          "num opponents between shot and goal": 0.0594059405940594,
          "num opponents within 5 yards": 0.16831683168316833,
          "outcome": 0.7326732673267327,
          "play pattern": "Other",
          "x gk position": 119.69603960396039,
          "x start location": 107.22871287128713,
          "y gk position": 39.97326732673267,
          "y start location": 39.97227722772275
         },
         {
          "Distance from goal": 19.24982835879176,
          "duration": 0.7643725458047943,
          "first time": 0.3223458904109589,
          "num opponents between shot and goal": 0.4550513698630137,
          "num opponents within 5 yards": 1.5025684931506849,
          "outcome": 0.15753424657534246,
          "play pattern": "Regular Play",
          "x gk position": 117.281977739726,
          "x start location": 103.96344178082195,
          "y gk position": 39.83184931506849,
          "y start location": 39.06930650684937
         }
        ]
       },
       "encoding": {
        "x": {
         "axis": {
          "labelAngle": 0,
          "title": "play pattern"
         },
         "field": "play pattern",
         "type": "nominal"
        },
        "y": {
         "axis": {
          "title": "num opponents between shot and goal"
         },
         "field": "num opponents between shot and goal",
         "type": "quantitative"
        }
       },
       "height": 300,
       "mark": "bar",
       "title": "mean num opponents between shot and goal by play pattern",
       "width": 850
      },
      "image/png": "[encoded data removed]",
      "text/plain": [
       "<VegaLite 3 object>\n",
       "\n",
       "If you see this message, it means the renderer has not been properly enabled\n",
       "for the frontend that you are using. For more information, see\n",
       "https://altair-viz.github.io/user_guide/troubleshooting.html\n"
      ]
     },
     "execution_count": 53,
     "metadata": {},
     "output_type": "execute_result"
    }
   ],
   "source": [
    "alt.Chart(shot_training_set.groupby(\"play pattern\").mean().reset_index()).mark_bar().encode(\n",
    "        alt.X('play pattern:N', axis = alt.Axis(title = \"play pattern\", labelAngle = 0)),\n",
    "        alt.Y('num opponents between shot and goal:Q', axis = alt.Axis(title = 'num opponents between shot and goal'))\n",
    ").properties(width = 850, height = 300, \n",
    "             title = \"mean num opponents between shot and goal by play pattern\"\n",
    ").configure_axis(labelFontSize = 13, titleFontSize = 15\n",
    ").configure_title(fontSize = 16)"
   ]
  },
  {
   "cell_type": "markdown",
   "metadata": {},
   "source": [
    "Right, so we can see that actually, shots resulting from counters result in a higher rate of goals scored because there are less opponents between the shot location and the goal (on average), makes sense. "
   ]
  },
  {
   "cell_type": "markdown",
   "metadata": {},
   "source": [
    "#### 2.3.3 Percent goals by first time "
   ]
  },
  {
   "cell_type": "code",
   "execution_count": 54,
   "metadata": {},
   "outputs": [
    {
     "data": {
      "application/vnd.vegalite.v3+json": {
       "$schema": "https://vega.github.io/schema/vega-lite/v3.4.0.json",
       "config": {
        "axis": {
         "labelFontSize": 13,
         "titleFontSize": 15
        },
        "mark": {
         "tooltip": null
        },
        "title": {
         "fontSize": 16
        },
        "view": {
         "height": 300,
         "width": 400
        }
       },
       "data": {
        "name": "data-ae0e04adc9c63fd345e40f2d8691e8d4"
       },
       "datasets": {
        "data-ae0e04adc9c63fd345e40f2d8691e8d4": [
         {
          "Goal": 560,
          "No Goal": 4211,
          "Percent Goal": 11.737581219870048,
          "first time": false
         },
         {
          "Goal": 390,
          "No Goal": 1648,
          "Percent Goal": 19.127023050514957,
          "first time": true
         }
        ]
       },
       "encoding": {
        "x": {
         "axis": {
          "labelAngle": 0,
          "title": "first time"
         },
         "field": "first time",
         "type": "nominal"
        },
        "y": {
         "axis": {
          "title": "Percent Goal"
         },
         "field": "Percent Goal",
         "type": "quantitative"
        }
       },
       "height": 300,
       "mark": "bar",
       "title": "Percent Goal vs first time",
       "width": 850
      },
      "image/png": "[encoded data removed]",
      "text/plain": [
       "<VegaLite 3 object>\n",
       "\n",
       "If you see this message, it means the renderer has not been properly enabled\n",
       "for the frontend that you are using. For more information, see\n",
       "https://altair-viz.github.io/user_guide/troubleshooting.html\n"
      ]
     },
     "execution_count": 54,
     "metadata": {},
     "output_type": "execute_result"
    }
   ],
   "source": [
    "plot_percent_goal_vs_attr(\"first time\", \"bar\")"
   ]
  },
  {
   "cell_type": "markdown",
   "metadata": {},
   "source": [
    "## 3. Data preprocessing"
   ]
  },
  {
   "cell_type": "markdown",
   "metadata": {},
   "source": [
    "We will create pipelines for preprocessing the categorical and numerical attributes in our shot data frame, then combine the two pipelines. To refresh our memories, here is the shot data frame again:"
   ]
  },
  {
   "cell_type": "code",
   "execution_count": 55,
   "metadata": {},
   "outputs": [
    {
     "data": {
      "text/html": [
       "<div>\n",
       "<style scoped>\n",
       "    .dataframe tbody tr th:only-of-type {\n",
       "        vertical-align: middle;\n",
       "    }\n",
       "\n",
       "    .dataframe tbody tr th {\n",
       "        vertical-align: top;\n",
       "    }\n",
       "\n",
       "    .dataframe thead th {\n",
       "        text-align: right;\n",
       "    }\n",
       "</style>\n",
       "<table border=\"1\" class=\"dataframe\">\n",
       "  <thead>\n",
       "    <tr style=\"text-align: right;\">\n",
       "      <th></th>\n",
       "      <th>play pattern</th>\n",
       "      <th>x start location</th>\n",
       "      <th>y start location</th>\n",
       "      <th>duration</th>\n",
       "      <th>outcome</th>\n",
       "      <th>technique</th>\n",
       "      <th>first time</th>\n",
       "      <th>x gk position</th>\n",
       "      <th>y gk position</th>\n",
       "      <th>type of shot</th>\n",
       "      <th>num opponents within 5 yards</th>\n",
       "      <th>num opponents between shot and goal</th>\n",
       "      <th>Distance from goal</th>\n",
       "    </tr>\n",
       "    <tr>\n",
       "      <th>shot id</th>\n",
       "      <th></th>\n",
       "      <th></th>\n",
       "      <th></th>\n",
       "      <th></th>\n",
       "      <th></th>\n",
       "      <th></th>\n",
       "      <th></th>\n",
       "      <th></th>\n",
       "      <th></th>\n",
       "      <th></th>\n",
       "      <th></th>\n",
       "      <th></th>\n",
       "      <th></th>\n",
       "    </tr>\n",
       "  </thead>\n",
       "  <tbody>\n",
       "    <tr>\n",
       "      <th>af41bc3d-f586-402d-83f9-07e1e50913a3</th>\n",
       "      <td>Regular Play</td>\n",
       "      <td>108.7</td>\n",
       "      <td>22.2</td>\n",
       "      <td>0.316900</td>\n",
       "      <td>0</td>\n",
       "      <td>Normal</td>\n",
       "      <td>True</td>\n",
       "      <td>118.7</td>\n",
       "      <td>35.4</td>\n",
       "      <td>Open Play</td>\n",
       "      <td>1</td>\n",
       "      <td>0</td>\n",
       "      <td>21.083880</td>\n",
       "    </tr>\n",
       "    <tr>\n",
       "      <th>0683b203-c433-4825-845b-7c960d7c52e8</th>\n",
       "      <td>From Free Kick</td>\n",
       "      <td>107.4</td>\n",
       "      <td>49.2</td>\n",
       "      <td>0.841101</td>\n",
       "      <td>1</td>\n",
       "      <td>Half Volley</td>\n",
       "      <td>True</td>\n",
       "      <td>118.7</td>\n",
       "      <td>41.8</td>\n",
       "      <td>Open Play</td>\n",
       "      <td>1</td>\n",
       "      <td>2</td>\n",
       "      <td>15.601282</td>\n",
       "    </tr>\n",
       "    <tr>\n",
       "      <th>ab81c24c-c1bd-42b6-bf93-a7dc60502027</th>\n",
       "      <td>Regular Play</td>\n",
       "      <td>113.0</td>\n",
       "      <td>41.3</td>\n",
       "      <td>1.004000</td>\n",
       "      <td>0</td>\n",
       "      <td>Normal</td>\n",
       "      <td>False</td>\n",
       "      <td>119.4</td>\n",
       "      <td>39.9</td>\n",
       "      <td>Open Play</td>\n",
       "      <td>4</td>\n",
       "      <td>1</td>\n",
       "      <td>7.119691</td>\n",
       "    </tr>\n",
       "    <tr>\n",
       "      <th>a28252f8-fa43-432c-be76-b48ee1e4fcce</th>\n",
       "      <td>From Free Kick</td>\n",
       "      <td>103.4</td>\n",
       "      <td>44.7</td>\n",
       "      <td>1.052700</td>\n",
       "      <td>0</td>\n",
       "      <td>Normal</td>\n",
       "      <td>True</td>\n",
       "      <td>118.5</td>\n",
       "      <td>41.8</td>\n",
       "      <td>Open Play</td>\n",
       "      <td>2</td>\n",
       "      <td>1</td>\n",
       "      <td>17.252536</td>\n",
       "    </tr>\n",
       "    <tr>\n",
       "      <th>940ce10a-9b48-45bb-9989-05f604b4f81c</th>\n",
       "      <td>From Throw In</td>\n",
       "      <td>86.1</td>\n",
       "      <td>37.7</td>\n",
       "      <td>0.200800</td>\n",
       "      <td>0</td>\n",
       "      <td>Normal</td>\n",
       "      <td>False</td>\n",
       "      <td>114.7</td>\n",
       "      <td>40.5</td>\n",
       "      <td>Open Play</td>\n",
       "      <td>0</td>\n",
       "      <td>1</td>\n",
       "      <td>33.977934</td>\n",
       "    </tr>\n",
       "  </tbody>\n",
       "</table>\n",
       "</div>"
      ],
      "text/plain": [
       "                                        play pattern  x start location  \\\n",
       "shot id                                                                  \n",
       "af41bc3d-f586-402d-83f9-07e1e50913a3    Regular Play             108.7   \n",
       "0683b203-c433-4825-845b-7c960d7c52e8  From Free Kick             107.4   \n",
       "ab81c24c-c1bd-42b6-bf93-a7dc60502027    Regular Play             113.0   \n",
       "a28252f8-fa43-432c-be76-b48ee1e4fcce  From Free Kick             103.4   \n",
       "940ce10a-9b48-45bb-9989-05f604b4f81c   From Throw In              86.1   \n",
       "\n",
       "                                      y start location  duration  outcome  \\\n",
       "shot id                                                                     \n",
       "af41bc3d-f586-402d-83f9-07e1e50913a3              22.2  0.316900        0   \n",
       "0683b203-c433-4825-845b-7c960d7c52e8              49.2  0.841101        1   \n",
       "ab81c24c-c1bd-42b6-bf93-a7dc60502027              41.3  1.004000        0   \n",
       "a28252f8-fa43-432c-be76-b48ee1e4fcce              44.7  1.052700        0   \n",
       "940ce10a-9b48-45bb-9989-05f604b4f81c              37.7  0.200800        0   \n",
       "\n",
       "                                        technique  first time  x gk position  \\\n",
       "shot id                                                                        \n",
       "af41bc3d-f586-402d-83f9-07e1e50913a3       Normal        True          118.7   \n",
       "0683b203-c433-4825-845b-7c960d7c52e8  Half Volley        True          118.7   \n",
       "ab81c24c-c1bd-42b6-bf93-a7dc60502027       Normal       False          119.4   \n",
       "a28252f8-fa43-432c-be76-b48ee1e4fcce       Normal        True          118.5   \n",
       "940ce10a-9b48-45bb-9989-05f604b4f81c       Normal       False          114.7   \n",
       "\n",
       "                                      y gk position type of shot  \\\n",
       "shot id                                                            \n",
       "af41bc3d-f586-402d-83f9-07e1e50913a3           35.4    Open Play   \n",
       "0683b203-c433-4825-845b-7c960d7c52e8           41.8    Open Play   \n",
       "ab81c24c-c1bd-42b6-bf93-a7dc60502027           39.9    Open Play   \n",
       "a28252f8-fa43-432c-be76-b48ee1e4fcce           41.8    Open Play   \n",
       "940ce10a-9b48-45bb-9989-05f604b4f81c           40.5    Open Play   \n",
       "\n",
       "                                      num opponents within 5 yards  \\\n",
       "shot id                                                              \n",
       "af41bc3d-f586-402d-83f9-07e1e50913a3                             1   \n",
       "0683b203-c433-4825-845b-7c960d7c52e8                             1   \n",
       "ab81c24c-c1bd-42b6-bf93-a7dc60502027                             4   \n",
       "a28252f8-fa43-432c-be76-b48ee1e4fcce                             2   \n",
       "940ce10a-9b48-45bb-9989-05f604b4f81c                             0   \n",
       "\n",
       "                                      num opponents between shot and goal  \\\n",
       "shot id                                                                     \n",
       "af41bc3d-f586-402d-83f9-07e1e50913a3                                    0   \n",
       "0683b203-c433-4825-845b-7c960d7c52e8                                    2   \n",
       "ab81c24c-c1bd-42b6-bf93-a7dc60502027                                    1   \n",
       "a28252f8-fa43-432c-be76-b48ee1e4fcce                                    1   \n",
       "940ce10a-9b48-45bb-9989-05f604b4f81c                                    1   \n",
       "\n",
       "                                      Distance from goal  \n",
       "shot id                                                   \n",
       "af41bc3d-f586-402d-83f9-07e1e50913a3           21.083880  \n",
       "0683b203-c433-4825-845b-7c960d7c52e8           15.601282  \n",
       "ab81c24c-c1bd-42b6-bf93-a7dc60502027            7.119691  \n",
       "a28252f8-fa43-432c-be76-b48ee1e4fcce           17.252536  \n",
       "940ce10a-9b48-45bb-9989-05f604b4f81c           33.977934  "
      ]
     },
     "execution_count": 55,
     "metadata": {},
     "output_type": "execute_result"
    }
   ],
   "source": [
    "shot_training_set.head()"
   ]
  },
  {
   "cell_type": "markdown",
   "metadata": {},
   "source": [
    "First, we create a class `AttrSelector`, which has methods `fit` and `transform` that we can use in our pipeline. This method will be use to select the features in our data frame for each pipeline.\n",
    "\n",
    "Also, by making this class a subclass of `BaseEstimator` and `TransformerMixin`, we get the `fit_transform`, `get_params()` and `set_params()` methods as well."
   ]
  },
  {
   "cell_type": "code",
   "execution_count": 56,
   "metadata": {},
   "outputs": [],
   "source": [
    "class AttrSelector(BaseEstimator, TransformerMixin):\n",
    "    \n",
    "    def __init__(self, attributes):\n",
    "        self.attributes = attributes\n",
    "   \n",
    "    def fit(self, attributes):\n",
    "        return self\n",
    "    \n",
    "    def transform(self, X):\n",
    "        return X[self.attributes]"
   ]
  },
  {
   "cell_type": "markdown",
   "metadata": {},
   "source": [
    "### 3.1 Categorical pipeline\n",
    "\n",
    "In our categorical pipeline, we will use AttrSelector to select the relevant categorical attributes, stored as a list in the _categorical_shot_attributes_ variable. We then encode the values of each categorical variable as \"One hot vector\". "
   ]
  },
  {
   "cell_type": "code",
   "execution_count": 57,
   "metadata": {},
   "outputs": [],
   "source": [
    "categorical_shot_attributes = [\"play pattern\", \"technique\", \"first time\"]\n",
    "\n",
    "categorical_attr_pipeline = Pipeline([\n",
    "    ('selector', AttrSelector(categorical_shot_attributes)),\n",
    "    ('one_hot_encoder',  OneHotEncoder())\n",
    "])"
   ]
  },
  {
   "cell_type": "code",
   "execution_count": 58,
   "metadata": {},
   "outputs": [],
   "source": [
    "one_hot_vals_play_pattern = shot_training_set[\"play pattern\"].unique()\n",
    "one_hot_vals_technique = shot_training_set[\"technique\"].unique()\n",
    "one_hot_vals_first_time = shot_training_set[\"first time\"].unique()\n",
    "\n",
    "one_hot_categorical_features = np.concatenate([one_hot_vals_play_pattern, one_hot_vals_technique, one_hot_vals_first_time])"
   ]
  },
  {
   "cell_type": "markdown",
   "metadata": {},
   "source": [
    "### 3.2 Numerical pipeline\n",
    "\n",
    "In our numerical pipeline, we will use AttrSelector to select the relevant numerical attributes, stored as a list in the _numerical_shot_attributes_ variable."
   ]
  },
  {
   "cell_type": "code",
   "execution_count": 59,
   "metadata": {},
   "outputs": [],
   "source": [
    "numerical_shot_attributes = [\"x start location\", \"y start location\", \"x gk position\", \"y gk position\", \n",
    "                             \"num opponents within 5 yards\", \"num opponents between shot and goal\", \"Distance from goal\"]\n",
    "\n",
    "numerical_attr_pipeline = Pipeline([\n",
    "    ('selector', AttrSelector(numerical_shot_attributes))\n",
    "])\n",
    "\n",
    "numerical_features = np.array(numerical_shot_attributes)"
   ]
  },
  {
   "cell_type": "markdown",
   "metadata": {},
   "source": [
    "### 3.3 Combined pipeline\n",
    "\n",
    "Now we combine the categorical and numerical pipelines using the `FeatureUnion` class. And we get our data frame transformed into a sparse matrix, ready to be passed through to sklearn models."
   ]
  },
  {
   "cell_type": "code",
   "execution_count": 86,
   "metadata": {},
   "outputs": [],
   "source": [
    "combined_pipeline = FeatureUnion(transformer_list = [\n",
    "    (\"categorical_attr_pipeline\", categorical_attr_pipeline),\n",
    "    (\"numerical_attr_pipeline\", numerical_attr_pipeline)\n",
    "])\n",
    "\n",
    "X_train = combined_pipeline.fit_transform(shot_training_set)\n",
    "X_test = combined_pipeline.fit_transform(shot_test_set)"
   ]
  },
  {
   "cell_type": "code",
   "execution_count": 85,
   "metadata": {},
   "outputs": [],
   "source": [
    "#list containing names of all features (including new one-hot features)\n",
    "total_features = np.concatenate([one_hot_categorical_features, numerical_features])"
   ]
  },
  {
   "cell_type": "code",
   "execution_count": 91,
   "metadata": {},
   "outputs": [],
   "source": [
    "y_train = shot_training_set[\"outcome\"]\n",
    "y_test = shot_test_set[\"outcome\"]"
   ]
  },
  {
   "cell_type": "markdown",
   "metadata": {},
   "source": [
    "## 4. Models"
   ]
  },
  {
   "cell_type": "markdown",
   "metadata": {},
   "source": [
    "### 4.1 Decision tree"
   ]
  },
  {
   "cell_type": "markdown",
   "metadata": {},
   "source": [
    "Now we are ready to create our model. The model will be a decision tree classifier, which will partition the training data at each step on a given feature and value. For example, if we choose \"num player between shot and goal\" as the feature, and 3 as the value, we will have two groups: one with all shots where \"num player between shot and goal\" $\\leq3$ and one where \"num player between shot and goal\" $>3$. The goal at each step is to choose a feature and value that will create two groups that separate the labels as much as possible. In the ideal scenario, we could choose a feature/threshold that puts all shots which resulted in a goal in one group, and all shots which did not in the other, however, this of course will not be possible here. \n",
    "\n",
    "To quantify the quality of a split, sklearn's algorithm calculates a gini score for each split, defined as \n",
    "\n",
    "$Gini = \\sum_{i=1}^C p_i(1-p_i)$, \n",
    "\n",
    "where $C$ is the number of classes (in this case 2) in a group, and $p_i$ is the probability of observing class $i$ in that group. The goal is to minimize the total $Gini$ for the two groups formed by the split. \n",
    "\n",
    "Once we've split the data once, we end up with two separate data sets, one which we repeat the same procedure. We can continue doing this until we get groups which are all homogeneous (only contain observations with the same label). However, this will result in a grossly overfitted model that will not generalize well, and so what we want to tell the DecisionTree model to stop splitting at some point. We can do this by specifying a _max_depth_ hyperparameter, which essentially tells the Decision tree the maximum number of times it can split the data before stopping. To determine the best _max_depth_ hyperparameter, I will calculate the accuracy for the training and test data as a function of different _max_depth_ values."
   ]
  },
  {
   "cell_type": "code",
   "execution_count": 104,
   "metadata": {},
   "outputs": [],
   "source": [
    "list_training_scores = []\n",
    "list_test_scores = []\n",
    "list_max_depth = range(1, 10)\n",
    "\n",
    "for d in list_max_depth:\n",
    "    tree_class = DecisionTreeClassifier(max_depth=d)\n",
    "    tree_class.fit(X_train, y_train)\n",
    "    training_score = tree_class.score(X_train, y_train)\n",
    "    test_score = tree_class.score(X_test, y_test)    \n",
    "    list_training_scores.append(training_score)\n",
    "    list_test_scores.append(test_score)"
   ]
  },
  {
   "cell_type": "code",
   "execution_count": 116,
   "metadata": {},
   "outputs": [
    {
     "data": {
      "image/png": "[encoded data removed]",
      "text/plain": [
       "<Figure size 1440x720 with 1 Axes>"
      ]
     },
     "metadata": {
      "needs_background": "light"
     },
     "output_type": "display_data"
    }
   ],
   "source": [
    "fig = plt.figure(figsize = (20,10))\n",
    "plt.plot(list_max_depth, list_training_scores)\n",
    "plt.plot(list_max_depth, list_test_scores)\n",
    "plt.xlabel(\"Max Depth\", size = 16)\n",
    "plt.ylabel(\"Accuracy Score\", size = 16)\n",
    "plt.legend([\"Training\", \"Test\"])\n",
    "plt.tick_params(labelsize = 16)"
   ]
  },
  {
   "cell_type": "markdown",
   "metadata": {},
   "source": [
    "We can see, above, that after _max_depth_ = 3, we are beginning to overfit our data, resulting in a decreasing test accuracy score. So _max_depth_=3 seems to be a good value for this hyperparameter. Let's now train a decision tree with this value. First, below, I'll use a function which will allow us to visualize the tree. This function ... **Add accreditation** "
   ]
  },
  {
   "cell_type": "code",
   "execution_count": 144,
   "metadata": {},
   "outputs": [],
   "source": [
    "def save_and_show_decision_tree(model, \n",
    "                                class_names,\n",
    "                                feature_names,\n",
    "                                save_file_prefix = '../img/goal_decision_tree'):\n",
    "    \"\"\"\n",
    "    Saves the decision tree model as a pdf and shows how the data is split and \n",
    "    classified\n",
    "\n",
    "    Parameters\n",
    "    ----------\n",
    "    model: sklearn.tree.DecisionTreeClassifier\n",
    "        The sklearn model decision tree\n",
    "    class_names : list\n",
    "        The names of all the possible classifications\n",
    "    feature_names : list\n",
    "        The names of all the features\n",
    "    save_file_prefix: str\n",
    "        The name you wish to save the file\n",
    "\n",
    "    Returns\n",
    "    -------\n",
    "    graphviz.files.Source\n",
    "        The decision tree graph\n",
    "    \"\"\"\n",
    "    dot_data = tree.export_graphviz(model, out_file=None, \n",
    "                             feature_names=feature_names,  \n",
    "                             class_names=class_names,  \n",
    "                             filled=True, rounded=True,  \n",
    "                             special_characters=True)  \n",
    "\n",
    "    graph = graphviz.Source(dot_data) \n",
    "    graph.render(save_file_prefix) \n",
    "    return graph"
   ]
  },
  {
   "cell_type": "markdown",
   "metadata": {},
   "source": [
    "**Fitting:**"
   ]
  },
  {
   "cell_type": "code",
   "execution_count": 147,
   "metadata": {},
   "outputs": [
    {
     "data": {
      "text/plain": [
       "DecisionTreeClassifier(class_weight=None, criterion='gini', max_depth=3,\n",
       "            max_features=None, max_leaf_nodes=None,\n",
       "            min_impurity_decrease=0.0, min_impurity_split=None,\n",
       "            min_samples_leaf=1, min_samples_split=2,\n",
       "            min_weight_fraction_leaf=0.0, presort=False, random_state=None,\n",
       "            splitter='best')"
      ]
     },
     "execution_count": 147,
     "metadata": {},
     "output_type": "execute_result"
    }
   ],
   "source": [
    "tree_class = DecisionTreeClassifier(max_depth=3)\n",
    "tree_class.fit(X_train, y_train)"
   ]
  },
  {
   "cell_type": "code",
   "execution_count": 146,
   "metadata": {},
   "outputs": [
    {
     "data": {
      "image/svg+xml": [
       "<?xml version=\"1.0\" encoding=\"UTF-8\" standalone=\"no\"?>\n",
       "<!DOCTYPE svg PUBLIC \"-//W3C//DTD SVG 1.1//EN\"\n",
       " \"http://www.w3.org/Graphics/SVG/1.1/DTD/svg11.dtd\">\n",
       "<!-- Generated by graphviz version 2.43.0 (0)\n",
       " -->\n",
       "<!-- Title: Tree Pages: 1 -->\n",
       "<svg width=\"1122pt\" height=\"414pt\"\n",
       " viewBox=\"0.00 0.00 1122.08 414.00\" xmlns=\"http://www.w3.org/2000/svg\" xmlns:xlink=\"http://www.w3.org/1999/xlink\">\n",
       "<g id=\"graph0\" class=\"graph\" transform=\"scale(1 1) rotate(0) translate(4 410)\">\n",
       "<title>Tree</title>\n",
       "<polygon fill=\"white\" stroke=\"transparent\" points=\"-4,4 -4,-410 1118.08,-410 1118.08,4 -4,4\"/>\n",
       "<!-- 0 -->\n",
       "<g id=\"node1\" class=\"node\">\n",
       "<title>0</title>\n",
       "<path fill=\"#e58139\" fill-opacity=\"0.839216\" stroke=\"black\" d=\"M603.35,-406C603.35,-406 436.35,-406 436.35,-406 430.35,-406 424.35,-400 424.35,-394 424.35,-394 424.35,-340 424.35,-340 424.35,-334 430.35,-328 436.35,-328 436.35,-328 603.35,-328 603.35,-328 609.35,-328 615.35,-334 615.35,-340 615.35,-340 615.35,-394 615.35,-394 615.35,-400 609.35,-406 603.35,-406\"/>\n",
       "<text text-anchor=\"start\" x=\"432.35\" y=\"-390.8\" font-family=\"Helvetica,sans-Serif\" font-size=\"14.00\">Distance from goal ≤ 12.223</text>\n",
       "<text text-anchor=\"start\" x=\"487.35\" y=\"-376.8\" font-family=\"Helvetica,sans-Serif\" font-size=\"14.00\">gini = 0.24</text>\n",
       "<text text-anchor=\"start\" x=\"470.23\" y=\"-362.8\" font-family=\"Helvetica,sans-Serif\" font-size=\"14.00\">samples = 6809</text>\n",
       "<text text-anchor=\"start\" x=\"460.11\" y=\"-348.8\" font-family=\"Helvetica,sans-Serif\" font-size=\"14.00\">value = [5859, 950]</text>\n",
       "<text text-anchor=\"start\" x=\"470.24\" y=\"-334.8\" font-family=\"Helvetica,sans-Serif\" font-size=\"14.00\">class = No Goal</text>\n",
       "</g>\n",
       "<!-- 1 -->\n",
       "<g id=\"node2\" class=\"node\">\n",
       "<title>1</title>\n",
       "<path fill=\"#e58139\" fill-opacity=\"0.556863\" stroke=\"black\" d=\"M465.42,-292C465.42,-292 338.28,-292 338.28,-292 332.28,-292 326.28,-286 326.28,-280 326.28,-280 326.28,-226 326.28,-226 326.28,-220 332.28,-214 338.28,-214 338.28,-214 465.42,-214 465.42,-214 471.42,-214 477.42,-220 477.42,-226 477.42,-226 477.42,-280 477.42,-280 477.42,-286 471.42,-292 465.42,-292\"/>\n",
       "<text text-anchor=\"start\" x=\"334.31\" y=\"-276.8\" font-family=\"Helvetica,sans-Serif\" font-size=\"14.00\">x gk position ≤ 119.95</text>\n",
       "<text text-anchor=\"start\" x=\"365.46\" y=\"-262.8\" font-family=\"Helvetica,sans-Serif\" font-size=\"14.00\">gini = 0.426</text>\n",
       "<text text-anchor=\"start\" x=\"352.23\" y=\"-248.8\" font-family=\"Helvetica,sans-Serif\" font-size=\"14.00\">samples = 1677</text>\n",
       "<text text-anchor=\"start\" x=\"342.62\" y=\"-234.8\" font-family=\"Helvetica,sans-Serif\" font-size=\"14.00\">value = [1162, 515]</text>\n",
       "<text text-anchor=\"start\" x=\"352.24\" y=\"-220.8\" font-family=\"Helvetica,sans-Serif\" font-size=\"14.00\">class = No Goal</text>\n",
       "</g>\n",
       "<!-- 0&#45;&gt;1 -->\n",
       "<g id=\"edge1\" class=\"edge\">\n",
       "<title>0&#45;&gt;1</title>\n",
       "<path fill=\"none\" stroke=\"black\" d=\"M479.57,-327.77C469.89,-318.58 459.45,-308.68 449.47,-299.2\"/>\n",
       "<polygon fill=\"black\" stroke=\"black\" points=\"451.61,-296.4 441.95,-292.06 446.79,-301.48 451.61,-296.4\"/>\n",
       "<text text-anchor=\"middle\" x=\"442.6\" y=\"-312.85\" font-family=\"Helvetica,sans-Serif\" font-size=\"14.00\">True</text>\n",
       "</g>\n",
       "<!-- 8 -->\n",
       "<g id=\"node9\" class=\"node\">\n",
       "<title>8</title>\n",
       "<path fill=\"#e58139\" fill-opacity=\"0.905882\" stroke=\"black\" d=\"M720.42,-292C720.42,-292 593.28,-292 593.28,-292 587.28,-292 581.28,-286 581.28,-280 581.28,-280 581.28,-226 581.28,-226 581.28,-220 587.28,-214 593.28,-214 593.28,-214 720.42,-214 720.42,-214 726.42,-214 732.42,-220 732.42,-226 732.42,-226 732.42,-280 732.42,-280 732.42,-286 726.42,-292 720.42,-292\"/>\n",
       "<text text-anchor=\"start\" x=\"589.31\" y=\"-276.8\" font-family=\"Helvetica,sans-Serif\" font-size=\"14.00\">x gk position ≤ 114.85</text>\n",
       "<text text-anchor=\"start\" x=\"620.46\" y=\"-262.8\" font-family=\"Helvetica,sans-Serif\" font-size=\"14.00\">gini = 0.155</text>\n",
       "<text text-anchor=\"start\" x=\"607.23\" y=\"-248.8\" font-family=\"Helvetica,sans-Serif\" font-size=\"14.00\">samples = 5132</text>\n",
       "<text text-anchor=\"start\" x=\"597.11\" y=\"-234.8\" font-family=\"Helvetica,sans-Serif\" font-size=\"14.00\">value = [4697, 435]</text>\n",
       "<text text-anchor=\"start\" x=\"607.24\" y=\"-220.8\" font-family=\"Helvetica,sans-Serif\" font-size=\"14.00\">class = No Goal</text>\n",
       "</g>\n",
       "<!-- 0&#45;&gt;8 -->\n",
       "<g id=\"edge8\" class=\"edge\">\n",
       "<title>0&#45;&gt;8</title>\n",
       "<path fill=\"none\" stroke=\"black\" d=\"M566.61,-327.77C578.08,-318.4 590.45,-308.29 602.24,-298.64\"/>\n",
       "<polygon fill=\"black\" stroke=\"black\" points=\"604.77,-301.1 610.3,-292.06 600.34,-295.68 604.77,-301.1\"/>\n",
       "<text text-anchor=\"middle\" x=\"607.8\" y=\"-312.73\" font-family=\"Helvetica,sans-Serif\" font-size=\"14.00\">False</text>\n",
       "</g>\n",
       "<!-- 2 -->\n",
       "<g id=\"node3\" class=\"node\">\n",
       "<title>2</title>\n",
       "<path fill=\"#e58139\" fill-opacity=\"0.615686\" stroke=\"black\" d=\"M273.42,-178C273.42,-178 146.28,-178 146.28,-178 140.28,-178 134.28,-172 134.28,-166 134.28,-166 134.28,-112 134.28,-112 134.28,-106 140.28,-100 146.28,-100 146.28,-100 273.42,-100 273.42,-100 279.42,-100 285.42,-106 285.42,-112 285.42,-112 285.42,-166 285.42,-166 285.42,-172 279.42,-178 273.42,-178\"/>\n",
       "<text text-anchor=\"start\" x=\"142.31\" y=\"-162.8\" font-family=\"Helvetica,sans-Serif\" font-size=\"14.00\">x gk position ≤ 118.35</text>\n",
       "<text text-anchor=\"start\" x=\"173.46\" y=\"-148.8\" font-family=\"Helvetica,sans-Serif\" font-size=\"14.00\">gini = 0.402</text>\n",
       "<text text-anchor=\"start\" x=\"160.23\" y=\"-134.8\" font-family=\"Helvetica,sans-Serif\" font-size=\"14.00\">samples = 1594</text>\n",
       "<text text-anchor=\"start\" x=\"150.62\" y=\"-120.8\" font-family=\"Helvetica,sans-Serif\" font-size=\"14.00\">value = [1150, 444]</text>\n",
       "<text text-anchor=\"start\" x=\"160.24\" y=\"-106.8\" font-family=\"Helvetica,sans-Serif\" font-size=\"14.00\">class = No Goal</text>\n",
       "</g>\n",
       "<!-- 1&#45;&gt;2 -->\n",
       "<g id=\"edge2\" class=\"edge\">\n",
       "<title>1&#45;&gt;2</title>\n",
       "<path fill=\"none\" stroke=\"black\" d=\"M336.58,-213.93C319.73,-204.1 301.47,-193.45 284.2,-183.37\"/>\n",
       "<polygon fill=\"black\" stroke=\"black\" points=\"285.67,-180.17 275.27,-178.16 282.14,-186.22 285.67,-180.17\"/>\n",
       "</g>\n",
       "<!-- 5 -->\n",
       "<g id=\"node6\" class=\"node\">\n",
       "<title>5</title>\n",
       "<path fill=\"#399de5\" fill-opacity=\"0.831373\" stroke=\"black\" d=\"M455.43,-178C455.43,-178 348.27,-178 348.27,-178 342.27,-178 336.27,-172 336.27,-166 336.27,-166 336.27,-112 336.27,-112 336.27,-106 342.27,-100 348.27,-100 348.27,-100 455.43,-100 455.43,-100 461.43,-100 467.43,-106 467.43,-112 467.43,-112 467.43,-166 467.43,-166 467.43,-172 461.43,-178 455.43,-178\"/>\n",
       "<text text-anchor=\"start\" x=\"344.31\" y=\"-162.8\" font-family=\"Helvetica,sans-Serif\" font-size=\"14.00\">Regular Play ≤ 0.5</text>\n",
       "<text text-anchor=\"start\" x=\"365.46\" y=\"-148.8\" font-family=\"Helvetica,sans-Serif\" font-size=\"14.00\">gini = 0.247</text>\n",
       "<text text-anchor=\"start\" x=\"360.02\" y=\"-134.8\" font-family=\"Helvetica,sans-Serif\" font-size=\"14.00\">samples = 83</text>\n",
       "<text text-anchor=\"start\" x=\"353.79\" y=\"-120.8\" font-family=\"Helvetica,sans-Serif\" font-size=\"14.00\">value = [12, 71]</text>\n",
       "<text text-anchor=\"start\" x=\"363.14\" y=\"-106.8\" font-family=\"Helvetica,sans-Serif\" font-size=\"14.00\">class = Goal</text>\n",
       "</g>\n",
       "<!-- 1&#45;&gt;5 -->\n",
       "<g id=\"edge5\" class=\"edge\">\n",
       "<title>1&#45;&gt;5</title>\n",
       "<path fill=\"none\" stroke=\"black\" d=\"M401.85,-213.77C401.85,-205.57 401.85,-196.8 401.85,-188.28\"/>\n",
       "<polygon fill=\"black\" stroke=\"black\" points=\"405.35,-188.06 401.85,-178.06 398.35,-188.06 405.35,-188.06\"/>\n",
       "</g>\n",
       "<!-- 3 -->\n",
       "<g id=\"node4\" class=\"node\">\n",
       "<title>3</title>\n",
       "<path fill=\"#e58139\" fill-opacity=\"0.250980\" stroke=\"black\" d=\"M115.55,-64C115.55,-64 12.15,-64 12.15,-64 6.15,-64 0.15,-58 0.15,-52 0.15,-52 0.15,-12 0.15,-12 0.15,-6 6.15,0 12.15,0 12.15,0 115.55,0 115.55,0 121.55,0 127.55,-6 127.55,-12 127.55,-12 127.55,-52 127.55,-52 127.55,-58 121.55,-64 115.55,-64\"/>\n",
       "<text text-anchor=\"start\" x=\"31.35\" y=\"-48.8\" font-family=\"Helvetica,sans-Serif\" font-size=\"14.00\">gini = 0.49</text>\n",
       "<text text-anchor=\"start\" x=\"18.13\" y=\"-34.8\" font-family=\"Helvetica,sans-Serif\" font-size=\"14.00\">samples = 615</text>\n",
       "<text text-anchor=\"start\" x=\"8\" y=\"-20.8\" font-family=\"Helvetica,sans-Serif\" font-size=\"14.00\">value = [352, 263]</text>\n",
       "<text text-anchor=\"start\" x=\"14.24\" y=\"-6.8\" font-family=\"Helvetica,sans-Serif\" font-size=\"14.00\">class = No Goal</text>\n",
       "</g>\n",
       "<!-- 2&#45;&gt;3 -->\n",
       "<g id=\"edge3\" class=\"edge\">\n",
       "<title>2&#45;&gt;3</title>\n",
       "<path fill=\"none\" stroke=\"black\" d=\"M156.73,-99.8C143.22,-90.08 128.74,-79.67 115.32,-70.01\"/>\n",
       "<polygon fill=\"black\" stroke=\"black\" points=\"117.28,-67.11 107.12,-64.12 113.19,-72.8 117.28,-67.11\"/>\n",
       "</g>\n",
       "<!-- 4 -->\n",
       "<g id=\"node5\" class=\"node\">\n",
       "<title>4</title>\n",
       "<path fill=\"#e58139\" fill-opacity=\"0.772549\" stroke=\"black\" d=\"M261.55,-64C261.55,-64 158.15,-64 158.15,-64 152.15,-64 146.15,-58 146.15,-52 146.15,-52 146.15,-12 146.15,-12 146.15,-6 152.15,0 158.15,0 158.15,0 261.55,0 261.55,0 267.55,0 273.55,-6 273.55,-12 273.55,-12 273.55,-52 273.55,-52 273.55,-58 267.55,-64 261.55,-64\"/>\n",
       "<text text-anchor=\"start\" x=\"173.46\" y=\"-48.8\" font-family=\"Helvetica,sans-Serif\" font-size=\"14.00\">gini = 0.301</text>\n",
       "<text text-anchor=\"start\" x=\"164.13\" y=\"-34.8\" font-family=\"Helvetica,sans-Serif\" font-size=\"14.00\">samples = 979</text>\n",
       "<text text-anchor=\"start\" x=\"154\" y=\"-20.8\" font-family=\"Helvetica,sans-Serif\" font-size=\"14.00\">value = [798, 181]</text>\n",
       "<text text-anchor=\"start\" x=\"160.24\" y=\"-6.8\" font-family=\"Helvetica,sans-Serif\" font-size=\"14.00\">class = No Goal</text>\n",
       "</g>\n",
       "<!-- 2&#45;&gt;4 -->\n",
       "<g id=\"edge4\" class=\"edge\">\n",
       "<title>2&#45;&gt;4</title>\n",
       "<path fill=\"none\" stroke=\"black\" d=\"M209.85,-99.8C209.85,-91.46 209.85,-82.6 209.85,-74.15\"/>\n",
       "<polygon fill=\"black\" stroke=\"black\" points=\"213.35,-74.12 209.85,-64.12 206.35,-74.12 213.35,-74.12\"/>\n",
       "</g>\n",
       "<!-- 6 -->\n",
       "<g id=\"node7\" class=\"node\">\n",
       "<title>6</title>\n",
       "<path fill=\"#399de5\" fill-opacity=\"0.886275\" stroke=\"black\" d=\"M384.19,-64C384.19,-64 303.51,-64 303.51,-64 297.51,-64 291.51,-58 291.51,-52 291.51,-52 291.51,-12 291.51,-12 291.51,-6 297.51,0 303.51,0 303.51,0 384.19,0 384.19,0 390.19,0 396.19,-6 396.19,-12 396.19,-12 396.19,-52 396.19,-52 396.19,-58 390.19,-64 384.19,-64\"/>\n",
       "<text text-anchor=\"start\" x=\"307.46\" y=\"-48.8\" font-family=\"Helvetica,sans-Serif\" font-size=\"14.00\">gini = 0.182</text>\n",
       "<text text-anchor=\"start\" x=\"302.02\" y=\"-34.8\" font-family=\"Helvetica,sans-Serif\" font-size=\"14.00\">samples = 79</text>\n",
       "<text text-anchor=\"start\" x=\"299.68\" y=\"-20.8\" font-family=\"Helvetica,sans-Serif\" font-size=\"14.00\">value = [8, 71]</text>\n",
       "<text text-anchor=\"start\" x=\"305.14\" y=\"-6.8\" font-family=\"Helvetica,sans-Serif\" font-size=\"14.00\">class = Goal</text>\n",
       "</g>\n",
       "<!-- 5&#45;&gt;6 -->\n",
       "<g id=\"edge6\" class=\"edge\">\n",
       "<title>5&#45;&gt;6</title>\n",
       "<path fill=\"none\" stroke=\"black\" d=\"M380.75,-99.8C375.94,-91.09 370.82,-81.82 365.97,-73.04\"/>\n",
       "<polygon fill=\"black\" stroke=\"black\" points=\"368.94,-71.18 361.04,-64.12 362.81,-74.56 368.94,-71.18\"/>\n",
       "</g>\n",
       "<!-- 7 -->\n",
       "<g id=\"node8\" class=\"node\">\n",
       "<title>7</title>\n",
       "<path fill=\"#e58139\" stroke=\"black\" d=\"M517.56,-64C517.56,-64 426.14,-64 426.14,-64 420.14,-64 414.14,-58 414.14,-52 414.14,-52 414.14,-12 414.14,-12 414.14,-6 420.14,0 426.14,0 426.14,0 517.56,0 517.56,0 523.56,0 529.56,-6 529.56,-12 529.56,-12 529.56,-52 529.56,-52 529.56,-58 523.56,-64 517.56,-64\"/>\n",
       "<text text-anchor=\"start\" x=\"443.24\" y=\"-48.8\" font-family=\"Helvetica,sans-Serif\" font-size=\"14.00\">gini = 0.0</text>\n",
       "<text text-anchor=\"start\" x=\"433.91\" y=\"-34.8\" font-family=\"Helvetica,sans-Serif\" font-size=\"14.00\">samples = 4</text>\n",
       "<text text-anchor=\"start\" x=\"431.57\" y=\"-20.8\" font-family=\"Helvetica,sans-Serif\" font-size=\"14.00\">value = [4, 0]</text>\n",
       "<text text-anchor=\"start\" x=\"422.24\" y=\"-6.8\" font-family=\"Helvetica,sans-Serif\" font-size=\"14.00\">class = No Goal</text>\n",
       "</g>\n",
       "<!-- 5&#45;&gt;7 -->\n",
       "<g id=\"edge7\" class=\"edge\">\n",
       "<title>5&#45;&gt;7</title>\n",
       "<path fill=\"none\" stroke=\"black\" d=\"M427.32,-99.8C433.24,-90.91 439.56,-81.43 445.52,-72.49\"/>\n",
       "<polygon fill=\"black\" stroke=\"black\" points=\"448.47,-74.38 451.1,-64.12 442.65,-70.5 448.47,-74.38\"/>\n",
       "</g>\n",
       "<!-- 9 -->\n",
       "<g id=\"node10\" class=\"node\">\n",
       "<title>9</title>\n",
       "<path fill=\"#e58139\" fill-opacity=\"0.603922\" stroke=\"black\" d=\"M719.32,-178C719.32,-178 594.38,-178 594.38,-178 588.38,-178 582.38,-172 582.38,-166 582.38,-166 582.38,-112 582.38,-112 582.38,-106 588.38,-100 594.38,-100 594.38,-100 719.32,-100 719.32,-100 725.32,-100 731.32,-106 731.32,-112 731.32,-112 731.32,-166 731.32,-166 731.32,-172 725.32,-178 719.32,-178\"/>\n",
       "<text text-anchor=\"start\" x=\"590.36\" y=\"-162.8\" font-family=\"Helvetica,sans-Serif\" font-size=\"14.00\">x start location ≤ 98.5</text>\n",
       "<text text-anchor=\"start\" x=\"620.46\" y=\"-148.8\" font-family=\"Helvetica,sans-Serif\" font-size=\"14.00\">gini = 0.407</text>\n",
       "<text text-anchor=\"start\" x=\"611.13\" y=\"-134.8\" font-family=\"Helvetica,sans-Serif\" font-size=\"14.00\">samples = 563</text>\n",
       "<text text-anchor=\"start\" x=\"601\" y=\"-120.8\" font-family=\"Helvetica,sans-Serif\" font-size=\"14.00\">value = [403, 160]</text>\n",
       "<text text-anchor=\"start\" x=\"607.24\" y=\"-106.8\" font-family=\"Helvetica,sans-Serif\" font-size=\"14.00\">class = No Goal</text>\n",
       "</g>\n",
       "<!-- 8&#45;&gt;9 -->\n",
       "<g id=\"edge9\" class=\"edge\">\n",
       "<title>8&#45;&gt;9</title>\n",
       "<path fill=\"none\" stroke=\"black\" d=\"M656.85,-213.77C656.85,-205.57 656.85,-196.8 656.85,-188.28\"/>\n",
       "<polygon fill=\"black\" stroke=\"black\" points=\"660.35,-188.06 656.85,-178.06 653.35,-188.06 660.35,-188.06\"/>\n",
       "</g>\n",
       "<!-- 12 -->\n",
       "<g id=\"node13\" class=\"node\">\n",
       "<title>12</title>\n",
       "<path fill=\"#e58139\" fill-opacity=\"0.937255\" stroke=\"black\" d=\"M973.56,-178C973.56,-178 814.14,-178 814.14,-178 808.14,-178 802.14,-172 802.14,-166 802.14,-166 802.14,-112 802.14,-112 802.14,-106 808.14,-100 814.14,-100 814.14,-100 973.56,-100 973.56,-100 979.56,-100 985.56,-106 985.56,-112 985.56,-112 985.56,-166 985.56,-166 985.56,-172 979.56,-178 973.56,-178\"/>\n",
       "<text text-anchor=\"start\" x=\"810.24\" y=\"-162.8\" font-family=\"Helvetica,sans-Serif\" font-size=\"14.00\">Distance from goal ≤ 19.32</text>\n",
       "<text text-anchor=\"start\" x=\"857.97\" y=\"-148.8\" font-family=\"Helvetica,sans-Serif\" font-size=\"14.00\">gini = 0.113</text>\n",
       "<text text-anchor=\"start\" x=\"844.23\" y=\"-134.8\" font-family=\"Helvetica,sans-Serif\" font-size=\"14.00\">samples = 4569</text>\n",
       "<text text-anchor=\"start\" x=\"834.11\" y=\"-120.8\" font-family=\"Helvetica,sans-Serif\" font-size=\"14.00\">value = [4294, 275]</text>\n",
       "<text text-anchor=\"start\" x=\"844.24\" y=\"-106.8\" font-family=\"Helvetica,sans-Serif\" font-size=\"14.00\">class = No Goal</text>\n",
       "</g>\n",
       "<!-- 8&#45;&gt;12 -->\n",
       "<g id=\"edge12\" class=\"edge\">\n",
       "<title>8&#45;&gt;12</title>\n",
       "<path fill=\"none\" stroke=\"black\" d=\"M732.49,-216.25C755.21,-205.52 780.36,-193.63 803.92,-182.5\"/>\n",
       "<polygon fill=\"black\" stroke=\"black\" points=\"805.66,-185.55 813.2,-178.11 802.66,-179.22 805.66,-185.55\"/>\n",
       "</g>\n",
       "<!-- 10 -->\n",
       "<g id=\"node11\" class=\"node\">\n",
       "<title>10</title>\n",
       "<path fill=\"#e58139\" fill-opacity=\"0.929412\" stroke=\"black\" d=\"M650.56,-64C650.56,-64 559.14,-64 559.14,-64 553.14,-64 547.14,-58 547.14,-52 547.14,-52 547.14,-12 547.14,-12 547.14,-6 553.14,0 559.14,0 559.14,0 650.56,0 650.56,0 656.56,0 662.56,-6 662.56,-12 662.56,-12 662.56,-52 662.56,-52 662.56,-58 656.56,-64 650.56,-64\"/>\n",
       "<text text-anchor=\"start\" x=\"568.46\" y=\"-48.8\" font-family=\"Helvetica,sans-Serif\" font-size=\"14.00\">gini = 0.123</text>\n",
       "<text text-anchor=\"start\" x=\"559.13\" y=\"-34.8\" font-family=\"Helvetica,sans-Serif\" font-size=\"14.00\">samples = 106</text>\n",
       "<text text-anchor=\"start\" x=\"560.68\" y=\"-20.8\" font-family=\"Helvetica,sans-Serif\" font-size=\"14.00\">value = [99, 7]</text>\n",
       "<text text-anchor=\"start\" x=\"555.24\" y=\"-6.8\" font-family=\"Helvetica,sans-Serif\" font-size=\"14.00\">class = No Goal</text>\n",
       "</g>\n",
       "<!-- 9&#45;&gt;10 -->\n",
       "<g id=\"edge10\" class=\"edge\">\n",
       "<title>9&#45;&gt;10</title>\n",
       "<path fill=\"none\" stroke=\"black\" d=\"M637.93,-99.8C633.66,-91.18 629.12,-82.02 624.82,-73.32\"/>\n",
       "<polygon fill=\"black\" stroke=\"black\" points=\"627.83,-71.53 620.26,-64.12 621.56,-74.63 627.83,-71.53\"/>\n",
       "</g>\n",
       "<!-- 11 -->\n",
       "<g id=\"node12\" class=\"node\">\n",
       "<title>11</title>\n",
       "<path fill=\"#e58139\" fill-opacity=\"0.498039\" stroke=\"black\" d=\"M795.55,-64C795.55,-64 692.15,-64 692.15,-64 686.15,-64 680.15,-58 680.15,-52 680.15,-52 680.15,-12 680.15,-12 680.15,-6 686.15,0 692.15,0 692.15,0 795.55,0 795.55,0 801.55,0 807.55,-6 807.55,-12 807.55,-12 807.55,-52 807.55,-52 807.55,-58 801.55,-64 795.55,-64\"/>\n",
       "<text text-anchor=\"start\" x=\"707.46\" y=\"-48.8\" font-family=\"Helvetica,sans-Serif\" font-size=\"14.00\">gini = 0.445</text>\n",
       "<text text-anchor=\"start\" x=\"698.13\" y=\"-34.8\" font-family=\"Helvetica,sans-Serif\" font-size=\"14.00\">samples = 457</text>\n",
       "<text text-anchor=\"start\" x=\"688\" y=\"-20.8\" font-family=\"Helvetica,sans-Serif\" font-size=\"14.00\">value = [304, 153]</text>\n",
       "<text text-anchor=\"start\" x=\"694.24\" y=\"-6.8\" font-family=\"Helvetica,sans-Serif\" font-size=\"14.00\">class = No Goal</text>\n",
       "</g>\n",
       "<!-- 9&#45;&gt;11 -->\n",
       "<g id=\"edge11\" class=\"edge\">\n",
       "<title>9&#45;&gt;11</title>\n",
       "<path fill=\"none\" stroke=\"black\" d=\"M688.5,-99.8C696.02,-90.73 704.05,-81.04 711.59,-71.94\"/>\n",
       "<polygon fill=\"black\" stroke=\"black\" points=\"714.38,-74.05 718.07,-64.12 708.99,-69.58 714.38,-74.05\"/>\n",
       "</g>\n",
       "<!-- 13 -->\n",
       "<g id=\"node14\" class=\"node\">\n",
       "<title>13</title>\n",
       "<path fill=\"#e58139\" fill-opacity=\"0.890196\" stroke=\"black\" d=\"M949.84,-64C949.84,-64 837.86,-64 837.86,-64 831.86,-64 825.86,-58 825.86,-52 825.86,-52 825.86,-12 825.86,-12 825.86,-6 831.86,0 837.86,0 837.86,0 949.84,0 949.84,0 955.84,0 961.84,-6 961.84,-12 961.84,-12 961.84,-52 961.84,-52 961.84,-58 955.84,-64 949.84,-64\"/>\n",
       "<text text-anchor=\"start\" x=\"857.46\" y=\"-48.8\" font-family=\"Helvetica,sans-Serif\" font-size=\"14.00\">gini = 0.179</text>\n",
       "<text text-anchor=\"start\" x=\"844.23\" y=\"-34.8\" font-family=\"Helvetica,sans-Serif\" font-size=\"14.00\">samples = 1574</text>\n",
       "<text text-anchor=\"start\" x=\"834.11\" y=\"-20.8\" font-family=\"Helvetica,sans-Serif\" font-size=\"14.00\">value = [1418, 156]</text>\n",
       "<text text-anchor=\"start\" x=\"844.24\" y=\"-6.8\" font-family=\"Helvetica,sans-Serif\" font-size=\"14.00\">class = No Goal</text>\n",
       "</g>\n",
       "<!-- 12&#45;&gt;13 -->\n",
       "<g id=\"edge13\" class=\"edge\">\n",
       "<title>12&#45;&gt;13</title>\n",
       "<path fill=\"none\" stroke=\"black\" d=\"M893.85,-99.8C893.85,-91.46 893.85,-82.6 893.85,-74.15\"/>\n",
       "<polygon fill=\"black\" stroke=\"black\" points=\"897.35,-74.12 893.85,-64.12 890.35,-74.12 897.35,-74.12\"/>\n",
       "</g>\n",
       "<!-- 14 -->\n",
       "<g id=\"node15\" class=\"node\">\n",
       "<title>14</title>\n",
       "<path fill=\"#e58139\" fill-opacity=\"0.956863\" stroke=\"black\" d=\"M1102.3,-64C1102.3,-64 991.4,-64 991.4,-64 985.4,-64 979.4,-58 979.4,-52 979.4,-52 979.4,-12 979.4,-12 979.4,-6 985.4,0 991.4,0 991.4,0 1102.3,0 1102.3,0 1108.3,0 1114.3,-6 1114.3,-12 1114.3,-12 1114.3,-52 1114.3,-52 1114.3,-58 1108.3,-64 1102.3,-64\"/>\n",
       "<text text-anchor=\"start\" x=\"1010.46\" y=\"-48.8\" font-family=\"Helvetica,sans-Serif\" font-size=\"14.00\">gini = 0.076</text>\n",
       "<text text-anchor=\"start\" x=\"997.23\" y=\"-34.8\" font-family=\"Helvetica,sans-Serif\" font-size=\"14.00\">samples = 2995</text>\n",
       "<text text-anchor=\"start\" x=\"987.62\" y=\"-20.8\" font-family=\"Helvetica,sans-Serif\" font-size=\"14.00\">value = [2876, 119]</text>\n",
       "<text text-anchor=\"start\" x=\"997.24\" y=\"-6.8\" font-family=\"Helvetica,sans-Serif\" font-size=\"14.00\">class = No Goal</text>\n",
       "</g>\n",
       "<!-- 12&#45;&gt;14 -->\n",
       "<g id=\"edge14\" class=\"edge\">\n",
       "<title>12&#45;&gt;14</title>\n",
       "<path fill=\"none\" stroke=\"black\" d=\"M949.52,-99.8C963.67,-90.08 978.85,-79.67 992.91,-70.01\"/>\n",
       "<polygon fill=\"black\" stroke=\"black\" points=\"995.24,-72.66 1001.51,-64.12 991.28,-66.89 995.24,-72.66\"/>\n",
       "</g>\n",
       "</g>\n",
       "</svg>\n"
      ],
      "text/plain": [
       "<graphviz.files.Source at 0x1bddcfb710>"
      ]
     },
     "execution_count": 146,
     "metadata": {},
     "output_type": "execute_result"
    }
   ],
   "source": [
    "graph = save_and_show_decision_tree(tree_class,\n",
    "                                    class_names = [\"No Goal\",\"Goal\"],\n",
    "                                    feature_names = total_features)\n",
    "graph"
   ]
  },
  {
   "cell_type": "code",
   "execution_count": null,
   "metadata": {},
   "outputs": [],
   "source": []
  }
 ],
 "metadata": {
  "kernelspec": {
   "display_name": "Python 3",
   "language": "python",
   "name": "python3"
  },
  "language_info": {
   "codemirror_mode": {
    "name": "ipython",
    "version": 3
   },
   "file_extension": ".py",
   "mimetype": "text/x-python",
   "name": "python",
   "nbconvert_exporter": "python",
   "pygments_lexer": "ipython3",
   "version": "3.7.4"
  }
 },
 "nbformat": 4,
 "nbformat_minor": 4
}
